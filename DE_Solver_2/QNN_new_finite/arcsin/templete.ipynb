{
 "cells": [
  {
   "cell_type": "code",
   "execution_count": 16,
   "metadata": {},
   "outputs": [],
   "source": [
    "from math import pi\n",
    "import matplotlib.pyplot as plt\n",
    "from pennylane import numpy as np\n",
    "import pennylane as qml\n",
    "from pennylane.optimize import AdamOptimizer\n",
    "import datetime\n",
    "now=datetime.datetime.now"
   ]
  },
  {
   "cell_type": "code",
   "execution_count": 17,
   "metadata": {},
   "outputs": [
    {
     "name": "stdout",
     "output_type": "stream",
     "text": [
      "(30,)\n"
     ]
    }
   ],
   "source": [
    "# 0-1 50\n",
    "np.random.seed(1)\n",
    "t_data = np.array([0.0, 0.034482758620689655, 0.06896551724137931, 0.10344827586206896, 0.13793103448275862, 0.1724137931034483, 0.20689655172413793, 0.2413793103448276, 0.27586206896551724, 0.3103448275862069, 0.3448275862068966, 0.3793103448275862, 0.41379310344827586, 0.4482758620689655, 0.4827586206896552, 0.5172413793103449, 0.5517241379310345, 0.5862068965517241, 0.6206896551724138, 0.6551724137931034, 0.6896551724137931, 0.7241379310344828, 0.7586206896551724, 0.7931034482758621, 0.8275862068965517, 0.8620689655172413, 0.896551724137931, 0.9310344827586207, 0.9655172413793104, 1.0])\n",
    "delta_real = np.array([-1.0, -0.7580154990560892, -0.5161437433812334, -0.2766048537207341, -0.041802674575424616, 0.1858833970784918, 0.4042480529018171, 0.6114303693104511, 0.8059786334143284, 0.9869146162730239, 1.153731102545101, 1.306287083509873, 1.4447964009065875, 1.569756535500465, 1.6818505996838096, 1.7818607204031671, 1.870659268765975, 1.9491714805132159, 2.01826958097265, 2.078783646966857, 2.131508852922671, 2.177205470871178, 2.2165986052292843, 2.2503340570846433, 2.278941382471026, 2.3029040274854604, 2.3226653388639713, 2.338628563981579, 2.351156850852302, 2.3605517871991557])\n",
    "omega_real = np.array([383.9911, 384.01706751326924, 383.9828885247102, 383.8808125971688, 383.7084372056539, 383.4687638670096, 383.1696101373725, 382.8221351721135, 382.4394049518417, 382.03499070163184, 381.62150213890624, 381.2097329925458, 380.80859013730577, 380.4246713030564, 380.062383889052, 379.7245813646966, 379.4126024886706, 379.12660170864535, 378.8658653877571, 378.62924003544396, 378.41531030130216, 378.2223989750864, 378.0485689853088, 377.89187938330747, 377.75062031062566, 377.62313745605, 377.50784802000675, 377.4032407145614, 377.30787576341896, 377.2204251497879])\n",
    "print(delta_real.shape)"
   ]
  },
  {
   "cell_type": "code",
   "execution_count": null,
   "metadata": {},
   "outputs": [],
   "source": [
    "# 0-0.2 10"
   ]
  },
  {
   "cell_type": "code",
   "execution_count": 18,
   "metadata": {},
   "outputs": [],
   "source": [
    "num_qubits=6\n",
    "dev=qml.device('default.qubit', wires=num_qubits)\n",
    "\n",
    "# define my own embedding layer\n",
    "def myembedding(x,wires):\n",
    "    qml.RY(np.arcsin(x), wires=wires[0])\n",
    "    qml.RY(2*pi*x, wires=wires[1])\n",
    "\n",
    "\n",
    "def Ham():\n",
    "    obs=[]\n",
    "    for j in range(num_qubits):\n",
    "        obs.append(qml.PauliX(j))\n",
    "        for k in range(j):\n",
    "            obs.append(qml.PauliZ(j)@qml.PauliZ(k))\n",
    "    coeffs=np.random.uniform(-1,1,len(obs))*10\n",
    "    qml.Hamiltonian(coeffs, obs)\n",
    "\n",
    "# define ansastz layer\n",
    "def layer(theta):\n",
    "    \n",
    "    # Apply Hamiltonian matrix\n",
    "    Ham()\n",
    "    \n",
    "    # Apply H gate\n",
    "    qml.Hadamard(0)\n",
    "    \n",
    "    # rotations on qubits\n",
    "    qml.RY(theta[0],wires=0)\n",
    "    qml.RY(theta[1],wires=1)\n",
    "    \n",
    "    # CNOT\n",
    "    qml.CNOT(wires=[0, 1])\n",
    "\n",
    "@qml.qnode(dev)\n",
    "def quantum_net(theta,x):\n",
    "    \n",
    "    # encode data\n",
    "    myembedding(x,wires=range(num_qubits))\n",
    "    \n",
    "    # parameterized circuit layers\n",
    "    for v in theta: # (for lool along with the first dimension)\n",
    "        # print(v)\n",
    "        # Ham()\n",
    "        layer(v)\n",
    "    \n",
    "    qml.Hadamard(0)\n",
    "    \n",
    "    return qml.expval(qml.PauliZ(0))\n",
    "\n"
   ]
  },
  {
   "cell_type": "code",
   "execution_count": null,
   "metadata": {},
   "outputs": [],
   "source": []
  },
  {
   "cell_type": "code",
   "execution_count": 19,
   "metadata": {},
   "outputs": [
    {
     "name": "stdout",
     "output_type": "stream",
     "text": [
      "(4, 6)\n",
      "0: ──RY(0.00)──H─────────RY(2.62)─╭●──H─────────RY(1.17)─╭●──H─────────RY(1.28)─╭●──H───────\n",
      "1: ──RY(0.00)──RY(4.53)───────────╰X──RY(2.17)───────────╰X──RY(5.52)───────────╰X──RY(1.24)\n",
      "\n",
      "───RY(0.88)─╭●──H─┤  <Z>\n",
      "────────────╰X────┤     \n"
     ]
    }
   ],
   "source": [
    "num_layers=4\n",
    "theta=np.random.uniform(0,2*pi,size=(num_layers,num_qubits),requires_grad=True)\n",
    "print(theta.shape)\n",
    "# print(theta)\n",
    "print(qml.draw(quantum_net)(theta,0))\n"
   ]
  },
  {
   "cell_type": "code",
   "execution_count": null,
   "metadata": {},
   "outputs": [],
   "source": []
  },
  {
   "cell_type": "code",
   "execution_count": 20,
   "metadata": {},
   "outputs": [],
   "source": [
    "# add the classical layer\n",
    "def classical_quantum_net(theta,w,x):\n",
    "    r=quantum_net(theta,x)\n",
    "    return w[0]+w[1]*r+w[2]*r**2"
   ]
  },
  {
   "cell_type": "code",
   "execution_count": 21,
   "metadata": {},
   "outputs": [],
   "source": [
    "def square_loss(labels,predictions):\n",
    "    loss=0\n",
    "    for l,p in zip(labels,predictions):\n",
    "        loss=loss+(l-p)**2\n",
    "    loss=loss/len(labels)\n",
    "    return loss\n",
    "\n",
    "def cost(theta,w,features,labels):\n",
    "    preds=[classical_quantum_net(theta,w,x) for x in features]\n",
    "    return square_loss(labels,preds)"
   ]
  },
  {
   "cell_type": "code",
   "execution_count": 22,
   "metadata": {},
   "outputs": [
    {
     "name": "stderr",
     "output_type": "stream",
     "text": [
      "c:\\Users\\acade\\anaconda3\\envs\\q1\\Lib\\site-packages\\pennylane\\numpy\\tensor.py:155: RuntimeWarning: invalid value encountered in divide\n",
      "  res = super().__array_ufunc__(ufunc, method, *args, **kwargs)\n"
     ]
    },
    {
     "name": "stdout",
     "output_type": "stream",
     "text": [
      "Epoch: 1 | Cost: 2.8374222635510664 | w: [ 0.04999999 -0.04999998  0.04999998] | theta: [[2.62022653e+00 4.52593227e+00 7.18638172e-04 1.89961158e+00\n",
      "  9.22094457e-01 5.80180502e-01]\n",
      " [1.17030742e+00 2.17122208e+00 2.49296356e+00 3.38548539e+00\n",
      "  2.63387681e+00 4.30536110e+00]\n",
      " [1.28461137e+00 5.51737457e+00 1.72081323e-01 4.21267161e+00\n",
      "  2.62200340e+00 3.51035172e+00]\n",
      " [8.82077150e-01 1.24470837e+00 5.03122651e+00 6.08376691e+00\n",
      "  1.96930219e+00 4.34999129e+00]]\n"
     ]
    },
    {
     "name": "stderr",
     "output_type": "stream",
     "text": [
      "c:\\Users\\acade\\anaconda3\\envs\\q1\\Lib\\site-packages\\pennylane\\numpy\\tensor.py:155: RuntimeWarning: divide by zero encountered in divide\n",
      "  res = super().__array_ufunc__(ufunc, method, *args, **kwargs)\n"
     ]
    },
    {
     "name": "stdout",
     "output_type": "stream",
     "text": [
      "Epoch: 10 | Cost: 1.262791893783051 | w: [ 0.48583121 -0.49161343  0.48728058] | theta: [[2.96319812e+00 4.14765535e+00 7.18638172e-04 1.89961158e+00\n",
      "  9.22094457e-01 5.80180502e-01]\n",
      " [1.10603779e+00 2.30582271e+00 2.49296356e+00 3.38548539e+00\n",
      "  2.63387681e+00 4.30536110e+00]\n",
      " [1.63454246e+00 5.91995488e+00 1.72081323e-01 4.21267161e+00\n",
      "  2.62200340e+00 3.51035172e+00]\n",
      " [9.08058961e-01 1.21114100e+00 5.03122651e+00 6.08376691e+00\n",
      "  1.96930219e+00 4.34999129e+00]]\n",
      "Epoch: 20 | Cost: 0.539139618726582 | w: [ 0.86782319 -0.8942933   0.86316797] | theta: [[2.99045015e+00 4.39832842e+00 7.18638172e-04 1.89961158e+00\n",
      "  9.22094457e-01 5.80180502e-01]\n",
      " [7.48033002e-01 2.79319440e+00 2.49296356e+00 3.38548539e+00\n",
      "  2.63387681e+00 4.30536110e+00]\n",
      " [1.34993876e+00 5.69942232e+00 1.72081323e-01 4.21267161e+00\n",
      "  2.62200340e+00 3.51035172e+00]\n",
      " [5.90118367e-01 7.57857454e-01 5.03122651e+00 6.08376691e+00\n",
      "  1.96930219e+00 4.34999129e+00]]\n",
      "Epoch: 30 | Cost: 0.34096634277892746 | w: [ 1.00004832 -1.1858086   0.99207113] | theta: [[3.23718850e+00 4.42284103e+00 7.18638172e-04 1.89961158e+00\n",
      "  9.22094457e-01 5.80180502e-01]\n",
      " [6.90543483e-01 3.17842541e+00 2.49296356e+00 3.38548539e+00\n",
      "  2.63387681e+00 4.30536110e+00]\n",
      " [9.56962905e-01 5.54812064e+00 1.72081323e-01 4.21267161e+00\n",
      "  2.62200340e+00 3.51035172e+00]\n",
      " [5.54272707e-01 3.81538318e-01 5.03122651e+00 6.08376691e+00\n",
      "  1.96930219e+00 4.34999129e+00]]\n",
      "Epoch: 40 | Cost: 0.202166441669052 | w: [ 0.94792301 -1.49410361  0.97784095] | theta: [[3.25979558e+00 4.27427185e+00 7.18638172e-04 1.89961158e+00\n",
      "  9.22094457e-01 5.80180502e-01]\n",
      " [7.29753026e-01 3.04864171e+00 2.49296356e+00 3.38548539e+00\n",
      "  2.63387681e+00 4.30536110e+00]\n",
      " [8.42644669e-01 5.65447583e+00 1.72081323e-01 4.21267161e+00\n",
      "  2.62200340e+00 3.51035172e+00]\n",
      " [6.38027239e-01 4.83261856e-01 5.03122651e+00 6.08376691e+00\n",
      "  1.96930219e+00 4.34999129e+00]]\n",
      "Epoch: 50 | Cost: 0.10489986563348135 | w: [ 0.85728846 -1.79402407  0.88034885] | theta: [[3.22654051e+00 4.27093736e+00 7.18638172e-04 1.89961158e+00\n",
      "  9.22094457e-01 5.80180502e-01]\n",
      " [6.86353002e-01 3.15745768e+00 2.49296356e+00 3.38548539e+00\n",
      "  2.63387681e+00 4.30536110e+00]\n",
      " [8.23396951e-01 5.67245745e+00 1.72081323e-01 4.21267161e+00\n",
      "  2.62200340e+00 3.51035172e+00]\n",
      " [6.03919534e-01 3.83661256e-01 5.03122651e+00 6.08376691e+00\n",
      "  1.96930219e+00 4.34999129e+00]]\n",
      "Epoch: 60 | Cost: 0.053013925618221346 | w: [ 0.77508223 -2.03593858  0.78659858] | theta: [[3.17675671e+00 4.36853798e+00 7.18638172e-04 1.89961158e+00\n",
      "  9.22094457e-01 5.80180502e-01]\n",
      " [6.80882663e-01 3.15572666e+00 2.49296356e+00 3.38548539e+00\n",
      "  2.63387681e+00 4.30536110e+00]\n",
      " [8.47323548e-01 5.59265966e+00 1.72081323e-01 4.21267161e+00\n",
      "  2.62200340e+00 3.51035172e+00]\n",
      " [5.80096571e-01 3.99308979e-01 5.03122651e+00 6.08376691e+00\n",
      "  1.96930219e+00 4.34999129e+00]]\n",
      "Epoch: 70 | Cost: 0.031448809254459816 | w: [ 0.7184999  -2.22350265  0.71776611] | theta: [[3.13916614e+00 4.46487365e+00 7.18638172e-04 1.89961158e+00\n",
      "  9.22094457e-01 5.80180502e-01]\n",
      " [6.76792778e-01 3.14465512e+00 2.49296356e+00 3.38548539e+00\n",
      "  2.63387681e+00 4.30536110e+00]\n",
      " [8.70444868e-01 5.51666934e+00 1.72081323e-01 4.21267161e+00\n",
      "  2.62200340e+00 3.51035172e+00]\n",
      " [5.56851005e-01 4.18597996e-01 5.03122651e+00 6.08376691e+00\n",
      "  1.96930219e+00 4.34999129e+00]]\n",
      "Epoch: 80 | Cost: 0.01953497820401885 | w: [ 0.68265656 -2.37387976  0.67306355] | theta: [[3.13867821e+00 4.46860088e+00 7.18638172e-04 1.89961158e+00\n",
      "  9.22094457e-01 5.80180502e-01]\n",
      " [6.72253447e-01 3.15797239e+00 2.49296356e+00 3.38548539e+00\n",
      "  2.63387681e+00 4.30536110e+00]\n",
      " [8.65944821e-01 5.51648155e+00 1.72081323e-01 4.21267161e+00\n",
      "  2.62200340e+00 3.51035172e+00]\n",
      " [5.53188638e-01 4.05685068e-01 5.03122651e+00 6.08376691e+00\n",
      "  1.96930219e+00 4.34999129e+00]]\n",
      "Epoch: 90 | Cost: 0.013749088314500557 | w: [ 0.65953152 -2.4832833   0.64197379] | theta: [[3.12491409e+00 4.48912680e+00 7.18638172e-04 1.89961158e+00\n",
      "  9.22094457e-01 5.80180502e-01]\n",
      " [6.72346355e-01 3.16887956e+00 2.49296356e+00 3.38548539e+00\n",
      "  2.63387681e+00 4.30536110e+00]\n",
      " [8.76121507e-01 5.49951130e+00 1.72081323e-01 4.21267161e+00\n",
      "  2.62200340e+00 3.51035172e+00]\n",
      " [5.48800592e-01 3.98046020e-01 5.03122651e+00 6.08376691e+00\n",
      "  1.96930219e+00 4.34999129e+00]]\n",
      "Epoch: 100 | Cost: 0.010785274590373428 | w: [ 0.64449102 -2.56483334  0.61910745] | theta: [[3.11601929e+00 4.51893931e+00 7.18638172e-04 1.89961158e+00\n",
      "  9.22094457e-01 5.80180502e-01]\n",
      " [6.71595064e-01 3.17384670e+00 2.49296356e+00 3.38548539e+00\n",
      "  2.63387681e+00 4.30536110e+00]\n",
      " [8.83112186e-01 5.47660690e+00 1.72081323e-01 4.21267161e+00\n",
      "  2.62200340e+00 3.51035172e+00]\n",
      " [5.40893109e-01 3.95124304e-01 5.03122651e+00 6.08376691e+00\n",
      "  1.96930219e+00 4.34999129e+00]]\n"
     ]
    }
   ],
   "source": [
    "w=np.zeros(3,requires_grad=True)\n",
    "# w = np.array([ 0.63226731, -0.04043822,  0.10383093])\n",
    "opt = AdamOptimizer(0.05, beta1=0.9, beta2=0.999)\n",
    "\n",
    "\n",
    "epochs=100\n",
    "for e in range(1,epochs+1):\n",
    "    \n",
    "    (theta,w,_,_),_cost=opt.step_and_cost(cost,theta,w,t_data,delta_real)\n",
    "    if e==1 or e%10==0:\n",
    "        print(f'Epoch: {e} | Cost: {_cost} | w: {w} | theta: {theta}')"
   ]
  },
  {
   "cell_type": "code",
   "execution_count": 23,
   "metadata": {},
   "outputs": [],
   "source": [
    "delta_pred=np.array([classical_quantum_net(theta,w,t) for t in t_data])"
   ]
  },
  {
   "cell_type": "code",
   "execution_count": 24,
   "metadata": {},
   "outputs": [
    {
     "data": {
      "image/png": "[encoded data removed]",
      "text/plain": [
       "<Figure size 640x480 with 1 Axes>"
      ]
     },
     "metadata": {},
     "output_type": "display_data"
    }
   ],
   "source": [
    "plt.figure()\n",
    "plt.scatter(t_data,delta_real,facecolors='none', edgecolors='b', label='True')\n",
    "plt.scatter(t_data,delta_pred, color='red',marker=\"x\",s=4,label='Prediction')\n",
    "plt.xlabel('x',fontsize=16)\n",
    "plt.ylabel('f(x)',fontsize=16)\n",
    "plt.xticks(fontsize=10)\n",
    "plt.yticks(fontsize=10)\n",
    "plt.legend(loc='upper center',bbox_to_anchor=(0.5,1.18),ncol=2,fontsize=16)\n",
    "# plt.savefig('xsinx_train.png')\n",
    "plt.show()"
   ]
  }
 ],
 "metadata": {
  "kernelspec": {
   "display_name": "q1",
   "language": "python",
   "name": "python3"
  },
  "language_info": {
   "codemirror_mode": {
    "name": "ipython",
    "version": 3
   },
   "file_extension": ".py",
   "mimetype": "text/x-python",
   "name": "python",
   "nbconvert_exporter": "python",
   "pygments_lexer": "ipython3",
   "version": "3.11.4"
  },
  "orig_nbformat": 4
 },
 "nbformat": 4,
 "nbformat_minor": 2
}
