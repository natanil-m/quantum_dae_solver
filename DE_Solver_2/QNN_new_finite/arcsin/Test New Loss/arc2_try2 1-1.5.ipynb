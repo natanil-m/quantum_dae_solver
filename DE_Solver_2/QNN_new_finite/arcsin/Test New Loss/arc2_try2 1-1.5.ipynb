{
 "cells": [
  {
   "cell_type": "code",
   "execution_count": 1,
   "metadata": {},
   "outputs": [],
   "source": [
    "from math import pi\n",
    "import matplotlib.pyplot as plt\n",
    "# from pennylane import numpy as np\n",
    "import pennylane as qml\n",
    "from pennylane.optimize import AdamOptimizer\n",
    "import datetime\n",
    "now=datetime.datetime.now"
   ]
  },
  {
   "cell_type": "code",
   "execution_count": 2,
   "metadata": {},
   "outputs": [],
   "source": [
    "num_qubits=2\n",
    "dev=qml.device('default.qubit', wires=num_qubits)\n",
    "\n",
    "# define my own embedding layer\n",
    "# def myembedding(x,wires):\n",
    "#     # qml.RY(np.arcsin(x), wires=wires[0])\n",
    "#     # qml.RY(2*pi*x, wires=wires[1])\n",
    "\n",
    "def myembedding(x,wires):\n",
    "    qml.RY(x, wires=wires[1])\n",
    "\n",
    "def Ham():\n",
    "    obs=[]\n",
    "    for j in range(num_qubits):\n",
    "        obs.append(qml.PauliX(j))\n",
    "        for k in range(j):\n",
    "            obs.append(qml.PauliZ(j)@qml.PauliZ(k))\n",
    "    coeffs=np.random.uniform(-1,1,len(obs))*10\n",
    "    qml.Hamiltonian(coeffs, obs)\n",
    "\n",
    "# define ansastz layer\n",
    "def layer(theta):\n",
    "    \n",
    "    # Apply Hamiltonian matrix\n",
    "    Ham()\n",
    "    \n",
    "    # Apply H gate\n",
    "    qml.Hadamard(0)\n",
    "    \n",
    "    # rotations on qubits\n",
    "    qml.RY(theta[0],wires=0)\n",
    "    qml.RY(theta[1],wires=1)\n",
    "    \n",
    "    # CNOT\n",
    "    qml.CNOT(wires=[0, 1])\n",
    "\n",
    "@qml.qnode(dev)\n",
    "def quantum_net(theta,x):\n",
    "    \n",
    "    # encode data\n",
    "    myembedding(x,wires=range(num_qubits))\n",
    "    \n",
    "    # parameterized circuit layers\n",
    "    for v in theta: # (for lool along with the first dimension)\n",
    "        # Ham()\n",
    "        layer(v)\n",
    "    \n",
    "    qml.Hadamard(0)\n",
    "    \n",
    "    return qml.expval(qml.PauliZ(0))"
   ]
  },
  {
   "cell_type": "code",
   "execution_count": 3,
   "metadata": {},
   "outputs": [],
   "source": [
    "\n",
    "# print(theta.shape)\n",
    "# # print(theta)\n",
    "# print(qml.draw(quantum_net)(theta,0))\n",
    "\n",
    "\n",
    "\n",
    "# add the classical layer\n",
    "def classical_quantum_net(theta,w,x):\n",
    "    r=quantum_net(theta,x)\n",
    "    return w[0]+w[1]*r+w[2]*r**2\n",
    "    # return w[0]+w[1]*r\n",
    "\n"
   ]
  },
  {
   "cell_type": "code",
   "execution_count": 4,
   "metadata": {},
   "outputs": [
    {
     "name": "stdout",
     "output_type": "stream",
     "text": [
      "[1.         1.02631579 1.05263158 1.07894737 1.10526316 1.13157895\n",
      " 1.15789474 1.18421053 1.21052632 1.23684211 1.26315789 1.28947368\n",
      " 1.31578947 1.34210526 1.36842105 1.39473684 1.42105263 1.44736842\n",
      " 1.47368421 1.5       ]\n"
     ]
    }
   ],
   "source": [
    "import numpy as np\n",
    "from scipy.optimize import minimize\n",
    "\n",
    "\n",
    "def f(theta,w, t):\n",
    "    r=quantum_net(theta,t)\n",
    "    return w[0]+w[1]*r+w[2]*r**2\n",
    "\n",
    "\n",
    "# Differential equation parameters\n",
    "ws = 376.9911\n",
    "# Boundary condition \n",
    "coefii = 10\n",
    "\n",
    "# del_0 = 0  #del\n",
    "# omega_0 = 0     #w\n",
    "# del_0_v = -1/coefii\n",
    "# omega_0_v = 383.9911/coefii\n",
    "del_0_v = 0.2314481658855807\n",
    "omega_0_v = 37.72175613026897\n",
    "\n",
    "K1 = 5/coefii\n",
    "K2 = 10/coefii\n",
    "K3 = 1.7/coefii\n",
    "ws = ws/coefii\n",
    "def DE(f,f_prime,f_double_prime,t):\n",
    "    delta = f\n",
    "    delta_prime = f_prime\n",
    "    omega = delta_prime+ws\n",
    "    omega_prime = f_double_prime\n",
    "    return (delta_prime+ws-omega)+omega_prime-K1+K2*np.sin(coefii*delta)+K3*(-ws+omega)*coefii\n",
    "    \n",
    "\n",
    "n_grid = 20\n",
    "range_min = 1\n",
    "range_max = 1.5\n",
    "t_data = np.linspace(range_min, range_max, n_grid)\n",
    "dt = t_data[1]-t_data[0]\n",
    "# print(dt)\n",
    "print(t_data)\n",
    "# del_target_values = [-0.1, -0.08568864375010266, -0.07135199292327042, -0.05703216366155178, -0.04277533332758968, -0.028630566403092566, -0.014648393492369936, -0.0008786099410683636, 0.012629993562057113, 0.025830965225360485, 0.03868190003112095, 0.05114514907683676, 0.06318818053413534, 0.07478349631699908, 0.08590929364185632, 0.09655108128205876, 0.10669910851327256, 0.11634802541217151, 0.12549688285643618, 0.13414913252475494, 0.1423124546002818, 0.14999727816970396, 0.1572170147933966, 0.16398646160587024, 0.17032150117763253, 0.17623910151518826, 0.18175731606103976, 0.18689528211221512, 0.19167252338163385, 0.1961073022258, 0.2002172705183872, 0.2040196495808423, 0.20753123018238517, 0.21076837254000894, 0.21374700631847987, 0.2164826306303374, 0.21899031403589397, 0.22128469454323552, 0.2233792634241711, 0.22528520015009165, 0.22701309424038968, 0.22857304585789437, 0.22997466468065175, 0.2312270699019247, 0.23233889023019288, 0.23331826388915283, 0.23417283861771784, 0.2349097716700181, 0.2355355471757422, 0.23605508170803655]\n",
    "# omega_target_values = [38.39911, 38.40131255162024, 38.401559501400065, 38.399627615014815, 38.39535272010845, 38.38863569037213, 38.37944575798523, 38.36781828175373, 38.35385457506316, 38.33771250498817, 38.31960064799821, 38.29975795463622, 38.27844654658136, 38.25594953663366, 38.232548774138536, 38.20852344187769, 38.184133101993716, 38.15961422638989, 38.135180196730154, 38.11102130443908, 38.0873045267779, 38.0641648590319, 38.04170495996719, 38.020008128295665, 37.999139183467754, 37.979144465672405, 37.96005183583712, 37.94187079269068, 37.92460193204962, 37.90823330461032, 37.892744190413474, 37.87811073974539, 37.864305973137945, 37.851299781368624, 37.83905892546051, 37.82754703668229, 37.816724616548235, 37.80654903681822, 37.7969789305147, 37.78797953688034, 37.779515522995986, 37.77155243468513, 37.76405670589686, 37.75699565870589, 37.75033750331248, 37.744051338042496, 37.73810714934741, 37.73247581180426, 37.72712975291509, 37.7220465421391]\n",
    "\n",
    "\n",
    "def callbackF(parameters):\n",
    "    # global current_loss\n",
    "\n",
    "    print(\"Current loss:\", cost(parameters)) \n",
    "\n",
    "\n",
    "def cost(params):\n",
    "    global theta\n",
    "    global w\n",
    "    # Reshape the flattened theta back to its original shape\n",
    "    theta_shape = theta.shape\n",
    "    w_shape = w.shape\n",
    "    w, theta_flat = params[:3], params[3:]\n",
    "    theta = theta_flat.reshape(theta_shape)\n",
    "\n",
    "\n",
    "    u = np.zeros(n_grid + 2)\n",
    "    u[0] = f(theta,w, range_min - dt)\n",
    "    u[1] = del_0_v\n",
    "    for i in range(1, n_grid):\n",
    "        u[i + 1] = f(theta,w, t_data[i])\n",
    "    u[n_grid + 1]=f(theta,w, range_max + dt)\n",
    "  \n",
    "    u_prime = (u[2:] - u[:-2])/(2*dt)\n",
    "    omega_0 = u_prime[0]+ws\n",
    "    u_double_prime = (u_prime[2:] - u_prime[:-2])/(2*dt)\n",
    "    loss_i = np.sum(np.abs((DE(f=u[2:-2],f_prime=u_prime[1:-1],f_double_prime=u_double_prime,t=t_data[1:-1]))))\n",
    "    \n",
    "    eta = 5\n",
    "    # del0_pred = f(a, b, c, d, 0)\n",
    "    # omega0_pred = f_prime(a, b, c, d, 0) + ws\n",
    "    # loss_b = eta * (del_0_v - del0_pred) ** 2 * len(t_data)\n",
    "    loss_b = 0\n",
    "    loss_b += eta * np.abs((omega_0_v - omega_0)) * len(t_data)\n",
    "\n",
    "    # loss = 10*loss_i+8*loss_b\n",
    "    loss = loss_i+loss_b\n",
    "    # loss = loss_i\n",
    "    # print(\"Current loss:\", loss) \n",
    "    return loss\n",
    "\n"
   ]
  },
  {
   "cell_type": "code",
   "execution_count": 5,
   "metadata": {},
   "outputs": [],
   "source": [
    "\n",
    "# opt = AdamOptimizer(0.05, beta1=0.9, beta2=0.999)\n",
    "\n",
    "# num_layers=4\n",
    "# theta=np.random.uniform(0,2*pi,size=(num_layers,num_qubits),requires_grad=True)\n",
    "# w=np.zeros(3,requires_grad=True)\n",
    "\n",
    "\n",
    "# epochs=100\n",
    "# for e in range(1,epochs+1):\n",
    "    \n",
    "#     (theta,w,_),_cost=opt.step_and_cost(cost,theta,w,t_data)\n",
    "#     if e==1 or e%10==0:\n",
    "#         print(f'Epoch: {e} | Cost: {_cost} | w: {w} | theta: {theta}')"
   ]
  },
  {
   "cell_type": "code",
   "execution_count": 6,
   "metadata": {},
   "outputs": [
    {
     "name": "stdout",
     "output_type": "stream",
     "text": [
      "Current loss: 49.32684674200047\n",
      "Current loss: 6.703964123488858\n",
      "Current loss: 6.567148311063589\n",
      "Current loss: 6.500710996321629\n",
      "Current loss: 4.191318090833509\n",
      "Current loss: 3.8242807520154476\n",
      "Current loss: 3.824279912900125\n"
     ]
    }
   ],
   "source": [
    "num_layers=4\n",
    "\n",
    "theta = np.random.uniform(0, 2 * np.pi, size=(num_layers, num_qubits))\n",
    "w = np.zeros(3)\n",
    "\n",
    "initial_params = np.concatenate([w, theta.flatten()])  # Flatten theta to a 1D array\n",
    "\n",
    "result = minimize(cost, initial_params, callback=callbackF, method='BFGS', options={'gtol': 1E-2})\n",
    "# Extract the optimized parameters\n",
    "w, theta_flat = result.x[:3], result.x[3:]\n",
    "theta = theta_flat.reshape(theta.shape)"
   ]
  },
  {
   "cell_type": "code",
   "execution_count": 7,
   "metadata": {},
   "outputs": [
    {
     "name": "stdout",
     "output_type": "stream",
     "text": [
      "[0.24829452 0.08995425 0.10048475]\n",
      "[[1.02020885 4.28988666]\n",
      " [0.10486528 4.39710694]\n",
      " [4.49375403 3.88120575]\n",
      " [2.28853701 2.44838239]]\n"
     ]
    }
   ],
   "source": [
    "print(w)\n",
    "print(theta)"
   ]
  },
  {
   "cell_type": "code",
   "execution_count": 8,
   "metadata": {},
   "outputs": [],
   "source": [
    "# num_layers=4\n",
    "# # theta=np.random.uniform(0,2*pi,size=(num_layers,num_qubits),requires_grad=True)\n",
    "# theta=np.random.uniform(0,2*pi,size=(num_layers,num_qubits))\n",
    "# # w=np.zeros(3,requires_grad=True)\n",
    "# w=np.zeros(3)\n",
    "\n",
    "\n",
    "# initial_params = [w,theta]\n",
    "# # initial_params = [4, 4, 4,4]\n",
    "# # initial_params = [10, 20, 8,70]\n",
    "# # initial_params = [1.5703050481447, 6.664583545312459, 8.490607793546264,-1.0593486531798044]\n",
    "# # initial_params = [0.17749722218115743, -0.6981313539613472, 0.8622182932697816,-0.1070692270857497]\n",
    "\n",
    "# # result = minimize(loss, initial_params, method='Nelder-Mead')\n",
    "# result = minimize(cost, initial_params, callback=callbackF, method='BFGS', options={'gtol': 1E-2})\n",
    "\n",
    "# theta,w = result.x"
   ]
  },
  {
   "cell_type": "code",
   "execution_count": 9,
   "metadata": {},
   "outputs": [],
   "source": [
    "del_target_values =[0.23605626591042683, 0.23657915010661604, 0.2369431176334777, 0.23715634724946463, 0.2372263051412951, 0.23715974492395303, 0.23696270764068778, 0.23664052176301428, 0.2361978031907131, 0.23563822761090866, 0.234963663971813, 0.23417524502862144, 0.23327377971325347, 0.23225975184176986, 0.23113332011437243, 0.22989431811540426, 0.22854225431334957, 0.22707631206083367, 0.22549534959462303, 0.22379790761838508]\n",
    "omega_target_values = [37.722042745006526, 37.71583344736691, 37.70997753353549, 37.70443320400314, 37.699160618780795, 37.69412189739948, 37.68928111891027, 37.68460432188438, 37.68005950441303, 37.67561776437333, 37.671255864740225, 37.66695197590389, 37.66268539682161, 37.65843658197757, 37.654187141382856, 37.64991984057548, 37.645618600620324, 37.641268498109206, 37.63685576516084, 37.632367819714716]\n",
    "\n"
   ]
  },
  {
   "cell_type": "code",
   "execution_count": 10,
   "metadata": {},
   "outputs": [
    {
     "data": {
      "image/png": "[encoded data removed]",
      "text/plain": [
       "<Figure size 800x800 with 2 Axes>"
      ]
     },
     "metadata": {},
     "output_type": "display_data"
    },
    {
     "name": "stdout",
     "output_type": "stream",
     "text": [
      "20\n",
      "20\n",
      "0.2375301108662933\n",
      "37.69976846599381\n"
     ]
    }
   ],
   "source": [
    "import matplotlib.pyplot as plt\n",
    "\n",
    "# Plot the target values and the fitted curve\n",
    "plt.figure(figsize=(8, 8))\n",
    "plt.subplot(2, 1, 1)\n",
    "plt.scatter(t_data, del_target_values, label='Del target', alpha=0.5)\n",
    "delta_pred = f(theta,w,t_data)\n",
    "plt.plot(t_data, delta_pred, 'r', label='Del')\n",
    "plt.xlabel('Time (t)')\n",
    "plt.ylabel('Values')\n",
    "plt.legend()\n",
    "plt.title('Fitting Data')\n",
    "\n",
    "\n",
    "# Plot the target values and the fitted curve\n",
    "# plt.figure(figsize=(8, 6))\n",
    "plt.subplot(2, 1, 2)\n",
    "plt.scatter(t_data, omega_target_values, label='Omega target', alpha=0.5)\n",
    "\n",
    "del_prime = np.gradient(delta_pred, t_data)\n",
    "omega_pred = del_prime+ws\n",
    "\n",
    "plt.plot(t_data, omega_pred, 'r', label='Omega')\n",
    "plt.xlabel('Time (t)')\n",
    "plt.ylabel('Values')\n",
    "plt.legend()\n",
    "plt.title('Fitting Data')\n",
    "plt.show()\n",
    "\n",
    "# plt.show()\n",
    "print(len(delta_pred))\n",
    "print(len(omega_pred))\n",
    "print(delta_pred[-1])\n",
    "print(omega_pred[-1])"
   ]
  }
 ],
 "metadata": {
  "kernelspec": {
   "display_name": "q1",
   "language": "python",
   "name": "python3"
  },
  "language_info": {
   "codemirror_mode": {
    "name": "ipython",
    "version": 3
   },
   "file_extension": ".py",
   "mimetype": "text/x-python",
   "name": "python",
   "nbconvert_exporter": "python",
   "pygments_lexer": "ipython3",
   "version": "3.11.4"
  },
  "orig_nbformat": 4
 },
 "nbformat": 4,
 "nbformat_minor": 2
}
