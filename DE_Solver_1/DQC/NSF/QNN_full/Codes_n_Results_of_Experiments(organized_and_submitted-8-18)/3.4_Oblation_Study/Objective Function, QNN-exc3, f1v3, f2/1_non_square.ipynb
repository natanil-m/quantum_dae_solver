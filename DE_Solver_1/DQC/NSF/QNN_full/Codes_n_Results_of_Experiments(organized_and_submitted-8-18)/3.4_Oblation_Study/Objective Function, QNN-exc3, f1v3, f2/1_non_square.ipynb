{
 "cells": [
  {
   "cell_type": "code",
   "execution_count": 1,
   "id": "b3dec768-d558-4a2b-a671-b110a9f576eb",
   "metadata": {},
   "outputs": [],
   "source": [
    "from math import pi\n",
    "import matplotlib.pyplot as plt\n",
    "from pennylane import numpy as np\n",
    "import pennylane as qml\n",
    "from pennylane.optimize import AdamOptimizer\n",
    "import datetime\n",
    "now=datetime.datetime.now"
   ]
  },
  {
   "cell_type": "markdown",
   "id": "61b6f3bd-df84-4361-a3d1-6f26f077528e",
   "metadata": {},
   "source": [
    "## Generate data"
   ]
  },
  {
   "cell_type": "markdown",
   "id": "4b882c6f-5178-4360-b43f-4ac14defc769",
   "metadata": {},
   "source": [
    "$f(x)=0.2\\sin(2\\pi x)+0.8\\cos^2(2\\pi x)$"
   ]
  },
  {
   "cell_type": "code",
   "execution_count": 2,
   "id": "452baf7b-9b9b-40f7-8dcd-56c23e085f07",
   "metadata": {},
   "outputs": [],
   "source": [
    "coef=2*pi\n",
    "def my_objective(X):\n",
    "    Y=0.2*np.sin(coef*X)+0.8*np.cos(coef*X)**2\n",
    "    return Y"
   ]
  },
  {
   "cell_type": "code",
   "execution_count": 3,
   "id": "dd306391-4423-47b7-86f2-6dad5a1cabae",
   "metadata": {},
   "outputs": [],
   "source": [
    "np.random.seed(1)\n",
    "X=np.random.uniform(-0.95,0.95,size=100,requires_grad=False)"
   ]
  },
  {
   "cell_type": "code",
   "execution_count": 4,
   "id": "581e5824-c4b0-4571-bac2-38f47c342937",
   "metadata": {},
   "outputs": [],
   "source": [
    "Y=my_objective(X)"
   ]
  },
  {
   "cell_type": "code",
   "execution_count": 5,
   "id": "1c89704a-d690-49f3-bdbe-98b1e3c7f4fc",
   "metadata": {},
   "outputs": [
    {
     "name": "stdout",
     "output_type": "stream",
     "text": [
      "(100,)\n",
      "(100,)\n"
     ]
    }
   ],
   "source": [
    "print(X.shape)\n",
    "print(Y.shape)"
   ]
  },
  {
   "cell_type": "code",
   "execution_count": 6,
   "id": "4dc69b97-667c-4759-9224-872ec0ae5ec2",
   "metadata": {},
   "outputs": [
    {
     "data": {
      "image/png": "[encoded data removed]",
      "text/plain": [
       "<Figure size 432x288 with 1 Axes>"
      ]
     },
     "metadata": {
      "needs_background": "light"
     },
     "output_type": "display_data"
    }
   ],
   "source": [
    "# plot data\n",
    "plt.scatter(X,Y,facecolors='none', edgecolors='b')\n",
    "plt.xlabel('x')\n",
    "plt.ylabel('f(x)')\n",
    "plt.title('Training set')\n",
    "plt.savefig('1_non_square_target.png')\n",
    "plt.show()"
   ]
  },
  {
   "cell_type": "markdown",
   "id": "149bd281-b858-4ceb-bc59-d598c0d62138",
   "metadata": {},
   "source": [
    "## Set Device"
   ]
  },
  {
   "cell_type": "code",
   "execution_count": 7,
   "id": "cafd57ee-69d9-4a92-ad61-de3e69b047b7",
   "metadata": {},
   "outputs": [],
   "source": [
    "num_qubits=2\n",
    "dev=qml.device('default.qubit', wires=num_qubits)"
   ]
  },
  {
   "cell_type": "markdown",
   "id": "4ccb646b-8e71-4591-84af-30a181b465ef",
   "metadata": {},
   "source": [
    "## Define embedding layer"
   ]
  },
  {
   "cell_type": "code",
   "execution_count": 8,
   "id": "a28c8d80-5598-4abf-abd9-c58e800dbfd1",
   "metadata": {},
   "outputs": [],
   "source": [
    "# define my own embedding layer\n",
    "def myembedding(x,wires):\n",
    "    qml.RY(coef*x, wires=wires[1])"
   ]
  },
  {
   "cell_type": "markdown",
   "id": "60c706dd-a3a4-4700-91cc-df424178fc47",
   "metadata": {},
   "source": [
    "## Define the Hamiltonian matrix transformation layer"
   ]
  },
  {
   "cell_type": "code",
   "execution_count": 9,
   "id": "4d16f4da-2b63-430f-85d1-c4b3c66fb860",
   "metadata": {},
   "outputs": [],
   "source": [
    "def Ham():\n",
    "    obs=[]\n",
    "    for j in range(num_qubits):\n",
    "        obs.append(qml.PauliX(j))\n",
    "        for k in range(j):\n",
    "            obs.append(qml.PauliZ(j)@qml.PauliZ(k))\n",
    "    coeffs=np.random.uniform(-1,1,len(obs))*10\n",
    "    qml.Hamiltonian(coeffs, obs)"
   ]
  },
  {
   "cell_type": "markdown",
   "id": "12d8304a-47cb-434f-a885-061ffd6dee70",
   "metadata": {},
   "source": [
    "## Define ansatze"
   ]
  },
  {
   "cell_type": "code",
   "execution_count": 10,
   "id": "9d927082-14ec-4e13-b93a-da579e2cf7c5",
   "metadata": {},
   "outputs": [],
   "source": [
    "# define ansastz layer\n",
    "def layer(theta):\n",
    "    \n",
    "    # Apply Hamiltonian matrix\n",
    "    Ham()\n",
    "    \n",
    "    # Apply H gate\n",
    "    qml.Hadamard(0)\n",
    "    \n",
    "    # rotations on qubit 1\n",
    "    qml.RY(theta,wires=1)\n",
    "    \n",
    "    # CNOT\n",
    "    qml.CNOT(wires=[0, 1])"
   ]
  },
  {
   "cell_type": "code",
   "execution_count": 11,
   "id": "7b394fc5-b455-4717-afb8-dba214681226",
   "metadata": {},
   "outputs": [],
   "source": [
    "@qml.qnode(dev)\n",
    "def quantum_net(theta,x):\n",
    "    \n",
    "    # encode data\n",
    "    myembedding(x,wires=range(num_qubits))\n",
    "    \n",
    "    # parameterized circuit layers\n",
    "    for v in theta: # (for lool along with the first dimension)\n",
    "        # print(v)\n",
    "        # Ham()\n",
    "        layer(v)\n",
    "    \n",
    "    qml.Hadamard(0)\n",
    "    \n",
    "    return qml.expval(qml.PauliZ(0))"
   ]
  },
  {
   "cell_type": "code",
   "execution_count": 12,
   "id": "7560276c-fc76-44e9-86b2-c1671419c5d0",
   "metadata": {},
   "outputs": [
    {
     "name": "stdout",
     "output_type": "stream",
     "text": [
      "(4, 1)\n",
      "[[2.05237045]\n",
      " [3.31160372]\n",
      " [5.56653838]\n",
      " [2.24479211]]\n"
     ]
    }
   ],
   "source": [
    "num_layers=4\n",
    "theta=np.random.uniform(0,2*pi,size=(num_layers,num_qubits-1),requires_grad=True)\n",
    "print(theta.shape)\n",
    "print(theta)"
   ]
  },
  {
   "cell_type": "code",
   "execution_count": 13,
   "id": "a31729af-09d3-4362-b4c2-dda1c9bb26d6",
   "metadata": {},
   "outputs": [
    {
     "data": {
      "text/plain": [
       "tensor(-0.15873999, requires_grad=True)"
      ]
     },
     "execution_count": 13,
     "metadata": {},
     "output_type": "execute_result"
    }
   ],
   "source": [
    "quantum_net(theta,0)"
   ]
  },
  {
   "cell_type": "code",
   "execution_count": 14,
   "id": "57c1c5e4-cfef-4e10-b0d6-cdbe7f7cc17a",
   "metadata": {},
   "outputs": [
    {
     "name": "stdout",
     "output_type": "stream",
     "text": [
      "0: ──H────────────────╭●──H──────╭●──H──────╭●──H──────╭●──H─┤  <Z>\n",
      "1: ──RY(0.00)──RY(M0)─╰X──RY(M1)─╰X──RY(M2)─╰X──RY(M3)─╰X────┤     \n"
     ]
    }
   ],
   "source": [
    "print(qml.draw(quantum_net)(theta,0))"
   ]
  },
  {
   "cell_type": "markdown",
   "id": "8afcb30a-9860-4a9f-a863-b33252372d91",
   "metadata": {},
   "source": [
    "## Add classical layer"
   ]
  },
  {
   "cell_type": "code",
   "execution_count": 15,
   "id": "54f55df1-48a5-40a0-8895-b44422c5f668",
   "metadata": {},
   "outputs": [],
   "source": [
    "# add the classical layer\n",
    "def classical_quantum_net(theta,w,x):\n",
    "    r=quantum_net(theta,x)\n",
    "    return w[0]+w[1]*r"
   ]
  },
  {
   "cell_type": "code",
   "execution_count": 16,
   "id": "556a8bdf-86b0-42fe-91e3-1b641ca5cbaa",
   "metadata": {},
   "outputs": [],
   "source": [
    "def square_loss(labels,predictions):\n",
    "    loss=0\n",
    "    for l,p in zip(labels,predictions):\n",
    "        loss=loss+(l-p)**2\n",
    "    loss=loss/len(labels)\n",
    "    return loss"
   ]
  },
  {
   "cell_type": "code",
   "execution_count": 17,
   "id": "7495e966-7074-4e96-a5bc-80c298b9690b",
   "metadata": {},
   "outputs": [],
   "source": [
    "def cost(theta,w,features,labels):\n",
    "    preds=[classical_quantum_net(theta,w,x) for x in features]\n",
    "    return square_loss(labels,preds)"
   ]
  },
  {
   "cell_type": "markdown",
   "id": "8cb96450-a534-4dcb-ad58-0cd0590d5f9f",
   "metadata": {},
   "source": [
    "## Model training\n",
    "Using the Adam optimizer, we update the weights for 100 steps (this takes some time). More steps will lead to a better fit."
   ]
  },
  {
   "cell_type": "code",
   "execution_count": 18,
   "id": "7f593750-23d5-4e58-92c5-701f785e0c07",
   "metadata": {},
   "outputs": [],
   "source": [
    "w=np.zeros(2,requires_grad=True)\n",
    "opt = AdamOptimizer(0.05, beta1=0.9, beta2=0.999)"
   ]
  },
  {
   "cell_type": "code",
   "execution_count": 19,
   "id": "65ffddff-e65d-4ae2-aec0-69749dbc699d",
   "metadata": {},
   "outputs": [
    {
     "name": "stdout",
     "output_type": "stream",
     "text": [
      "2022-08-06 16:17:30.542113\n"
     ]
    }
   ],
   "source": [
    "start=now()\n",
    "print(start)"
   ]
  },
  {
   "cell_type": "code",
   "execution_count": 20,
   "id": "062edd46-5aec-4d43-9def-bb64aa7b30ae",
   "metadata": {},
   "outputs": [
    {
     "name": "stdout",
     "output_type": "stream",
     "text": [
      "Epoch: 1 | Cost: 0.21338608260179615 | w: [0.04999998 0.04999994]\n",
      "Epoch: 10 | Cost: 0.07958336563201701 | w: [0.38253722 0.3845479 ]\n",
      "Epoch: 20 | Cost: 0.06443202686179057 | w: [0.31944303 0.21601627]\n",
      "Epoch: 30 | Cost: 0.06650841285796388 | w: [0.31731602 0.18209883]\n",
      "Epoch: 40 | Cost: 0.06556101236462801 | w: [0.35672145 0.25096723]\n",
      "Epoch: 50 | Cost: 0.06455526808206075 | w: [0.32529084 0.19910424]\n",
      "Epoch: 60 | Cost: 0.0642899855289242 | w: [0.34031209 0.22616223]\n",
      "Epoch: 70 | Cost: 0.06425952237457971 | w: [0.33608705 0.21406961]\n",
      "Epoch: 80 | Cost: 0.06425975495791059 | w: [0.3358234  0.21877684]\n",
      "Epoch: 90 | Cost: 0.06425904367678506 | w: [0.33711818 0.21701762]\n",
      "Epoch: 100 | Cost: 0.06425800079379446 | w: [0.33600946 0.21774559]\n"
     ]
    }
   ],
   "source": [
    "epochs=100\n",
    "for e in range(1,epochs+1):\n",
    "    \n",
    "    (theta,w,_,_),_cost=opt.step_and_cost(cost,theta,w,X,Y)\n",
    "\n",
    "    if e==1 or e%10==0:\n",
    "        print(f'Epoch: {e} | Cost: {_cost} | w: {w}')"
   ]
  },
  {
   "cell_type": "code",
   "execution_count": 21,
   "id": "90bb6eac-e3f2-4108-bdc6-bb54229f3bdf",
   "metadata": {},
   "outputs": [],
   "source": [
    "pred_train=np.array([classical_quantum_net(theta,w,x) for x in X])"
   ]
  },
  {
   "cell_type": "code",
   "execution_count": 22,
   "id": "313aa279-9891-4ad8-88a8-c429f1f7eeb9",
   "metadata": {},
   "outputs": [
    {
     "data": {
      "image/png": "[encoded data removed]",
      "text/plain": [
       "<Figure size 432x288 with 1 Axes>"
      ]
     },
     "metadata": {
      "needs_background": "light"
     },
     "output_type": "display_data"
    }
   ],
   "source": [
    "plt.figure()\n",
    "plt.scatter(X,Y,facecolors='none', edgecolors='b', label='True')\n",
    "plt.scatter(X,pred_train, color='red',marker=\"x\",s=4,label='Prediction')\n",
    "plt.xlabel('x',fontsize=16)\n",
    "plt.ylabel('f(x)',fontsize=16)\n",
    "plt.xticks(fontsize=10)\n",
    "plt.yticks(fontsize=10)\n",
    "plt.legend(loc='upper center',bbox_to_anchor=(0.5,1.18),ncol=2,fontsize=16)\n",
    "plt.savefig('1_non_square_train.png')\n",
    "plt.show()"
   ]
  },
  {
   "cell_type": "code",
   "execution_count": 23,
   "id": "7fb360cc-ee8a-4c0a-91c4-56e5c4fc0767",
   "metadata": {},
   "outputs": [],
   "source": [
    "train_diff=np.abs(Y-pred_train)"
   ]
  },
  {
   "cell_type": "code",
   "execution_count": 24,
   "id": "e3f402b9-5d38-4c6d-86be-f8c4bcc9efaa",
   "metadata": {},
   "outputs": [
    {
     "data": {
      "text/plain": [
       "tensor(0.50388822, requires_grad=True)"
      ]
     },
     "execution_count": 24,
     "metadata": {},
     "output_type": "execute_result"
    }
   ],
   "source": [
    "np.max(train_diff)"
   ]
  },
  {
   "cell_type": "code",
   "execution_count": 25,
   "id": "d1743eb3-04ab-454e-9afd-83dcc0035eba",
   "metadata": {},
   "outputs": [
    {
     "data": {
      "text/plain": [
       "tensor(0.00384713, requires_grad=True)"
      ]
     },
     "execution_count": 25,
     "metadata": {},
     "output_type": "execute_result"
    }
   ],
   "source": [
    "np.min(train_diff)"
   ]
  },
  {
   "cell_type": "code",
   "execution_count": 26,
   "id": "09fbf175-22a5-4201-a555-7ef0e159409a",
   "metadata": {},
   "outputs": [
    {
     "data": {
      "text/plain": [
       "tensor(0.21738902, requires_grad=True)"
      ]
     },
     "execution_count": 26,
     "metadata": {},
     "output_type": "execute_result"
    }
   ],
   "source": [
    "np.mean(train_diff)"
   ]
  },
  {
   "cell_type": "markdown",
   "id": "67563af5-12d9-4bd4-8371-1ed7a2ae8c05",
   "metadata": {},
   "source": [
    "## Test error"
   ]
  },
  {
   "cell_type": "code",
   "execution_count": 27,
   "id": "9b057e02-2ccc-4293-9ba0-322fed476b59",
   "metadata": {},
   "outputs": [],
   "source": [
    "X_test=np.linspace(-0.95,0.95,200)\n",
    "Y_test=my_objective(X_test)\n",
    "test_pred=[classical_quantum_net(theta,w,x) for x in X_test]"
   ]
  },
  {
   "cell_type": "code",
   "execution_count": 28,
   "id": "189cddcc-8ac1-4d40-8f69-b41d3be5641e",
   "metadata": {},
   "outputs": [
    {
     "data": {
      "image/png": "[encoded data removed]",
      "text/plain": [
       "<Figure size 432x288 with 1 Axes>"
      ]
     },
     "metadata": {
      "needs_background": "light"
     },
     "output_type": "display_data"
    }
   ],
   "source": [
    "plt.figure()\n",
    "plt.scatter(X_test,Y_test,facecolors='none', edgecolors='b',label='target')\n",
    "plt.scatter(X_test,test_pred,color='red',marker=\"x\",s=4,label='prediction')\n",
    "plt.xlabel('x',fontsize=16)\n",
    "plt.ylabel('f(x)',fontsize=16)\n",
    "plt.xticks(fontsize=10)\n",
    "plt.yticks(fontsize=10)\n",
    "plt.legend(loc='upper center',bbox_to_anchor=(0.5,1.18),ncol=2,fontsize=16)\n",
    "plt.savefig('1_non_square_test.png')\n",
    "plt.show()"
   ]
  },
  {
   "cell_type": "code",
   "execution_count": 29,
   "id": "32d36b99-058e-4fe9-85a6-6979b6565ba4",
   "metadata": {},
   "outputs": [],
   "source": [
    "test_diff=np.abs(Y_test-test_pred)"
   ]
  },
  {
   "cell_type": "code",
   "execution_count": 30,
   "id": "6084fd1f-d627-4edc-bee5-9fe6f4fdda0c",
   "metadata": {},
   "outputs": [
    {
     "data": {
      "text/plain": [
       "tensor(0.51073528, requires_grad=True)"
      ]
     },
     "execution_count": 30,
     "metadata": {},
     "output_type": "execute_result"
    }
   ],
   "source": [
    "np.max(test_diff)"
   ]
  },
  {
   "cell_type": "code",
   "execution_count": 31,
   "id": "3f66f8b4-a5a9-48bd-849e-1764f2e77040",
   "metadata": {},
   "outputs": [
    {
     "data": {
      "text/plain": [
       "tensor(0.0004511, requires_grad=True)"
      ]
     },
     "execution_count": 31,
     "metadata": {},
     "output_type": "execute_result"
    }
   ],
   "source": [
    "np.min(test_diff)"
   ]
  },
  {
   "cell_type": "code",
   "execution_count": 32,
   "id": "106a6f44-9bc3-48d4-aea7-1952ce476bb4",
   "metadata": {},
   "outputs": [
    {
     "data": {
      "text/plain": [
       "tensor(0.24769937, requires_grad=True)"
      ]
     },
     "execution_count": 32,
     "metadata": {},
     "output_type": "execute_result"
    }
   ],
   "source": [
    "np.mean(test_diff)"
   ]
  }
 ],
 "metadata": {
  "kernelspec": {
   "display_name": "Python 3 (ipykernel)",
   "language": "python",
   "name": "python3"
  },
  "language_info": {
   "codemirror_mode": {
    "name": "ipython",
    "version": 3
   },
   "file_extension": ".py",
   "mimetype": "text/x-python",
   "name": "python",
   "nbconvert_exporter": "python",
   "pygments_lexer": "ipython3",
   "version": "3.9.12"
  }
 },
 "nbformat": 4,
 "nbformat_minor": 5
}
