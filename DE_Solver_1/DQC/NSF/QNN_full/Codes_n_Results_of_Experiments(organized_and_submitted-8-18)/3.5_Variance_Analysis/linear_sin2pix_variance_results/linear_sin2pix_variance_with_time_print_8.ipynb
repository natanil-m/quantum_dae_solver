{
 "cells": [
  {
   "cell_type": "code",
   "execution_count": 1,
   "id": "b3dec768-d558-4a2b-a671-b110a9f576eb",
   "metadata": {},
   "outputs": [],
   "source": [
    "from math import pi\n",
    "import matplotlib.pyplot as plt\n",
    "from pennylane import numpy as np\n",
    "import pennylane as qml\n",
    "from pennylane.optimize import AdamOptimizer\n",
    "import datetime\n"
   ]
  },
  {
   "cell_type": "markdown",
   "id": "61b6f3bd-df84-4361-a3d1-6f26f077528e",
   "metadata": {},
   "source": [
    "## Generate data"
   ]
  },
  {
   "cell_type": "markdown",
   "id": "4b882c6f-5178-4360-b43f-4ac14defc769",
   "metadata": {},
   "source": [
    "$f(x)=0.2\\sin(2\\pi x)+0.8\\cos^2(2\\pi x)$"
   ]
  },
  {
   "cell_type": "code",
   "execution_count": 2,
   "id": "452baf7b-9b9b-40f7-8dcd-56c23e085f07",
   "metadata": {},
   "outputs": [],
   "source": [
    "coef=2*pi\n",
    "def my_objective(X):\n",
    "    Y=0.2*np.sin(coef*X)+0.8*np.cos(coef*X)**2\n",
    "    return Y"
   ]
  },
  {
   "cell_type": "code",
   "execution_count": 3,
   "id": "dd306391-4423-47b7-86f2-6dad5a1cabae",
   "metadata": {},
   "outputs": [],
   "source": [
    "X=np.random.uniform(-0.95,0.95,size=100,requires_grad=False)"
   ]
  },
  {
   "cell_type": "code",
   "execution_count": 4,
   "id": "581e5824-c4b0-4571-bac2-38f47c342937",
   "metadata": {},
   "outputs": [],
   "source": [
    "Y=my_objective(X)"
   ]
  },
  {
   "cell_type": "code",
   "execution_count": 5,
   "id": "1c89704a-d690-49f3-bdbe-98b1e3c7f4fc",
   "metadata": {},
   "outputs": [
    {
     "name": "stdout",
     "output_type": "stream",
     "text": [
      "(100,)\n",
      "(100,)\n"
     ]
    }
   ],
   "source": [
    "print(X.shape)\n",
    "print(Y.shape)"
   ]
  },
  {
   "cell_type": "code",
   "execution_count": 6,
   "id": "4dc69b97-667c-4759-9224-872ec0ae5ec2",
   "metadata": {},
   "outputs": [
    {
     "data": {
      "image/png": "[encoded data removed]",
      "text/plain": [
       "<Figure size 432x288 with 1 Axes>"
      ]
     },
     "metadata": {
      "needs_background": "light"
     },
     "output_type": "display_data"
    }
   ],
   "source": [
    "# plot data\n",
    "plt.scatter(X,Y,facecolors='none', edgecolors='b')\n",
    "plt.xlabel('x')\n",
    "plt.ylabel('f(x)')\n",
    "plt.title('Training set')\n",
    "# plt.savefig('sin2pix_target.png')\n",
    "plt.show()"
   ]
  },
  {
   "cell_type": "markdown",
   "id": "149bd281-b858-4ceb-bc59-d598c0d62138",
   "metadata": {},
   "source": [
    "## Set Device"
   ]
  },
  {
   "cell_type": "code",
   "execution_count": 7,
   "id": "cafd57ee-69d9-4a92-ad61-de3e69b047b7",
   "metadata": {},
   "outputs": [],
   "source": [
    "num_qubits=2\n",
    "dev=qml.device('default.qubit', wires=num_qubits)"
   ]
  },
  {
   "cell_type": "markdown",
   "id": "4ccb646b-8e71-4591-84af-30a181b465ef",
   "metadata": {},
   "source": [
    "## Define embedding layer"
   ]
  },
  {
   "cell_type": "code",
   "execution_count": 8,
   "id": "a28c8d80-5598-4abf-abd9-c58e800dbfd1",
   "metadata": {},
   "outputs": [],
   "source": [
    "# define my own embedding layer\n",
    "def myembedding(x,wires):\n",
    "    qml.RY(coef*x, wires=wires[1])"
   ]
  },
  {
   "cell_type": "markdown",
   "id": "60c706dd-a3a4-4700-91cc-df424178fc47",
   "metadata": {},
   "source": [
    "## Define the Hamiltonian matrix transformation layer"
   ]
  },
  {
   "cell_type": "code",
   "execution_count": 9,
   "id": "4d16f4da-2b63-430f-85d1-c4b3c66fb860",
   "metadata": {},
   "outputs": [],
   "source": [
    "def Ham():\n",
    "    obs=[]\n",
    "    for j in range(num_qubits):\n",
    "        obs.append(qml.PauliX(j))\n",
    "        for k in range(j):\n",
    "            obs.append(qml.PauliZ(j)@qml.PauliZ(k))\n",
    "    coeffs=np.random.uniform(-1,1,len(obs))*10\n",
    "    qml.Hamiltonian(coeffs, obs)"
   ]
  },
  {
   "cell_type": "markdown",
   "id": "12d8304a-47cb-434f-a885-061ffd6dee70",
   "metadata": {},
   "source": [
    "## Define ansatze"
   ]
  },
  {
   "cell_type": "code",
   "execution_count": 10,
   "id": "9d927082-14ec-4e13-b93a-da579e2cf7c5",
   "metadata": {},
   "outputs": [],
   "source": [
    "# define ansastz layer\n",
    "def layer(theta):\n",
    "    \n",
    "    # Apply Hamiltonian matrix\n",
    "    Ham()\n",
    "    \n",
    "    # Apply H gate\n",
    "    qml.Hadamard(0)\n",
    "    \n",
    "    # rotations on qubit 0\n",
    "    qml.RX(theta[0],wires=0)\n",
    "    qml.RZ(theta[1],wires=0)\n",
    "    qml.RX(theta[2],wires=0)\n",
    "    \n",
    "    # rotations on qubit 1\n",
    "    qml.RX(theta[3],wires=1)\n",
    "    qml.RZ(theta[4],wires=1)\n",
    "    qml.RX(theta[5],wires=1)\n",
    "    \n",
    "    # CNOT\n",
    "    qml.CNOT(wires=[0, 1])"
   ]
  },
  {
   "cell_type": "code",
   "execution_count": 11,
   "id": "7b394fc5-b455-4717-afb8-dba214681226",
   "metadata": {},
   "outputs": [],
   "source": [
    "@qml.qnode(dev)\n",
    "def quantum_net(theta,x):\n",
    "    \n",
    "    # encode data\n",
    "    myembedding(x,wires=range(num_qubits))\n",
    "    \n",
    "    # parameterized circuit layers\n",
    "    for v in theta: # (for lool along with the first dimension)\n",
    "        # print(v)\n",
    "        # Ham()\n",
    "        layer(v)\n",
    "    \n",
    "    qml.Hadamard(0)\n",
    "    \n",
    "    return qml.expval(qml.PauliZ(0)),qml.expval(qml.PauliZ(1))"
   ]
  },
  {
   "cell_type": "code",
   "execution_count": 12,
   "id": "7560276c-fc76-44e9-86b2-c1671419c5d0",
   "metadata": {},
   "outputs": [
    {
     "name": "stdout",
     "output_type": "stream",
     "text": [
      "(4, 6)\n",
      "[[2.08308162 5.75836645 5.289846   2.81098948 6.06966271 0.36815615]\n",
      " [5.14175733 2.49090658 2.76176757 2.75111573 3.52134819 2.23800746]\n",
      " [2.95102672 1.1972175  4.78396965 3.00164707 5.2658469  5.68125099]\n",
      " [3.57848533 1.7126474  0.68329562 2.57083676 4.71227384 2.74969477]]\n"
     ]
    }
   ],
   "source": [
    "num_layers=4\n",
    "num_rotation=6\n",
    "theta0=np.random.uniform(0,2*pi,size=(num_layers,num_rotation),requires_grad=True)\n",
    "print(theta0.shape)\n",
    "print(theta0)"
   ]
  },
  {
   "cell_type": "code",
   "execution_count": 13,
   "id": "a31729af-09d3-4362-b4c2-dda1c9bb26d6",
   "metadata": {},
   "outputs": [
    {
     "data": {
      "text/plain": [
       "tensor([-0.69333602,  0.15451395], requires_grad=True)"
      ]
     },
     "execution_count": 13,
     "metadata": {},
     "output_type": "execute_result"
    }
   ],
   "source": [
    "quantum_net(theta0,0)"
   ]
  },
  {
   "cell_type": "code",
   "execution_count": 14,
   "id": "57c1c5e4-cfef-4e10-b0d6-cdbe7f7cc17a",
   "metadata": {},
   "outputs": [
    {
     "name": "stdout",
     "output_type": "stream",
     "text": [
      "0: ──H─────────RX(2.08)──RZ(5.76)──RX(5.29)─╭●──H─────────RX(5.14)──RZ(2.49)──RX(2.76)─╭●──H───────\n",
      "1: ──RY(0.00)──RX(2.81)──RZ(6.07)──RX(0.37)─╰X──RX(2.75)──RZ(3.52)──RX(2.24)───────────╰X──RX(3.00)\n",
      "\n",
      "───RX(2.95)──RZ(1.20)──RX(4.78)─╭●──H─────────RX(3.58)──RZ(1.71)──RX(0.68)─╭●──H─┤  <Z>\n",
      "───RZ(5.27)──RX(5.68)───────────╰X──RX(2.57)──RZ(4.71)──RX(2.75)───────────╰X────┤  <Z>\n"
     ]
    }
   ],
   "source": [
    "print(qml.draw(quantum_net)(theta0,0))"
   ]
  },
  {
   "cell_type": "markdown",
   "id": "8afcb30a-9860-4a9f-a863-b33252372d91",
   "metadata": {},
   "source": [
    "## Add classical layer"
   ]
  },
  {
   "cell_type": "code",
   "execution_count": 15,
   "id": "54f55df1-48a5-40a0-8895-b44422c5f668",
   "metadata": {},
   "outputs": [],
   "source": [
    "# add the classical layer\n",
    "def classical_quantum_net(theta,w,x):\n",
    "    r1=quantum_net(theta,x)[0]\n",
    "    r2=quantum_net(theta,x)[1]\n",
    "    return w[0]+w[1]*r1+w[2]*r1**2+w[3]*r2+w[3]*r2**2"
   ]
  },
  {
   "cell_type": "code",
   "execution_count": 16,
   "id": "556a8bdf-86b0-42fe-91e3-1b641ca5cbaa",
   "metadata": {},
   "outputs": [],
   "source": [
    "def square_loss(labels,predictions):\n",
    "    loss=0\n",
    "    for l,p in zip(labels,predictions):\n",
    "        loss=loss+(l-p)**2\n",
    "    loss=loss/len(labels)\n",
    "    return loss"
   ]
  },
  {
   "cell_type": "code",
   "execution_count": 17,
   "id": "7495e966-7074-4e96-a5bc-80c298b9690b",
   "metadata": {},
   "outputs": [],
   "source": [
    "def cost(theta,w,features,labels):\n",
    "    preds=[classical_quantum_net(theta,w,x) for x in features]\n",
    "    return square_loss(labels,preds)"
   ]
  },
  {
   "cell_type": "markdown",
   "id": "8cb96450-a534-4dcb-ad58-0cd0590d5f9f",
   "metadata": {},
   "source": [
    "## Model training\n",
    "Using the Adam optimizer, we update the weights for 100 steps (this takes some time). More steps will lead to a better fit."
   ]
  },
  {
   "cell_type": "code",
   "execution_count": 18,
   "id": "7f593750-23d5-4e58-92c5-701f785e0c07",
   "metadata": {},
   "outputs": [],
   "source": [
    "w0=np.zeros(5,requires_grad=True)\n",
    "opt = AdamOptimizer(0.05, beta1=0.9, beta2=0.999)"
   ]
  },
  {
   "cell_type": "code",
   "execution_count": 19,
   "id": "65ffddff-e65d-4ae2-aec0-69749dbc699d",
   "metadata": {},
   "outputs": [
    {
     "name": "stdout",
     "output_type": "stream",
     "text": [
      "time now: 2022-08-11 15:52:55.173331\n"
     ]
    }
   ],
   "source": [
    "start=datetime.datetime.now()\n",
    "print('time now:', start)"
   ]
  },
  {
   "cell_type": "markdown",
   "id": "a785b889-a83b-4ff9-8948-c46c630a3333",
   "metadata": {},
   "source": [
    "## Define the training function"
   ]
  },
  {
   "cell_type": "code",
   "execution_count": 20,
   "id": "a26abfb7-2979-432d-8aef-5183689a36b0",
   "metadata": {},
   "outputs": [],
   "source": [
    "def model_training(epochs,theta,w):\n",
    "    X=np.random.uniform(-0.95,0.95,size=100,requires_grad=False)\n",
    "    Y=my_objective(X)\n",
    "    for e in range(1,epochs+1):\n",
    "        (theta,w,_,_),_cost=opt.step_and_cost(cost,theta,w,X,Y)\n",
    "    return theta,w"
   ]
  },
  {
   "cell_type": "markdown",
   "id": "2149f7fd-8fd9-42f6-8996-e3abd635cf40",
   "metadata": {},
   "source": [
    "## Prepare test data"
   ]
  },
  {
   "cell_type": "code",
   "execution_count": 21,
   "id": "2a8a84fd-31bb-4dc6-9721-b6e5afc8337c",
   "metadata": {},
   "outputs": [],
   "source": [
    "X_test=np.linspace(-0.95,0.95,200)\n",
    "Y_test=my_objective(X_test)"
   ]
  },
  {
   "cell_type": "markdown",
   "id": "7a19871a-b202-4f60-af44-31ae3c36e3f1",
   "metadata": {},
   "source": [
    "## Training QNNs mutiple times"
   ]
  },
  {
   "cell_type": "code",
   "execution_count": 22,
   "id": "759d7e87-6515-479b-b5b6-11f47bdb4152",
   "metadata": {},
   "outputs": [
    {
     "name": "stdout",
     "output_type": "stream",
     "text": [
      "0.0010931152981554736\n",
      "0.0011430926937719891\n",
      "0.0014614329369537526\n",
      "0.0012856187200791054\n",
      "0.0016103233056081927\n",
      "0.0007871879997593673\n",
      "0.002258094326135938\n",
      "0.0011222601813706003\n",
      "0.0008594567276663051\n",
      "0.002485720182576407\n",
      "0.0008675283443262676\n",
      "0.0014313499348074619\n",
      "0.0009336674006662895\n",
      "0.0014391035306962259\n",
      "0.0013421839650290673\n",
      "0.0018072124531196404\n",
      "0.0015863362343041581\n",
      "0.0019192953784149653\n",
      "0.001407187620102944\n",
      "0.0016873264210060025\n"
     ]
    }
   ],
   "source": [
    "list_mean_error=[]\n",
    "run_times=20\n",
    "epochs=100\n",
    "for r in range(run_times):\n",
    "    theta,w=model_training(epochs,theta0,w0)\n",
    "    test_pred=[classical_quantum_net(theta,w,x) for x in X_test]\n",
    "    test_diff=np.abs(Y_test-test_pred)\n",
    "    mean_error=np.mean(test_diff)\n",
    "    print(mean_error)\n",
    "    list_mean_error.append(mean_error)"
   ]
  },
  {
   "cell_type": "code",
   "execution_count": 23,
   "id": "cb7a5a44-cf33-4cb4-ac28-027fdf9ee262",
   "metadata": {},
   "outputs": [
    {
     "name": "stdout",
     "output_type": "stream",
     "text": [
      "1.9635025037323378e-07\n"
     ]
    }
   ],
   "source": [
    "array_mean_error=np.array(list_mean_error)\n",
    "print(np.var(array_mean_error))"
   ]
  },
  {
   "cell_type": "code",
   "execution_count": 24,
   "id": "8359f8c5-6ef8-4c01-b1a9-37e2bc40d15e",
   "metadata": {},
   "outputs": [
    {
     "name": "stdout",
     "output_type": "stream",
     "text": [
      "time now: 2022-08-11 18:45:45.495130\n"
     ]
    }
   ],
   "source": [
    "start=datetime.datetime.now()\n",
    "print('time now:', start)"
   ]
  }
 ],
 "metadata": {
  "kernelspec": {
   "display_name": "Python 3 (ipykernel)",
   "language": "python",
   "name": "python3"
  },
  "language_info": {
   "codemirror_mode": {
    "name": "ipython",
    "version": 3
   },
   "file_extension": ".py",
   "mimetype": "text/x-python",
   "name": "python",
   "nbconvert_exporter": "python",
   "pygments_lexer": "ipython3",
   "version": "3.9.12"
  }
 },
 "nbformat": 4,
 "nbformat_minor": 5
}
