{
 "cells": [
  {
   "cell_type": "code",
   "execution_count": 1,
   "id": "98846881-8199-4252-b1fe-ded30ae01261",
   "metadata": {},
   "outputs": [],
   "source": [
    "#==============================================================================\n",
    "# Generate data and labels\n",
    "#==============================================================================\n",
    "import numpy as np\n",
    "from math import pi\n",
    "\n",
    "np.random.seed(0)\n",
    "m = 100\n",
    "X = np.linspace(-0.95,0.95,m)\n",
    "y = np.sin(np.pi*X)"
   ]
  },
  {
   "cell_type": "code",
   "execution_count": 2,
   "id": "af320dde-44e4-4775-81fa-c0cdd9ecea90",
   "metadata": {},
   "outputs": [
    {
     "data": {
      "image/png": "[encoded data removed]",
      "text/plain": [
       "<Figure size 432x288 with 1 Axes>"
      ]
     },
     "metadata": {
      "needs_background": "light"
     },
     "output_type": "display_data"
    }
   ],
   "source": [
    "# plot data\n",
    "import matplotlib.pyplot as plt\n",
    "plt.plot(X,y,'r-')\n",
    "plt.show()"
   ]
  },
  {
   "cell_type": "code",
   "execution_count": 3,
   "id": "575cb0b8-8bc2-44f9-ae8c-ac530c250e1f",
   "metadata": {},
   "outputs": [],
   "source": [
    "# Encode inputs\n",
    "#==============================================================================    \n",
    "import qsimulator as pq\n",
    "from qsimulator import RX, RY, RZ\n",
    "n_qubits = 2\n",
    "def input_prog(sample):\n",
    "    p = pq.Program(n_qubits)\n",
    "    for j in range(n_qubits):\n",
    "        p.inst(RY(np.arcsin(sample[0])), j)\n",
    "        p.inst(RZ(np.arccos(sample[0]**2)), j)\n",
    "    return p"
   ]
  },
  {
   "cell_type": "code",
   "execution_count": 4,
   "id": "e0be63a6-82dc-4124-972a-833d592cadb6",
   "metadata": {},
   "outputs": [],
   "source": [
    "#==============================================================================\n",
    "# Fully connected transverse Ising model\n",
    "#==============================================================================   \n",
    "from qcl import ising_prog_gen \n",
    "ising_prog = ising_prog_gen(trotter_steps=1000, T=10, n_qubits=n_qubits)\n",
    "\n",
    "#==============================================================================\n",
    "# Output state\n",
    "#==============================================================================\n",
    "depth = 3   \n",
    "def output_prog(theta):\n",
    "    p = pq.Program(n_qubits)\n",
    "    theta = theta.reshape(3,n_qubits,depth)\n",
    "    for i in range(depth):\n",
    "        p += ising_prog\n",
    "        for j in range(n_qubits):\n",
    "            rj = n_qubits-j-1\n",
    "            p.inst(RX(theta[0,rj,i]), j)\n",
    "            p.inst(RZ(theta[1,rj,i]), j)\n",
    "            p.inst(RX(theta[2,rj,i]), j)\n",
    "    return p"
   ]
  },
  {
   "cell_type": "code",
   "execution_count": 5,
   "id": "35b161b9-6526-4478-a511-31d1a7717cb3",
   "metadata": {},
   "outputs": [],
   "source": [
    "#==============================================================================\n",
    "# Gradients\n",
    "#==============================================================================\n",
    "def grad_prog(theta, idx, sign):\n",
    "    theta = theta.reshape(3,n_qubits,depth)\n",
    "    idx = np.unravel_index(idx, theta.shape)\n",
    "    p = pq.Program(n_qubits)\n",
    "    for i in range(depth):\n",
    "        p += ising_prog\n",
    "        for j in range(n_qubits):\n",
    "            rj = n_qubits-j-1\n",
    "            if idx == (0,rj,i):\n",
    "                p.inst(RX(sign*np.pi/2.0), j)\n",
    "            p.inst(RX(theta[0,rj,i]), j)\n",
    "            if idx == (1,rj,i):\n",
    "                p.inst(RZ(sign*np.pi/2.0), j)\n",
    "            p.inst(RZ(theta[1,rj,i]), j)\n",
    "            if idx == (2,rj,i):\n",
    "                p.inst(RX(sign*np.pi/2.0), j)\n",
    "            p.inst(RX(theta[2,rj,i]), j)\n",
    "    return p"
   ]
  },
  {
   "cell_type": "code",
   "execution_count": 6,
   "id": "eba95a11-dfd7-40f2-a2bc-41307ef34ebb",
   "metadata": {},
   "outputs": [
    {
     "name": "stdout",
     "output_type": "stream",
     "text": [
      "Epoch: 1/100 ::: Batch: 1/1 ::: Loss: 1.12001\n",
      "Epoch: 2/100 ::: Batch: 1/1 ::: Loss: 0.55464\n",
      "Epoch: 3/100 ::: Batch: 1/1 ::: Loss: 0.45449\n",
      "Epoch: 4/100 ::: Batch: 1/1 ::: Loss: 0.40774\n",
      "Epoch: 5/100 ::: Batch: 1/1 ::: Loss: 0.35209\n",
      "Epoch: 6/100 ::: Batch: 1/1 ::: Loss: 0.28608\n",
      "Epoch: 7/100 ::: Batch: 1/1 ::: Loss: 0.23508\n",
      "Epoch: 8/100 ::: Batch: 1/1 ::: Loss: 0.25540\n",
      "Epoch: 9/100 ::: Batch: 1/1 ::: Loss: 0.25531\n",
      "Epoch: 10/100 ::: Batch: 1/1 ::: Loss: 0.28613\n",
      "Epoch: 11/100 ::: Batch: 1/1 ::: Loss: 0.16968\n",
      "Epoch: 12/100 ::: Batch: 1/1 ::: Loss: 0.14706\n",
      "Epoch: 13/100 ::: Batch: 1/1 ::: Loss: 0.13603\n",
      "Epoch: 14/100 ::: Batch: 1/1 ::: Loss: 0.15640\n",
      "Epoch: 15/100 ::: Batch: 1/1 ::: Loss: 0.14118\n",
      "Epoch: 16/100 ::: Batch: 1/1 ::: Loss: 0.16105\n",
      "Epoch: 17/100 ::: Batch: 1/1 ::: Loss: 0.13059\n",
      "Epoch: 18/100 ::: Batch: 1/1 ::: Loss: 0.13893\n",
      "Epoch: 19/100 ::: Batch: 1/1 ::: Loss: 0.11750\n",
      "Epoch: 20/100 ::: Batch: 1/1 ::: Loss: 0.12427\n",
      "Epoch: 21/100 ::: Batch: 1/1 ::: Loss: 0.11056\n",
      "Epoch: 22/100 ::: Batch: 1/1 ::: Loss: 0.11946\n",
      "Epoch: 23/100 ::: Batch: 1/1 ::: Loss: 0.10813\n",
      "Epoch: 24/100 ::: Batch: 1/1 ::: Loss: 0.11904\n",
      "Epoch: 25/100 ::: Batch: 1/1 ::: Loss: 0.10613\n",
      "Epoch: 26/100 ::: Batch: 1/1 ::: Loss: 0.11618\n",
      "Epoch: 27/100 ::: Batch: 1/1 ::: Loss: 0.10150\n",
      "Epoch: 28/100 ::: Batch: 1/1 ::: Loss: 0.10877\n",
      "Epoch: 29/100 ::: Batch: 1/1 ::: Loss: 0.09548\n",
      "Epoch: 30/100 ::: Batch: 1/1 ::: Loss: 0.10115\n",
      "Epoch: 31/100 ::: Batch: 1/1 ::: Loss: 0.09054\n",
      "Epoch: 32/100 ::: Batch: 1/1 ::: Loss: 0.09626\n",
      "Epoch: 33/100 ::: Batch: 1/1 ::: Loss: 0.08746\n",
      "Epoch: 34/100 ::: Batch: 1/1 ::: Loss: 0.09379\n",
      "Epoch: 35/100 ::: Batch: 1/1 ::: Loss: 0.08540\n",
      "Epoch: 36/100 ::: Batch: 1/1 ::: Loss: 0.09164\n",
      "Epoch: 37/100 ::: Batch: 1/1 ::: Loss: 0.08284\n",
      "Epoch: 38/100 ::: Batch: 1/1 ::: Loss: 0.08800\n",
      "Epoch: 39/100 ::: Batch: 1/1 ::: Loss: 0.07931\n",
      "Epoch: 40/100 ::: Batch: 1/1 ::: Loss: 0.08334\n",
      "Epoch: 41/100 ::: Batch: 1/1 ::: Loss: 0.07573\n",
      "Epoch: 42/100 ::: Batch: 1/1 ::: Loss: 0.07944\n",
      "Epoch: 43/100 ::: Batch: 1/1 ::: Loss: 0.07312\n",
      "Epoch: 44/100 ::: Batch: 1/1 ::: Loss: 0.07711\n",
      "Epoch: 45/100 ::: Batch: 1/1 ::: Loss: 0.07161\n",
      "Epoch: 46/100 ::: Batch: 1/1 ::: Loss: 0.07581\n",
      "Epoch: 47/100 ::: Batch: 1/1 ::: Loss: 0.07047\n",
      "Epoch: 48/100 ::: Batch: 1/1 ::: Loss: 0.07429\n",
      "Epoch: 49/100 ::: Batch: 1/1 ::: Loss: 0.06884\n",
      "Epoch: 50/100 ::: Batch: 1/1 ::: Loss: 0.07192\n",
      "Epoch: 51/100 ::: Batch: 1/1 ::: Loss: 0.06675\n",
      "Epoch: 52/100 ::: Batch: 1/1 ::: Loss: 0.06934\n",
      "Epoch: 53/100 ::: Batch: 1/1 ::: Loss: 0.06490\n",
      "Epoch: 54/100 ::: Batch: 1/1 ::: Loss: 0.06750\n",
      "Epoch: 55/100 ::: Batch: 1/1 ::: Loss: 0.06384\n",
      "Epoch: 56/100 ::: Batch: 1/1 ::: Loss: 0.06659\n",
      "Epoch: 57/100 ::: Batch: 1/1 ::: Loss: 0.06339\n",
      "Epoch: 58/100 ::: Batch: 1/1 ::: Loss: 0.06603\n",
      "Epoch: 59/100 ::: Batch: 1/1 ::: Loss: 0.06291\n",
      "Epoch: 60/100 ::: Batch: 1/1 ::: Loss: 0.06509\n",
      "Epoch: 61/100 ::: Batch: 1/1 ::: Loss: 0.06198\n",
      "Epoch: 62/100 ::: Batch: 1/1 ::: Loss: 0.06365\n",
      "Epoch: 63/100 ::: Batch: 1/1 ::: Loss: 0.06081\n",
      "Epoch: 64/100 ::: Batch: 1/1 ::: Loss: 0.06227\n",
      "Epoch: 65/100 ::: Batch: 1/1 ::: Loss: 0.05992\n",
      "Epoch: 66/100 ::: Batch: 1/1 ::: Loss: 0.06138\n",
      "Epoch: 67/100 ::: Batch: 1/1 ::: Loss: 0.05950\n",
      "Epoch: 68/100 ::: Batch: 1/1 ::: Loss: 0.06095\n",
      "Epoch: 69/100 ::: Batch: 1/1 ::: Loss: 0.05932\n",
      "Epoch: 70/100 ::: Batch: 1/1 ::: Loss: 0.06056\n",
      "Epoch: 71/100 ::: Batch: 1/1 ::: Loss: 0.05897\n",
      "Epoch: 72/100 ::: Batch: 1/1 ::: Loss: 0.05988\n",
      "Epoch: 73/100 ::: Batch: 1/1 ::: Loss: 0.05833\n",
      "Epoch: 74/100 ::: Batch: 1/1 ::: Loss: 0.05896\n",
      "Epoch: 75/100 ::: Batch: 1/1 ::: Loss: 0.05760\n",
      "Epoch: 76/100 ::: Batch: 1/1 ::: Loss: 0.05814\n",
      "Epoch: 77/100 ::: Batch: 1/1 ::: Loss: 0.05705\n",
      "Epoch: 78/100 ::: Batch: 1/1 ::: Loss: 0.05760\n",
      "Epoch: 79/100 ::: Batch: 1/1 ::: Loss: 0.05677\n",
      "Epoch: 80/100 ::: Batch: 1/1 ::: Loss: 0.05728\n",
      "Epoch: 81/100 ::: Batch: 1/1 ::: Loss: 0.05658\n",
      "Epoch: 82/100 ::: Batch: 1/1 ::: Loss: 0.05695\n",
      "Epoch: 83/100 ::: Batch: 1/1 ::: Loss: 0.05627\n",
      "Epoch: 84/100 ::: Batch: 1/1 ::: Loss: 0.05646\n",
      "Epoch: 85/100 ::: Batch: 1/1 ::: Loss: 0.05579\n",
      "Epoch: 86/100 ::: Batch: 1/1 ::: Loss: 0.05585\n",
      "Epoch: 87/100 ::: Batch: 1/1 ::: Loss: 0.05528\n",
      "Epoch: 88/100 ::: Batch: 1/1 ::: Loss: 0.05531\n",
      "Epoch: 89/100 ::: Batch: 1/1 ::: Loss: 0.05488\n",
      "Epoch: 90/100 ::: Batch: 1/1 ::: Loss: 0.05492\n",
      "Epoch: 91/100 ::: Batch: 1/1 ::: Loss: 0.05462\n",
      "Epoch: 92/100 ::: Batch: 1/1 ::: Loss: 0.05465\n",
      "Epoch: 93/100 ::: Batch: 1/1 ::: Loss: 0.05441\n",
      "Epoch: 94/100 ::: Batch: 1/1 ::: Loss: 0.05437\n",
      "Epoch: 95/100 ::: Batch: 1/1 ::: Loss: 0.05413\n",
      "Epoch: 96/100 ::: Batch: 1/1 ::: Loss: 0.05400\n",
      "Epoch: 97/100 ::: Batch: 1/1 ::: Loss: 0.05377\n",
      "Epoch: 98/100 ::: Batch: 1/1 ::: Loss: 0.05358\n",
      "Epoch: 99/100 ::: Batch: 1/1 ::: Loss: 0.05338\n",
      "Epoch: 100/100 ::: Batch: 1/1 ::: Loss: 0.05318\n"
     ]
    }
   ],
   "source": [
    "#==============================================================================\n",
    "# Quantum Circuit Learning - Regression\n",
    "#==============================================================================\n",
    "from qsimulator import Z\n",
    "from qcl import QCL\n",
    "\n",
    "state_generators = dict()\n",
    "state_generators['input'] = input_prog\n",
    "state_generators['output'] = output_prog\n",
    "state_generators['grad'] = grad_prog\n",
    "\n",
    "initial_theta = np.random.uniform(0.0, 2*np.pi, size=3*n_qubits*depth)\n",
    "\n",
    "operator = pq.Program(n_qubits)\n",
    "operator.inst(Z, 0)\n",
    "operator_programs = [operator] \n",
    "est = QCL(state_generators, initial_theta, loss=\"mean_squared_error\",  \n",
    "          operator_programs=operator_programs, epochs=100, batch_size=m,\n",
    "          verbose=True)\n",
    "\n",
    "est.fit(X,y)\n",
    "results = est.get_results()\n",
    "\n",
    "X_test = np.linspace(-1.0,1.0,50)\n",
    "y_pred = est.predict(X_test)"
   ]
  },
  {
   "cell_type": "code",
   "execution_count": 7,
   "id": "9f56bec9-8e80-494c-ba5a-fd3bcf8122b0",
   "metadata": {},
   "outputs": [
    {
     "data": {
      "text/plain": [
       "Text(0, 0.5, 'Loss')"
      ]
     },
     "execution_count": 7,
     "metadata": {},
     "output_type": "execute_result"
    },
    {
     "data": {
      "image/png": "[encoded data removed]",
      "text/plain": [
       "<Figure size 432x288 with 1 Axes>"
      ]
     },
     "metadata": {
      "needs_background": "light"
     },
     "output_type": "display_data"
    },
    {
     "data": {
      "image/png": "[encoded data removed]",
      "text/plain": [
       "<Figure size 432x288 with 1 Axes>"
      ]
     },
     "metadata": {
      "needs_background": "light"
     },
     "output_type": "display_data"
    }
   ],
   "source": [
    "#==============================================================================\n",
    "# PLots\n",
    "#==============================================================================\n",
    "import matplotlib.pyplot as plt\n",
    "plt.figure()\n",
    "plt.plot(X, y, 'bs', X_test,  y_pred, 'r-')\n",
    "\n",
    "plt.figure()\n",
    "plt.plot(np.arange(1,101), results.history_loss, 'bo-')\n",
    "plt.xticks(np.arange(1,101,4))\n",
    "plt.xlabel('Epoch')\n",
    "plt.ylabel('Loss')"
   ]
  }
 ],
 "metadata": {
  "kernelspec": {
   "display_name": "Python 3 (ipykernel)",
   "language": "python",
   "name": "python3"
  },
  "language_info": {
   "codemirror_mode": {
    "name": "ipython",
    "version": 3
   },
   "file_extension": ".py",
   "mimetype": "text/x-python",
   "name": "python",
   "nbconvert_exporter": "python",
   "pygments_lexer": "ipython3",
   "version": "3.9.12"
  }
 },
 "nbformat": 4,
 "nbformat_minor": 5
}
