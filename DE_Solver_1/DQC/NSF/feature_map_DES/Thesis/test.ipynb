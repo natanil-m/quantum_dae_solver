{
 "cells": [
  {
   "cell_type": "code",
   "execution_count": 4,
   "metadata": {},
   "outputs": [],
   "source": [
    "import numpy as np\n",
    "from scipy.integrate import solve_ivp\n",
    "import matplotlib.pyplot as plt\n",
    "\n",
    "def heat_pde(t, u, x):\n",
    "    w = 1\n",
    "    c = 1\n",
    "    f = w * np.gradient(u, x)\n",
    "    s = 0\n",
    "    return f\n",
    "\n",
    "def heat_ic(x):\n",
    "    u0 = np.sin(np.pi / 0.9 * x)\n",
    "    return u0\n",
    "\n",
    "def heat_bc(t, ul, ur):\n",
    "    return ul - heat_ic(0), ur - heat_ic(0.9)\n",
    "\n",
    "x_points = 20\n",
    "t_points = 10\n",
    "x = np.linspace(0, 0.9, x_points)\n",
    "t = np.linspace(0, 0.1, t_points)\n",
    "\n",
    "# Solve the PDE using solve_ivp\n",
    "sol = solve_ivp(lambda t, u: heat_pde(t, u, x), [t[0], t[-1]], heat_ic(x), t_eval=t)\n",
    "\n",
    "u_heat = sol.y.T  # Transpose for correct shape\n",
    "\n",
    "# Save the solution, x, and t to files\n",
    "np.save('u_heat.npy', u_heat)\n",
    "np.save('x_heat.npy', x)\n",
    "np.save('t_heat.npy', t)\n",
    "\n",
    "\n"
   ]
  }
 ],
 "metadata": {
  "kernelspec": {
   "display_name": "Python 3",
   "language": "python",
   "name": "python3"
  },
  "language_info": {
   "codemirror_mode": {
    "name": "ipython",
    "version": 3
   },
   "file_extension": ".py",
   "mimetype": "text/x-python",
   "name": "python",
   "nbconvert_exporter": "python",
   "pygments_lexer": "ipython3",
   "version": "3.9.7"
  },
  "orig_nbformat": 4
 },
 "nbformat": 4,
 "nbformat_minor": 2
}
