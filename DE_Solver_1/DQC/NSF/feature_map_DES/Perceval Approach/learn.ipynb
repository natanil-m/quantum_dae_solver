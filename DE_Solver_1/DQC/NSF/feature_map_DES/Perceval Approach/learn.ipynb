{
 "cells": [
  {
   "cell_type": "code",
   "execution_count": 32,
   "metadata": {},
   "outputs": [
    {
     "data": {
      "text/plain": [
       "'0.8.1'"
      ]
     },
     "execution_count": 32,
     "metadata": {},
     "output_type": "execute_result"
    }
   ],
   "source": [
    "import perceval as pcvl\n",
    "pcvl.__version__"
   ]
  },
  {
   "cell_type": "code",
   "execution_count": 33,
   "metadata": {},
   "outputs": [],
   "source": [
    "from perceval.components.unitary_components import PS, BS, PERM\n",
    "import numpy as np\n",
    "\n",
    "## Use the symbolic skin for display\n",
    "from perceval.rendering.circuit import DisplayConfig, SymbSkin\n",
    "DisplayConfig.select_skin(SymbSkin)"
   ]
  },
  {
   "cell_type": "code",
   "execution_count": 34,
   "metadata": {},
   "outputs": [
    {
     "name": "stdout",
     "output_type": "stream",
     "text": [
      "With herald only\n",
      "Logical perf = 0.7500000000000001\n",
      "{\n",
      "  |1,0>: 0.028595\n",
      "  |0,1>: 0.971405\n",
      "}\n",
      "With herald + post-selection function\n",
      "Logical perf = 0.7285533905932737\n",
      "{\n",
      "  |0,1>: 1\n",
      "}\n"
     ]
    }
   ],
   "source": [
    "circuit = pcvl.Circuit(3) // BS() // (1, BS()) // BS()\n",
    "p = pcvl.Processor(\"Naive\", circuit)\n",
    "p.add_herald(2,0)  # Third mode is heralded (0 photon in, 0 photon expected out)\n",
    "\n",
    "# After a mode is heralded, you must not take it into account when setting an input to the processor\n",
    "p.with_input(pcvl.BasicState([1, 0]))\n",
    "sampler = pcvl.algorithm.Sampler(p)\n",
    "# p.min_detected_photons_filter(0)\n",
    "probs = sampler.probs()\n",
    "print(\"With herald only\")\n",
    "print(\"Logical perf =\", probs['logical_perf'])\n",
    "print(probs['results'])\n",
    "\n",
    "# A post-selection function must have the following signature:\n",
    "def postselect_func(s: pcvl.BasicState) -> bool:\n",
    "    return s[1] == 1\n",
    "\n",
    "p.set_postprocess(postselect_func)  # Add post-selection\n",
    "probs = sampler.probs()\n",
    "print(\"With herald + post-selection function\")\n",
    "print(\"Logical perf =\", probs['logical_perf'])\n",
    "print(probs['results'])"
   ]
  }
 ],
 "metadata": {
  "kernelspec": {
   "display_name": "base",
   "language": "python",
   "name": "python3"
  },
  "language_info": {
   "codemirror_mode": {
    "name": "ipython",
    "version": 3
   },
   "file_extension": ".py",
   "mimetype": "text/x-python",
   "name": "python",
   "nbconvert_exporter": "python",
   "pygments_lexer": "ipython3",
   "version": "3.10.9"
  },
  "orig_nbformat": 4
 },
 "nbformat": 4,
 "nbformat_minor": 2
}
