{
 "cells": [
  {
   "cell_type": "code",
   "execution_count": 1,
   "metadata": {},
   "outputs": [],
   "source": [
    "# !pip install perceval-quandela"
   ]
  },
  {
   "cell_type": "code",
   "execution_count": 2,
   "metadata": {},
   "outputs": [],
   "source": [
    "import perceval as pcvl\n",
    "import numpy as np\n",
    "from math import comb\n",
    "from scipy.optimize import minimize\n",
    "import time\n",
    "import matplotlib.pyplot as plt\n",
    "import matplotlib as mpl\n",
    "import tqdm as tqdm"
   ]
  },
  {
   "cell_type": "code",
   "execution_count": 3,
   "metadata": {},
   "outputs": [],
   "source": [
    "nphotons = 4\n"
   ]
  },
  {
   "cell_type": "code",
   "execution_count": 4,
   "metadata": {},
   "outputs": [],
   "source": [
    "# Differential equation parameters u(x, t) = x^2 + t^2 + xt\n",
    "\n",
    "def F(U_x,U_t,X,T):       # DE, works with numpy arrays\n",
    "    return U_x+U_t+3*X+3*T\n",
    "\n",
    "# Boundary Fs\n",
    "def B1(U_0t,T):       # u(0, t) = t^2\n",
    "    return U_0t-T**2\n",
    "def B2(U_x0,X):       # u(1, t) = 0\n",
    "    return U_x0-X**2\n",
    "def B3(U_00):       # U(0,0) = 0\n",
    "    return U_00"
   ]
  },
  {
   "cell_type": "code",
   "execution_count": 5,
   "metadata": {},
   "outputs": [],
   "source": [
    "# Boundary condition (f(x_0)=f_0)\n",
    "# x_0 = 0\n",
    "# f_0 = np.sin(0)"
   ]
  },
  {
   "cell_type": "code",
   "execution_count": 6,
   "metadata": {},
   "outputs": [],
   "source": [
    "# Modeling parameters\n",
    "n_grid = 5    # number of grid points of the discretized differential equation\n",
    "range_min = 0  # minimum of the interval on which we wish to approximate our function\n",
    "range_max = 1  # maximum of the interval on which we wish to approximate our function\n",
    "X = np.linspace(range_min, range_max-range_min, n_grid)  # Optimisation grid\n",
    "T = np.linspace(range_min, range_max-range_min, n_grid)  # Optimisation grid"
   ]
  },
  {
   "cell_type": "code",
   "execution_count": 7,
   "metadata": {},
   "outputs": [],
   "source": [
    "# Differential equation's exact solution - for comparison\n",
    "def u(x,t):\n",
    "    return x**2+t**2+x*t"
   ]
  },
  {
   "cell_type": "code",
   "execution_count": 8,
   "metadata": {},
   "outputs": [],
   "source": [
    "# Parameters of the quantum machine learning procedure\n",
    "N = nphotons              # Number of photons\n",
    "m = nphotons              # Number of modes\n",
    "eta = 5                   # weight granted to the initial condition\n",
    "a = 200                   # Approximate boundaries of the interval that the image of the trial function can cover\n",
    "fock_dim = comb(N + m - 1, N)\n",
    "# lambda coefficients for all the possible outputs\n",
    "lambda_random = 2 * a * np.random.rand(fock_dim) - a\n",
    "# dx serves for the numerical differentiation of f\n",
    "dx = (range_max-range_min) / (n_grid - 1)"
   ]
  },
  {
   "cell_type": "code",
   "execution_count": 9,
   "metadata": {},
   "outputs": [
    {
     "name": "stdout",
     "output_type": "stream",
     "text": [
      "|1,1,1,1>\n"
     ]
    }
   ],
   "source": [
    "# Input state with N photons and m modes\n",
    "input_state = pcvl.BasicState([1]*N+[0]*(m-N))\n",
    "print(input_state)"
   ]
  },
  {
   "cell_type": "code",
   "execution_count": 10,
   "metadata": {},
   "outputs": [
    {
     "data": {
      "image/svg+xml": [
       "<?xml version=\"1.0\" encoding=\"UTF-8\"?>\n",
       "<svg xmlns=\"http://www.w3.org/2000/svg\" xmlns:xlink=\"http://www.w3.org/1999/xlink\"\n",
       "     width=\"695.0\" height=\"281.25\" viewBox=\"-28.0 0 556.0 225.0\">\n",
       "<defs>\n",
       "</defs>\n",
       "<path d=\"M10,25 L25,25\" stroke-width=\"3\" stroke=\"darkred\" stroke-linejoin=\"miter\" fill=\"none\" />\n",
       "<path d=\"M10,75 L25,75\" stroke-width=\"3\" stroke=\"darkred\" stroke-linejoin=\"miter\" fill=\"none\" />\n",
       "<path d=\"M10,125 L25,125\" stroke-width=\"3\" stroke=\"darkred\" stroke-linejoin=\"miter\" fill=\"none\" />\n",
       "<path d=\"M10,175 L25,175\" stroke-width=\"3\" stroke=\"darkred\" stroke-linejoin=\"miter\" fill=\"none\" />\n",
       "<path d=\"M25,25 L225,25\" stroke-width=\"3\" stroke=\"darkred\" stroke-linejoin=\"miter\" fill=\"none\" />\n",
       "<path d=\"M25,75 L225,75\" stroke-width=\"3\" stroke=\"darkred\" stroke-linejoin=\"miter\" fill=\"none\" />\n",
       "<path d=\"M25,125 L225,125\" stroke-width=\"3\" stroke=\"darkred\" stroke-linejoin=\"miter\" fill=\"none\" />\n",
       "<path d=\"M25,175 L225,175\" stroke-width=\"3\" stroke=\"darkred\" stroke-linejoin=\"miter\" fill=\"none\" />\n",
       "<path d=\"M30,5 L220,5 L220,195 L30,195 Z\" stroke=\"black\" fill=\"gold\" stroke-linejoin=\"miter\" />\n",
       "<text x=\"125\" y=\"100\" font-size=\"10\" text-anchor=\"middle\">W1</text>\n",
       "<path d=\"M225,25 L275,25\" stroke=\"darkred\" stroke-width=\"3\" fill=\"none\" />\n",
       "<path d=\"M230,40 L239,40 L253,10 L244,10 L230,40 L239,40 Z\" stroke=\"black\" fill=\"gray\" stroke-linejoin=\"miter\" />\n",
       "<text x=\"247\" y=\"38\" font-size=\"7\" text-anchor=\"start\">Φ=px</text>\n",
       "<path d=\"M225,75 L275,75\" stroke=\"darkred\" stroke-width=\"3\" fill=\"none\" />\n",
       "<path d=\"M230,90 L239,90 L253,60 L244,60 L230,90 L239,90 Z\" stroke=\"black\" fill=\"gray\" stroke-linejoin=\"miter\" />\n",
       "<text x=\"247\" y=\"88\" font-size=\"7\" text-anchor=\"start\">Φ=pt</text>\n",
       "<path d=\"M225,125 L275,125\" stroke=\"darkred\" stroke-width=\"3\" fill=\"none\" />\n",
       "<path d=\"M225,175 L275,175\" stroke=\"darkred\" stroke-width=\"3\" fill=\"none\" />\n",
       "<path d=\"M275,25 L475,25\" stroke-width=\"3\" stroke=\"darkred\" stroke-linejoin=\"miter\" fill=\"none\" />\n",
       "<path d=\"M275,75 L475,75\" stroke-width=\"3\" stroke=\"darkred\" stroke-linejoin=\"miter\" fill=\"none\" />\n",
       "<path d=\"M275,125 L475,125\" stroke-width=\"3\" stroke=\"darkred\" stroke-linejoin=\"miter\" fill=\"none\" />\n",
       "<path d=\"M275,175 L475,175\" stroke-width=\"3\" stroke=\"darkred\" stroke-linejoin=\"miter\" fill=\"none\" />\n",
       "<path d=\"M280,5 L470,5 L470,195 L280,195 Z\" stroke=\"black\" fill=\"gold\" stroke-linejoin=\"miter\" />\n",
       "<text x=\"375\" y=\"100\" font-size=\"10\" text-anchor=\"middle\">W2</text>\n",
       "<path d=\"M475,25 L490,25\" stroke-width=\"3\" stroke=\"darkred\" stroke-linejoin=\"miter\" fill=\"none\" />\n",
       "<path d=\"M475,75 L490,75\" stroke-width=\"3\" stroke=\"darkred\" stroke-linejoin=\"miter\" fill=\"none\" />\n",
       "<path d=\"M475,125 L490,125\" stroke-width=\"3\" stroke=\"darkred\" stroke-linejoin=\"miter\" fill=\"none\" />\n",
       "<path d=\"M475,175 L490,175\" stroke-width=\"3\" stroke=\"darkred\" stroke-linejoin=\"miter\" fill=\"none\" />\n",
       "<text x=\"500\" y=\"28\" font-size=\"6\" text-anchor=\"end\">0</text>\n",
       "<text x=\"500\" y=\"78\" font-size=\"6\" text-anchor=\"end\">1</text>\n",
       "<text x=\"500\" y=\"128\" font-size=\"6\" text-anchor=\"end\">2</text>\n",
       "<text x=\"500\" y=\"178\" font-size=\"6\" text-anchor=\"end\">3</text>\n",
       "<text x=\"0\" y=\"28\" font-size=\"6\" text-anchor=\"start\">0</text>\n",
       "<text x=\"0\" y=\"78\" font-size=\"6\" text-anchor=\"start\">1</text>\n",
       "<text x=\"0\" y=\"128\" font-size=\"6\" text-anchor=\"start\">2</text>\n",
       "<text x=\"0\" y=\"178\" font-size=\"6\" text-anchor=\"start\">3</text>\n",
       "</svg>"
      ],
      "text/plain": [
       "<drawsvg.drawing.Drawing at 0x7f21106084c0>"
      ]
     },
     "execution_count": 10,
     "metadata": {},
     "output_type": "execute_result"
    }
   ],
   "source": [
    "\"Haar unitary parameters\"\n",
    "# number of parameters used for the two universal interferometers (2*m**2 per interferometer)\n",
    "parameters = np.random.normal(size=4*m**2)\n",
    "\n",
    "px = pcvl.P(\"px\")\n",
    "pt = pcvl.P(\"pt\")\n",
    "c = pcvl.Unitary(pcvl.Matrix.random_unitary(m, parameters[:2 * m ** 2]), name=\"W1\")\\\n",
    "     // (0, pcvl.PS(px))\\\n",
    "     // (1, pcvl.PS(pt))\\\n",
    "     // pcvl.Unitary(pcvl.Matrix.random_unitary(m, parameters[2 * m ** 2:]), name=\"W2\")\n",
    "\n",
    "simulator_backend = pcvl.BackendFactory().get_backend(\"SLOS\")\n",
    "s1 = simulator_backend(pcvl.Matrix.random_unitary(m))\n",
    "s1.compile(input_state)\n",
    "\n",
    "pcvl.pdisplay(c)"
   ]
  },
  {
   "cell_type": "code",
   "execution_count": 11,
   "metadata": {},
   "outputs": [],
   "source": [
    "def computation(params):\n",
    "    global current_loss\n",
    "    global computation_count\n",
    "    \"compute the loss function of a given differential equation in order for it to be optimized\"\n",
    "    computation_count += 1\n",
    "\n",
    "    current_loss = 0\n",
    "\n",
    "    coefs = lambda_random  # coefficients of the M observable\n",
    "    # initial condition with the two universal interferometers and the phase shift in the middle\n",
    "    U_1 = pcvl.Matrix.random_unitary(m, params[:2 * m ** 2])\n",
    "    U_2 = pcvl.Matrix.random_unitary(m, params[2 * m ** 2:])\n",
    "\n",
    "    px = pcvl.P(\"x\")\n",
    "    pt = pcvl.P(\"t\")\n",
    "    c = pcvl.Unitary(U_2) // (0, pcvl.PS(px))// (1, pcvl.PS(pt))  // pcvl.Unitary(U_1)\n",
    "\n",
    "\n",
    "    for i in range(0, n_grid):\n",
    "        for j in range(0,n_grid):\n",
    "            x = X[i]\n",
    "            t = T[j]\n",
    "            px.set_value(np.pi * x)\n",
    "            pt.set_value(np.pi * t)\n",
    "            s1.U = c.compute_unitary(use_symbolic=False)\n",
    "            quantum_res = np.sum(np.multiply(s1.all_prob(input_state), coefs))\n",
    "            classical_res = u(x,t)\n",
    "            # print(quantum_res)\n",
    "            # print(classical_res)\n",
    "            # print('==========')\n",
    "            current_loss += (quantum_res-classical_res)**2\n",
    "\n",
    "\n",
    "    # print(current_loss)\n",
    "    current_loss = current_loss / len(X)\n",
    "    return current_loss"
   ]
  },
  {
   "cell_type": "code",
   "execution_count": 12,
   "metadata": {},
   "outputs": [],
   "source": [
    "# def computation(params):\n",
    "#     global current_loss\n",
    "#     global computation_count\n",
    "#     \"compute the loss function of a given differential equation in order for it to be optimized\"\n",
    "#     computation_count += 1\n",
    "#     f_theta_0 = 0  # boundary condition\n",
    "#     f_theta_1 = 0  # boundary condition\n",
    "\n",
    "#     coefs = lambda_random  # coefficients of the M observable\n",
    "#     # initial condition with the two universal interferometers and the phase shift in the middle\n",
    "#     U_1 = pcvl.Matrix.random_unitary(m, params[:2 * m ** 2])\n",
    "#     U_2 = pcvl.Matrix.random_unitary(m, params[2 * m ** 2:])\n",
    "\n",
    "#     px = pcvl.P(\"x\")\n",
    "#     c = pcvl.Unitary(U_2) // (0, pcvl.PS(px)) // pcvl.Unitary(U_1)\n",
    "\n",
    "#     px.set_value(np.pi * x_0)\n",
    "#     U = c.compute_unitary(use_symbolic=False)\n",
    "#     s1.U = U\n",
    "#     f_theta_0 = np.sum(np.multiply(s1.all_prob(input_state), coefs))\n",
    "\n",
    "\n",
    "#     px.set_value(np.pi * 1)\n",
    "#     UU = c.compute_unitary(use_symbolic=False)\n",
    "#     s1.U = UU\n",
    "#     f_theta_1 = np.sum(np.multiply(s1.all_prob(input_state), coefs))\n",
    "\n",
    "#     # boundary condition given a weight eta\n",
    "#     loss = eta * (f_theta_0 - f_0) ** 2 * len(X)\n",
    "#     loss += eta * (f_theta_1 - np.sin(1)) ** 2 * len(X)\n",
    "#     # loss=0\n",
    "\n",
    "\n",
    "#     # Y[0] is before the domain we are interested in (used for differentiation), x_0 is at Y[1]\n",
    "#     Y = np.zeros(n_grid + 2)\n",
    "\n",
    "#     # x_0 is at the beginning of the domain, already calculated\n",
    "#     Y[1] = f_theta_0\n",
    "\n",
    "#     px.set_value(np.pi * (range_min - dx))\n",
    "#     s1.U = c.compute_unitary(use_symbolic=False)\n",
    "#     Y[0] = np.sum(np.multiply(s1.all_prob(input_state), coefs))\n",
    "\n",
    "\n",
    "#     for i in range(1, n_grid):\n",
    "#         x = X[i]\n",
    "#         px.set_value(np.pi * x)\n",
    "#         s1.U = c.compute_unitary(use_symbolic=False)\n",
    "#         Y[i + 1] = np.sum(np.multiply(s1.all_prob(input_state), coefs))\n",
    "\n",
    "#     px.set_value(np.pi * (range_max + dx))\n",
    "#     s1.U = c.compute_unitary(use_symbolic=False)\n",
    "#     Y[n_grid + 1] = np.sum(np.multiply(s1.all_prob(input_state), coefs))\n",
    "\n",
    "\n",
    "#     # Differentiation\n",
    "#     Y_prime = (Y[2:] - Y[:-2])/(2*dx)\n",
    "\n",
    "#     Y_zegond = (Y_prime[2:] - Y_prime[:-2])/(2*dx)\n",
    "\n",
    "#     loss += np.sum((F(Y_zegond,Y_prime, Y[2:-2], X[1:-1]))**2)\n",
    "\n",
    "#     current_loss = loss / len(X)\n",
    "#     return current_loss"
   ]
  },
  {
   "cell_type": "code",
   "execution_count": 13,
   "metadata": {},
   "outputs": [],
   "source": [
    "def callbackF(parameters):\n",
    "    \"\"\"callback function called by scipy.optimize.minimize allowing to monitor progress\"\"\"\n",
    "    global current_loss\n",
    "    global computation_count\n",
    "    global loss_evolution\n",
    "    global start_time\n",
    "    now = time.time()\n",
    "    pbar.set_description(\"M= %d Loss: %0.5f #computations: %d elapsed: %0.5f\" %\n",
    "                         (m, current_loss, computation_count, now-start_time))\n",
    "    pbar.update(1)\n",
    "    loss_evolution.append((current_loss, now-start_time))\n",
    "    computation_count = 0\n",
    "    start_time = now"
   ]
  },
  {
   "cell_type": "code",
   "execution_count": 14,
   "metadata": {},
   "outputs": [
    {
     "name": "stderr",
     "output_type": "stream",
     "text": [
      "M= 4 Loss: 12.97179 #computations: 65 elapsed: 0.44138: : 99it [00:52,  1.82it/s]  "
     ]
    }
   ],
   "source": [
    "computation_count = 0\n",
    "current_loss = 0\n",
    "start_time = time.time()\n",
    "loss_evolution = []\n",
    "\n",
    "pbar = tqdm.tqdm()\n",
    "res = minimize(computation, parameters, callback=callbackF, method='BFGS', options={'gtol': 1E-2})"
   ]
  },
  {
   "cell_type": "code",
   "execution_count": null,
   "metadata": {},
   "outputs": [],
   "source": [
    "print(\"Unitary parameters\", res.x)\n"
   ]
  },
  {
   "cell_type": "code",
   "execution_count": null,
   "metadata": {},
   "outputs": [],
   "source": [
    "import numpy as np\n",
    "import matplotlib.pyplot as plt\n",
    "from mpl_toolkits.mplot3d import Axes3D\n",
    "\n",
    "\n",
    "def plot_solution(m, N, X, optim_params, lambda_random):\n",
    "    # Y = []\n",
    "    U_1 = pcvl.Matrix.random_unitary(m, optim_params[:2 * m ** 2])\n",
    "    U_2 = pcvl.Matrix.random_unitary(m, optim_params[2 * m ** 2:])\n",
    "    px = pcvl.P(\"x\")\n",
    "    pt = pcvl.P(\"t\")\n",
    "    c = pcvl.Unitary(U_2) // (0, pcvl.PS(px)) // (1, pcvl.PS(pt))// pcvl.Unitary(U_1)\n",
    "\n",
    "    # Create a meshgrid of x and t values\n",
    "    X, T = np.meshgrid(X, T)\n",
    "    F = np.zeros((len(X), len(T)))\n",
    "    for i in range(len(X)):\n",
    "        for j in range(len(T)):\n",
    "            px.set_value(np.pi * X[i])\n",
    "            pt.set_value(np.pi*T[j])\n",
    "            U = c.compute_unitary(use_symbolic=False)\n",
    "            s1.U = U\n",
    "            f_theta = np.sum(np.multiply(s1.all_prob(input_state), lambda_random))\n",
    "            F[i,j]=f_theta\n",
    "            # Y.append(f_theta)\n",
    "            \n",
    "    # Create a 3D plot\n",
    "    fig = plt.figure()\n",
    "    ax = fig.add_subplot(111, projection='3d')\n",
    "    ax.plot_surface(X, T, F, cmap='viridis')\n",
    "\n",
    "    # Set labels and title\n",
    "    ax.set_xlabel('x')\n",
    "    ax.set_ylabel('t')\n",
    "    ax.set_zlabel('U(x, t)')\n",
    "    ax.set_title('Approximation Plot of U(x, t)')\n",
    "    # plt.plot(X, Y, label=\"Approximation with {} photons\".format(N))"
   ]
  },
  {
   "cell_type": "code",
   "execution_count": null,
   "metadata": {},
   "outputs": [],
   "source": [
    "X = np.linspace(range_min, range_max, 200)\n",
    "T = np.linspace(range_min, range_max, 200)\n",
    "\n",
    "# Change the plot size\n",
    "default_figsize = mpl.rcParamsDefault['figure.figsize']\n",
    "mpl.rcParams['figure.figsize'] = [2 * value for value in default_figsize]\n",
    "\n",
    "plot_solution(m, N, X, res.x, lambda_random)\n",
    "\n",
    "# Create a meshgrid of x and t values\n",
    "X, T = np.meshgrid(x, t)\n",
    "\n",
    "# Compute the values of U(x, t)\n",
    "U = X**2 + T**2 + X*T\n",
    "\n",
    "\n",
    "fig = plt.figure()\n",
    "ax = fig.add_subplot(111, projection='3d')\n",
    "ax.plot_surface(X, T, U, cmap='viridis')\n",
    "\n",
    "# Set labels and title\n",
    "ax.set_xlabel('x')\n",
    "ax.set_ylabel('t')\n",
    "ax.set_zlabel('U(x, t)')\n",
    "ax.set_title('Plot of U(x, t)')\n",
    "\n",
    "# Show the plot\n",
    "plt.show()\n",
    "\n",
    "\n",
    "\n",
    "# plt.plot(X, u(X), 'r', label='Analytical solution')\n",
    "# plt.legend()\n",
    "# plt.show()"
   ]
  },
  {
   "cell_type": "code",
   "execution_count": null,
   "metadata": {},
   "outputs": [],
   "source": [
    "\n",
    "plt.plot([v[0] for v in loss_evolution])\n",
    "plt.yscale(\"log\")\n",
    "plt.xlabel(\"Number of epochs\")\n",
    "plt.ylabel(\"Loss function value\")"
   ]
  }
 ],
 "metadata": {
  "kernelspec": {
   "display_name": "Python 3",
   "language": "python",
   "name": "python3"
  },
  "language_info": {
   "codemirror_mode": {
    "name": "ipython",
    "version": 3
   },
   "file_extension": ".py",
   "mimetype": "text/x-python",
   "name": "python",
   "nbconvert_exporter": "python",
   "pygments_lexer": "ipython3",
   "version": "3.10.9"
  },
  "orig_nbformat": 4
 },
 "nbformat": 4,
 "nbformat_minor": 2
}
