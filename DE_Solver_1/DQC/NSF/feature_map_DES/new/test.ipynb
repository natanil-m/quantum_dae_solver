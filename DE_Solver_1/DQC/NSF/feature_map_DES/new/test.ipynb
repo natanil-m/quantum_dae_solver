{
 "cells": [
  {
   "cell_type": "code",
   "execution_count": 4,
   "metadata": {},
   "outputs": [
    {
     "name": "stdout",
     "output_type": "stream",
     "text": [
      "Cost: 2.864835192865496\n",
      "Cost: 0.0\n",
      "Optimized parameters: [1.  2.5]\n",
      "Optimized cost: 0.0\n"
     ]
    }
   ],
   "source": [
    "import numpy as np\n",
    "from scipy.optimize import minimize\n",
    "\n",
    "# Define the cost function\n",
    "def cost_function(x):\n",
    "    return (x[0] - 1) ** 2 + (x[1] - 2.5) ** 2\n",
    "\n",
    "# Define the gradient of the cost function\n",
    "def gradient(x):\n",
    "    return np.array([2 * (x[0] - 1), 2 * (x[1] - 2.5)])\n",
    "\n",
    "# Define the callback function to print the current cost during optimization\n",
    "def callback(x):\n",
    "    print(f\"Cost: {cost_function(x)}\")\n",
    "\n",
    "# Initial guess\n",
    "x0 = np.array([0, 0])\n",
    "\n",
    "# Perform the optimization\n",
    "result = minimize(cost_function, x0, method='L-BFGS-B', jac=gradient, callback=callback)\n",
    "\n",
    "# Print the optimized parameters\n",
    "print(f\"Optimized parameters: {result.x}\")\n",
    "print(f\"Optimized cost: {result.fun}\")"
   ]
  },
  {
   "cell_type": "code",
   "execution_count": 5,
   "metadata": {},
   "outputs": [
    {
     "name": "stdout",
     "output_type": "stream",
     "text": [
      "Cost: 2.864835192865525\n",
      "Cost: 5.001745297727755e-13\n",
      "Optimized parameters: [0.9999995 2.4999995]\n",
      "Optimized cost: 5.001745297727755e-13\n"
     ]
    }
   ],
   "source": [
    "import numpy as np\n",
    "from scipy.optimize import minimize, approx_fprime\n",
    "\n",
    "# Define the cost function\n",
    "def cost_function(x):\n",
    "    return (x[0] - 1) ** 2 + (x[1] - 2.5) ** 2\n",
    "\n",
    "# Define the gradient approximator\n",
    "def gradient(x):\n",
    "    return approx_fprime(x, cost_function, epsilon=1e-6)\n",
    "\n",
    "# Define the callback function to print the current cost during optimization\n",
    "def callback(x):\n",
    "    print(f\"Cost: {cost_function(x)}\")\n",
    "\n",
    "# Initial guess\n",
    "x0 = np.array([0, 0])\n",
    "\n",
    "# Perform the optimization\n",
    "result = minimize(cost_function, x0, method='L-BFGS-B', jac=gradient, callback=callback)\n",
    "\n",
    "# Print the optimized parameters\n",
    "print(f\"Optimized parameters: {result.x}\")\n",
    "print(f\"Optimized cost: {result.fun}\")"
   ]
  },
  {
   "cell_type": "code",
   "execution_count": 6,
   "metadata": {},
   "outputs": [
    {
     "name": "stdout",
     "output_type": "stream",
     "text": [
      "Optimized parameters: [-4.99998054e-09 -4.99998847e-09 -5.00036101e-09 -4.99997981e-09\n",
      " -5.00035235e-09 -4.99997115e-09]\n",
      "Optimized cost: 1.5000633375555419e-16\n"
     ]
    },
    {
     "name": "stderr",
     "output_type": "stream",
     "text": [
      "/tmp/ipykernel_12734/838642573.py:12: DeprecationWarning: Use of `minimize` with `x0.ndim != 1` is deprecated. Currently, singleton dimensions will be removed from `x0`, but an error will be raised in SciPy 1.11.0.\n",
      "  result = minimize(cost_function, x0, method='L-BFGS-B')\n"
     ]
    }
   ],
   "source": [
    "import numpy as np\n",
    "from scipy.optimize import minimize\n",
    "\n",
    "# Define the cost function\n",
    "def cost_function(x):\n",
    "    return np.sum(x ** 2)\n",
    "\n",
    "# Initial guesses\n",
    "x0 = np.array([[1, 2, 3], [4, 5, 6]])  # Example with 2 sets of initial values\n",
    "\n",
    "# Perform the optimization\n",
    "result = minimize(cost_function, x0, method='L-BFGS-B')\n",
    "\n",
    "# Print the optimized parameters\n",
    "print(f\"Optimized parameters: {result.x}\")\n",
    "print(f\"Optimized cost: {result.fun}\")"
   ]
  }
 ],
 "metadata": {
  "kernelspec": {
   "display_name": "base",
   "language": "python",
   "name": "python3"
  },
  "language_info": {
   "codemirror_mode": {
    "name": "ipython",
    "version": 3
   },
   "file_extension": ".py",
   "mimetype": "text/x-python",
   "name": "python",
   "nbconvert_exporter": "python",
   "pygments_lexer": "ipython3",
   "version": "3.10.9"
  },
  "orig_nbformat": 4
 },
 "nbformat": 4,
 "nbformat_minor": 2
}
