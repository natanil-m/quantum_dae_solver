{
 "cells": [
  {
   "cell_type": "code",
   "execution_count": 105,
   "metadata": {},
   "outputs": [],
   "source": [
    "#!pip install pennylane"
   ]
  },
  {
   "cell_type": "code",
   "execution_count": 106,
   "metadata": {},
   "outputs": [],
   "source": [
    "#du/dx - cos(x) = 0\n",
    "\n",
    "import pennylane as qml\n",
    "from pennylane import numpy as np\n",
    "import matplotlib.pyplot as plt\n",
    "import math\n",
    "\n",
    "rng = np.random.default_rng(seed=20)\n"
   ]
  },
  {
   "cell_type": "code",
   "execution_count": 107,
   "metadata": {},
   "outputs": [
    {
     "name": "stdout",
     "output_type": "stream",
     "text": [
      "Loaded parameters: [[[ 7.92584000e-01  4.96577578e-01  8.37177042e-01]\n",
      "  [ 1.38276104e+00  3.17091963e-01  1.31062160e+00]\n",
      "  [ 6.88898411e-01  1.58963135e+00  1.35568209e+00]\n",
      "  [ 1.20298708e+00 -3.08182231e-02 -2.13950015e-01]\n",
      "  [ 2.00370205e-01  1.40889514e+00  7.17912895e-01]\n",
      "  [ 1.19105137e+00 -2.44736755e-01  7.34317968e-01]]\n",
      "\n",
      " [[ 9.90709265e-01  1.73111362e-01  9.10081104e-01]\n",
      "  [ 2.42752426e-01  2.53181926e-01  8.80110991e-01]\n",
      "  [ 2.78517236e-02 -1.73272272e-01  1.34624995e+00]\n",
      "  [ 1.58273495e+00  2.13853515e-01  1.65867505e-01]\n",
      "  [-7.87294873e-01  4.30168445e-01  8.16436361e-01]\n",
      "  [ 1.10474445e+00  9.51624167e-02  3.96605144e-01]]\n",
      "\n",
      " [[ 6.50901271e-01  5.22517705e-01  3.57765485e-01]\n",
      "  [ 6.69503303e-01  6.10103196e-01  5.11909830e-01]\n",
      "  [ 9.34240159e-01  1.55753642e-01  6.27905706e-01]\n",
      "  [ 9.44619540e-01  6.07381587e-04  6.43282023e-01]\n",
      "  [ 7.82369448e-01  6.54766215e-01  6.07836611e-01]\n",
      "  [-2.45987576e-02  3.99719470e-01  4.65603022e-01]]\n",
      "\n",
      " [[ 3.48967112e-01  3.45820436e-01  9.97577848e-01]\n",
      "  [ 2.82266407e-01  4.19855030e-01  4.29393742e-01]\n",
      "  [-3.44013732e-01  1.39785184e+00  4.19842442e-01]\n",
      "  [ 8.68431328e-01  4.17323223e-01  1.01180027e-01]\n",
      "  [ 3.74045136e-01  3.01700170e-01  1.30117336e-01]\n",
      "  [ 6.62393400e-01  3.29140028e-01  7.04257536e-01]]]\n"
     ]
    }
   ],
   "source": [
    "n_wires=6\n",
    "n_layers=3\n",
    "load_filename='t1.npy'\n",
    "save_filename='t1_prime.npy'\n",
    "dev = qml.device('default.qubit', wires=n_wires)\n",
    "loaded_params = np.load(load_filename)\n",
    "print(\"Loaded parameters:\", loaded_params)"
   ]
  },
  {
   "cell_type": "code",
   "execution_count": 108,
   "metadata": {},
   "outputs": [],
   "source": [
    "def phi(x, j):  # Chebyshev\n",
    "    return 2 * j * np.arccos(x)\n",
    "\n",
    "def dphi1(x,j):\n",
    "    return 2*j*(-1 / np.sqrt(1 - x ** 2))\n",
    "\n",
    "def dphi2(x,j):\n",
    "    return 2*j*(-x / ((1 - x ** 2) ** (3 / 2)))"
   ]
  },
  {
   "cell_type": "code",
   "execution_count": 109,
   "metadata": {},
   "outputs": [],
   "source": [
    "@qml.qnode(dev)\n",
    "def u_x(x,parameters):\n",
    "    # feature map\n",
    "    for j in range(n_wires):\n",
    "        qml.RY(phi=phi(x,j+1),wires=j)\n",
    "    # ansatz\n",
    "    qml.StronglyEntanglingLayers(weights=parameters, wires=range(dev.num_wires)) \n",
    "    # Cost function <Z>\n",
    "    return qml.expval(qml.PauliZ(0))\n",
    "\n",
    "# shape = qml.StronglyEntanglingLayers.shape(n_layers=2, n_wires=n_wires)\n",
    "# w = rng.random(size=shape)\n",
    "# print(qml.draw(u_x)(0.1,w))"
   ]
  },
  {
   "cell_type": "code",
   "execution_count": 110,
   "metadata": {},
   "outputs": [],
   "source": [
    "\n",
    "\n",
    "\n",
    "@qml.qnode(dev, diff_method=\"parameter-shift\")\n",
    "def du_x_helper(phi_x_vector,parameters):\n",
    "    # feature map\n",
    "    for j in range(n_wires):\n",
    "        qml.RY(phi_x_vector[j],wires=j)\n",
    "    # ansatz\n",
    "    qml.StronglyEntanglingLayers(weights=parameters, wires=range(dev.num_wires)) \n",
    "    # Cost function <Z>\n",
    "    return qml.expval(qml.PauliZ(0))\n",
    "\n",
    "\n",
    "\n",
    "\n",
    "\n",
    "def du_x(x,parameters):\n",
    "    phi_x=['Nan']*n_wires\n",
    "    dphi_x=['Nan']*n_wires\n",
    "    for j in range(n_wires):\n",
    "        phi_x[j] = phi(x,j)\n",
    "        dphi_x[j] = dphi1(x,j)\n",
    "    # phi_x = np.array(phi_x,requires_grad=True)\n",
    "    dphi_x = np.array(dphi_x)\n",
    "    # parameters_nograd = np.array(parameters,requires_grad=False)\n",
    "    grads=qml.grad(du_x_helper,argnum=(0))(phi_x,parameters)   \n",
    "    # print(grads)\n",
    "    # raise Excepti\n",
    "    grad_dphi = grads*dphi_x \n",
    "    return 0.5*np.sum(grad_dphi)\n",
    "\n",
    "        \n",
    "# shape = qml.StronglyEntanglingLayers.shape(n_layers=1, n_wires=n_wires)#TODO:// dynamic\n",
    "# params = rng.random(size=shape)\n",
    "# sample_x = np.linspace(0.1, 0.9, 10, endpoint=True)\n",
    "# for x in sample_x:\n",
    "#     print(du_x(x,parameters=params))\n",
    "\n",
    "# raise Exception()\n",
    "# shape = qml.StronglyEntanglingLayers.shape(n_layers=1, n_wires=n_wires)#TODO:// dynamic\n",
    "# params = rng.random(size=shape)\n",
    "# print(params)\n",
    "# print(qml.grad(du_x)(0.1,params))\n",
    "# raise Exception('haha')"
   ]
  },
  {
   "cell_type": "code",
   "execution_count": 111,
   "metadata": {},
   "outputs": [
    {
     "data": {
      "text/plain": [
       "tensor([0.1       , 0.10808081, 0.11616162, 0.12424242, 0.13232323,\n",
       "        0.14040404, 0.14848485, 0.15656566, 0.16464646, 0.17272727,\n",
       "        0.18080808, 0.18888889, 0.1969697 , 0.20505051, 0.21313131,\n",
       "        0.22121212, 0.22929293, 0.23737374, 0.24545455, 0.25353535,\n",
       "        0.26161616, 0.26969697, 0.27777778, 0.28585859, 0.29393939,\n",
       "        0.3020202 , 0.31010101, 0.31818182, 0.32626263, 0.33434343,\n",
       "        0.34242424, 0.35050505, 0.35858586, 0.36666667, 0.37474747,\n",
       "        0.38282828, 0.39090909, 0.3989899 , 0.40707071, 0.41515152,\n",
       "        0.42323232, 0.43131313, 0.43939394, 0.44747475, 0.45555556,\n",
       "        0.46363636, 0.47171717, 0.47979798, 0.48787879, 0.4959596 ,\n",
       "        0.5040404 , 0.51212121, 0.52020202, 0.52828283, 0.53636364,\n",
       "        0.54444444, 0.55252525, 0.56060606, 0.56868687, 0.57676768,\n",
       "        0.58484848, 0.59292929, 0.6010101 , 0.60909091, 0.61717172,\n",
       "        0.62525253, 0.63333333, 0.64141414, 0.64949495, 0.65757576,\n",
       "        0.66565657, 0.67373737, 0.68181818, 0.68989899, 0.6979798 ,\n",
       "        0.70606061, 0.71414141, 0.72222222, 0.73030303, 0.73838384,\n",
       "        0.74646465, 0.75454545, 0.76262626, 0.77070707, 0.77878788,\n",
       "        0.78686869, 0.79494949, 0.8030303 , 0.81111111, 0.81919192,\n",
       "        0.82727273, 0.83535354, 0.84343434, 0.85151515, 0.85959596,\n",
       "        0.86767677, 0.87575758, 0.88383838, 0.89191919, 0.9       ], requires_grad=True)"
      ]
     },
     "execution_count": 111,
     "metadata": {},
     "output_type": "execute_result"
    }
   ],
   "source": [
    "sample_x = np.linspace(0.1, 0.9, 100, endpoint=True)\n",
    "sample_x"
   ]
  },
  {
   "cell_type": "code",
   "execution_count": 112,
   "metadata": {},
   "outputs": [],
   "source": [
    "def calculate_loss_boundry(parameters,err=\"MSE\"):\n",
    "    #boundry for u(x)=sin(x), u(0)=0, u(pi/2)=1\n",
    "    x = [0.1,0.9]\n",
    "    u = [0.1,0.78]\n",
    "    u_predict=[0,0]\n",
    "    error = None\n",
    "    for i in range(len(x)):\n",
    "        u_predict[i]=u_x(x=x[i],parameters=parameters)\n",
    "\n",
    "    if err==\"MSE\":\n",
    "        #MSE\n",
    "        error = np.mean((np.array(u_predict) - np.array(u))**2)\n",
    "    else:\n",
    "        raise Exception('Not implemented yet')\n",
    "    return error\n",
    "# calculate_loss_boundry(weights)"
   ]
  },
  {
   "cell_type": "code",
   "execution_count": 113,
   "metadata": {},
   "outputs": [
    {
     "data": {
      "text/plain": [
       "tensor([0.99500417, 0.99416495, 0.99326082, 0.99229183, 0.99125805,\n",
       "        0.99015953, 0.98899636, 0.98776861, 0.98647636, 0.9851197 ,\n",
       "        0.9836987 , 0.98221347, 0.98066411, 0.9790507 , 0.97737337,\n",
       "        0.97563221, 0.97382735, 0.97195889, 0.97002697, 0.96803171,\n",
       "        0.96597323, 0.96385168, 0.96166719, 0.9594199 , 0.95710996,\n",
       "        0.95473753, 0.95230275, 0.94980579, 0.9472468 , 0.94462596,\n",
       "        0.94194344, 0.93919941, 0.93639405, 0.93352755, 0.93060009,\n",
       "        0.92761185, 0.92456305, 0.92145388, 0.91828453, 0.91505522,\n",
       "        0.91176616, 0.90841756, 0.90500964, 0.90154263, 0.89801674,\n",
       "        0.89443222, 0.89078929, 0.88708819, 0.88332917, 0.87951247,\n",
       "        0.87563833, 0.87170702, 0.86771878, 0.86367389, 0.85957259,\n",
       "        0.85541517, 0.85120189, 0.84693302, 0.84260886, 0.83822967,\n",
       "        0.83379574, 0.82930737, 0.82476485, 0.82016847, 0.81551853,\n",
       "        0.81081534, 0.80605921, 0.80125044, 0.79638935, 0.79147625,\n",
       "        0.78651148, 0.78149534, 0.77642817, 0.77131031, 0.76614208,\n",
       "        0.76092381, 0.75565587, 0.75033857, 0.74497229, 0.73955735,\n",
       "        0.73409413, 0.72858296, 0.72302422, 0.71741827, 0.71176548,\n",
       "        0.7060662 , 0.70032082, 0.69452971, 0.68869324, 0.68281181,\n",
       "        0.67688579, 0.67091557, 0.66490153, 0.65884409, 0.65274361,\n",
       "        0.64660052, 0.6404152 , 0.63418807, 0.62791952, 0.62160997], requires_grad=True)"
      ]
     },
     "execution_count": 113,
     "metadata": {},
     "output_type": "execute_result"
    }
   ],
   "source": [
    "np.cos(sample_x)"
   ]
  },
  {
   "cell_type": "code",
   "execution_count": 114,
   "metadata": {},
   "outputs": [],
   "source": [
    "def calculate_loss_interior(parameters,err=\"MSE\"):\n",
    "    # sample_ux = np.sin(sample_x)\n",
    "    du_x_res=np.array([0.0]*len(sample_x))\n",
    "    rhs = np.zeros(len(sample_x))\n",
    "    error = None\n",
    "    for i in range(len(sample_x)):\n",
    "        du_x_res[i]=du_x(x=sample_x[i],parameters=parameters)\n",
    "    lhs = du_x_res-np.cos(sample_x)\n",
    "    if err==\"MSE\":\n",
    "        #MSE\n",
    "        error = np.mean((lhs - rhs)**2)\n",
    "    else:\n",
    "        raise Exception('Not implemented yet')\n",
    "    # print(error)\n",
    "    return error\n",
    "\n",
    "# shape = qml.StronglyEntanglingLayers.shape(n_layers=2, n_wires=n_wires)#TODO:// dynamic\n",
    "# params = rng.random(size=shape)\n",
    "# calculate_loss_interior(params)"
   ]
  },
  {
   "cell_type": "code",
   "execution_count": 115,
   "metadata": {},
   "outputs": [],
   "source": [
    "\n",
    "\n",
    "def loss_func(params,l_b=0.3,l_i=0.7):\n",
    "    # print('hhhhhhhhhhhhhhhh')\n",
    "    shape = qml.StronglyEntanglingLayers.shape(n_layers=n_layers, n_wires=n_wires)#TODO:// dynamic\n",
    "    param2 = params.reshape(shape)\n",
    "    # print(param2)\n",
    "    loss= l_b*calculate_loss_boundry(param2)+l_i*calculate_loss_interior(param2)\n",
    "    # return np.min(params)\n",
    "    # loss = l_i*calculate_loss_interior(param2)\n",
    "    return loss"
   ]
  },
  {
   "cell_type": "code",
   "execution_count": 116,
   "metadata": {},
   "outputs": [],
   "source": [
    "def plot_u_predict(params):\n",
    "\n",
    "    shape = qml.StronglyEntanglingLayers.shape(n_layers=n_layers, n_wires=n_wires)#TODO:// dynamic\n",
    "    param2 = params.reshape(shape)\n",
    "    # param2=params\n",
    "\n",
    "    sample_u = np.sin(sample_x)\n",
    "    sample_u_predict = []\n",
    "    for x in sample_x:\n",
    "        sample_u_predict.append(u_x(x, param2))  # Assuming u_x is defined elsewhere\n",
    "\n",
    "    plt.plot(sample_x, sample_u, 'bo-', label='Actual')\n",
    "    plt.plot(sample_x, sample_u_predict, 'r*-', label='Predicted')\n",
    "    plt.xlabel('x')\n",
    "    plt.ylabel('sin(x)')\n",
    "    plt.title('Plot of sin(x)')\n",
    "    plt.legend()\n",
    "    plt.grid(True)\n",
    "    plt.show()\n",
    "# plot_u_predict()"
   ]
  },
  {
   "cell_type": "code",
   "execution_count": 117,
   "metadata": {},
   "outputs": [
    {
     "data": {
      "image/png": "[encoded data removed]",
      "text/plain": [
       "<Figure size 640x480 with 1 Axes>"
      ]
     },
     "metadata": {},
     "output_type": "display_data"
    },
    {
     "name": "stderr",
     "output_type": "stream",
     "text": [
      "/tmp/ipykernel_18337/180061783.py:25: DeprecationWarning: Use of `minimize` with `x0.ndim != 1` is deprecated. Currently, singleton dimensions will be removed from `x0`, but an error will be raised in SciPy 1.11.0.\n",
      "  result = minimize(loss_func, x0, method='L-BFGS-B', callback=callback)\n"
     ]
    },
    {
     "ename": "KeyboardInterrupt",
     "evalue": "",
     "output_type": "error",
     "traceback": [
      "\u001b[0;31m---------------------------------------------------------------------------\u001b[0m",
      "\u001b[0;31mKeyboardInterrupt\u001b[0m                         Traceback (most recent call last)",
      "Cell \u001b[0;32mIn[117], line 25\u001b[0m\n\u001b[1;32m     22\u001b[0m plot_u_predict(params)\n\u001b[1;32m     24\u001b[0m \u001b[39m# Perform the optimization\u001b[39;00m\n\u001b[0;32m---> 25\u001b[0m result \u001b[39m=\u001b[39m minimize(loss_func, x0, method\u001b[39m=\u001b[39;49m\u001b[39m'\u001b[39;49m\u001b[39mL-BFGS-B\u001b[39;49m\u001b[39m'\u001b[39;49m, callback\u001b[39m=\u001b[39;49mcallback)\n\u001b[1;32m     27\u001b[0m \u001b[39m# Print the optimized parameters\u001b[39;00m\n\u001b[1;32m     28\u001b[0m \u001b[39mprint\u001b[39m(\u001b[39mf\u001b[39m\u001b[39m\"\u001b[39m\u001b[39mOptimized parameters: \u001b[39m\u001b[39m{\u001b[39;00mresult\u001b[39m.\u001b[39mx\u001b[39m}\u001b[39;00m\u001b[39m\"\u001b[39m)\n",
      "File \u001b[0;32m~/anaconda3/lib/python3.10/site-packages/scipy/optimize/_minimize.py:696\u001b[0m, in \u001b[0;36mminimize\u001b[0;34m(fun, x0, args, method, jac, hess, hessp, bounds, constraints, tol, callback, options)\u001b[0m\n\u001b[1;32m    693\u001b[0m     res \u001b[39m=\u001b[39m _minimize_newtoncg(fun, x0, args, jac, hess, hessp, callback,\n\u001b[1;32m    694\u001b[0m                              \u001b[39m*\u001b[39m\u001b[39m*\u001b[39moptions)\n\u001b[1;32m    695\u001b[0m \u001b[39melif\u001b[39;00m meth \u001b[39m==\u001b[39m \u001b[39m'\u001b[39m\u001b[39ml-bfgs-b\u001b[39m\u001b[39m'\u001b[39m:\n\u001b[0;32m--> 696\u001b[0m     res \u001b[39m=\u001b[39m _minimize_lbfgsb(fun, x0, args, jac, bounds,\n\u001b[1;32m    697\u001b[0m                            callback\u001b[39m=\u001b[39;49mcallback, \u001b[39m*\u001b[39;49m\u001b[39m*\u001b[39;49moptions)\n\u001b[1;32m    698\u001b[0m \u001b[39melif\u001b[39;00m meth \u001b[39m==\u001b[39m \u001b[39m'\u001b[39m\u001b[39mtnc\u001b[39m\u001b[39m'\u001b[39m:\n\u001b[1;32m    699\u001b[0m     res \u001b[39m=\u001b[39m _minimize_tnc(fun, x0, args, jac, bounds, callback\u001b[39m=\u001b[39mcallback,\n\u001b[1;32m    700\u001b[0m                         \u001b[39m*\u001b[39m\u001b[39m*\u001b[39moptions)\n",
      "File \u001b[0;32m~/anaconda3/lib/python3.10/site-packages/scipy/optimize/_lbfgsb_py.py:305\u001b[0m, in \u001b[0;36m_minimize_lbfgsb\u001b[0;34m(fun, x0, args, jac, bounds, disp, maxcor, ftol, gtol, eps, maxfun, maxiter, iprint, callback, maxls, finite_diff_rel_step, **unknown_options)\u001b[0m\n\u001b[1;32m    302\u001b[0m     \u001b[39melse\u001b[39;00m:\n\u001b[1;32m    303\u001b[0m         iprint \u001b[39m=\u001b[39m disp\n\u001b[0;32m--> 305\u001b[0m sf \u001b[39m=\u001b[39m _prepare_scalar_function(fun, x0, jac\u001b[39m=\u001b[39;49mjac, args\u001b[39m=\u001b[39;49margs, epsilon\u001b[39m=\u001b[39;49meps,\n\u001b[1;32m    306\u001b[0m                               bounds\u001b[39m=\u001b[39;49mnew_bounds,\n\u001b[1;32m    307\u001b[0m                               finite_diff_rel_step\u001b[39m=\u001b[39;49mfinite_diff_rel_step)\n\u001b[1;32m    309\u001b[0m func_and_grad \u001b[39m=\u001b[39m sf\u001b[39m.\u001b[39mfun_and_grad\n\u001b[1;32m    311\u001b[0m fortran_int \u001b[39m=\u001b[39m _lbfgsb\u001b[39m.\u001b[39mtypes\u001b[39m.\u001b[39mintvar\u001b[39m.\u001b[39mdtype\n",
      "File \u001b[0;32m~/anaconda3/lib/python3.10/site-packages/scipy/optimize/_optimize.py:332\u001b[0m, in \u001b[0;36m_prepare_scalar_function\u001b[0;34m(fun, x0, jac, args, bounds, epsilon, finite_diff_rel_step, hess)\u001b[0m\n\u001b[1;32m    328\u001b[0m     bounds \u001b[39m=\u001b[39m (\u001b[39m-\u001b[39mnp\u001b[39m.\u001b[39minf, np\u001b[39m.\u001b[39minf)\n\u001b[1;32m    330\u001b[0m \u001b[39m# ScalarFunction caches. Reuse of fun(x) during grad\u001b[39;00m\n\u001b[1;32m    331\u001b[0m \u001b[39m# calculation reduces overall function evaluations.\u001b[39;00m\n\u001b[0;32m--> 332\u001b[0m sf \u001b[39m=\u001b[39m ScalarFunction(fun, x0, args, grad, hess,\n\u001b[1;32m    333\u001b[0m                     finite_diff_rel_step, bounds, epsilon\u001b[39m=\u001b[39;49mepsilon)\n\u001b[1;32m    335\u001b[0m \u001b[39mreturn\u001b[39;00m sf\n",
      "File \u001b[0;32m~/anaconda3/lib/python3.10/site-packages/scipy/optimize/_differentiable_functions.py:158\u001b[0m, in \u001b[0;36mScalarFunction.__init__\u001b[0;34m(self, fun, x0, args, grad, hess, finite_diff_rel_step, finite_diff_bounds, epsilon)\u001b[0m\n\u001b[1;32m    155\u001b[0m     \u001b[39mself\u001b[39m\u001b[39m.\u001b[39mf \u001b[39m=\u001b[39m fun_wrapped(\u001b[39mself\u001b[39m\u001b[39m.\u001b[39mx)\n\u001b[1;32m    157\u001b[0m \u001b[39mself\u001b[39m\u001b[39m.\u001b[39m_update_fun_impl \u001b[39m=\u001b[39m update_fun\n\u001b[0;32m--> 158\u001b[0m \u001b[39mself\u001b[39;49m\u001b[39m.\u001b[39;49m_update_fun()\n\u001b[1;32m    160\u001b[0m \u001b[39m# Gradient evaluation\u001b[39;00m\n\u001b[1;32m    161\u001b[0m \u001b[39mif\u001b[39;00m callable(grad):\n",
      "File \u001b[0;32m~/anaconda3/lib/python3.10/site-packages/scipy/optimize/_differentiable_functions.py:251\u001b[0m, in \u001b[0;36mScalarFunction._update_fun\u001b[0;34m(self)\u001b[0m\n\u001b[1;32m    249\u001b[0m \u001b[39mdef\u001b[39;00m \u001b[39m_update_fun\u001b[39m(\u001b[39mself\u001b[39m):\n\u001b[1;32m    250\u001b[0m     \u001b[39mif\u001b[39;00m \u001b[39mnot\u001b[39;00m \u001b[39mself\u001b[39m\u001b[39m.\u001b[39mf_updated:\n\u001b[0;32m--> 251\u001b[0m         \u001b[39mself\u001b[39;49m\u001b[39m.\u001b[39;49m_update_fun_impl()\n\u001b[1;32m    252\u001b[0m         \u001b[39mself\u001b[39m\u001b[39m.\u001b[39mf_updated \u001b[39m=\u001b[39m \u001b[39mTrue\u001b[39;00m\n",
      "File \u001b[0;32m~/anaconda3/lib/python3.10/site-packages/scipy/optimize/_differentiable_functions.py:155\u001b[0m, in \u001b[0;36mScalarFunction.__init__.<locals>.update_fun\u001b[0;34m()\u001b[0m\n\u001b[1;32m    154\u001b[0m \u001b[39mdef\u001b[39;00m \u001b[39mupdate_fun\u001b[39m():\n\u001b[0;32m--> 155\u001b[0m     \u001b[39mself\u001b[39m\u001b[39m.\u001b[39mf \u001b[39m=\u001b[39m fun_wrapped(\u001b[39mself\u001b[39;49m\u001b[39m.\u001b[39;49mx)\n",
      "File \u001b[0;32m~/anaconda3/lib/python3.10/site-packages/scipy/optimize/_differentiable_functions.py:137\u001b[0m, in \u001b[0;36mScalarFunction.__init__.<locals>.fun_wrapped\u001b[0;34m(x)\u001b[0m\n\u001b[1;32m    133\u001b[0m \u001b[39mself\u001b[39m\u001b[39m.\u001b[39mnfev \u001b[39m+\u001b[39m\u001b[39m=\u001b[39m \u001b[39m1\u001b[39m\n\u001b[1;32m    134\u001b[0m \u001b[39m# Send a copy because the user may overwrite it.\u001b[39;00m\n\u001b[1;32m    135\u001b[0m \u001b[39m# Overwriting results in undefined behaviour because\u001b[39;00m\n\u001b[1;32m    136\u001b[0m \u001b[39m# fun(self.x) will change self.x, with the two no longer linked.\u001b[39;00m\n\u001b[0;32m--> 137\u001b[0m fx \u001b[39m=\u001b[39m fun(np\u001b[39m.\u001b[39;49mcopy(x), \u001b[39m*\u001b[39;49margs)\n\u001b[1;32m    138\u001b[0m \u001b[39m# Make sure the function returns a true scalar\u001b[39;00m\n\u001b[1;32m    139\u001b[0m \u001b[39mif\u001b[39;00m \u001b[39mnot\u001b[39;00m np\u001b[39m.\u001b[39misscalar(fx):\n",
      "Cell \u001b[0;32mIn[115], line 6\u001b[0m, in \u001b[0;36mloss_func\u001b[0;34m(params, l_b, l_i)\u001b[0m\n\u001b[1;32m      4\u001b[0m param2 \u001b[39m=\u001b[39m params\u001b[39m.\u001b[39mreshape(shape)\n\u001b[1;32m      5\u001b[0m \u001b[39m# print(param2)\u001b[39;00m\n\u001b[0;32m----> 6\u001b[0m loss\u001b[39m=\u001b[39m l_b\u001b[39m*\u001b[39mcalculate_loss_boundry(param2)\u001b[39m+\u001b[39ml_i\u001b[39m*\u001b[39mcalculate_loss_interior(param2)\n\u001b[1;32m      7\u001b[0m \u001b[39m# return np.min(params)\u001b[39;00m\n\u001b[1;32m      8\u001b[0m \u001b[39m# loss = l_i*calculate_loss_interior(param2)\u001b[39;00m\n\u001b[1;32m      9\u001b[0m \u001b[39mreturn\u001b[39;00m loss\n",
      "Cell \u001b[0;32mIn[114], line 7\u001b[0m, in \u001b[0;36mcalculate_loss_interior\u001b[0;34m(parameters, err)\u001b[0m\n\u001b[1;32m      5\u001b[0m error \u001b[39m=\u001b[39m \u001b[39mNone\u001b[39;00m\n\u001b[1;32m      6\u001b[0m \u001b[39mfor\u001b[39;00m i \u001b[39min\u001b[39;00m \u001b[39mrange\u001b[39m(\u001b[39mlen\u001b[39m(sample_x)):\n\u001b[0;32m----> 7\u001b[0m     du_x_res[i]\u001b[39m=\u001b[39mdu_x(x\u001b[39m=\u001b[39;49msample_x[i],parameters\u001b[39m=\u001b[39;49mparameters)\n\u001b[1;32m      8\u001b[0m lhs \u001b[39m=\u001b[39m du_x_res\u001b[39m-\u001b[39mnp\u001b[39m.\u001b[39mcos(sample_x)\n\u001b[1;32m      9\u001b[0m \u001b[39mif\u001b[39;00m err\u001b[39m==\u001b[39m\u001b[39m\"\u001b[39m\u001b[39mMSE\u001b[39m\u001b[39m\"\u001b[39m:\n\u001b[1;32m     10\u001b[0m     \u001b[39m#MSE\u001b[39;00m\n",
      "Cell \u001b[0;32mIn[110], line 24\u001b[0m, in \u001b[0;36mdu_x\u001b[0;34m(x, parameters)\u001b[0m\n\u001b[1;32m     22\u001b[0m dphi_x \u001b[39m=\u001b[39m np\u001b[39m.\u001b[39marray(dphi_x)\n\u001b[1;32m     23\u001b[0m \u001b[39m# parameters_nograd = np.array(parameters,requires_grad=False)\u001b[39;00m\n\u001b[0;32m---> 24\u001b[0m grads\u001b[39m=\u001b[39mqml\u001b[39m.\u001b[39;49mgrad(du_x_helper,argnum\u001b[39m=\u001b[39;49m(\u001b[39m0\u001b[39;49m))(phi_x,parameters)   \n\u001b[1;32m     25\u001b[0m \u001b[39m# print(grads)\u001b[39;00m\n\u001b[1;32m     26\u001b[0m \u001b[39m# raise Excepti\u001b[39;00m\n\u001b[1;32m     27\u001b[0m grad_dphi \u001b[39m=\u001b[39m grads\u001b[39m*\u001b[39mdphi_x \n",
      "File \u001b[0;32m~/anaconda3/lib/python3.10/site-packages/pennylane/_grad.py:117\u001b[0m, in \u001b[0;36mgrad.__call__\u001b[0;34m(self, *args, **kwargs)\u001b[0m\n\u001b[1;32m    114\u001b[0m     \u001b[39mself\u001b[39m\u001b[39m.\u001b[39m_forward \u001b[39m=\u001b[39m \u001b[39mself\u001b[39m\u001b[39m.\u001b[39m_fun(\u001b[39m*\u001b[39margs, \u001b[39m*\u001b[39m\u001b[39m*\u001b[39mkwargs)\n\u001b[1;32m    115\u001b[0m     \u001b[39mreturn\u001b[39;00m ()\n\u001b[0;32m--> 117\u001b[0m grad_value, ans \u001b[39m=\u001b[39m grad_fn(\u001b[39m*\u001b[39;49margs, \u001b[39m*\u001b[39;49m\u001b[39m*\u001b[39;49mkwargs)  \u001b[39m# pylint: disable=not-callable\u001b[39;00m\n\u001b[1;32m    118\u001b[0m \u001b[39mself\u001b[39m\u001b[39m.\u001b[39m_forward \u001b[39m=\u001b[39m ans\n\u001b[1;32m    120\u001b[0m \u001b[39mreturn\u001b[39;00m grad_value\n",
      "File \u001b[0;32m~/anaconda3/lib/python3.10/site-packages/autograd/wrap_util.py:20\u001b[0m, in \u001b[0;36munary_to_nary.<locals>.nary_operator.<locals>.nary_f\u001b[0;34m(*args, **kwargs)\u001b[0m\n\u001b[1;32m     18\u001b[0m \u001b[39melse\u001b[39;00m:\n\u001b[1;32m     19\u001b[0m     x \u001b[39m=\u001b[39m \u001b[39mtuple\u001b[39m(args[i] \u001b[39mfor\u001b[39;00m i \u001b[39min\u001b[39;00m argnum)\n\u001b[0;32m---> 20\u001b[0m \u001b[39mreturn\u001b[39;00m unary_operator(unary_f, x, \u001b[39m*\u001b[39;49mnary_op_args, \u001b[39m*\u001b[39;49m\u001b[39m*\u001b[39;49mnary_op_kwargs)\n",
      "File \u001b[0;32m~/anaconda3/lib/python3.10/site-packages/pennylane/_grad.py:143\u001b[0m, in \u001b[0;36mgrad._grad_with_forward\u001b[0;34m(fun, x)\u001b[0m\n\u001b[1;32m    137\u001b[0m \u001b[39mif\u001b[39;00m \u001b[39mnot\u001b[39;00m vspace(ans)\u001b[39m.\u001b[39msize \u001b[39m==\u001b[39m \u001b[39m1\u001b[39m:\n\u001b[1;32m    138\u001b[0m     \u001b[39mraise\u001b[39;00m \u001b[39mTypeError\u001b[39;00m(\n\u001b[1;32m    139\u001b[0m         \u001b[39m\"\u001b[39m\u001b[39mGrad only applies to real scalar-output functions. \u001b[39m\u001b[39m\"\u001b[39m\n\u001b[1;32m    140\u001b[0m         \u001b[39m\"\u001b[39m\u001b[39mTry jacobian, elementwise_grad or holomorphic_grad.\u001b[39m\u001b[39m\"\u001b[39m\n\u001b[1;32m    141\u001b[0m     )\n\u001b[0;32m--> 143\u001b[0m grad_value \u001b[39m=\u001b[39m vjp(vspace(ans)\u001b[39m.\u001b[39;49mones())\n\u001b[1;32m    144\u001b[0m \u001b[39mreturn\u001b[39;00m grad_value, ans\n",
      "File \u001b[0;32m~/anaconda3/lib/python3.10/site-packages/autograd/core.py:14\u001b[0m, in \u001b[0;36mmake_vjp.<locals>.vjp\u001b[0;34m(g)\u001b[0m\n\u001b[0;32m---> 14\u001b[0m \u001b[39mdef\u001b[39;00m \u001b[39mvjp\u001b[39m(g): \u001b[39mreturn\u001b[39;00m backward_pass(g, end_node)\n",
      "File \u001b[0;32m~/anaconda3/lib/python3.10/site-packages/autograd/core.py:21\u001b[0m, in \u001b[0;36mbackward_pass\u001b[0;34m(g, end_node)\u001b[0m\n\u001b[1;32m     19\u001b[0m \u001b[39mfor\u001b[39;00m node \u001b[39min\u001b[39;00m toposort(end_node):\n\u001b[1;32m     20\u001b[0m     outgrad \u001b[39m=\u001b[39m outgrads\u001b[39m.\u001b[39mpop(node)\n\u001b[0;32m---> 21\u001b[0m     ingrads \u001b[39m=\u001b[39m node\u001b[39m.\u001b[39;49mvjp(outgrad[\u001b[39m0\u001b[39;49m])\n\u001b[1;32m     22\u001b[0m     \u001b[39mfor\u001b[39;00m parent, ingrad \u001b[39min\u001b[39;00m \u001b[39mzip\u001b[39m(node\u001b[39m.\u001b[39mparents, ingrads):\n\u001b[1;32m     23\u001b[0m         outgrads[parent] \u001b[39m=\u001b[39m add_outgrads(outgrads\u001b[39m.\u001b[39mget(parent), ingrad)\n",
      "File \u001b[0;32m~/anaconda3/lib/python3.10/site-packages/autograd/core.py:67\u001b[0m, in \u001b[0;36mdefvjp.<locals>.vjp_argnums.<locals>.<lambda>\u001b[0;34m(g)\u001b[0m\n\u001b[1;32m     64\u001b[0m         \u001b[39mraise\u001b[39;00m \u001b[39mNotImplementedError\u001b[39;00m(\n\u001b[1;32m     65\u001b[0m             \u001b[39m\"\u001b[39m\u001b[39mVJP of \u001b[39m\u001b[39m{}\u001b[39;00m\u001b[39m wrt argnum 0 not defined\u001b[39m\u001b[39m\"\u001b[39m\u001b[39m.\u001b[39mformat(fun\u001b[39m.\u001b[39m\u001b[39m__name__\u001b[39m))\n\u001b[1;32m     66\u001b[0m     vjp \u001b[39m=\u001b[39m vjpfun(ans, \u001b[39m*\u001b[39margs, \u001b[39m*\u001b[39m\u001b[39m*\u001b[39mkwargs)\n\u001b[0;32m---> 67\u001b[0m     \u001b[39mreturn\u001b[39;00m \u001b[39mlambda\u001b[39;00m g: (vjp(g),)\n\u001b[1;32m     68\u001b[0m \u001b[39melif\u001b[39;00m L \u001b[39m==\u001b[39m \u001b[39m2\u001b[39m:\n\u001b[1;32m     69\u001b[0m     argnum_0, argnum_1 \u001b[39m=\u001b[39m argnums\n",
      "File \u001b[0;32m~/anaconda3/lib/python3.10/site-packages/pennylane/interfaces/autograd.py:441\u001b[0m, in \u001b[0;36mvjp.<locals>.grad_fn\u001b[0;34m(dy)\u001b[0m\n\u001b[1;32m    438\u001b[0m computing_jacobian \u001b[39m=\u001b[39m _n \u001b[39m==\u001b[39m max_diff\n\u001b[1;32m    440\u001b[0m \u001b[39mif\u001b[39;00m gradient_fn \u001b[39mand\u001b[39;00m gradient_fn\u001b[39m.\u001b[39m\u001b[39m__name__\u001b[39m \u001b[39m==\u001b[39m \u001b[39m\"\u001b[39m\u001b[39mparam_shift\u001b[39m\u001b[39m\"\u001b[39m \u001b[39mand\u001b[39;00m computing_jacobian:\n\u001b[0;32m--> 441\u001b[0m     jacs \u001b[39m=\u001b[39m _get_jac_with_caching()\n\u001b[1;32m    442\u001b[0m \u001b[39melse\u001b[39;00m:\n\u001b[1;32m    443\u001b[0m     jacs \u001b[39m=\u001b[39m ans[\u001b[39m1\u001b[39m]\n",
      "File \u001b[0;32m~/anaconda3/lib/python3.10/site-packages/pennylane/interfaces/autograd.py:425\u001b[0m, in \u001b[0;36mvjp.<locals>._get_jac_with_caching\u001b[0;34m()\u001b[0m\n\u001b[1;32m    422\u001b[0m     g_tapes, fn \u001b[39m=\u001b[39m gradient_fn(t, shots\u001b[39m=\u001b[39mdevice\u001b[39m.\u001b[39mshot_vector, \u001b[39m*\u001b[39m\u001b[39m*\u001b[39mgradient_kwargs)\n\u001b[1;32m    424\u001b[0m     unwrapped_tapes \u001b[39m=\u001b[39m \u001b[39mtuple\u001b[39m(convert_to_numpy_parameters(g_t) \u001b[39mfor\u001b[39;00m g_t \u001b[39min\u001b[39;00m g_tapes)\n\u001b[0;32m--> 425\u001b[0m     res, _ \u001b[39m=\u001b[39m execute_fn(unwrapped_tapes, \u001b[39m*\u001b[39;49m\u001b[39m*\u001b[39;49mgradient_kwargs)\n\u001b[1;32m    426\u001b[0m     jacs\u001b[39m.\u001b[39mappend(fn(res))\n\u001b[1;32m    428\u001b[0m cached_jac[\u001b[39m\"\u001b[39m\u001b[39mjacobian\u001b[39m\u001b[39m\"\u001b[39m] \u001b[39m=\u001b[39m jacs\n",
      "File \u001b[0;32m~/anaconda3/lib/python3.10/site-packages/pennylane/interfaces/execution.py:204\u001b[0m, in \u001b[0;36mcache_execute.<locals>.wrapper\u001b[0;34m(tapes, **kwargs)\u001b[0m\n\u001b[1;32m    200\u001b[0m         \u001b[39mreturn\u001b[39;00m (res, []) \u001b[39mif\u001b[39;00m return_tuple \u001b[39melse\u001b[39;00m res\n\u001b[1;32m    202\u001b[0m \u001b[39melse\u001b[39;00m:\n\u001b[1;32m    203\u001b[0m     \u001b[39m# execute all unique tapes that do not exist in the cache\u001b[39;00m\n\u001b[0;32m--> 204\u001b[0m     res \u001b[39m=\u001b[39m fn(execution_tapes\u001b[39m.\u001b[39;49mvalues(), \u001b[39m*\u001b[39;49m\u001b[39m*\u001b[39;49mkwargs)\n\u001b[1;32m    206\u001b[0m final_res \u001b[39m=\u001b[39m []\n\u001b[1;32m    208\u001b[0m \u001b[39mfor\u001b[39;00m i, tape \u001b[39min\u001b[39;00m \u001b[39menumerate\u001b[39m(tapes):\n",
      "File \u001b[0;32m~/anaconda3/lib/python3.10/site-packages/pennylane/interfaces/execution.py:129\u001b[0m, in \u001b[0;36mcache_execute.<locals>.fn\u001b[0;34m(tapes, **kwargs)\u001b[0m\n\u001b[1;32m    128\u001b[0m \u001b[39mdef\u001b[39;00m \u001b[39mfn\u001b[39m(tapes: Sequence[QuantumTape], \u001b[39m*\u001b[39m\u001b[39m*\u001b[39mkwargs):  \u001b[39m# pylint: disable=function-redefined\u001b[39;00m\n\u001b[0;32m--> 129\u001b[0m     tapes \u001b[39m=\u001b[39m [expand_fn(tape) \u001b[39mfor\u001b[39;00m tape \u001b[39min\u001b[39;00m tapes]\n\u001b[1;32m    130\u001b[0m     \u001b[39mreturn\u001b[39;00m original_fn(tapes, \u001b[39m*\u001b[39m\u001b[39m*\u001b[39mkwargs)\n",
      "File \u001b[0;32m~/anaconda3/lib/python3.10/site-packages/pennylane/interfaces/execution.py:129\u001b[0m, in \u001b[0;36m<listcomp>\u001b[0;34m(.0)\u001b[0m\n\u001b[1;32m    128\u001b[0m \u001b[39mdef\u001b[39;00m \u001b[39mfn\u001b[39m(tapes: Sequence[QuantumTape], \u001b[39m*\u001b[39m\u001b[39m*\u001b[39mkwargs):  \u001b[39m# pylint: disable=function-redefined\u001b[39;00m\n\u001b[0;32m--> 129\u001b[0m     tapes \u001b[39m=\u001b[39m [expand_fn(tape) \u001b[39mfor\u001b[39;00m tape \u001b[39min\u001b[39;00m tapes]\n\u001b[1;32m    130\u001b[0m     \u001b[39mreturn\u001b[39;00m original_fn(tapes, \u001b[39m*\u001b[39m\u001b[39m*\u001b[39mkwargs)\n",
      "File \u001b[0;32m~/anaconda3/lib/python3.10/site-packages/pennylane/interfaces/execution.py:388\u001b[0m, in \u001b[0;36mexecute.<locals>.<lambda>\u001b[0;34m(tape)\u001b[0m\n\u001b[1;32m    385\u001b[0m batch_execute \u001b[39m=\u001b[39m set_shots(device, override_shots)(device\u001b[39m.\u001b[39mbatch_execute)\n\u001b[1;32m    387\u001b[0m \u001b[39mif\u001b[39;00m expand_fn \u001b[39m==\u001b[39m \u001b[39m\"\u001b[39m\u001b[39mdevice\u001b[39m\u001b[39m\"\u001b[39m:\n\u001b[0;32m--> 388\u001b[0m     expand_fn \u001b[39m=\u001b[39m \u001b[39mlambda\u001b[39;00m tape: device\u001b[39m.\u001b[39;49mexpand_fn(tape, max_expansion\u001b[39m=\u001b[39;49mmax_expansion)\n\u001b[1;32m    390\u001b[0m \u001b[39mif\u001b[39;00m gradient_fn \u001b[39mis\u001b[39;00m \u001b[39mNone\u001b[39;00m:\n\u001b[1;32m    391\u001b[0m     \u001b[39m# don't unwrap if it's an interface device\u001b[39;00m\n\u001b[1;32m    392\u001b[0m     \u001b[39mif\u001b[39;00m \u001b[39m\"\u001b[39m\u001b[39mpassthru_interface\u001b[39m\u001b[39m\"\u001b[39m \u001b[39min\u001b[39;00m device\u001b[39m.\u001b[39mcapabilities() \u001b[39mor\u001b[39;00m device\u001b[39m.\u001b[39mshort_name \u001b[39m==\u001b[39m \u001b[39m\"\u001b[39m\u001b[39mdefault.mixed\u001b[39m\u001b[39m\"\u001b[39m:\n",
      "File \u001b[0;32m~/anaconda3/lib/python3.10/site-packages/pennylane/_device.py:696\u001b[0m, in \u001b[0;36mDevice.expand_fn\u001b[0;34m(self, circuit, max_expansion)\u001b[0m\n\u001b[1;32m    692\u001b[0m \u001b[39mif\u001b[39;00m \u001b[39mself\u001b[39m\u001b[39m.\u001b[39mcustom_expand_fn \u001b[39mis\u001b[39;00m \u001b[39mnot\u001b[39;00m \u001b[39mNone\u001b[39;00m:\n\u001b[1;32m    693\u001b[0m     \u001b[39m# pylint:disable=not-callable\u001b[39;00m\n\u001b[1;32m    694\u001b[0m     \u001b[39mreturn\u001b[39;00m \u001b[39mself\u001b[39m\u001b[39m.\u001b[39mcustom_expand_fn(circuit, max_expansion\u001b[39m=\u001b[39mmax_expansion)\n\u001b[0;32m--> 696\u001b[0m \u001b[39mreturn\u001b[39;00m \u001b[39mself\u001b[39;49m\u001b[39m.\u001b[39;49mdefault_expand_fn(circuit, max_expansion\u001b[39m=\u001b[39;49mmax_expansion)\n",
      "File \u001b[0;32m~/anaconda3/lib/python3.10/site-packages/pennylane/_device.py:670\u001b[0m, in \u001b[0;36mDevice.default_expand_fn\u001b[0;34m(self, circuit, max_expansion)\u001b[0m\n\u001b[1;32m    667\u001b[0m ops_not_supported \u001b[39m=\u001b[39m \u001b[39mnot\u001b[39;00m \u001b[39mall\u001b[39m(\u001b[39mself\u001b[39m\u001b[39m.\u001b[39mstopping_condition(op) \u001b[39mfor\u001b[39;00m op \u001b[39min\u001b[39;00m circuit\u001b[39m.\u001b[39moperations)\n\u001b[1;32m    669\u001b[0m \u001b[39mif\u001b[39;00m ops_not_supported \u001b[39mor\u001b[39;00m obs_on_same_wire:\n\u001b[0;32m--> 670\u001b[0m     circuit \u001b[39m=\u001b[39m circuit\u001b[39m.\u001b[39;49mexpand(depth\u001b[39m=\u001b[39;49mmax_expansion, stop_at\u001b[39m=\u001b[39;49m\u001b[39mself\u001b[39;49m\u001b[39m.\u001b[39;49mstopping_condition)\n\u001b[1;32m    672\u001b[0m \u001b[39mreturn\u001b[39;00m circuit\n",
      "File \u001b[0;32m~/anaconda3/lib/python3.10/site-packages/pennylane/tape/qscript.py:1079\u001b[0m, in \u001b[0;36mQuantumScript.expand\u001b[0;34m(self, depth, stop_at, expand_measurements)\u001b[0m\n\u001b[1;32m   1037\u001b[0m \u001b[39mdef\u001b[39;00m \u001b[39mexpand\u001b[39m(\u001b[39mself\u001b[39m, depth\u001b[39m=\u001b[39m\u001b[39m1\u001b[39m, stop_at\u001b[39m=\u001b[39m\u001b[39mNone\u001b[39;00m, expand_measurements\u001b[39m=\u001b[39m\u001b[39mFalse\u001b[39;00m):\n\u001b[1;32m   1038\u001b[0m     \u001b[39m\"\"\"Expand all operations to a specific depth.\u001b[39;00m\n\u001b[1;32m   1039\u001b[0m \n\u001b[1;32m   1040\u001b[0m \u001b[39m    Args:\u001b[39;00m\n\u001b[0;32m   (...)\u001b[0m\n\u001b[1;32m   1077\u001b[0m \u001b[39m    RY(0.2, wires=['a'])]\u001b[39;00m\n\u001b[1;32m   1078\u001b[0m \u001b[39m    \"\"\"\u001b[39;00m\n\u001b[0;32m-> 1079\u001b[0m     new_script \u001b[39m=\u001b[39m qml\u001b[39m.\u001b[39;49mtape\u001b[39m.\u001b[39;49mtape\u001b[39m.\u001b[39;49mexpand_tape(\n\u001b[1;32m   1080\u001b[0m         \u001b[39mself\u001b[39;49m, depth\u001b[39m=\u001b[39;49mdepth, stop_at\u001b[39m=\u001b[39;49mstop_at, expand_measurements\u001b[39m=\u001b[39;49mexpand_measurements\n\u001b[1;32m   1081\u001b[0m     )\n\u001b[1;32m   1082\u001b[0m     new_script\u001b[39m.\u001b[39m_update()\n\u001b[1;32m   1083\u001b[0m     \u001b[39mreturn\u001b[39;00m new_script\n",
      "File \u001b[0;32m~/anaconda3/lib/python3.10/site-packages/pennylane/tape/tape.py:204\u001b[0m, in \u001b[0;36mexpand_tape\u001b[0;34m(tape, depth, stop_at, expand_measurements)\u001b[0m\n\u001b[1;32m    201\u001b[0m \u001b[39mif\u001b[39;00m \u001b[39misinstance\u001b[39m(obj, (Operator, qml\u001b[39m.\u001b[39mmeasurements\u001b[39m.\u001b[39mMeasurementProcess)):\n\u001b[1;32m    202\u001b[0m     \u001b[39m# Object is an operation; query it for its expansion\u001b[39;00m\n\u001b[1;32m    203\u001b[0m     \u001b[39mtry\u001b[39;00m:\n\u001b[0;32m--> 204\u001b[0m         obj \u001b[39m=\u001b[39m obj\u001b[39m.\u001b[39;49mexpand()\n\u001b[1;32m    205\u001b[0m     \u001b[39mexcept\u001b[39;00m DecompositionUndefinedError:\n\u001b[1;32m    206\u001b[0m         \u001b[39m# Object does not define an expansion; treat this as\u001b[39;00m\n\u001b[1;32m    207\u001b[0m         \u001b[39m# a stopping condition.\u001b[39;00m\n\u001b[1;32m    208\u001b[0m         new_queue\u001b[39m.\u001b[39mappend(obj)\n",
      "File \u001b[0;32m~/anaconda3/lib/python3.10/site-packages/pennylane/operation.py:1392\u001b[0m, in \u001b[0;36mOperator.expand\u001b[0;34m(self)\u001b[0m\n\u001b[1;32m   1389\u001b[0m \u001b[39mif\u001b[39;00m \u001b[39mnot\u001b[39;00m \u001b[39mself\u001b[39m\u001b[39m.\u001b[39mhas_decomposition:\n\u001b[1;32m   1390\u001b[0m     \u001b[39mraise\u001b[39;00m DecompositionUndefinedError\n\u001b[0;32m-> 1392\u001b[0m qscript \u001b[39m=\u001b[39m qml\u001b[39m.\u001b[39;49mtape\u001b[39m.\u001b[39;49mmake_qscript(\u001b[39mself\u001b[39;49m\u001b[39m.\u001b[39;49mdecomposition)()\n\u001b[1;32m   1394\u001b[0m \u001b[39mif\u001b[39;00m \u001b[39mnot\u001b[39;00m \u001b[39mself\u001b[39m\u001b[39m.\u001b[39mdata:\n\u001b[1;32m   1395\u001b[0m     \u001b[39m# original operation has no trainable parameters\u001b[39;00m\n\u001b[1;32m   1396\u001b[0m     qscript\u001b[39m.\u001b[39mtrainable_params \u001b[39m=\u001b[39m {}\n",
      "File \u001b[0;32m~/anaconda3/lib/python3.10/site-packages/pennylane/tape/qscript.py:1378\u001b[0m, in \u001b[0;36mmake_qscript.<locals>.wrapper\u001b[0;34m(*args, **kwargs)\u001b[0m\n\u001b[1;32m   1376\u001b[0m \u001b[39mdef\u001b[39;00m \u001b[39mwrapper\u001b[39m(\u001b[39m*\u001b[39margs, \u001b[39m*\u001b[39m\u001b[39m*\u001b[39mkwargs):\n\u001b[1;32m   1377\u001b[0m     \u001b[39mwith\u001b[39;00m AnnotatedQueue() \u001b[39mas\u001b[39;00m q:\n\u001b[0;32m-> 1378\u001b[0m         result \u001b[39m=\u001b[39m fn(\u001b[39m*\u001b[39;49margs, \u001b[39m*\u001b[39;49m\u001b[39m*\u001b[39;49mkwargs)\n\u001b[1;32m   1380\u001b[0m     qscript \u001b[39m=\u001b[39m QuantumScript\u001b[39m.\u001b[39mfrom_queue(q)\n\u001b[1;32m   1381\u001b[0m     qscript\u001b[39m.\u001b[39m_qfunc_output \u001b[39m=\u001b[39m result\n",
      "File \u001b[0;32m~/anaconda3/lib/python3.10/site-packages/pennylane/operation.py:1202\u001b[0m, in \u001b[0;36mOperator.decomposition\u001b[0;34m(self)\u001b[0m\n\u001b[1;32m   1190\u001b[0m \u001b[39mdef\u001b[39;00m \u001b[39mdecomposition\u001b[39m(\u001b[39mself\u001b[39m):\n\u001b[1;32m   1191\u001b[0m     \u001b[39mr\u001b[39m\u001b[39m\"\"\"Representation of the operator as a product of other operators.\u001b[39;00m\n\u001b[1;32m   1192\u001b[0m \n\u001b[1;32m   1193\u001b[0m \u001b[39m    .. math:: O = O_1 O_2 \\dots O_n\u001b[39;00m\n\u001b[0;32m   (...)\u001b[0m\n\u001b[1;32m   1200\u001b[0m \u001b[39m        list[Operator]: decomposition of the operator\u001b[39;00m\n\u001b[1;32m   1201\u001b[0m \u001b[39m    \"\"\"\u001b[39;00m\n\u001b[0;32m-> 1202\u001b[0m     \u001b[39mreturn\u001b[39;00m \u001b[39mself\u001b[39;49m\u001b[39m.\u001b[39;49mcompute_decomposition(\n\u001b[1;32m   1203\u001b[0m         \u001b[39m*\u001b[39;49m\u001b[39mself\u001b[39;49m\u001b[39m.\u001b[39;49mparameters, wires\u001b[39m=\u001b[39;49m\u001b[39mself\u001b[39;49m\u001b[39m.\u001b[39;49mwires, \u001b[39m*\u001b[39;49m\u001b[39m*\u001b[39;49m\u001b[39mself\u001b[39;49m\u001b[39m.\u001b[39;49mhyperparameters\n\u001b[1;32m   1204\u001b[0m     )\n",
      "File \u001b[0;32m~/anaconda3/lib/python3.10/site-packages/pennylane/templates/layers/strongly_entangling.py:219\u001b[0m, in \u001b[0;36mStronglyEntanglingLayers.compute_decomposition\u001b[0;34m(weights, wires, ranges, imprimitive)\u001b[0m\n\u001b[1;32m    217\u001b[0m         \u001b[39mfor\u001b[39;00m i \u001b[39min\u001b[39;00m \u001b[39mrange\u001b[39m(\u001b[39mlen\u001b[39m(wires)):\n\u001b[1;32m    218\u001b[0m             act_on \u001b[39m=\u001b[39m wires\u001b[39m.\u001b[39msubset([i, i \u001b[39m+\u001b[39m ranges[l]], periodic_boundary\u001b[39m=\u001b[39m\u001b[39mTrue\u001b[39;00m)\n\u001b[0;32m--> 219\u001b[0m             op_list\u001b[39m.\u001b[39mappend(imprimitive(wires\u001b[39m=\u001b[39;49mact_on))\n\u001b[1;32m    221\u001b[0m \u001b[39mreturn\u001b[39;00m op_list\n",
      "File \u001b[0;32m~/anaconda3/lib/python3.10/site-packages/pennylane/operation.py:1650\u001b[0m, in \u001b[0;36mOperation.__init__\u001b[0;34m(self, wires, do_queue, id, *params)\u001b[0m\n\u001b[1;32m   1649\u001b[0m \u001b[39mdef\u001b[39;00m \u001b[39m__init__\u001b[39m(\u001b[39mself\u001b[39m, \u001b[39m*\u001b[39mparams, wires\u001b[39m=\u001b[39m\u001b[39mNone\u001b[39;00m, do_queue\u001b[39m=\u001b[39m\u001b[39mTrue\u001b[39;00m, \u001b[39mid\u001b[39m\u001b[39m=\u001b[39m\u001b[39mNone\u001b[39;00m):\n\u001b[0;32m-> 1650\u001b[0m     \u001b[39msuper\u001b[39;49m()\u001b[39m.\u001b[39;49m\u001b[39m__init__\u001b[39;49m(\u001b[39m*\u001b[39;49mparams, wires\u001b[39m=\u001b[39;49mwires, do_queue\u001b[39m=\u001b[39;49mdo_queue, \u001b[39mid\u001b[39;49m\u001b[39m=\u001b[39;49m\u001b[39mid\u001b[39;49m)\n\u001b[1;32m   1652\u001b[0m     \u001b[39m# check the grad_recipe validity\u001b[39;00m\n\u001b[1;32m   1653\u001b[0m     \u001b[39mif\u001b[39;00m \u001b[39mself\u001b[39m\u001b[39m.\u001b[39mgrad_recipe \u001b[39mis\u001b[39;00m \u001b[39mNone\u001b[39;00m:\n\u001b[1;32m   1654\u001b[0m         \u001b[39m# Make sure grad_recipe is an iterable of correct length instead of None\u001b[39;00m\n",
      "File \u001b[0;32m~/anaconda3/lib/python3.10/site-packages/pennylane/operation.py:1007\u001b[0m, in \u001b[0;36mOperator.__init__\u001b[0;34m(self, wires, do_queue, id, *params)\u001b[0m\n\u001b[1;32m   1004\u001b[0m \u001b[39mself\u001b[39m\u001b[39m.\u001b[39m_wires \u001b[39m=\u001b[39m wires \u001b[39mif\u001b[39;00m \u001b[39misinstance\u001b[39m(wires, Wires) \u001b[39melse\u001b[39;00m Wires(wires)\n\u001b[1;32m   1006\u001b[0m \u001b[39m# check that the number of wires given corresponds to required number\u001b[39;00m\n\u001b[0;32m-> 1007\u001b[0m \u001b[39mif\u001b[39;00m \u001b[39mself\u001b[39m\u001b[39m.\u001b[39mnum_wires \u001b[39min\u001b[39;00m {AllWires, AnyWires}:\n\u001b[1;32m   1008\u001b[0m     \u001b[39mif\u001b[39;00m (\n\u001b[1;32m   1009\u001b[0m         \u001b[39mnot\u001b[39;00m \u001b[39misinstance\u001b[39m(\u001b[39mself\u001b[39m, (qml\u001b[39m.\u001b[39mBarrier, qml\u001b[39m.\u001b[39mSnapshot, qml\u001b[39m.\u001b[39mHamiltonian))\n\u001b[1;32m   1010\u001b[0m         \u001b[39mand\u001b[39;00m \u001b[39mlen\u001b[39m(qml\u001b[39m.\u001b[39mwires\u001b[39m.\u001b[39mWires(wires)) \u001b[39m==\u001b[39m \u001b[39m0\u001b[39m\n\u001b[1;32m   1011\u001b[0m     ):\n\u001b[1;32m   1012\u001b[0m         \u001b[39mraise\u001b[39;00m \u001b[39mValueError\u001b[39;00m(\n\u001b[1;32m   1013\u001b[0m             \u001b[39mf\u001b[39m\u001b[39m\"\u001b[39m\u001b[39m{\u001b[39;00m\u001b[39mself\u001b[39m\u001b[39m.\u001b[39mname\u001b[39m}\u001b[39;00m\u001b[39m: wrong number of wires. \u001b[39m\u001b[39m\"\u001b[39m \u001b[39mf\u001b[39m\u001b[39m\"\u001b[39m\u001b[39mAt least one wire has to be given.\u001b[39m\u001b[39m\"\u001b[39m\n\u001b[1;32m   1014\u001b[0m         )\n",
      "\u001b[0;31mKeyboardInterrupt\u001b[0m: "
     ]
    }
   ],
   "source": [
    "import numpy as np\n",
    "from scipy.optimize import minimize\n",
    "\n",
    "\n",
    "\n",
    "# Define the callback function to print the current cost during optimization\n",
    "def callback(x):\n",
    "    print('callback')\n",
    "    print(loss_func(x))\n",
    "    np.save('pars3.npy', x)\n",
    "    plot_u_predict(x)\n",
    "    \n",
    "\n",
    "# Initial guess\n",
    "shape = qml.StronglyEntanglingLayers.shape(n_layers=n_layers, n_wires=n_wires)#TODO:// dynamic\n",
    "params = rng.random(size=shape)\n",
    "# print(params)\n",
    "# params=loaded_params\n",
    "# print(params)\n",
    "x0 = params\n",
    "\n",
    "plot_u_predict(params)\n",
    "\n",
    "# Perform the optimization\n",
    "result = minimize(loss_func, x0, method='L-BFGS-B', callback=callback)\n",
    "\n",
    "# Print the optimized parameters\n",
    "print(f\"Optimized parameters: {result.x}\")\n",
    "print(f\"Optimized cost: {result.fun}\")"
   ]
  },
  {
   "cell_type": "code",
   "execution_count": null,
   "metadata": {},
   "outputs": [],
   "source": [
    "# shape = qml.StronglyEntanglingLayers.shape(n_layers=n_layers, n_wires=n_wires)#TODO:// dynamic\n",
    "# params = rng.random(size=shape)\n",
    "# # print(params)\n",
    "# # params = loaded_params\n",
    "# # opt = qml.GradientDescentOptimizer() #TODO:// ADAM\n",
    "# opt = qml.AdamOptimizer(0.05, beta1=0.9, beta2=0.999)\n",
    "\n",
    "\n",
    "# print('starting plot:')\n",
    "# plot_u_predict(params)\n",
    "# for i in range(400):\n",
    "#     print(i)\n",
    "#     params, loss = opt.step_and_cost(loss_func, params)\n",
    "#     # print(params)\n",
    "#     if i%1==0:\n",
    "#         # print(\"Step \", i, \"\\n params = \", params,' loss = ',loss)\n",
    "#         print(\"Step \", i, \"\\n params = \", None,' loss = ',loss)\n",
    "#         # plot_u_predict(params)\n",
    "    \n",
    "\n",
    "        "
   ]
  },
  {
   "cell_type": "code",
   "execution_count": null,
   "metadata": {},
   "outputs": [],
   "source": [
    "# print(params)\n",
    "# np.save(\"optimized_params_sin_prime.npy\", params)\n",
    "# loaded_params = np.load(\"optimized_params.npy\")\n",
    "# print(\"Loaded parameters:\", loaded_params)"
   ]
  },
  {
   "cell_type": "code",
   "execution_count": null,
   "metadata": {},
   "outputs": [],
   "source": [
    "plot_u_predict(loaded_params)\n",
    "sample_x = np.linspace(0, 1, 10, endpoint=True)\n",
    "print(sample_x)\n",
    "x=0.29\n",
    "print(np.sin(x))\n",
    "print(u_x(parameters=loaded_params,x=x))\n"
   ]
  }
 ],
 "metadata": {
  "kernelspec": {
   "display_name": "Python 3",
   "language": "python",
   "name": "python3"
  },
  "language_info": {
   "codemirror_mode": {
    "name": "ipython",
    "version": 3
   },
   "file_extension": ".py",
   "mimetype": "text/x-python",
   "name": "python",
   "nbconvert_exporter": "python",
   "pygments_lexer": "ipython3",
   "version": "3.10.9"
  },
  "orig_nbformat": 4
 },
 "nbformat": 4,
 "nbformat_minor": 2
}
