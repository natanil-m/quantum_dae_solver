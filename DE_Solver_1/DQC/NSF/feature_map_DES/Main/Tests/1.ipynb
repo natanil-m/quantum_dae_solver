{
 "cells": [
  {
   "cell_type": "code",
   "execution_count": 23,
   "metadata": {},
   "outputs": [],
   "source": [
    "import pennylane as qml\n",
    "from pennylane import numpy as np\n",
    "# !pip install jaxlib\n",
    "# !pip install jac --upgrade"
   ]
  },
  {
   "cell_type": "code",
   "execution_count": 24,
   "metadata": {},
   "outputs": [
    {
     "name": "stdout",
     "output_type": "stream",
     "text": [
      "[-0.84023397 -0.12287788 -0.82593461]\n",
      "[-0.84023397 -0.12287788 -0.82593461]\n"
     ]
    }
   ],
   "source": [
    "dev = qml.device(\"default.qubit\", wires=2)\n",
    "@qml.qnode(dev, interface=\"autograd\", diff_method=\"parameter-shift\")\n",
    "def circuit(params,param4):\n",
    "    qml.RX(params[0], wires=0)\n",
    "    qml.RY(params[1], wires=0)\n",
    "    qml.RX(params[2], wires=0)\n",
    "    qml.RX(param4, wires=0)\n",
    "    return qml.expval(qml.PauliZ(0))\n",
    "params = np.array([0.1, 0.2, 0.8], requires_grad=True)\n",
    "param4_t= 0.1\n",
    "print(qml.jacobian(circuit,argnum=(0))(params, param4_t))\n",
    "print(qml.grad(circuit)(params, param4_t))\n"
   ]
  },
  {
   "cell_type": "code",
   "execution_count": null,
   "metadata": {},
   "outputs": [],
   "source": []
  },
  {
   "cell_type": "code",
   "execution_count": null,
   "metadata": {},
   "outputs": [],
   "source": []
  }
 ],
 "metadata": {
  "kernelspec": {
   "display_name": "Python 3",
   "language": "python",
   "name": "python3"
  },
  "language_info": {
   "codemirror_mode": {
    "name": "ipython",
    "version": 3
   },
   "file_extension": ".py",
   "mimetype": "text/x-python",
   "name": "python",
   "nbconvert_exporter": "python",
   "pygments_lexer": "ipython3",
   "version": "3.9.7"
  },
  "orig_nbformat": 4
 },
 "nbformat": 4,
 "nbformat_minor": 2
}
