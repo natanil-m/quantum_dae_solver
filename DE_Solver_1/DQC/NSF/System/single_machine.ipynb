{
 "cells": [
  {
   "cell_type": "code",
   "execution_count": 1,
   "metadata": {},
   "outputs": [],
   "source": [
    "from math import pi\n",
    "import matplotlib.pyplot as plt\n",
    "from pennylane import numpy as np\n",
    "import pennylane as qml\n",
    "from pennylane.optimize import AdamOptimizer\n",
    "import datetime\n",
    "now=datetime.datetime.now"
   ]
  },
  {
   "cell_type": "code",
   "execution_count": 2,
   "metadata": {},
   "outputs": [],
   "source": [
    "num_qubits=2\n",
    "dev=qml.device('default.qubit', wires=num_qubits)"
   ]
  },
  {
   "cell_type": "code",
   "execution_count": 3,
   "metadata": {},
   "outputs": [],
   "source": [
    "# Boundary condition \n",
    "coefii = 1000\n",
    "\n",
    "X_0 = 0  #del\n",
    "Y_0 = 0     #w\n",
    "X_0_v = -1/coefii\n",
    "Y_0_v = 383.9911/coefii"
   ]
  },
  {
   "cell_type": "code",
   "execution_count": 4,
   "metadata": {},
   "outputs": [],
   "source": [
    "# Differential equation parameters\n",
    "ws = 376.9911\n",
    "\n",
    "# ws = 0.376\n",
    "# coefii = ws/4\n",
    "K1 = 5/coefii\n",
    "K2 = 10/coefii\n",
    "K3 = 1.7/coefii\n",
    "ws = ws/coefii\n",
    "\n",
    "def F_E1(X_prime, X,Y_prime,Y, t):       # DE, works with numpy arrays\n",
    "    return (X_prime+ws-Y)\n",
    "    # return X_prime+ws-Y \n",
    "\n",
    "def F_E2(X_prime, X,Y_prime,Y, t):       # DE, works with numpy arrays\n",
    "    # return Y_prime\n",
    "    return Y_prime-K1+K2*np.sin(coefii*X)+K3*(-ws+Y)*coefii"
   ]
  },
  {
   "cell_type": "code",
   "execution_count": 5,
   "metadata": {},
   "outputs": [],
   "source": [
    "# Differential equation's exact solution - for comparison\n",
    "def X_t(t):\n",
    "    # return X_0_v*np.cos(t)+(3*X_0_v+2*Y_0_v)*np.sin(t)\n",
    "    return 0\n",
    "\n",
    "def Y_t(t):\n",
    "    return 0"
   ]
  },
  {
   "cell_type": "code",
   "execution_count": 6,
   "metadata": {},
   "outputs": [],
   "source": [
    "t=np.random.uniform(0,1,size=50,requires_grad=False)"
   ]
  },
  {
   "cell_type": "code",
   "execution_count": 7,
   "metadata": {},
   "outputs": [],
   "source": [
    "# define embedding layer\n",
    "def embedding(x,wires):\n",
    "    qml.RY(x, wires=wires[1])"
   ]
  },
  {
   "cell_type": "code",
   "execution_count": 8,
   "metadata": {},
   "outputs": [],
   "source": [
    "def Ham():\n",
    "    obs=[]\n",
    "    for j in range(num_qubits):\n",
    "        obs.append(qml.PauliX(j))\n",
    "        for k in range(j):\n",
    "            obs.append(qml.PauliZ(j)@qml.PauliZ(k))\n",
    "    coeffs=np.random.uniform(-1,1,len(obs))*10\n",
    "    qml.Hamiltonian(coeffs, obs)"
   ]
  },
  {
   "cell_type": "code",
   "execution_count": 9,
   "metadata": {},
   "outputs": [],
   "source": [
    "# define ansastz layer\n",
    "def layer(theta):\n",
    "    \n",
    "    # Apply Hamiltonian matrix\n",
    "    Ham()\n",
    "    \n",
    "    # Apply H gate\n",
    "    qml.Hadamard(0)\n",
    "    \n",
    "    # rotations on qubit 1\n",
    "    qml.RY(theta,wires=1)\n",
    "    \n",
    "    # CNOT\n",
    "    qml.CNOT(wires=[0, 1])"
   ]
  },
  {
   "cell_type": "code",
   "execution_count": 10,
   "metadata": {},
   "outputs": [],
   "source": [
    "@qml.qnode(dev, diff_method=\"backprop\", interface=\"autograd\")\n",
    "def quantum_net(theta,x):\n",
    "    \n",
    "    # encode data\n",
    "    embedding(x,wires=range(num_qubits))\n",
    "    \n",
    "    # parameterized circuit layers\n",
    "    for v in theta: # (for lool along with the first dimension)\n",
    "        # print(v)\n",
    "        # Ham()\n",
    "        layer(v)\n",
    "    \n",
    "    qml.Hadamard(0)\n",
    "    \n",
    "    # return qml.expval(qml.PauliZ(0)),qml.expval(qml.PauliZ(1))\n",
    "    return qml.expval(qml.PauliZ(0))"
   ]
  },
  {
   "cell_type": "code",
   "execution_count": 11,
   "metadata": {},
   "outputs": [
    {
     "name": "stdout",
     "output_type": "stream",
     "text": [
      "0: ──H────────────────╭●──H──────╭●──H──────╭●──H──────╭●──H─┤  <Z>\n",
      "1: ──RY(0.00)──RY(M0)─╰X──RY(M1)─╰X──RY(M2)─╰X──RY(M3)─╰X────┤     \n"
     ]
    }
   ],
   "source": [
    "num_layers=4\n",
    "theta1=np.random.uniform(0,2*pi,size=(num_layers,num_qubits-1),requires_grad=True)\n",
    "theta2=np.random.uniform(0,2*pi,size=(num_layers,num_qubits-1),requires_grad=True)\n",
    "# theta = np.load('my_theta1.npy')\n",
    "print(qml.draw(quantum_net)(theta1,0))"
   ]
  },
  {
   "cell_type": "code",
   "execution_count": 12,
   "metadata": {},
   "outputs": [],
   "source": [
    "# add the classical layer   #TODO\n",
    "def classical_quantum_net(theta,w,t):\n",
    "    r1=quantum_net(theta,t)[0]\n",
    "    # r2=quantum_net(theta,x)[1]\n",
    "    # return w[0]+w[1]*r1+w[2]*r1**2+w[3]*r2+w[4]*r2**2\n",
    "    return w[0]+w[1]*r1+w[2]*r1**2\n",
    "    # r1=quantum_net(theta,x)\n",
    "    return r1"
   ]
  },
  {
   "cell_type": "code",
   "execution_count": 13,
   "metadata": {},
   "outputs": [],
   "source": [
    "def classical_quantum_net_prime(theta,w,t):\n",
    "    r1=quantum_net(theta,t)[0]\n",
    "    r1_prime = qml.grad(quantum_net,argnum=1)(theta,np.tensor(t)) \n",
    "    # r2=quantum_net(theta,x)[1]\n",
    "    # return w[0]+w[1]*r1+w[2]*r1**2+w[3]*r2+w[4]*r2**2\n",
    "    return w[1]*r1_prime+2*w[2]*r1_prime*r1\n"
   ]
  },
  {
   "cell_type": "code",
   "execution_count": 14,
   "metadata": {},
   "outputs": [],
   "source": [
    "# def square_loss(labels,predictions):\n",
    "#     loss=0\n",
    "#     for l,p in zip(labels,predictions):\n",
    "#         loss=loss+(l-p)**2\n",
    "#     loss=loss/len(labels)\n",
    "#     return loss"
   ]
  },
  {
   "cell_type": "code",
   "execution_count": 15,
   "metadata": {},
   "outputs": [],
   "source": [
    "# #loss boundary\n",
    "# def loss_b(U_predict):\n",
    "    \n",
    "    "
   ]
  },
  {
   "cell_type": "code",
   "execution_count": 16,
   "metadata": {},
   "outputs": [],
   "source": [
    "\n",
    "def cost(theta1,theta2,w1,w2,t):\n",
    "\n",
    "    # loss inner points\n",
    "    loss_i = 0\n",
    "\n",
    "    X_t_pred = np.array([classical_quantum_net(theta=theta1,w=w1,t=point) for point in t])\n",
    "    X_t_prime = np.array([classical_quantum_net_prime(theta=theta1,w=w1,t=point) for point in t])\n",
    "    \n",
    "    Y_t_pred = np.array([classical_quantum_net(theta=theta2,w=w2,t=point) for point in t])\n",
    "    Y_t_prime = np.array([classical_quantum_net_prime(theta=theta2,w=w2,t=point) for point in t])\n",
    "\n",
    "    loss_i += np.mean(F_E1(X=X_t_pred,Y=Y_t_pred,X_prime=X_t_prime,Y_prime=Y_t_prime,t=t)**2)\n",
    "    loss_i += np.mean(F_E2(X=X_t_pred,Y=Y_t_pred,X_prime=X_t_prime,Y_prime=Y_t_prime,t=t)**2)\n",
    "\n",
    "    # loss boundary points\n",
    "    loss_b = 0\n",
    "    X_0_pred = classical_quantum_net(theta1,w1,0)\n",
    "    Y_0_pred = classical_quantum_net(theta2,w2,0)\n",
    "\n",
    "    # print(U_0)\n",
    "    loss_b += (X_0_v-X_0_pred)**2+(Y_0_v-Y_0_pred)**2\n",
    "    return 0.2*loss_b + 0.8*loss_i\n",
    "    # return loss_i"
   ]
  },
  {
   "cell_type": "code",
   "execution_count": 17,
   "metadata": {},
   "outputs": [],
   "source": [
    "w1=np.zeros(3,requires_grad=True)\n",
    "w2=np.zeros(3,requires_grad=True)\n",
    "opt = AdamOptimizer(0.05, beta1=0.9, beta2=0.999)"
   ]
  },
  {
   "cell_type": "code",
   "execution_count": 18,
   "metadata": {},
   "outputs": [
    {
     "name": "stdout",
     "output_type": "stream",
     "text": [
      "2023-08-01 23:33:51.266628\n"
     ]
    }
   ],
   "source": [
    "start=now()\n",
    "print(start)"
   ]
  },
  {
   "cell_type": "code",
   "execution_count": 19,
   "metadata": {},
   "outputs": [
    {
     "name": "stdout",
     "output_type": "stream",
     "text": [
      "Epoch: 1 | Cost: 0.4769216767951436\n",
      "Epoch: 2 | Cost: 0.31075144518172465\n",
      "Epoch: 3 | Cost: 0.17493310166728446\n",
      "Epoch: 4 | Cost: 0.07278151548980642\n",
      "Epoch: 5 | Cost: 0.03358367188844365\n",
      "Epoch: 6 | Cost: 0.07549966192641872\n",
      "Epoch: 7 | Cost: 0.12430751727733842\n",
      "Epoch: 8 | Cost: 0.1307745490372273\n",
      "Epoch: 9 | Cost: 0.10733092402585667\n",
      "Epoch: 10 | Cost: 0.07717213604034662\n",
      "Epoch: 11 | Cost: 0.06472283343100164\n",
      "Epoch: 12 | Cost: 0.06417136623101809\n",
      "Epoch: 13 | Cost: 0.07104152778977499\n",
      "Epoch: 14 | Cost: 0.083475967331729\n",
      "Epoch: 15 | Cost: 0.0953279064785159\n",
      "Epoch: 16 | Cost: 0.10253305393713337\n",
      "Epoch: 17 | Cost: 0.10750131972084545\n",
      "Epoch: 18 | Cost: 0.11206173681693762\n",
      "Epoch: 19 | Cost: 0.11321455670514899\n",
      "Epoch: 20 | Cost: 0.11296645152550763\n",
      "Epoch: 21 | Cost: 0.11122140292400641\n",
      "Epoch: 22 | Cost: 0.10908829189972429\n",
      "Epoch: 23 | Cost: 0.10606031365754609\n",
      "Epoch: 24 | Cost: 0.10297878414545686\n",
      "Epoch: 25 | Cost: 0.09978258704836522\n",
      "Epoch: 26 | Cost: 0.09681887274104548\n",
      "Epoch: 27 | Cost: 0.09396392488028978\n",
      "Epoch: 28 | Cost: 0.0907929110209498\n",
      "Epoch: 29 | Cost: 0.08706850757746024\n",
      "Epoch: 30 | Cost: 0.08241478230844222\n",
      "Epoch: 31 | Cost: 0.0776005374927068\n",
      "Epoch: 32 | Cost: 0.07150198952628492\n",
      "Epoch: 33 | Cost: 0.06639793243949513\n",
      "Epoch: 34 | Cost: 0.06034219332787592\n",
      "Epoch: 35 | Cost: 0.054958052910206015\n",
      "Epoch: 36 | Cost: 0.049728531600090733\n",
      "Epoch: 37 | Cost: 0.045041487779238124\n",
      "Epoch: 38 | Cost: 0.04084020550358305\n",
      "Epoch: 39 | Cost: 0.03720039241108255\n",
      "Epoch: 40 | Cost: 0.03398238107114328\n",
      "Epoch: 41 | Cost: 0.031161312080753772\n",
      "Epoch: 42 | Cost: 0.028652318332033064\n",
      "Epoch: 43 | Cost: 0.02633095347493285\n",
      "Epoch: 44 | Cost: 0.024116245310884667\n",
      "Epoch: 45 | Cost: 0.022135417959876422\n",
      "Epoch: 46 | Cost: 0.020049755318220383\n",
      "Epoch: 47 | Cost: 0.018210036649035772\n",
      "Epoch: 48 | Cost: 0.016600246936991955\n",
      "Epoch: 49 | Cost: 0.01517091129390533\n",
      "Epoch: 50 | Cost: 0.01410719560995023\n",
      "Epoch: 51 | Cost: 0.013079576273732671\n",
      "Epoch: 52 | Cost: 0.01218868601457023\n",
      "Epoch: 53 | Cost: 0.011410325460051956\n",
      "Epoch: 54 | Cost: 0.01097790413541251\n",
      "Epoch: 55 | Cost: 0.010190573441397646\n",
      "Epoch: 56 | Cost: 0.009173299185221251\n",
      "Epoch: 57 | Cost: 0.008715214477441986\n",
      "Epoch: 58 | Cost: 0.008104633313797988\n",
      "Epoch: 59 | Cost: 0.007549872203497749\n",
      "Epoch: 60 | Cost: 0.007327885928628013\n",
      "Epoch: 61 | Cost: 0.006952412367904597\n",
      "Epoch: 62 | Cost: 0.00651421028649188\n",
      "Epoch: 63 | Cost: 0.006092993064451764\n",
      "Epoch: 64 | Cost: 0.00570457464254115\n",
      "Epoch: 65 | Cost: 0.0053266484753891835\n",
      "Epoch: 66 | Cost: 0.004933739698216857\n",
      "Epoch: 67 | Cost: 0.004696308584983396\n",
      "Epoch: 68 | Cost: 0.004524286276327406\n",
      "Epoch: 69 | Cost: 0.004181969038357461\n",
      "Epoch: 70 | Cost: 0.0038693709326205897\n",
      "Epoch: 71 | Cost: 0.0037975552503080557\n",
      "Epoch: 72 | Cost: 0.003395765650376795\n",
      "Epoch: 73 | Cost: 0.00334038123748264\n",
      "Epoch: 74 | Cost: 0.0030967508948628246\n",
      "Epoch: 75 | Cost: 0.002956313981904715\n",
      "Epoch: 76 | Cost: 0.002824809941112242\n",
      "Epoch: 77 | Cost: 0.002708544776486313\n",
      "Epoch: 78 | Cost: 0.0025188085426599144\n",
      "Epoch: 79 | Cost: 0.0025113959880686066\n",
      "Epoch: 80 | Cost: 0.00222017171645306\n",
      "Epoch: 81 | Cost: 0.0022865719202603925\n",
      "Epoch: 82 | Cost: 0.0020039288258921592\n",
      "Epoch: 83 | Cost: 0.0019664678389736644\n",
      "Epoch: 84 | Cost: 0.0019437948155373015\n",
      "Epoch: 85 | Cost: 0.00174000799081003\n",
      "Epoch: 86 | Cost: 0.0017438341491818814\n",
      "Epoch: 87 | Cost: 0.0016953410132293078\n",
      "Epoch: 88 | Cost: 0.0015278037702996477\n",
      "Epoch: 89 | Cost: 0.0015246074782795857\n",
      "Epoch: 90 | Cost: 0.0015166752482665483\n",
      "Epoch: 91 | Cost: 0.0013423877141820941\n",
      "Epoch: 92 | Cost: 0.0012841414324728053\n",
      "Epoch: 93 | Cost: 0.0013507035181127879\n",
      "Epoch: 94 | Cost: 0.0012381700191185082\n",
      "Epoch: 95 | Cost: 0.0011025540337027096\n",
      "Epoch: 96 | Cost: 0.0011123346085353683\n",
      "Epoch: 97 | Cost: 0.00116005443695367\n",
      "Epoch: 98 | Cost: 0.0010691873307469245\n",
      "Epoch: 99 | Cost: 0.0009361738564620941\n",
      "Epoch: 100 | Cost: 0.0009243375931031491\n",
      "Epoch: 101 | Cost: 0.0009856951065081616\n",
      "Epoch: 102 | Cost: 0.0009519804110487424\n",
      "Epoch: 103 | Cost: 0.000835483907858909\n",
      "Epoch: 104 | Cost: 0.0007650766581021144\n",
      "Epoch: 105 | Cost: 0.0007866813525624985\n",
      "Epoch: 106 | Cost: 0.0008205170214631717\n",
      "Epoch: 107 | Cost: 0.0007793164351716259\n",
      "Epoch: 108 | Cost: 0.0006931488662224796\n",
      "Epoch: 109 | Cost: 0.0006442957571944226\n",
      "Epoch: 110 | Cost: 0.0006404744545528197\n",
      "Epoch: 111 | Cost: 0.0006803004641854709\n",
      "Epoch: 112 | Cost: 0.0006762954506387553\n",
      "Epoch: 113 | Cost: 0.0006182102376050011\n",
      "Epoch: 114 | Cost: 0.0005467343222748857\n",
      "Epoch: 115 | Cost: 0.000500361478206194\n",
      "Epoch: 116 | Cost: 0.0005242438255932853\n",
      "Epoch: 117 | Cost: 0.0005702642056119105\n",
      "Epoch: 118 | Cost: 0.0005793364762039929\n",
      "Epoch: 119 | Cost: 0.0005588011620590832\n",
      "Epoch: 120 | Cost: 0.0005008846202212876\n",
      "Epoch: 121 | Cost: 0.00043275212275033833\n",
      "Epoch: 122 | Cost: 0.0003914862526594214\n",
      "Epoch: 123 | Cost: 0.0004122802651142834\n",
      "Epoch: 124 | Cost: 0.0004573392603290809\n",
      "Epoch: 125 | Cost: 0.0004727310538093466\n",
      "Epoch: 126 | Cost: 0.00047312333362221074\n",
      "Epoch: 127 | Cost: 0.00046624833767346737\n",
      "Epoch: 128 | Cost: 0.00044950620254795304\n",
      "Epoch: 129 | Cost: 0.00041430001565988174\n",
      "Epoch: 130 | Cost: 0.00037012476829563446\n"
     ]
    }
   ],
   "source": [
    "epochs=100\n",
    "cost_max = 10000\n",
    "theta1_best = None\n",
    "theta2_best = None\n",
    "w1_best = None\n",
    "w2_best = None\n",
    "for e in range(1,epochs+1):\n",
    "    (theta1,theta2,w1,w2,_),_cost=opt.step_and_cost(cost,theta1,theta2,w1,w2,t)\n",
    "    if _cost<cost_max:\n",
    "        cost_max = _cost\n",
    "        theta1_best = theta1\n",
    "        theta2_best = theta2\n",
    "        w1_best = w1\n",
    "        w2_best = w2\n",
    "    # (theta,_),_cost=opt.step_and_cost(cost,theta,t)\n",
    "    if e==1 or e%1==0:\n",
    "        print(f'Epoch: {e} | Cost: {_cost}')"
   ]
  },
  {
   "cell_type": "code",
   "execution_count": 20,
   "metadata": {},
   "outputs": [],
   "source": [
    "# print(_cost)\n",
    "t=np.random.uniform(0,1,size=50,requires_grad=False)\n",
    "pred_train_X=np.array([classical_quantum_net(theta1,w1,t) for t in t])\n",
    "pred_train_Y=np.array([classical_quantum_net(theta2,w2,t) for t in t])"
   ]
  },
  {
   "cell_type": "code",
   "execution_count": 24,
   "metadata": {},
   "outputs": [
    {
     "data": {
      "image/png": "[encoded data removed]",
      "text/plain": [
       "<Figure size 640x480 with 1 Axes>"
      ]
     },
     "metadata": {},
     "output_type": "display_data"
    }
   ],
   "source": [
    "plt.figure()\n",
    "# plt.scatter(t,X_t(t),facecolors='none', edgecolors='r', label='True - X_t')\n",
    "plt.scatter(t,pred_train_X, color='red',marker=\"x\",s=4,label='Prediction - X_t')\n",
    "# plt.scatter(t,Y_t(t),facecolors='none', edgecolors='g', label='True - Y_t')\n",
    "plt.scatter(t,pred_train_Y, color='green',marker=\"x\",s=4,label='Prediction - Y_t')\n",
    "plt.xlabel('x',fontsize=16)\n",
    "plt.ylabel('f(x)',fontsize=16)\n",
    "plt.xticks(fontsize=10)\n",
    "plt.yticks(fontsize=10)\n",
    "plt.legend(loc='upper center',bbox_to_anchor=(0.5,1.18),ncol=2,fontsize=16)\n",
    "# plt.savefig('1_measurement2_train.png')\n",
    "plt.show()"
   ]
  }
 ],
 "metadata": {
  "kernelspec": {
   "display_name": "base",
   "language": "python",
   "name": "python3"
  },
  "language_info": {
   "codemirror_mode": {
    "name": "ipython",
    "version": 3
   },
   "file_extension": ".py",
   "mimetype": "text/x-python",
   "name": "python",
   "nbconvert_exporter": "python",
   "pygments_lexer": "ipython3",
   "version": "3.10.9"
  },
  "orig_nbformat": 4
 },
 "nbformat": 4,
 "nbformat_minor": 2
}
