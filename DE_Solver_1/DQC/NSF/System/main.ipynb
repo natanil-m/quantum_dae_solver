{
 "cells": [
  {
   "cell_type": "code",
   "execution_count": 1,
   "metadata": {},
   "outputs": [],
   "source": [
    "from math import pi\n",
    "import matplotlib.pyplot as plt\n",
    "from pennylane import numpy as np\n",
    "import pennylane as qml\n",
    "from pennylane.optimize import AdamOptimizer\n",
    "import datetime\n",
    "now=datetime.datetime.now"
   ]
  },
  {
   "cell_type": "code",
   "execution_count": 2,
   "metadata": {},
   "outputs": [],
   "source": [
    "num_qubits=2\n",
    "dev=qml.device('default.qubit', wires=num_qubits)"
   ]
  },
  {
   "cell_type": "code",
   "execution_count": 3,
   "metadata": {},
   "outputs": [],
   "source": [
    "# Boundary condition \n",
    "# X_0 = 0\n",
    "# Y_1 = 1\n",
    "X_0_v = 2.6885377567769764\n",
    "Y_0_v = -3.790585633545575\n"
   ]
  },
  {
   "cell_type": "code",
   "execution_count": 4,
   "metadata": {},
   "outputs": [],
   "source": [
    "# Differential equation's exact solution - for comparison\n",
    "def X_t(t):\n",
    "    return X_0_v*np.cos(t)+(3*X_0_v+2*Y_0_v)*np.sin(t)\n",
    "\n",
    "def Y_t(t):\n",
    "    return Y_0_v*np.cos(t)-(3*Y_0_v+5*X_0_v)*np.sin(t)"
   ]
  },
  {
   "cell_type": "code",
   "execution_count": 5,
   "metadata": {},
   "outputs": [],
   "source": [
    "# Systems of Differential equation \n",
    "def F_E1(X_prime, X,Y_prime,Y, t):       # DE, works with numpy arrays\n",
    "    return X_prime+Y_prime+2*X+Y\n",
    "\n",
    "def F_E2(X_prime, X,Y_prime,Y, t):       # DE, works with numpy arrays\n",
    "    return Y_prime+5*X+3*Y"
   ]
  },
  {
   "cell_type": "code",
   "execution_count": 6,
   "metadata": {},
   "outputs": [],
   "source": [
    "t=np.random.uniform(0,4,size=100,requires_grad=False)"
   ]
  },
  {
   "cell_type": "code",
   "execution_count": 7,
   "metadata": {},
   "outputs": [],
   "source": [
    "# define embedding layer\n",
    "def embedding(x,wires):\n",
    "    qml.RY(x, wires=wires[1])"
   ]
  },
  {
   "cell_type": "code",
   "execution_count": 8,
   "metadata": {},
   "outputs": [],
   "source": [
    "def Ham():\n",
    "    obs=[]\n",
    "    for j in range(num_qubits):\n",
    "        obs.append(qml.PauliX(j))\n",
    "        for k in range(j):\n",
    "            obs.append(qml.PauliZ(j)@qml.PauliZ(k))\n",
    "    coeffs=np.random.uniform(-1,1,len(obs))*10\n",
    "    qml.Hamiltonian(coeffs, obs)"
   ]
  },
  {
   "cell_type": "code",
   "execution_count": 9,
   "metadata": {},
   "outputs": [],
   "source": [
    "# define ansastz layer\n",
    "def layer(theta):\n",
    "    \n",
    "    # Apply Hamiltonian matrix\n",
    "    Ham()\n",
    "    \n",
    "    # Apply H gate\n",
    "    qml.Hadamard(0)\n",
    "    \n",
    "    # rotations on qubit 1\n",
    "    qml.RY(theta,wires=1)\n",
    "    \n",
    "    # CNOT\n",
    "    qml.CNOT(wires=[0, 1])"
   ]
  },
  {
   "cell_type": "code",
   "execution_count": 10,
   "metadata": {},
   "outputs": [],
   "source": [
    "@qml.qnode(dev, diff_method=\"backprop\", interface=\"autograd\")\n",
    "def quantum_net(theta,x):\n",
    "    \n",
    "    # encode data\n",
    "    embedding(x,wires=range(num_qubits))\n",
    "    \n",
    "    # parameterized circuit layers\n",
    "    for v in theta: # (for lool along with the first dimension)\n",
    "        # print(v)\n",
    "        # Ham()\n",
    "        layer(v)\n",
    "    \n",
    "    qml.Hadamard(0)\n",
    "    \n",
    "    # return qml.expval(qml.PauliZ(0)),qml.expval(qml.PauliZ(1))\n",
    "    return qml.expval(qml.PauliZ(0))"
   ]
  },
  {
   "cell_type": "code",
   "execution_count": 11,
   "metadata": {},
   "outputs": [
    {
     "name": "stdout",
     "output_type": "stream",
     "text": [
      "0: ──H────────────────╭●──H──────╭●──H──────╭●──H──────╭●──H─┤  <Z>\n",
      "1: ──RY(0.00)──RY(M0)─╰X──RY(M1)─╰X──RY(M2)─╰X──RY(M3)─╰X────┤     \n"
     ]
    }
   ],
   "source": [
    "num_layers=4\n",
    "theta1=np.random.uniform(0,2*pi,size=(num_layers,num_qubits-1),requires_grad=True)\n",
    "theta2=np.random.uniform(0,2*pi,size=(num_layers,num_qubits-1),requires_grad=True)\n",
    "# theta = np.load('my_theta1.npy')\n",
    "print(qml.draw(quantum_net)(theta1,0))"
   ]
  },
  {
   "cell_type": "code",
   "execution_count": 12,
   "metadata": {},
   "outputs": [],
   "source": [
    "# add the classical layer   #TODO\n",
    "def classical_quantum_net(theta,w,t):\n",
    "    r1=quantum_net(theta,t)[0]\n",
    "    # r2=quantum_net(theta,x)[1]\n",
    "    # return w[0]+w[1]*r1+w[2]*r1**2+w[3]*r2+w[4]*r2**2\n",
    "    return w[0]+w[1]*r1+w[2]*r1**2\n",
    "    # r1=quantum_net(theta,x)\n",
    "    return r1"
   ]
  },
  {
   "cell_type": "code",
   "execution_count": 13,
   "metadata": {},
   "outputs": [],
   "source": [
    "def classical_quantum_net_prime(theta,w,t):\n",
    "    r1=quantum_net(theta,t)[0]\n",
    "    r1_prime = qml.grad(quantum_net,argnum=1)(theta,np.tensor(t)) \n",
    "    # r2=quantum_net(theta,x)[1]\n",
    "    # return w[0]+w[1]*r1+w[2]*r1**2+w[3]*r2+w[4]*r2**2\n",
    "    return w[1]*r1_prime+2*w[2]*r1_prime*r1\n"
   ]
  },
  {
   "cell_type": "code",
   "execution_count": 14,
   "metadata": {},
   "outputs": [],
   "source": [
    "# def square_loss(labels,predictions):\n",
    "#     loss=0\n",
    "#     for l,p in zip(labels,predictions):\n",
    "#         loss=loss+(l-p)**2\n",
    "#     loss=loss/len(labels)\n",
    "#     return loss"
   ]
  },
  {
   "cell_type": "code",
   "execution_count": 15,
   "metadata": {},
   "outputs": [],
   "source": [
    "# #loss boundary\n",
    "# def loss_b(U_predict):\n",
    "    \n",
    "    "
   ]
  },
  {
   "cell_type": "code",
   "execution_count": 16,
   "metadata": {},
   "outputs": [],
   "source": [
    "\n",
    "def cost(theta1,theta2,w1,w2,t):\n",
    "\n",
    "    # loss inner points\n",
    "    loss_i = 0\n",
    "\n",
    "    X_t_pred = np.array([classical_quantum_net(theta=theta1,w=w1,t=point) for point in t])\n",
    "    X_t_prime = np.array([classical_quantum_net_prime(theta=theta1,w=w1,t=point) for point in t])\n",
    "    \n",
    "    Y_t_pred = np.array([classical_quantum_net(theta=theta2,w=w2,t=point) for point in t])\n",
    "    Y_t_prime = np.array([classical_quantum_net_prime(theta=theta2,w=w2,t=point) for point in t])\n",
    "\n",
    "    loss_i += np.mean(F_E1(X=X_t_pred,Y=Y_t_pred,X_prime=X_t_prime,Y_prime=Y_t_prime,t=t)**2)\n",
    "    loss_i += np.mean(F_E2(X=X_t_pred,Y=Y_t_pred,X_prime=X_t_prime,Y_prime=Y_t_prime,t=t)**2)\n",
    "\n",
    "    # loss boundary points\n",
    "    loss_b = 0\n",
    "    X_0_pred = classical_quantum_net(theta1,w1,0)\n",
    "    Y_0_pred = classical_quantum_net(theta2,w2,0)\n",
    "\n",
    "    # print(U_0)\n",
    "    loss_b += (X_0_v-X_0_pred)**2+(Y_0_v-Y_0_pred)**2\n",
    "    return 0.2*loss_b + 0.8*loss_i"
   ]
  },
  {
   "cell_type": "code",
   "execution_count": 17,
   "metadata": {},
   "outputs": [],
   "source": [
    "w1=np.zeros(3,requires_grad=True)\n",
    "w2=np.zeros(3,requires_grad=True)\n",
    "opt = AdamOptimizer(0.05, beta1=0.9, beta2=0.999)"
   ]
  },
  {
   "cell_type": "code",
   "execution_count": 18,
   "metadata": {},
   "outputs": [
    {
     "name": "stdout",
     "output_type": "stream",
     "text": [
      "2023-07-26 11:44:39.118585\n"
     ]
    }
   ],
   "source": [
    "start=now()\n",
    "print(start)"
   ]
  },
  {
   "cell_type": "code",
   "execution_count": 19,
   "metadata": {},
   "outputs": [
    {
     "name": "stdout",
     "output_type": "stream",
     "text": [
      "Epoch: 1 | Cost: 4.319354942971497\n",
      "Epoch: 2 | Cost: 4.297189313121708\n",
      "Epoch: 3 | Cost: 4.0679730389501625\n",
      "Epoch: 4 | Cost: 4.00855681864066\n",
      "Epoch: 5 | Cost: 3.839619515644787\n",
      "Epoch: 6 | Cost: 3.6204564115414755\n",
      "Epoch: 7 | Cost: 3.4256335657606747\n",
      "Epoch: 8 | Cost: 3.2621683141030133\n",
      "Epoch: 9 | Cost: 3.109439457462783\n",
      "Epoch: 10 | Cost: 2.970440971997687\n",
      "Epoch: 11 | Cost: 2.8689538378750883\n",
      "Epoch: 12 | Cost: 2.8018995167875778\n",
      "Epoch: 13 | Cost: 2.7321946375617108\n",
      "Epoch: 14 | Cost: 2.639736742601519\n",
      "Epoch: 15 | Cost: 2.5349657137002772\n",
      "Epoch: 16 | Cost: 2.4360204362172677\n",
      "Epoch: 17 | Cost: 2.354456773228359\n",
      "Epoch: 18 | Cost: 2.288348344407075\n",
      "Epoch: 19 | Cost: 2.22376802282933\n",
      "Epoch: 20 | Cost: 2.1513980518147022\n",
      "Epoch: 21 | Cost: 2.0734889914354158\n",
      "Epoch: 22 | Cost: 1.9934260450355588\n",
      "Epoch: 23 | Cost: 1.9097709596115822\n",
      "Epoch: 24 | Cost: 1.8257208358487604\n",
      "Epoch: 25 | Cost: 1.748633487967623\n",
      "Epoch: 26 | Cost: 1.676478308096028\n",
      "Epoch: 27 | Cost: 1.5972515806290906\n",
      "Epoch: 28 | Cost: 1.5032974476267775\n",
      "Epoch: 29 | Cost: 1.3973002049248655\n",
      "Epoch: 30 | Cost: 1.2874203703230203\n",
      "Epoch: 31 | Cost: 1.1794803593132723\n",
      "Epoch: 32 | Cost: 1.0740590106624384\n",
      "Epoch: 33 | Cost: 0.9705426175524853\n",
      "Epoch: 34 | Cost: 0.870887202933607\n",
      "Epoch: 35 | Cost: 0.7757625822122348\n",
      "Epoch: 36 | Cost: 0.6814742160445677\n",
      "Epoch: 37 | Cost: 0.5882665355670139\n",
      "Epoch: 38 | Cost: 0.5036381719283856\n",
      "Epoch: 39 | Cost: 0.42750596433714955\n",
      "Epoch: 40 | Cost: 0.35967791083563483\n",
      "Epoch: 41 | Cost: 0.30556822514081644\n",
      "Epoch: 42 | Cost: 0.26035435311937594\n",
      "Epoch: 43 | Cost: 0.22822433097193895\n",
      "Epoch: 44 | Cost: 0.20456216424604284\n",
      "Epoch: 45 | Cost: 0.19043692499027193\n",
      "Epoch: 46 | Cost: 0.18226828655587313\n",
      "Epoch: 47 | Cost: 0.17828775392013993\n",
      "Epoch: 48 | Cost: 0.17891745638810302\n",
      "Epoch: 49 | Cost: 0.17902835260298355\n",
      "Epoch: 50 | Cost: 0.17871043836066905\n",
      "Epoch: 51 | Cost: 0.17936919600125725\n",
      "Epoch: 52 | Cost: 0.1804769750665199\n",
      "Epoch: 53 | Cost: 0.18169703799716738\n",
      "Epoch: 54 | Cost: 0.1818631630193006\n",
      "Epoch: 55 | Cost: 0.18000421032222788\n",
      "Epoch: 56 | Cost: 0.17656798335336885\n",
      "Epoch: 57 | Cost: 0.17321126791396324\n",
      "Epoch: 58 | Cost: 0.17054822101799602\n",
      "Epoch: 59 | Cost: 0.16777670798345734\n",
      "Epoch: 60 | Cost: 0.16445879197239563\n",
      "Epoch: 61 | Cost: 0.16115964243323816\n",
      "Epoch: 62 | Cost: 0.15916420712097415\n",
      "Epoch: 63 | Cost: 0.15893694508837308\n",
      "Epoch: 64 | Cost: 0.1598631245507139\n",
      "Epoch: 65 | Cost: 0.1610360598784855\n",
      "Epoch: 66 | Cost: 0.16199515849374288\n",
      "Epoch: 67 | Cost: 0.1626972551709027\n",
      "Epoch: 68 | Cost: 0.16317050053707896\n",
      "Epoch: 69 | Cost: 0.16319991336129608\n",
      "Epoch: 70 | Cost: 0.16231506428408501\n",
      "Epoch: 71 | Cost: 0.1603157276591182\n",
      "Epoch: 72 | Cost: 0.1576635882789821\n",
      "Epoch: 73 | Cost: 0.15511979254081731\n",
      "Epoch: 74 | Cost: 0.15326044810021036\n",
      "Epoch: 75 | Cost: 0.15217659287041463\n",
      "Epoch: 76 | Cost: 0.15154310371238167\n",
      "Epoch: 77 | Cost: 0.15111870062557636\n",
      "Epoch: 78 | Cost: 0.1508491717037409\n",
      "Epoch: 79 | Cost: 0.15067433862355645\n",
      "Epoch: 80 | Cost: 0.150257919056672\n",
      "Epoch: 81 | Cost: 0.14944035741490638\n",
      "Epoch: 82 | Cost: 0.14832577736105415\n",
      "Epoch: 83 | Cost: 0.14723177266275345\n",
      "Epoch: 84 | Cost: 0.14631294363995215\n",
      "Epoch: 85 | Cost: 0.14544687909712867\n",
      "Epoch: 86 | Cost: 0.14448177140218865\n",
      "Epoch: 87 | Cost: 0.14348127109711212\n",
      "Epoch: 88 | Cost: 0.14261772834241485\n",
      "Epoch: 89 | Cost: 0.141995035130408\n",
      "Epoch: 90 | Cost: 0.1415439925391254\n",
      "Epoch: 91 | Cost: 0.14114125690239013\n",
      "Epoch: 92 | Cost: 0.14071495367512354\n",
      "Epoch: 93 | Cost: 0.14024680953427\n",
      "Epoch: 94 | Cost: 0.1397077417089857\n",
      "Epoch: 95 | Cost: 0.13908496205397755\n",
      "Epoch: 96 | Cost: 0.13842477296076877\n",
      "Epoch: 97 | Cost: 0.1378147305798386\n",
      "Epoch: 98 | Cost: 0.13728897461687525\n",
      "Epoch: 99 | Cost: 0.1368075923360479\n",
      "Epoch: 100 | Cost: 0.1363359453982388\n",
      "Epoch: 101 | Cost: 0.135881144962232\n",
      "Epoch: 102 | Cost: 0.13547134384256587\n",
      "Epoch: 103 | Cost: 0.1350912984994243\n",
      "Epoch: 104 | Cost: 0.13470998221918898\n",
      "Epoch: 105 | Cost: 0.13432003990437394\n",
      "Epoch: 106 | Cost: 0.1339322464279803\n",
      "Epoch: 107 | Cost: 0.13354168112310838\n",
      "Epoch: 108 | Cost: 0.13313172076474686\n",
      "Epoch: 109 | Cost: 0.13271061969536585\n",
      "Epoch: 110 | Cost: 0.1323027180315253\n",
      "Epoch: 111 | Cost: 0.13191856926212775\n",
      "Epoch: 112 | Cost: 0.13154945384039793\n",
      "Epoch: 113 | Cost: 0.1311901786220837\n",
      "Epoch: 114 | Cost: 0.1308442556419118\n",
      "Epoch: 115 | Cost: 0.13050829731212005\n",
      "Epoch: 116 | Cost: 0.13016904170958402\n",
      "Epoch: 117 | Cost: 0.12981845359927938\n",
      "Epoch: 118 | Cost: 0.12946138441601954\n",
      "Epoch: 119 | Cost: 0.12910222641342767\n",
      "Epoch: 120 | Cost: 0.12873970275979213\n",
      "Epoch: 121 | Cost: 0.1283731057320597\n",
      "Epoch: 122 | Cost: 0.12800882038325206\n",
      "Epoch: 123 | Cost: 0.12765042993130077\n",
      "Epoch: 124 | Cost: 0.12729515191421875\n",
      "Epoch: 125 | Cost: 0.12693963438128406\n",
      "Epoch: 126 | Cost: 0.12658537070201556\n",
      "Epoch: 127 | Cost: 0.1262323351687057\n",
      "Epoch: 128 | Cost: 0.12587709118877344\n",
      "Epoch: 129 | Cost: 0.12551773659687337\n",
      "Epoch: 130 | Cost: 0.1251568772302664\n"
     ]
    }
   ],
   "source": [
    "epochs=130\n",
    "for e in range(1,epochs+1):\n",
    "    (theta1,theta2,w1,w2,_),_cost=opt.step_and_cost(cost,theta1,theta2,w1,w2,t)\n",
    "    # (theta,_),_cost=opt.step_and_cost(cost,theta,t)\n",
    "    if e==1 or e%1==0:\n",
    "        print(f'Epoch: {e} | Cost: {_cost}')"
   ]
  },
  {
   "cell_type": "code",
   "execution_count": 24,
   "metadata": {},
   "outputs": [],
   "source": [
    "# t=np.random.uniform(0,4,size=100,requires_grad=False)\n",
    "pred_train_X=np.array([classical_quantum_net(theta1,w1,t) for t in t])\n",
    "pred_train_Y=np.array([classical_quantum_net(theta2,w2,t) for t in t])"
   ]
  },
  {
   "cell_type": "code",
   "execution_count": 25,
   "metadata": {},
   "outputs": [
    {
     "data": {
      "image/png": "[encoded data removed]",
      "text/plain": [
       "<Figure size 640x480 with 1 Axes>"
      ]
     },
     "metadata": {},
     "output_type": "display_data"
    }
   ],
   "source": [
    "plt.figure()\n",
    "plt.scatter(t,X_t(t),facecolors='none', edgecolors='r', label='True - X_t')\n",
    "plt.scatter(t,pred_train_X, color='red',marker=\"x\",s=4,label='Prediction - X_t')\n",
    "plt.scatter(t,Y_t(t),facecolors='none', edgecolors='g', label='True - Y_t')\n",
    "plt.scatter(t,pred_train_Y, color='green',marker=\"x\",s=4,label='Prediction - Y_t')\n",
    "plt.xlabel('x',fontsize=16)\n",
    "plt.ylabel('f(x)',fontsize=16)\n",
    "plt.xticks(fontsize=10)\n",
    "plt.yticks(fontsize=10)\n",
    "plt.legend(loc='upper center',bbox_to_anchor=(0.5,1.18),ncol=2,fontsize=16)\n",
    "# plt.savefig('1_measurement2_train.png')\n",
    "plt.show()"
   ]
  }
 ],
 "metadata": {
  "kernelspec": {
   "display_name": "base",
   "language": "python",
   "name": "python3"
  },
  "language_info": {
   "codemirror_mode": {
    "name": "ipython",
    "version": 3
   },
   "file_extension": ".py",
   "mimetype": "text/x-python",
   "name": "python",
   "nbconvert_exporter": "python",
   "pygments_lexer": "ipython3",
   "version": "3.10.9"
  },
  "orig_nbformat": 4
 },
 "nbformat": 4,
 "nbformat_minor": 2
}
