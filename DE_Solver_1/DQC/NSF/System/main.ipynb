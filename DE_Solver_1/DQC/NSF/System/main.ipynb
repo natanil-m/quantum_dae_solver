{
 "cells": [
  {
   "cell_type": "code",
   "execution_count": 1,
   "metadata": {},
   "outputs": [],
   "source": [
    "from math import pi\n",
    "import matplotlib.pyplot as plt\n",
    "from pennylane import numpy as np\n",
    "import pennylane as qml\n",
    "from pennylane.optimize import AdamOptimizer\n",
    "import datetime\n",
    "now=datetime.datetime.now"
   ]
  },
  {
   "cell_type": "code",
   "execution_count": 2,
   "metadata": {},
   "outputs": [],
   "source": [
    "num_qubits=2\n",
    "dev=qml.device('default.qubit', wires=num_qubits)"
   ]
  },
  {
   "cell_type": "code",
   "execution_count": 3,
   "metadata": {},
   "outputs": [],
   "source": [
    "# Boundary condition \n",
    "# X_0 = 0\n",
    "# Y_1 = 1\n",
    "X_0_v = 2.6885377567769764\n",
    "Y_0_v = -3.790585633545575\n"
   ]
  },
  {
   "cell_type": "code",
   "execution_count": 4,
   "metadata": {},
   "outputs": [],
   "source": [
    "# Differential equation's exact solution - for comparison\n",
    "def X_t(t):\n",
    "    return X_0_v*np.cos(t)+(3*X_0_v+2*Y_0_v)*np.sin(t)\n",
    "\n",
    "def Y_t(t):\n",
    "    return Y_0_v*np.cos(t)-(3*Y_0_v+5*X_0_v)*np.sin(t)"
   ]
  },
  {
   "cell_type": "code",
   "execution_count": 5,
   "metadata": {},
   "outputs": [],
   "source": [
    "# Systems of Differential equation \n",
    "def F_E1(X_prime, X,Y_prime,Y, t):       # DE, works with numpy arrays\n",
    "    return X_prime+Y_prime+2*X+Y\n",
    "\n",
    "def F_E2(X_prime, X,Y_prime,Y, t):       # DE, works with numpy arrays\n",
    "    return Y_prime+5*X+3*Y"
   ]
  },
  {
   "cell_type": "code",
   "execution_count": 6,
   "metadata": {},
   "outputs": [],
   "source": [
    "t=np.random.uniform(0,1,size=50,requires_grad=False)"
   ]
  },
  {
   "cell_type": "code",
   "execution_count": 7,
   "metadata": {},
   "outputs": [],
   "source": [
    "# define embedding layer\n",
    "def embedding(x,wires):\n",
    "    qml.RY(x, wires=wires[1])"
   ]
  },
  {
   "cell_type": "code",
   "execution_count": 8,
   "metadata": {},
   "outputs": [],
   "source": [
    "def Ham():\n",
    "    obs=[]\n",
    "    for j in range(num_qubits):\n",
    "        obs.append(qml.PauliX(j))\n",
    "        for k in range(j):\n",
    "            obs.append(qml.PauliZ(j)@qml.PauliZ(k))\n",
    "    coeffs=np.random.uniform(-1,1,len(obs))*10\n",
    "    qml.Hamiltonian(coeffs, obs)"
   ]
  },
  {
   "cell_type": "code",
   "execution_count": 9,
   "metadata": {},
   "outputs": [],
   "source": [
    "# define ansastz layer\n",
    "def layer(theta):\n",
    "    \n",
    "    # Apply Hamiltonian matrix\n",
    "    Ham()\n",
    "    \n",
    "    # Apply H gate\n",
    "    qml.Hadamard(0)\n",
    "    \n",
    "    # rotations on qubit 1\n",
    "    qml.RY(theta,wires=1)\n",
    "    \n",
    "    # CNOT\n",
    "    qml.CNOT(wires=[0, 1])"
   ]
  },
  {
   "cell_type": "code",
   "execution_count": 10,
   "metadata": {},
   "outputs": [],
   "source": [
    "@qml.qnode(dev, diff_method=\"backprop\", interface=\"autograd\")\n",
    "def quantum_net(theta,x):\n",
    "    \n",
    "    # encode data\n",
    "    embedding(x,wires=range(num_qubits))\n",
    "    \n",
    "    # parameterized circuit layers\n",
    "    for v in theta: # (for lool along with the first dimension)\n",
    "        # print(v)\n",
    "        # Ham()\n",
    "        layer(v)\n",
    "    \n",
    "    qml.Hadamard(0)\n",
    "    \n",
    "    # return qml.expval(qml.PauliZ(0)),qml.expval(qml.PauliZ(1))\n",
    "    return qml.expval(qml.PauliZ(0))"
   ]
  },
  {
   "cell_type": "code",
   "execution_count": 11,
   "metadata": {},
   "outputs": [
    {
     "name": "stdout",
     "output_type": "stream",
     "text": [
      "0: ──H────────────────╭●──H──────╭●──H──────╭●──H──────╭●──H─┤  <Z>\n",
      "1: ──RY(0.00)──RY(M0)─╰X──RY(M1)─╰X──RY(M2)─╰X──RY(M3)─╰X────┤     \n",
      "M0 = \n",
      "[1.10716136]\n",
      "M1 = \n",
      "[4.54538332]\n",
      "M2 = \n",
      "[2.17319133]\n",
      "M3 = \n",
      "[4.41831263]\n"
     ]
    }
   ],
   "source": [
    "num_layers=4\n",
    "theta1=np.random.uniform(0,2*pi,size=(num_layers,num_qubits-1),requires_grad=True)\n",
    "theta2=np.random.uniform(0,2*pi,size=(num_layers,num_qubits-1),requires_grad=True)\n",
    "# theta = np.load('my_theta1.npy')\n",
    "print(qml.draw(quantum_net)(theta1,0))"
   ]
  },
  {
   "cell_type": "code",
   "execution_count": 12,
   "metadata": {},
   "outputs": [],
   "source": [
    "# add the classical layer   #TODO\n",
    "def classical_quantum_net(theta,w,t):\n",
    "    r1=quantum_net(theta,t)[0]\n",
    "    # r2=quantum_net(theta,x)[1]\n",
    "    # return w[0]+w[1]*r1+w[2]*r1**2+w[3]*r2+w[4]*r2**2\n",
    "    return w[0]+w[1]*r1+w[2]*r1**2\n",
    "    # r1=quantum_net(theta,x)\n",
    "    return r1"
   ]
  },
  {
   "cell_type": "code",
   "execution_count": 13,
   "metadata": {},
   "outputs": [],
   "source": [
    "def classical_quantum_net_prime(theta,w,t):\n",
    "    r1=quantum_net(theta,t)[0]\n",
    "    r1_prime = qml.grad(quantum_net,argnum=1)(theta,np.tensor(t)) \n",
    "    # r2=quantum_net(theta,x)[1]\n",
    "    # return w[0]+w[1]*r1+w[2]*r1**2+w[3]*r2+w[4]*r2**2\n",
    "    return w[1]*r1_prime+2*w[2]*r1_prime*r1\n"
   ]
  },
  {
   "cell_type": "code",
   "execution_count": 14,
   "metadata": {},
   "outputs": [],
   "source": [
    "# def square_loss(labels,predictions):\n",
    "#     loss=0\n",
    "#     for l,p in zip(labels,predictions):\n",
    "#         loss=loss+(l-p)**2\n",
    "#     loss=loss/len(labels)\n",
    "#     return loss"
   ]
  },
  {
   "cell_type": "code",
   "execution_count": 15,
   "metadata": {},
   "outputs": [],
   "source": [
    "# #loss boundary\n",
    "# def loss_b(U_predict):\n",
    "    \n",
    "    "
   ]
  },
  {
   "cell_type": "code",
   "execution_count": 16,
   "metadata": {},
   "outputs": [],
   "source": [
    "\n",
    "def cost(theta1,theta2,w1,w2,t):\n",
    "\n",
    "    # loss inner points\n",
    "    loss_i = 0\n",
    "\n",
    "    X_t_pred = np.array([classical_quantum_net(theta=theta1,w=w1,t=point) for point in t])\n",
    "    X_t_prime = np.array([classical_quantum_net_prime(theta=theta1,w=w1,t=point) for point in t])\n",
    "    \n",
    "    Y_t_pred = np.array([classical_quantum_net(theta=theta2,w=w2,t=point) for point in t])\n",
    "    Y_t_prime = np.array([classical_quantum_net_prime(theta=theta2,w=w2,t=point) for point in t])\n",
    "\n",
    "    loss_i += np.mean(F_E1(X=X_t_pred,Y=Y_t_pred,X_prime=X_t_prime,Y_prime=Y_t_prime,t=t)**2)\n",
    "    loss_i += np.mean(F_E2(X=X_t_pred,Y=Y_t_pred,X_prime=X_t_prime,Y_prime=Y_t_prime,t=t)**2)\n",
    "\n",
    "    # loss boundary points\n",
    "    loss_b = 0\n",
    "    X_0_pred = classical_quantum_net(theta1,w1,0)\n",
    "    Y_0_pred = classical_quantum_net(theta2,w2,0)\n",
    "\n",
    "    # print(U_0)\n",
    "    loss_b += (X_0_v-X_0_pred)**2+(Y_0_v-Y_0_pred)**2\n",
    "    return 0.2*loss_b + 0.8*loss_i"
   ]
  },
  {
   "cell_type": "code",
   "execution_count": 17,
   "metadata": {},
   "outputs": [],
   "source": [
    "w1=np.zeros(3,requires_grad=True)\n",
    "w2=np.zeros(3,requires_grad=True)\n",
    "opt = AdamOptimizer(0.05, beta1=0.9, beta2=0.999)"
   ]
  },
  {
   "cell_type": "code",
   "execution_count": 18,
   "metadata": {},
   "outputs": [
    {
     "name": "stdout",
     "output_type": "stream",
     "text": [
      "2023-10-23 05:18:20.880737\n"
     ]
    }
   ],
   "source": [
    "start=now()\n",
    "print(start)"
   ]
  },
  {
   "cell_type": "code",
   "execution_count": 19,
   "metadata": {},
   "outputs": [
    {
     "name": "stdout",
     "output_type": "stream",
     "text": [
      "Epoch: 1 | Cost: 4.319354942971497\n",
      "Epoch: 2 | Cost: 4.195415122254616\n",
      "Epoch: 3 | Cost: 4.069748946954794\n",
      "Epoch: 4 | Cost: 3.9567905531308365\n",
      "Epoch: 5 | Cost: 3.810163194452205\n",
      "Epoch: 6 | Cost: 3.658582497140043\n",
      "Epoch: 7 | Cost: 3.522117037479316\n",
      "Epoch: 8 | Cost: 3.3643500701461058\n",
      "Epoch: 9 | Cost: 3.2137008552832014\n",
      "Epoch: 10 | Cost: 3.0263936330149392\n",
      "Epoch: 11 | Cost: 2.836535758585799\n",
      "Epoch: 12 | Cost: 2.629495331245688\n",
      "Epoch: 13 | Cost: 2.429158380380774\n",
      "Epoch: 14 | Cost: 2.216347906688033\n",
      "Epoch: 15 | Cost: 2.013821101465802\n",
      "Epoch: 16 | Cost: 1.8031990023008002\n",
      "Epoch: 17 | Cost: 1.6086057281900712\n",
      "Epoch: 18 | Cost: 1.4097009889733407\n",
      "Epoch: 19 | Cost: 1.224547950669079\n",
      "Epoch: 20 | Cost: 1.0401318476941501\n",
      "Epoch: 21 | Cost: 0.8716066351461853\n",
      "Epoch: 22 | Cost: 0.7205314139905631\n",
      "Epoch: 23 | Cost: 0.5885851732308278\n",
      "Epoch: 24 | Cost: 0.4796328799701306\n",
      "Epoch: 25 | Cost: 0.38845884828038524\n",
      "Epoch: 26 | Cost: 0.3140601699946429\n",
      "Epoch: 27 | Cost: 0.2491462627637802\n",
      "Epoch: 28 | Cost: 0.19175314686098835\n",
      "Epoch: 29 | Cost: 0.14191658558039622\n",
      "Epoch: 30 | Cost: 0.10972906368876514\n",
      "Epoch: 31 | Cost: 0.09616114750557157\n",
      "Epoch: 32 | Cost: 0.0994983506672301\n",
      "Epoch: 33 | Cost: 0.10479765130565019\n",
      "Epoch: 34 | Cost: 0.07522293005143695\n",
      "Epoch: 35 | Cost: 0.0619774158703212\n",
      "Epoch: 36 | Cost: 0.08449263519142138\n",
      "Epoch: 37 | Cost: 0.08159645499852657\n",
      "Epoch: 38 | Cost: 0.0605352675754971\n",
      "Epoch: 39 | Cost: 0.07172962015843742\n",
      "Epoch: 40 | Cost: 0.0828967861883146\n",
      "Epoch: 41 | Cost: 0.0672624560720651\n",
      "Epoch: 42 | Cost: 0.06552657249306017\n",
      "Epoch: 43 | Cost: 0.07570048530908985\n",
      "Epoch: 44 | Cost: 0.06442079749125194\n",
      "Epoch: 45 | Cost: 0.05671016008902618\n",
      "Epoch: 46 | Cost: 0.06388646026753161\n",
      "Epoch: 47 | Cost: 0.056437987045779583\n",
      "Epoch: 48 | Cost: 0.047001867667807104\n",
      "Epoch: 49 | Cost: 0.050271287215327407\n",
      "Epoch: 50 | Cost: 0.04437509503173894\n",
      "Epoch: 51 | Cost: 0.03617345314627738\n",
      "Epoch: 52 | Cost: 0.038274127791312715\n",
      "Epoch: 53 | Cost: 0.0336868966938637\n",
      "Epoch: 54 | Cost: 0.027421362995764705\n",
      "Epoch: 55 | Cost: 0.028707960716773003\n",
      "Epoch: 56 | Cost: 0.024869464559428303\n",
      "Epoch: 57 | Cost: 0.021195711372737843\n",
      "Epoch: 58 | Cost: 0.022755873723641663\n",
      "Epoch: 59 | Cost: 0.019872081892500226\n",
      "Epoch: 60 | Cost: 0.017995438561337448\n",
      "Epoch: 61 | Cost: 0.01925477204774123\n",
      "Epoch: 62 | Cost: 0.017137549857840353\n",
      "Epoch: 63 | Cost: 0.01675619582018819\n",
      "Epoch: 64 | Cost: 0.01775543124301893\n",
      "Epoch: 65 | Cost: 0.016052263429812603\n",
      "Epoch: 66 | Cost: 0.016162688101402808\n",
      "Epoch: 67 | Cost: 0.016659380888999813\n",
      "Epoch: 68 | Cost: 0.015398400544468869\n",
      "Epoch: 69 | Cost: 0.01566806953732126\n",
      "Epoch: 70 | Cost: 0.01564763877901458\n",
      "Epoch: 71 | Cost: 0.014495856409914288\n",
      "Epoch: 72 | Cost: 0.014611410043050607\n",
      "Epoch: 73 | Cost: 0.014388789766675694\n",
      "Epoch: 74 | Cost: 0.013392726687344801\n",
      "Epoch: 75 | Cost: 0.01328787623845663\n",
      "Epoch: 76 | Cost: 0.01295738418282112\n",
      "Epoch: 77 | Cost: 0.012100746358541529\n",
      "Epoch: 78 | Cost: 0.011914763420216815\n",
      "Epoch: 79 | Cost: 0.011686860587555298\n",
      "Epoch: 80 | Cost: 0.01097560149332842\n",
      "Epoch: 81 | Cost: 0.010688495268374431\n",
      "Epoch: 82 | Cost: 0.010621584495831997\n",
      "Epoch: 83 | Cost: 0.01017677683762174\n",
      "Epoch: 84 | Cost: 0.009828114619156279\n",
      "Epoch: 85 | Cost: 0.009801994733205824\n",
      "Epoch: 86 | Cost: 0.009627613635466345\n",
      "Epoch: 87 | Cost: 0.009311001091727581\n",
      "Epoch: 88 | Cost: 0.009205196621856876\n",
      "Epoch: 89 | Cost: 0.0091876417174033\n",
      "Epoch: 90 | Cost: 0.009005288375482628\n",
      "Epoch: 91 | Cost: 0.008794110136843334\n",
      "Epoch: 92 | Cost: 0.008727150233185082\n",
      "Epoch: 93 | Cost: 0.00868040976312405\n",
      "Epoch: 94 | Cost: 0.008518028819849567\n",
      "Epoch: 95 | Cost: 0.008326658571863632\n",
      "Epoch: 96 | Cost: 0.008219508233326844\n",
      "Epoch: 97 | Cost: 0.008147315186777292\n",
      "Epoch: 98 | Cost: 0.00801456258709168\n",
      "Epoch: 99 | Cost: 0.00783668679711984\n",
      "Epoch: 100 | Cost: 0.007689848425712129\n",
      "Epoch: 101 | Cost: 0.007593327753345947\n",
      "Epoch: 102 | Cost: 0.00750020363332664\n",
      "Epoch: 103 | Cost: 0.007375042735899072\n",
      "Epoch: 104 | Cost: 0.007236121709927389\n",
      "Epoch: 105 | Cost: 0.007119761874816152\n",
      "Epoch: 106 | Cost: 0.007037433609369782\n",
      "Epoch: 107 | Cost: 0.00696912397684691\n",
      "Epoch: 108 | Cost: 0.006889926207897436\n",
      "Epoch: 109 | Cost: 0.006797299119242225\n",
      "Epoch: 110 | Cost: 0.006707238620737922\n",
      "Epoch: 111 | Cost: 0.00663481583651824\n",
      "Epoch: 112 | Cost: 0.0065786998243291565\n",
      "Epoch: 113 | Cost: 0.006527063123618166\n",
      "Epoch: 114 | Cost: 0.006470990188869783\n",
      "Epoch: 115 | Cost: 0.006408295665285358\n",
      "Epoch: 116 | Cost: 0.006341577344012577\n",
      "Epoch: 117 | Cost: 0.006274774821106416\n",
      "Epoch: 118 | Cost: 0.006212175741318596\n",
      "Epoch: 119 | Cost: 0.006155241245609023\n",
      "Epoch: 120 | Cost: 0.006102185949051285\n",
      "Epoch: 121 | Cost: 0.006050862170180512\n",
      "Epoch: 122 | Cost: 0.006000595000472613\n",
      "Epoch: 123 | Cost: 0.005951359960386565\n",
      "Epoch: 124 | Cost: 0.0059028383303432255\n",
      "Epoch: 125 | Cost: 0.005855850853801425\n",
      "Epoch: 126 | Cost: 0.0058120902583750035\n",
      "Epoch: 127 | Cost: 0.005773584797657347\n",
      "Epoch: 128 | Cost: 0.005742903467780704\n",
      "Epoch: 129 | Cost: 0.005725908916000131\n",
      "Epoch: 130 | Cost: 0.005733787971176664\n"
     ]
    }
   ],
   "source": [
    "epochs=130\n",
    "for e in range(1,epochs+1):\n",
    "    (theta1,theta2,w1,w2,_),_cost=opt.step_and_cost(cost,theta1,theta2,w1,w2,t)\n",
    "    # (theta,_),_cost=opt.step_and_cost(cost,theta,t)\n",
    "    if e==1 or e%1==0:\n",
    "        print(f'Epoch: {e} | Cost: {_cost}')"
   ]
  },
  {
   "cell_type": "code",
   "execution_count": 20,
   "metadata": {},
   "outputs": [],
   "source": [
    "# t=np.random.uniform(0,4,size=100,requires_grad=False)\n",
    "pred_train_X=np.array([classical_quantum_net(theta1,w1,t) for t in t])\n",
    "pred_train_Y=np.array([classical_quantum_net(theta2,w2,t) for t in t])"
   ]
  },
  {
   "cell_type": "code",
   "execution_count": 21,
   "metadata": {},
   "outputs": [
    {
     "data": {
      "image/png": "[encoded data removed]",
      "text/plain": [
       "<Figure size 640x480 with 1 Axes>"
      ]
     },
     "metadata": {},
     "output_type": "display_data"
    }
   ],
   "source": [
    "plt.figure()\n",
    "plt.scatter(t,X_t(t),facecolors='none', edgecolors='r', label='True - X_t')\n",
    "plt.scatter(t,pred_train_X, color='red',marker=\"x\",s=4,label='Prediction - X_t')\n",
    "plt.scatter(t,Y_t(t),facecolors='none', edgecolors='g', label='True - Y_t')\n",
    "plt.scatter(t,pred_train_Y, color='green',marker=\"x\",s=4,label='Prediction - Y_t')\n",
    "plt.xlabel('x',fontsize=16)\n",
    "plt.ylabel('f(x)',fontsize=16)\n",
    "plt.xticks(fontsize=10)\n",
    "plt.yticks(fontsize=10)\n",
    "plt.legend(loc='upper center',bbox_to_anchor=(0.5,1.18),ncol=2,fontsize=16)\n",
    "# plt.savefig('1_measurement2_train.png')\n",
    "plt.show()"
   ]
  }
 ],
 "metadata": {
  "kernelspec": {
   "display_name": "base",
   "language": "python",
   "name": "python3"
  },
  "language_info": {
   "codemirror_mode": {
    "name": "ipython",
    "version": 3
   },
   "file_extension": ".py",
   "mimetype": "text/x-python",
   "name": "python",
   "nbconvert_exporter": "python",
   "pygments_lexer": "ipython3",
   "version": "3.11.4"
  },
  "orig_nbformat": 4
 },
 "nbformat": 4,
 "nbformat_minor": 2
}
