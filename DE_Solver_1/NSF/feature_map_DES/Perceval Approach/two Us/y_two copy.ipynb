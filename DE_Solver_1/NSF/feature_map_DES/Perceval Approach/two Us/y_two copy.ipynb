{
 "cells": [
  {
   "cell_type": "code",
   "execution_count": 35,
   "metadata": {},
   "outputs": [],
   "source": [
    "# !pip install perceval-quandela"
   ]
  },
  {
   "cell_type": "code",
   "execution_count": 36,
   "metadata": {},
   "outputs": [],
   "source": [
    "import perceval as pcvl\n",
    "import numpy as np\n",
    "from math import comb\n",
    "from scipy.optimize import minimize\n",
    "import time\n",
    "import matplotlib.pyplot as plt\n",
    "import matplotlib as mpl\n",
    "import tqdm as tqdm"
   ]
  },
  {
   "cell_type": "code",
   "execution_count": 37,
   "metadata": {},
   "outputs": [],
   "source": [
    "nphotons = 4\n",
    "#"
   ]
  },
  {
   "cell_type": "code",
   "execution_count": 38,
   "metadata": {},
   "outputs": [],
   "source": [
    "# Differential equation parameters\n",
    "\n",
    "def F_E1(X_prime, X,Y_prime,Y, t):       # DE, works with numpy arrays\n",
    "    return X_prime+Y_prime+2*X+Y\n",
    "\n",
    "def F_E2(X_prime, X,Y_prime,Y, t):       # DE, works with numpy arrays\n",
    "    return Y_prime+5*X+3*Y"
   ]
  },
  {
   "cell_type": "code",
   "execution_count": 39,
   "metadata": {},
   "outputs": [],
   "source": [
    "# Boundary condition \n",
    "X_0 = 0\n",
    "Y_0 = 1\n",
    "X_0 = 2.6885377567769764\n",
    "Y_0 = -3.790585633545575"
   ]
  },
  {
   "cell_type": "code",
   "execution_count": 40,
   "metadata": {},
   "outputs": [],
   "source": [
    "# Modeling parameters\n",
    "n_grid = 50    # number of grid points of the discretized differential equation\n",
    "range_min = 0  # minimum of the interval on which we wish to approximate our function\n",
    "range_max = 1  # maximum of the interval on which we wish to approximate our function\n",
    "T = np.linspace(range_min, range_max-range_min, n_grid)  # Optimisation grid"
   ]
  },
  {
   "cell_type": "code",
   "execution_count": 41,
   "metadata": {},
   "outputs": [],
   "source": [
    "# Differential equation's exact solution - for comparison\n",
    "# def u(x):\n",
    "#     return 0.5*np.log((x+1)/(x-1))\n",
    "\n",
    "def X_t(t):\n",
    "    return X_0*np.cos(t)+(3*X_0+2*Y_0)*np.sin(t)\n",
    "\n",
    "def Y_t(t):\n",
    "    return Y_0*np.cos(t)-(3*Y_0+5*X_0)*np.sin(t)"
   ]
  },
  {
   "cell_type": "code",
   "execution_count": 42,
   "metadata": {},
   "outputs": [],
   "source": [
    "# import numpy as np\n",
    "# import matplotlib.pyplot as plt\n",
    "\n",
    "# X_0 = 0\n",
    "# Y_0 = 1\n",
    "\n",
    "# def X_t(t):\n",
    "#     return X_0 * np.cos(t) + (3 * X_0 + 2 * Y_0) * np.sin(t)\n",
    "\n",
    "# def Y_t(t):\n",
    "#     return Y_0 * np.cos(t) - (3 * Y_0 + 5 * X_0) * np.sin(t)\n",
    "\n",
    "# # Generate an array of values for t\n",
    "# t_values = np.linspace(0, 2 * np.pi, 100)\n",
    "\n",
    "# # Compute the corresponding values of X_t and Y_t\n",
    "# X_values = X_t(t_values)\n",
    "# Y_values = Y_t(t_values)\n",
    "\n",
    "# # Plot X_t and Y_t\n",
    "# plt.plot(t_values, X_values, label='X_t')\n",
    "# plt.plot(t_values, Y_values, label='Y_t')\n",
    "\n",
    "# # Add labels and a legend\n",
    "# plt.xlabel('t')\n",
    "# plt.ylabel('Function Value')\n",
    "# plt.legend()\n",
    "\n",
    "# # Show the plot\n",
    "# plt.show()\n"
   ]
  },
  {
   "cell_type": "code",
   "execution_count": 43,
   "metadata": {},
   "outputs": [],
   "source": [
    "# Parameters of the quantum machine learning procedure\n",
    "N = nphotons              # Number of photons\n",
    "m = nphotons              # Number of modes\n",
    "eta = 5                   # weight granted to the initial condition\n",
    "a = 200                   # Approximate boundaries of the interval that the image of the trial function can cover\n",
    "fock_dim = comb(N + m - 1, N)\n",
    "# lambda coefficients for all the possible outputs\n",
    "lambda_random = 2 * a * np.random.rand(fock_dim) - a\n",
    "# dx serves for the numerical differentiation of f\n",
    "dt = (range_max-range_min) / (n_grid - 1)"
   ]
  },
  {
   "cell_type": "code",
   "execution_count": 44,
   "metadata": {},
   "outputs": [
    {
     "name": "stdout",
     "output_type": "stream",
     "text": [
      "|1,1,1,1>\n"
     ]
    }
   ],
   "source": [
    "# Input state with N photons and m modes\n",
    "input_state = pcvl.BasicState([1]*N+[0]*(m-N))\n",
    "print(input_state)"
   ]
  },
  {
   "cell_type": "code",
   "execution_count": 45,
   "metadata": {},
   "outputs": [
    {
     "data": {
      "image/svg+xml": [
       "<?xml version=\"1.0\" encoding=\"UTF-8\"?>\n",
       "<svg xmlns=\"http://www.w3.org/2000/svg\" xmlns:xlink=\"http://www.w3.org/1999/xlink\"\n",
       "     width=\"695.0\" height=\"281.25\" viewBox=\"-28.0 0 556.0 225.0\">\n",
       "<defs>\n",
       "</defs>\n",
       "<path d=\"M10,25 L25,25\" stroke-width=\"3\" stroke=\"darkred\" stroke-linejoin=\"miter\" fill=\"none\" />\n",
       "<path d=\"M10,75 L25,75\" stroke-width=\"3\" stroke=\"darkred\" stroke-linejoin=\"miter\" fill=\"none\" />\n",
       "<path d=\"M10,125 L25,125\" stroke-width=\"3\" stroke=\"darkred\" stroke-linejoin=\"miter\" fill=\"none\" />\n",
       "<path d=\"M10,175 L25,175\" stroke-width=\"3\" stroke=\"darkred\" stroke-linejoin=\"miter\" fill=\"none\" />\n",
       "<path d=\"M25,25 L225,25\" stroke-width=\"3\" stroke=\"darkred\" stroke-linejoin=\"miter\" fill=\"none\" />\n",
       "<path d=\"M25,75 L225,75\" stroke-width=\"3\" stroke=\"darkred\" stroke-linejoin=\"miter\" fill=\"none\" />\n",
       "<path d=\"M25,125 L225,125\" stroke-width=\"3\" stroke=\"darkred\" stroke-linejoin=\"miter\" fill=\"none\" />\n",
       "<path d=\"M25,175 L225,175\" stroke-width=\"3\" stroke=\"darkred\" stroke-linejoin=\"miter\" fill=\"none\" />\n",
       "<path d=\"M30,5 L220,5 L220,195 L30,195 Z\" stroke=\"black\" fill=\"gold\" stroke-linejoin=\"miter\" />\n",
       "<text x=\"125\" y=\"100\" font-size=\"10\" text-anchor=\"middle\">W1</text>\n",
       "<path d=\"M225,25 L275,25\" stroke=\"darkred\" stroke-width=\"3\" fill=\"none\" />\n",
       "<path d=\"M230,40 L239,40 L253,10 L244,10 L230,40 L239,40 Z\" stroke=\"black\" fill=\"gray\" stroke-linejoin=\"miter\" />\n",
       "<text x=\"247\" y=\"38\" font-size=\"7\" text-anchor=\"start\">Φ=t</text>\n",
       "<path d=\"M225,75 L275,75\" stroke=\"darkred\" stroke-width=\"3\" fill=\"none\" />\n",
       "<path d=\"M225,125 L275,125\" stroke=\"darkred\" stroke-width=\"3\" fill=\"none\" />\n",
       "<path d=\"M225,175 L275,175\" stroke=\"darkred\" stroke-width=\"3\" fill=\"none\" />\n",
       "<path d=\"M275,25 L475,25\" stroke-width=\"3\" stroke=\"darkred\" stroke-linejoin=\"miter\" fill=\"none\" />\n",
       "<path d=\"M275,75 L475,75\" stroke-width=\"3\" stroke=\"darkred\" stroke-linejoin=\"miter\" fill=\"none\" />\n",
       "<path d=\"M275,125 L475,125\" stroke-width=\"3\" stroke=\"darkred\" stroke-linejoin=\"miter\" fill=\"none\" />\n",
       "<path d=\"M275,175 L475,175\" stroke-width=\"3\" stroke=\"darkred\" stroke-linejoin=\"miter\" fill=\"none\" />\n",
       "<path d=\"M280,5 L470,5 L470,195 L280,195 Z\" stroke=\"black\" fill=\"gold\" stroke-linejoin=\"miter\" />\n",
       "<text x=\"375\" y=\"100\" font-size=\"10\" text-anchor=\"middle\">W2</text>\n",
       "<path d=\"M475,25 L490,25\" stroke-width=\"3\" stroke=\"darkred\" stroke-linejoin=\"miter\" fill=\"none\" />\n",
       "<path d=\"M475,75 L490,75\" stroke-width=\"3\" stroke=\"darkred\" stroke-linejoin=\"miter\" fill=\"none\" />\n",
       "<path d=\"M475,125 L490,125\" stroke-width=\"3\" stroke=\"darkred\" stroke-linejoin=\"miter\" fill=\"none\" />\n",
       "<path d=\"M475,175 L490,175\" stroke-width=\"3\" stroke=\"darkred\" stroke-linejoin=\"miter\" fill=\"none\" />\n",
       "<text x=\"500\" y=\"28\" font-size=\"6\" text-anchor=\"end\">0</text>\n",
       "<text x=\"500\" y=\"78\" font-size=\"6\" text-anchor=\"end\">1</text>\n",
       "<text x=\"500\" y=\"128\" font-size=\"6\" text-anchor=\"end\">2</text>\n",
       "<text x=\"500\" y=\"178\" font-size=\"6\" text-anchor=\"end\">3</text>\n",
       "<text x=\"0\" y=\"28\" font-size=\"6\" text-anchor=\"start\">0</text>\n",
       "<text x=\"0\" y=\"78\" font-size=\"6\" text-anchor=\"start\">1</text>\n",
       "<text x=\"0\" y=\"128\" font-size=\"6\" text-anchor=\"start\">2</text>\n",
       "<text x=\"0\" y=\"178\" font-size=\"6\" text-anchor=\"start\">3</text>\n",
       "</svg>"
      ],
      "text/plain": [
       "<drawsvg.drawing.Drawing at 0x239de739b70>"
      ]
     },
     "execution_count": 45,
     "metadata": {},
     "output_type": "execute_result"
    }
   ],
   "source": [
    "\"Haar unitary parameters\"\n",
    "# number of parameters used for the two universal interferometers (2*m**2 per interferometer)\n",
    "parameters = np.random.normal(size=2*4*m**2)\n",
    "params_E1 = parameters[:4*m**2]\n",
    "params_E2 = parameters[4*m**2:]\n",
    "# parameters_E1 = np.random.normal(size=4*m**2)\n",
    "# parameters_E2 = np.random.normal(size=4*m**2)\n",
    "\n",
    "\n",
    "pt_t = pcvl.P(\"t\")\n",
    "\n",
    "\n",
    "c_E1 = pcvl.Unitary(pcvl.Matrix.random_unitary(m, params_E1[:2 * m ** 2]), name=\"W1\")\\\n",
    "     // (0, pcvl.PS(pt_t))\\\n",
    "     // pcvl.Unitary(pcvl.Matrix.random_unitary(m, params_E1[2 * m ** 2:]), name=\"W2\")\n",
    "\n",
    "\n",
    "c_E2 = pcvl.Unitary(pcvl.Matrix.random_unitary(m, params_E2[:2 * m ** 2]), name=\"W1\")\\\n",
    "     // (0, pcvl.PS(pt_t))\\\n",
    "     // pcvl.Unitary(pcvl.Matrix.random_unitary(m, params_E2[2 * m ** 2:]), name=\"W2\")\n",
    "\n",
    "simulator_backend_1 = pcvl.BackendFactory().get_backend(\"SLOS\")\n",
    "s1 = simulator_backend_1(pcvl.Matrix.random_unitary(m))\n",
    "s1.compile(input_state)\n",
    "\n",
    "simulator_backend_2 = pcvl.BackendFactory().get_backend(\"SLOS\")\n",
    "s2 = simulator_backend_2(pcvl.Matrix.random_unitary(m))\n",
    "s2.compile(input_state)\n",
    "\n",
    "pcvl.pdisplay(c_E1)"
   ]
  },
  {
   "cell_type": "code",
   "execution_count": 46,
   "metadata": {},
   "outputs": [],
   "source": [
    "def computation(params):\n",
    "    global current_loss\n",
    "    global computation_count\n",
    "    \"compute the loss function of a given differential equation in order for it to be optimized\"\n",
    "    computation_count += 1\n",
    "\n",
    "\n",
    "    #params seperation\n",
    "    params_E1 = params[:4*m**2]\n",
    "    params_E2 = params[4*m**2:]\n",
    "\n",
    "\n",
    "\n",
    "    # boundary condition X_0\n",
    "    X_theta_0 = 0  \n",
    "    coefs = lambda_random  # coefficients of the M observable\n",
    "    # initial condition with the two universal interferometers and the phase shift in the middle\n",
    "    U_1 = pcvl.Matrix.random_unitary(m, params_E1[:2 * m ** 2])\n",
    "    U_2 = pcvl.Matrix.random_unitary(m, params_E1[2 * m ** 2:])\n",
    "\n",
    "    pt = pcvl.P(\"t\")\n",
    "    c_E1 = pcvl.Unitary(U_2) // (0, pcvl.PS(pt)) // pcvl.Unitary(U_1)\n",
    "\n",
    "    pt.set_value(np.pi * X_0)\n",
    "    U = c_E1.compute_unitary(use_symbolic=False)\n",
    "    s1.U = U\n",
    "    X_theta_0 = np.sum(np.multiply(s1.all_prob(input_state), coefs))\n",
    "\n",
    "    # boundary condition Y_0\n",
    "    Y_theta_0 = 0  \n",
    "    coefs = lambda_random  # coefficients of the M observable\n",
    "    # initial condition with the two universal interferometers and the phase shift in the middle\n",
    "    U_1 = pcvl.Matrix.random_unitary(m, params_E2[:2 * m ** 2])\n",
    "    U_2 = pcvl.Matrix.random_unitary(m, params_E2[2 * m ** 2:])\n",
    "\n",
    "    # pt = pcvl.P(\"t\")\n",
    "    c_E2 = pcvl.Unitary(U_2) // (0, pcvl.PS(pt)) // pcvl.Unitary(U_1)\n",
    "\n",
    "    pt.set_value(np.pi * Y_0)\n",
    "    U = c_E2.compute_unitary(use_symbolic=False)\n",
    "    s2.U = U\n",
    "    Y_theta_0 = np.sum(np.multiply(s2.all_prob(input_state), coefs))\n",
    "\n",
    "\n",
    "\n",
    "    # boundary condition given a weight eta\n",
    "    loss = eta * (X_theta_0 - X_0) ** 2 * len(T)\n",
    "    loss += eta * (Y_theta_0 - Y_0) ** 2 * len(T)\n",
    "    # loss=0\n",
    "\n",
    "    # X[0] is before the domain we are interested in (used for differentiation), t0 is at X[1]\n",
    "    X = np.zeros(n_grid + 2)\n",
    "\n",
    "    # Y[0] is before the domain we are interested in (used for differentiation), t0 is at Y[1]\n",
    "    Y = np.zeros(n_grid + 2)\n",
    "\n",
    "    # t0 is at the beginning of the domain, already calculated\n",
    "    X[1] = X_theta_0\n",
    "    Y[1] = Y_theta_0\n",
    "\n",
    "\n",
    "    pt.set_value(np.pi * (range_min - dt))\n",
    "    s1.U = c_E1.compute_unitary(use_symbolic=False)\n",
    "    X[0] = np.sum(np.multiply(s1.all_prob(input_state), coefs))\n",
    "\n",
    "    s2.U = c_E2.compute_unitary(use_symbolic=False)\n",
    "    Y[0] = np.sum(np.multiply(s2.all_prob(input_state), coefs))\n",
    "\n",
    "    for i in range(1, n_grid):\n",
    "        t = T[i]\n",
    "        pt.set_value(np.pi * t)\n",
    "        s1.U = c_E1.compute_unitary(use_symbolic=False)\n",
    "        X[i + 1] = np.sum(np.multiply(s1.all_prob(input_state), coefs))\n",
    "        s2.U = c_E2.compute_unitary(use_symbolic=False)\n",
    "        Y[i + 1] = np.sum(np.multiply(s2.all_prob(input_state), coefs))\n",
    "\n",
    "    pt.set_value(np.pi * (range_max + dt))\n",
    "    s1.U = c_E1.compute_unitary(use_symbolic=False)\n",
    "    X[n_grid + 1] = np.sum(np.multiply(s1.all_prob(input_state), coefs))\n",
    "    s2.U = c_E2.compute_unitary(use_symbolic=False)\n",
    "    Y[n_grid + 1] = np.sum(np.multiply(s2.all_prob(input_state), coefs))\n",
    "\n",
    "\n",
    "    # Differentiation\n",
    "    X_prime = (X[2:] - X[:-2])/(2*dt)\n",
    "    Y_prime = (Y[2:] - Y[:-2])/(2*dt)\n",
    "\n",
    "    loss += np.sum((F_E1(X_prime, X[1:-1],Y_prime,Y[1:-1], T))**2)\n",
    "    loss += np.sum((F_E2(X_prime, X[1:-1],Y_prime,Y[1:-1], T))**2)\n",
    "\n",
    "\n",
    "    current_loss = loss / (2*len(T))\n",
    "\n",
    "    return current_loss"
   ]
  },
  {
   "cell_type": "code",
   "execution_count": 47,
   "metadata": {},
   "outputs": [],
   "source": [
    "def callbackF(parameters):\n",
    "    \"\"\"callback function called by scipy.optimize.minimize allowing to monitor progress\"\"\"\n",
    "    global current_loss\n",
    "    global computation_count\n",
    "    global loss_evolution\n",
    "    global start_time\n",
    "    global best_param_temp\n",
    "    \n",
    "    best_param_temp = parameters\n",
    "    now = time.time()\n",
    "    pbar.set_description(\"M= %d Loss: %0.5f #computations: %d elapsed: %0.5f\" %\n",
    "                         (m, current_loss, computation_count, now-start_time))\n",
    "    pbar.update(1)\n",
    "    loss_evolution.append((current_loss, now-start_time))\n",
    "    computation_count = 0\n",
    "    start_time = now\n",
    "    # np.save(file=str(np.random.random())+'('+str(nphotons)+')'+'_params1.ipy',arr=parameters)"
   ]
  },
  {
   "cell_type": "code",
   "execution_count": 48,
   "metadata": {},
   "outputs": [
    {
     "name": "stderr",
     "output_type": "stream",
     "text": [
      "M= 4 Loss: 4904.84721 #computations: 387 elapsed: 16.64726: : 1it [00:21, 21.62s/it]\n",
      "M= 4 Loss: 0.21473 #computations: 129 elapsed: 6.01045: : 165it [50:01, 11.05s/it]   "
     ]
    }
   ],
   "source": [
    "computation_count = 0\n",
    "current_loss = 0\n",
    "start_time = time.time()\n",
    "loss_evolution = []\n",
    "best_param_temp = None\n",
    "\n",
    "pbar = tqdm.tqdm()\n",
    "res = minimize(computation, parameters, callback=callbackF, method='BFGS', options={'gtol': 1E-2})"
   ]
  },
  {
   "cell_type": "code",
   "execution_count": 49,
   "metadata": {},
   "outputs": [],
   "source": [
    "# print(\"Unitary parameters\", best_param_temp)\n",
    "# np.save(file=str(np.random.random())+'('+str(nphotons)+')'+'_params1.ipy',arr=best_param_temp)"
   ]
  },
  {
   "cell_type": "code",
   "execution_count": 50,
   "metadata": {},
   "outputs": [
    {
     "name": "stdout",
     "output_type": "stream",
     "text": [
      "Unitary parameters [ 0.42307233 -1.11520611 -0.23148437 -1.30230515 -1.04308763 -0.70238878\n",
      " -0.59623186  0.68371068  1.33146849 -1.58454244  0.43345966 -0.24820028\n",
      "  0.3585739   0.87434791  1.16756578 -0.49083041  0.9360027   0.39130096\n",
      "  0.55348143 -0.70771123  0.30343972 -1.13214591 -1.84843905 -2.10166627\n",
      "  0.30065875 -0.26227374  0.19571877 -0.55343972  0.93100611 -1.36402985\n",
      " -1.75724767 -0.06506173  0.45909017  1.03580197  1.05375828  0.20045768\n",
      "  0.9913636   0.21326819 -1.08867544  0.08498252 -2.75100716 -2.15888428\n",
      "  0.41746066 -0.81311885 -1.06149536 -0.48549551 -1.90556963  0.7199379\n",
      "  1.63334158  0.58383066 -0.1450825   1.1904079   0.50558932 -0.33881195\n",
      " -2.08383696 -0.1685246  -1.49413361  0.71456885 -0.67809679 -2.16081514\n",
      " -0.25428113  1.07462053 -1.72807444 -0.5031998  -0.87250326 -2.20938237\n",
      "  0.26050352 -0.96329089 -0.61849742 -0.20212809  0.36052621  2.83185174\n",
      " -1.89732738 -0.66633262  1.01588313 -2.94319566  0.29341716  0.24166818\n",
      " -0.76169926 -0.54241047  0.49867055 -1.87194406  1.12750229 -0.2741777\n",
      "  1.24694334 -0.35220966  0.07444975 -0.97091593 -1.37695763 -3.20918515\n",
      "  0.17269497  1.30392033  1.00669799 -0.51923157 -0.70864633  1.92343773\n",
      " -0.90279335 -0.27389476 -1.36548621 -0.29461456 -1.39489941  0.59926686\n",
      " -0.61551061 -0.20893814 -0.34408861  2.00578889 -1.39575495 -1.15911553\n",
      " -0.13882754  1.71225293 -0.09817511  0.01721486 -0.23672245 -0.62620305\n",
      " -1.33685415 -0.50493859 -0.4246256  -0.7343526  -0.01328973  1.39679391\n",
      "  2.46437645  0.06695597 -0.200908   -0.48596131  0.47567828  1.5284815\n",
      "  0.46847339 -0.61083159]\n"
     ]
    }
   ],
   "source": [
    "print(\"Unitary parameters\", res.x)\n",
    "np.save(file=str(np.random.random())+'('+str(nphotons)+')'+'_params1.ipy',arr=res.x)\n"
   ]
  },
  {
   "cell_type": "code",
   "execution_count": 51,
   "metadata": {},
   "outputs": [],
   "source": [
    "def plot_solution(m, N, T, optim_params, lambda_random):\n",
    "    # print(res.x)\n",
    "    X = []\n",
    "    Y = []\n",
    "    opt_params_E1 = optim_params[:4*m**2]\n",
    "    opt_params_E2 = optim_params[4*m**2:]\n",
    "\n",
    "    pt = pcvl.P(\"t\")\n",
    "\n",
    "    U_1_x = pcvl.Matrix.random_unitary(m, opt_params_E1[:2 * m ** 2])\n",
    "    U_2_x = pcvl.Matrix.random_unitary(m, opt_params_E1[2 * m ** 2:])\n",
    "    c_E1 = pcvl.Unitary(U_2_x) // (0, pcvl.PS(pt)) // pcvl.Unitary(U_1_x)\n",
    "\n",
    "\n",
    "    U_1_y = pcvl.Matrix.random_unitary(m, opt_params_E2[:2 * m ** 2])\n",
    "    U_2_y = pcvl.Matrix.random_unitary(m, opt_params_E2[2 * m ** 2:])\n",
    "    c_E2 = pcvl.Unitary(U_2_y) // (0, pcvl.PS(pt)) // pcvl.Unitary(U_1_y)\n",
    "\n",
    "    for t in T:\n",
    "        pt.set_value(np.pi * t)\n",
    "\n",
    "        U_x = c_E1.compute_unitary(use_symbolic=False)\n",
    "        s1.U = U_x\n",
    "        X_theta = np.sum(np.multiply(s1.all_prob(input_state), lambda_random))\n",
    "        X.append(X_theta)\n",
    "        \n",
    "        U_y = c_E2.compute_unitary(use_symbolic=False)\n",
    "        s2.U = U_y\n",
    "        Y_theta = np.sum(np.multiply(s2.all_prob(input_state), lambda_random))\n",
    "        Y.append(Y_theta)\n",
    "\n",
    "        if t==0:\n",
    "            print(t)\n",
    "            print(X_theta)\n",
    "            print(Y_theta)\n",
    "        \n",
    "    plt.plot(T, np.array(X), label=\"Approximation X_t with {} photons\".format(N))\n",
    "    plt.plot(T, np.array(Y), label=\"Approximation Y_t with {} photons\".format(N))\n",
    "    "
   ]
  },
  {
   "cell_type": "code",
   "execution_count": 52,
   "metadata": {},
   "outputs": [
    {
     "name": "stdout",
     "output_type": "stream",
     "text": [
      "0.0\n",
      "2.5126018096854628\n",
      "-3.7659948496608084\n"
     ]
    },
    {
     "data": {
      "image/png": "[encoded data removed]",
      "text/plain": [
       "<Figure size 640x480 with 1 Axes>"
      ]
     },
     "metadata": {},
     "output_type": "display_data"
    }
   ],
   "source": [
    "# Generate an array of values for t\n",
    "T = np.linspace(range_min, range_max, 50)\n",
    "\n",
    "# Compute the corresponding values of X_t and Y_t\n",
    "X_values = X_t(T)\n",
    "Y_values = Y_t(T)\n",
    "\n",
    "# Plot X_t and Y_t\n",
    "plt.plot(T, X_values, label='X_t')\n",
    "plt.plot(T, Y_values, label='Y_t')\n",
    "\n",
    "\n",
    "# plot_solution(m, N, T, res.x, lambda_random)\n",
    "plot_solution(m, N, T, res.x, lambda_random)\n",
    "\n",
    "\n",
    "# Add labels and a legend\n",
    "plt.xlabel('t')\n",
    "plt.ylabel('Function Value')\n",
    "plt.legend()\n",
    "\n",
    "# Show the plot\n",
    "plt.show()"
   ]
  },
  {
   "cell_type": "code",
   "execution_count": 53,
   "metadata": {},
   "outputs": [],
   "source": [
    "# X = np.linspace(range_min, range_max, 200)\n",
    "\n",
    "# # Change the plot size\n",
    "# default_figsize = mpl.rcParamsDefault['figure.figsize']\n",
    "# mpl.rcParams['figure.figsize'] = [2 * value for value in default_figsize]\n",
    "\n",
    "# plot_solution(m, N, X, res.x, lambda_random)\n",
    "\n",
    "# plt.plot(X, u(X), 'r', label='Analytical solution')\n",
    "# plt.legend()\n",
    "# plt.show()"
   ]
  },
  {
   "cell_type": "code",
   "execution_count": 54,
   "metadata": {},
   "outputs": [
    {
     "data": {
      "text/plain": [
       "Text(0, 0.5, 'Loss function value')"
      ]
     },
     "execution_count": 54,
     "metadata": {},
     "output_type": "execute_result"
    },
    {
     "data": {
      "image/png": "[encoded data removed]",
      "text/plain": [
       "<Figure size 640x480 with 1 Axes>"
      ]
     },
     "metadata": {},
     "output_type": "display_data"
    }
   ],
   "source": [
    "\n",
    "plt.plot([v[0] for v in loss_evolution])\n",
    "plt.yscale(\"log\")\n",
    "plt.xlabel(\"Number of epochs\")\n",
    "plt.ylabel(\"Loss function value\")"
   ]
  }
 ],
 "metadata": {
  "kernelspec": {
   "display_name": "Python 3",
   "language": "python",
   "name": "python3"
  },
  "language_info": {
   "codemirror_mode": {
    "name": "ipython",
    "version": 3
   },
   "file_extension": ".py",
   "mimetype": "text/x-python",
   "name": "python",
   "nbconvert_exporter": "python",
   "pygments_lexer": "ipython3",
   "version": "3.10.9"
  },
  "orig_nbformat": 4
 },
 "nbformat": 4,
 "nbformat_minor": 2
}
