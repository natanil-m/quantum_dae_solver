{
 "cells": [
  {
   "cell_type": "code",
   "execution_count": 130,
   "metadata": {},
   "outputs": [],
   "source": [
    "from math import pi\n",
    "import matplotlib.pyplot as plt\n",
    "from pennylane import numpy as np\n",
    "import pennylane as qml\n",
    "from pennylane.optimize import AdamOptimizer\n",
    "import datetime\n",
    "now=datetime.datetime.now"
   ]
  },
  {
   "cell_type": "code",
   "execution_count": 131,
   "metadata": {},
   "outputs": [],
   "source": [
    "num_qubits=1\n",
    "dev=qml.device('default.qubit', wires=num_qubits)\n",
    "seed = 40\n",
    "np.random.seed(seed)"
   ]
  },
  {
   "cell_type": "code",
   "execution_count": 132,
   "metadata": {},
   "outputs": [],
   "source": [
    "# t=np.random.uniform(0,1,size=50,requires_grad=False)\n",
    "t = [0.0, 0.02040816326530612, 0.04081632653061224, 0.061224489795918366, 0.08163265306122448, 0.10204081632653061, 0.12244897959183673, 0.14285714285714285, 0.16326530612244897, 0.1836734693877551, 0.20408163265306123, 0.22448979591836735, 0.24489795918367346, 0.2653061224489796, 0.2857142857142857, 0.30612244897959184, 0.32653061224489793, 0.3469387755102041, 0.3673469387755102, 0.3877551020408163, 0.40816326530612246, 0.42857142857142855, 0.4489795918367347, 0.46938775510204084, 0.4897959183673469, 0.5102040816326531, 0.5306122448979592, 0.5510204081632653, 0.5714285714285714, 0.5918367346938775, 0.6122448979591837, 0.6326530612244898, 0.6530612244897959, 0.673469387755102, 0.6938775510204082, 0.7142857142857143, 0.7346938775510204, 0.7551020408163265, 0.7755102040816326, 0.7959183673469388, 0.8163265306122449, 0.8367346938775511, 0.8571428571428571, 0.8775510204081632, 0.8979591836734694, 0.9183673469387755, 0.9387755102040817, 0.9591836734693877, 0.9795918367346939, 1.0]\n",
    "d_t = (t[1]-t[0])"
   ]
  },
  {
   "cell_type": "code",
   "execution_count": 133,
   "metadata": {},
   "outputs": [],
   "source": [
    "@qml.qnode(dev, diff_method=\"backprop\", interface=\"autograd\")\n",
    "def hepler(encoded_x):\n",
    "    qml.QubitStateVector(encoded_x,wires=[0])\n",
    "    qml.RY(wires=0,phi=np.pi/2)\n",
    "    return qml.probs(wires=[0])"
   ]
  },
  {
   "cell_type": "code",
   "execution_count": 134,
   "metadata": {},
   "outputs": [],
   "source": [
    "def encoder(x):\n",
    "    vector_x = [1,x]\n",
    "    norm_x = np.linalg.norm(vector_x)\n",
    "    return vector_x/norm_x , norm_x"
   ]
  },
  {
   "cell_type": "code",
   "execution_count": 135,
   "metadata": {},
   "outputs": [],
   "source": [
    "def f(x):\n",
    "    encoded_x,norm_x = encoder(x)\n",
    "    print(qml.draw(hepler)(encoded_x))\n",
    "    f_val = hepler(encoded_x)\n",
    "    return f_val[1]*norm_x"
   ]
  },
  {
   "cell_type": "code",
   "execution_count": 136,
   "metadata": {},
   "outputs": [
    {
     "name": "stdout",
     "output_type": "stream",
     "text": [
      "0: ──QubitStateVector(M0)──RY(1.57)─┤  Probs\n",
      "M0 = \n",
      "[ 0.50702013 -0.86193422]\n"
     ]
    },
    {
     "data": {
      "text/plain": [
       "tensor(0.06298201, requires_grad=True)"
      ]
     },
     "execution_count": 136,
     "metadata": {},
     "output_type": "execute_result"
    }
   ],
   "source": [
    "f(-1.7)"
   ]
  },
  {
   "cell_type": "code",
   "execution_count": 137,
   "metadata": {},
   "outputs": [
    {
     "ename": "TypeError",
     "evalue": "hepler() missing 1 required positional argument: 'encoded_x'",
     "output_type": "error",
     "traceback": [
      "\u001b[1;31m---------------------------------------------------------------------------\u001b[0m",
      "\u001b[1;31mTypeError\u001b[0m                                 Traceback (most recent call last)",
      "\u001b[1;32mc:\\Git repo\\DE_Solver_PowerSeriers\\New_single_machine_0_1_best.ipynb Cell 8\u001b[0m line \u001b[0;36m4\n\u001b[0;32m      <a href='vscode-notebook-cell:/c%3A/Git%20repo/DE_Solver_PowerSeriers/New_single_machine_0_1_best.ipynb#X14sZmlsZQ%3D%3D?line=0'>1</a>\u001b[0m theta\u001b[39m=\u001b[39mnp\u001b[39m.\u001b[39mrandom\u001b[39m.\u001b[39muniform(\u001b[39m0\u001b[39m,\u001b[39m4\u001b[39m\u001b[39m*\u001b[39mpi,size\u001b[39m=\u001b[39m(\u001b[39m1\u001b[39m),requires_grad\u001b[39m=\u001b[39m\u001b[39mTrue\u001b[39;00m)\n\u001b[0;32m      <a href='vscode-notebook-cell:/c%3A/Git%20repo/DE_Solver_PowerSeriers/New_single_machine_0_1_best.ipynb#X14sZmlsZQ%3D%3D?line=1'>2</a>\u001b[0m \u001b[39m# theta=np.random.uniform(0,4*pi,size=(num_layers,num_qubits-1),requires_grad=True)\u001b[39;00m\n\u001b[1;32m----> <a href='vscode-notebook-cell:/c%3A/Git%20repo/DE_Solver_PowerSeriers/New_single_machine_0_1_best.ipynb#X14sZmlsZQ%3D%3D?line=3'>4</a>\u001b[0m \u001b[39mprint\u001b[39m(qml\u001b[39m.\u001b[39;49mdraw(hepler)())\n",
      "File \u001b[1;32mc:\\Users\\acade\\anaconda3\\envs\\q1\\Lib\\site-packages\\pennylane\\drawer\\draw.py:247\u001b[0m, in \u001b[0;36m_draw_qnode.<locals>.wrapper\u001b[1;34m(*args, **kwargs)\u001b[0m\n\u001b[0;32m    245\u001b[0m \u001b[39mtry\u001b[39;00m:\n\u001b[0;32m    246\u001b[0m     qnode\u001b[39m.\u001b[39mexpansion_strategy \u001b[39m=\u001b[39m expansion_strategy \u001b[39mor\u001b[39;00m original_expansion_strategy\n\u001b[1;32m--> 247\u001b[0m     tapes \u001b[39m=\u001b[39m qnode\u001b[39m.\u001b[39;49mconstruct(args, kwargs)\n\u001b[0;32m    248\u001b[0m \u001b[39mfinally\u001b[39;00m:\n\u001b[0;32m    249\u001b[0m     qnode\u001b[39m.\u001b[39mexpansion_strategy \u001b[39m=\u001b[39m original_expansion_strategy\n",
      "File \u001b[1;32mc:\\Users\\acade\\anaconda3\\envs\\q1\\Lib\\site-packages\\pennylane\\qnode.py:827\u001b[0m, in \u001b[0;36mQNode.construct\u001b[1;34m(self, args, kwargs)\u001b[0m\n\u001b[0;32m    824\u001b[0m \u001b[39mif\u001b[39;00m old_interface \u001b[39m==\u001b[39m \u001b[39m\"\u001b[39m\u001b[39mauto\u001b[39m\u001b[39m\"\u001b[39m:\n\u001b[0;32m    825\u001b[0m     \u001b[39mself\u001b[39m\u001b[39m.\u001b[39minterface \u001b[39m=\u001b[39m qml\u001b[39m.\u001b[39mmath\u001b[39m.\u001b[39mget_interface(\u001b[39m*\u001b[39margs, \u001b[39m*\u001b[39m\u001b[39mlist\u001b[39m(kwargs\u001b[39m.\u001b[39mvalues()))\n\u001b[1;32m--> 827\u001b[0m \u001b[39mself\u001b[39m\u001b[39m.\u001b[39m_tape \u001b[39m=\u001b[39m make_qscript(\u001b[39mself\u001b[39;49m\u001b[39m.\u001b[39;49mfunc, shots)(\u001b[39m*\u001b[39;49margs, \u001b[39m*\u001b[39;49m\u001b[39m*\u001b[39;49mkwargs)\n\u001b[0;32m    828\u001b[0m \u001b[39mself\u001b[39m\u001b[39m.\u001b[39m_qfunc_output \u001b[39m=\u001b[39m \u001b[39mself\u001b[39m\u001b[39m.\u001b[39mtape\u001b[39m.\u001b[39m_qfunc_output\n\u001b[0;32m    830\u001b[0m params \u001b[39m=\u001b[39m \u001b[39mself\u001b[39m\u001b[39m.\u001b[39mtape\u001b[39m.\u001b[39mget_parameters(trainable_only\u001b[39m=\u001b[39m\u001b[39mFalse\u001b[39;00m)\n",
      "File \u001b[1;32mc:\\Users\\acade\\anaconda3\\envs\\q1\\Lib\\site-packages\\pennylane\\tape\\qscript.py:1482\u001b[0m, in \u001b[0;36mmake_qscript.<locals>.wrapper\u001b[1;34m(*args, **kwargs)\u001b[0m\n\u001b[0;32m   1480\u001b[0m \u001b[39mdef\u001b[39;00m \u001b[39mwrapper\u001b[39m(\u001b[39m*\u001b[39margs, \u001b[39m*\u001b[39m\u001b[39m*\u001b[39mkwargs):\n\u001b[0;32m   1481\u001b[0m     \u001b[39mwith\u001b[39;00m AnnotatedQueue() \u001b[39mas\u001b[39;00m q:\n\u001b[1;32m-> 1482\u001b[0m         result \u001b[39m=\u001b[39m fn(\u001b[39m*\u001b[39;49margs, \u001b[39m*\u001b[39;49m\u001b[39m*\u001b[39;49mkwargs)\n\u001b[0;32m   1484\u001b[0m     qscript \u001b[39m=\u001b[39m QuantumScript\u001b[39m.\u001b[39mfrom_queue(q, shots)\n\u001b[0;32m   1485\u001b[0m     qscript\u001b[39m.\u001b[39m_qfunc_output \u001b[39m=\u001b[39m result\n",
      "\u001b[1;31mTypeError\u001b[0m: hepler() missing 1 required positional argument: 'encoded_x'"
     ]
    }
   ],
   "source": [
    "theta=np.random.uniform(0,4*pi,size=(1),requires_grad=True)\n",
    "# theta=np.random.uniform(0,4*pi,size=(num_layers,num_qubits-1),requires_grad=True)\n",
    "\n",
    "print(qml.draw(hepler)())"
   ]
  },
  {
   "cell_type": "code",
   "execution_count": null,
   "metadata": {},
   "outputs": [],
   "source": [
    "def cost(params):\n",
    "    return 0"
   ]
  },
  {
   "cell_type": "code",
   "execution_count": null,
   "metadata": {},
   "outputs": [],
   "source": [
    "w1=np.zeros(3,requires_grad=True)\n",
    "# w2=np.zeros(3,requires_grad=True)\n",
    "opt = AdamOptimizer(0.05, beta1=0.9, beta2=0.999)"
   ]
  },
  {
   "cell_type": "code",
   "execution_count": null,
   "metadata": {},
   "outputs": [
    {
     "name": "stdout",
     "output_type": "stream",
     "text": [
      "2023-09-04 16:01:16.787015\n"
     ]
    }
   ],
   "source": [
    "start=now()\n",
    "print(start)"
   ]
  },
  {
   "cell_type": "code",
   "execution_count": null,
   "metadata": {},
   "outputs": [],
   "source": []
  },
  {
   "cell_type": "code",
   "execution_count": null,
   "metadata": {},
   "outputs": [
    {
     "name": "stdout",
     "output_type": "stream",
     "text": [
      "Epoch: 1 | Cost: 2.7399999999999705\n",
      "Epoch: 2 | Cost: 9.66965177061274\n",
      "Epoch: 3 | Cost: 43.79845422336964\n",
      "Epoch: 4 | Cost: 43.08801277309183\n",
      "Epoch: 5 | Cost: 26.154004963993085\n",
      "Epoch: 6 | Cost: 13.919756603510889\n",
      "Epoch: 7 | Cost: 8.344972068094696\n",
      "Epoch: 8 | Cost: 6.172558789793954\n",
      "Epoch: 9 | Cost: 5.117754365282106\n",
      "Epoch: 10 | Cost: 4.316012677067381\n",
      "Epoch: 11 | Cost: 3.9139562895800952\n",
      "Epoch: 12 | Cost: 4.485655719363303\n",
      "Epoch: 13 | Cost: 5.89501705747904\n",
      "Epoch: 14 | Cost: 6.776956259019285\n",
      "Epoch: 15 | Cost: 6.006165727587614\n",
      "Epoch: 16 | Cost: 4.541929042368989\n",
      "Epoch: 17 | Cost: 4.714241793732349\n",
      "Epoch: 18 | Cost: 7.616792029059509\n",
      "Epoch: 19 | Cost: 11.45426449441656\n",
      "Epoch: 20 | Cost: 13.33456586145553\n",
      "Epoch: 21 | Cost: 12.299852801017542\n",
      "Epoch: 22 | Cost: 9.61557411577489\n",
      "Epoch: 23 | Cost: 7.211088348449419\n",
      "Epoch: 24 | Cost: 6.060510021674551\n",
      "Epoch: 25 | Cost: 6.0827195011679285\n",
      "Epoch: 26 | Cost: 7.305247622396032\n",
      "Epoch: 27 | Cost: 10.043902643757123\n",
      "Epoch: 28 | Cost: 13.92683437669929\n",
      "Epoch: 29 | Cost: 17.507237239990843\n",
      "Epoch: 30 | Cost: 19.236968399836293\n",
      "Epoch: 31 | Cost: 18.633298072722894\n",
      "Epoch: 32 | Cost: 16.470735636385122\n",
      "Epoch: 33 | Cost: 14.086998387906753\n",
      "Epoch: 34 | Cost: 12.522535369391077\n",
      "Epoch: 35 | Cost: 12.209513776287135\n",
      "Epoch: 36 | Cost: 13.196840839931479\n",
      "Epoch: 37 | Cost: 15.314647038945093\n",
      "Epoch: 38 | Cost: 18.073577534398204\n",
      "Epoch: 39 | Cost: 20.644366759444456\n",
      "Epoch: 40 | Cost: 22.17759212136516\n",
      "Epoch: 41 | Cost: 22.25926540809132\n",
      "Epoch: 42 | Cost: 21.112714882761747\n",
      "Epoch: 43 | Cost: 19.409683827694327\n",
      "Epoch: 44 | Cost: 17.88165431283774\n",
      "Epoch: 45 | Cost: 17.026763184393943\n",
      "Epoch: 46 | Cost: 17.04049266063912\n",
      "Epoch: 47 | Cost: 17.869535373004645\n",
      "Epoch: 48 | Cost: 19.256619215176666\n",
      "Epoch: 49 | Cost: 20.777777184280193\n",
      "Epoch: 50 | Cost: 21.950294547933137\n",
      "Epoch: 51 | Cost: 22.416931212757454\n",
      "Epoch: 52 | Cost: 22.101228078226395\n",
      "Epoch: 53 | Cost: 21.22337032337426\n",
      "Epoch: 54 | Cost: 20.17137940489795\n",
      "Epoch: 55 | Cost: 19.32419379769708\n",
      "Epoch: 56 | Cost: 18.929078394665083\n",
      "Epoch: 57 | Cost: 19.062406357217945\n",
      "Epoch: 58 | Cost: 19.640964436037\n",
      "Epoch: 59 | Cost: 20.454461838613785\n",
      "Epoch: 60 | Cost: 21.223756264925886\n",
      "Epoch: 61 | Cost: 21.69235048667187\n",
      "Epoch: 62 | Cost: 21.723714542092857\n",
      "Epoch: 63 | Cost: 21.351568976379202\n",
      "Epoch: 64 | Cost: 20.752219325591877\n",
      "Epoch: 65 | Cost: 20.159196652123242\n",
      "Epoch: 66 | Cost: 19.771572838080925\n",
      "Epoch: 67 | Cost: 19.69538187658045\n",
      "Epoch: 68 | Cost: 19.92557934106316\n",
      "Epoch: 69 | Cost: 20.35862999173168\n",
      "Epoch: 70 | Cost: 20.82910949083123\n",
      "Epoch: 71 | Cost: 21.16675609059786\n",
      "Epoch: 72 | Cost: 21.259424369024963\n",
      "Epoch: 73 | Cost: 21.094501643841564\n",
      "Epoch: 74 | Cost: 20.756903856554292\n",
      "Epoch: 75 | Cost: 20.3862489192441\n",
      "Epoch: 76 | Cost: 20.11810862427067\n",
      "Epoch: 77 | Cost: 20.03663639994006\n",
      "Epoch: 78 | Cost: 20.15230487267308\n",
      "Epoch: 79 | Cost: 20.405361965032597\n",
      "Epoch: 80 | Cost: 20.690813013305878\n",
      "Epoch: 81 | Cost: 20.898385473365728\n",
      "Epoch: 82 | Cost: 20.954899509246257\n",
      "Epoch: 83 | Cost: 20.851354780225194\n",
      "Epoch: 84 | Cost: 20.641877625102396\n",
      "Epoch: 85 | Cost: 20.41628098592042\n",
      "Epoch: 86 | Cost: 20.26134752705761\n",
      "Epoch: 87 | Cost: 20.228460183238834\n",
      "Epoch: 88 | Cost: 20.318284013449862\n",
      "Epoch: 89 | Cost: 20.484864002544754\n",
      "Epoch: 90 | Cost: 20.656073708735207\n",
      "Epoch: 91 | Cost: 20.763202884288372\n",
      "Epoch: 92 | Cost: 20.768447377357134\n",
      "Epoch: 93 | Cost: 20.678433552974255\n",
      "Epoch: 94 | Cost: 20.53792878793844\n",
      "Epoch: 95 | Cost: 20.4079144737045\n",
      "Epoch: 96 | Cost: 20.339299092534926\n",
      "Epoch: 97 | Cost: 20.353633915063423\n",
      "Epoch: 98 | Cost: 20.43725124579744\n",
      "Epoch: 99 | Cost: 20.549507388984413\n",
      "Epoch: 100 | Cost: 20.641178543837096\n"
     ]
    }
   ],
   "source": [
    "epochs=100\n",
    "cost_max = 10000\n",
    "theta1_best = None\n",
    "w1_best = None\n",
    "\n",
    "# theta1=np.load('theta40.npy')\n",
    "# w1= np.load('w40.npy')\n",
    "\n",
    "\n",
    "for e in range(1,epochs+1):\n",
    "\n",
    "    # (theta1,theta2,w1,w2,_),_cost=opt.step_and_cost(cost,theta1,theta2,w1,w2,t)\n",
    "    (theta),_cost=opt.step_and_cost(cost,theta)\n",
    "\n",
    "    if _cost<cost_max:\n",
    "        cost_max = _cost\n",
    "        theta_best = theta\n",
    "        w1_best = w1\n",
    "\n",
    "    # (theta,_),_cost=opt.step_and_cost(cost,theta,t)\n",
    "    if e==1 or e%1==0:\n",
    "        print(f'Epoch: {e} | Cost: {_cost}')\n",
    "\n"
   ]
  },
  {
   "cell_type": "code",
   "execution_count": null,
   "metadata": {},
   "outputs": [],
   "source": [
    "seed =20\n",
    "np.save('theta'+str(seed), theta1)\n",
    "np.save('w'+str(seed),w1)"
   ]
  },
  {
   "cell_type": "code",
   "execution_count": null,
   "metadata": {},
   "outputs": [],
   "source": [
    "y_delta_real = [-0.1, -0.08568864375010266, -0.07135199292327042, -0.05703216366155178, -0.04277533332758968, -0.028630566403092566, -0.014648393492369936, -0.0008786099410683636, 0.012629993562057113, 0.025830965225360485, 0.03868190003112095, 0.05114514907683676, 0.06318818053413534, 0.07478349631699908, 0.08590929364185632, 0.09655108128205876, 0.10669910851327256, 0.11634802541217151, 0.12549688285643618, 0.13414913252475494, 0.1423124546002818, 0.14999727816970396, 0.1572170147933966, 0.16398646160587024, 0.17032150117763253, 0.17623910151518826, 0.18175731606103976, 0.18689528211221512, 0.19167252338163385, 0.1961073022258, 0.2002172705183872, 0.2040196495808423, 0.20753123018238517, 0.21076837254000894, 0.21374700631847987, 0.2164826306303374, 0.21899031403589397, 0.22128469454323552, 0.2233792634241711, 0.22528520015009165, 0.22701309424038968, 0.22857304585789437, 0.22997466468065175, 0.2312270699019247, 0.23233889023019288, 0.23331826388915283, 0.23417283861771784, 0.2349097716700181, 0.2355355471757422, 0.23605508170803655]\n",
    "y_omega_real = [38.39911, 38.40131255162024, 38.401559501400065, 38.399627615014815, 38.39535272010845, 38.38863569037213, 38.37944575798523, 38.36781828175373, 38.35385457506316, 38.33771250498817, 38.31960064799821, 38.29975795463622, 38.27844654658136, 38.25594953663366, 38.232548774138536, 38.20852344187769, 38.184133101993716, 38.15961422638989, 38.135180196730154, 38.11102130443908, 38.0873045267779, 38.0641648590319, 38.04170495996719, 38.020008128295665, 37.999139183467754, 37.979144465672405, 37.96005183583712, 37.94187079269068, 37.92460193204962, 37.90823330461032, 37.892744190413474, 37.87811073974539, 37.864305973137945, 37.851299781368624, 37.83905892546051, 37.82754703668229, 37.816724616548235, 37.80654903681822, 37.7969789305147, 37.78797953688034, 37.779515522995986, 37.77155243468513, 37.76405670589686, 37.75699565870589, 37.75033750331248, 37.744051338042496, 37.73810714934741, 37.73247581180426, 37.72712975291509, 37.7220465421391]\n"
   ]
  },
  {
   "cell_type": "code",
   "execution_count": null,
   "metadata": {},
   "outputs": [
    {
     "name": "stdout",
     "output_type": "stream",
     "text": [
      "[0.0, 0.02040816326530612, 0.04081632653061224, 0.061224489795918366, 0.08163265306122448, 0.10204081632653061, 0.12244897959183673, 0.14285714285714285, 0.16326530612244897, 0.1836734693877551, 0.20408163265306123, 0.22448979591836735, 0.24489795918367346, 0.2653061224489796, 0.2857142857142857, 0.30612244897959184, 0.32653061224489793, 0.3469387755102041, 0.3673469387755102, 0.3877551020408163, 0.40816326530612246, 0.42857142857142855, 0.4489795918367347, 0.46938775510204084, 0.4897959183673469, 0.5102040816326531, 0.5306122448979592, 0.5510204081632653, 0.5714285714285714, 0.5918367346938775, 0.6122448979591837, 0.6326530612244898, 0.6530612244897959, 0.673469387755102, 0.6938775510204082, 0.7142857142857143, 0.7346938775510204, 0.7551020408163265, 0.7755102040816326, 0.7959183673469388, 0.8163265306122449, 0.8367346938775511, 0.8571428571428571, 0.8775510204081632, 0.8979591836734694, 0.9183673469387755, 0.9387755102040817, 0.9591836734693877, 0.9795918367346939, 1.0]\n",
      "[-0.09974539 -0.09906513 -0.09800121 -0.09652455 -0.09463802 -0.09237842\n",
      " -0.08981546 -0.08704775 -0.08419625 -0.08139572 -0.07878485 -0.07649609\n",
      " -0.07464589 -0.07332619 -0.07259803 -0.07248755 -0.07298485 -0.07404571\n",
      " -0.07559591 -0.07753776 -0.07975822 -0.08213779 -0.08455944 -0.08691671\n",
      " -0.08912021 -0.09110218 -0.09281842 -0.09424777 -0.09538914 -0.09625648\n",
      " -0.09687232 -0.09726062 -0.09743977 -0.09741658 -0.09718206 -0.09670964\n",
      " -0.09595613 -0.09486575 -0.09337685 -0.09143116 -0.08898459 -0.08601889\n",
      " -0.08255313 -0.07865401 -0.07444449 -0.0701107  -0.06590969 -0.0621881\n",
      " -0.05946679 -0.0603167 ]\n"
     ]
    }
   ],
   "source": [
    "# print(_cost)\n",
    "# t=np.random.uniform(0,1,size=50,requires_grad=False)\n",
    "print(t)\n",
    "pred_train_X=np.array([classical_quantum_net(theta1,w1,t) for t in t])\n",
    "print(pred_train_X)\n"
   ]
  },
  {
   "cell_type": "code",
   "execution_count": null,
   "metadata": {},
   "outputs": [
    {
     "ename": "NameError",
     "evalue": "name 'pred_train_Y' is not defined",
     "output_type": "error",
     "traceback": [
      "\u001b[1;31m---------------------------------------------------------------------------\u001b[0m",
      "\u001b[1;31mNameError\u001b[0m                                 Traceback (most recent call last)",
      "Cell \u001b[1;32mIn[143], line 10\u001b[0m\n\u001b[0;32m      7\u001b[0m plt\u001b[39m.\u001b[39mfigure()\n\u001b[0;32m      8\u001b[0m plt\u001b[39m.\u001b[39mscatter(t,y_omega_real,facecolors\u001b[39m=\u001b[39m\u001b[39m'\u001b[39m\u001b[39mnone\u001b[39m\u001b[39m'\u001b[39m, edgecolors\u001b[39m=\u001b[39m\u001b[39m'\u001b[39m\u001b[39mg\u001b[39m\u001b[39m'\u001b[39m, label\u001b[39m=\u001b[39m\u001b[39m'\u001b[39m\u001b[39mTrue - omega_t\u001b[39m\u001b[39m'\u001b[39m)\n\u001b[1;32m---> 10\u001b[0m plt\u001b[39m.\u001b[39mscatter(t,pred_train_Y, color\u001b[39m=\u001b[39m\u001b[39m'\u001b[39m\u001b[39mgreen\u001b[39m\u001b[39m'\u001b[39m,marker\u001b[39m=\u001b[39m\u001b[39m\"\u001b[39m\u001b[39mx\u001b[39m\u001b[39m\"\u001b[39m,s\u001b[39m=\u001b[39m\u001b[39m4\u001b[39m,label\u001b[39m=\u001b[39m\u001b[39m'\u001b[39m\u001b[39mPrediction - omega_t\u001b[39m\u001b[39m'\u001b[39m)\n\u001b[0;32m     12\u001b[0m plt\u001b[39m.\u001b[39mxlabel(\u001b[39m'\u001b[39m\u001b[39mt\u001b[39m\u001b[39m'\u001b[39m,fontsize\u001b[39m=\u001b[39m\u001b[39m16\u001b[39m)\n\u001b[0;32m     13\u001b[0m plt\u001b[39m.\u001b[39mylabel(\u001b[39m'\u001b[39m\u001b[39momega_t\u001b[39m\u001b[39m'\u001b[39m,fontsize\u001b[39m=\u001b[39m\u001b[39m16\u001b[39m)\n",
      "\u001b[1;31mNameError\u001b[0m: name 'pred_train_Y' is not defined"
     ]
    },
    {
     "data": {
      "image/png": "[encoded data removed]",
      "text/plain": [
       "<Figure size 640x480 with 1 Axes>"
      ]
     },
     "metadata": {},
     "output_type": "display_data"
    },
    {
     "data": {
      "image/png": "[encoded data removed]",
      "text/plain": [
       "<Figure size 640x480 with 1 Axes>"
      ]
     },
     "metadata": {},
     "output_type": "display_data"
    }
   ],
   "source": [
    "plt.figure()\n",
    "\n",
    "plt.scatter(t,y_delta_real,facecolors='none', edgecolors='r', label='True - del_t')\n",
    "plt.scatter(t,pred_train_X, color='red',marker=\"x\",s=4,label='Prediction - del_t')\n",
    "plt.xlabel('t',fontsize=16)\n",
    "plt.ylabel('del_t',fontsize=16)\n",
    "plt.figure()\n",
    "plt.scatter(t,y_omega_real,facecolors='none', edgecolors='g', label='True - omega_t')\n",
    "\n",
    "plt.scatter(t,pred_train_Y, color='green',marker=\"x\",s=4,label='Prediction - omega_t')\n",
    "\n",
    "plt.xlabel('t',fontsize=16)\n",
    "plt.ylabel('omega_t',fontsize=16)\n",
    "plt.xticks(fontsize=10)\n",
    "plt.yticks(fontsize=10)\n",
    "plt.legend(loc='upper center',bbox_to_anchor=(0.5,1.18),ncol=2,fontsize=16)\n",
    "# plt.savefig('1_measurement2_train.png')\n",
    "plt.show()"
   ]
  }
 ],
 "metadata": {
  "kernelspec": {
   "display_name": "base",
   "language": "python",
   "name": "python3"
  },
  "language_info": {
   "codemirror_mode": {
    "name": "ipython",
    "version": 3
   },
   "file_extension": ".py",
   "mimetype": "text/x-python",
   "name": "python",
   "nbconvert_exporter": "python",
   "pygments_lexer": "ipython3",
   "version": "3.11.4"
  },
  "orig_nbformat": 4
 },
 "nbformat": 4,
 "nbformat_minor": 2
}
