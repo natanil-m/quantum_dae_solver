{
 "cells": [
  {
   "cell_type": "code",
   "execution_count": 200,
   "metadata": {},
   "outputs": [],
   "source": [
    "from math import pi\n",
    "import matplotlib.pyplot as plt\n",
    "from pennylane import numpy as np\n",
    "import pennylane as qml\n",
    "from pennylane.optimize import AdamOptimizer\n",
    "import datetime\n",
    "now=datetime.datetime.now"
   ]
  },
  {
   "cell_type": "code",
   "execution_count": 201,
   "metadata": {},
   "outputs": [],
   "source": [
    "num_qubits=1\n",
    "dev=qml.device('default.qubit', wires=num_qubits)\n",
    "seed = 40\n",
    "np.random.seed(seed)"
   ]
  },
  {
   "cell_type": "code",
   "execution_count": 202,
   "metadata": {},
   "outputs": [],
   "source": [
    "t=np.linspace(0,10, 20)"
   ]
  },
  {
   "cell_type": "code",
   "execution_count": 203,
   "metadata": {},
   "outputs": [],
   "source": [
    "@qml.qnode(dev, diff_method=\"backprop\", interface=\"autograd\")\n",
    "def hepler(encoded_x,theta):\n",
    "    qml.QubitStateVector(encoded_x,wires=[0])\n",
    "    qml.RY(wires=0,phi=theta)\n",
    "    return qml.probs(wires=[0])"
   ]
  },
  {
   "cell_type": "code",
   "execution_count": 204,
   "metadata": {},
   "outputs": [],
   "source": [
    "def encoder(x):\n",
    "    # vector_x = [x,x**2]\n",
    "    # vector_x = [x+x**2,1+x**3]\n",
    "    vector_x = [x+x**2,1+x**3]\n",
    "    norm_x = np.linalg.norm(vector_x)\n",
    "    # print(vector_x)\n",
    "    return vector_x/norm_x , norm_x"
   ]
  },
  {
   "cell_type": "code",
   "execution_count": 205,
   "metadata": {},
   "outputs": [],
   "source": [
    "\n",
    "def f(x,theta,w):\n",
    "    encoded_x,norm_x = encoder(x)\n",
    "    f_val = hepler(encoded_x,theta)\n",
    "    # rescale_coef = abs(w[0])\n",
    "    rescale_coef = w[0]\n",
    "    return (f_val[1]*(norm_x**2))*rescale_coef+w[1]\n",
    "    # print(qml.draw(hepler)(encoded_x))"
   ]
  },
  {
   "cell_type": "code",
   "execution_count": 206,
   "metadata": {},
   "outputs": [],
   "source": [
    "# f(-1.7)"
   ]
  },
  {
   "cell_type": "code",
   "execution_count": 207,
   "metadata": {},
   "outputs": [],
   "source": [
    "def f_test(t):\n",
    "    return -0.5*t**6+10*t**5+4*t**3+5*t**2+20*t-10"
   ]
  },
  {
   "cell_type": "code",
   "execution_count": 208,
   "metadata": {},
   "outputs": [],
   "source": [
    "def callbackF(parameters):\n",
    "    # global current_loss\n",
    "\n",
    "    print(\"Current loss:\", cost(parameters)) \n",
    "\n",
    "\n",
    "def cost(params):\n",
    "    global theta\n",
    "    global w\n",
    "    # Reshape the flattened theta back to its original shape\n",
    "    theta_shape = theta.shape\n",
    "    w_shape = w.shape\n",
    "    w, theta_flat = params[:2], params[2:]\n",
    "    theta = theta_flat.reshape(theta_shape)\n",
    "    loss = 0\n",
    "    for x in t:\n",
    "        loss += (f(x,theta[0],w)-f_test(x))**2/len(t)\n",
    "    \n",
    "    # print(w)\n",
    "    # print(theta)\n",
    "    # raise KeyError\n",
    "    return loss"
   ]
  },
  {
   "cell_type": "code",
   "execution_count": 209,
   "metadata": {},
   "outputs": [
    {
     "name": "stdout",
     "output_type": "stream",
     "text": [
      "Current loss: 17051539484.843864\n",
      "Current loss: 3686773744.649892\n",
      "Current loss: 813473921.5198537\n",
      "Current loss: 340863442.35567355\n",
      "Current loss: 320885892.3370329\n",
      "Current loss: 320190725.6920765\n",
      "Current loss: 320017941.35909504\n",
      "Current loss: 319802427.6852535\n",
      "Current loss: 319404752.1785611\n",
      "Current loss: 318660315.26390016\n",
      "Current loss: 317271306.35671574\n",
      "Current loss: 314809821.01296186\n",
      "Current loss: 311403665.7225654\n",
      "Current loss: 308114628.038759\n",
      "Current loss: 302302976.5034565\n",
      "Current loss: 292284258.14084166\n",
      "Current loss: 277341666.4148254\n",
      "Current loss: 269868463.9887689\n",
      "Current loss: 258572745.16891092\n",
      "Current loss: 255925026.2644571\n",
      "Current loss: 251399033.51412275\n",
      "Current loss: 244725771.29894632\n",
      "Current loss: 239453120.22013032\n",
      "Current loss: 232081882.90248376\n",
      "Current loss: 222148370.3335628\n",
      "Current loss: 207210186.4802254\n",
      "Current loss: 199098496.4497447\n",
      "Current loss: 186252866.4633276\n",
      "Current loss: 183688799.98064446\n",
      "Current loss: 179066270.247482\n",
      "Current loss: 171370468.88280374\n",
      "Current loss: 161443375.27739418\n",
      "Current loss: 152819168.86370417\n",
      "Current loss: 145462286.13777032\n",
      "Current loss: 135994967.65045148\n",
      "Current loss: 124341838.92492859\n",
      "Current loss: 118165927.56898846\n",
      "Current loss: 108308069.47383304\n",
      "Current loss: 97812690.56722724\n",
      "Current loss: 84191490.9202185\n",
      "Current loss: 77144694.57664435\n",
      "Current loss: 66989074.81088212\n",
      "Current loss: 58928148.11123103\n",
      "Current loss: 49341136.18655266\n",
      "Current loss: 41824584.507675834\n",
      "Current loss: 35033352.81746796\n",
      "Current loss: 32042843.67380552\n",
      "Current loss: 28053663.60642914\n",
      "Current loss: 24277501.604192607\n",
      "Current loss: 21369476.341629773\n",
      "Current loss: 16891286.58189\n",
      "Current loss: 12334256.247950858\n",
      "Current loss: 10068925.828721723\n",
      "Current loss: 8915129.030749304\n",
      "Current loss: 7825453.20667162\n",
      "Current loss: 7094560.522749825\n",
      "Current loss: 6777019.616723311\n",
      "Current loss: 6610824.736092126\n",
      "Current loss: 6567157.720569224\n",
      "Current loss: 6564565.62614025\n",
      "Current loss: 6564485.698831211\n",
      "Current loss: 6564482.162685207\n",
      "Current loss: 6564481.864052681\n",
      "Current loss: 6564481.864052574\n",
      "Current loss: 6564481.86368095\n",
      "Current loss: 6564481.8604546925\n",
      "Current loss: 6564481.858651067\n",
      "Current loss: 6564481.858651058\n"
     ]
    }
   ],
   "source": [
    "import numpy as np\n",
    "from scipy.optimize import minimize\n",
    "\n",
    "\n",
    "\n",
    "theta = np.random.uniform(0, 2 * np.pi, size=(1))\n",
    "w = np.zeros(2)\n",
    "\n",
    "initial_params = np.concatenate([w, theta.flatten()])  # Flatten theta to a 1D array\n",
    "\n",
    "result = minimize(cost, initial_params, callback=callbackF, method='BFGS', options={'gtol': 1E-2})\n",
    "# Extract the optimized parameters\n",
    "w, theta_flat = result.x[:2], result.x[2:]\n",
    "theta = theta_flat.reshape(theta.shape)"
   ]
  },
  {
   "cell_type": "code",
   "execution_count": 210,
   "metadata": {},
   "outputs": [
    {
     "name": "stdout",
     "output_type": "stream",
     "text": [
      "[   26.18157438 -2387.79936705]\n"
     ]
    }
   ],
   "source": [
    "print(w)"
   ]
  },
  {
   "cell_type": "code",
   "execution_count": 211,
   "metadata": {},
   "outputs": [
    {
     "data": {
      "text/plain": [
       "<matplotlib.lines.Line2D at 0x1f938582a90>"
      ]
     },
     "execution_count": 211,
     "metadata": {},
     "output_type": "execute_result"
    },
    {
     "data": {
      "image/png": "[encoded data removed]",
      "text/plain": [
       "<Figure size 1000x600 with 1 Axes>"
      ]
     },
     "metadata": {},
     "output_type": "display_data"
    }
   ],
   "source": [
    "\n",
    "# Calculate corresponding y values for both functions\n",
    "y1 = [f(x,theta[0],w) for x in t]\n",
    "y2 = [f_test(x) for x in t]\n",
    "\n",
    "\n",
    "# Create the plot\n",
    "plt.figure(figsize=(10, 6))  # Set the figure size\n",
    "plt.scatter(t, y1, label='Quantum f(x)', linewidth=2, color='b')  # Plot the first function\n",
    "plt.plot(t, y2, label='Analytic f(x)', linewidth=2, color='r')  # Plot the second function\n",
    "plt.xlabel('x')  # X-axis label\n",
    "plt.ylabel('y')  # Y-axis label\n",
    "# plt.title('Plot of Two Functions')  # Title of the plot\n",
    "plt.grid(True, linestyle='--', alpha=0.6)  # Add a grid\n",
    "plt.legend()  # Show the legend\n",
    "plt.axhline(0, color='black', linewidth=0.5)  # Add horizontal line at y=0\n",
    "plt.axvline(0, color='black', linewidth=0.5)  # Add vertical line at x=0\n",
    "# plt.ylim([-5, 10])  # Set y-axis limits\n"
   ]
  }
 ],
 "metadata": {
  "kernelspec": {
   "display_name": "base",
   "language": "python",
   "name": "python3"
  },
  "language_info": {
   "codemirror_mode": {
    "name": "ipython",
    "version": 3
   },
   "file_extension": ".py",
   "mimetype": "text/x-python",
   "name": "python",
   "nbconvert_exporter": "python",
   "pygments_lexer": "ipython3",
   "version": "3.11.4"
  },
  "orig_nbformat": 4
 },
 "nbformat": 4,
 "nbformat_minor": 2
}
