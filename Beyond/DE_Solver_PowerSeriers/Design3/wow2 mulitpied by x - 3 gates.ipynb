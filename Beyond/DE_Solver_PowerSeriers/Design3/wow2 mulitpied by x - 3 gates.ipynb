{
 "cells": [
  {
   "cell_type": "code",
   "execution_count": 13,
   "metadata": {},
   "outputs": [],
   "source": [
    "from math import pi\n",
    "import matplotlib.pyplot as plt\n",
    "from pennylane import numpy as np\n",
    "import pennylane as qml\n",
    "from pennylane.optimize import AdamOptimizer\n",
    "import datetime\n",
    "now=datetime.datetime.now"
   ]
  },
  {
   "cell_type": "code",
   "execution_count": 14,
   "metadata": {},
   "outputs": [],
   "source": [
    "num_qubits=1\n",
    "dev=qml.device('default.qubit', wires=num_qubits)\n",
    "seed = 40\n",
    "np.random.seed(seed)"
   ]
  },
  {
   "cell_type": "code",
   "execution_count": 15,
   "metadata": {},
   "outputs": [
    {
     "name": "stdout",
     "output_type": "stream",
     "text": [
      "[-10.          -9.59183673  -9.18367347  -8.7755102   -8.36734694\n",
      "  -7.95918367  -7.55102041  -7.14285714  -6.73469388  -6.32653061\n",
      "  -5.91836735  -5.51020408  -5.10204082  -4.69387755  -4.28571429\n",
      "  -3.87755102  -3.46938776  -3.06122449  -2.65306122  -2.24489796\n",
      "  -1.83673469  -1.42857143  -1.02040816  -0.6122449   -0.20408163\n",
      "   0.20408163   0.6122449    1.02040816   1.42857143   1.83673469\n",
      "   2.24489796   2.65306122   3.06122449   3.46938776   3.87755102\n",
      "   4.28571429   4.69387755   5.10204082   5.51020408   5.91836735\n",
      "   6.32653061   6.73469388   7.14285714   7.55102041   7.95918367\n",
      "   8.36734694   8.7755102    9.18367347   9.59183673  10.        ]\n"
     ]
    }
   ],
   "source": [
    "# t=np.linspace(-10,-1, 20)\n",
    "t=np.linspace(-10,10, 50)\n",
    "print(t)"
   ]
  },
  {
   "cell_type": "code",
   "execution_count": 16,
   "metadata": {},
   "outputs": [],
   "source": [
    "@qml.qnode(dev, diff_method=\"backprop\", interface=\"autograd\")\n",
    "def hepler(encoded_x,theta):\n",
    "    qml.QubitStateVector(encoded_x,wires=[i for i in range(num_qubits)])\n",
    "\n",
    "    qml.RY(wires=0,phi=theta[0])\n",
    "    qml.RZ(wires=0,phi=theta[1])\n",
    "    qml.RY(wires=0,phi=theta[2])\n",
    "    # qml.RZ(wires=0,phi=theta[3])\n",
    "\n",
    "    # qml.RY(wires=1,phi=theta[1])\n",
    "    # qml.CNOT(wires=[0,1])\n",
    "    # return qml.probs(wires=[0,1])\n",
    "    return qml.probs(wires=[0])\n",
    "    # return qml.expval(qml.PauliZ(wires=0))"
   ]
  },
  {
   "cell_type": "code",
   "execution_count": 17,
   "metadata": {},
   "outputs": [],
   "source": [
    "def encoder(x):\n",
    "    # vector_x = [x,x**2,x**3,x**4]\n",
    "    vector_x = [1,x]\n",
    "    # vector_x = [x+x**2,1+x**3]\n",
    "    norm_x = np.linalg.norm(vector_x)\n",
    "    return vector_x/norm_x , norm_x"
   ]
  },
  {
   "cell_type": "code",
   "execution_count": 18,
   "metadata": {},
   "outputs": [],
   "source": [
    "\n",
    "def f(x,theta,w):\n",
    "    encoded_x,norm_x = encoder(x)\n",
    "    f_val = hepler(encoded_x,theta)\n",
    "    # rescale_coef = abs(w[0])\n",
    "    rescale_coef = w[0]\n",
    "    # return (f_val[1]*(norm_x**2))*rescale_coef+w[1]\n",
    "    return x*(f_val[0]*(norm_x**2))*rescale_coef+w[1]\n",
    "    # print(qml.draw(hepler)(encoded_x))"
   ]
  },
  {
   "cell_type": "code",
   "execution_count": 19,
   "metadata": {},
   "outputs": [],
   "source": [
    "# f(-1.7)"
   ]
  },
  {
   "cell_type": "code",
   "execution_count": 20,
   "metadata": {},
   "outputs": [],
   "source": [
    "# def f_test(t):\n",
    "#     return 4*t**3+5*t**2+20*t-10\n",
    "# def f_test(t):\n",
    "    \n",
    "#     del1_target_values=[0.0626, 0.0654128694896339, 0.06861048523231798, 0.0717696944764635, 0.07489043267534999, 0.0779728455818338, 0.08101709510535939, 0.0840233583219672, 0.08699182518697031, 0.0899226984400258, 0.09281619393995905, 0.0956725387836735, 0.09849197111545026, 0.10127473823249328, 0.1040210965849295, 0.10673131190967008, 0.10940565830077785, 0.11204441683700853, 0.11464787645572065, 0.1172163314549275, 0.11975008149329716, 0.12224943159015245, 0.12471469212547098, 0.12714617917589405, 0.1295442104104402, 0.1319091089596631, 0.13424120074224347, 0.1365408137193849, 0.13880827789481415, 0.14104392531478085, 0.14324809006805758, 0.14542110828593993, 0.147563318635035, 0.14967505736980216, 0.15175666371535795, 0.1538084770704075, 0.1558308363717687, 0.15782408009437224, 0.1597885462512616, 0.16172457239359303, 0.16363249561063564, 0.16551265252977135, 0.16736537945894997, 0.169191012259936, 0.17098988223003628, 0.17276232171218334, 0.17450866100523516, 0.17622922836397534, 0.17792434999911297, 0.17959435007728264]\n",
    "#     omega1_target_values=[1.0, 1.0002089794260889, 1.0002065644242002, 1.0002040599936957, 1.0002015643339355, 1.000199078777491, 1.0001966042806651, 1.0001941415955593, 1.0001916916096918, 1.0001892553678093, 1.0001868336161226, 1.0001844269222777, 1.0001820359331468, 1.000179661292938, 1.0001773036431931, 1.0001749636253419, 1.0001726417132004, 1.0001703382616356, 1.0001680537049182, 1.0001657884482131, 1.000163542867578, 1.0001613173099644, 1.0001591120932178, 1.0001569275711912, 1.0001547638508346, 1.0001526211327025, 1.000150499639947, 1.0001483995613456, 1.0001463210513042, 1.0001442642298546, 1.0001422291826556, 1.0001402159609931, 1.0001382247773762, 1.0001362555336364, 1.000134308244816, 1.00013238296878, 1.0001304797359551, 1.000128598549329, 1.0001267393844504, 1.00012490218943, 1.0001230868849398, 1.0001212933642125, 1.000119521520392, 1.0001177715586809, 1.0001160430960392, 1.0001143360832625, 1.0001126504529687, 1.0001109861195974, 1.0001093429794106, 1.000107720910492]\n",
    "#     return del1_target_values\n"
   ]
  },
  {
   "cell_type": "code",
   "execution_count": 21,
   "metadata": {},
   "outputs": [],
   "source": [
    "del1_target_values=[0.0626, 0.0654128694896339, 0.06861048523231798, 0.0717696944764635, 0.07489043267534999, 0.0779728455818338, 0.08101709510535939, 0.0840233583219672, 0.08699182518697031, 0.0899226984400258, 0.09281619393995905, 0.0956725387836735, 0.09849197111545026, 0.10127473823249328, 0.1040210965849295, 0.10673131190967008, 0.10940565830077785, 0.11204441683700853, 0.11464787645572065, 0.1172163314549275, 0.11975008149329716, 0.12224943159015245, 0.12471469212547098, 0.12714617917589405, 0.1295442104104402, 0.1319091089596631, 0.13424120074224347, 0.1365408137193849, 0.13880827789481415, 0.14104392531478085, 0.14324809006805758, 0.14542110828593993, 0.147563318635035, 0.14967505736980216, 0.15175666371535795, 0.1538084770704075, 0.1558308363717687, 0.15782408009437224, 0.1597885462512616, 0.16172457239359303, 0.16363249561063564, 0.16551265252977135, 0.16736537945894997, 0.169191012259936, 0.17098988223003628, 0.17276232171218334, 0.17450866100523516, 0.17622922836397534, 0.17792434999911297, 0.17959435007728264]\n",
    "omega1_target_values=[1.0, 1.0002089794260889, 1.0002065644242002, 1.0002040599936957, 1.0002015643339355, 1.000199078777491, 1.0001966042806651, 1.0001941415955593, 1.0001916916096918, 1.0001892553678093, 1.0001868336161226, 1.0001844269222777, 1.0001820359331468, 1.000179661292938, 1.0001773036431931, 1.0001749636253419, 1.0001726417132004, 1.0001703382616356, 1.0001680537049182, 1.0001657884482131, 1.000163542867578, 1.0001613173099644, 1.0001591120932178, 1.0001569275711912, 1.0001547638508346, 1.0001526211327025, 1.000150499639947, 1.0001483995613456, 1.0001463210513042, 1.0001442642298546, 1.0001422291826556, 1.0001402159609931, 1.0001382247773762, 1.0001362555336364, 1.000134308244816, 1.00013238296878, 1.0001304797359551, 1.000128598549329, 1.0001267393844504, 1.00012490218943, 1.0001230868849398, 1.0001212933642125, 1.000119521520392, 1.0001177715586809, 1.0001160430960392, 1.0001143360832625, 1.0001126504529687, 1.0001109861195974, 1.0001093429794106, 1.000107720910492]\n"
   ]
  },
  {
   "cell_type": "code",
   "execution_count": 22,
   "metadata": {},
   "outputs": [],
   "source": [
    "def f_test(t):\n",
    "    return 4*t**3+5*t**2+20*t-10"
   ]
  },
  {
   "cell_type": "code",
   "execution_count": 23,
   "metadata": {},
   "outputs": [],
   "source": [
    "def callbackF(parameters):\n",
    "    # global current_loss\n",
    "\n",
    "    print(\"Current loss:\", cost(parameters)) \n",
    "\n",
    "\n",
    "def cost(params):\n",
    "    global theta\n",
    "    global w\n",
    "    # Reshape the flattened theta back to its original shape\n",
    "    theta_shape = theta.shape\n",
    "    w_shape = w.shape\n",
    "    w, theta_flat = params[:2], params[2:]\n",
    "    theta = theta_flat.reshape(theta_shape)\n",
    "    loss = 0\n",
    "    for i in range(len(t)):\n",
    "        # loss += (f(t[i],theta,w)-del1_target_values[i])**2\n",
    "        loss += (f(t[i],theta,w)-f_test(t[i]))**2\n",
    "    \n",
    "    # print(w)\n",
    "    # print(theta)\n",
    "    # raise KeyError\n",
    "    return loss"
   ]
  },
  {
   "cell_type": "code",
   "execution_count": null,
   "metadata": {},
   "outputs": [],
   "source": []
  },
  {
   "cell_type": "code",
   "execution_count": 24,
   "metadata": {},
   "outputs": [
    {
     "name": "stdout",
     "output_type": "stream",
     "text": [
      "Current loss: 58091285.70990184\n",
      "Current loss: 19292491.84600301\n",
      "Current loss: 701735.2809000065\n",
      "Current loss: 598821.9063474707\n",
      "Current loss: 428415.93729080894\n",
      "Current loss: 201140.3637449077\n",
      "Current loss: 186053.04300678094\n",
      "Current loss: 157971.0710877375\n",
      "Current loss: 111839.11785228232\n",
      "Current loss: 94663.33457160289\n",
      "Current loss: 88454.31868080223\n",
      "Current loss: 84521.62868418686\n",
      "Current loss: 78782.83564321567\n",
      "Current loss: 75826.75348652364\n",
      "Current loss: 75521.3645839499\n",
      "Current loss: 75475.01188275985\n",
      "Current loss: 75454.63695469966\n",
      "Current loss: 75416.62249326764\n",
      "Current loss: 75344.7564457379\n",
      "Current loss: 75209.9669159083\n",
      "Current loss: 74966.50189974168\n",
      "Current loss: 74580.98038357502\n",
      "Current loss: 74186.10951586715\n",
      "Current loss: 73657.04811258503\n",
      "Current loss: 72681.08970441381\n",
      "Current loss: 70996.64697917813\n",
      "Current loss: 68252.52352700608\n",
      "Current loss: 66050.8283056425\n",
      "Current loss: 62624.0787045662\n",
      "Current loss: 59858.69758298261\n",
      "Current loss: 56305.807854563536\n",
      "Current loss: 54151.343965120504\n",
      "Current loss: 53070.43872621285\n",
      "Current loss: 51199.35899782491\n",
      "Current loss: 48177.88984575732\n",
      "Current loss: 46429.50211335989\n",
      "Current loss: 43640.550276056725\n",
      "Current loss: 39619.90560862115\n",
      "Current loss: 37978.905223035625\n",
      "Current loss: 36360.160110548655\n",
      "Current loss: 33710.062153655745\n",
      "Current loss: 29994.75800322964\n",
      "Current loss: 25912.43816136853\n",
      "Current loss: 24668.42697116338\n",
      "Current loss: 22608.869375335813\n",
      "Current loss: 19411.920159124293\n",
      "Current loss: 17844.8391442168\n",
      "Current loss: 15478.714838095211\n",
      "Current loss: 13524.888819131715\n",
      "Current loss: 11403.69081018238\n",
      "Current loss: 8830.52702351146\n",
      "Current loss: 7770.985891518909\n",
      "Current loss: 6278.039834431874\n",
      "Current loss: 5181.487091989514\n",
      "Current loss: 4374.066260225269\n",
      "Current loss: 3178.426737074493\n",
      "Current loss: 2422.871330908012\n",
      "Current loss: 1604.724458228648\n",
      "Current loss: 1138.271264009856\n",
      "Current loss: 753.1416556749335\n",
      "Current loss: 429.80914529232314\n",
      "Current loss: 201.73436286248716\n",
      "Current loss: 201.50307523436175\n",
      "Current loss: 62.68376556967233\n",
      "Current loss: 14.135081612192899\n",
      "Current loss: 4.687184623121644\n",
      "Current loss: 2.324201330681749\n",
      "Current loss: 1.258888952980993\n",
      "Current loss: 0.4853541623139439\n",
      "Current loss: 0.14046858366710246\n",
      "Current loss: 0.016778152692886152\n",
      "Current loss: 0.0008711442303486275\n",
      "Current loss: 2.7269808440986274e-05\n",
      "Current loss: 6.003331886421438e-06\n",
      "Current loss: 4.8191524059439365e-06\n",
      "Current loss: 4.7350617618104355e-06\n",
      "Current loss: 4.480395378414574e-06\n",
      "Current loss: 4.062524827399223e-06\n",
      "Current loss: 3.7449579324367463e-06\n",
      "Current loss: 3.6586518353310515e-06\n",
      "Current loss: 3.653358825865986e-06\n"
     ]
    }
   ],
   "source": [
    "import numpy as np\n",
    "from scipy.optimize import minimize\n",
    "\n",
    "\n",
    "\n",
    "theta = np.random.uniform(0, 2 * np.pi, size=(4))\n",
    "w = np.zeros(2)\n",
    "\n",
    "initial_params = np.concatenate([w, theta.flatten()])  # Flatten theta to a 1D array\n",
    "\n",
    "result = minimize(cost, initial_params, callback=callbackF, method='BFGS', options={'gtol': 1E-2})\n",
    "# Extract the optimized parameters\n",
    "w, theta_flat = result.x[:2], result.x[2:]\n",
    "theta = theta_flat.reshape(theta.shape)"
   ]
  },
  {
   "cell_type": "code",
   "execution_count": 25,
   "metadata": {},
   "outputs": [
    {
     "name": "stdout",
     "output_type": "stream",
     "text": [
      "[24.00008907 -9.99984762]\n"
     ]
    }
   ],
   "source": [
    "print(w)"
   ]
  },
  {
   "cell_type": "code",
   "execution_count": 26,
   "metadata": {},
   "outputs": [
    {
     "data": {
      "text/plain": [
       "<matplotlib.lines.Line2D at 0x287806b0d10>"
      ]
     },
     "execution_count": 26,
     "metadata": {},
     "output_type": "execute_result"
    },
    {
     "data": {
      "image/png": "[encoded data removed]",
      "text/plain": [
       "<Figure size 1000x600 with 1 Axes>"
      ]
     },
     "metadata": {},
     "output_type": "display_data"
    }
   ],
   "source": [
    "\n",
    "# Calculate corresponding y values for both functions\n",
    "y1 = [f(x,theta,w) for x in t]\n",
    "y2 = [f_test(x) for x in t]\n",
    "# y2 = [del1_target_values[i] for i in range(len(t))]\n",
    "\n",
    "\n",
    "# Create the plot\n",
    "plt.figure(figsize=(10, 6))  # Set the figure size\n",
    "plt.scatter(t, y1, label='Quantum f(x)', linewidth=2, color='b')  # Plot the first function\n",
    "plt.plot(t, y2, label='Analytic f(x)', linewidth=2, color='r')  # Plot the second function\n",
    "plt.xlabel('x')  # X-axis label\n",
    "plt.ylabel('y')  # Y-axis label\n",
    "# plt.title('Plot of Two Functions')  # Title of the plot\n",
    "plt.grid(True, linestyle='--', alpha=0.6)  # Add a grid\n",
    "plt.legend()  # Show the legend\n",
    "plt.axhline(0, color='black', linewidth=0.5)  # Add horizontal line at y=0\n",
    "plt.axvline(0, color='black', linewidth=0.5)  # Add vertical line at x=0\n",
    "# plt.ylim([-5, 10])  # Set y-axis limits\n"
   ]
  }
 ],
 "metadata": {
  "kernelspec": {
   "display_name": "base",
   "language": "python",
   "name": "python3"
  },
  "language_info": {
   "codemirror_mode": {
    "name": "ipython",
    "version": 3
   },
   "file_extension": ".py",
   "mimetype": "text/x-python",
   "name": "python",
   "nbconvert_exporter": "python",
   "pygments_lexer": "ipython3",
   "version": "3.11.4"
  },
  "orig_nbformat": 4
 },
 "nbformat": 4,
 "nbformat_minor": 2
}
