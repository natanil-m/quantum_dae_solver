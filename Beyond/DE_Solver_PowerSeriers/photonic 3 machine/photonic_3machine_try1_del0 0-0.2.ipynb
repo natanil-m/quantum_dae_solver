{
 "cells": [
  {
   "cell_type": "code",
   "execution_count": 1,
   "metadata": {},
   "outputs": [],
   "source": [
    "# !pip install perceval-quandela\n",
    "# !pip install tqdm"
   ]
  },
  {
   "cell_type": "code",
   "execution_count": 2,
   "metadata": {},
   "outputs": [],
   "source": [
    "import perceval as pcvl\n",
    "import numpy as np\n",
    "from math import comb\n",
    "from scipy.optimize import minimize\n",
    "import time\n",
    "import matplotlib.pyplot as plt\n",
    "import matplotlib as mpl\n",
    "import tqdm as tqdm\n",
    "from perceval.simulators import Simulator\n",
    "from perceval.backends import SLOSBackend\n"
   ]
  },
  {
   "cell_type": "code",
   "execution_count": 3,
   "metadata": {},
   "outputs": [
    {
     "name": "stdout",
     "output_type": "stream",
     "text": [
      "0.9.1\n"
     ]
    }
   ],
   "source": [
    "print(pcvl.__version__)"
   ]
  },
  {
   "cell_type": "code",
   "execution_count": 4,
   "metadata": {},
   "outputs": [
    {
     "name": "stdout",
     "output_type": "stream",
     "text": [
      "Random Seed: 9072\n"
     ]
    }
   ],
   "source": [
    "nphotons = 4\n",
    "\n",
    "random_seed = np.random.randint(0, 10000)\n",
    "# random_seed = 8468\n",
    "np.random.seed(random_seed)\n",
    "print(\"Random Seed:\", random_seed)"
   ]
  },
  {
   "cell_type": "code",
   "execution_count": 5,
   "metadata": {},
   "outputs": [],
   "source": [
    "#Initial Values\n",
    "# del1, w1, del2, w2, del3, w3, P_e1, P_e2, P_e3\n",
    "del1_val0, w1_val0, del2_val0, w2_val0, del3_val0, w3_val0, P_e1_val, P_e2, P_e3 = [0.0626, 1, 1.0567, 1, 0.9449, 1, 1.43824549482149, 1.040964945989, 0.757527164510807]\n"
   ]
  },
  {
   "cell_type": "code",
   "execution_count": 6,
   "metadata": {},
   "outputs": [],
   "source": [
    "# Differential equation parameters\n",
    "\n",
    "# Ws, H1, H2, H3, D1, D2, D3\n",
    "Ws, H1, H2, H3, D1, D2, D3 = (376.9911, 23.64, 6.4, 3.01, 23.64, 6.4, 3.01)\n",
    "\n",
    "# P_m1, P_m2, P_m3, X_d_p1, X_d_p2, X_d_p3\n",
    "P_m1, P_m2, P_m3, X_d_p1, X_d_p2, X_d_p3 = (0.7164, 1.63, 0.85, 0.0608, 0.1198, 0.1813)\n",
    "\n",
    "# e_q_p1, e_q_p2, e_q_p3, R_a1, R_a2, R_a3\n",
    "e_q_p1, e_q_p2, e_q_p3, R_a1, R_a2, R_a3 = (1.0566, 1.0502, 1.0170, 0, 0, 0)\n",
    "\n",
    "# a11-a26 of Y\n",
    "a_11, a_12, a_13, a_14, a_15, a_16, a_21, a_22, a_23, a_24, a_25, a_26 = (0.8455, 2.9883, 0.2871, -1.5129, 0.2096, -1.2256, -2.9883, 0.8455, 1.5129, 0.2871, 1.2256, 0.2096)\n",
    "\n",
    "# a31-a46 of Y\n",
    "a_31, a_32, a_33, a_34, a_35, a_36, a_41, a_42, a_43, a_44, a_45, a_46 = (0.2871, -1.5129, 0.4200, 2.7239, 0.2133, -1.0879, 1.5129, 0.2871, -2.7239, 0.4200, 1.0879, 0.2133)\n",
    "\n",
    "# a51-a56 of Y\n",
    "a_51, a_52, a_53, a_54, a_55, a_56 = (0.2096, -1.2256, 0.2133, -1.0879, 0.2770, 2.3681)\n",
    "\n",
    "# a61-a66 of Y\n",
    "a_61, a_62, a_63, a_64, a_65, a_66 = (1.2256, 0.2096, 1.0879, 0.2133, -2.3681, 0.2770)"
   ]
  },
  {
   "cell_type": "code",
   "execution_count": 7,
   "metadata": {},
   "outputs": [],
   "source": [
    "cos = np.cos\n",
    "sin = np.sin"
   ]
  },
  {
   "cell_type": "code",
   "execution_count": 8,
   "metadata": {},
   "outputs": [],
   "source": [
    "def f1(del1,del2,del3):\n",
    "   return (-R_a1*(a_11*e_q_p1*cos(del1) + a_12*e_q_p1*sin(del1) + a_13*e_q_p2*cos(del2) + a_14*e_q_p2*sin(del2) \n",
    "            + a_15*e_q_p3*cos(del3) + a_16*e_q_p3*sin(del3)) + X_d_p1*(a_21*e_q_p1*cos(del1) + a_22*e_q_p1*sin(del1) \n",
    "            + a_23*e_q_p2*cos(del2) + a_24*e_q_p2*sin(del2) + a_25*e_q_p3*cos(del3) + a_26*e_q_p3*sin(del3)) \n",
    "            + e_q_p1*cos(del1))*(a_11*e_q_p1*cos(del1) + a_12*e_q_p1*sin(del1) + a_13*e_q_p2*cos(del2) + a_14*e_q_p2*sin(del2) \n",
    "            + a_15*e_q_p3*cos(del3) + a_16*e_q_p3*sin(del3)) + (-R_a1*(a_21*e_q_p1*cos(del1) + a_22*e_q_p1*sin(del1) \n",
    "            + a_23*e_q_p2*cos(del2) + a_24*e_q_p2*sin(del2) + a_25*e_q_p3*cos(del3) + a_26*e_q_p3*sin(del3)) \n",
    "            - X_d_p1*(a_11*e_q_p1*cos(del1) + a_12*e_q_p1*sin(del1) + a_13*e_q_p2*cos(del2) + a_14*e_q_p2*sin(del2) \n",
    "            + a_15*e_q_p3*cos(del3) + a_16*e_q_p3*sin(del3)) + e_q_p1*sin(del1))*(a_21*e_q_p1*cos(del1) + a_22*e_q_p1*sin(del1) \n",
    "            + a_23*e_q_p2*cos(del2) + a_24*e_q_p2*sin(del2) + a_25*e_q_p3*cos(del3) + a_26*e_q_p3*sin(del3))\n",
    "\n",
    "def f2(del1,del2,del3):\n",
    "   return (-R_a2*(a_31*e_q_p1*cos(del1) + a_32*e_q_p1*sin(del1) + a_33*e_q_p2*cos(del2) + a_34*e_q_p2*sin(del2) \n",
    "            + a_35*e_q_p3*cos(del3) + a_36*e_q_p3*sin(del3)) + X_d_p2*(a_41*e_q_p1*cos(del1) + a_42*e_q_p1*sin(del1) \n",
    "            + a_43*e_q_p2*cos(del2) + a_44*e_q_p2*sin(del2) + a_45*e_q_p3*cos(del3) + a_46*e_q_p3*sin(del3)) \n",
    "            + e_q_p2*cos(del2))*(a_31*e_q_p1*cos(del1) + a_32*e_q_p1*sin(del1) + a_33*e_q_p2*cos(del2) + a_34*e_q_p2*sin(del2) \n",
    "            + a_35*e_q_p3*cos(del3) + a_36*e_q_p3*sin(del3)) + (-R_a2*(a_41*e_q_p1*cos(del1) + a_42*e_q_p1*sin(del1) \n",
    "            + a_43*e_q_p2*cos(del2) + a_44*e_q_p2*sin(del2) + a_45*e_q_p3*cos(del3) + a_46*e_q_p3*sin(del3)) \n",
    "            - X_d_p2*(a_31*e_q_p1*cos(del1) + a_32*e_q_p1*sin(del1) + a_33*e_q_p2*cos(del2) + a_34*e_q_p2*sin(del2) \n",
    "            + a_35*e_q_p3*cos(del3) + a_36*e_q_p3*sin(del3)) + e_q_p2*sin(del2))*(a_41*e_q_p1*cos(del1) + a_42*e_q_p1*sin(del1) \n",
    "            + a_43*e_q_p2*cos(del2) + a_44*e_q_p2*sin(del2) + a_45*e_q_p3*cos(del3) + a_46*e_q_p3*sin(del3))\n",
    "\n",
    "def f3(del1,del2,del3):\n",
    "    return (-R_a3*(a_51*e_q_p1*cos(del1) + a_52*e_q_p1*sin(del1) + a_53*e_q_p2*cos(del2) + a_54*e_q_p2*sin(del2) \n",
    "            + a_55*e_q_p3*cos(del3) + a_56*e_q_p3*sin(del3)) + X_d_p3*(a_61*e_q_p1*cos(del1) + a_62*e_q_p1*sin(del1) \n",
    "            + a_63*e_q_p2*cos(del2) + a_64*e_q_p2*sin(del2) + a_65*e_q_p3*cos(del3) + a_66*e_q_p3*sin(del3)) \n",
    "            + e_q_p3*cos(del3))*(a_51*e_q_p1*cos(del1) + a_52*e_q_p1*sin(del1) + a_53*e_q_p2*cos(del2) + a_54*e_q_p2*sin(del2) \n",
    "            + a_55*e_q_p3*cos(del3) + a_56*e_q_p3*sin(del3)) + (-R_a3*(a_61*e_q_p1*cos(del1) + a_62*e_q_p1*sin(del1) \n",
    "            + a_63*e_q_p2*cos(del2) + a_64*e_q_p2*sin(del2) + a_65*e_q_p3*cos(del3) + a_66*e_q_p3*sin(del3)) \n",
    "            - X_d_p3*(a_51*e_q_p1*cos(del1) + a_52*e_q_p1*sin(del1) + a_53*e_q_p2*cos(del2) + a_54*e_q_p2*sin(del2) \n",
    "            + a_55*e_q_p3*cos(del3) + a_56*e_q_p3*sin(del3)) + e_q_p3*sin(del3))*(a_61*e_q_p1*cos(del1) + a_62*e_q_p1*sin(del1) \n",
    "            + a_63*e_q_p2*cos(del2) + a_64*e_q_p2*sin(del2) + a_65*e_q_p3*cos(del3) + a_66*e_q_p3*sin(del3))"
   ]
  },
  {
   "cell_type": "code",
   "execution_count": 9,
   "metadata": {},
   "outputs": [],
   "source": [
    "def DE1(delta1,delta2,delta3,delta1_prime,delta1_double_prime):\n",
    "    right_hand = (Ws/2*H1)*(P_m1-f1(delta1,delta2,delta3)-D1*delta1_prime)\n",
    "    return delta1_double_prime - right_hand\n",
    "\n",
    "def DE2(delta1,delta2,delta3,delta2_prime,delta2_double_prime):\n",
    "    right_hand = (Ws/2*H2)*(P_m2-f2(delta1,delta2,delta3)-D2*delta2_prime)\n",
    "    return delta2_double_prime - right_hand\n",
    "\n",
    "def DE3(delta1,delta2,delta3,delta3_prime,delta3_double_prime):\n",
    "    right_hand = (Ws/2*H3)*(P_m3-f3(delta1,delta2,delta3)-D3*delta3_prime)\n",
    "    return delta3_double_prime - right_hand"
   ]
  },
  {
   "cell_type": "code",
   "execution_count": 10,
   "metadata": {},
   "outputs": [],
   "source": [
    "# # Boundary condition (f(x_0)=f_0)\n",
    "# x_0 = 0\n",
    "# f_0 = np.sin(0)"
   ]
  },
  {
   "cell_type": "code",
   "execution_count": 11,
   "metadata": {},
   "outputs": [],
   "source": [
    "# Modeling parameters\n",
    "n_grid = 10    # number of grid points of the discretized differential equation\n",
    "range_min = 0  # minimum of the interval on which we wish to approximate our function\n",
    "range_max = 0.2  # maximum of the interval on which we wish to approximate our function\n",
    "# X = np.linspace(range_min, range_max-range_min, n_grid)  # Optimisation grid\n",
    "t_data = np.linspace(range_min, range_max, n_grid)\n",
    "dt = t_data[1]-t_data[0]"
   ]
  },
  {
   "cell_type": "code",
   "execution_count": 12,
   "metadata": {},
   "outputs": [],
   "source": [
    "# Parameters of the quantum machine learning procedure\n",
    "N = nphotons              # Number of photons\n",
    "m = nphotons              # Number of modes\n",
    "eta = 5                   # weight granted to the initial condition\n",
    "a = 200                   # Approximate boundaries of the interval that the image of the trial function can cover\n",
    "fock_dim = comb(N + m - 1, N)\n",
    "# lambda coefficients for all the possible outputs\n",
    "lambda_random_1 = 2 * a * np.random.rand(fock_dim) - a\n",
    "lambda_random_2 = 2 * a * np.random.rand(fock_dim) - a\n",
    "lambda_random_3 = 2 * a * np.random.rand(fock_dim) - a\n",
    "\n",
    "# dx serves for the numerical differentiation of f\n",
    "# dx = (range_max-range_min) / (n_grid - 1)"
   ]
  },
  {
   "cell_type": "code",
   "execution_count": 13,
   "metadata": {},
   "outputs": [
    {
     "name": "stdout",
     "output_type": "stream",
     "text": [
      "|1,1,1,1>\n"
     ]
    }
   ],
   "source": [
    "# Input state with N photons and m modes\n",
    "input_state = pcvl.BasicState([1]*N+[0]*(m-N))\n",
    "print(input_state)"
   ]
  },
  {
   "cell_type": "code",
   "execution_count": 14,
   "metadata": {},
   "outputs": [
    {
     "data": {
      "text/plain": [
       "True"
      ]
     },
     "execution_count": 14,
     "metadata": {},
     "output_type": "execute_result"
    }
   ],
   "source": [
    "\n",
    "\"Haar unitary parameters\"\n",
    "# number of parameters used for the two universal interferometers (2*m**2 per interferometer)\n",
    "parameters = np.random.normal(size=3*4*m**2)\n",
    "\n",
    "px = pcvl.P(\"px\")\n",
    "\n",
    "# c1 = pcvl.Unitary(pcvl.Matrix.random_unitary(m, parameters[:2 * m ** 2]), name=\"W1_1\")\\\n",
    "#      // (0, pcvl.PS(px))\\\n",
    "#      // pcvl.Unitary(pcvl.Matrix.random_unitary(m, parameters[2 * m ** 2:4 * m ** 2]), name=\"W2_1\")\n",
    "\n",
    "# c2 = pcvl.Unitary(pcvl.Matrix.random_unitary(m, parameters[4 * m ** 2:6 * m ** 2]), name=\"W1_2\")\\\n",
    "#      // (0, pcvl.PS(px))\\\n",
    "#      // pcvl.Unitary(pcvl.Matrix.random_unitary(m, parameters[6 * m ** 2:8 * m ** 2]), name=\"W2_2\")\n",
    "\n",
    "# c3 = pcvl.Unitary(pcvl.Matrix.random_unitary(m, parameters[8 * m ** 2:10 * m ** 2]), name=\"W1_3\")\\\n",
    "#      // (0, pcvl.PS(px))\\\n",
    "#      // pcvl.Unitary(pcvl.Matrix.random_unitary(m, parameters[10 * m ** 2:12 * m ** 2]), name=\"W2_3\")\n",
    "\n",
    "\n",
    "backend1 = pcvl.BackendFactory().get_backend(\"SLOS\")\n",
    "backend1.set_circuit(pcvl.Unitary(pcvl.Matrix.random_unitary(m)))\n",
    "backend1.preprocess([input_state])\n",
    "\n",
    "backend2 = pcvl.BackendFactory().get_backend(\"SLOS\")\n",
    "backend2.set_circuit(pcvl.Unitary(pcvl.Matrix.random_unitary(m)))\n",
    "backend2.preprocess([input_state])\n",
    "\n",
    "backend3 = pcvl.BackendFactory().get_backend(\"SLOS\")\n",
    "backend3.set_circuit(pcvl.Unitary(pcvl.Matrix.random_unitary(m)))\n",
    "backend3.preprocess([input_state])\n",
    "\n",
    "# pcvl.pdisplay(c)"
   ]
  },
  {
   "cell_type": "code",
   "execution_count": null,
   "metadata": {},
   "outputs": [],
   "source": []
  },
  {
   "cell_type": "code",
   "execution_count": 15,
   "metadata": {},
   "outputs": [],
   "source": [
    "def computation(params):\n",
    "    global current_loss\n",
    "    global computation_count\n",
    "    \"compute the loss function of a given differential equation in order for it to be optimized\"\n",
    "    computation_count += 1\n",
    "\n",
    "    loss_i = 0 \n",
    "\n",
    "\n",
    "    coefs1 = lambda_random_1  # coefficients of the M observable 1\n",
    "    coefs2 = lambda_random_2  # coefficients of the M observable 2\n",
    "    coefs3 = lambda_random_3  # coefficients of the M observable 3\n",
    "\n",
    "    # initial condition with the two universal interferometers and the phase shift in the middle\n",
    "\n",
    "    U_1_1 = pcvl.Matrix.random_unitary(m, params[:2 * m ** 2])\n",
    "    U_2_1 = pcvl.Matrix.random_unitary(m, params[2 * m ** 2:4 * m ** 2])\n",
    "\n",
    "    U_1_2 = pcvl.Matrix.random_unitary(m, params[4 * m ** 2:6 * m ** 2])\n",
    "    U_2_2 = pcvl.Matrix.random_unitary(m, params[6 * m ** 2:8 * m ** 2])\n",
    "\n",
    "    U_1_3 = pcvl.Matrix.random_unitary(m, params[8 * m ** 2:10 * m ** 2])\n",
    "    U_2_3 = pcvl.Matrix.random_unitary(m, params[10 * m ** 2:12 * m ** 2])\n",
    "\n",
    "\n",
    "\n",
    "\n",
    "    px = pcvl.P(\"x\")\n",
    "    c1 = pcvl.Unitary(U_2_1) // (0, pcvl.PS(px)) // pcvl.Unitary(U_1_1)\n",
    "    c2 = pcvl.Unitary(U_2_2) // (0, pcvl.PS(px)) // pcvl.Unitary(U_1_2)\n",
    "    c3 = pcvl.Unitary(U_2_3) // (0, pcvl.PS(px)) // pcvl.Unitary(U_1_3)\n",
    "\n",
    "    # px.set_value(np.pi * range_min)\n",
    "    # # U = c.compute_unitary(use_symbolic=False)\n",
    "    # # backend.U = U\n",
    "\n",
    "    # backend1.set_circuit(c1)\n",
    "    # backend2.set_circuit(c2)\n",
    "    # backend3.set_circuit(c3)\n",
    "\n",
    "    # delta_0_1 = np.sum(np.multiply(backend1.all_prob(input_state), coefs1))\n",
    "    # delta_0_2 = np.sum(np.multiply(backend2.all_prob(input_state), coefs2))\n",
    "    # delta_0_3 = np.sum(np.multiply(backend3.all_prob(input_state), coefs3))\n",
    "\n",
    "\n",
    "    # loss=0\n",
    "\n",
    "\n",
    "    # Y[0] is before the domain we are interested in (used for differentiation), x_0 is at Y[1]\n",
    "    Y1 = np.zeros(n_grid + 2)\n",
    "    Y2 = np.zeros(n_grid + 2)\n",
    "    Y3 = np.zeros(n_grid + 2)\n",
    "\n",
    "    # x_0 is at the beginning of the domain, already calculated\n",
    "    Y1[1] = del1_val0\n",
    "    Y2[1] = del2_val0\n",
    "    Y3[1] = del3_val0\n",
    "\n",
    "    # px.set_value(np.pi * (range_min - dt)/range_max)\n",
    "    px.set_value(np.pi * (range_min - dt)/1)\n",
    "    # backend.U = c.compute_unitary(use_symbolic=False)\n",
    "    backend1.set_circuit(c1)\n",
    "    backend2.set_circuit(c2)\n",
    "    backend3.set_circuit(c3)\n",
    "    Y1[0] = np.sum(np.multiply(backend1.all_prob(input_state), coefs1))\n",
    "    Y2[0] = np.sum(np.multiply(backend2.all_prob(input_state), coefs2))\n",
    "    Y3[0] = np.sum(np.multiply(backend3.all_prob(input_state), coefs3))\n",
    "\n",
    "\n",
    "    for i in range(1, n_grid):\n",
    "        x = t_data[i]\n",
    "        # px.set_value(np.pi * x/range_max)\n",
    "        px.set_value(np.pi * x/1)\n",
    "        # backend.U = c.compute_unitary(use_symbolic=False)\n",
    "        backend1.set_circuit(c1)\n",
    "        backend2.set_circuit(c2)\n",
    "        backend3.set_circuit(c3)\n",
    "        Y1[i + 1] = np.sum(np.multiply(backend1.all_prob(input_state), coefs1))\n",
    "        Y2[i + 1] = np.sum(np.multiply(backend2.all_prob(input_state), coefs2))\n",
    "        Y3[i + 1] = np.sum(np.multiply(backend3.all_prob(input_state), coefs3))\n",
    "\n",
    "    px.set_value(np.pi * (range_max + dt)/1)\n",
    "    # backend.U = c.compute_unitary(use_symbolic=False)\n",
    "    backend1.set_circuit(c1)\n",
    "    backend2.set_circuit(c2)\n",
    "    backend3.set_circuit(c3)\n",
    "    Y1[n_grid + 1] = np.sum(np.multiply(backend1.all_prob(input_state), coefs1))\n",
    "    Y2[n_grid + 1] = np.sum(np.multiply(backend2.all_prob(input_state), coefs2))\n",
    "    Y3[n_grid + 1] = np.sum(np.multiply(backend3.all_prob(input_state), coefs3))\n",
    "\n",
    "\n",
    "    # Differentiation\n",
    "    Y_prime_1 = (Y1[2:] - Y1[:-2])/(2*dt)\n",
    "    Y_prime_2 = (Y2[2:] - Y2[:-2])/(2*dt)\n",
    "    Y_prime_3 = (Y3[2:] - Y3[:-2])/(2*dt)\n",
    "    omega_0_1 = (1/Ws)*Y_prime_1[0]+1\n",
    "    omega_0_2 = (1/Ws)*Y_prime_2[0]+1\n",
    "    omega_0_3 = (1/Ws)*Y_prime_3[0]+1\n",
    "\n",
    "    Y_zegond1 = (Y_prime_1[2:] - Y_prime_1[:-2])/(2*dt)\n",
    "    Y_zegond2 = (Y_prime_2[2:] - Y_prime_2[:-2])/(2*dt)\n",
    "    Y_zegond3 = (Y_prime_3[2:] - Y_prime_3[:-2])/(2*dt)\n",
    "\n",
    "    # print(Y1[2:-2])\n",
    "    # print(Y2[2:-2])\n",
    "    # print(Y3[2:-2])\n",
    "    # raise Exception\n",
    "\n",
    "    loss_i_DE1 = np.sum((DE1(delta1=Y1[2:-2],delta2=Y2[2:-2],delta3=Y3[2:-2],delta1_prime=Y_prime_1[1:-1],delta1_double_prime=Y_zegond1)**2))\n",
    "    loss_i_DE2 = np.sum((DE2(delta1=Y1[2:-2],delta2=Y2[2:-2],delta3=Y3[2:-2],delta2_prime=Y_prime_2[1:-1],delta2_double_prime=Y_zegond2)**2))\n",
    "    loss_i_DE3 = np.sum((DE3(delta1=Y1[2:-2],delta2=Y2[2:-2],delta3=Y3[2:-2],delta3_prime=Y_prime_3[1:-1],delta3_double_prime=Y_zegond3)**2))\n",
    "    loss_i = loss_i_DE1 + loss_i_DE2 + loss_i_DE3\n",
    "\n",
    "    loss_b = 0\n",
    "    loss_b += eta * (omega_0_1 - w1_val0) ** 2 * len(t_data)\n",
    "    loss_b += eta * (omega_0_2 - w2_val0) ** 2 * len(t_data)\n",
    "    loss_b += eta * (omega_0_3 - w3_val0) ** 2 * len(t_data)\n",
    "\n",
    "    # loss_b += eta * (delta_0_1 - del1_val0) ** 2 * len(t_data)\n",
    "    # loss_b += eta * (delta_0_2 - del2_val0) ** 2 * len(t_data)\n",
    "    # loss_b += eta * (delta_0_3 - del3_val0) ** 2 * len(t_data)\n",
    "\n",
    "    # loss = loss_i+loss_b\n",
    "\n",
    "    current_loss = (loss_i+loss_b) / len(t_data)\n",
    "    return current_loss"
   ]
  },
  {
   "cell_type": "code",
   "execution_count": 16,
   "metadata": {},
   "outputs": [
    {
     "name": "stdout",
     "output_type": "stream",
     "text": [
      "[3, 4, 5, 6, 7, 8]\n",
      "[1, 2, 3, 4, 5, 6]\n",
      "[3, 4, 5, 6]\n"
     ]
    }
   ],
   "source": [
    "a = [1,2,3,4,5,6,7,8]\n",
    "print(a[2:])\n",
    "print(a[:-2])\n",
    "print(a[2:-2])\n"
   ]
  },
  {
   "cell_type": "code",
   "execution_count": 17,
   "metadata": {},
   "outputs": [],
   "source": [
    "def callbackF(parameters):\n",
    "    \"\"\"callback function called by scipy.optimize.minimize allowing to monitor progress\"\"\"\n",
    "    global current_loss\n",
    "    global computation_count\n",
    "    global loss_evolution\n",
    "    global start_time\n",
    "    global best_param\n",
    "\n",
    "    now = time.time()\n",
    "    pbar.set_description(\"M= %d Loss: %0.5f #computations: %d elapsed: %0.5f\" %\n",
    "                         (m, current_loss, computation_count, now-start_time))\n",
    "    pbar.update(1)\n",
    "    loss_evolution.append((current_loss, now-start_time))\n",
    "    computation_count = 0\n",
    "    start_time = now\n",
    "    best_param = parameters"
   ]
  },
  {
   "cell_type": "code",
   "execution_count": 18,
   "metadata": {},
   "outputs": [],
   "source": [
    "\n",
    "# best_param = np.load('seed=8468 n_photon=4.npy')\n"
   ]
  },
  {
   "cell_type": "code",
   "execution_count": 19,
   "metadata": {},
   "outputs": [
    {
     "name": "stderr",
     "output_type": "stream",
     "text": [
      "0it [00:00, ?it/s]"
     ]
    },
    {
     "name": "stderr",
     "output_type": "stream",
     "text": [
      "M= 4 Loss: 358450539.61526 #computations: 193 elapsed: 1.42742: : 63it [02:11,  1.63s/it]     "
     ]
    },
    {
     "ename": "KeyboardInterrupt",
     "evalue": "",
     "output_type": "error",
     "traceback": [
      "\u001b[1;31m---------------------------------------------------------------------------\u001b[0m",
      "\u001b[1;31mKeyboardInterrupt\u001b[0m                         Traceback (most recent call last)",
      "\u001b[1;32mc:\\Git repo\\DE_Solver_PowerSeriers\\photonic 3 machine\\photonic_3machine_try1_del0 0-0.2.ipynb Cell 20\u001b[0m line \u001b[0;36m7\n\u001b[0;32m      <a href='vscode-notebook-cell:/c%3A/Git%20repo/DE_Solver_PowerSeriers/photonic%203%20machine/photonic_3machine_try1_del0%200-0.2.ipynb#X25sZmlsZQ%3D%3D?line=3'>4</a>\u001b[0m loss_evolution \u001b[39m=\u001b[39m []\n\u001b[0;32m      <a href='vscode-notebook-cell:/c%3A/Git%20repo/DE_Solver_PowerSeriers/photonic%203%20machine/photonic_3machine_try1_del0%200-0.2.ipynb#X25sZmlsZQ%3D%3D?line=5'>6</a>\u001b[0m pbar \u001b[39m=\u001b[39m tqdm\u001b[39m.\u001b[39mtqdm()\n\u001b[1;32m----> <a href='vscode-notebook-cell:/c%3A/Git%20repo/DE_Solver_PowerSeriers/photonic%203%20machine/photonic_3machine_try1_del0%200-0.2.ipynb#X25sZmlsZQ%3D%3D?line=6'>7</a>\u001b[0m res \u001b[39m=\u001b[39m minimize(computation, parameters, callback\u001b[39m=\u001b[39;49mcallbackF, method\u001b[39m=\u001b[39;49m\u001b[39m'\u001b[39;49m\u001b[39mBFGS\u001b[39;49m\u001b[39m'\u001b[39;49m, options\u001b[39m=\u001b[39;49m{\u001b[39m'\u001b[39;49m\u001b[39mgtol\u001b[39;49m\u001b[39m'\u001b[39;49m: \u001b[39m1E-2\u001b[39;49m})\n",
      "File \u001b[1;32mc:\\Users\\acade\\anaconda3\\envs\\new_perceval\\lib\\site-packages\\scipy\\optimize\\_minimize.py:705\u001b[0m, in \u001b[0;36mminimize\u001b[1;34m(fun, x0, args, method, jac, hess, hessp, bounds, constraints, tol, callback, options)\u001b[0m\n\u001b[0;32m    703\u001b[0m     res \u001b[39m=\u001b[39m _minimize_cg(fun, x0, args, jac, callback, \u001b[39m*\u001b[39m\u001b[39m*\u001b[39moptions)\n\u001b[0;32m    704\u001b[0m \u001b[39melif\u001b[39;00m meth \u001b[39m==\u001b[39m \u001b[39m'\u001b[39m\u001b[39mbfgs\u001b[39m\u001b[39m'\u001b[39m:\n\u001b[1;32m--> 705\u001b[0m     res \u001b[39m=\u001b[39m _minimize_bfgs(fun, x0, args, jac, callback, \u001b[39m*\u001b[39m\u001b[39m*\u001b[39moptions)\n\u001b[0;32m    706\u001b[0m \u001b[39melif\u001b[39;00m meth \u001b[39m==\u001b[39m \u001b[39m'\u001b[39m\u001b[39mnewton-cg\u001b[39m\u001b[39m'\u001b[39m:\n\u001b[0;32m    707\u001b[0m     res \u001b[39m=\u001b[39m _minimize_newtoncg(fun, x0, args, jac, hess, hessp, callback,\n\u001b[0;32m    708\u001b[0m                              \u001b[39m*\u001b[39m\u001b[39m*\u001b[39moptions)\n",
      "File \u001b[1;32mc:\\Users\\acade\\anaconda3\\envs\\new_perceval\\lib\\site-packages\\scipy\\optimize\\_optimize.py:1445\u001b[0m, in \u001b[0;36m_minimize_bfgs\u001b[1;34m(fun, x0, args, jac, callback, gtol, norm, eps, maxiter, disp, return_all, finite_diff_rel_step, xrtol, **unknown_options)\u001b[0m\n\u001b[0;32m   1442\u001b[0m pk \u001b[39m=\u001b[39m \u001b[39m-\u001b[39mnp\u001b[39m.\u001b[39mdot(Hk, gfk)\n\u001b[0;32m   1443\u001b[0m \u001b[39mtry\u001b[39;00m:\n\u001b[0;32m   1444\u001b[0m     alpha_k, fc, gc, old_fval, old_old_fval, gfkp1 \u001b[39m=\u001b[39m \\\n\u001b[1;32m-> 1445\u001b[0m              _line_search_wolfe12(f, myfprime, xk, pk, gfk,\n\u001b[0;32m   1446\u001b[0m                                   old_fval, old_old_fval, amin\u001b[39m=\u001b[39;49m\u001b[39m1e-100\u001b[39;49m, amax\u001b[39m=\u001b[39;49m\u001b[39m1e100\u001b[39;49m)\n\u001b[0;32m   1447\u001b[0m \u001b[39mexcept\u001b[39;00m _LineSearchError:\n\u001b[0;32m   1448\u001b[0m     \u001b[39m# Line search failed to find a better solution.\u001b[39;00m\n\u001b[0;32m   1449\u001b[0m     warnflag \u001b[39m=\u001b[39m \u001b[39m2\u001b[39m\n",
      "File \u001b[1;32mc:\\Users\\acade\\anaconda3\\envs\\new_perceval\\lib\\site-packages\\scipy\\optimize\\_optimize.py:1215\u001b[0m, in \u001b[0;36m_line_search_wolfe12\u001b[1;34m(f, fprime, xk, pk, gfk, old_fval, old_old_fval, **kwargs)\u001b[0m\n\u001b[0;32m   1201\u001b[0m \u001b[39m\u001b[39m\u001b[39m\"\"\"\u001b[39;00m\n\u001b[0;32m   1202\u001b[0m \u001b[39mSame as line_search_wolfe1, but fall back to line_search_wolfe2 if\u001b[39;00m\n\u001b[0;32m   1203\u001b[0m \u001b[39msuitable step length is not found, and raise an exception if a\u001b[39;00m\n\u001b[1;32m   (...)\u001b[0m\n\u001b[0;32m   1210\u001b[0m \n\u001b[0;32m   1211\u001b[0m \u001b[39m\"\"\"\u001b[39;00m\n\u001b[0;32m   1213\u001b[0m extra_condition \u001b[39m=\u001b[39m kwargs\u001b[39m.\u001b[39mpop(\u001b[39m'\u001b[39m\u001b[39mextra_condition\u001b[39m\u001b[39m'\u001b[39m, \u001b[39mNone\u001b[39;00m)\n\u001b[1;32m-> 1215\u001b[0m ret \u001b[39m=\u001b[39m line_search_wolfe1(f, fprime, xk, pk, gfk,\n\u001b[0;32m   1216\u001b[0m                          old_fval, old_old_fval,\n\u001b[0;32m   1217\u001b[0m                          \u001b[39m*\u001b[39m\u001b[39m*\u001b[39mkwargs)\n\u001b[0;32m   1219\u001b[0m \u001b[39mif\u001b[39;00m ret[\u001b[39m0\u001b[39m] \u001b[39mis\u001b[39;00m \u001b[39mnot\u001b[39;00m \u001b[39mNone\u001b[39;00m \u001b[39mand\u001b[39;00m extra_condition \u001b[39mis\u001b[39;00m \u001b[39mnot\u001b[39;00m \u001b[39mNone\u001b[39;00m:\n\u001b[0;32m   1220\u001b[0m     xp1 \u001b[39m=\u001b[39m xk \u001b[39m+\u001b[39m ret[\u001b[39m0\u001b[39m] \u001b[39m*\u001b[39m pk\n",
      "File \u001b[1;32mc:\\Users\\acade\\anaconda3\\envs\\new_perceval\\lib\\site-packages\\scipy\\optimize\\_linesearch.py:84\u001b[0m, in \u001b[0;36mline_search_wolfe1\u001b[1;34m(f, fprime, xk, pk, gfk, old_fval, old_old_fval, args, c1, c2, amax, amin, xtol)\u001b[0m\n\u001b[0;32m     80\u001b[0m     \u001b[39mreturn\u001b[39;00m np\u001b[39m.\u001b[39mdot(gval[\u001b[39m0\u001b[39m], pk)\n\u001b[0;32m     82\u001b[0m derphi0 \u001b[39m=\u001b[39m np\u001b[39m.\u001b[39mdot(gfk, pk)\n\u001b[1;32m---> 84\u001b[0m stp, fval, old_fval \u001b[39m=\u001b[39m scalar_search_wolfe1(\n\u001b[0;32m     85\u001b[0m         phi, derphi, old_fval, old_old_fval, derphi0,\n\u001b[0;32m     86\u001b[0m         c1\u001b[39m=\u001b[39;49mc1, c2\u001b[39m=\u001b[39;49mc2, amax\u001b[39m=\u001b[39;49mamax, amin\u001b[39m=\u001b[39;49mamin, xtol\u001b[39m=\u001b[39;49mxtol)\n\u001b[0;32m     88\u001b[0m \u001b[39mreturn\u001b[39;00m stp, fc[\u001b[39m0\u001b[39m], gc[\u001b[39m0\u001b[39m], fval, old_fval, gval[\u001b[39m0\u001b[39m]\n",
      "File \u001b[1;32mc:\\Users\\acade\\anaconda3\\envs\\new_perceval\\lib\\site-packages\\scipy\\optimize\\_linesearch.py:161\u001b[0m, in \u001b[0;36mscalar_search_wolfe1\u001b[1;34m(phi, derphi, phi0, old_phi0, derphi0, c1, c2, amax, amin, xtol)\u001b[0m\n\u001b[0;32m    159\u001b[0m     alpha1 \u001b[39m=\u001b[39m stp\n\u001b[0;32m    160\u001b[0m     phi1 \u001b[39m=\u001b[39m phi(stp)\n\u001b[1;32m--> 161\u001b[0m     derphi1 \u001b[39m=\u001b[39m derphi(stp)\n\u001b[0;32m    162\u001b[0m \u001b[39melse\u001b[39;00m:\n\u001b[0;32m    163\u001b[0m     \u001b[39mbreak\u001b[39;00m\n",
      "File \u001b[1;32mc:\\Users\\acade\\anaconda3\\envs\\new_perceval\\lib\\site-packages\\scipy\\optimize\\_linesearch.py:78\u001b[0m, in \u001b[0;36mline_search_wolfe1.<locals>.derphi\u001b[1;34m(s)\u001b[0m\n\u001b[0;32m     77\u001b[0m \u001b[39mdef\u001b[39;00m \u001b[39mderphi\u001b[39m(s):\n\u001b[1;32m---> 78\u001b[0m     gval[\u001b[39m0\u001b[39m] \u001b[39m=\u001b[39m fprime(xk \u001b[39m+\u001b[39;49m s\u001b[39m*\u001b[39;49mpk, \u001b[39m*\u001b[39;49margs)\n\u001b[0;32m     79\u001b[0m     gc[\u001b[39m0\u001b[39m] \u001b[39m+\u001b[39m\u001b[39m=\u001b[39m \u001b[39m1\u001b[39m\n\u001b[0;32m     80\u001b[0m     \u001b[39mreturn\u001b[39;00m np\u001b[39m.\u001b[39mdot(gval[\u001b[39m0\u001b[39m], pk)\n",
      "File \u001b[1;32mc:\\Users\\acade\\anaconda3\\envs\\new_perceval\\lib\\site-packages\\scipy\\optimize\\_differentiable_functions.py:273\u001b[0m, in \u001b[0;36mScalarFunction.grad\u001b[1;34m(self, x)\u001b[0m\n\u001b[0;32m    271\u001b[0m \u001b[39mif\u001b[39;00m \u001b[39mnot\u001b[39;00m np\u001b[39m.\u001b[39marray_equal(x, \u001b[39mself\u001b[39m\u001b[39m.\u001b[39mx):\n\u001b[0;32m    272\u001b[0m     \u001b[39mself\u001b[39m\u001b[39m.\u001b[39m_update_x_impl(x)\n\u001b[1;32m--> 273\u001b[0m \u001b[39mself\u001b[39;49m\u001b[39m.\u001b[39;49m_update_grad()\n\u001b[0;32m    274\u001b[0m \u001b[39mreturn\u001b[39;00m \u001b[39mself\u001b[39m\u001b[39m.\u001b[39mg\n",
      "File \u001b[1;32mc:\\Users\\acade\\anaconda3\\envs\\new_perceval\\lib\\site-packages\\scipy\\optimize\\_differentiable_functions.py:256\u001b[0m, in \u001b[0;36mScalarFunction._update_grad\u001b[1;34m(self)\u001b[0m\n\u001b[0;32m    254\u001b[0m \u001b[39mdef\u001b[39;00m \u001b[39m_update_grad\u001b[39m(\u001b[39mself\u001b[39m):\n\u001b[0;32m    255\u001b[0m     \u001b[39mif\u001b[39;00m \u001b[39mnot\u001b[39;00m \u001b[39mself\u001b[39m\u001b[39m.\u001b[39mg_updated:\n\u001b[1;32m--> 256\u001b[0m         \u001b[39mself\u001b[39;49m\u001b[39m.\u001b[39;49m_update_grad_impl()\n\u001b[0;32m    257\u001b[0m         \u001b[39mself\u001b[39m\u001b[39m.\u001b[39mg_updated \u001b[39m=\u001b[39m \u001b[39mTrue\u001b[39;00m\n",
      "File \u001b[1;32mc:\\Users\\acade\\anaconda3\\envs\\new_perceval\\lib\\site-packages\\scipy\\optimize\\_differentiable_functions.py:173\u001b[0m, in \u001b[0;36mScalarFunction.__init__.<locals>.update_grad\u001b[1;34m()\u001b[0m\n\u001b[0;32m    171\u001b[0m \u001b[39mself\u001b[39m\u001b[39m.\u001b[39m_update_fun()\n\u001b[0;32m    172\u001b[0m \u001b[39mself\u001b[39m\u001b[39m.\u001b[39mngev \u001b[39m+\u001b[39m\u001b[39m=\u001b[39m \u001b[39m1\u001b[39m\n\u001b[1;32m--> 173\u001b[0m \u001b[39mself\u001b[39m\u001b[39m.\u001b[39mg \u001b[39m=\u001b[39m approx_derivative(fun_wrapped, \u001b[39mself\u001b[39m\u001b[39m.\u001b[39mx, f0\u001b[39m=\u001b[39m\u001b[39mself\u001b[39m\u001b[39m.\u001b[39mf,\n\u001b[0;32m    174\u001b[0m                            \u001b[39m*\u001b[39m\u001b[39m*\u001b[39mfinite_diff_options)\n",
      "File \u001b[1;32mc:\\Users\\acade\\anaconda3\\envs\\new_perceval\\lib\\site-packages\\scipy\\optimize\\_numdiff.py:505\u001b[0m, in \u001b[0;36mapprox_derivative\u001b[1;34m(fun, x0, method, rel_step, abs_step, f0, bounds, sparsity, as_linear_operator, args, kwargs)\u001b[0m\n\u001b[0;32m    502\u001b[0m     use_one_sided \u001b[39m=\u001b[39m \u001b[39mFalse\u001b[39;00m\n\u001b[0;32m    504\u001b[0m \u001b[39mif\u001b[39;00m sparsity \u001b[39mis\u001b[39;00m \u001b[39mNone\u001b[39;00m:\n\u001b[1;32m--> 505\u001b[0m     \u001b[39mreturn\u001b[39;00m _dense_difference(fun_wrapped, x0, f0, h,\n\u001b[0;32m    506\u001b[0m                              use_one_sided, method)\n\u001b[0;32m    507\u001b[0m \u001b[39melse\u001b[39;00m:\n\u001b[0;32m    508\u001b[0m     \u001b[39mif\u001b[39;00m \u001b[39mnot\u001b[39;00m issparse(sparsity) \u001b[39mand\u001b[39;00m \u001b[39mlen\u001b[39m(sparsity) \u001b[39m==\u001b[39m \u001b[39m2\u001b[39m:\n",
      "File \u001b[1;32mc:\\Users\\acade\\anaconda3\\envs\\new_perceval\\lib\\site-packages\\scipy\\optimize\\_numdiff.py:576\u001b[0m, in \u001b[0;36m_dense_difference\u001b[1;34m(fun, x0, f0, h, use_one_sided, method)\u001b[0m\n\u001b[0;32m    574\u001b[0m     x \u001b[39m=\u001b[39m x0 \u001b[39m+\u001b[39m h_vecs[i]\n\u001b[0;32m    575\u001b[0m     dx \u001b[39m=\u001b[39m x[i] \u001b[39m-\u001b[39m x0[i]  \u001b[39m# Recompute dx as exactly representable number.\u001b[39;00m\n\u001b[1;32m--> 576\u001b[0m     df \u001b[39m=\u001b[39m fun(x) \u001b[39m-\u001b[39m f0\n\u001b[0;32m    577\u001b[0m \u001b[39melif\u001b[39;00m method \u001b[39m==\u001b[39m \u001b[39m'\u001b[39m\u001b[39m3-point\u001b[39m\u001b[39m'\u001b[39m \u001b[39mand\u001b[39;00m use_one_sided[i]:\n\u001b[0;32m    578\u001b[0m     x1 \u001b[39m=\u001b[39m x0 \u001b[39m+\u001b[39m h_vecs[i]\n",
      "File \u001b[1;32mc:\\Users\\acade\\anaconda3\\envs\\new_perceval\\lib\\site-packages\\scipy\\optimize\\_numdiff.py:456\u001b[0m, in \u001b[0;36mapprox_derivative.<locals>.fun_wrapped\u001b[1;34m(x)\u001b[0m\n\u001b[0;32m    455\u001b[0m \u001b[39mdef\u001b[39;00m \u001b[39mfun_wrapped\u001b[39m(x):\n\u001b[1;32m--> 456\u001b[0m     f \u001b[39m=\u001b[39m np\u001b[39m.\u001b[39matleast_1d(fun(x, \u001b[39m*\u001b[39margs, \u001b[39m*\u001b[39m\u001b[39m*\u001b[39mkwargs))\n\u001b[0;32m    457\u001b[0m     \u001b[39mif\u001b[39;00m f\u001b[39m.\u001b[39mndim \u001b[39m>\u001b[39m \u001b[39m1\u001b[39m:\n\u001b[0;32m    458\u001b[0m         \u001b[39mraise\u001b[39;00m \u001b[39mRuntimeError\u001b[39;00m(\u001b[39m\"\u001b[39m\u001b[39m`fun` return value has \u001b[39m\u001b[39m\"\u001b[39m\n\u001b[0;32m    459\u001b[0m                            \u001b[39m\"\u001b[39m\u001b[39mmore than 1 dimension.\u001b[39m\u001b[39m\"\u001b[39m)\n",
      "File \u001b[1;32mc:\\Users\\acade\\anaconda3\\envs\\new_perceval\\lib\\site-packages\\scipy\\optimize\\_differentiable_functions.py:137\u001b[0m, in \u001b[0;36mScalarFunction.__init__.<locals>.fun_wrapped\u001b[1;34m(x)\u001b[0m\n\u001b[0;32m    133\u001b[0m \u001b[39mself\u001b[39m\u001b[39m.\u001b[39mnfev \u001b[39m+\u001b[39m\u001b[39m=\u001b[39m \u001b[39m1\u001b[39m\n\u001b[0;32m    134\u001b[0m \u001b[39m# Send a copy because the user may overwrite it.\u001b[39;00m\n\u001b[0;32m    135\u001b[0m \u001b[39m# Overwriting results in undefined behaviour because\u001b[39;00m\n\u001b[0;32m    136\u001b[0m \u001b[39m# fun(self.x) will change self.x, with the two no longer linked.\u001b[39;00m\n\u001b[1;32m--> 137\u001b[0m fx \u001b[39m=\u001b[39m fun(np\u001b[39m.\u001b[39;49mcopy(x), \u001b[39m*\u001b[39;49margs)\n\u001b[0;32m    138\u001b[0m \u001b[39m# Make sure the function returns a true scalar\u001b[39;00m\n\u001b[0;32m    139\u001b[0m \u001b[39mif\u001b[39;00m \u001b[39mnot\u001b[39;00m np\u001b[39m.\u001b[39misscalar(fx):\n",
      "\u001b[1;32mc:\\Git repo\\DE_Solver_PowerSeriers\\photonic 3 machine\\photonic_3machine_try1_del0 0-0.2.ipynb Cell 20\u001b[0m line \u001b[0;36m6\n\u001b[0;32m     <a href='vscode-notebook-cell:/c%3A/Git%20repo/DE_Solver_PowerSeriers/photonic%203%20machine/photonic_3machine_try1_del0%200-0.2.ipynb#X25sZmlsZQ%3D%3D?line=59'>60</a>\u001b[0m px\u001b[39m.\u001b[39mset_value(np\u001b[39m.\u001b[39mpi \u001b[39m*\u001b[39m (range_min \u001b[39m-\u001b[39m dt)\u001b[39m/\u001b[39m\u001b[39m1\u001b[39m)\n\u001b[0;32m     <a href='vscode-notebook-cell:/c%3A/Git%20repo/DE_Solver_PowerSeriers/photonic%203%20machine/photonic_3machine_try1_del0%200-0.2.ipynb#X25sZmlsZQ%3D%3D?line=60'>61</a>\u001b[0m \u001b[39m# backend.U = c.compute_unitary(use_symbolic=False)\u001b[39;00m\n\u001b[1;32m---> <a href='vscode-notebook-cell:/c%3A/Git%20repo/DE_Solver_PowerSeriers/photonic%203%20machine/photonic_3machine_try1_del0%200-0.2.ipynb#X25sZmlsZQ%3D%3D?line=61'>62</a>\u001b[0m backend1\u001b[39m.\u001b[39;49mset_circuit(c1)\n\u001b[0;32m     <a href='vscode-notebook-cell:/c%3A/Git%20repo/DE_Solver_PowerSeriers/photonic%203%20machine/photonic_3machine_try1_del0%200-0.2.ipynb#X25sZmlsZQ%3D%3D?line=62'>63</a>\u001b[0m backend2\u001b[39m.\u001b[39mset_circuit(c2)\n\u001b[0;32m     <a href='vscode-notebook-cell:/c%3A/Git%20repo/DE_Solver_PowerSeriers/photonic%203%20machine/photonic_3machine_try1_del0%200-0.2.ipynb#X25sZmlsZQ%3D%3D?line=63'>64</a>\u001b[0m backend3\u001b[39m.\u001b[39mset_circuit(c3)\n",
      "File \u001b[1;32mc:\\Users\\acade\\anaconda3\\envs\\new_perceval\\lib\\site-packages\\perceval\\backends\\_slos.py:136\u001b[0m, in \u001b[0;36mSLOSBackend.set_circuit\u001b[1;34m(self, circuit)\u001b[0m\n\u001b[0;32m    134\u001b[0m \u001b[39mself\u001b[39m\u001b[39m.\u001b[39m_input_state \u001b[39m=\u001b[39m \u001b[39mNone\u001b[39;00m\n\u001b[0;32m    135\u001b[0m \u001b[39mself\u001b[39m\u001b[39m.\u001b[39m_circuit \u001b[39m=\u001b[39m circuit\n\u001b[1;32m--> 136\u001b[0m \u001b[39mself\u001b[39m\u001b[39m.\u001b[39m_umat \u001b[39m=\u001b[39m circuit\u001b[39m.\u001b[39;49mcompute_unitary(use_symbolic\u001b[39m=\u001b[39;49m\u001b[39mself\u001b[39;49m\u001b[39m.\u001b[39;49m_symb)\n\u001b[0;32m    137\u001b[0m \u001b[39mif\u001b[39;00m \u001b[39mself\u001b[39m\u001b[39m.\u001b[39m_path_roots \u001b[39mand\u001b[39;00m previous_circuit\u001b[39m.\u001b[39mm \u001b[39m==\u001b[39m circuit\u001b[39m.\u001b[39mm:\n\u001b[0;32m    138\u001b[0m     \u001b[39m# Use the previously deployed paths to store the new circuit's coefs\u001b[39;00m\n\u001b[0;32m    139\u001b[0m     \u001b[39mself\u001b[39m\u001b[39m.\u001b[39m_compute_path(\u001b[39mself\u001b[39m\u001b[39m.\u001b[39m_umat)\n",
      "File \u001b[1;32mc:\\Users\\acade\\anaconda3\\envs\\new_perceval\\lib\\site-packages\\perceval\\components\\linear_circuit.py:469\u001b[0m, in \u001b[0;36mCircuit.compute_unitary\u001b[1;34m(self, use_symbolic, assign, use_polarization)\u001b[0m\n\u001b[0;32m    467\u001b[0m \u001b[39melif\u001b[39;00m \u001b[39mnot\u001b[39;00m use_polarization:\n\u001b[0;32m    468\u001b[0m     \u001b[39massert\u001b[39;00m \u001b[39mself\u001b[39m\u001b[39m.\u001b[39mrequires_polarization \u001b[39mis\u001b[39;00m \u001b[39mFalse\u001b[39;00m, \u001b[39m\"\u001b[39m\u001b[39mpolarized circuit cannot generates non-polarized unitary\u001b[39m\u001b[39m\"\u001b[39m\n\u001b[1;32m--> 469\u001b[0m u \u001b[39m=\u001b[39m \u001b[39mself\u001b[39;49m\u001b[39m.\u001b[39;49m_compute_circuit_unitary(use_symbolic, use_polarization)\n\u001b[0;32m    470\u001b[0m \u001b[39mif\u001b[39;00m u \u001b[39mis\u001b[39;00m \u001b[39mNone\u001b[39;00m:\n\u001b[0;32m    471\u001b[0m     u \u001b[39m=\u001b[39m Matrix\u001b[39m.\u001b[39meye(\u001b[39mself\u001b[39m\u001b[39m.\u001b[39m_m, use_symbolic\u001b[39m=\u001b[39muse_symbolic)\n",
      "File \u001b[1;32mc:\\Users\\acade\\anaconda3\\envs\\new_perceval\\lib\\site-packages\\perceval\\components\\linear_circuit.py:428\u001b[0m, in \u001b[0;36mCircuit._compute_circuit_unitary\u001b[1;34m(self, use_symbolic, use_polarization)\u001b[0m\n\u001b[0;32m    426\u001b[0m     nU[multiplier\u001b[39m*\u001b[39mr[\u001b[39m0\u001b[39m]:multiplier\u001b[39m*\u001b[39m(r[\u001b[39m-\u001b[39m\u001b[39m1\u001b[39m]\u001b[39m+\u001b[39m\u001b[39m1\u001b[39m), multiplier\u001b[39m*\u001b[39mr[\u001b[39m0\u001b[39m]:multiplier\u001b[39m*\u001b[39m(r[\u001b[39m-\u001b[39m\u001b[39m1\u001b[39m]\u001b[39m+\u001b[39m\u001b[39m1\u001b[39m)] \u001b[39m=\u001b[39m cU\n\u001b[0;32m    427\u001b[0m     cU \u001b[39m=\u001b[39m nU\n\u001b[1;32m--> 428\u001b[0m \u001b[39mif\u001b[39;00m u \u001b[39mis\u001b[39;49;00m \u001b[39mNone\u001b[39;49;00m:\n\u001b[0;32m    429\u001b[0m     u \u001b[39m=\u001b[39m cU\n\u001b[0;32m    430\u001b[0m \u001b[39melse\u001b[39;00m:\n",
      "\u001b[1;31mKeyboardInterrupt\u001b[0m: "
     ]
    }
   ],
   "source": [
    "computation_count = 0\n",
    "current_loss = 0\n",
    "start_time = time.time()\n",
    "loss_evolution = []\n",
    "\n",
    "pbar = tqdm.tqdm()\n",
    "res = minimize(computation, parameters, callback=callbackF, method='BFGS', options={'gtol': 1E-2})"
   ]
  },
  {
   "cell_type": "code",
   "execution_count": null,
   "metadata": {},
   "outputs": [],
   "source": [
    "# print(\"Unitary parameters\", res.x)\n",
    "print(\"Unitary parameters\", best_param)\n",
    "np.save('seed='+str(random_seed)+' n_photon='+str(nphotons)+'.npy', best_param)\n"
   ]
  },
  {
   "cell_type": "code",
   "execution_count": null,
   "metadata": {},
   "outputs": [],
   "source": [
    "def plot_solution(m, N, X, optim_params, lambda_random,label):\n",
    "    Y = []\n",
    "    U_1 = pcvl.Matrix.random_unitary(m, optim_params[:2 * m ** 2])\n",
    "    U_2 = pcvl.Matrix.random_unitary(m, optim_params[2 * m ** 2:])\n",
    "    px = pcvl.P(\"x\")\n",
    "    c = pcvl.Unitary(U_2) // (0, pcvl.PS(px)) // pcvl.Unitary(U_1)\n",
    "\n",
    "    for x in X:\n",
    "        px.set_value(np.pi * x/range_max)\n",
    "        # U = c.compute_unitary(use_symbolic=False)\n",
    "        # backend.U = U\n",
    "        backend.set_circuit(c)\n",
    "        f_theta = np.sum(np.multiply(backend.all_prob(input_state), lambda_random))\n",
    "        Y.append(f_theta)\n",
    "\n",
    "    \n",
    "    plt.plot(X, Y, label=label+\" Approximation with {} photons\".format(N))\n",
    "    return Y"
   ]
  },
  {
   "cell_type": "code",
   "execution_count": null,
   "metadata": {},
   "outputs": [],
   "source": [
    "def calculate_deltas(m, t, params):\n",
    "    Y1 = []\n",
    "    Y2 = []\n",
    "    Y3 = []\n",
    "    U_1_1 = pcvl.Matrix.random_unitary(m, params[:2 * m ** 2])\n",
    "    U_2_1 = pcvl.Matrix.random_unitary(m, params[2 * m ** 2:4 * m ** 2])\n",
    "\n",
    "    U_1_2 = pcvl.Matrix.random_unitary(m, params[4 * m ** 2:6 * m ** 2])\n",
    "    U_2_2 = pcvl.Matrix.random_unitary(m, params[6 * m ** 2:8 * m ** 2])\n",
    "\n",
    "    U_1_3 = pcvl.Matrix.random_unitary(m, params[8 * m ** 2:10 * m ** 2])\n",
    "    U_2_3 = pcvl.Matrix.random_unitary(m, params[10 * m ** 2:12 * m ** 2])\n",
    "    px = pcvl.P(\"x\")\n",
    "    c1 = pcvl.Unitary(U_2_1) // (0, pcvl.PS(px)) // pcvl.Unitary(U_1_1)\n",
    "    c2 = pcvl.Unitary(U_2_2) // (0, pcvl.PS(px)) // pcvl.Unitary(U_1_2)\n",
    "    c3 = pcvl.Unitary(U_2_3) // (0, pcvl.PS(px)) // pcvl.Unitary(U_1_3)\n",
    "\n",
    "  \n",
    "\n",
    "\n",
    "    for t in t:\n",
    "        # px.set_value(np.pi * t/range_max)\n",
    "        px.set_value(np.pi * t/1)\n",
    "        # U = c.compute_unitary(use_symbolic=False)\n",
    "        # backend.U = U\n",
    "        backend1.set_circuit(c1)\n",
    "        backend2.set_circuit(c2)\n",
    "        backend3.set_circuit(c3)\n",
    "        d1 = np.sum(np.multiply(backend1.all_prob(input_state), lambda_random_1))\n",
    "        d2 = np.sum(np.multiply(backend2.all_prob(input_state), lambda_random_2))\n",
    "        d3 = np.sum(np.multiply(backend3.all_prob(input_state), lambda_random_3))\n",
    "        Y1.append(d1)\n",
    "        Y2.append(d2)\n",
    "        Y3.append(d3)\n",
    "\n",
    "    \n",
    "    \n",
    "    # plt.plot(t Y, label=label+\" Approximation with {} photons\".format(N))\n",
    "    return Y1,Y2,Y3\n"
   ]
  },
  {
   "cell_type": "code",
   "execution_count": null,
   "metadata": {},
   "outputs": [],
   "source": [
    "del1_target_values=[0.0626, 0.06394953720748847, 0.06569858715713423, 0.06744244389809965, 0.06917493985888266, 0.07089600117637695, 0.0726056471914906, 0.07430390045064243, 0.0759907845405738, 0.07766632444992065]\n",
    "omega1_target_values=[1.0, 1.0002069924246, 1.0002088049028726, 1.0002074843265396, 1.0002061187357987, 1.000204754843149, 1.0002033935810348, 1.0002020350042453, 1.00020067936557, 1.0001993268474256]\n",
    "\n",
    "del2_target_values=[1.0567, 1.0546544667275142, 1.0519901861963084, 1.0493173304191084, 1.0466454552333528, 1.0439749894178083, 1.0413062204618804, 1.038639428349044, 1.0359748887572569, 1.0333128725781264]\n",
    "omega2_target_values=[1.0, 0.9996856425639036, 0.9996809513541733, 0.9996809963420219, 0.9996811466084681, 0.999681332251746, 0.9996815515716131, 0.9996818041713461, 0.9996820893345619, 0.9996824064336052]\n",
    "\n",
    "del3_target_values=[0.9449, 0.9409949885389632, 0.9359509313652853, 0.9309431320916126, 0.9259892325618977, 0.9210890966388376, 0.9162423146667987, 0.9114484672809254, 0.9067071331041561, 0.9020178871027813]\n",
    "omega3_target_values=[1.0, 0.9994018360090102, 0.999399096933448, 0.9994054478250824, 0.9994118884331064, 0.9994182819033591, 0.9994246255160472, 0.9994309193276854, 0.9994371623779974, 0.9994433541266963]"
   ]
  },
  {
   "cell_type": "code",
   "execution_count": null,
   "metadata": {},
   "outputs": [],
   "source": [
    "# plt.figure()\n",
    "\n",
    "# plt.scatter(t_data,y_delta_real,facecolors='none', edgecolors='r', label='True - del_t')\n",
    "# # plt.scatter(X,pred_train_X, color='red',marker=\"x\",s=4,label='Prediction - del_t')\n",
    "# plt.xlabel('t',fontsize=16)\n",
    "# plt.ylabel('del_t',fontsize=16)"
   ]
  },
  {
   "cell_type": "code",
   "execution_count": null,
   "metadata": {},
   "outputs": [],
   "source": [
    "import matplotlib.pyplot as plt\n",
    "delta_pred1,delta_pred2,delta_pred3 = calculate_deltas(m,t_data,best_param)\n",
    "print(delta_pred1)\n",
    "\n",
    "# delta1_omega1\n",
    "plt.figure(figsize=(8, 8))\n",
    "plt.subplot(2, 1, 1)\n",
    "plt.scatter(t_data, del1_target_values, label='Del1 target', alpha=0.5)\n",
    "# delta_pred1 = f(theta1,w1,t_data)\n",
    "plt.plot(t_data, delta_pred1, 'r', label='Del1')\n",
    "plt.xlabel('Time (t)')\n",
    "plt.ylabel('Values')\n",
    "plt.legend()\n",
    "plt.title('Fitting Data')\n",
    "\n",
    "\n",
    "\n",
    "plt.subplot(2, 1, 2)\n",
    "plt.scatter(t_data, omega1_target_values, label='Omega1 target', alpha=0.5)\n",
    "delta_pred1_prime = np.gradient(delta_pred1, t_data)\n",
    "omega_pred1 = (1/Ws)*delta_pred1_prime+1\n",
    "plt.plot(t_data, omega_pred1, 'r', label='Omega1')\n",
    "plt.xlabel('Time (t)')\n",
    "plt.ylabel('Values')\n",
    "plt.legend()\n",
    "plt.title('Fitting Data')\n",
    "\n",
    "\n",
    "\n",
    "\n",
    "# delta2_omega2\n",
    "plt.figure(figsize=(8, 8))\n",
    "plt.subplot(2, 1, 1)\n",
    "plt.scatter(t_data, del2_target_values, label='Del2 target', alpha=0.5)\n",
    "# delta_pred2 = f(theta2,w2,t_data)\n",
    "plt.plot(t_data, delta_pred2, 'r', label='Del2')\n",
    "plt.xlabel('Time (t)')\n",
    "plt.ylabel('Values')\n",
    "plt.legend()\n",
    "plt.title('Fitting Data')\n",
    "\n",
    "plt.subplot(2, 1, 2)\n",
    "plt.scatter(t_data, omega2_target_values, label='Omega2 target', alpha=0.5)\n",
    "delta_pred2_prime = np.gradient(delta_pred2, t_data)\n",
    "omega_pred2 = (1/Ws)*delta_pred2_prime+1\n",
    "plt.plot(t_data, omega_pred2, 'r', label='Omega2')\n",
    "plt.xlabel('Time (t)')\n",
    "plt.ylabel('Values')\n",
    "plt.legend()\n",
    "plt.title('Fitting Data')\n",
    "\n",
    "\n",
    "\n",
    "# delta3_omega3\n",
    "plt.figure(figsize=(8, 8))\n",
    "plt.subplot(2, 1, 1)\n",
    "plt.scatter(t_data, del3_target_values, label='Del3 target', alpha=0.5)\n",
    "# delta_pred3 = f(theta3,w3,t_data)\n",
    "plt.plot(t_data, delta_pred3, 'r', label='Del3')\n",
    "plt.xlabel('Time (t)')\n",
    "plt.ylabel('Values')\n",
    "plt.legend()\n",
    "plt.title('Fitting Data')\n",
    "\n",
    "plt.subplot(2, 1, 2)\n",
    "plt.scatter(t_data, omega3_target_values, label='Omega3 target', alpha=0.5)\n",
    "delta_pred3_prime = np.gradient(delta_pred3, t_data)\n",
    "omega_pred3 = (1/Ws)*delta_pred3_prime+1\n",
    "plt.plot(t_data, omega_pred3, 'r', label='Omega3')\n",
    "plt.xlabel('Time (t)')\n",
    "plt.ylabel('Values')\n",
    "plt.legend()\n",
    "plt.title('Fitting Data')"
   ]
  },
  {
   "cell_type": "code",
   "execution_count": null,
   "metadata": {},
   "outputs": [],
   "source": [
    "# # X = np.linspace(range_min, range_max, 50)\n",
    "\n",
    "# # Change the plot size\n",
    "# default_figsize = mpl.rcParamsDefault['figure.figsize']\n",
    "# mpl.rcParams['figure.figsize'] = [2 * value for value in default_figsize]\n",
    "\n",
    "# # delta_pred = plot_solution(m, N, X, res.x, lambda_random,'delta')\n",
    "# delta_pred = plot_solution(m, N, X, best_param, lambda_random,'delta')\n",
    "\n",
    "# plt.plot(X, y_delta_real, 'r', label='Analytical solution _delta')\n",
    "# plt.legend()\n",
    "\n",
    "# plt.figure()\n",
    "\n",
    "# delta_pred = np.array(delta_pred)\n",
    "# delta_prime = (delta_pred[2:] - delta_pred[:-2])/(2*dx)\n",
    "# omega = delta_prime+ws\n",
    "# plt.plot(X[1:-1], omega, 'b', label='prediction solution _omega')\n",
    "# plt.plot(X, y_omega_real, 'r', label='Analytical solution _omega')\n",
    "# # plt.legend()\n",
    "\n",
    "\n",
    "# plt.show()"
   ]
  },
  {
   "cell_type": "code",
   "execution_count": null,
   "metadata": {},
   "outputs": [],
   "source": [
    "\n",
    "plt.plot([v[0] for v in loss_evolution])\n",
    "plt.yscale(\"log\")\n",
    "plt.xlabel(\"Number of epochs\")\n",
    "plt.ylabel(\"Loss function value\")"
   ]
  }
 ],
 "metadata": {
  "kernelspec": {
   "display_name": "Python 3",
   "language": "python",
   "name": "python3"
  },
  "language_info": {
   "codemirror_mode": {
    "name": "ipython",
    "version": 3
   },
   "file_extension": ".py",
   "mimetype": "text/x-python",
   "name": "python",
   "nbconvert_exporter": "python",
   "pygments_lexer": "ipython3",
   "version": "3.10.12"
  },
  "orig_nbformat": 4
 },
 "nbformat": 4,
 "nbformat_minor": 2
}
