{
 "cells": [
  {
   "cell_type": "code",
   "execution_count": 11,
   "metadata": {},
   "outputs": [],
   "source": [
    "from math import pi\n",
    "import matplotlib.pyplot as plt\n",
    "from pennylane import numpy as np\n",
    "import pennylane as qml\n",
    "from pennylane.optimize import AdamOptimizer\n",
    "import datetime\n",
    "now=datetime.datetime.now"
   ]
  },
  {
   "cell_type": "code",
   "execution_count": 12,
   "metadata": {},
   "outputs": [],
   "source": [
    "num_qubits=1\n",
    "dev=qml.device('default.qubit', wires=num_qubits)\n",
    "seed = 40\n",
    "np.random.seed(seed)"
   ]
  },
  {
   "cell_type": "code",
   "execution_count": 13,
   "metadata": {},
   "outputs": [],
   "source": [
    "# t=np.random.uniform(0,1,size=50,requires_grad=False)\n",
    "t = [0.0, 0.02040816326530612, 0.04081632653061224, 0.061224489795918366, 0.08163265306122448, 0.10204081632653061, 0.12244897959183673, 0.14285714285714285, 0.16326530612244897, 0.1836734693877551, 0.20408163265306123, 0.22448979591836735, 0.24489795918367346, 0.2653061224489796, 0.2857142857142857, 0.30612244897959184, 0.32653061224489793, 0.3469387755102041, 0.3673469387755102, 0.3877551020408163, 0.40816326530612246, 0.42857142857142855, 0.4489795918367347, 0.46938775510204084, 0.4897959183673469, 0.5102040816326531, 0.5306122448979592, 0.5510204081632653, 0.5714285714285714, 0.5918367346938775, 0.6122448979591837, 0.6326530612244898, 0.6530612244897959, 0.673469387755102, 0.6938775510204082, 0.7142857142857143, 0.7346938775510204, 0.7551020408163265, 0.7755102040816326, 0.7959183673469388, 0.8163265306122449, 0.8367346938775511, 0.8571428571428571, 0.8775510204081632, 0.8979591836734694, 0.9183673469387755, 0.9387755102040817, 0.9591836734693877, 0.9795918367346939, 1.0]\n"
   ]
  },
  {
   "cell_type": "code",
   "execution_count": 14,
   "metadata": {},
   "outputs": [],
   "source": [
    "@qml.qnode(dev, diff_method=\"backprop\", interface=\"autograd\")\n",
    "def hepler(encoded_x,theta):\n",
    "    qml.QubitStateVector(encoded_x,wires=[0])\n",
    "    qml.RY(wires=0,phi=theta)\n",
    "    return qml.probs(wires=[0])"
   ]
  },
  {
   "cell_type": "code",
   "execution_count": 15,
   "metadata": {},
   "outputs": [],
   "source": [
    "def encoder(x):\n",
    "    vector_x = [1,x]\n",
    "    norm_x = np.linalg.norm(vector_x)\n",
    "    return vector_x/norm_x , norm_x"
   ]
  },
  {
   "cell_type": "code",
   "execution_count": 16,
   "metadata": {},
   "outputs": [],
   "source": [
    "def f(x,theta,w):\n",
    "    encoded_x,norm_x = encoder(x)\n",
    "    f_val = hepler(encoded_x,theta)\n",
    "    rescale_coef = w[0]\n",
    "    return (f_val[1]*(norm_x**2))*rescale_coef+w[1]\n",
    "    # print(qml.draw(hepler)(encoded_x))"
   ]
  },
  {
   "cell_type": "code",
   "execution_count": 17,
   "metadata": {},
   "outputs": [],
   "source": [
    "# f(-1.7)"
   ]
  },
  {
   "cell_type": "code",
   "execution_count": 18,
   "metadata": {},
   "outputs": [],
   "source": [
    "def f_test(t):\n",
    "    return 8+10*t"
   ]
  },
  {
   "cell_type": "code",
   "execution_count": 19,
   "metadata": {},
   "outputs": [],
   "source": [
    "def callbackF(parameters):\n",
    "    # global current_loss\n",
    "\n",
    "    print(\"Current loss:\", cost(parameters)) \n",
    "\n",
    "\n",
    "def cost(params):\n",
    "    global theta\n",
    "    global w\n",
    "    # Reshape the flattened theta back to its original shape\n",
    "    theta_shape = theta.shape\n",
    "    w_shape = w.shape\n",
    "    w, theta_flat = params[:2], params[2:]\n",
    "    theta = theta_flat.reshape(theta_shape)\n",
    "    loss = 0\n",
    "    for x in t:\n",
    "        loss += (f(x,theta[0],w)-f_test(x))**2/len(t)\n",
    "    \n",
    "    # print(w)\n",
    "    # print(theta)\n",
    "    # raise KeyError\n",
    "    return loss"
   ]
  },
  {
   "cell_type": "code",
   "execution_count": 20,
   "metadata": {},
   "outputs": [
    {
     "name": "stdout",
     "output_type": "stream",
     "text": [
      "Current loss: 137.95325309974652\n",
      "Current loss: 84.41769286497613\n",
      "Current loss: 11.08879041140996\n",
      "Current loss: 1.1446489288125454\n",
      "Current loss: 0.6114444163135233\n",
      "Current loss: 0.3436061191014729\n",
      "Current loss: 0.16109715609809244\n",
      "Current loss: 0.08017825121681289\n",
      "Current loss: 0.07608744550126537\n",
      "Current loss: 0.07579778062467525\n",
      "Current loss: 0.0733977283911539\n",
      "Current loss: 0.06887834650711247\n",
      "Current loss: 0.0528568434176745\n",
      "Current loss: 0.05144333292822267\n",
      "Current loss: 0.04907622398700874\n",
      "Current loss: 0.04603745902928116\n",
      "Current loss: 0.04454567289044829\n",
      "Current loss: 0.042066841116425314\n",
      "Current loss: 0.038650018924400224\n",
      "Current loss: 0.0333935131533323\n",
      "Current loss: 0.029620569853825864\n",
      "Current loss: 0.02554654448775864\n",
      "Current loss: 0.023998843156308874\n",
      "Current loss: 0.023064837586894683\n",
      "Current loss: 0.021460191945243737\n",
      "Current loss: 0.019193210717353866\n",
      "Current loss: 0.017928762926031613\n",
      "Current loss: 0.016539093871973484\n",
      "Current loss: 0.015972616432022975\n",
      "Current loss: 0.014984434452023092\n",
      "Current loss: 0.014268009569908622\n",
      "Current loss: 0.013558662922866714\n",
      "Current loss: 0.012744848137305628\n",
      "Current loss: 0.012280157484906597\n",
      "Current loss: 0.01180832697496665\n",
      "Current loss: 0.01119065886672053\n",
      "Current loss: 0.010480960818937908\n",
      "Current loss: 0.010073245853816384\n",
      "Current loss: 0.009465754994217262\n",
      "Current loss: 0.008975160708705797\n",
      "Current loss: 0.008421639885754145\n",
      "Current loss: 0.008111097279782313\n",
      "Current loss: 0.007823059394146726\n",
      "Current loss: 0.007380897935312448\n",
      "Current loss: 0.006864641545428119\n",
      "Current loss: 0.006458293865215875\n",
      "Current loss: 0.006298954331617395\n",
      "Current loss: 0.006039545568856939\n",
      "Current loss: 0.0056603752084193465\n",
      "Current loss: 0.005533266077471286\n",
      "Current loss: 0.005333585920220778\n",
      "Current loss: 0.00502242792261491\n",
      "Current loss: 0.004846413734208448\n",
      "Current loss: 0.0045760109666884655\n",
      "Current loss: 0.004376632232998136\n",
      "Current loss: 0.004117920990577488\n",
      "Current loss: 0.00394061408891975\n",
      "Current loss: 0.0037981754775862527\n",
      "Current loss: 0.003596900606757768\n",
      "Current loss: 0.003512016356217907\n",
      "Current loss: 0.003371669428348176\n",
      "Current loss: 0.0031937820356674213\n",
      "Current loss: 0.0030388827624783293\n",
      "Current loss: 0.0029209537238654806\n",
      "Current loss: 0.0028579406751613914\n",
      "Current loss: 0.0028313314211110044\n",
      "Current loss: 0.002784777131909672\n",
      "Current loss: 0.0027080182191041788\n",
      "Current loss: 0.002614600960289514\n",
      "Current loss: 0.002481833015771689\n",
      "Current loss: 0.002422754734600248\n",
      "Current loss: 0.002340918979160392\n",
      "Current loss: 0.002234975762000664\n",
      "Current loss: 0.0021885016560441554\n",
      "Current loss: 0.002125676592838376\n",
      "Current loss: 0.002029122433155368\n",
      "Current loss: 0.0019889082522177503\n",
      "Current loss: 0.001925152363210526\n",
      "Current loss: 0.0018378891607480773\n",
      "Current loss: 0.0018099256132457808\n",
      "Current loss: 0.0017615111972269777\n",
      "Current loss: 0.001689537390782859\n",
      "Current loss: 0.001595906665799356\n"
     ]
    }
   ],
   "source": [
    "import numpy as np\n",
    "from scipy.optimize import minimize\n",
    "\n",
    "\n",
    "\n",
    "theta = np.random.uniform(0, 2 * np.pi, size=(1))\n",
    "w = np.zeros(2)\n",
    "\n",
    "initial_params = np.concatenate([w, theta.flatten()])  # Flatten theta to a 1D array\n",
    "\n",
    "result = minimize(cost, initial_params, callback=callbackF, method='BFGS', options={'gtol': 1E-2})\n",
    "# Extract the optimized parameters\n",
    "w, theta_flat = result.x[:2], result.x[2:]\n",
    "theta = theta_flat.reshape(theta.shape)"
   ]
  },
  {
   "cell_type": "code",
   "execution_count": 22,
   "metadata": {},
   "outputs": [
    {
     "name": "stdout",
     "output_type": "stream",
     "text": [
      "[ 44.15375456 -35.55181548]\n"
     ]
    }
   ],
   "source": [
    "print(w)"
   ]
  },
  {
   "cell_type": "code",
   "execution_count": 23,
   "metadata": {},
   "outputs": [
    {
     "data": {
      "text/plain": [
       "<matplotlib.lines.Line2D at 0x1774937f0d0>"
      ]
     },
     "execution_count": 23,
     "metadata": {},
     "output_type": "execute_result"
    },
    {
     "data": {
      "image/png": "[encoded data removed]",
      "text/plain": [
       "<Figure size 1000x600 with 1 Axes>"
      ]
     },
     "metadata": {},
     "output_type": "display_data"
    }
   ],
   "source": [
    "\n",
    "# Calculate corresponding y values for both functions\n",
    "y1 = [f(x,theta[0],w) for x in t]\n",
    "y2 = [f_test(x) for x in t]\n",
    "\n",
    "\n",
    "# Create the plot\n",
    "plt.figure(figsize=(10, 6))  # Set the figure size\n",
    "plt.plot(t, y1, label='Quantum f(x)', linewidth=2, color='b')  # Plot the first function\n",
    "plt.plot(t, y2, label='Analytic f(x)', linewidth=2, color='r')  # Plot the second function\n",
    "plt.xlabel('x')  # X-axis label\n",
    "plt.ylabel('y')  # Y-axis label\n",
    "# plt.title('Plot of Two Functions')  # Title of the plot\n",
    "plt.grid(True, linestyle='--', alpha=0.6)  # Add a grid\n",
    "plt.legend()  # Show the legend\n",
    "plt.axhline(0, color='black', linewidth=0.5)  # Add horizontal line at y=0\n",
    "plt.axvline(0, color='black', linewidth=0.5)  # Add vertical line at x=0\n",
    "# plt.ylim([-5, 10])  # Set y-axis limits\n"
   ]
  }
 ],
 "metadata": {
  "kernelspec": {
   "display_name": "base",
   "language": "python",
   "name": "python3"
  },
  "language_info": {
   "codemirror_mode": {
    "name": "ipython",
    "version": 3
   },
   "file_extension": ".py",
   "mimetype": "text/x-python",
   "name": "python",
   "nbconvert_exporter": "python",
   "pygments_lexer": "ipython3",
   "version": "3.11.4"
  },
  "orig_nbformat": 4
 },
 "nbformat": 4,
 "nbformat_minor": 2
}
