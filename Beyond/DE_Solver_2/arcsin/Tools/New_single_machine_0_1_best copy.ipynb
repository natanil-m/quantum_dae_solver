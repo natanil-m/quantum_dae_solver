{
 "cells": [
  {
   "cell_type": "code",
   "execution_count": 1,
   "metadata": {},
   "outputs": [],
   "source": [
    "from math import pi\n",
    "import matplotlib.pyplot as plt\n",
    "from pennylane import numpy as np\n",
    "import pennylane as qml\n",
    "from pennylane.optimize import AdamOptimizer\n",
    "import datetime\n",
    "now=datetime.datetime.now"
   ]
  },
  {
   "cell_type": "code",
   "execution_count": 2,
   "metadata": {},
   "outputs": [],
   "source": [
    "num_qubits=2\n",
    "dev=qml.device('default.qubit', wires=num_qubits)\n",
    "seed = 40\n",
    "np.random.seed(seed)"
   ]
  },
  {
   "cell_type": "code",
   "execution_count": 3,
   "metadata": {},
   "outputs": [],
   "source": [
    "# Boundary condition \n",
    "coefii = 10\n",
    "\n",
    "# del_0 = 0  #del\n",
    "# omega_0 = 0     #w\n",
    "del_0_v = -1/coefii\n",
    "omega_0_v = 383.9911/coefii"
   ]
  },
  {
   "cell_type": "code",
   "execution_count": 4,
   "metadata": {},
   "outputs": [],
   "source": [
    "# Differential equation parameters\n",
    "ws = 376.9911\n",
    "\n",
    "# ws = 0.376\n",
    "# coefii = ws/4\n",
    "K1 = 5/coefii\n",
    "K2 = 10/coefii\n",
    "K3 = 1.7/coefii\n",
    "ws = ws/coefii\n",
    "\n",
    "def F(u_zegond,u_prime, u):       # DE, works with numpy arrays\n",
    "    # print(len(u_zegond))\n",
    "    # print(len(u_prime))\n",
    "    # print(len(u))\n",
    "    delta = u\n",
    "    delta_prime = u_prime\n",
    "    omega = delta_prime+ws\n",
    "    omega_prime = u_zegond\n",
    "    return (delta_prime+ws-omega)+omega_prime-K1+K2*np.sin(coefii*delta)+K3*(-ws+omega)*coefii\n",
    "\n",
    "\n",
    "def F_E1(delta_prime, delta,omega_prime,omega, t):       # DE, works with numpy arrays\n",
    "    return (delta_prime+ws-omega)\n",
    "    # return X_prime+ws-Y \n",
    "\n",
    "def F_E2(delta_prime, delta,omega_prime,omega, t):       # DE, works with numpy arrays\n",
    "    # return Y_prime\n",
    "    return omega_prime-K1+K2*np.sin(coefii*delta)+K3*(-ws+omega)*coefii"
   ]
  },
  {
   "cell_type": "code",
   "execution_count": 5,
   "metadata": {},
   "outputs": [],
   "source": [
    "# t=np.random.uniform(0,1,size=50,requires_grad=False)\n",
    "t = [0.0, 0.02040816326530612, 0.04081632653061224, 0.061224489795918366, 0.08163265306122448, 0.10204081632653061, 0.12244897959183673, 0.14285714285714285, 0.16326530612244897, 0.1836734693877551, 0.20408163265306123, 0.22448979591836735, 0.24489795918367346, 0.2653061224489796, 0.2857142857142857, 0.30612244897959184, 0.32653061224489793, 0.3469387755102041, 0.3673469387755102, 0.3877551020408163, 0.40816326530612246, 0.42857142857142855, 0.4489795918367347, 0.46938775510204084, 0.4897959183673469, 0.5102040816326531, 0.5306122448979592, 0.5510204081632653, 0.5714285714285714, 0.5918367346938775, 0.6122448979591837, 0.6326530612244898, 0.6530612244897959, 0.673469387755102, 0.6938775510204082, 0.7142857142857143, 0.7346938775510204, 0.7551020408163265, 0.7755102040816326, 0.7959183673469388, 0.8163265306122449, 0.8367346938775511, 0.8571428571428571, 0.8775510204081632, 0.8979591836734694, 0.9183673469387755, 0.9387755102040817, 0.9591836734693877, 0.9795918367346939, 1.0]\n"
   ]
  },
  {
   "cell_type": "code",
   "execution_count": 6,
   "metadata": {},
   "outputs": [],
   "source": [
    "# # define embedding layer\n",
    "# def embedding(x,wires):\n",
    "#     qml.RY(x, wires=wires[1])"
   ]
  },
  {
   "cell_type": "code",
   "execution_count": 7,
   "metadata": {},
   "outputs": [],
   "source": [
    "def embedding(x0,x1,wires):\n",
    "    # qml.RY(np.arcsin(x0), wires=wires[0])\n",
    "    # qml.RY(2*pi*x1, wires=wires[1])\n",
    "    qml.RY(x0, wires=wires[0])\n",
    "    qml.RY(x1, wires=wires[1])"
   ]
  },
  {
   "cell_type": "code",
   "execution_count": 8,
   "metadata": {},
   "outputs": [],
   "source": [
    "def Ham():\n",
    "    obs=[]\n",
    "    for j in range(num_qubits):\n",
    "        obs.append(qml.PauliX(j))\n",
    "        for k in range(j):\n",
    "            obs.append(qml.PauliZ(j)@qml.PauliZ(k))\n",
    "    coeffs=np.random.uniform(-1,1,len(obs))*10\n",
    "    qml.Hamiltonian(coeffs, obs)"
   ]
  },
  {
   "cell_type": "code",
   "execution_count": 9,
   "metadata": {},
   "outputs": [],
   "source": [
    "# # define ansastz layer\n",
    "# def layer(theta):\n",
    "    \n",
    "#     # Apply Hamiltonian matrix\n",
    "#     Ham()\n",
    "    \n",
    "#     # Apply H gate\n",
    "#     qml.Hadamard(0)\n",
    "    \n",
    "#     # rotations on qubit 1\n",
    "#     qml.RY(theta,wires=1)\n",
    "    \n",
    "#     # CNOT\n",
    "#     qml.CNOT(wires=[0, 1])"
   ]
  },
  {
   "cell_type": "code",
   "execution_count": 10,
   "metadata": {},
   "outputs": [],
   "source": [
    "# define ansastz layer\n",
    "def layer(theta):\n",
    "    \n",
    "    # Apply Hamiltonian matrix\n",
    "    Ham()\n",
    "    \n",
    "    # Apply H gate\n",
    "    qml.Hadamard(0)\n",
    "    \n",
    "    # rotations on qubits\n",
    "    qml.RY(theta[0],wires=0)\n",
    "    qml.RY(theta[1],wires=1)\n",
    "    \n",
    "    # CNOT\n",
    "    qml.CNOT(wires=[0, 1])"
   ]
  },
  {
   "cell_type": "code",
   "execution_count": 11,
   "metadata": {},
   "outputs": [],
   "source": [
    "@qml.qnode(dev, diff_method=\"backprop\", interface=\"autograd\")\n",
    "def quantum_net(theta,x0,x1):\n",
    "    \n",
    "    # encode data\n",
    "    embedding(x0,x1,wires=range(num_qubits))\n",
    "    \n",
    "    # parameterized circuit layers\n",
    "    for v in theta: # (for lool along with the first dimension)\n",
    "        # print(v)\n",
    "        # Ham()\n",
    "        layer(v)\n",
    "    \n",
    "    qml.Hadamard(0)\n",
    "    \n",
    "    # return qml.expval(qml.PauliZ(0)),qml.expval(qml.PauliZ(1))\n",
    "    return qml.expval(qml.PauliZ(0))"
   ]
  },
  {
   "cell_type": "code",
   "execution_count": 12,
   "metadata": {},
   "outputs": [
    {
     "ename": "TypeError",
     "evalue": "quantum_net() missing 1 required positional argument: 'x1'",
     "output_type": "error",
     "traceback": [
      "\u001b[1;31m---------------------------------------------------------------------------\u001b[0m",
      "\u001b[1;31mTypeError\u001b[0m                                 Traceback (most recent call last)",
      "Cell \u001b[1;32mIn[12], line 5\u001b[0m\n\u001b[0;32m      2\u001b[0m theta1\u001b[39m=\u001b[39mnp\u001b[39m.\u001b[39mrandom\u001b[39m.\u001b[39muniform(\u001b[39m0\u001b[39m,\u001b[39m2\u001b[39m\u001b[39m*\u001b[39mpi,size\u001b[39m=\u001b[39m(num_layers,num_qubits\u001b[39m-\u001b[39m\u001b[39m1\u001b[39m),requires_grad\u001b[39m=\u001b[39m\u001b[39mTrue\u001b[39;00m)\n\u001b[0;32m      3\u001b[0m \u001b[39m# theta2=np.random.uniform(0,2*pi,size=(num_layers,num_qubits-1),requires_grad=True)\u001b[39;00m\n\u001b[0;32m      4\u001b[0m \u001b[39m# theta = np.load('my_theta1.npy')\u001b[39;00m\n\u001b[1;32m----> 5\u001b[0m \u001b[39mprint\u001b[39m(qml\u001b[39m.\u001b[39;49mdraw(quantum_net)(theta1,\u001b[39m0\u001b[39;49m))\n",
      "File \u001b[1;32mc:\\Users\\acade\\anaconda3\\envs\\q1\\Lib\\site-packages\\pennylane\\drawer\\draw.py:247\u001b[0m, in \u001b[0;36m_draw_qnode.<locals>.wrapper\u001b[1;34m(*args, **kwargs)\u001b[0m\n\u001b[0;32m    245\u001b[0m \u001b[39mtry\u001b[39;00m:\n\u001b[0;32m    246\u001b[0m     qnode\u001b[39m.\u001b[39mexpansion_strategy \u001b[39m=\u001b[39m expansion_strategy \u001b[39mor\u001b[39;00m original_expansion_strategy\n\u001b[1;32m--> 247\u001b[0m     tapes \u001b[39m=\u001b[39m qnode\u001b[39m.\u001b[39;49mconstruct(args, kwargs)\n\u001b[0;32m    248\u001b[0m \u001b[39mfinally\u001b[39;00m:\n\u001b[0;32m    249\u001b[0m     qnode\u001b[39m.\u001b[39mexpansion_strategy \u001b[39m=\u001b[39m original_expansion_strategy\n",
      "File \u001b[1;32mc:\\Users\\acade\\anaconda3\\envs\\q1\\Lib\\site-packages\\pennylane\\qnode.py:827\u001b[0m, in \u001b[0;36mQNode.construct\u001b[1;34m(self, args, kwargs)\u001b[0m\n\u001b[0;32m    824\u001b[0m \u001b[39mif\u001b[39;00m old_interface \u001b[39m==\u001b[39m \u001b[39m\"\u001b[39m\u001b[39mauto\u001b[39m\u001b[39m\"\u001b[39m:\n\u001b[0;32m    825\u001b[0m     \u001b[39mself\u001b[39m\u001b[39m.\u001b[39minterface \u001b[39m=\u001b[39m qml\u001b[39m.\u001b[39mmath\u001b[39m.\u001b[39mget_interface(\u001b[39m*\u001b[39margs, \u001b[39m*\u001b[39m\u001b[39mlist\u001b[39m(kwargs\u001b[39m.\u001b[39mvalues()))\n\u001b[1;32m--> 827\u001b[0m \u001b[39mself\u001b[39m\u001b[39m.\u001b[39m_tape \u001b[39m=\u001b[39m make_qscript(\u001b[39mself\u001b[39;49m\u001b[39m.\u001b[39;49mfunc, shots)(\u001b[39m*\u001b[39;49margs, \u001b[39m*\u001b[39;49m\u001b[39m*\u001b[39;49mkwargs)\n\u001b[0;32m    828\u001b[0m \u001b[39mself\u001b[39m\u001b[39m.\u001b[39m_qfunc_output \u001b[39m=\u001b[39m \u001b[39mself\u001b[39m\u001b[39m.\u001b[39mtape\u001b[39m.\u001b[39m_qfunc_output\n\u001b[0;32m    830\u001b[0m params \u001b[39m=\u001b[39m \u001b[39mself\u001b[39m\u001b[39m.\u001b[39mtape\u001b[39m.\u001b[39mget_parameters(trainable_only\u001b[39m=\u001b[39m\u001b[39mFalse\u001b[39;00m)\n",
      "File \u001b[1;32mc:\\Users\\acade\\anaconda3\\envs\\q1\\Lib\\site-packages\\pennylane\\tape\\qscript.py:1482\u001b[0m, in \u001b[0;36mmake_qscript.<locals>.wrapper\u001b[1;34m(*args, **kwargs)\u001b[0m\n\u001b[0;32m   1480\u001b[0m \u001b[39mdef\u001b[39;00m \u001b[39mwrapper\u001b[39m(\u001b[39m*\u001b[39margs, \u001b[39m*\u001b[39m\u001b[39m*\u001b[39mkwargs):\n\u001b[0;32m   1481\u001b[0m     \u001b[39mwith\u001b[39;00m AnnotatedQueue() \u001b[39mas\u001b[39;00m q:\n\u001b[1;32m-> 1482\u001b[0m         result \u001b[39m=\u001b[39m fn(\u001b[39m*\u001b[39;49margs, \u001b[39m*\u001b[39;49m\u001b[39m*\u001b[39;49mkwargs)\n\u001b[0;32m   1484\u001b[0m     qscript \u001b[39m=\u001b[39m QuantumScript\u001b[39m.\u001b[39mfrom_queue(q, shots)\n\u001b[0;32m   1485\u001b[0m     qscript\u001b[39m.\u001b[39m_qfunc_output \u001b[39m=\u001b[39m result\n",
      "\u001b[1;31mTypeError\u001b[0m: quantum_net() missing 1 required positional argument: 'x1'"
     ]
    }
   ],
   "source": [
    "num_layers=4\n",
    "theta1=np.random.uniform(0,2*pi,size=(num_layers,num_qubits-1),requires_grad=True)\n",
    "# theta2=np.random.uniform(0,2*pi,size=(num_layers,num_qubits-1),requires_grad=True)\n",
    "# theta = np.load('my_theta1.npy')\n",
    "print(qml.draw(quantum_net)(theta1,0))"
   ]
  },
  {
   "cell_type": "code",
   "execution_count": null,
   "metadata": {},
   "outputs": [],
   "source": [
    "def d_arcsin(x):\n",
    "    return 1/(np.sqrt(1-x**2))"
   ]
  },
  {
   "cell_type": "code",
   "execution_count": null,
   "metadata": {},
   "outputs": [],
   "source": [
    "# add the classical layer   #TODO\n",
    "def classical_quantum_net(theta,w,t):\n",
    "    r1=quantum_net(theta,t)[0]\n",
    "    return w[0]+w[1]*r1+w[2]*r1**2\n"
   ]
  },
  {
   "cell_type": "code",
   "execution_count": null,
   "metadata": {},
   "outputs": [],
   "source": [
    "def cost_finite(theta1,w,t):\n",
    "    global current_loss\n",
    "\n",
    "    loss_i = 0\n",
    "\n",
    "    delta_0 = None  # boundary condition\n",
    "    omega_0 = None  # boundary condition\n",
    "\n",
    "\n",
    "    delta_0 = classical_quantum_net(theta1,w,t=t[0])\n",
    "\n",
    "    Y = np.zeros(len(t) + 2)\n",
    "    # print(type(delta_0))\n",
    "    # print(type(delta_0._value))\n",
    "    # x_0 is at the beginning of the domain, already calculated\n",
    "    Y[1] = delta_0._value\n",
    "\n",
    "    Y[0] = classical_quantum_net(theta1,w,t=t[0]-d_t)._value\n",
    "\n",
    "\n",
    "    for i in range(1, len(t)):\n",
    "        Y[i + 1] = classical_quantum_net(theta1,w,t=t[i])._value\n",
    "\n",
    "\n",
    "    Y[len(t) + 1] = classical_quantum_net(theta1,w,t=t[0]+d_t)._value\n",
    "\n",
    "\n",
    "    # Differentiation\n",
    "    Y_prime = (Y[2:] - Y[:-2])/(2*d_t)\n",
    "    omega_0 = Y_prime[0]+ws\n",
    "\n",
    "    Y_zegond = (Y_prime[2:] - Y_prime[:-2])/(2*d_t)\n",
    "\n",
    "    # print('==========')\n",
    "    # print(Y_zegond)\n",
    "\n",
    "    # loss_i += np.sum((F(Y_zegond,Y_prime[1:-1], Y[2:-2], t[1:-1]))**2)\n",
    "    loss_i += np.sum((F(Y_zegond,Y_prime[1:-1], Y[2:-2]))**2)\n",
    "\n",
    "    # boundary condition given a weight eta\n",
    "    eta = 5    \n",
    "    loss_b = eta * (delta_0 - del_0_v) ** 2 * len(t)\n",
    "    loss_b += eta * (omega_0 - omega_0_v) ** 2 * len(t)\n",
    "\n",
    "\n",
    "\n",
    "    current_loss = (loss_i+loss_b) / len(t)\n",
    "    return current_loss"
   ]
  },
  {
   "cell_type": "code",
   "execution_count": null,
   "metadata": {},
   "outputs": [],
   "source": [
    "# def cost(theta1,w1,t):\n",
    "\n",
    "#     # loss inner points\n",
    "#     loss_i = 0\n",
    "\n",
    "#     del_t_pred = np.array([classical_quantum_net(theta=theta1,w=w1,t=point) for point in t])\n",
    "#     del_t_prime = np.array([classical_quantum_net_prime(theta=theta1,w=w1,t=point) for point in t])\n",
    "    \n",
    "#     omega_t_pred = del_t_prime+ws\n",
    "#     # Y_t_prime = np.array([classical_quantum_net_prime(theta=theta2,w=w2,t=point) for point in t])\n",
    "#     omega_t_prime = np.array([classical_quantum_net_double_prime(theta=theta1,w=w1,t=point) for point in t])\n",
    "\n",
    "#     loss_i += np.mean(F_E1(delta=del_t_pred,omega=omega_t_pred,delta_prime=del_t_prime,omega_prime=omega_t_prime,t=t)**2)\n",
    "#     loss_i += np.mean(F_E2(delta=del_t_pred,omega=omega_t_pred,delta_prime=del_t_prime,omega_prime=omega_t_prime,t=t)**2)\n",
    "\n",
    "#     # # loss boundary points\n",
    "#     loss_b = 0\n",
    "#     del_0_pred = classical_quantum_net(theta1,w1,0)\n",
    "#     omega_0_pred = classical_quantum_net_prime(theta1,w1,0)+ws\n",
    "\n",
    "#     # # print(U_0)\n",
    "#     loss_b += (del_0_v-del_0_pred)**2+(omega_0_v-omega_0_pred)**2\n",
    "#     return 2*loss_b + loss_i\n",
    "#     # return 0.2*loss_b + 0.8*loss_i\n",
    "\n",
    "#     return loss_i"
   ]
  },
  {
   "cell_type": "code",
   "execution_count": null,
   "metadata": {},
   "outputs": [],
   "source": [
    "w1=np.zeros(3,requires_grad=True)\n",
    "# w2=np.zeros(3,requires_grad=True)\n",
    "opt = AdamOptimizer(0.05, beta1=0.9, beta2=0.999)"
   ]
  },
  {
   "cell_type": "code",
   "execution_count": null,
   "metadata": {},
   "outputs": [
    {
     "name": "stdout",
     "output_type": "stream",
     "text": [
      "2023-08-13 21:49:15.021120\n"
     ]
    }
   ],
   "source": [
    "start=now()\n",
    "print(start)"
   ]
  },
  {
   "cell_type": "code",
   "execution_count": null,
   "metadata": {},
   "outputs": [],
   "source": []
  },
  {
   "cell_type": "code",
   "execution_count": null,
   "metadata": {},
   "outputs": [
    {
     "name": "stdout",
     "output_type": "stream",
     "text": [
      "Epoch: 1 | Cost: 1.249999999999988\n",
      "Epoch: 2 | Cost: 0.8436393820004846\n",
      "Epoch: 3 | Cost: 0.6885817953279467\n",
      "Epoch: 4 | Cost: 0.556452620284956\n",
      "Epoch: 5 | Cost: 0.4060125108528788\n",
      "Epoch: 6 | Cost: 0.2747960187362624\n",
      "Epoch: 7 | Cost: 0.17271585013204432\n",
      "Epoch: 8 | Cost: 0.10914486350521298\n",
      "Epoch: 9 | Cost: 0.08768611538109436\n",
      "Epoch: 10 | Cost: 0.08901621509385568\n",
      "Epoch: 11 | Cost: 0.09012639806968722\n",
      "Epoch: 12 | Cost: 0.09100339347910809\n",
      "Epoch: 13 | Cost: 0.0941005802554462\n",
      "Epoch: 14 | Cost: 0.09776614242110918\n",
      "Epoch: 15 | Cost: 0.10487716700237132\n",
      "Epoch: 16 | Cost: 0.10852070180740128\n",
      "Epoch: 17 | Cost: 0.09720956604365599\n",
      "Epoch: 18 | Cost: 0.07991438733788207\n",
      "Epoch: 19 | Cost: 0.0668150391487743\n",
      "Epoch: 20 | Cost: 0.059004455412117934\n",
      "Epoch: 21 | Cost: 0.05687400392585812\n",
      "Epoch: 22 | Cost: 0.05906073399317454\n",
      "Epoch: 23 | Cost: 0.060946088760864686\n",
      "Epoch: 24 | Cost: 0.06183514891369194\n",
      "Epoch: 25 | Cost: 0.06315124363786734\n",
      "Epoch: 26 | Cost: 0.06294968265313765\n",
      "Epoch: 27 | Cost: 0.06048221074515041\n",
      "Epoch: 28 | Cost: 0.05767597354610598\n",
      "Epoch: 29 | Cost: 0.05452142626280606\n",
      "Epoch: 30 | Cost: 0.050142905798287396\n",
      "Epoch: 31 | Cost: 0.046211061492587295\n",
      "Epoch: 32 | Cost: 0.0435742290318287\n",
      "Epoch: 33 | Cost: 0.04149306462686965\n",
      "Epoch: 34 | Cost: 0.04079276249996288\n",
      "Epoch: 35 | Cost: 0.04127947661426925\n",
      "Epoch: 36 | Cost: 0.04145761872695987\n",
      "Epoch: 37 | Cost: 0.041623320025443306\n",
      "Epoch: 38 | Cost: 0.04167513740555825\n",
      "Epoch: 39 | Cost: 0.041117512813650475\n",
      "Epoch: 40 | Cost: 0.040759573991043616\n",
      "Epoch: 41 | Cost: 0.04027107007620253\n",
      "Epoch: 42 | Cost: 0.0393684111949955\n",
      "Epoch: 43 | Cost: 0.03866074136489667\n",
      "Epoch: 44 | Cost: 0.03787524756977245\n",
      "Epoch: 45 | Cost: 0.03736033225169334\n",
      "Epoch: 46 | Cost: 0.03735577842865217\n",
      "Epoch: 47 | Cost: 0.03730684082554332\n",
      "Epoch: 48 | Cost: 0.037390628830156834\n",
      "Epoch: 49 | Cost: 0.03755595158096973\n",
      "Epoch: 50 | Cost: 0.037652110378714305\n",
      "Epoch: 51 | Cost: 0.03788006481358456\n",
      "Epoch: 52 | Cost: 0.03788478817141873\n",
      "Epoch: 53 | Cost: 0.03770772529932383\n",
      "Epoch: 54 | Cost: 0.03755574496190196\n",
      "Epoch: 55 | Cost: 0.037322076164911885\n",
      "Epoch: 56 | Cost: 0.03716826200241147\n",
      "Epoch: 57 | Cost: 0.036982830491064954\n",
      "Epoch: 58 | Cost: 0.03680276044237556\n",
      "Epoch: 59 | Cost: 0.036787244332266655\n",
      "Epoch: 60 | Cost: 0.03679086516458246\n",
      "Epoch: 61 | Cost: 0.03684915164965778\n",
      "Epoch: 62 | Cost: 0.03687861133338063\n",
      "Epoch: 63 | Cost: 0.03690267193311644\n",
      "Epoch: 64 | Cost: 0.03696309624957502\n",
      "Epoch: 65 | Cost: 0.03694982224952\n",
      "Epoch: 66 | Cost: 0.0369188636184842\n",
      "Epoch: 67 | Cost: 0.03684737940067559\n",
      "Epoch: 68 | Cost: 0.036797166553325406\n",
      "Epoch: 69 | Cost: 0.03675851709899498\n",
      "Epoch: 70 | Cost: 0.03670209188519118\n",
      "Epoch: 71 | Cost: 0.03668101812728802\n",
      "Epoch: 72 | Cost: 0.03667155682699521\n",
      "Epoch: 73 | Cost: 0.03669600454034812\n",
      "Epoch: 74 | Cost: 0.036705800446491146\n",
      "Epoch: 75 | Cost: 0.03671460785963828\n",
      "Epoch: 76 | Cost: 0.0367284166424335\n",
      "Epoch: 77 | Cost: 0.036729352882567234\n",
      "Epoch: 78 | Cost: 0.0367227088789629\n",
      "Epoch: 79 | Cost: 0.03669713318862336\n",
      "Epoch: 80 | Cost: 0.03668423562965452\n",
      "Epoch: 81 | Cost: 0.036667585656227256\n",
      "Epoch: 82 | Cost: 0.03665546453421612\n",
      "Epoch: 83 | Cost: 0.03664540460840291\n",
      "Epoch: 84 | Cost: 0.03664627428462952\n",
      "Epoch: 85 | Cost: 0.036652719227831365\n",
      "Epoch: 86 | Cost: 0.03665469477464172\n",
      "Epoch: 87 | Cost: 0.03665873950566106\n",
      "Epoch: 88 | Cost: 0.03665979919480538\n",
      "Epoch: 89 | Cost: 0.036661197022959294\n",
      "Epoch: 90 | Cost: 0.03665384927210378\n",
      "Epoch: 91 | Cost: 0.03664854694380484\n",
      "Epoch: 92 | Cost: 0.03664236963300407\n",
      "Epoch: 93 | Cost: 0.03663877173641633\n",
      "Epoch: 94 | Cost: 0.03663380974713309\n",
      "Epoch: 95 | Cost: 0.03663298246916307\n",
      "Epoch: 96 | Cost: 0.03663400587806398\n",
      "Epoch: 97 | Cost: 0.03663538594427154\n",
      "Epoch: 98 | Cost: 0.03663580117018829\n",
      "Epoch: 99 | Cost: 0.03663641099951831\n",
      "Epoch: 100 | Cost: 0.03663652352625666\n"
     ]
    }
   ],
   "source": [
    "epochs=100\n",
    "cost_max = 10000\n",
    "theta1_best = None\n",
    "w1_best = None\n",
    "\n",
    "# theta1=np.load('theta40.npy')\n",
    "# w1= np.load('w40.npy')\n",
    "\n",
    "\n",
    "for e in range(1,epochs+1):\n",
    "\n",
    "    # (theta1,theta2,w1,w2,_),_cost=opt.step_and_cost(cost,theta1,theta2,w1,w2,t)\n",
    "    (theta1,w1,_),_cost=opt.step_and_cost(cost_finite,theta1,w1,t)\n",
    "\n",
    "    if _cost<cost_max:\n",
    "        cost_max = _cost\n",
    "        theta1_best = theta1\n",
    "        w1_best = w1\n",
    "\n",
    "    # (theta,_),_cost=opt.step_and_cost(cost,theta,t)\n",
    "    if e==1 or e%1==0:\n",
    "        print(f'Epoch: {e} | Cost: {_cost}')\n",
    "\n"
   ]
  },
  {
   "cell_type": "code",
   "execution_count": null,
   "metadata": {},
   "outputs": [],
   "source": [
    "seed =20\n",
    "np.save('theta'+str(seed), theta1)\n",
    "np.save('w'+str(seed),w1)"
   ]
  },
  {
   "cell_type": "code",
   "execution_count": null,
   "metadata": {},
   "outputs": [],
   "source": [
    "y_delta_real = [-0.1, -0.08568864375010266, -0.07135199292327042, -0.05703216366155178, -0.04277533332758968, -0.028630566403092566, -0.014648393492369936, -0.0008786099410683636, 0.012629993562057113, 0.025830965225360485, 0.03868190003112095, 0.05114514907683676, 0.06318818053413534, 0.07478349631699908, 0.08590929364185632, 0.09655108128205876, 0.10669910851327256, 0.11634802541217151, 0.12549688285643618, 0.13414913252475494, 0.1423124546002818, 0.14999727816970396, 0.1572170147933966, 0.16398646160587024, 0.17032150117763253, 0.17623910151518826, 0.18175731606103976, 0.18689528211221512, 0.19167252338163385, 0.1961073022258, 0.2002172705183872, 0.2040196495808423, 0.20753123018238517, 0.21076837254000894, 0.21374700631847987, 0.2164826306303374, 0.21899031403589397, 0.22128469454323552, 0.2233792634241711, 0.22528520015009165, 0.22701309424038968, 0.22857304585789437, 0.22997466468065175, 0.2312270699019247, 0.23233889023019288, 0.23331826388915283, 0.23417283861771784, 0.2349097716700181, 0.2355355471757422, 0.23605508170803655]\n",
    "y_omega_real = [38.39911, 38.40131255162024, 38.401559501400065, 38.399627615014815, 38.39535272010845, 38.38863569037213, 38.37944575798523, 38.36781828175373, 38.35385457506316, 38.33771250498817, 38.31960064799821, 38.29975795463622, 38.27844654658136, 38.25594953663366, 38.232548774138536, 38.20852344187769, 38.184133101993716, 38.15961422638989, 38.135180196730154, 38.11102130443908, 38.0873045267779, 38.0641648590319, 38.04170495996719, 38.020008128295665, 37.999139183467754, 37.979144465672405, 37.96005183583712, 37.94187079269068, 37.92460193204962, 37.90823330461032, 37.892744190413474, 37.87811073974539, 37.864305973137945, 37.851299781368624, 37.83905892546051, 37.82754703668229, 37.816724616548235, 37.80654903681822, 37.7969789305147, 37.78797953688034, 37.779515522995986, 37.77155243468513, 37.76405670589686, 37.75699565870589, 37.75033750331248, 37.744051338042496, 37.73810714934741, 37.73247581180426, 37.72712975291509, 37.7220465421391]\n"
   ]
  },
  {
   "cell_type": "code",
   "execution_count": null,
   "metadata": {},
   "outputs": [
    {
     "name": "stdout",
     "output_type": "stream",
     "text": [
      "[0.0, 0.02040816326530612, 0.04081632653061224, 0.061224489795918366, 0.08163265306122448, 0.10204081632653061, 0.12244897959183673, 0.14285714285714285, 0.16326530612244897, 0.1836734693877551, 0.20408163265306123, 0.22448979591836735, 0.24489795918367346, 0.2653061224489796, 0.2857142857142857, 0.30612244897959184, 0.32653061224489793, 0.3469387755102041, 0.3673469387755102, 0.3877551020408163, 0.40816326530612246, 0.42857142857142855, 0.4489795918367347, 0.46938775510204084, 0.4897959183673469, 0.5102040816326531, 0.5306122448979592, 0.5510204081632653, 0.5714285714285714, 0.5918367346938775, 0.6122448979591837, 0.6326530612244898, 0.6530612244897959, 0.673469387755102, 0.6938775510204082, 0.7142857142857143, 0.7346938775510204, 0.7551020408163265, 0.7755102040816326, 0.7959183673469388, 0.8163265306122449, 0.8367346938775511, 0.8571428571428571, 0.8775510204081632, 0.8979591836734694, 0.9183673469387755, 0.9387755102040817, 0.9591836734693877, 0.9795918367346939, 1.0]\n",
      "[-0.01829411 -0.00472171  0.00843092  0.02116133  0.03346771  0.04534891\n",
      "  0.0568044   0.0678343   0.07843934  0.08862085  0.09838078  0.10772168\n",
      "  0.11664665  0.12515938  0.13326411  0.14096562  0.14826919  0.15518063\n",
      "  0.16170623  0.16785275  0.17362741  0.17903786  0.18409215  0.18879874\n",
      "  0.19316645  0.19720446  0.20092227  0.20432969  0.2074368   0.21025395\n",
      "  0.21279173  0.21506094  0.21707254  0.21883769  0.22036767  0.22167386\n",
      "  0.22276776  0.22366091  0.22436488  0.22489129  0.22525172  0.22545772\n",
      "  0.22552078  0.22545232  0.22526363  0.22496589  0.22457011  0.22408713\n",
      "  0.2235276   0.22290193]\n",
      "[38.37439406 38.35389595 38.3332618  38.31252348 38.29171266 38.27086072\n",
      " 38.24999872 38.22915735 38.20836687 38.18765707 38.1670572  38.14659597\n",
      " 38.12630145 38.10620108 38.08632158 38.06668893 38.04732833 38.02826416\n",
      " 38.00951995 37.99111831 37.97308095 37.95542859 37.93818099 37.92135686\n",
      " 37.90497389 37.88904867 37.87359672 37.85863242 37.84416902 37.83021863\n",
      " 37.81679217 37.8038994  37.79154887 37.77974793 37.76850274 37.75781822\n",
      " 37.74769809 37.73814486 37.7291598  37.720743   37.71289333 37.70560846\n",
      " 37.6988849  37.69271794 37.68710177 37.68202938 37.67749268 37.67348245\n",
      " 37.6699884  37.66699919]\n"
     ]
    }
   ],
   "source": [
    "# print(_cost)\n",
    "# t=np.random.uniform(0,1,size=50,requires_grad=False)\n",
    "print(t)\n",
    "pred_train_X=np.array([classical_quantum_net(theta1,w1,t) for t in t])\n",
    "pred_train_Y=(np.array([classical_quantum_net_prime(theta1,w1,t) for t in t])+ws)\n",
    "print(pred_train_X)\n",
    "print(pred_train_Y)\n",
    "# pred_train_Y=np.array([classical_quantum_net(theta2,w2,t) for t in t])"
   ]
  },
  {
   "cell_type": "code",
   "execution_count": null,
   "metadata": {},
   "outputs": [
    {
     "data": {
      "image/png": "[encoded data removed]",
      "text/plain": [
       "<Figure size 640x480 with 1 Axes>"
      ]
     },
     "metadata": {},
     "output_type": "display_data"
    },
    {
     "data": {
      "image/png": "[encoded data removed]",
      "text/plain": [
       "<Figure size 640x480 with 1 Axes>"
      ]
     },
     "metadata": {},
     "output_type": "display_data"
    }
   ],
   "source": [
    "plt.figure()\n",
    "\n",
    "plt.scatter(t,y_delta_real,facecolors='none', edgecolors='r', label='True - del_t')\n",
    "plt.scatter(t,pred_train_X, color='red',marker=\"x\",s=4,label='Prediction - del_t')\n",
    "plt.xlabel('t',fontsize=16)\n",
    "plt.ylabel('del_t',fontsize=16)\n",
    "plt.figure()\n",
    "plt.scatter(t,y_omega_real,facecolors='none', edgecolors='g', label='True - omega_t')\n",
    "\n",
    "plt.scatter(t,pred_train_Y, color='green',marker=\"x\",s=4,label='Prediction - omega_t')\n",
    "\n",
    "plt.xlabel('t',fontsize=16)\n",
    "plt.ylabel('omega_t',fontsize=16)\n",
    "plt.xticks(fontsize=10)\n",
    "plt.yticks(fontsize=10)\n",
    "plt.legend(loc='upper center',bbox_to_anchor=(0.5,1.18),ncol=2,fontsize=16)\n",
    "# plt.savefig('1_measurement2_train.png')\n",
    "plt.show()"
   ]
  }
 ],
 "metadata": {
  "kernelspec": {
   "display_name": "base",
   "language": "python",
   "name": "python3"
  },
  "language_info": {
   "codemirror_mode": {
    "name": "ipython",
    "version": 3
   },
   "file_extension": ".py",
   "mimetype": "text/x-python",
   "name": "python",
   "nbconvert_exporter": "python",
   "pygments_lexer": "ipython3",
   "version": "3.11.4"
  },
  "orig_nbformat": 4
 },
 "nbformat": 4,
 "nbformat_minor": 2
}
