{
 "cells": [
  {
   "cell_type": "code",
   "execution_count": 1,
   "metadata": {},
   "outputs": [],
   "source": [
    "from math import pi\n",
    "import matplotlib.pyplot as plt\n",
    "from pennylane import numpy as np\n",
    "import pennylane as qml\n",
    "from pennylane.optimize import AdamOptimizer\n",
    "import datetime\n",
    "now=datetime.datetime.now"
   ]
  },
  {
   "cell_type": "code",
   "execution_count": 2,
   "metadata": {},
   "outputs": [
    {
     "name": "stdout",
     "output_type": "stream",
     "text": [
      "55\n"
     ]
    }
   ],
   "source": [
    "num_qubits=2\n",
    "dev=qml.device('default.qubit', wires=num_qubits)\n",
    "seed = 55\n",
    "np.random.seed(seed)\n",
    "print(seed)"
   ]
  },
  {
   "cell_type": "code",
   "execution_count": 3,
   "metadata": {},
   "outputs": [],
   "source": [
    "# Boundary condition \n",
    "coefii = 10\n",
    "\n",
    "# del_0 = 0  #del\n",
    "# omega_0 = 0     #w\n",
    "del_0_v = -1/coefii\n",
    "omega_0_v = 383.9911/coefii"
   ]
  },
  {
   "cell_type": "code",
   "execution_count": 4,
   "metadata": {},
   "outputs": [],
   "source": [
    "# Differential equation parameters\n",
    "ws = 376.9911\n",
    "\n",
    "# ws = 0.376\n",
    "# coefii = ws/4\n",
    "K1 = 5/coefii\n",
    "K2 = 10/coefii\n",
    "K3 = 1.7/coefii\n",
    "ws = ws/coefii\n",
    "\n",
    "def F_E1(delta_prime, delta,omega_prime,omega, t):       # DE, works with numpy arrays\n",
    "    return (delta_prime+ws-omega)\n",
    "    # return X_prime+ws-Y \n",
    "\n",
    "def F_E2(delta_prime, delta,omega_prime,omega, t):       # DE, works with numpy arrays\n",
    "    # return Y_prime\n",
    "    return omega_prime-K1+K2*np.sin(coefii*delta)+K3*(-ws+omega)*coefii"
   ]
  },
  {
   "cell_type": "code",
   "execution_count": 5,
   "metadata": {},
   "outputs": [],
   "source": [
    "# # Differential equation's exact solution - for comparison\n",
    "# def X_t(t):\n",
    "#     # return X_0_v*np.cos(t)+(3*X_0_v+2*Y_0_v)*np.sin(t)\n",
    "#     return 0\n",
    "\n",
    "# def Y_t(t):\n",
    "#     return 0"
   ]
  },
  {
   "cell_type": "code",
   "execution_count": 6,
   "metadata": {},
   "outputs": [],
   "source": [
    "# t=np.random.uniform(0,1,size=50,requires_grad=False)\n",
    "# t = [0.0, 0.02040816326530612, 0.04081632653061224, 0.061224489795918366, 0.08163265306122448, 0.10204081632653061, 0.12244897959183673, 0.14285714285714285, 0.16326530612244897, 0.1836734693877551, 0.20408163265306123, 0.22448979591836735, 0.24489795918367346, 0.2653061224489796, 0.2857142857142857, 0.30612244897959184, 0.32653061224489793, 0.3469387755102041, 0.3673469387755102, 0.3877551020408163, 0.40816326530612246, 0.42857142857142855, 0.4489795918367347, 0.46938775510204084, 0.4897959183673469, 0.5102040816326531, 0.5306122448979592, 0.5510204081632653, 0.5714285714285714, 0.5918367346938775, 0.6122448979591837, 0.6326530612244898, 0.6530612244897959, 0.673469387755102, 0.6938775510204082, 0.7142857142857143, 0.7346938775510204, 0.7551020408163265, 0.7755102040816326, 0.7959183673469388, 0.8163265306122449, 0.8367346938775511, 0.8571428571428571, 0.8775510204081632, 0.8979591836734694, 0.9183673469387755, 0.9387755102040817, 0.9591836734693877, 0.9795918367346939, 1.0]\n",
    "t=[0.0, 0.004081632653061225, 0.00816326530612245, 0.012244897959183673, 0.0163265306122449, 0.02040816326530612, 0.024489795918367346, 0.02857142857142857, 0.0326530612244898, 0.036734693877551024, 0.04081632653061224, 0.044897959183673466, 0.04897959183673469, 0.053061224489795916, 0.05714285714285714, 0.061224489795918366, 0.0653061224489796, 0.06938775510204082, 0.07346938775510205, 0.07755102040816327, 0.08163265306122448, 0.08571428571428572, 0.08979591836734693, 0.09387755102040816, 0.09795918367346938, 0.10204081632653061, 0.10612244897959183, 0.11020408163265306, 0.11428571428571428, 0.11836734693877551, 0.12244897959183673, 0.12653061224489795, 0.1306122448979592, 0.1346938775510204, 0.13877551020408163, 0.14285714285714285, 0.1469387755102041, 0.1510204081632653, 0.15510204081632653, 0.15918367346938775, 0.16326530612244897, 0.1673469387755102, 0.17142857142857143, 0.17551020408163265, 0.17959183673469387, 0.1836734693877551, 0.18775510204081633, 0.19183673469387755, 0.19591836734693877, 0.2]"
   ]
  },
  {
   "cell_type": "code",
   "execution_count": 7,
   "metadata": {},
   "outputs": [],
   "source": [
    "# define embedding layer\n",
    "def embedding(x,wires):\n",
    "    qml.RY(x, wires=wires[1])"
   ]
  },
  {
   "cell_type": "code",
   "execution_count": 8,
   "metadata": {},
   "outputs": [],
   "source": [
    "def Ham():\n",
    "    obs=[]\n",
    "    for j in range(num_qubits):\n",
    "        obs.append(qml.PauliX(j))\n",
    "        for k in range(j):\n",
    "            obs.append(qml.PauliZ(j)@qml.PauliZ(k))\n",
    "    coeffs=np.random.uniform(-1,1,len(obs))*10\n",
    "    qml.Hamiltonian(coeffs, obs)"
   ]
  },
  {
   "cell_type": "code",
   "execution_count": 9,
   "metadata": {},
   "outputs": [],
   "source": [
    "# define ansastz layer\n",
    "def layer(theta):\n",
    "    \n",
    "    # Apply Hamiltonian matrix\n",
    "    Ham()\n",
    "    \n",
    "    # Apply H gate\n",
    "    qml.Hadamard(0)\n",
    "    \n",
    "    # rotations on qubit 1\n",
    "    qml.RY(theta,wires=1)\n",
    "    \n",
    "    # CNOT\n",
    "    qml.CNOT(wires=[0, 1])"
   ]
  },
  {
   "cell_type": "code",
   "execution_count": 10,
   "metadata": {},
   "outputs": [],
   "source": [
    "@qml.qnode(dev, diff_method=\"backprop\", interface=\"autograd\")\n",
    "def quantum_net(theta,x):\n",
    "    \n",
    "    # encode data\n",
    "    embedding(x,wires=range(num_qubits))\n",
    "    \n",
    "    # parameterized circuit layers\n",
    "    for v in theta: # (for lool along with the first dimension)\n",
    "        # print(v)\n",
    "        # Ham()\n",
    "        layer(v)\n",
    "    \n",
    "    qml.Hadamard(0)\n",
    "    \n",
    "    # return qml.expval(qml.PauliZ(0)),qml.expval(qml.PauliZ(1))\n",
    "    return qml.expval(qml.PauliZ(0))"
   ]
  },
  {
   "cell_type": "code",
   "execution_count": 11,
   "metadata": {},
   "outputs": [
    {
     "name": "stdout",
     "output_type": "stream",
     "text": [
      "0: ──H────────────────╭●──H──────╭●──H──────╭●──H──────╭●──H─┤  <Z>\n",
      "1: ──RY(0.00)──RY(M0)─╰X──RY(M1)─╰X──RY(M2)─╰X──RY(M3)─╰X────┤     \n",
      "M0 = \n",
      "[0.58501662]\n",
      "M1 = \n",
      "[6.1050942]\n",
      "M2 = \n",
      "[3.04018192]\n",
      "M3 = \n",
      "[1.52381507]\n"
     ]
    }
   ],
   "source": [
    "num_layers=4\n",
    "theta1=np.random.uniform(0,2*pi,size=(num_layers,num_qubits-1),requires_grad=True)\n",
    "# theta2=np.random.uniform(0,2*pi,size=(num_layers,num_qubits-1),requires_grad=True)\n",
    "# theta = np.load('my_theta1.npy')\n",
    "print(qml.draw(quantum_net)(theta1,0))"
   ]
  },
  {
   "cell_type": "code",
   "execution_count": 12,
   "metadata": {},
   "outputs": [],
   "source": [
    "# add the classical layer   #TODO\n",
    "def classical_quantum_net(theta,w,t):\n",
    "\n",
    "    r1=quantum_net(theta,t)[0]\n",
    "    # r2=quantum_net(theta,x)[1]\n",
    "    # return w[0]+w[1]*r1+w[2]*r1**2+w[3]*r2+w[4]*r2**2\n",
    "    return w[0]+w[1]*r1+w[2]*r1**2\n",
    "    # r1=quantum_net(theta,x)\n",
    "    return r1"
   ]
  },
  {
   "cell_type": "code",
   "execution_count": 13,
   "metadata": {},
   "outputs": [],
   "source": [
    "# add the classical layer   #TODO\n",
    "def classical_quantum_net_efficient(r1,w):\n",
    "    return w[0]+w[1]*r1+w[2]*r1**2"
   ]
  },
  {
   "cell_type": "code",
   "execution_count": 14,
   "metadata": {},
   "outputs": [],
   "source": [
    "def classical_quantum_net_prime(theta,w,t):\n",
    "\n",
    "\n",
    "\n",
    "    r1=quantum_net(theta,t)[0]\n",
    "\n",
    "    r1_prime = qml.grad(quantum_net,argnum=1)(theta,np.tensor(t)) \n",
    "    # r2=quantum_net(theta,x)[1]\n",
    "    # return w[0]+w[1]*r1+w[2]*r1**2+w[3]*r2+w[4]*r2**2\n",
    "    return w[1]*r1_prime+2*w[2]*r1_prime*r1\n"
   ]
  },
  {
   "cell_type": "code",
   "execution_count": 15,
   "metadata": {},
   "outputs": [],
   "source": [
    "def classical_quantum_net_double_prime(theta,w,t):\n",
    "\n",
    "   r1=quantum_net(theta,t)[0]\n",
    "   r1_prime = qml.grad(quantum_net,argnum=1)(theta,np.tensor(t)) \n",
    "\n",
    "\n",
    "   #Calculate double prime\n",
    "   F_pos_pos_pi = quantum_net(theta,t+np.pi)[0]\n",
    "   F_phi = quantum_net(theta,t)[0]\n",
    "   F_phi_neg_pi = quantum_net(theta,t-np.pi)[0]\n",
    "   r1_double_prime = (1/4)*(F_pos_pos_pi-2*F_phi+F_phi_neg_pi)\n",
    "\n",
    "\n",
    "   return w[1]*r1_double_prime+2*w[2]*(r1_prime*r1_prime+r1*r1_double_prime)"
   ]
  },
  {
   "cell_type": "code",
   "execution_count": 16,
   "metadata": {},
   "outputs": [],
   "source": [
    "# def square_loss(labels,predictions):\n",
    "#     loss=0\n",
    "#     for l,p in zip(labels,predictions):\n",
    "#         loss=loss+(l-p)**2\n",
    "#     loss=loss/len(labels)\n",
    "#     return loss"
   ]
  },
  {
   "cell_type": "code",
   "execution_count": 17,
   "metadata": {},
   "outputs": [],
   "source": [
    "# #loss boundary\n",
    "# def loss_b(U_predict):\n",
    "    \n",
    "    "
   ]
  },
  {
   "cell_type": "code",
   "execution_count": 18,
   "metadata": {},
   "outputs": [],
   "source": [
    "# def cost(theta1,theta2,w1,w2,t):\n",
    "\n",
    "#     # loss inner points\n",
    "#     loss_i = 0\n",
    "\n",
    "#     X_t_pred = np.array([classical_quantum_net(theta=theta1,w=w1,t=point) for point in t])\n",
    "#     X_t_prime = np.array([classical_quantum_net_prime(theta=theta1,w=w1,t=point) for point in t])\n",
    "    \n",
    "#     Y_t_pred = X_t_pred+ws\n",
    "#     # Y_t_prime = np.array([classical_quantum_net_prime(theta=theta2,w=w2,t=point) for point in t])\n",
    "#     Y_t_prime = np.array([classical_quantum_net_double_prime(theta=theta1,w=w1,t=point) for point in t])\n",
    "\n",
    "#     loss_i += np.mean(F_E1(X=X_t_pred,Y=Y_t_pred,X_prime=X_t_prime,Y_prime=Y_t_prime,t=t)**2)\n",
    "#     loss_i += np.mean(F_E2(X=X_t_pred,Y=Y_t_pred,X_prime=X_t_prime,Y_prime=Y_t_prime,t=t)**2)\n",
    "\n",
    "#     # # loss boundary points\n",
    "#     # loss_b = 0\n",
    "#     # X_0_pred = classical_quantum_net(theta1,w1,0)\n",
    "#     # Y_0_pred = classical_quantum_net(theta2,w2,0)\n",
    "\n",
    "#     # # print(U_0)\n",
    "#     # loss_b += (X_0_v-X_0_pred)**2+(Y_0_v-Y_0_pred)**2\n",
    "#     # return 0.2*loss_b + 0.8*loss_i\n",
    "#     return loss_i"
   ]
  },
  {
   "cell_type": "code",
   "execution_count": 19,
   "metadata": {},
   "outputs": [],
   "source": [
    "# def cost_efficient(theta1,w1,t):\n",
    "#     # loss inner points\n",
    "#     loss_i = 0\n",
    "#     # print('-------')\n",
    "#     r1 = np.array([quantum_net(theta1,t)[0] for t in t])\n",
    "\n",
    "#     # print(r1)\n",
    "\n",
    "#     r1_prime = np.array([qml.grad(quantum_net,argnum=1)(theta1,np.tensor(t)) for t in t])\n",
    "#     #Calculate double prime\n",
    "#     F_pos_pos_pi = np.array([quantum_net(theta1,t+np.pi)[0] for t in t])\n",
    "#     # print(len(F_pos_pos_pi))\n",
    "#     F_phi = r1\n",
    "#     F_phi_neg_pi = np.array([quantum_net(theta1,t-np.pi)[0] for t in t])\n",
    "#     r1_double_prime = (1/4)*(F_pos_pos_pi-2*F_phi+F_phi_neg_pi)\n",
    "\n",
    "#     # print(r1)\n",
    "#     # print(r1_prime)\n",
    "#     # print(r1_double_prime)\n",
    "\n",
    "#     X_t_pred = classical_quantum_net_efficient(r1=theta1,w=w1)\n",
    "#     X_t_prime = classical_quantum_net_prime_efficient(r1=theta1,r1_prime=r1_prime,w=w1)\n",
    "    \n",
    "#     Y_t_pred = X_t_prime+ws\n",
    "#     # Y_t_prime = np.array([classical_quantum_net_prime(theta=theta2,w=w2,t=point) for point in t])\n",
    "#     Y_t_prime = classical_quantum_net_double_prime_efficient(r1=theta1,r1_prime=r1_prime,r1_double_prime=r1_double_prime,w=w1)\n",
    "\n",
    "#     loss_i += np.mean(F_E1(X=X_t_pred,Y=Y_t_pred,X_prime=X_t_prime,Y_prime=Y_t_prime,t=t)**2)\n",
    "#     loss_i += np.mean(F_E2(X=X_t_pred,Y=Y_t_pred,X_prime=X_t_prime,Y_prime=Y_t_prime,t=t)**2)\n",
    "\n",
    "#     # # loss boundary points\n",
    "#     loss_b = 0\n",
    "#     X_0_pred = classical_quantum_net(theta1,w1,0)\n",
    "#     Y_0_pred = classical_quantum_net_prime(theta1,w1,0)+ws\n",
    "\n",
    "#     # # print(U_0)\n",
    "#     loss_b += (X_0_v-X_0_pred)**2+(Y_0_v-Y_0_pred)**2\n",
    "#     # return loss_b + loss_i\n",
    "#     return 0.2*loss_b + 0.8*loss_i\n",
    "\n",
    "    # return loss_i"
   ]
  },
  {
   "cell_type": "code",
   "execution_count": 20,
   "metadata": {},
   "outputs": [],
   "source": [
    "def cost(theta1,w1,t):\n",
    "\n",
    "    # loss inner points\n",
    "    loss_i = 0\n",
    "\n",
    "    del_t_pred = np.array([classical_quantum_net(theta=theta1,w=w1,t=point) for point in t])\n",
    "    del_t_prime = np.array([classical_quantum_net_prime(theta=theta1,w=w1,t=point) for point in t])\n",
    "    \n",
    "    omega_t_pred = del_t_prime+ws\n",
    "    # Y_t_prime = np.array([classical_quantum_net_prime(theta=theta2,w=w2,t=point) for point in t])\n",
    "    omega_t_prime = np.array([classical_quantum_net_double_prime(theta=theta1,w=w1,t=point) for point in t])\n",
    "\n",
    "    loss_i += np.mean(F_E1(delta=del_t_pred,omega=omega_t_pred,delta_prime=del_t_prime,omega_prime=omega_t_prime,t=t)**2)\n",
    "    loss_i += np.mean(F_E2(delta=del_t_pred,omega=omega_t_pred,delta_prime=del_t_prime,omega_prime=omega_t_prime,t=t)**2)\n",
    "\n",
    "    # # loss boundary points\n",
    "    loss_b = 0\n",
    "    del_0_pred = classical_quantum_net(theta1,w1,0)\n",
    "    omega_0_pred = classical_quantum_net_prime(theta1,w1,0)+ws\n",
    "\n",
    "    # # print(U_0)\n",
    "    loss_b += (del_0_v-del_0_pred)**2+(omega_0_v-omega_0_pred)**2\n",
    "    return 2*loss_b + loss_i\n",
    "    # return 0.2*loss_b + 0.8*loss_i\n",
    "\n",
    "    return loss_i"
   ]
  },
  {
   "cell_type": "code",
   "execution_count": 21,
   "metadata": {},
   "outputs": [],
   "source": [
    "w1=np.zeros(3,requires_grad=True)\n",
    "# w2=np.zeros(3,requires_grad=True)\n",
    "opt = AdamOptimizer(0.05, beta1=0.9, beta2=0.999)"
   ]
  },
  {
   "cell_type": "code",
   "execution_count": 22,
   "metadata": {},
   "outputs": [
    {
     "name": "stdout",
     "output_type": "stream",
     "text": [
      "2023-09-08 13:22:34.766739\n"
     ]
    }
   ],
   "source": [
    "start=now()\n",
    "print(start)"
   ]
  },
  {
   "cell_type": "code",
   "execution_count": null,
   "metadata": {},
   "outputs": [],
   "source": []
  },
  {
   "cell_type": "code",
   "execution_count": 23,
   "metadata": {},
   "outputs": [
    {
     "name": "stdout",
     "output_type": "stream",
     "text": [
      "Epoch: 1 | Cost: 1.249999999999988\n",
      "Epoch: 2 | Cost: 1.0299173357867655\n",
      "Epoch: 3 | Cost: 1.124551980212584\n",
      "Epoch: 4 | Cost: 1.1230862886627202\n",
      "Epoch: 5 | Cost: 1.0618783925091122\n",
      "Epoch: 6 | Cost: 1.006222928857899\n",
      "Epoch: 7 | Cost: 1.0063865420277092\n",
      "Epoch: 8 | Cost: 1.0362473306587598\n",
      "Epoch: 9 | Cost: 1.0217688045660167\n",
      "Epoch: 10 | Cost: 0.9668499472235702\n",
      "Epoch: 11 | Cost: 0.9261140944462984\n",
      "Epoch: 12 | Cost: 0.922914898357498\n",
      "Epoch: 13 | Cost: 0.9191020869964694\n",
      "Epoch: 14 | Cost: 0.8743829864220044\n",
      "Epoch: 15 | Cost: 0.7985304571661866\n",
      "Epoch: 16 | Cost: 0.7452045332234504\n",
      "Epoch: 17 | Cost: 0.716523977015725\n",
      "Epoch: 18 | Cost: 0.6353548472603471\n",
      "Epoch: 19 | Cost: 0.5551493009180908\n",
      "Epoch: 20 | Cost: 0.5274703661938054\n",
      "Epoch: 21 | Cost: 0.4405468206156383\n",
      "Epoch: 22 | Cost: 0.3626021028303853\n",
      "Epoch: 23 | Cost: 0.33162284808920095\n",
      "Epoch: 24 | Cost: 0.24774149796950684\n",
      "Epoch: 25 | Cost: 0.2146176380367399\n",
      "Epoch: 26 | Cost: 0.174805802292123\n",
      "Epoch: 27 | Cost: 0.12321425601207768\n",
      "Epoch: 28 | Cost: 0.11635476136862523\n",
      "Epoch: 29 | Cost: 0.08483643454247686\n",
      "Epoch: 30 | Cost: 0.06819164997631441\n",
      "Epoch: 31 | Cost: 0.07234238231996354\n",
      "Epoch: 32 | Cost: 0.05480978555423101\n",
      "Epoch: 33 | Cost: 0.05063952605914973\n",
      "Epoch: 34 | Cost: 0.06493048387994584\n",
      "Epoch: 35 | Cost: 0.09229394127920314\n",
      "Epoch: 36 | Cost: 0.09153151759856877\n",
      "Epoch: 37 | Cost: 0.08833441771856165\n",
      "Epoch: 38 | Cost: 0.10711486382523754\n",
      "Epoch: 39 | Cost: 0.08688037256389426\n",
      "Epoch: 40 | Cost: 0.06969608386490272\n",
      "Epoch: 41 | Cost: 0.07208295552536544\n",
      "Epoch: 42 | Cost: 0.07169642212749498\n",
      "Epoch: 43 | Cost: 0.06418900692630344\n",
      "Epoch: 44 | Cost: 0.05296529823932862\n",
      "Epoch: 45 | Cost: 0.045594193471584506\n",
      "Epoch: 46 | Cost: 0.04892696797545654\n",
      "Epoch: 47 | Cost: 0.04682161872706861\n",
      "Epoch: 48 | Cost: 0.03719330810092669\n",
      "Epoch: 49 | Cost: 0.03523815087655398\n",
      "Epoch: 50 | Cost: 0.03717998780967891\n",
      "Epoch: 51 | Cost: 0.037438910598387026\n",
      "Epoch: 52 | Cost: 0.03566219202107625\n",
      "Epoch: 53 | Cost: 0.034527515460230196\n",
      "Epoch: 54 | Cost: 0.03709255819840319\n",
      "Epoch: 55 | Cost: 0.04107415170452042\n",
      "Epoch: 56 | Cost: 0.04089125318990189\n",
      "Epoch: 57 | Cost: 0.03870292168901571\n",
      "Epoch: 58 | Cost: 0.03834054151356036\n",
      "Epoch: 59 | Cost: 0.038569148560557605\n",
      "Epoch: 60 | Cost: 0.03756495967788414\n",
      "Epoch: 61 | Cost: 0.03568522442919074\n",
      "Epoch: 62 | Cost: 0.034733341336751204\n",
      "Epoch: 63 | Cost: 0.035298546828672235\n",
      "Epoch: 64 | Cost: 0.03509658503803831\n",
      "Epoch: 65 | Cost: 0.03357756310728582\n",
      "Epoch: 66 | Cost: 0.03279833841300013\n",
      "Epoch: 67 | Cost: 0.0327087812482762\n",
      "Epoch: 68 | Cost: 0.03217434169603348\n",
      "Epoch: 69 | Cost: 0.03134174593188627\n",
      "Epoch: 70 | Cost: 0.03122318948936077\n",
      "Epoch: 71 | Cost: 0.03190626821659065\n",
      "Epoch: 72 | Cost: 0.032303105950191716\n",
      "Epoch: 73 | Cost: 0.03220368167256231\n",
      "Epoch: 74 | Cost: 0.03224404658704684\n",
      "Epoch: 75 | Cost: 0.032324352663999564\n",
      "Epoch: 76 | Cost: 0.03210285818827541\n",
      "Epoch: 77 | Cost: 0.031831900247856586\n",
      "Epoch: 78 | Cost: 0.03189183237271387\n",
      "Epoch: 79 | Cost: 0.032073894097021174\n",
      "Epoch: 80 | Cost: 0.03199489806176017\n",
      "Epoch: 81 | Cost: 0.03180514900844442\n",
      "Epoch: 82 | Cost: 0.0316922408782119\n",
      "Epoch: 83 | Cost: 0.03151714969213705\n",
      "Epoch: 84 | Cost: 0.0312565648787921\n",
      "Epoch: 85 | Cost: 0.031123896110713624\n",
      "Epoch: 86 | Cost: 0.031173980773613857\n",
      "Epoch: 87 | Cost: 0.03121867829096931\n",
      "Epoch: 88 | Cost: 0.031201849068491022\n",
      "Epoch: 89 | Cost: 0.031207785958827346\n",
      "Epoch: 90 | Cost: 0.03120605113808199\n",
      "Epoch: 91 | Cost: 0.03114769099921144\n",
      "Epoch: 92 | Cost: 0.031108551915082744\n",
      "Epoch: 93 | Cost: 0.03114860871663888\n",
      "Epoch: 94 | Cost: 0.0311977729037786\n",
      "Epoch: 95 | Cost: 0.03120306065867804\n",
      "Epoch: 96 | Cost: 0.03119921761550331\n",
      "Epoch: 97 | Cost: 0.031185754433854344\n",
      "Epoch: 98 | Cost: 0.03113387347792957\n",
      "Epoch: 99 | Cost: 0.031076507272322453\n",
      "Epoch: 100 | Cost: 0.031056772992627504\n"
     ]
    }
   ],
   "source": [
    "epochs=100\n",
    "cost_max = 10000\n",
    "theta1_best = None\n",
    "w1_best = None\n",
    "\n",
    "# theta1=np.load('theta40.npy')\n",
    "# w1= np.load('w40.npy')\n",
    "\n",
    "\n",
    "for e in range(1,epochs+1):\n",
    "\n",
    "    # (theta1,theta2,w1,w2,_),_cost=opt.step_and_cost(cost,theta1,theta2,w1,w2,t)\n",
    "    (theta1,w1,_),_cost=opt.step_and_cost(cost,theta1,w1,t)\n",
    "\n",
    "    if _cost<cost_max:\n",
    "        cost_max = _cost\n",
    "        theta1_best = theta1\n",
    "        w1_best = w1\n",
    "\n",
    "    # (theta,_),_cost=opt.step_and_cost(cost,theta,t)\n",
    "    if e==1 or e%1==0:\n",
    "        print(f'Epoch: {e} | Cost: {_cost}')\n",
    "\n"
   ]
  },
  {
   "cell_type": "code",
   "execution_count": 24,
   "metadata": {},
   "outputs": [],
   "source": [
    "seed =20\n",
    "np.save('theta'+str(seed), theta1)\n",
    "np.save('w'+str(seed),w1)"
   ]
  },
  {
   "cell_type": "code",
   "execution_count": 25,
   "metadata": {},
   "outputs": [],
   "source": [
    "y_delta_real = [-0.1, -0.09714163357224607, -0.09428101455439117, -0.09141843978450093, -0.08855421278248612, -0.08568864375010266, -0.08282204957095156, -0.07995475381047894, -0.07708708671597608, -0.07421938521657939, -0.07135199292327042, -0.06848526012887574, -0.06561954380806702, -0.06275520761736136, -0.059892621895120624, -0.05703216366155178, -0.05417421661870749, -0.05131917115048472, -0.048467423576826554, -0.045619346237105514, -0.04277533332758968, -0.039935795895884155, -0.037101143403989054, -0.034271783728299504, -0.031448123159605615, -0.028630566403092566, -0.0258195165783405, -0.023015375219324525, -0.020218542274414796, -0.017429416106376557, -0.014648393492369936, -0.011875869623950189, -0.009112238107067365, -0.0063578909620668434, -0.0036132186236887296, -0.0008786099410683636, 0.0018455478222641434, 0.004558868988383551, 0.007260969464969199, 0.00995146674530686, 0.012629991770392014, 0.015296204541191063, 0.017949752026793695, 0.020590287164859465, 0.0232174700094246, 0.02583096773090222, 0.028430454616081985, 0.03101561206813068, 0.033586128606591395, 0.036141699867384636]\n",
    "y_omega_real = [38.39911, 38.399694268012624, 38.400208960372744, 38.400651726859735, 38.40102031131066, 38.40131255162024, 38.40152637974086, 38.401659821682586, 38.40171099751315, 38.401678121357946, 38.401559501400065, 38.40135353988024, 38.40105873309688, 38.400673671406075, 38.40019703922158, 38.399627615014815, 38.398964271314874, 38.398205974708524, 38.397351786766755, 38.39640092050434, 38.39535272010845, 38.394206622205594, 38.3929621692028, 38.391619009287545, 38.390176896427825, 38.38863569037213, 38.38699535664943, 38.38525596656918, 38.38341769722136, 38.381480831476395, 38.37944575798523, 38.3773129711793, 38.375083071270524, 38.372756764251314, 38.370334861894584, 38.36781828175373, 38.365208047162625, 38.36250528723566, 38.35971123686771, 38.35682723673413, 38.35385465591941, 38.35079480249753, 38.34764919245301, 38.34441941149919, 38.341107107295684, 38.33771398944838, 38.33424182950944, 38.33069246097726, 38.32706777929655, 38.323369741858244]\n"
   ]
  },
  {
   "cell_type": "markdown",
   "metadata": {},
   "source": []
  },
  {
   "cell_type": "code",
   "execution_count": 26,
   "metadata": {},
   "outputs": [
    {
     "name": "stdout",
     "output_type": "stream",
     "text": [
      "[0.0, 0.004081632653061225, 0.00816326530612245, 0.012244897959183673, 0.0163265306122449, 0.02040816326530612, 0.024489795918367346, 0.02857142857142857, 0.0326530612244898, 0.036734693877551024, 0.04081632653061224, 0.044897959183673466, 0.04897959183673469, 0.053061224489795916, 0.05714285714285714, 0.061224489795918366, 0.0653061224489796, 0.06938775510204082, 0.07346938775510205, 0.07755102040816327, 0.08163265306122448, 0.08571428571428572, 0.08979591836734693, 0.09387755102040816, 0.09795918367346938, 0.10204081632653061, 0.10612244897959183, 0.11020408163265306, 0.11428571428571428, 0.11836734693877551, 0.12244897959183673, 0.12653061224489795, 0.1306122448979592, 0.1346938775510204, 0.13877551020408163, 0.14285714285714285, 0.1469387755102041, 0.1510204081632653, 0.15510204081632653, 0.15918367346938775, 0.16326530612244897, 0.1673469387755102, 0.17142857142857143, 0.17551020408163265, 0.17959183673469387, 0.1836734693877551, 0.18775510204081633, 0.19183673469387755, 0.19591836734693877, 0.2]\n",
      "[-0.20439921 -0.20160288 -0.19880217 -0.19599712 -0.19318778 -0.1903742\n",
      " -0.18755643 -0.18473452 -0.18190851 -0.17907846 -0.17624441 -0.17340641\n",
      " -0.17056451 -0.16771877 -0.16486923 -0.16201594 -0.15915895 -0.15629832\n",
      " -0.15343409 -0.15056632 -0.14769506 -0.14482036 -0.14194227 -0.13906085\n",
      " -0.13617615 -0.13328822 -0.13039712 -0.1275029  -0.12460561 -0.12170531\n",
      " -0.11880205 -0.1158959  -0.11298689 -0.11007509 -0.10716056 -0.10424335\n",
      " -0.10132351 -0.09840111 -0.09547619 -0.09254883 -0.08961906 -0.08668696\n",
      " -0.08375257 -0.08081597 -0.07787719 -0.07493631 -0.07199338 -0.06904847\n",
      " -0.06610162 -0.0631529 ]\n",
      "[38.3836712  38.38475042 38.38581817 38.38687435 38.38791891 38.38895176\n",
      " 38.38997284 38.39098208 38.39197941 38.39296475 38.39393803 38.39489919\n",
      " 38.39584815 38.39678485 38.39770921 38.39862116 38.39952064 38.40040758\n",
      " 38.4012819  38.40214355 38.40299244 38.40382852 38.40465172 38.40546197\n",
      " 38.4062592  38.40704334 38.40781434 38.40857212 38.40931661 38.41004776\n",
      " 38.4107655  38.41146976 38.41216048 38.4128376  38.41350104 38.41415076\n",
      " 38.41478667 38.41540873 38.41601687 38.41661103 38.41719115 38.41775716\n",
      " 38.418309   38.41884662 38.41936995 38.41987894 38.42037352 38.42085364\n",
      " 38.42131924 38.42177026]\n"
     ]
    }
   ],
   "source": [
    "# print(_cost)\n",
    "# t=np.random.uniform(0,1,size=50,requires_grad=False)\n",
    "print(t)\n",
    "pred_train_X=np.array([classical_quantum_net(theta1,w1,t) for t in t])\n",
    "pred_train_Y=(np.array([classical_quantum_net_prime(theta1,w1,t) for t in t])+ws)\n",
    "print(pred_train_X)\n",
    "print(pred_train_Y)\n",
    "# pred_train_Y=np.array([classical_quantum_net(theta2,w2,t) for t in t])"
   ]
  },
  {
   "cell_type": "code",
   "execution_count": 27,
   "metadata": {},
   "outputs": [
    {
     "data": {
      "image/png": "[encoded data removed]",
      "text/plain": [
       "<Figure size 640x480 with 1 Axes>"
      ]
     },
     "metadata": {},
     "output_type": "display_data"
    },
    {
     "data": {
      "image/png": "[encoded data removed]",
      "text/plain": [
       "<Figure size 640x480 with 1 Axes>"
      ]
     },
     "metadata": {},
     "output_type": "display_data"
    }
   ],
   "source": [
    "plt.figure()\n",
    "\n",
    "plt.scatter(t,y_delta_real,facecolors='none', edgecolors='r', label='True - del_t')\n",
    "plt.scatter(t,pred_train_X, color='red',marker=\"x\",s=4,label='Prediction - del_t')\n",
    "plt.xlabel('t',fontsize=16)\n",
    "plt.ylabel('del_t',fontsize=16)\n",
    "plt.figure()\n",
    "plt.scatter(t,y_omega_real,facecolors='none', edgecolors='g', label='True - omega_t')\n",
    "\n",
    "plt.scatter(t,pred_train_Y, color='green',marker=\"x\",s=4,label='Prediction - omega_t')\n",
    "\n",
    "plt.xlabel('t',fontsize=16)\n",
    "plt.ylabel('omega_t',fontsize=16)\n",
    "plt.xticks(fontsize=10)\n",
    "plt.yticks(fontsize=10)\n",
    "plt.legend(loc='upper center',bbox_to_anchor=(0.5,1.18),ncol=2,fontsize=16)\n",
    "# plt.savefig('1_measurement2_train.png')\n",
    "plt.show()"
   ]
  }
 ],
 "metadata": {
  "kernelspec": {
   "display_name": "base",
   "language": "python",
   "name": "python3"
  },
  "language_info": {
   "codemirror_mode": {
    "name": "ipython",
    "version": 3
   },
   "file_extension": ".py",
   "mimetype": "text/x-python",
   "name": "python",
   "nbconvert_exporter": "python",
   "pygments_lexer": "ipython3",
   "version": "3.11.4"
  },
  "orig_nbformat": 4
 },
 "nbformat": 4,
 "nbformat_minor": 2
}
