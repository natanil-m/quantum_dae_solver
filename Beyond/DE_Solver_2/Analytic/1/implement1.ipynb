{
 "cells": [
  {
   "cell_type": "code",
   "execution_count": 127,
   "metadata": {},
   "outputs": [],
   "source": [
    "from math import pi\n",
    "import matplotlib.pyplot as plt\n",
    "from pennylane import numpy as np\n",
    "import pennylane as qml\n",
    "from pennylane.optimize import AdamOptimizer\n",
    "import datetime\n",
    "now=datetime.datetime.now"
   ]
  },
  {
   "cell_type": "code",
   "execution_count": 128,
   "metadata": {},
   "outputs": [
    {
     "name": "stdout",
     "output_type": "stream",
     "text": [
      "55\n"
     ]
    }
   ],
   "source": [
    "num_qubits=2\n",
    "dev=qml.device('default.qubit', wires=num_qubits)\n",
    "seed = 55\n",
    "np.random.seed(seed)\n",
    "print(seed)"
   ]
  },
  {
   "cell_type": "code",
   "execution_count": 129,
   "metadata": {},
   "outputs": [],
   "source": [
    "# Boundary condition \n",
    "coefii = 1\n",
    "\n",
    "# del_0 = 0  #del\n",
    "# omega_0 = 0     #w\n",
    "del_0_v = -1/coefii\n",
    "omega_0_v = 383.9911/coefii"
   ]
  },
  {
   "cell_type": "code",
   "execution_count": 130,
   "metadata": {},
   "outputs": [],
   "source": [
    "# Differential equation parameters\n",
    "ws = 376.9911\n",
    "\n",
    "# ws = 0.376\n",
    "# coefii = ws/4\n",
    "K1 = 5/coefii\n",
    "K2 = 10/coefii\n",
    "K3 = 1.7/coefii\n",
    "ws = ws/coefii\n",
    "\n",
    "def F_E1(delta_prime, delta,omega_prime,omega, t):       # DE, works with numpy arrays\n",
    "    return (delta_prime+ws-omega)\n",
    "    # return X_prime+ws-Y \n",
    "\n",
    "def F_E2(delta_prime, delta,omega_prime,omega, t):       # DE, works with numpy arrays\n",
    "    # return Y_prime\n",
    "    return omega_prime-K1+K2*coefii*delta+K3*(-ws+omega)*coefii"
   ]
  },
  {
   "cell_type": "code",
   "execution_count": 131,
   "metadata": {},
   "outputs": [],
   "source": [
    "# # Differential equation's exact solution - for comparison\n",
    "# def X_t(t):\n",
    "#     # return X_0_v*np.cos(t)+(3*X_0_v+2*Y_0_v)*np.sin(t)\n",
    "#     return 0\n",
    "\n",
    "# def Y_t(t):\n",
    "#     return 0"
   ]
  },
  {
   "cell_type": "code",
   "execution_count": 132,
   "metadata": {},
   "outputs": [],
   "source": [
    "# t=np.random.uniform(0,1,size=50,requires_grad=False)\n",
    "t = [0.0, 0.02040816326530612, 0.04081632653061224, 0.061224489795918366, 0.08163265306122448, 0.10204081632653061, 0.12244897959183673, 0.14285714285714285, 0.16326530612244897, 0.1836734693877551, 0.20408163265306123, 0.22448979591836735, 0.24489795918367346, 0.2653061224489796, 0.2857142857142857, 0.30612244897959184, 0.32653061224489793, 0.3469387755102041, 0.3673469387755102, 0.3877551020408163, 0.40816326530612246, 0.42857142857142855, 0.4489795918367347, 0.46938775510204084, 0.4897959183673469, 0.5102040816326531, 0.5306122448979592, 0.5510204081632653, 0.5714285714285714, 0.5918367346938775, 0.6122448979591837, 0.6326530612244898, 0.6530612244897959, 0.673469387755102, 0.6938775510204082, 0.7142857142857143, 0.7346938775510204, 0.7551020408163265, 0.7755102040816326, 0.7959183673469388, 0.8163265306122449, 0.8367346938775511, 0.8571428571428571, 0.8775510204081632, 0.8979591836734694, 0.9183673469387755, 0.9387755102040817, 0.9591836734693877, 0.9795918367346939, 1.0]\n"
   ]
  },
  {
   "cell_type": "code",
   "execution_count": 133,
   "metadata": {},
   "outputs": [],
   "source": [
    "# define embedding layer\n",
    "def embedding(x,wires):\n",
    "    qml.RY(x, wires=wires[1])"
   ]
  },
  {
   "cell_type": "code",
   "execution_count": 134,
   "metadata": {},
   "outputs": [],
   "source": [
    "def Ham():\n",
    "    obs=[]\n",
    "    for j in range(num_qubits):\n",
    "        obs.append(qml.PauliX(j))\n",
    "        for k in range(j):\n",
    "            obs.append(qml.PauliZ(j)@qml.PauliZ(k))\n",
    "    coeffs=np.random.uniform(-1,1,len(obs))*10\n",
    "    qml.Hamiltonian(coeffs, obs)"
   ]
  },
  {
   "cell_type": "code",
   "execution_count": 135,
   "metadata": {},
   "outputs": [],
   "source": [
    "# define ansastz layer\n",
    "def layer(theta):\n",
    "    \n",
    "    # Apply Hamiltonian matrix\n",
    "    Ham()\n",
    "    \n",
    "    # Apply H gate\n",
    "    qml.Hadamard(0)\n",
    "    \n",
    "    # rotations on qubit 1\n",
    "    qml.RY(theta,wires=1)\n",
    "    \n",
    "    # CNOT\n",
    "    qml.CNOT(wires=[0, 1])"
   ]
  },
  {
   "cell_type": "code",
   "execution_count": 136,
   "metadata": {},
   "outputs": [],
   "source": [
    "@qml.qnode(dev, diff_method=\"backprop\", interface=\"autograd\")\n",
    "def quantum_net(theta,x):\n",
    "    \n",
    "    # encode data\n",
    "    embedding(x,wires=range(num_qubits))\n",
    "    \n",
    "    # parameterized circuit layers\n",
    "    for v in theta: # (for lool along with the first dimension)\n",
    "        # print(v)\n",
    "        # Ham()\n",
    "        layer(v)\n",
    "    \n",
    "    qml.Hadamard(0)\n",
    "    \n",
    "    # return qml.expval(qml.PauliZ(0)),qml.expval(qml.PauliZ(1))\n",
    "    return qml.expval(qml.PauliZ(0))"
   ]
  },
  {
   "cell_type": "code",
   "execution_count": 137,
   "metadata": {},
   "outputs": [
    {
     "name": "stdout",
     "output_type": "stream",
     "text": [
      "0: ──H────────────────╭●──H──────╭●──H──────╭●──H──────╭●──H─┤  <Z>\n",
      "1: ──RY(0.00)──RY(M0)─╰X──RY(M1)─╰X──RY(M2)─╰X──RY(M3)─╰X────┤     \n",
      "M0 = \n",
      "[0.19281925]\n",
      "M1 = \n",
      "[6.27760015]\n",
      "M2 = \n",
      "[1.5686684]\n",
      "M3 = \n",
      "[2.057436]\n"
     ]
    }
   ],
   "source": [
    "num_layers=4\n",
    "theta1=np.random.uniform(0,2*pi,size=(num_layers,num_qubits-1),requires_grad=True)\n",
    "# theta2=np.random.uniform(0,2*pi,size=(num_layers,num_qubits-1),requires_grad=True)\n",
    "theta1 = np.load('theta20.npy')\n",
    "print(qml.draw(quantum_net)(theta1,0))"
   ]
  },
  {
   "cell_type": "code",
   "execution_count": 138,
   "metadata": {},
   "outputs": [],
   "source": [
    "# add the classical layer   #TODO\n",
    "def classical_quantum_net(theta,w,t):\n",
    "\n",
    "    r1=quantum_net(theta,t)[0]\n",
    "    # r2=quantum_net(theta,x)[1]\n",
    "    # return w[0]+w[1]*r1+w[2]*r1**2+w[3]*r2+w[4]*r2**2\n",
    "    return w[0]+w[1]*r1+w[2]*r1**2\n",
    "    # r1=quantum_net(theta,x)\n",
    "    return r1"
   ]
  },
  {
   "cell_type": "code",
   "execution_count": 139,
   "metadata": {},
   "outputs": [],
   "source": [
    "# add the classical layer   #TODO\n",
    "def classical_quantum_net_efficient(r1,w):\n",
    "    return w[0]+w[1]*r1+w[2]*r1**2"
   ]
  },
  {
   "cell_type": "code",
   "execution_count": 140,
   "metadata": {},
   "outputs": [],
   "source": [
    "def classical_quantum_net_prime(theta,w,t):\n",
    "\n",
    "\n",
    "\n",
    "    r1=quantum_net(theta,t)[0]\n",
    "\n",
    "    r1_prime = qml.grad(quantum_net,argnum=1)(theta,np.tensor(t)) \n",
    "    # r2=quantum_net(theta,x)[1]\n",
    "    # return w[0]+w[1]*r1+w[2]*r1**2+w[3]*r2+w[4]*r2**2\n",
    "    return w[1]*r1_prime+2*w[2]*r1_prime*r1\n"
   ]
  },
  {
   "cell_type": "code",
   "execution_count": 141,
   "metadata": {},
   "outputs": [],
   "source": [
    "def classical_quantum_net_double_prime(theta,w,t):\n",
    "\n",
    "   r1=quantum_net(theta,t)[0]\n",
    "   r1_prime = qml.grad(quantum_net,argnum=1)(theta,np.tensor(t)) \n",
    "\n",
    "\n",
    "   #Calculate double prime\n",
    "   F_pos_pos_pi = quantum_net(theta,t+np.pi)[0]\n",
    "   F_phi = quantum_net(theta,t)[0]\n",
    "   F_phi_neg_pi = quantum_net(theta,t-np.pi)[0]\n",
    "   r1_double_prime = (1/4)*(F_pos_pos_pi-2*F_phi+F_phi_neg_pi)\n",
    "\n",
    "\n",
    "   return w[1]*r1_double_prime+2*w[2]*(r1_prime*r1_prime+r1*r1_double_prime)"
   ]
  },
  {
   "cell_type": "code",
   "execution_count": 142,
   "metadata": {},
   "outputs": [],
   "source": [
    "# def square_loss(labels,predictions):\n",
    "#     loss=0\n",
    "#     for l,p in zip(labels,predictions):\n",
    "#         loss=loss+(l-p)**2\n",
    "#     loss=loss/len(labels)\n",
    "#     return loss"
   ]
  },
  {
   "cell_type": "code",
   "execution_count": 143,
   "metadata": {},
   "outputs": [],
   "source": [
    "# #loss boundary\n",
    "# def loss_b(U_predict):\n",
    "    \n",
    "    "
   ]
  },
  {
   "cell_type": "code",
   "execution_count": 144,
   "metadata": {},
   "outputs": [],
   "source": [
    "def cost(theta1,w1,t):\n",
    "\n",
    "    # loss inner points\n",
    "    loss_i = 0\n",
    "\n",
    "    del_t_pred = np.array([classical_quantum_net(theta=theta1,w=w1,t=point) for point in t])\n",
    "    del_t_prime = np.array([classical_quantum_net_prime(theta=theta1,w=w1,t=point) for point in t])\n",
    "    \n",
    "    omega_t_pred = del_t_prime+ws\n",
    "    # Y_t_prime = np.array([classical_quantum_net_prime(theta=theta2,w=w2,t=point) for point in t])\n",
    "    omega_t_prime = np.array([classical_quantum_net_double_prime(theta=theta1,w=w1,t=point) for point in t])\n",
    "\n",
    "    loss_i += np.mean(F_E1(delta=del_t_pred,omega=omega_t_pred,delta_prime=del_t_prime,omega_prime=omega_t_prime,t=t)**2)\n",
    "    loss_i += np.mean(F_E2(delta=del_t_pred,omega=omega_t_pred,delta_prime=del_t_prime,omega_prime=omega_t_prime,t=t)**2)\n",
    "\n",
    "    # # loss boundary points\n",
    "    loss_b = 0\n",
    "    del_0_pred = classical_quantum_net(theta1,w1,0)\n",
    "    omega_0_pred = classical_quantum_net_prime(theta1,w1,0)+ws\n",
    "\n",
    "    # # print(U_0)\n",
    "    loss_b += (del_0_v-del_0_pred)**2+(omega_0_v-omega_0_pred)**2\n",
    "    return 2*loss_b + loss_i\n",
    "    # return 0.2*loss_b + 0.8*loss_i\n",
    "\n",
    "    return loss_i"
   ]
  },
  {
   "cell_type": "code",
   "execution_count": 145,
   "metadata": {},
   "outputs": [],
   "source": [
    "w1=np.zeros(3,requires_grad=True)\n",
    "w1 = np.load('w20.npy')\n",
    "\n",
    "# w2=np.zeros(3,requires_grad=True)\n",
    "opt = AdamOptimizer(0.05, beta1=0.9, beta2=0.999)"
   ]
  },
  {
   "cell_type": "code",
   "execution_count": 146,
   "metadata": {},
   "outputs": [
    {
     "name": "stdout",
     "output_type": "stream",
     "text": [
      "2023-09-07 19:07:05.498336\n"
     ]
    }
   ],
   "source": [
    "start=now()\n",
    "print(start)"
   ]
  },
  {
   "cell_type": "code",
   "execution_count": null,
   "metadata": {},
   "outputs": [],
   "source": []
  },
  {
   "cell_type": "code",
   "execution_count": 147,
   "metadata": {},
   "outputs": [
    {
     "name": "stdout",
     "output_type": "stream",
     "text": [
      "Epoch: 1 | Cost: 6.078365809293225\n",
      "Epoch: 2 | Cost: 12.719585312007256\n",
      "Epoch: 3 | Cost: 6.286768127237584\n",
      "Epoch: 4 | Cost: 8.190653467363331\n",
      "Epoch: 5 | Cost: 10.056031744484399\n",
      "Epoch: 6 | Cost: 8.89584491403486\n",
      "Epoch: 7 | Cost: 6.918814472748972\n",
      "Epoch: 8 | Cost: 6.081715276332982\n",
      "Epoch: 9 | Cost: 6.718447253309346\n",
      "Epoch: 10 | Cost: 7.557400077956304\n",
      "Epoch: 11 | Cost: 7.433794018765865\n",
      "Epoch: 12 | Cost: 6.639950036726945\n",
      "Epoch: 13 | Cost: 6.124305346212416\n",
      "Epoch: 14 | Cost: 6.326181496521172\n",
      "Epoch: 15 | Cost: 6.857995661607008\n",
      "Epoch: 16 | Cost: 7.067675996018583\n",
      "Epoch: 17 | Cost: 6.762187226998042\n",
      "Epoch: 18 | Cost: 6.294708453703062\n",
      "Epoch: 19 | Cost: 6.118693570399385\n",
      "Epoch: 20 | Cost: 6.328470964824569\n",
      "Epoch: 21 | Cost: 6.595655389923782\n",
      "Epoch: 22 | Cost: 6.584514924400162\n",
      "Epoch: 23 | Cost: 6.330140607956563\n",
      "Epoch: 24 | Cost: 6.119664201517836\n",
      "Epoch: 25 | Cost: 6.13182222468504\n",
      "Epoch: 26 | Cost: 6.28273741397213\n",
      "Epoch: 27 | Cost: 6.370958640596214\n",
      "Epoch: 28 | Cost: 6.3001470800658605\n",
      "Epoch: 29 | Cost: 6.1509843218754545\n",
      "Epoch: 30 | Cost: 6.0709277590379545\n",
      "Epoch: 31 | Cost: 6.114886519797487\n",
      "Epoch: 32 | Cost: 6.198373429224451\n",
      "Epoch: 33 | Cost: 6.20869656850338\n",
      "Epoch: 34 | Cost: 6.135442398792841\n",
      "Epoch: 35 | Cost: 6.062940387748995\n",
      "Epoch: 36 | Cost: 6.058913461725481\n",
      "Epoch: 37 | Cost: 6.105958886400894\n",
      "Epoch: 38 | Cost: 6.136760653576529\n",
      "Epoch: 39 | Cost: 6.1131672017997065\n",
      "Epoch: 40 | Cost: 6.061765349269616\n",
      "Epoch: 41 | Cost: 6.036452507705652\n",
      "Epoch: 42 | Cost: 6.054997549494829\n",
      "Epoch: 43 | Cost: 6.0825992430478335\n",
      "Epoch: 44 | Cost: 6.079525441745986\n",
      "Epoch: 45 | Cost: 6.049238631708757\n",
      "Epoch: 46 | Cost: 6.027175723526716\n",
      "Epoch: 47 | Cost: 6.033239358824169\n",
      "Epoch: 48 | Cost: 6.051137337185439\n",
      "Epoch: 49 | Cost: 6.0535670322411255\n",
      "Epoch: 50 | Cost: 6.036189005737889\n",
      "Epoch: 51 | Cost: 6.019495601331453\n",
      "Epoch: 52 | Cost: 6.02038399503655\n",
      "Epoch: 53 | Cost: 6.031505400896558\n",
      "Epoch: 54 | Cost: 6.033839076170887\n",
      "Epoch: 55 | Cost: 6.022804516944423\n",
      "Epoch: 56 | Cost: 6.011915009222646\n",
      "Epoch: 57 | Cost: 6.0123390947231785\n",
      "Epoch: 58 | Cost: 6.018855330654601\n",
      "Epoch: 59 | Cost: 6.019321933933608\n",
      "Epoch: 60 | Cost: 6.011596066790697\n",
      "Epoch: 61 | Cost: 6.004780569743653\n",
      "Epoch: 62 | Cost: 6.005394868729315\n",
      "Epoch: 63 | Cost: 6.008949278760418\n",
      "Epoch: 64 | Cost: 6.007726268491366\n",
      "Epoch: 65 | Cost: 6.001919836877666\n",
      "Epoch: 66 | Cost: 5.998085858748512\n",
      "Epoch: 67 | Cost: 5.998960468032861\n",
      "Epoch: 68 | Cost: 6.000292089967511\n",
      "Epoch: 69 | Cost: 5.9979759859784885\n",
      "Epoch: 70 | Cost: 5.99379838515514\n",
      "Epoch: 71 | Cost: 5.991926481917373\n",
      "Epoch: 72 | Cost: 5.992559148020582\n",
      "Epoch: 73 | Cost: 5.992282924035694\n",
      "Epoch: 74 | Cost: 5.989638231246587\n",
      "Epoch: 75 | Cost: 5.986933141752028\n",
      "Epoch: 76 | Cost: 5.9861931265529424\n",
      "Epoch: 77 | Cost: 5.986215466357448\n",
      "Epoch: 78 | Cost: 5.984922953030385\n",
      "Epoch: 79 | Cost: 5.982604864406916\n",
      "Epoch: 80 | Cost: 5.981065075212255\n",
      "Epoch: 81 | Cost: 5.9806430492441764\n",
      "Epoch: 82 | Cost: 5.9799513585989565\n",
      "Epoch: 83 | Cost: 5.978294353465666\n",
      "Epoch: 84 | Cost: 5.976615641272392\n",
      "Epoch: 85 | Cost: 5.975746903704303\n",
      "Epoch: 86 | Cost: 5.975139258954803\n",
      "Epoch: 87 | Cost: 5.973966789707987\n",
      "Epoch: 88 | Cost: 5.972461495301888\n",
      "Epoch: 89 | Cost: 5.971358133296823\n",
      "Epoch: 90 | Cost: 5.970647785877946\n",
      "Epoch: 91 | Cost: 5.969723164781122\n",
      "Epoch: 92 | Cost: 5.968453282350751\n",
      "Epoch: 93 | Cost: 5.967308976027951\n",
      "Epoch: 94 | Cost: 5.966496243115002\n",
      "Epoch: 95 | Cost: 5.965670661611442\n",
      "Epoch: 96 | Cost: 5.9645941668516835\n",
      "Epoch: 97 | Cost: 5.963503415967438\n",
      "Epoch: 98 | Cost: 5.9626388080333825\n",
      "Epoch: 99 | Cost: 5.961846646332883\n",
      "Epoch: 100 | Cost: 5.96090129901254\n"
     ]
    }
   ],
   "source": [
    "epochs=100\n",
    "cost_max = 10000\n",
    "theta1_best = None\n",
    "w1_best = None\n",
    "\n",
    "# theta1=np.load('theta40.npy')\n",
    "# w1= np.load('w40.npy')\n",
    "\n",
    "\n",
    "for e in range(1,epochs+1):\n",
    "\n",
    "    # (theta1,theta2,w1,w2,_),_cost=opt.step_and_cost(cost,theta1,theta2,w1,w2,t)\n",
    "    (theta1,w1,_),_cost=opt.step_and_cost(cost,theta1,w1,t)\n",
    "\n",
    "    if _cost<cost_max:\n",
    "        cost_max = _cost\n",
    "        theta1_best = theta1\n",
    "        w1_best = w1\n",
    "\n",
    "    # (theta,_),_cost=opt.step_and_cost(cost,theta,t)\n",
    "    if e==1 or e%1==0:\n",
    "        print(f'Epoch: {e} | Cost: {_cost}')\n",
    "\n"
   ]
  },
  {
   "cell_type": "code",
   "execution_count": 148,
   "metadata": {},
   "outputs": [
    {
     "name": "stdout",
     "output_type": "stream",
     "text": [
      "[[0.22080988]\n",
      " [6.31827787]\n",
      " [1.60064338]\n",
      " [2.03463734]]\n",
      "[ 1.02763522 -4.06351675 -5.89775763]\n"
     ]
    }
   ],
   "source": [
    "seed =20\n",
    "np.save('theta'+str(seed), theta1)\n",
    "np.save('w'+str(seed),w1)\n",
    "print(theta1)\n",
    "print(w1)"
   ]
  },
  {
   "cell_type": "code",
   "execution_count": 149,
   "metadata": {},
   "outputs": [],
   "source": [
    "\n"
   ]
  },
  {
   "cell_type": "code",
   "execution_count": 150,
   "metadata": {},
   "outputs": [],
   "source": [
    "def delta(t):\n",
    "    sqrt_10 = np.sqrt(10)\n",
    "    result = (7 * np.sin(sqrt_10 * t) / sqrt_10) - (3 * np.cos(sqrt_10 * t) / 2) + 1/2\n",
    "    return result\n",
    "\n",
    "def omega(t):\n",
    "    sqrt_10 = np.sqrt(10)\n",
    "    result = (3*sqrt_10 * np.sin(sqrt_10 * t) / 2) + (7 * np.cos(sqrt_10 * t)) + (3769911/10000)\n",
    "    return result\n",
    "y_delta_real = [delta(t) for t in t]\n",
    "y_omega_real = [omega(t) for t in t]\n",
    "# print(y_delta_real)\n"
   ]
  },
  {
   "cell_type": "code",
   "execution_count": 151,
   "metadata": {},
   "outputs": [
    {
     "name": "stdout",
     "output_type": "stream",
     "text": [
      "[0.0, 0.02040816326530612, 0.04081632653061224, 0.061224489795918366, 0.08163265306122448, 0.10204081632653061, 0.12244897959183673, 0.14285714285714285, 0.16326530612244897, 0.1836734693877551, 0.20408163265306123, 0.22448979591836735, 0.24489795918367346, 0.2653061224489796, 0.2857142857142857, 0.30612244897959184, 0.32653061224489793, 0.3469387755102041, 0.3673469387755102, 0.3877551020408163, 0.40816326530612246, 0.42857142857142855, 0.4489795918367347, 0.46938775510204084, 0.4897959183673469, 0.5102040816326531, 0.5306122448979592, 0.5510204081632653, 0.5714285714285714, 0.5918367346938775, 0.6122448979591837, 0.6326530612244898, 0.6530612244897959, 0.673469387755102, 0.6938775510204082, 0.7142857142857143, 0.7346938775510204, 0.7551020408163265, 0.7755102040816326, 0.7959183673469388, 0.8163265306122449, 0.8367346938775511, 0.8571428571428571, 0.8775510204081632, 0.8979591836734694, 0.9183673469387755, 0.9387755102040817, 0.9591836734693877, 0.9795918367346939, 1.0]\n",
      "[-0.29833513 -0.163515   -0.03274394  0.09386163  0.21619271  0.33414778\n",
      "  0.44763294  0.55656206  0.66085683  0.76044689  0.85526987  0.94527148\n",
      "  1.03040554  1.11063402  1.18592705  1.25626294  1.32162817  1.38201736\n",
      "  1.43743325  1.48788664  1.53339634  1.57398908  1.60969944  1.64056975\n",
      "  1.66664995  1.6879975   1.70467722  1.71676114  1.72432837  1.72746488\n",
      "  1.72626334  1.72082293  1.71124912  1.69765347  1.68015338  1.65887189\n",
      "  1.6339374   1.60548344  1.57364842  1.5385753   1.50041141  1.45930809\n",
      "  1.41542043  1.36890697  1.31992942  1.26865232  1.21524277  1.15987007\n",
      "  1.10270547  1.04392179]\n",
      "[383.69449971 383.49906433 383.29774802 383.09090802 382.8789087\n",
      " 382.66212095 382.44092153 382.21569247 381.9868204  381.7546959\n",
      " 381.51971288 381.28226788 381.04275944 380.80158739 380.55915226\n",
      " 380.31585451 380.07209398 379.82826911 379.58477639 379.34200961\n",
      " 379.10035926 378.86021188 378.62194942 378.3859486  378.1525803\n",
      " 377.92220897 377.69519197 377.47187908 377.25261184 377.03772306\n",
      " 376.82753624 376.62236504 376.42251283 376.22827213 376.03992417\n",
      " 375.85773845 375.6819723  375.51287046 375.3506647  375.19557348\n",
      " 375.04780156 374.90753971 374.77496441 374.65023758 374.53350635\n",
      " 374.42490281 374.32454383 374.2325309  374.14894998 374.07387139]\n"
     ]
    }
   ],
   "source": [
    "# print(_cost)\n",
    "# t=np.random.uniform(0,1,size=50,requires_grad=False)\n",
    "print(t)\n",
    "pred_train_X=np.array([classical_quantum_net(theta1,w1,t) for t in t])\n",
    "pred_train_Y=(np.array([classical_quantum_net_prime(theta1,w1,t) for t in t])+ws)\n",
    "print(pred_train_X)\n",
    "print(pred_train_Y)\n",
    "# pred_train_Y=np.array([classical_quantum_net(theta2,w2,t) for t in t])"
   ]
  },
  {
   "cell_type": "code",
   "execution_count": 152,
   "metadata": {},
   "outputs": [
    {
     "data": {
      "image/png": "[encoded data removed]",
      "text/plain": [
       "<Figure size 640x480 with 1 Axes>"
      ]
     },
     "metadata": {},
     "output_type": "display_data"
    },
    {
     "data": {
      "image/png": "[encoded data removed]",
      "text/plain": [
       "<Figure size 640x480 with 1 Axes>"
      ]
     },
     "metadata": {},
     "output_type": "display_data"
    }
   ],
   "source": [
    "plt.figure()\n",
    "\n",
    "plt.scatter(t,y_delta_real,facecolors='none', edgecolors='r', label='True - del_t')\n",
    "plt.scatter(t,pred_train_X, color='red',marker=\"x\",s=4,label='Prediction - del_t')\n",
    "plt.xlabel('t',fontsize=16)\n",
    "plt.ylabel('del_t',fontsize=16)\n",
    "plt.figure()\n",
    "plt.scatter(t,y_omega_real,facecolors='none', edgecolors='g', label='True - omega_t')\n",
    "\n",
    "plt.scatter(t,pred_train_Y, color='green',marker=\"x\",s=4,label='Prediction - omega_t')\n",
    "\n",
    "plt.xlabel('t',fontsize=16)\n",
    "plt.ylabel('omega_t',fontsize=16)\n",
    "plt.xticks(fontsize=10)\n",
    "plt.yticks(fontsize=10)\n",
    "plt.legend(loc='upper center',bbox_to_anchor=(0.5,1.18),ncol=2,fontsize=16)\n",
    "# plt.savefig('1_measurement2_train.png')\n",
    "plt.show()"
   ]
  }
 ],
 "metadata": {
  "kernelspec": {
   "display_name": "base",
   "language": "python",
   "name": "python3"
  },
  "language_info": {
   "codemirror_mode": {
    "name": "ipython",
    "version": 3
   },
   "file_extension": ".py",
   "mimetype": "text/x-python",
   "name": "python",
   "nbconvert_exporter": "python",
   "pygments_lexer": "ipython3",
   "version": "3.11.4"
  },
  "orig_nbformat": 4
 },
 "nbformat": 4,
 "nbformat_minor": 2
}
