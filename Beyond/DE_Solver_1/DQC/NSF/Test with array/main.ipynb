{
 "cells": [
  {
   "cell_type": "code",
   "execution_count": 34,
   "id": "b3dec768-d558-4a2b-a671-b110a9f576eb",
   "metadata": {},
   "outputs": [],
   "source": [
    "from math import pi\n",
    "import matplotlib.pyplot as plt\n",
    "from pennylane import numpy as np\n",
    "import pennylane as qml\n",
    "from pennylane.optimize import AdamOptimizer\n",
    "import datetime\n",
    "now=datetime.datetime.now"
   ]
  },
  {
   "cell_type": "markdown",
   "id": "61b6f3bd-df84-4361-a3d1-6f26f077528e",
   "metadata": {},
   "source": [
    "## Generate data"
   ]
  },
  {
   "cell_type": "markdown",
   "id": "4b882c6f-5178-4360-b43f-4ac14defc769",
   "metadata": {},
   "source": [
    "$f(x)=0.2\\sin(2\\pi x)+0.8\\cos^2(2\\pi x)$"
   ]
  },
  {
   "cell_type": "code",
   "execution_count": 35,
   "id": "452baf7b-9b9b-40f7-8dcd-56c23e085f07",
   "metadata": {},
   "outputs": [],
   "source": [
    "coef=2*pi\n",
    "def my_objective(X):\n",
    "    Y=0.2*np.sin(coef*X)+0.8*np.cos(coef*X)**2\n",
    "    return Y"
   ]
  },
  {
   "cell_type": "code",
   "execution_count": 36,
   "id": "dd306391-4423-47b7-86f2-6dad5a1cabae",
   "metadata": {},
   "outputs": [],
   "source": [
    "np.random.seed(2)\n",
    "# X=np.random.uniform(-0.95,0.95,size=100,requires_grad=False)\n",
    "# X = np.array([0.0, 0.08342367850375802, 0.18318251020106574, 0.3007356111824991, 0.5243630528152393, 0.6824476016827258, 0.952879423128048, 1.1774375709353138, 1.4910707362395683, 1.8264525501053952, 2.2419074609601632, 2.6618858124991758, 3.0])\n",
    "# X = np.array([0.0, 0.08342367850375802, 0.18318251020106574, 0.3007356111824991, 0.5])\n",
    "X = np.array([0.0, 0.034482758620689655, 0.06896551724137931, 0.10344827586206896, 0.13793103448275862, 0.1724137931034483, 0.20689655172413793, 0.2413793103448276, 0.27586206896551724, 0.3103448275862069, 0.3448275862068966, 0.3793103448275862, 0.41379310344827586, 0.4482758620689655, 0.4827586206896552, 0.5172413793103449, 0.5517241379310345, 0.5862068965517241, 0.6206896551724138, 0.6551724137931034, 0.6896551724137931, 0.7241379310344828, 0.7586206896551724, 0.7931034482758621, 0.8275862068965517, 0.8620689655172413, 0.896551724137931, 0.9310344827586207, 0.9655172413793104, 1.0])"
   ]
  },
  {
   "cell_type": "code",
   "execution_count": 37,
   "id": "581e5824-c4b0-4571-bac2-38f47c342937",
   "metadata": {},
   "outputs": [],
   "source": [
    "# Y=my_objective(X)\n",
    "# Y= np.array([-0.001, -0.00041528812887825647, 0.00025517430484374545, 0.0009379129702730915, 0.0018011049776268354, 0.0021210550871378427, 0.0023468584951683398, 0.002367243059609783, 0.002243680444979725, 0.0019197060057590694, 0.0011995205118650479, 0.000391464309120407, 0.00013429105465252782])\n",
    "# Y= np.array([0.38399110000000003, 0.3838941812236657, 0.3831899421241309, 0.38172837464236653, 0.37973497570501347, 0.37834396454167524, 0.37734002780076376, 0.3768314405714205, 0.37632329592222225, 0.37564195262090877, 0.37490976903397416, 0.37565073949536915, 0.3769239598340501])\n",
    "# Y= np.array([0.38399110000000003, 0.383948618458542, 0.3833812626222834, 0.382149128940879, 0.37989028218685367])\n",
    "# Y= np.array([0.38399110000000003, 0.3840170742666061, 0.3839828869051081, 0.38388080507535627, 0.3837084525832887, 0.3834687819772455, 0.3831695665609072, 0.3828221367988043, 0.38243947475520884, 0.38203501373261006, 0.38162167318117335, 0.38121007360346926, 0.380808830348092, 0.3804246331233159, 0.3800622459970958, 0.3797245073970667, 0.3794125382257852, 0.3791264976216649, 0.3788657684834297, 0.3786292586496905, 0.37841540822153996, 0.3782222796510877, 0.3780481110866354, 0.3778912225937809, 0.37774994280676005, 0.37762260892844646, 0.37750756673035174, 0.37740317055262523, 0.37730781807501274, 0.37722039327314166])\n",
    "# Y= np.array([-0.001, -0.0007580147137268737, -0.0005161441431999838, -0.0002766038911236454, -4.18025498849465e-5, 0.0001858829809860607, 0.0004042486211053274, 0.00061142620138972, 0.0008059829500031706, 0.0009869224819214766, 0.0011536545062710009, 0.001306172995104811, 0.0014447317357374572, 0.0015697638660640935, 0.0016818818745604792, 0.0017818776002829885, 0.001870679797199183, 0.0019491785973206543, 0.0020182495977967077, 0.002078741699533259, 0.0021314780618791013, 0.002177279126120058, 0.0022167862698442642, 0.0022505610025300295, 0.0022791360315497383, 0.002303015262169852, 0.0023226737975509085, 0.002338557938747521, 0.002351074688623273, 0.0023604673736205262])\n",
    "Y=np.array([-1.0, -0.7580154990560892, -0.5161437433812334, -0.2766048537207341, -0.041802674575424616, 0.1858833970784918, 0.4042480529018171, 0.6114303693104511, 0.8059786334143284, 0.9869146162730239, 1.153731102545101, 1.306287083509873, 1.4447964009065875, 1.569756535500465, 1.6818505996838096, 1.7818607204031671, 1.870659268765975, 1.9491714805132159, 2.01826958097265, 2.078783646966857, 2.131508852922671, 2.177205470871178, 2.2165986052292843, 2.2503340570846433, 2.278941382471026, 2.3029040274854604, 2.3226653388639713, 2.338628563981579, 2.351156850852302, 2.3605517871991557])"
   ]
  },
  {
   "cell_type": "code",
   "execution_count": 38,
   "id": "1c89704a-d690-49f3-bdbe-98b1e3c7f4fc",
   "metadata": {},
   "outputs": [
    {
     "name": "stdout",
     "output_type": "stream",
     "text": [
      "(30,)\n",
      "(30,)\n"
     ]
    }
   ],
   "source": [
    "print(X.shape)\n",
    "print(Y.shape)"
   ]
  },
  {
   "cell_type": "code",
   "execution_count": 39,
   "id": "4dc69b97-667c-4759-9224-872ec0ae5ec2",
   "metadata": {},
   "outputs": [
    {
     "data": {
      "image/png": "[encoded data removed]",
      "text/plain": [
       "<Figure size 640x480 with 1 Axes>"
      ]
     },
     "metadata": {},
     "output_type": "display_data"
    }
   ],
   "source": [
    "# plot data\n",
    "plt.scatter(X,Y,facecolors='none', edgecolors='b')\n",
    "plt.xlabel('x')\n",
    "plt.ylabel('f(x)')\n",
    "plt.title('Training set')\n",
    "plt.savefig('1_measurement2_target.png')\n",
    "plt.show()"
   ]
  },
  {
   "cell_type": "markdown",
   "id": "149bd281-b858-4ceb-bc59-d598c0d62138",
   "metadata": {},
   "source": [
    "## Set Device"
   ]
  },
  {
   "cell_type": "code",
   "execution_count": 40,
   "id": "cafd57ee-69d9-4a92-ad61-de3e69b047b7",
   "metadata": {},
   "outputs": [],
   "source": [
    "num_qubits=2\n",
    "dev=qml.device('default.qubit', wires=num_qubits)"
   ]
  },
  {
   "cell_type": "markdown",
   "id": "4ccb646b-8e71-4591-84af-30a181b465ef",
   "metadata": {},
   "source": [
    "## Define embedding layer"
   ]
  },
  {
   "cell_type": "code",
   "execution_count": 41,
   "id": "a28c8d80-5598-4abf-abd9-c58e800dbfd1",
   "metadata": {},
   "outputs": [],
   "source": [
    "# define my own embedding layer\n",
    "def myembedding(x,wires):\n",
    "    qml.RY(coef*x, wires=wires[1])"
   ]
  },
  {
   "cell_type": "markdown",
   "id": "60c706dd-a3a4-4700-91cc-df424178fc47",
   "metadata": {},
   "source": [
    "## Define the Hamiltonian matrix transformation layer"
   ]
  },
  {
   "cell_type": "code",
   "execution_count": 42,
   "id": "4d16f4da-2b63-430f-85d1-c4b3c66fb860",
   "metadata": {},
   "outputs": [],
   "source": [
    "def Ham():\n",
    "    obs=[]\n",
    "    for j in range(num_qubits):\n",
    "        obs.append(qml.PauliX(j))\n",
    "        for k in range(j):\n",
    "            obs.append(qml.PauliZ(j)@qml.PauliZ(k))\n",
    "    coeffs=np.random.uniform(-1,1,len(obs))*10\n",
    "    qml.Hamiltonian(coeffs, obs)"
   ]
  },
  {
   "cell_type": "markdown",
   "id": "12d8304a-47cb-434f-a885-061ffd6dee70",
   "metadata": {},
   "source": [
    "## Define ansatze"
   ]
  },
  {
   "cell_type": "code",
   "execution_count": 43,
   "id": "9d927082-14ec-4e13-b93a-da579e2cf7c5",
   "metadata": {},
   "outputs": [],
   "source": [
    "# define ansastz layer\n",
    "def layer(theta):\n",
    "    \n",
    "    # Apply Hamiltonian matrix\n",
    "    Ham()\n",
    "    \n",
    "    # Apply H gate\n",
    "    qml.Hadamard(0)\n",
    "    \n",
    "    # rotations on qubit 1\n",
    "    qml.RY(theta,wires=1)\n",
    "    \n",
    "    # CNOT\n",
    "    qml.CNOT(wires=[0, 1])"
   ]
  },
  {
   "cell_type": "code",
   "execution_count": 44,
   "id": "7b394fc5-b455-4717-afb8-dba214681226",
   "metadata": {},
   "outputs": [],
   "source": [
    "@qml.qnode(dev)\n",
    "def quantum_net(theta,x):\n",
    "    \n",
    "    # encode data\n",
    "    myembedding(x,wires=range(num_qubits))\n",
    "    \n",
    "    # parameterized circuit layers\n",
    "    for v in theta: # (for lool along with the first dimension)\n",
    "        # print(v)\n",
    "        # Ham()\n",
    "        layer(v)\n",
    "    \n",
    "    qml.Hadamard(0)\n",
    "    \n",
    "    return qml.expval(qml.PauliZ(0)),qml.expval(qml.PauliZ(1))"
   ]
  },
  {
   "cell_type": "code",
   "execution_count": 45,
   "id": "7560276c-fc76-44e9-86b2-c1671419c5d0",
   "metadata": {},
   "outputs": [
    {
     "name": "stdout",
     "output_type": "stream",
     "text": [
      "(4, 1)\n",
      "[[2.73943676]\n",
      " [0.16289932]\n",
      " [3.4536312 ]\n",
      " [2.73521126]]\n"
     ]
    }
   ],
   "source": [
    "num_layers=4\n",
    "theta=np.random.uniform(0,2*pi,size=(num_layers,num_qubits-1),requires_grad=True)\n",
    "print(theta.shape)\n",
    "print(theta)"
   ]
  },
  {
   "cell_type": "code",
   "execution_count": 46,
   "id": "a31729af-09d3-4362-b4c2-dda1c9bb26d6",
   "metadata": {},
   "outputs": [
    {
     "data": {
      "text/plain": [
       "(tensor([0.36737979], requires_grad=True),\n",
       " tensor([-0.98880068], requires_grad=True))"
      ]
     },
     "execution_count": 46,
     "metadata": {},
     "output_type": "execute_result"
    }
   ],
   "source": [
    "quantum_net(theta,0)"
   ]
  },
  {
   "cell_type": "code",
   "execution_count": 47,
   "id": "57c1c5e4-cfef-4e10-b0d6-cdbe7f7cc17a",
   "metadata": {},
   "outputs": [
    {
     "name": "stdout",
     "output_type": "stream",
     "text": [
      "0: ──H────────────────╭●──H──────╭●──H──────╭●──H──────╭●──H─┤  <Z>\n",
      "1: ──RY(0.00)──RY(M0)─╰X──RY(M1)─╰X──RY(M2)─╰X──RY(M3)─╰X────┤  <Z>\n"
     ]
    }
   ],
   "source": [
    "print(qml.draw(quantum_net)(theta,0))"
   ]
  },
  {
   "cell_type": "markdown",
   "id": "8afcb30a-9860-4a9f-a863-b33252372d91",
   "metadata": {},
   "source": [
    "## Add classical layer"
   ]
  },
  {
   "cell_type": "code",
   "execution_count": 48,
   "id": "54f55df1-48a5-40a0-8895-b44422c5f668",
   "metadata": {},
   "outputs": [],
   "source": [
    "# add the classical layer\n",
    "def classical_quantum_net(theta,w,x):\n",
    "    r1=quantum_net(theta,x)[0]\n",
    "    r2=quantum_net(theta,x)[1]\n",
    "    return w[0]+w[1]*r1+w[2]*r1**2+w[3]*r2+w[4]*r2**2"
   ]
  },
  {
   "cell_type": "code",
   "execution_count": 49,
   "id": "556a8bdf-86b0-42fe-91e3-1b641ca5cbaa",
   "metadata": {},
   "outputs": [],
   "source": [
    "def square_loss(labels,predictions):\n",
    "    loss=0\n",
    "    for l,p in zip(labels,predictions):\n",
    "        loss=loss+(l-p)**2\n",
    "    loss=loss/len(labels)\n",
    "    return loss"
   ]
  },
  {
   "cell_type": "code",
   "execution_count": 50,
   "id": "0fd084af",
   "metadata": {},
   "outputs": [],
   "source": [
    "def abs_loss(labels,predictions):\n",
    "    loss=0\n",
    "    for l,p in zip(labels,predictions):\n",
    "        loss=loss+np.abs((l-p))\n",
    "    loss=loss/len(labels)\n",
    "    return loss"
   ]
  },
  {
   "cell_type": "code",
   "execution_count": 51,
   "id": "7495e966-7074-4e96-a5bc-80c298b9690b",
   "metadata": {},
   "outputs": [],
   "source": [
    "def cost(theta,w,features,labels):\n",
    "    preds=[classical_quantum_net(theta,w,x) for x in features]\n",
    "    # return square_loss(labels,preds)\n",
    "    return abs_loss(labels,preds)"
   ]
  },
  {
   "cell_type": "markdown",
   "id": "8cb96450-a534-4dcb-ad58-0cd0590d5f9f",
   "metadata": {},
   "source": [
    "## Model training\n",
    "Using the Adam optimizer, we update the weights for 100 steps (this takes some time). More steps will lead to a better fit."
   ]
  },
  {
   "cell_type": "code",
   "execution_count": 52,
   "id": "7f593750-23d5-4e58-92c5-701f785e0c07",
   "metadata": {},
   "outputs": [],
   "source": [
    "w=np.zeros(5,requires_grad=True)\n",
    "opt = AdamOptimizer(0.05, beta1=0.9, beta2=0.999)"
   ]
  },
  {
   "cell_type": "code",
   "execution_count": 53,
   "id": "65ffddff-e65d-4ae2-aec0-69749dbc699d",
   "metadata": {},
   "outputs": [
    {
     "name": "stdout",
     "output_type": "stream",
     "text": [
      "2023-08-01 23:59:32.949537\n"
     ]
    }
   ],
   "source": [
    "start=now()\n",
    "print(start)"
   ]
  },
  {
   "cell_type": "code",
   "execution_count": 54,
   "id": "062edd46-5aec-4d43-9def-bb64aa7b30ae",
   "metadata": {},
   "outputs": [
    {
     "name": "stdout",
     "output_type": "stream",
     "text": [
      "Epoch: 1 | Cost: [1.50575611] | w: [ 0.04999998 -0.04999958  0.04999909  0.04999994  0.04999994]\n",
      "Epoch: 10 | Cost: [0.93371591] | w: [ 0.48697295 -0.46985381  0.48298248  0.47408939  0.49022444]\n",
      "Epoch: 20 | Cost: [0.74245997] | w: [ 0.7556816  -0.47605309  0.38683866  0.5477108   0.58849624]\n",
      "Epoch: 30 | Cost: [0.58940253] | w: [ 1.08260856 -0.7365343   0.10069398  0.78398165  0.49925211]\n",
      "Epoch: 40 | Cost: [0.48794783] | w: [ 1.37998774 -0.65205147 -0.26592279  0.78003633  0.3231044 ]\n",
      "Epoch: 50 | Cost: [0.40790275] | w: [ 1.6041326  -0.63632751 -0.71437635  0.80290514  0.19025046]\n",
      "Epoch: 60 | Cost: [0.36271678] | w: [ 1.81633868 -0.58254535 -0.8568267   0.86260342  0.19819241]\n",
      "Epoch: 70 | Cost: [0.33437379] | w: [ 1.89122341 -0.54439727 -1.03624103  0.94886762  0.25439781]\n",
      "Epoch: 80 | Cost: [0.33394604] | w: [ 1.87062808 -0.5881058  -1.15237189  0.95289824  0.25537139]\n",
      "Epoch: 90 | Cost: [0.33275282] | w: [ 1.8809504  -0.61376057 -1.0921013   0.91058895  0.24070761]\n",
      "Epoch: 100 | Cost: [0.32965476] | w: [ 1.88178192 -0.59527134 -1.07959325  0.87597481  0.23977473]\n"
     ]
    }
   ],
   "source": [
    "epochs=100\n",
    "for e in range(1,epochs+1):\n",
    "    \n",
    "    (theta,w,_,_),_cost=opt.step_and_cost(cost,theta,w,X,Y)\n",
    "\n",
    "    if e==1 or e%10==0:\n",
    "        print(f'Epoch: {e} | Cost: {_cost} | w: {w}')"
   ]
  },
  {
   "cell_type": "code",
   "execution_count": 55,
   "id": "90bb6eac-e3f2-4108-bdc6-bb54229f3bdf",
   "metadata": {},
   "outputs": [],
   "source": [
    "pred_train=np.array([classical_quantum_net(theta,w,x) for x in X])"
   ]
  },
  {
   "cell_type": "code",
   "execution_count": 56,
   "id": "313aa279-9891-4ad8-88a8-c429f1f7eeb9",
   "metadata": {},
   "outputs": [
    {
     "data": {
      "image/png": "[encoded data removed]",
      "text/plain": [
       "<Figure size 640x480 with 1 Axes>"
      ]
     },
     "metadata": {},
     "output_type": "display_data"
    }
   ],
   "source": [
    "plt.figure()\n",
    "plt.scatter(X,Y,facecolors='none', edgecolors='b', label='True')\n",
    "plt.scatter(X,pred_train, color='red',marker=\"x\",s=4,label='Prediction')\n",
    "plt.xlabel('x',fontsize=16)\n",
    "plt.ylabel('f(x)',fontsize=16)\n",
    "plt.xticks(fontsize=10)\n",
    "plt.yticks(fontsize=10)\n",
    "plt.legend(loc='upper center',bbox_to_anchor=(0.5,1.18),ncol=2,fontsize=16)\n",
    "plt.savefig('1_measurement2_train.png')\n",
    "plt.show()"
   ]
  },
  {
   "cell_type": "code",
   "execution_count": 57,
   "id": "7fb360cc-ee8a-4c0a-91c4-56e5c4fc0767",
   "metadata": {},
   "outputs": [],
   "source": [
    "train_diff=np.abs(Y-pred_train)"
   ]
  },
  {
   "cell_type": "code",
   "execution_count": 58,
   "id": "e3f402b9-5d38-4c6d-86be-f8c4bcc9efaa",
   "metadata": {},
   "outputs": [
    {
     "data": {
      "text/plain": [
       "tensor(3.34503445, requires_grad=True)"
      ]
     },
     "execution_count": 58,
     "metadata": {},
     "output_type": "execute_result"
    }
   ],
   "source": [
    "np.max(train_diff)"
   ]
  },
  {
   "cell_type": "code",
   "execution_count": 59,
   "id": "d1743eb3-04ab-454e-9afd-83dcc0035eba",
   "metadata": {},
   "outputs": [
    {
     "data": {
      "text/plain": [
       "tensor(0.00202012, requires_grad=True)"
      ]
     },
     "execution_count": 59,
     "metadata": {},
     "output_type": "execute_result"
    }
   ],
   "source": [
    "np.min(train_diff)"
   ]
  },
  {
   "cell_type": "code",
   "execution_count": 60,
   "id": "09fbf175-22a5-4201-a555-7ef0e159409a",
   "metadata": {},
   "outputs": [
    {
     "data": {
      "text/plain": [
       "tensor(0.99629811, requires_grad=True)"
      ]
     },
     "execution_count": 60,
     "metadata": {},
     "output_type": "execute_result"
    }
   ],
   "source": [
    "np.mean(train_diff)"
   ]
  },
  {
   "cell_type": "markdown",
   "id": "67563af5-12d9-4bd4-8371-1ed7a2ae8c05",
   "metadata": {},
   "source": [
    "## Test error"
   ]
  },
  {
   "cell_type": "code",
   "execution_count": 61,
   "id": "9b057e02-2ccc-4293-9ba0-322fed476b59",
   "metadata": {},
   "outputs": [],
   "source": [
    "X_test=np.linspace(-0.95,0.95,200)\n",
    "Y_test=my_objective(X_test)\n",
    "test_pred=[classical_quantum_net(theta,w,x) for x in X_test]"
   ]
  },
  {
   "cell_type": "code",
   "execution_count": 62,
   "id": "189cddcc-8ac1-4d40-8f69-b41d3be5641e",
   "metadata": {},
   "outputs": [
    {
     "data": {
      "image/png": "[encoded data removed]",
      "text/plain": [
       "<Figure size 640x480 with 1 Axes>"
      ]
     },
     "metadata": {},
     "output_type": "display_data"
    }
   ],
   "source": [
    "plt.figure()\n",
    "plt.scatter(X_test,Y_test,facecolors='none', edgecolors='b',label='target')\n",
    "plt.scatter(X_test,test_pred,color='red',marker=\"x\",s=4,label='prediction')\n",
    "plt.xlabel('x',fontsize=16)\n",
    "plt.ylabel('f(x)',fontsize=16)\n",
    "plt.xticks(fontsize=10)\n",
    "plt.yticks(fontsize=10)\n",
    "plt.legend(loc='upper center',bbox_to_anchor=(0.5,1.18),ncol=2,fontsize=16)\n",
    "plt.savefig('1_measurement2_test.png')\n",
    "plt.show()"
   ]
  },
  {
   "cell_type": "code",
   "execution_count": 63,
   "id": "32d36b99-058e-4fe9-85a6-6979b6565ba4",
   "metadata": {},
   "outputs": [],
   "source": [
    "test_diff=np.abs(Y_test-test_pred)"
   ]
  },
  {
   "cell_type": "code",
   "execution_count": 64,
   "id": "6084fd1f-d627-4edc-bee5-9fe6f4fdda0c",
   "metadata": {},
   "outputs": [
    {
     "data": {
      "text/plain": [
       "tensor(2.54893513, requires_grad=True)"
      ]
     },
     "execution_count": 64,
     "metadata": {},
     "output_type": "execute_result"
    }
   ],
   "source": [
    "np.max(test_diff)"
   ]
  },
  {
   "cell_type": "code",
   "execution_count": 65,
   "id": "3f66f8b4-a5a9-48bd-849e-1764f2e77040",
   "metadata": {},
   "outputs": [
    {
     "data": {
      "text/plain": [
       "tensor(0.00015698, requires_grad=True)"
      ]
     },
     "execution_count": 65,
     "metadata": {},
     "output_type": "execute_result"
    }
   ],
   "source": [
    "np.min(test_diff)"
   ]
  },
  {
   "cell_type": "code",
   "execution_count": 66,
   "id": "106a6f44-9bc3-48d4-aea7-1952ce476bb4",
   "metadata": {},
   "outputs": [
    {
     "data": {
      "text/plain": [
       "tensor(1.11268965, requires_grad=True)"
      ]
     },
     "execution_count": 66,
     "metadata": {},
     "output_type": "execute_result"
    }
   ],
   "source": [
    "np.mean(test_diff)"
   ]
  }
 ],
 "metadata": {
  "kernelspec": {
   "display_name": "Python 3 (ipykernel)",
   "language": "python",
   "name": "python3"
  },
  "language_info": {
   "codemirror_mode": {
    "name": "ipython",
    "version": 3
   },
   "file_extension": ".py",
   "mimetype": "text/x-python",
   "name": "python",
   "nbconvert_exporter": "python",
   "pygments_lexer": "ipython3",
   "version": "3.10.9"
  }
 },
 "nbformat": 4,
 "nbformat_minor": 5
}
