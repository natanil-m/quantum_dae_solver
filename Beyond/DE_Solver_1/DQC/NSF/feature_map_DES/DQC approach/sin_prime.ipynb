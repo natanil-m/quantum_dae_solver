{
 "cells": [
  {
   "cell_type": "code",
   "execution_count": 1,
   "metadata": {},
   "outputs": [],
   "source": [
    "#!pip install pennylane"
   ]
  },
  {
   "cell_type": "code",
   "execution_count": 2,
   "metadata": {},
   "outputs": [],
   "source": [
    "#du/dx - cos(x) = 0\n",
    "\n",
    "import pennylane as qml\n",
    "from pennylane import numpy as np\n",
    "import matplotlib.pyplot as plt\n",
    "import math\n",
    "\n",
    "rng = np.random.default_rng(seed=20)\n"
   ]
  },
  {
   "cell_type": "code",
   "execution_count": 3,
   "metadata": {},
   "outputs": [
    {
     "ename": "FileNotFoundError",
     "evalue": "[Errno 2] No such file or directory: 't1.npy'",
     "output_type": "error",
     "traceback": [
      "\u001b[0;31m---------------------------------------------------------------------------\u001b[0m",
      "\u001b[0;31mFileNotFoundError\u001b[0m                         Traceback (most recent call last)",
      "Cell \u001b[0;32mIn[3], line 6\u001b[0m\n\u001b[1;32m      4\u001b[0m save_filename\u001b[39m=\u001b[39m\u001b[39m'\u001b[39m\u001b[39mt1_prime.npy\u001b[39m\u001b[39m'\u001b[39m\n\u001b[1;32m      5\u001b[0m dev \u001b[39m=\u001b[39m qml\u001b[39m.\u001b[39mdevice(\u001b[39m'\u001b[39m\u001b[39mdefault.qubit\u001b[39m\u001b[39m'\u001b[39m, wires\u001b[39m=\u001b[39mn_wires)\n\u001b[0;32m----> 6\u001b[0m loaded_params \u001b[39m=\u001b[39m np\u001b[39m.\u001b[39;49mload(load_filename)\n\u001b[1;32m      7\u001b[0m \u001b[39mprint\u001b[39m(\u001b[39m\"\u001b[39m\u001b[39mLoaded parameters:\u001b[39m\u001b[39m\"\u001b[39m, loaded_params)\n",
      "File \u001b[0;32m~/anaconda3/lib/python3.10/site-packages/pennylane/numpy/wrapper.py:117\u001b[0m, in \u001b[0;36mtensor_wrapper.<locals>._wrapped\u001b[0;34m(*args, **kwargs)\u001b[0m\n\u001b[1;32m    114\u001b[0m         tensor_kwargs[\u001b[39m\"\u001b[39m\u001b[39mrequires_grad\u001b[39m\u001b[39m\"\u001b[39m] \u001b[39m=\u001b[39m _np\u001b[39m.\u001b[39many([i\u001b[39m.\u001b[39mrequires_grad \u001b[39mfor\u001b[39;00m i \u001b[39min\u001b[39;00m tensor_args])\n\u001b[1;32m    116\u001b[0m \u001b[39m# evaluate the original object\u001b[39;00m\n\u001b[0;32m--> 117\u001b[0m res \u001b[39m=\u001b[39m obj(\u001b[39m*\u001b[39;49margs, \u001b[39m*\u001b[39;49m\u001b[39m*\u001b[39;49mkwargs)\n\u001b[1;32m    119\u001b[0m \u001b[39mif\u001b[39;00m \u001b[39misinstance\u001b[39m(res, _np\u001b[39m.\u001b[39mndarray):\n\u001b[1;32m    120\u001b[0m     \u001b[39m# only if the output of the object is a ndarray,\u001b[39;00m\n\u001b[1;32m    121\u001b[0m     \u001b[39m# then convert to a PennyLane tensor\u001b[39;00m\n\u001b[1;32m    122\u001b[0m     res \u001b[39m=\u001b[39m tensor(res, \u001b[39m*\u001b[39m\u001b[39m*\u001b[39mtensor_kwargs)\n",
      "File \u001b[0;32m~/anaconda3/lib/python3.10/site-packages/autograd/tracer.py:48\u001b[0m, in \u001b[0;36mprimitive.<locals>.f_wrapped\u001b[0;34m(*args, **kwargs)\u001b[0m\n\u001b[1;32m     46\u001b[0m     \u001b[39mreturn\u001b[39;00m new_box(ans, trace, node)\n\u001b[1;32m     47\u001b[0m \u001b[39melse\u001b[39;00m:\n\u001b[0;32m---> 48\u001b[0m     \u001b[39mreturn\u001b[39;00m f_raw(\u001b[39m*\u001b[39;49margs, \u001b[39m*\u001b[39;49m\u001b[39m*\u001b[39;49mkwargs)\n",
      "File \u001b[0;32m~/anaconda3/lib/python3.10/site-packages/numpy/lib/npyio.py:405\u001b[0m, in \u001b[0;36mload\u001b[0;34m(file, mmap_mode, allow_pickle, fix_imports, encoding, max_header_size)\u001b[0m\n\u001b[1;32m    403\u001b[0m     own_fid \u001b[39m=\u001b[39m \u001b[39mFalse\u001b[39;00m\n\u001b[1;32m    404\u001b[0m \u001b[39melse\u001b[39;00m:\n\u001b[0;32m--> 405\u001b[0m     fid \u001b[39m=\u001b[39m stack\u001b[39m.\u001b[39menter_context(\u001b[39mopen\u001b[39;49m(os_fspath(file), \u001b[39m\"\u001b[39;49m\u001b[39mrb\u001b[39;49m\u001b[39m\"\u001b[39;49m))\n\u001b[1;32m    406\u001b[0m     own_fid \u001b[39m=\u001b[39m \u001b[39mTrue\u001b[39;00m\n\u001b[1;32m    408\u001b[0m \u001b[39m# Code to distinguish from NumPy binary files and pickles.\u001b[39;00m\n",
      "\u001b[0;31mFileNotFoundError\u001b[0m: [Errno 2] No such file or directory: 't1.npy'"
     ]
    }
   ],
   "source": [
    "n_wires=6\n",
    "n_layers=3\n",
    "load_filename='t1.npy'\n",
    "save_filename='t1_prime.npy'\n",
    "dev = qml.device('default.qubit', wires=n_wires)\n",
    "loaded_params = np.load(load_filename)\n",
    "print(\"Loaded parameters:\", loaded_params)"
   ]
  },
  {
   "cell_type": "code",
   "execution_count": null,
   "metadata": {},
   "outputs": [],
   "source": [
    "def phi(x, j):  # Chebyshev\n",
    "    return 2 * j * np.arccos(x)\n",
    "\n",
    "def dphi1(x,j):\n",
    "    return 2*j*(-1 / np.sqrt(1 - x ** 2))\n",
    "\n",
    "def dphi2(x,j):\n",
    "    return 2*j*(-x / ((1 - x ** 2) ** (3 / 2)))"
   ]
  },
  {
   "cell_type": "code",
   "execution_count": null,
   "metadata": {},
   "outputs": [],
   "source": [
    "@qml.qnode(dev)\n",
    "def u_x(x,parameters):\n",
    "    # feature map\n",
    "    for j in range(n_wires):\n",
    "        qml.RY(phi=phi(x,j+1),wires=j)\n",
    "    # ansatz\n",
    "    qml.StronglyEntanglingLayers(weights=parameters, wires=range(dev.num_wires)) \n",
    "    # Cost function <Z>\n",
    "    return qml.expval(qml.PauliZ(0))\n",
    "\n",
    "# shape = qml.StronglyEntanglingLayers.shape(n_layers=2, n_wires=n_wires)\n",
    "# w = rng.random(size=shape)\n",
    "# print(qml.draw(u_x)(0.1,w))"
   ]
  },
  {
   "cell_type": "code",
   "execution_count": null,
   "metadata": {},
   "outputs": [],
   "source": [
    "\n",
    "\n",
    "\n",
    "@qml.qnode(dev, interface=\"autograd\", diff_method=\"parameter-shift\")\n",
    "def du_x_helper(phi_x_vector,parameters):\n",
    "    # feature map\n",
    "    for j in range(n_wires):\n",
    "        qml.RY(phi_x_vector[j],wires=j)\n",
    "    # ansatz\n",
    "    qml.StronglyEntanglingLayers(weights=parameters, wires=range(dev.num_wires)) \n",
    "    # Cost function <Z>\n",
    "    return qml.expval(qml.PauliZ(0))\n",
    "\n",
    "         \n",
    "def du_x(x,parameters):\n",
    "    phi_x=['Nan']*n_wires\n",
    "    dphi_x=['Nan']*n_wires\n",
    "    for j in range(n_wires):\n",
    "        phi_x[j] = phi(x,j)\n",
    "        dphi_x[j] = dphi1(x,j)\n",
    "    # phi_x = np.array(phi_x,requires_grad=True)\n",
    "    dphi_x = np.array(dphi_x)\n",
    "    # parameters_nograd = np.array(parameters,requires_grad=False)\n",
    "    print('haha')\n",
    "    grads=qml.jacobian(du_x_helper,argnum=(0,1))(phi_x,parameters)   \n",
    "    print(grads)\n",
    "    # raise Excepti\n",
    "    grad_dphi = grads*dphi_x \n",
    "    return 0.5*np.sum(grad_dphi)\n",
    "\n",
    "        \n",
    "# shape = qml.StronglyEntanglingLayers.shape(n_layers=1, n_wires=n_wires)#TODO:// dynamic\n",
    "# params = rng.random(size=shape)\n",
    "# sample_x = np.linspace(0.1, 0.9, 10, endpoint=True)\n",
    "# for x in sample_x:\n",
    "#     print(du_x(x,parameters=params))\n",
    "\n",
    "# raise Exception()\n",
    "# shape = qml.StronglyEntanglingLayers.shape(n_layers=1, n_wires=n_wires)#TODO:// dynamic\n",
    "# params = rng.random(size=shape)\n",
    "# print(params)\n",
    "# print(qml.grad(du_x)(0.1,params))\n",
    "# raise Exception('haha')"
   ]
  },
  {
   "cell_type": "code",
   "execution_count": null,
   "metadata": {},
   "outputs": [
    {
     "data": {
      "text/plain": [
       "tensor([0.1       , 0.18888889, 0.27777778, 0.36666667, 0.45555556,\n",
       "        0.54444444, 0.63333333, 0.72222222, 0.81111111, 0.9       ], requires_grad=True)"
      ]
     },
     "execution_count": 22,
     "metadata": {},
     "output_type": "execute_result"
    }
   ],
   "source": [
    "sample_x = np.linspace(0.1, 0.9, 10, endpoint=True)\n",
    "sample_x"
   ]
  },
  {
   "cell_type": "code",
   "execution_count": null,
   "metadata": {},
   "outputs": [],
   "source": [
    "def calculate_loss_boundry(parameters,err=\"MSE\"):\n",
    "    #boundry for u(x)=sin(x), u(0)=0, u(pi/2)=1\n",
    "    x = [0.1,0.9]\n",
    "    u = [0.1,0.78]\n",
    "    u_predict=[0,0]\n",
    "    error = None\n",
    "    for i in range(len(x)):\n",
    "        u_predict[i]=u_x(x=x[i],parameters=parameters)\n",
    "\n",
    "    if err==\"MSE\":\n",
    "        #MSE\n",
    "        error = np.mean((np.array(u_predict) - np.array(u))**2)\n",
    "    else:\n",
    "        raise Exception('Not implemented yet')\n",
    "    return error\n",
    "# calculate_loss_boundry(weights)"
   ]
  },
  {
   "cell_type": "code",
   "execution_count": null,
   "metadata": {},
   "outputs": [
    {
     "data": {
      "text/plain": [
       "tensor([0.99500417, 0.98221347, 0.96166719, 0.93352755, 0.89801674,\n",
       "        0.85541517, 0.80605921, 0.75033857, 0.68869324, 0.62160997], requires_grad=True)"
      ]
     },
     "execution_count": 24,
     "metadata": {},
     "output_type": "execute_result"
    }
   ],
   "source": [
    "np.cos(sample_x)"
   ]
  },
  {
   "cell_type": "code",
   "execution_count": null,
   "metadata": {},
   "outputs": [],
   "source": [
    "def calculate_loss_interior(parameters,err=\"MSE\"):\n",
    "    # sample_ux = np.sin(sample_x)\n",
    "    du_x_res=np.array([0.0]*len(sample_x))\n",
    "    rhs = np.zeros(len(sample_x))\n",
    "    error = None\n",
    "    for i in range(len(sample_x)):\n",
    "        du_x_res[i]=du_x(x=sample_x[i],parameters=parameters)\n",
    "    lhs = du_x_res-np.cos(sample_x)\n",
    "    if err==\"MSE\":\n",
    "        #MSE\n",
    "        error = np.mean((lhs - rhs)**2)\n",
    "    else:\n",
    "        raise Exception('Not implemented yet')\n",
    "    return error\n",
    "\n",
    "# shape = qml.StronglyEntanglingLayers.shape(n_layers=2, n_wires=n_wires)#TODO:// dynamic\n",
    "# params = rng.random(size=shape)\n",
    "# calculate_loss_interior(params)"
   ]
  },
  {
   "cell_type": "code",
   "execution_count": null,
   "metadata": {},
   "outputs": [],
   "source": [
    "\n",
    "\n",
    "def loss_func(params,l_b=0.1,l_i=0.9):\n",
    "    loss= l_b*calculate_loss_boundry(params)+l_i*calculate_loss_interior(params)\n",
    "    return loss"
   ]
  },
  {
   "cell_type": "code",
   "execution_count": null,
   "metadata": {},
   "outputs": [],
   "source": [
    "def plot_u_predict(params):\n",
    "    \n",
    "    sample_u = np.sin(sample_x)\n",
    "    sample_u_predict = []\n",
    "    for x in sample_x:\n",
    "        sample_u_predict.append(u_x(x, params))  # Assuming u_x is defined elsewhere\n",
    "\n",
    "    plt.plot(sample_x, sample_u, 'bo-', label='Actual')\n",
    "    plt.plot(sample_x, sample_u_predict, 'r*-', label='Predicted')\n",
    "    plt.xlabel('x')\n",
    "    plt.ylabel('sin(x)')\n",
    "    plt.title('Plot of sin(x)')\n",
    "    plt.legend()\n",
    "    plt.grid(True)\n",
    "    plt.show()\n",
    "# plot_u_predict()"
   ]
  },
  {
   "cell_type": "code",
   "execution_count": null,
   "metadata": {},
   "outputs": [
    {
     "name": "stdout",
     "output_type": "stream",
     "text": [
      "starting plot:\n"
     ]
    },
    {
     "data": {
      "image/png": "[encoded data removed]",
      "text/plain": [
       "<Figure size 640x480 with 1 Axes>"
      ]
     },
     "metadata": {},
     "output_type": "display_data"
    },
    {
     "name": "stdout",
     "output_type": "stream",
     "text": [
      "0\n",
      "haha\n"
     ]
    },
    {
     "ename": "ValueError",
     "evalue": "PennyLane has a new return shape specification that may not work well with autograd and more than one measurement. That may be the source of the error. \n\nSee the documentation here for more information:\nhttps://docs.pennylane.ai/en/stable/introduction/returns.html",
     "output_type": "error",
     "traceback": [
      "\u001b[0;31m---------------------------------------------------------------------------\u001b[0m",
      "\u001b[0;31mTypeError\u001b[0m                                 Traceback (most recent call last)",
      "File \u001b[0;32m~/anaconda3/lib/python3.10/site-packages/pennylane/_grad.py:330\u001b[0m, in \u001b[0;36mjacobian.<locals>._jacobian_function\u001b[0;34m(*args, **kwargs)\u001b[0m\n\u001b[1;32m    329\u001b[0m \u001b[39mtry\u001b[39;00m:\n\u001b[0;32m--> 330\u001b[0m     jac \u001b[39m=\u001b[39m \u001b[39mtuple\u001b[39;49m(_jacobian(func, arg)(\u001b[39m*\u001b[39;49margs, \u001b[39m*\u001b[39;49m\u001b[39m*\u001b[39;49mkwargs) \u001b[39mfor\u001b[39;49;00m arg \u001b[39min\u001b[39;49;00m _argnum)\n\u001b[1;32m    331\u001b[0m \u001b[39mexcept\u001b[39;00m \u001b[39mTypeError\u001b[39;00m \u001b[39mas\u001b[39;00m e:\n",
      "File \u001b[0;32m~/anaconda3/lib/python3.10/site-packages/pennylane/_grad.py:330\u001b[0m, in \u001b[0;36m<genexpr>\u001b[0;34m(.0)\u001b[0m\n\u001b[1;32m    329\u001b[0m \u001b[39mtry\u001b[39;00m:\n\u001b[0;32m--> 330\u001b[0m     jac \u001b[39m=\u001b[39m \u001b[39mtuple\u001b[39m(_jacobian(func, arg)(\u001b[39m*\u001b[39;49margs, \u001b[39m*\u001b[39;49m\u001b[39m*\u001b[39;49mkwargs) \u001b[39mfor\u001b[39;00m arg \u001b[39min\u001b[39;00m _argnum)\n\u001b[1;32m    331\u001b[0m \u001b[39mexcept\u001b[39;00m \u001b[39mTypeError\u001b[39;00m \u001b[39mas\u001b[39;00m e:\n",
      "File \u001b[0;32m~/anaconda3/lib/python3.10/site-packages/autograd/wrap_util.py:20\u001b[0m, in \u001b[0;36munary_to_nary.<locals>.nary_operator.<locals>.nary_f\u001b[0;34m(*args, **kwargs)\u001b[0m\n\u001b[1;32m     19\u001b[0m     x \u001b[39m=\u001b[39m \u001b[39mtuple\u001b[39m(args[i] \u001b[39mfor\u001b[39;00m i \u001b[39min\u001b[39;00m argnum)\n\u001b[0;32m---> 20\u001b[0m \u001b[39mreturn\u001b[39;00m unary_operator(unary_f, x, \u001b[39m*\u001b[39;49mnary_op_args, \u001b[39m*\u001b[39;49m\u001b[39m*\u001b[39;49mnary_op_kwargs)\n",
      "File \u001b[0;32m~/anaconda3/lib/python3.10/site-packages/autograd/differential_operators.py:62\u001b[0m, in \u001b[0;36mjacobian\u001b[0;34m(fun, x)\u001b[0m\n\u001b[1;32m     61\u001b[0m ans_vspace \u001b[39m=\u001b[39m vspace(ans)\n\u001b[0;32m---> 62\u001b[0m jacobian_shape \u001b[39m=\u001b[39m ans_vspace\u001b[39m.\u001b[39;49mshape \u001b[39m+\u001b[39;49m vspace(x)\u001b[39m.\u001b[39;49mshape\n\u001b[1;32m     63\u001b[0m grads \u001b[39m=\u001b[39m \u001b[39mmap\u001b[39m(vjp, ans_vspace\u001b[39m.\u001b[39mstandard_basis())\n",
      "\u001b[0;31mTypeError\u001b[0m: can only concatenate tuple (not \"list\") to tuple",
      "\nThe above exception was the direct cause of the following exception:\n",
      "\u001b[0;31mValueError\u001b[0m                                Traceback (most recent call last)",
      "Cell \u001b[0;32mIn[28], line 10\u001b[0m\n\u001b[1;32m      8\u001b[0m \u001b[39mfor\u001b[39;00m i \u001b[39min\u001b[39;00m \u001b[39mrange\u001b[39m(\u001b[39m400\u001b[39m):\n\u001b[1;32m      9\u001b[0m     \u001b[39mprint\u001b[39m(i)\n\u001b[0;32m---> 10\u001b[0m     params, loss \u001b[39m=\u001b[39m opt\u001b[39m.\u001b[39;49mstep_and_cost(loss_func, params)\n\u001b[1;32m     11\u001b[0m     \u001b[39mif\u001b[39;00m i\u001b[39m%\u001b[39m\u001b[39m1\u001b[39m\u001b[39m==\u001b[39m\u001b[39m0\u001b[39m:\n\u001b[1;32m     12\u001b[0m         \u001b[39mprint\u001b[39m(\u001b[39m\"\u001b[39m\u001b[39mStep \u001b[39m\u001b[39m\"\u001b[39m, i, \u001b[39m\"\u001b[39m\u001b[39m\\n\u001b[39;00m\u001b[39m params = \u001b[39m\u001b[39m\"\u001b[39m, params,\u001b[39m'\u001b[39m\u001b[39m loss = \u001b[39m\u001b[39m'\u001b[39m,loss)\n",
      "File \u001b[0;32m~/anaconda3/lib/python3.10/site-packages/pennylane/optimize/gradient_descent.py:59\u001b[0m, in \u001b[0;36mGradientDescentOptimizer.step_and_cost\u001b[0;34m(self, objective_fn, grad_fn, *args, **kwargs)\u001b[0m\n\u001b[1;32m     39\u001b[0m \u001b[39mdef\u001b[39;00m \u001b[39mstep_and_cost\u001b[39m(\u001b[39mself\u001b[39m, objective_fn, \u001b[39m*\u001b[39margs, grad_fn\u001b[39m=\u001b[39m\u001b[39mNone\u001b[39;00m, \u001b[39m*\u001b[39m\u001b[39m*\u001b[39mkwargs):\n\u001b[1;32m     40\u001b[0m     \u001b[39m\"\"\"Update trainable arguments with one step of the optimizer and return the corresponding\u001b[39;00m\n\u001b[1;32m     41\u001b[0m \u001b[39m    objective function value prior to the step.\u001b[39;00m\n\u001b[1;32m     42\u001b[0m \n\u001b[0;32m   (...)\u001b[0m\n\u001b[1;32m     56\u001b[0m \u001b[39m        If single arg is provided, list [array] is replaced by array.\u001b[39;00m\n\u001b[1;32m     57\u001b[0m \u001b[39m    \"\"\"\u001b[39;00m\n\u001b[0;32m---> 59\u001b[0m     g, forward \u001b[39m=\u001b[39m \u001b[39mself\u001b[39;49m\u001b[39m.\u001b[39;49mcompute_grad(objective_fn, args, kwargs, grad_fn\u001b[39m=\u001b[39;49mgrad_fn)\n\u001b[1;32m     60\u001b[0m     new_args \u001b[39m=\u001b[39m \u001b[39mself\u001b[39m\u001b[39m.\u001b[39mapply_grad(g, args)\n\u001b[1;32m     62\u001b[0m     \u001b[39mif\u001b[39;00m forward \u001b[39mis\u001b[39;00m \u001b[39mNone\u001b[39;00m:\n",
      "File \u001b[0;32m~/anaconda3/lib/python3.10/site-packages/pennylane/optimize/gradient_descent.py:117\u001b[0m, in \u001b[0;36mGradientDescentOptimizer.compute_grad\u001b[0;34m(objective_fn, args, kwargs, grad_fn)\u001b[0m\n\u001b[1;32m     99\u001b[0m \u001b[39mr\u001b[39m\u001b[39m\"\"\"Compute gradient of the objective function at the given point and return it along with\u001b[39;00m\n\u001b[1;32m    100\u001b[0m \u001b[39mthe objective function forward pass (if available).\u001b[39;00m\n\u001b[1;32m    101\u001b[0m \n\u001b[0;32m   (...)\u001b[0m\n\u001b[1;32m    114\u001b[0m \u001b[39m    will not be evaluted and instead ``None`` will be returned.\u001b[39;00m\n\u001b[1;32m    115\u001b[0m \u001b[39m\"\"\"\u001b[39;00m\n\u001b[1;32m    116\u001b[0m g \u001b[39m=\u001b[39m get_gradient(objective_fn) \u001b[39mif\u001b[39;00m grad_fn \u001b[39mis\u001b[39;00m \u001b[39mNone\u001b[39;00m \u001b[39melse\u001b[39;00m grad_fn\n\u001b[0;32m--> 117\u001b[0m grad \u001b[39m=\u001b[39m g(\u001b[39m*\u001b[39;49margs, \u001b[39m*\u001b[39;49m\u001b[39m*\u001b[39;49mkwargs)\n\u001b[1;32m    118\u001b[0m forward \u001b[39m=\u001b[39m \u001b[39mgetattr\u001b[39m(g, \u001b[39m\"\u001b[39m\u001b[39mforward\u001b[39m\u001b[39m\"\u001b[39m, \u001b[39mNone\u001b[39;00m)\n\u001b[1;32m    120\u001b[0m num_trainable_args \u001b[39m=\u001b[39m \u001b[39msum\u001b[39m(\u001b[39mgetattr\u001b[39m(arg, \u001b[39m\"\u001b[39m\u001b[39mrequires_grad\u001b[39m\u001b[39m\"\u001b[39m, \u001b[39mFalse\u001b[39;00m) \u001b[39mfor\u001b[39;00m arg \u001b[39min\u001b[39;00m args)\n",
      "File \u001b[0;32m~/anaconda3/lib/python3.10/site-packages/pennylane/_grad.py:117\u001b[0m, in \u001b[0;36mgrad.__call__\u001b[0;34m(self, *args, **kwargs)\u001b[0m\n\u001b[1;32m    114\u001b[0m     \u001b[39mself\u001b[39m\u001b[39m.\u001b[39m_forward \u001b[39m=\u001b[39m \u001b[39mself\u001b[39m\u001b[39m.\u001b[39m_fun(\u001b[39m*\u001b[39margs, \u001b[39m*\u001b[39m\u001b[39m*\u001b[39mkwargs)\n\u001b[1;32m    115\u001b[0m     \u001b[39mreturn\u001b[39;00m ()\n\u001b[0;32m--> 117\u001b[0m grad_value, ans \u001b[39m=\u001b[39m grad_fn(\u001b[39m*\u001b[39;49margs, \u001b[39m*\u001b[39;49m\u001b[39m*\u001b[39;49mkwargs)  \u001b[39m# pylint: disable=not-callable\u001b[39;00m\n\u001b[1;32m    118\u001b[0m \u001b[39mself\u001b[39m\u001b[39m.\u001b[39m_forward \u001b[39m=\u001b[39m ans\n\u001b[1;32m    120\u001b[0m \u001b[39mreturn\u001b[39;00m grad_value\n",
      "File \u001b[0;32m~/anaconda3/lib/python3.10/site-packages/autograd/wrap_util.py:20\u001b[0m, in \u001b[0;36munary_to_nary.<locals>.nary_operator.<locals>.nary_f\u001b[0;34m(*args, **kwargs)\u001b[0m\n\u001b[1;32m     18\u001b[0m \u001b[39melse\u001b[39;00m:\n\u001b[1;32m     19\u001b[0m     x \u001b[39m=\u001b[39m \u001b[39mtuple\u001b[39m(args[i] \u001b[39mfor\u001b[39;00m i \u001b[39min\u001b[39;00m argnum)\n\u001b[0;32m---> 20\u001b[0m \u001b[39mreturn\u001b[39;00m unary_operator(unary_f, x, \u001b[39m*\u001b[39;49mnary_op_args, \u001b[39m*\u001b[39;49m\u001b[39m*\u001b[39;49mnary_op_kwargs)\n",
      "File \u001b[0;32m~/anaconda3/lib/python3.10/site-packages/pennylane/_grad.py:135\u001b[0m, in \u001b[0;36mgrad._grad_with_forward\u001b[0;34m(fun, x)\u001b[0m\n\u001b[1;32m    129\u001b[0m \u001b[39m@staticmethod\u001b[39m\n\u001b[1;32m    130\u001b[0m \u001b[39m@unary_to_nary\u001b[39m\n\u001b[1;32m    131\u001b[0m \u001b[39mdef\u001b[39;00m \u001b[39m_grad_with_forward\u001b[39m(fun, x):\n\u001b[1;32m    132\u001b[0m     \u001b[39m\"\"\"This function is a replica of ``autograd.grad``, with the only\u001b[39;00m\n\u001b[1;32m    133\u001b[0m \u001b[39m    difference being that it returns both the gradient *and* the forward pass\u001b[39;00m\n\u001b[1;32m    134\u001b[0m \u001b[39m    value.\"\"\"\u001b[39;00m\n\u001b[0;32m--> 135\u001b[0m     vjp, ans \u001b[39m=\u001b[39m _make_vjp(fun, x)\n\u001b[1;32m    137\u001b[0m     \u001b[39mif\u001b[39;00m \u001b[39mnot\u001b[39;00m vspace(ans)\u001b[39m.\u001b[39msize \u001b[39m==\u001b[39m \u001b[39m1\u001b[39m:\n\u001b[1;32m    138\u001b[0m         \u001b[39mraise\u001b[39;00m \u001b[39mTypeError\u001b[39;00m(\n\u001b[1;32m    139\u001b[0m             \u001b[39m\"\u001b[39m\u001b[39mGrad only applies to real scalar-output functions. \u001b[39m\u001b[39m\"\u001b[39m\n\u001b[1;32m    140\u001b[0m             \u001b[39m\"\u001b[39m\u001b[39mTry jacobian, elementwise_grad or holomorphic_grad.\u001b[39m\u001b[39m\"\u001b[39m\n\u001b[1;32m    141\u001b[0m         )\n",
      "File \u001b[0;32m~/anaconda3/lib/python3.10/site-packages/autograd/core.py:10\u001b[0m, in \u001b[0;36mmake_vjp\u001b[0;34m(fun, x)\u001b[0m\n\u001b[1;32m      8\u001b[0m \u001b[39mdef\u001b[39;00m \u001b[39mmake_vjp\u001b[39m(fun, x):\n\u001b[1;32m      9\u001b[0m     start_node \u001b[39m=\u001b[39m VJPNode\u001b[39m.\u001b[39mnew_root()\n\u001b[0;32m---> 10\u001b[0m     end_value, end_node \u001b[39m=\u001b[39m  trace(start_node, fun, x)\n\u001b[1;32m     11\u001b[0m     \u001b[39mif\u001b[39;00m end_node \u001b[39mis\u001b[39;00m \u001b[39mNone\u001b[39;00m:\n\u001b[1;32m     12\u001b[0m         \u001b[39mdef\u001b[39;00m \u001b[39mvjp\u001b[39m(g): \u001b[39mreturn\u001b[39;00m vspace(x)\u001b[39m.\u001b[39mzeros()\n",
      "File \u001b[0;32m~/anaconda3/lib/python3.10/site-packages/autograd/tracer.py:10\u001b[0m, in \u001b[0;36mtrace\u001b[0;34m(start_node, fun, x)\u001b[0m\n\u001b[1;32m      8\u001b[0m \u001b[39mwith\u001b[39;00m trace_stack\u001b[39m.\u001b[39mnew_trace() \u001b[39mas\u001b[39;00m t:\n\u001b[1;32m      9\u001b[0m     start_box \u001b[39m=\u001b[39m new_box(x, t, start_node)\n\u001b[0;32m---> 10\u001b[0m     end_box \u001b[39m=\u001b[39m fun(start_box)\n\u001b[1;32m     11\u001b[0m     \u001b[39mif\u001b[39;00m isbox(end_box) \u001b[39mand\u001b[39;00m end_box\u001b[39m.\u001b[39m_trace \u001b[39m==\u001b[39m start_box\u001b[39m.\u001b[39m_trace:\n\u001b[1;32m     12\u001b[0m         \u001b[39mreturn\u001b[39;00m end_box\u001b[39m.\u001b[39m_value, end_box\u001b[39m.\u001b[39m_node\n",
      "File \u001b[0;32m~/anaconda3/lib/python3.10/site-packages/autograd/wrap_util.py:15\u001b[0m, in \u001b[0;36munary_to_nary.<locals>.nary_operator.<locals>.nary_f.<locals>.unary_f\u001b[0;34m(x)\u001b[0m\n\u001b[1;32m     13\u001b[0m \u001b[39melse\u001b[39;00m:\n\u001b[1;32m     14\u001b[0m     subargs \u001b[39m=\u001b[39m subvals(args, \u001b[39mzip\u001b[39m(argnum, x))\n\u001b[0;32m---> 15\u001b[0m \u001b[39mreturn\u001b[39;00m fun(\u001b[39m*\u001b[39;49msubargs, \u001b[39m*\u001b[39;49m\u001b[39m*\u001b[39;49mkwargs)\n",
      "Cell \u001b[0;32mIn[26], line 2\u001b[0m, in \u001b[0;36mloss_func\u001b[0;34m(params, l_b, l_i)\u001b[0m\n\u001b[1;32m      1\u001b[0m \u001b[39mdef\u001b[39;00m \u001b[39mloss_func\u001b[39m(params,l_b\u001b[39m=\u001b[39m\u001b[39m0.1\u001b[39m,l_i\u001b[39m=\u001b[39m\u001b[39m0.9\u001b[39m):\n\u001b[0;32m----> 2\u001b[0m     loss\u001b[39m=\u001b[39m l_b\u001b[39m*\u001b[39mcalculate_loss_boundry(params)\u001b[39m+\u001b[39ml_i\u001b[39m*\u001b[39mcalculate_loss_interior(params)\n\u001b[1;32m      3\u001b[0m     \u001b[39mreturn\u001b[39;00m loss\n",
      "Cell \u001b[0;32mIn[25], line 7\u001b[0m, in \u001b[0;36mcalculate_loss_interior\u001b[0;34m(parameters, err)\u001b[0m\n\u001b[1;32m      5\u001b[0m error \u001b[39m=\u001b[39m \u001b[39mNone\u001b[39;00m\n\u001b[1;32m      6\u001b[0m \u001b[39mfor\u001b[39;00m i \u001b[39min\u001b[39;00m \u001b[39mrange\u001b[39m(\u001b[39mlen\u001b[39m(sample_x)):\n\u001b[0;32m----> 7\u001b[0m     du_x_res[i]\u001b[39m=\u001b[39mdu_x(x\u001b[39m=\u001b[39;49msample_x[i],parameters\u001b[39m=\u001b[39;49mparameters)\n\u001b[1;32m      8\u001b[0m lhs \u001b[39m=\u001b[39m du_x_res\u001b[39m-\u001b[39mnp\u001b[39m.\u001b[39mcos(sample_x)\n\u001b[1;32m      9\u001b[0m \u001b[39mif\u001b[39;00m err\u001b[39m==\u001b[39m\u001b[39m\"\u001b[39m\u001b[39mMSE\u001b[39m\u001b[39m\"\u001b[39m:\n\u001b[1;32m     10\u001b[0m     \u001b[39m#MSE\u001b[39;00m\n",
      "Cell \u001b[0;32mIn[21], line 22\u001b[0m, in \u001b[0;36mdu_x\u001b[0;34m(x, parameters)\u001b[0m\n\u001b[1;32m     20\u001b[0m \u001b[39m# parameters_nograd = np.array(parameters,requires_grad=False)\u001b[39;00m\n\u001b[1;32m     21\u001b[0m \u001b[39mprint\u001b[39m(\u001b[39m'\u001b[39m\u001b[39mhaha\u001b[39m\u001b[39m'\u001b[39m)\n\u001b[0;32m---> 22\u001b[0m grads\u001b[39m=\u001b[39mqml\u001b[39m.\u001b[39;49mjacobian(du_x_helper,argnum\u001b[39m=\u001b[39;49m(\u001b[39m0\u001b[39;49m,\u001b[39m1\u001b[39;49m))(phi_x,parameters)   \n\u001b[1;32m     23\u001b[0m \u001b[39mprint\u001b[39m(grads)\n\u001b[1;32m     24\u001b[0m \u001b[39m# raise Excepti\u001b[39;00m\n",
      "File \u001b[0;32m~/anaconda3/lib/python3.10/site-packages/pennylane/_grad.py:333\u001b[0m, in \u001b[0;36mjacobian.<locals>._jacobian_function\u001b[0;34m(*args, **kwargs)\u001b[0m\n\u001b[1;32m    331\u001b[0m \u001b[39mexcept\u001b[39;00m \u001b[39mTypeError\u001b[39;00m \u001b[39mas\u001b[39;00m e:\n\u001b[1;32m    332\u001b[0m     \u001b[39mif\u001b[39;00m active_return():\n\u001b[0;32m--> 333\u001b[0m         \u001b[39mraise\u001b[39;00m \u001b[39mValueError\u001b[39;00m(\n\u001b[1;32m    334\u001b[0m             \u001b[39m\"\u001b[39m\u001b[39mPennyLane has a new return shape specification that\u001b[39m\u001b[39m\"\u001b[39m\n\u001b[1;32m    335\u001b[0m             \u001b[39m\"\u001b[39m\u001b[39m may not work well with autograd and more than one measurement. That may\u001b[39m\u001b[39m\"\u001b[39m\n\u001b[1;32m    336\u001b[0m             \u001b[39m\"\u001b[39m\u001b[39m be the source of the error. \u001b[39m\u001b[39m\\n\u001b[39;00m\u001b[39m\\n\u001b[39;00m\u001b[39m\"\u001b[39m\n\u001b[1;32m    337\u001b[0m             \u001b[39m\"\u001b[39m\u001b[39mSee the documentation here for more information:\u001b[39m\u001b[39m\\n\u001b[39;00m\u001b[39m\"\u001b[39m\n\u001b[1;32m    338\u001b[0m             \u001b[39m\"\u001b[39m\u001b[39mhttps://docs.pennylane.ai/en/stable/introduction/returns.html\u001b[39m\u001b[39m\"\u001b[39m\n\u001b[1;32m    339\u001b[0m         ) \u001b[39mfrom\u001b[39;00m \u001b[39me\u001b[39;00m\n\u001b[1;32m    340\u001b[0m     \u001b[39mraise\u001b[39;00m e\n\u001b[1;32m    342\u001b[0m \u001b[39mreturn\u001b[39;00m jac[\u001b[39m0\u001b[39m] \u001b[39mif\u001b[39;00m unpack \u001b[39melse\u001b[39;00m jac\n",
      "\u001b[0;31mValueError\u001b[0m: PennyLane has a new return shape specification that may not work well with autograd and more than one measurement. That may be the source of the error. \n\nSee the documentation here for more information:\nhttps://docs.pennylane.ai/en/stable/introduction/returns.html"
     ]
    }
   ],
   "source": [
    "shape = qml.StronglyEntanglingLayers.shape(n_layers=n_layers, n_wires=n_wires)#TODO:// dynamic\n",
    "params = rng.random(size=shape)\n",
    "# params = loaded_params\n",
    "# opt = qml.GradientDescentOptimizer() #TODO:// ADAM\n",
    "opt = qml.AdamOptimizer(0.05, beta1=0.9, beta2=0.999)\n",
    "print('starting plot:')\n",
    "plot_u_predict(params)\n",
    "for i in range(400):\n",
    "    print(i)\n",
    "    params, loss = opt.step_and_cost(loss_func, params)\n",
    "    if i%1==0:\n",
    "        print(\"Step \", i, \"\\n params = \", params,' loss = ',loss)\n",
    "        plot_u_predict(params)\n",
    "    \n",
    "\n",
    "        "
   ]
  },
  {
   "cell_type": "code",
   "execution_count": null,
   "metadata": {},
   "outputs": [
    {
     "name": "stdout",
     "output_type": "stream",
     "text": [
      "[[[ 0.77395605 -0.02690195  0.06878156]\n",
      "  [ 0.23583767 -0.71508796  1.27560438]\n",
      "  [ 0.09358354  0.77753127 -0.06614804]\n",
      "  [ 0.19918381  1.27188279  0.45109944]\n",
      "  [ 1.37592054  0.63255447  0.10190661]\n",
      "  [ 0.04285918  0.17395651  0.30700291]]\n",
      "\n",
      " [[ 1.58352352  1.60506722  2.23837551]\n",
      "  [ 0.71211043  1.23509285  0.61882985]\n",
      "  [ 1.33904891  1.31942187 -0.50424935]\n",
      "  [ 0.63697956  0.39852332  0.24006298]\n",
      "  [ 1.00264411  0.69553391 -0.42386772]\n",
      "  [-0.07396663  1.42778316  0.01266967]]\n",
      "\n",
      " [[-0.53836647  1.50436477 -0.08666687]\n",
      "  [ 0.66981399  0.43715192  0.8326782 ]\n",
      "  [ 0.41489892 -0.54840745  1.06235261]\n",
      "  [-0.14697371  1.28598805  0.34352156]\n",
      "  [ 0.6824955   0.13975248  0.1999082 ]\n",
      "  [ 0.00543036  1.56591066  1.54728759]]\n",
      "\n",
      " [[ 0.76035884  0.78968253  0.45891578]\n",
      "  [ 0.5687412   0.139797    0.11453007]\n",
      "  [ 1.55083969  0.84712055  0.56523611]\n",
      "  [ 0.76499886  0.63471832  0.5535794 ]\n",
      "  [ 0.55920716  0.3039501   0.03081783]\n",
      "  [ 0.43671739  0.21458467  0.40852864]]]\n",
      "Loaded parameters: [[[ 0.77395605 -0.02690195  0.06878156]\n",
      "  [ 0.23583767 -0.71508796  1.27560438]\n",
      "  [ 0.09358354  0.77753127 -0.06614804]\n",
      "  [ 0.19918381  1.27188279  0.45109944]\n",
      "  [ 1.37592054  0.63255447  0.10190661]\n",
      "  [ 0.04285918  0.17395651  0.30700291]]\n",
      "\n",
      " [[ 1.58352352  1.60506722  2.23837551]\n",
      "  [ 0.71211043  1.23509285  0.61882985]\n",
      "  [ 1.33904891  1.31942187 -0.50424935]\n",
      "  [ 0.63697956  0.39852332  0.24006298]\n",
      "  [ 1.00264411  0.69553391 -0.42386772]\n",
      "  [-0.07396663  1.42778316  0.01266967]]\n",
      "\n",
      " [[-0.53836647  1.50436477 -0.08666687]\n",
      "  [ 0.66981399  0.43715192  0.8326782 ]\n",
      "  [ 0.41489892 -0.54840745  1.06235261]\n",
      "  [-0.14697371  1.28598805  0.34352156]\n",
      "  [ 0.6824955   0.13975248  0.1999082 ]\n",
      "  [ 0.00543036  1.56591066  1.54728759]]\n",
      "\n",
      " [[ 0.76035884  0.78968253  0.45891578]\n",
      "  [ 0.5687412   0.139797    0.11453007]\n",
      "  [ 1.55083969  0.84712055  0.56523611]\n",
      "  [ 0.76499886  0.63471832  0.5535794 ]\n",
      "  [ 0.55920716  0.3039501   0.03081783]\n",
      "  [ 0.43671739  0.21458467  0.40852864]]]\n"
     ]
    }
   ],
   "source": [
    "# print(params)\n",
    "# np.save(\"optimized_params_sin_prime.npy\", params)\n",
    "# loaded_params = np.load(\"optimized_params.npy\")\n",
    "# print(\"Loaded parameters:\", loaded_params)"
   ]
  },
  {
   "cell_type": "code",
   "execution_count": null,
   "metadata": {},
   "outputs": [
    {
     "data": {
      "image/png": "[encoded data removed]",
      "text/plain": [
       "<Figure size 432x288 with 1 Axes>"
      ]
     },
     "metadata": {
      "needs_background": "light"
     },
     "output_type": "display_data"
    },
    {
     "name": "stdout",
     "output_type": "stream",
     "text": [
      "[0.         0.11111111 0.22222222 0.33333333 0.44444444 0.55555556\n",
      " 0.66666667 0.77777778 0.88888889 1.        ]\n",
      "0.28595222510483553\n",
      "0.2758089532187245\n"
     ]
    }
   ],
   "source": [
    "plot_u_predict(loaded_params)\n",
    "sample_x = np.linspace(0, 1, 10, endpoint=True)\n",
    "print(sample_x)\n",
    "x=0.29\n",
    "print(np.sin(x))\n",
    "print(u_x(parameters=loaded_params,x=x))\n"
   ]
  }
 ],
 "metadata": {
  "kernelspec": {
   "display_name": "Python 3",
   "language": "python",
   "name": "python3"
  },
  "language_info": {
   "codemirror_mode": {
    "name": "ipython",
    "version": 3
   },
   "file_extension": ".py",
   "mimetype": "text/x-python",
   "name": "python",
   "nbconvert_exporter": "python",
   "pygments_lexer": "ipython3",
   "version": "3.10.9"
  },
  "orig_nbformat": 4
 },
 "nbformat": 4,
 "nbformat_minor": 2
}
