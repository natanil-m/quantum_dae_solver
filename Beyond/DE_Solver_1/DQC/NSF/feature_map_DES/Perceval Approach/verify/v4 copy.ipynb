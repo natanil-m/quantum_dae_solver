{
 "cells": [
  {
   "cell_type": "code",
   "execution_count": 1,
   "metadata": {},
   "outputs": [],
   "source": [
    "# !pip install perceval-quandela"
   ]
  },
  {
   "cell_type": "code",
   "execution_count": 2,
   "metadata": {},
   "outputs": [],
   "source": [
    "import perceval as pcvl\n",
    "import numpy as np\n",
    "from math import comb\n",
    "from scipy.optimize import minimize\n",
    "import time\n",
    "import matplotlib.pyplot as plt\n",
    "import matplotlib as mpl\n",
    "import tqdm as tqdm"
   ]
  },
  {
   "cell_type": "code",
   "execution_count": 3,
   "metadata": {},
   "outputs": [
    {
     "name": "stdout",
     "output_type": "stream",
     "text": [
      "0.8.1\n"
     ]
    }
   ],
   "source": [
    "print(pcvl.__version__)"
   ]
  },
  {
   "cell_type": "code",
   "execution_count": 4,
   "metadata": {},
   "outputs": [],
   "source": [
    "nphotons = 4\n",
    "seed = 20\n",
    "np.random.seed(seed)"
   ]
  },
  {
   "cell_type": "code",
   "execution_count": 5,
   "metadata": {},
   "outputs": [],
   "source": [
    "# # Differential equation parameters\n",
    "# # ws = 376.9911\n",
    "# ws = 0.385\n",
    "# coefii = 1\n",
    "# K1 = 5\n",
    "# K2 = 10\n",
    "# K3 = 2\n",
    "\n",
    "# def F_E1(X_prime, X,Y_prime,Y, t):       # DE, works with numpy arrays\n",
    "#     return (X_prime+ws-Y)/coefii\n",
    "\n",
    "\n",
    "# def F_E2(X_prime, X,Y_prime,Y, t):       # DE, works with numpy arrays\n",
    "#     return (Y_prime-K1+K2*X+K3*(-ws+Y))/coefii"
   ]
  },
  {
   "cell_type": "code",
   "execution_count": 6,
   "metadata": {},
   "outputs": [],
   "source": [
    "# Differential equation parameters\n",
    "ws = 376.9911\n",
    "\n",
    "# ws = 0.376\n",
    "# coefii = ws/4\n",
    "coefii = 1000\n",
    "K1 = 5/coefii\n",
    "K2 = 10/coefii\n",
    "K3 = 1.7/coefii\n",
    "ws = ws/coefii\n",
    "\n",
    "def F_E1(X_prime, X,Y_prime,Y, t):       # DE, works with numpy arrays\n",
    "    return (X_prime+ws-Y)\n",
    "    # return X_prime+ws-Y \n",
    "\n",
    "def F_E2(X_prime, X,Y_prime,Y, t):       # DE, works with numpy arrays\n",
    "    # return Y_prime\n",
    "    return Y_prime-K1+K2*np.sin(coefii*X)+K3*(-ws+Y)*coefii"
   ]
  },
  {
   "cell_type": "code",
   "execution_count": 7,
   "metadata": {},
   "outputs": [],
   "source": [
    "# Boundary condition \n",
    "X_0 = 0  #del\n",
    "Y_0 = 0     #w\n",
    "X_0_v = -1/coefii\n",
    "Y_0_v = 383.9911/coefii"
   ]
  },
  {
   "cell_type": "code",
   "execution_count": 8,
   "metadata": {},
   "outputs": [],
   "source": [
    "# Modeling parameters\n",
    "n_grid = 150    # number of grid points of the discretized differential equation\n",
    "range_min = 0  # minimum of the interval on which we wish to approximate our function\n",
    "range_max = 3   # maximum of the interval on which we wish to approximate our function\n",
    "T = np.linspace(range_min, range_max-range_min, n_grid)  # Optimisation grid"
   ]
  },
  {
   "cell_type": "code",
   "execution_count": 9,
   "metadata": {},
   "outputs": [],
   "source": [
    "# Differential equation's exact solution - for comparison\n",
    "# def u(x):\n",
    "#     return 0.5*np.log((x+1)/(x-1))\n",
    "\n",
    "import math\n",
    "\n",
    "def X_t(t):\n",
    "    x = (-(503 * np.sin(3 * t)) / 1000 - (3 * np.cos(3 * t)) / 2) / (np.exp(t)) + 1 / 2\n",
    "    return x\n",
    "\n",
    "def Y_t(t):\n",
    "    y = ((5003 * np.sin(3 * t)) / 1000 - (9 * np.cos(3 * t)) / 1000) / (np.exp(t)) + 77 / 200\n",
    "    return y\n",
    "\n",
    "# def X_t(t):\n",
    "#     return X_0*np.cos(t)+(3*X_0+2*Y_0)*np.sin(t)\n",
    "\n",
    "# def Y_t(t):\n",
    "#     return Y_0*np.cos(t)-(3*Y_0+5*X_0)*np.sin(t)"
   ]
  },
  {
   "cell_type": "code",
   "execution_count": 10,
   "metadata": {},
   "outputs": [],
   "source": [
    "# import numpy as np\n",
    "# import matplotlib.pyplot as plt\n",
    "\n",
    "# X_0 = 0\n",
    "# Y_0 = 1\n",
    "\n",
    "# def X_t(t):\n",
    "#     return X_0 * np.cos(t) + (3 * X_0 + 2 * Y_0) * np.sin(t)\n",
    "\n",
    "# def Y_t(t):\n",
    "#     return Y_0 * np.cos(t) - (3 * Y_0 + 5 * X_0) * np.sin(t)\n",
    "\n",
    "# # Generate an array of values for t\n",
    "# t_values = np.linspace(0, 2 * np.pi, 100)\n",
    "\n",
    "# # Compute the corresponding values of X_t and Y_t\n",
    "# X_values = X_t(t_values)\n",
    "# Y_values = Y_t(t_values)\n",
    "\n",
    "# # Plot X_t and Y_t\n",
    "# plt.plot(t_values, X_values, label='X_t')\n",
    "# plt.plot(t_values, Y_values, label='Y_t')\n",
    "\n",
    "# # Add labels and a legend\n",
    "# plt.xlabel('t')\n",
    "# plt.ylabel('Function Value')\n",
    "# plt.legend()\n",
    "\n",
    "# # Show the plot\n",
    "# plt.show()\n"
   ]
  },
  {
   "cell_type": "code",
   "execution_count": 11,
   "metadata": {},
   "outputs": [
    {
     "name": "stdout",
     "output_type": "stream",
     "text": [
      "0.020134228187919462\n"
     ]
    }
   ],
   "source": [
    "# Parameters of the quantum machine learning procedure\n",
    "N = nphotons              # Number of photons\n",
    "m = nphotons              # Number of modes\n",
    "eta = 5                   # weight granted to the initial condition\n",
    "a = 200                   # Approximate boundaries of the interval that the image of the trial function can cover\n",
    "fock_dim = comb(N + m - 1, N)\n",
    "# lambda coefficients for all the possible outputs\n",
    "lambda_random = 2 * a * np.random.rand(fock_dim) - a\n",
    "\n",
    "# dx serves for the numerical differentiation of f\n",
    "\n",
    "dt = (range_max-range_min) / (n_grid - 1)\n",
    "print(dt)"
   ]
  },
  {
   "cell_type": "code",
   "execution_count": 12,
   "metadata": {},
   "outputs": [
    {
     "name": "stdout",
     "output_type": "stream",
     "text": [
      "|1,1,1,1>\n"
     ]
    }
   ],
   "source": [
    "# Input state with N photons and m modes\n",
    "input_state = pcvl.BasicState([1]*N+[0]*(m-N))\n",
    "print(input_state)"
   ]
  },
  {
   "cell_type": "code",
   "execution_count": 13,
   "metadata": {},
   "outputs": [
    {
     "data": {
      "text/plain": [
       "True"
      ]
     },
     "execution_count": 13,
     "metadata": {},
     "output_type": "execute_result"
    }
   ],
   "source": [
    "\"Haar unitary parameters\"\n",
    "# number of parameters used for the two universal interferometers (2*m**2 per interferometer)\n",
    "parameters = np.random.normal(size=2*4*m**2)\n",
    "# parameters = np.load(file='Main loss = 7.650983599490547e-05time: 1689858581.3965776seed :30(4)_params.ipy.npy')\n",
    "params_E1 = parameters[:4*m**2]\n",
    "params_E2 = parameters[4*m**2:]\n",
    "# parameters_E1 = np.random.normal(size=4*m**2)\n",
    "# parameters_E2 = np.random.normal(size=4*m**2)\n",
    "\n",
    "\n",
    "pt_t = pcvl.P(\"t\")\n",
    "\n",
    "\n",
    "c_E1 = pcvl.Unitary(pcvl.Matrix.random_unitary(m, params_E1[:2 * m ** 2]), name=\"W1\")\\\n",
    "     // (0, pcvl.PS(pt_t))\\\n",
    "     // pcvl.Unitary(pcvl.Matrix.random_unitary(m, params_E1[2 * m ** 2:]), name=\"W2\")\n",
    "\n",
    "\n",
    "c_E2 = pcvl.Unitary(pcvl.Matrix.random_unitary(m, params_E2[:2 * m ** 2]), name=\"W1\")\\\n",
    "     // (0, pcvl.PS(pt_t))\\\n",
    "     // pcvl.Unitary(pcvl.Matrix.random_unitary(m, params_E2[2 * m ** 2:]), name=\"W2\")\n",
    "\n",
    "simulator_backend_1 = pcvl.BackendFactory().get_backend(\"SLOS\")\n",
    "s1 = simulator_backend_1(pcvl.Matrix.random_unitary(m))\n",
    "s1.compile(input_state)\n",
    "\n",
    "simulator_backend_2 = pcvl.BackendFactory().get_backend(\"SLOS\")\n",
    "s2 = simulator_backend_2(pcvl.Matrix.random_unitary(m))\n",
    "s2.compile(input_state)\n",
    "\n",
    "# pcvl.pdisplay(c_E1)"
   ]
  },
  {
   "cell_type": "code",
   "execution_count": 14,
   "metadata": {},
   "outputs": [],
   "source": [
    "#coeffi\n",
    "# coefs1 = lambda_random*1\n",
    "# b = 200*ws\n",
    "# coefs2 = 2 * b * np.random.rand(fock_dim) - b\n",
    "coefs1 = lambda_random\n",
    "coefs2 = lambda_random"
   ]
  },
  {
   "cell_type": "code",
   "execution_count": 15,
   "metadata": {},
   "outputs": [],
   "source": [
    "def computation(params):\n",
    "    global current_loss\n",
    "    global computation_count\n",
    "    \"compute the loss function of a given differential equation in order for it to be optimized\"\n",
    "    computation_count += 1\n",
    "\n",
    "\n",
    "    # #coeffi\n",
    "    # coefs1 = lambda_random*10\n",
    "    # coefs2 = lambda_random*10\n",
    "    \n",
    "\n",
    "    #params seperation\n",
    "    params_E1 = params[:4*m**2]\n",
    "    params_E2 = params[4*m**2:]\n",
    "\n",
    "\n",
    "\n",
    "    # boundary condition X_0\n",
    "    X_theta_0 = 0  \n",
    "    # coefs = lambda_random  # coefficients of the M observable\n",
    "    # initial condition with the two universal interferometers and the phase shift in the middle\n",
    "    U_1_E1 = pcvl.Matrix.random_unitary(m, params_E1[:2 * m ** 2])\n",
    "    U_2_E1 = pcvl.Matrix.random_unitary(m, params_E1[2 * m ** 2:])\n",
    "\n",
    "    pt = pcvl.P(\"t\")\n",
    "    c_E1 = pcvl.Unitary(U_2_E1) // (0, pcvl.PS(pt)) // pcvl.Unitary(U_1_E1)\n",
    "\n",
    "    pt.set_value(np.pi * X_0/range_max)\n",
    "    U = c_E1.compute_unitary(use_symbolic=False)\n",
    "    s1.U = U\n",
    "    X_theta_0 = np.sum(np.multiply(s1.all_prob(input_state), coefs1))\n",
    "\n",
    "    # boundary condition Y_0\n",
    "    Y_theta_0 = 0  \n",
    "    # coefs = lambda_random # coefficients of the M observable\n",
    "    # print(coefs)\n",
    "\n",
    "\n",
    "    # initial condition with the two universal interferometers and the phase shift in the middle\n",
    "    U_1_E2 = pcvl.Matrix.random_unitary(m, params_E2[:2 * m ** 2])\n",
    "    U_2_E2 = pcvl.Matrix.random_unitary(m, params_E2[2 * m ** 2:])\n",
    "\n",
    "    # pt = pcvl.P(\"t\")\n",
    "    c_E2 = pcvl.Unitary(U_2_E2) // (0, pcvl.PS(pt)) // pcvl.Unitary(U_1_E2)\n",
    "\n",
    "    pt.set_value(np.pi * Y_0/range_max)\n",
    "    U = c_E2.compute_unitary(use_symbolic=False)\n",
    "    s2.U = U\n",
    "    Y_theta_0 = np.sum(np.multiply(s2.all_prob(input_state), coefs2))\n",
    "\n",
    "\n",
    "\n",
    "    # boundary condition given a weight eta\n",
    "    # loss = eta * (X_theta_0 - X_0) ** 2 * len(T)\n",
    "    # loss += eta * (Y_theta_0 - Y_0) ** 2 * len(T)\n",
    "    loss=0\n",
    "\n",
    "    # X[0] is before the domain we are interested in (used for differentiation), t0 is at X[1]\n",
    "    X = np.zeros(n_grid + 2)\n",
    "\n",
    "    # Y[0] is before the domain we are interested in (used for differentiation), t0 is at Y[1]\n",
    "    Y = np.zeros(n_grid + 2)\n",
    "\n",
    "    # t0 is at the beginning of the domain, already calculated\n",
    "    X[1] = X_theta_0\n",
    "    Y[1] = Y_theta_0\n",
    "\n",
    "\n",
    "    pt.set_value(np.pi * (range_min - dt)/range_max)\n",
    "    s1.U = c_E1.compute_unitary(use_symbolic=False)\n",
    "    X[0] = np.sum(np.multiply(s1.all_prob(input_state), coefs1))\n",
    "\n",
    "    s2.U = c_E2.compute_unitary(use_symbolic=False)\n",
    "    Y[0] = np.sum(np.multiply(s2.all_prob(input_state), coefs2))\n",
    "\n",
    "    for i in range(1, n_grid):\n",
    "        t = T[i]\n",
    "        pt.set_value(np.pi * t/range_max)\n",
    "        s1.U = c_E1.compute_unitary(use_symbolic=False)\n",
    "        X[i + 1] = np.sum(np.multiply(s1.all_prob(input_state), coefs1))\n",
    "        s2.U = c_E2.compute_unitary(use_symbolic=False)\n",
    "        Y[i + 1] = np.sum(np.multiply(s2.all_prob(input_state), coefs2))\n",
    "\n",
    "    pt.set_value(np.pi * (range_max + dt)/range_max)\n",
    "    s1.U = c_E1.compute_unitary(use_symbolic=False)\n",
    "    X[n_grid + 1] = np.sum(np.multiply(s1.all_prob(input_state), coefs1))\n",
    "    s2.U = c_E2.compute_unitary(use_symbolic=False)\n",
    "    Y[n_grid + 1] = np.sum(np.multiply(s2.all_prob(input_state), coefs2))\n",
    "\n",
    "    # Boundary\n",
    "    # loss += eta * (X_theta_0 - X_0) ** 2 * len(X)\n",
    "    loss += eta*(X_theta_0 - X_0_v)**2\n",
    "    loss += eta*(Y_theta_0 - Y_0_v)**2\n",
    "    \n",
    "\n",
    "    # Differentiation\n",
    "    X_prime = (X[2:] - X[:-2])/(2*dt)\n",
    "    Y_prime = (Y[2:] - Y[:-2])/(2*dt)\n",
    "\n",
    "    # print('Exact X:')\n",
    "    # print(X_t(T))\n",
    "    # print('Estimated X')\n",
    "    # print(X)\n",
    "    # print(X_prime)\n",
    "    # print(\"==========================\")\n",
    "    # print('Exact Y:')\n",
    "    # print(Y_t(T))\n",
    "    # print('Estimated Y')\n",
    "    # print(Y)\n",
    "    # print(Y_prime)\n",
    "    \n",
    "\n",
    "    loss += np.sum((F_E1(X_prime, X[1:-1],Y_prime,Y[1:-1], T))**2)\n",
    "    loss += np.sum((F_E2(X_prime, X[1:-1],Y_prime,Y[1:-1], T))**2)\n",
    "    # print(loss)\n",
    "    # raise KeyError\n",
    "\n",
    "    current_loss = loss / (2*len(T))\n",
    "\n",
    "    return current_loss"
   ]
  },
  {
   "cell_type": "code",
   "execution_count": 16,
   "metadata": {},
   "outputs": [],
   "source": [
    "current_time = time.time()"
   ]
  },
  {
   "cell_type": "code",
   "execution_count": 17,
   "metadata": {},
   "outputs": [],
   "source": [
    "def callbackF(parameters):\n",
    "    \"\"\"callback function called by scipy.optimize.minimize allowing to monitor progress\"\"\"\n",
    "    global current_loss\n",
    "    global computation_count\n",
    "    global loss_evolution\n",
    "    global start_time\n",
    "    global best_param_temp\n",
    "    \n",
    "    best_param_temp = parameters\n",
    "    now = time.time()\n",
    "    pbar.set_description(\"M= %d Loss: %0.5f #computations: %d elapsed: %0.5f\" %\n",
    "                         (m, current_loss, computation_count, now-start_time))\n",
    "    pbar.update(1)\n",
    "    loss_evolution.append((current_loss, now-start_time))\n",
    "    # if current_loss<0.001:\n",
    "    #     np.save(file='loss = '+str(current_loss)+'time: '+str(current_time)+'seed :'+str(seed)+'('+str(nphotons)+')'+'_params.ipy',arr=parameters)\n",
    "    #     raise KeyError\n",
    "    computation_count = 0\n",
    "    start_time = now\n",
    "    # np.save(file=str(np.random.random())+'('+str(nphotons)+')'+'_params1.ipy',arr=parameters)"
   ]
  },
  {
   "cell_type": "code",
   "execution_count": 18,
   "metadata": {},
   "outputs": [
    {
     "name": "stderr",
     "output_type": "stream",
     "text": [
      "0it [00:00, ?it/s]"
     ]
    },
    {
     "name": "stderr",
     "output_type": "stream",
     "text": [
      "M= 4 Loss: 0.65613 #computations: 129 elapsed: 8.36679: : 196it [48:20,  8.43s/it]  "
     ]
    },
    {
     "ename": "KeyboardInterrupt",
     "evalue": "",
     "output_type": "error",
     "traceback": [
      "\u001b[0;31m---------------------------------------------------------------------------\u001b[0m",
      "\u001b[0;31mKeyboardInterrupt\u001b[0m                         Traceback (most recent call last)",
      "Cell \u001b[0;32mIn[18], line 9\u001b[0m\n\u001b[1;32m      7\u001b[0m pbar \u001b[39m=\u001b[39m tqdm\u001b[39m.\u001b[39mtqdm()\n\u001b[1;32m      8\u001b[0m \u001b[39m# \u001b[39;00m\n\u001b[0;32m----> 9\u001b[0m res \u001b[39m=\u001b[39m minimize(computation, parameters, callback\u001b[39m=\u001b[39;49mcallbackF, method\u001b[39m=\u001b[39;49m\u001b[39m'\u001b[39;49m\u001b[39mBFGS\u001b[39;49m\u001b[39m'\u001b[39;49m, options\u001b[39m=\u001b[39;49m{\u001b[39m'\u001b[39;49m\u001b[39mgtol\u001b[39;49m\u001b[39m'\u001b[39;49m: \u001b[39m1E-2\u001b[39;49m})\n",
      "File \u001b[0;32m~/anaconda3/lib/python3.10/site-packages/scipy/optimize/_minimize.py:691\u001b[0m, in \u001b[0;36mminimize\u001b[0;34m(fun, x0, args, method, jac, hess, hessp, bounds, constraints, tol, callback, options)\u001b[0m\n\u001b[1;32m    689\u001b[0m     res \u001b[39m=\u001b[39m _minimize_cg(fun, x0, args, jac, callback, \u001b[39m*\u001b[39m\u001b[39m*\u001b[39moptions)\n\u001b[1;32m    690\u001b[0m \u001b[39melif\u001b[39;00m meth \u001b[39m==\u001b[39m \u001b[39m'\u001b[39m\u001b[39mbfgs\u001b[39m\u001b[39m'\u001b[39m:\n\u001b[0;32m--> 691\u001b[0m     res \u001b[39m=\u001b[39m _minimize_bfgs(fun, x0, args, jac, callback, \u001b[39m*\u001b[39;49m\u001b[39m*\u001b[39;49moptions)\n\u001b[1;32m    692\u001b[0m \u001b[39melif\u001b[39;00m meth \u001b[39m==\u001b[39m \u001b[39m'\u001b[39m\u001b[39mnewton-cg\u001b[39m\u001b[39m'\u001b[39m:\n\u001b[1;32m    693\u001b[0m     res \u001b[39m=\u001b[39m _minimize_newtoncg(fun, x0, args, jac, hess, hessp, callback,\n\u001b[1;32m    694\u001b[0m                              \u001b[39m*\u001b[39m\u001b[39m*\u001b[39moptions)\n",
      "File \u001b[0;32m~/anaconda3/lib/python3.10/site-packages/scipy/optimize/_optimize.py:1388\u001b[0m, in \u001b[0;36m_minimize_bfgs\u001b[0;34m(fun, x0, args, jac, callback, gtol, norm, eps, maxiter, disp, return_all, finite_diff_rel_step, xrtol, **unknown_options)\u001b[0m\n\u001b[1;32m   1385\u001b[0m pk \u001b[39m=\u001b[39m \u001b[39m-\u001b[39mnp\u001b[39m.\u001b[39mdot(Hk, gfk)\n\u001b[1;32m   1386\u001b[0m \u001b[39mtry\u001b[39;00m:\n\u001b[1;32m   1387\u001b[0m     alpha_k, fc, gc, old_fval, old_old_fval, gfkp1 \u001b[39m=\u001b[39m \\\n\u001b[0;32m-> 1388\u001b[0m              _line_search_wolfe12(f, myfprime, xk, pk, gfk,\n\u001b[1;32m   1389\u001b[0m                                   old_fval, old_old_fval, amin\u001b[39m=\u001b[39;49m\u001b[39m1e-100\u001b[39;49m, amax\u001b[39m=\u001b[39;49m\u001b[39m1e100\u001b[39;49m)\n\u001b[1;32m   1390\u001b[0m \u001b[39mexcept\u001b[39;00m _LineSearchError:\n\u001b[1;32m   1391\u001b[0m     \u001b[39m# Line search failed to find a better solution.\u001b[39;00m\n\u001b[1;32m   1392\u001b[0m     warnflag \u001b[39m=\u001b[39m \u001b[39m2\u001b[39m\n",
      "File \u001b[0;32m~/anaconda3/lib/python3.10/site-packages/scipy/optimize/_optimize.py:1160\u001b[0m, in \u001b[0;36m_line_search_wolfe12\u001b[0;34m(f, fprime, xk, pk, gfk, old_fval, old_old_fval, **kwargs)\u001b[0m\n\u001b[1;32m   1146\u001b[0m \u001b[39m\"\"\"\u001b[39;00m\n\u001b[1;32m   1147\u001b[0m \u001b[39mSame as line_search_wolfe1, but fall back to line_search_wolfe2 if\u001b[39;00m\n\u001b[1;32m   1148\u001b[0m \u001b[39msuitable step length is not found, and raise an exception if a\u001b[39;00m\n\u001b[0;32m   (...)\u001b[0m\n\u001b[1;32m   1155\u001b[0m \n\u001b[1;32m   1156\u001b[0m \u001b[39m\"\"\"\u001b[39;00m\n\u001b[1;32m   1158\u001b[0m extra_condition \u001b[39m=\u001b[39m kwargs\u001b[39m.\u001b[39mpop(\u001b[39m'\u001b[39m\u001b[39mextra_condition\u001b[39m\u001b[39m'\u001b[39m, \u001b[39mNone\u001b[39;00m)\n\u001b[0;32m-> 1160\u001b[0m ret \u001b[39m=\u001b[39m line_search_wolfe1(f, fprime, xk, pk, gfk,\n\u001b[1;32m   1161\u001b[0m                          old_fval, old_old_fval,\n\u001b[1;32m   1162\u001b[0m                          \u001b[39m*\u001b[39;49m\u001b[39m*\u001b[39;49mkwargs)\n\u001b[1;32m   1164\u001b[0m \u001b[39mif\u001b[39;00m ret[\u001b[39m0\u001b[39m] \u001b[39mis\u001b[39;00m \u001b[39mnot\u001b[39;00m \u001b[39mNone\u001b[39;00m \u001b[39mand\u001b[39;00m extra_condition \u001b[39mis\u001b[39;00m \u001b[39mnot\u001b[39;00m \u001b[39mNone\u001b[39;00m:\n\u001b[1;32m   1165\u001b[0m     xp1 \u001b[39m=\u001b[39m xk \u001b[39m+\u001b[39m ret[\u001b[39m0\u001b[39m] \u001b[39m*\u001b[39m pk\n",
      "File \u001b[0;32m~/anaconda3/lib/python3.10/site-packages/scipy/optimize/_linesearch.py:84\u001b[0m, in \u001b[0;36mline_search_wolfe1\u001b[0;34m(f, fprime, xk, pk, gfk, old_fval, old_old_fval, args, c1, c2, amax, amin, xtol)\u001b[0m\n\u001b[1;32m     80\u001b[0m     \u001b[39mreturn\u001b[39;00m np\u001b[39m.\u001b[39mdot(gval[\u001b[39m0\u001b[39m], pk)\n\u001b[1;32m     82\u001b[0m derphi0 \u001b[39m=\u001b[39m np\u001b[39m.\u001b[39mdot(gfk, pk)\n\u001b[0;32m---> 84\u001b[0m stp, fval, old_fval \u001b[39m=\u001b[39m scalar_search_wolfe1(\n\u001b[1;32m     85\u001b[0m         phi, derphi, old_fval, old_old_fval, derphi0,\n\u001b[1;32m     86\u001b[0m         c1\u001b[39m=\u001b[39;49mc1, c2\u001b[39m=\u001b[39;49mc2, amax\u001b[39m=\u001b[39;49mamax, amin\u001b[39m=\u001b[39;49mamin, xtol\u001b[39m=\u001b[39;49mxtol)\n\u001b[1;32m     88\u001b[0m \u001b[39mreturn\u001b[39;00m stp, fc[\u001b[39m0\u001b[39m], gc[\u001b[39m0\u001b[39m], fval, old_fval, gval[\u001b[39m0\u001b[39m]\n",
      "File \u001b[0;32m~/anaconda3/lib/python3.10/site-packages/scipy/optimize/_linesearch.py:161\u001b[0m, in \u001b[0;36mscalar_search_wolfe1\u001b[0;34m(phi, derphi, phi0, old_phi0, derphi0, c1, c2, amax, amin, xtol)\u001b[0m\n\u001b[1;32m    159\u001b[0m     alpha1 \u001b[39m=\u001b[39m stp\n\u001b[1;32m    160\u001b[0m     phi1 \u001b[39m=\u001b[39m phi(stp)\n\u001b[0;32m--> 161\u001b[0m     derphi1 \u001b[39m=\u001b[39m derphi(stp)\n\u001b[1;32m    162\u001b[0m \u001b[39melse\u001b[39;00m:\n\u001b[1;32m    163\u001b[0m     \u001b[39mbreak\u001b[39;00m\n",
      "File \u001b[0;32m~/anaconda3/lib/python3.10/site-packages/scipy/optimize/_linesearch.py:78\u001b[0m, in \u001b[0;36mline_search_wolfe1.<locals>.derphi\u001b[0;34m(s)\u001b[0m\n\u001b[1;32m     77\u001b[0m \u001b[39mdef\u001b[39;00m \u001b[39mderphi\u001b[39m(s):\n\u001b[0;32m---> 78\u001b[0m     gval[\u001b[39m0\u001b[39m] \u001b[39m=\u001b[39m fprime(xk \u001b[39m+\u001b[39;49m s\u001b[39m*\u001b[39;49mpk, \u001b[39m*\u001b[39;49margs)\n\u001b[1;32m     79\u001b[0m     gc[\u001b[39m0\u001b[39m] \u001b[39m+\u001b[39m\u001b[39m=\u001b[39m \u001b[39m1\u001b[39m\n\u001b[1;32m     80\u001b[0m     \u001b[39mreturn\u001b[39;00m np\u001b[39m.\u001b[39mdot(gval[\u001b[39m0\u001b[39m], pk)\n",
      "File \u001b[0;32m~/anaconda3/lib/python3.10/site-packages/scipy/optimize/_differentiable_functions.py:273\u001b[0m, in \u001b[0;36mScalarFunction.grad\u001b[0;34m(self, x)\u001b[0m\n\u001b[1;32m    271\u001b[0m \u001b[39mif\u001b[39;00m \u001b[39mnot\u001b[39;00m np\u001b[39m.\u001b[39marray_equal(x, \u001b[39mself\u001b[39m\u001b[39m.\u001b[39mx):\n\u001b[1;32m    272\u001b[0m     \u001b[39mself\u001b[39m\u001b[39m.\u001b[39m_update_x_impl(x)\n\u001b[0;32m--> 273\u001b[0m \u001b[39mself\u001b[39;49m\u001b[39m.\u001b[39;49m_update_grad()\n\u001b[1;32m    274\u001b[0m \u001b[39mreturn\u001b[39;00m \u001b[39mself\u001b[39m\u001b[39m.\u001b[39mg\n",
      "File \u001b[0;32m~/anaconda3/lib/python3.10/site-packages/scipy/optimize/_differentiable_functions.py:256\u001b[0m, in \u001b[0;36mScalarFunction._update_grad\u001b[0;34m(self)\u001b[0m\n\u001b[1;32m    254\u001b[0m \u001b[39mdef\u001b[39;00m \u001b[39m_update_grad\u001b[39m(\u001b[39mself\u001b[39m):\n\u001b[1;32m    255\u001b[0m     \u001b[39mif\u001b[39;00m \u001b[39mnot\u001b[39;00m \u001b[39mself\u001b[39m\u001b[39m.\u001b[39mg_updated:\n\u001b[0;32m--> 256\u001b[0m         \u001b[39mself\u001b[39;49m\u001b[39m.\u001b[39;49m_update_grad_impl()\n\u001b[1;32m    257\u001b[0m         \u001b[39mself\u001b[39m\u001b[39m.\u001b[39mg_updated \u001b[39m=\u001b[39m \u001b[39mTrue\u001b[39;00m\n",
      "File \u001b[0;32m~/anaconda3/lib/python3.10/site-packages/scipy/optimize/_differentiable_functions.py:173\u001b[0m, in \u001b[0;36mScalarFunction.__init__.<locals>.update_grad\u001b[0;34m()\u001b[0m\n\u001b[1;32m    171\u001b[0m \u001b[39mself\u001b[39m\u001b[39m.\u001b[39m_update_fun()\n\u001b[1;32m    172\u001b[0m \u001b[39mself\u001b[39m\u001b[39m.\u001b[39mngev \u001b[39m+\u001b[39m\u001b[39m=\u001b[39m \u001b[39m1\u001b[39m\n\u001b[0;32m--> 173\u001b[0m \u001b[39mself\u001b[39m\u001b[39m.\u001b[39mg \u001b[39m=\u001b[39m approx_derivative(fun_wrapped, \u001b[39mself\u001b[39;49m\u001b[39m.\u001b[39;49mx, f0\u001b[39m=\u001b[39;49m\u001b[39mself\u001b[39;49m\u001b[39m.\u001b[39;49mf,\n\u001b[1;32m    174\u001b[0m                            \u001b[39m*\u001b[39;49m\u001b[39m*\u001b[39;49mfinite_diff_options)\n",
      "File \u001b[0;32m~/anaconda3/lib/python3.10/site-packages/scipy/optimize/_numdiff.py:505\u001b[0m, in \u001b[0;36mapprox_derivative\u001b[0;34m(fun, x0, method, rel_step, abs_step, f0, bounds, sparsity, as_linear_operator, args, kwargs)\u001b[0m\n\u001b[1;32m    502\u001b[0m     use_one_sided \u001b[39m=\u001b[39m \u001b[39mFalse\u001b[39;00m\n\u001b[1;32m    504\u001b[0m \u001b[39mif\u001b[39;00m sparsity \u001b[39mis\u001b[39;00m \u001b[39mNone\u001b[39;00m:\n\u001b[0;32m--> 505\u001b[0m     \u001b[39mreturn\u001b[39;00m _dense_difference(fun_wrapped, x0, f0, h,\n\u001b[1;32m    506\u001b[0m                              use_one_sided, method)\n\u001b[1;32m    507\u001b[0m \u001b[39melse\u001b[39;00m:\n\u001b[1;32m    508\u001b[0m     \u001b[39mif\u001b[39;00m \u001b[39mnot\u001b[39;00m issparse(sparsity) \u001b[39mand\u001b[39;00m \u001b[39mlen\u001b[39m(sparsity) \u001b[39m==\u001b[39m \u001b[39m2\u001b[39m:\n",
      "File \u001b[0;32m~/anaconda3/lib/python3.10/site-packages/scipy/optimize/_numdiff.py:576\u001b[0m, in \u001b[0;36m_dense_difference\u001b[0;34m(fun, x0, f0, h, use_one_sided, method)\u001b[0m\n\u001b[1;32m    574\u001b[0m     x \u001b[39m=\u001b[39m x0 \u001b[39m+\u001b[39m h_vecs[i]\n\u001b[1;32m    575\u001b[0m     dx \u001b[39m=\u001b[39m x[i] \u001b[39m-\u001b[39m x0[i]  \u001b[39m# Recompute dx as exactly representable number.\u001b[39;00m\n\u001b[0;32m--> 576\u001b[0m     df \u001b[39m=\u001b[39m fun(x) \u001b[39m-\u001b[39m f0\n\u001b[1;32m    577\u001b[0m \u001b[39melif\u001b[39;00m method \u001b[39m==\u001b[39m \u001b[39m'\u001b[39m\u001b[39m3-point\u001b[39m\u001b[39m'\u001b[39m \u001b[39mand\u001b[39;00m use_one_sided[i]:\n\u001b[1;32m    578\u001b[0m     x1 \u001b[39m=\u001b[39m x0 \u001b[39m+\u001b[39m h_vecs[i]\n",
      "File \u001b[0;32m~/anaconda3/lib/python3.10/site-packages/scipy/optimize/_numdiff.py:456\u001b[0m, in \u001b[0;36mapprox_derivative.<locals>.fun_wrapped\u001b[0;34m(x)\u001b[0m\n\u001b[1;32m    455\u001b[0m \u001b[39mdef\u001b[39;00m \u001b[39mfun_wrapped\u001b[39m(x):\n\u001b[0;32m--> 456\u001b[0m     f \u001b[39m=\u001b[39m np\u001b[39m.\u001b[39matleast_1d(fun(x, \u001b[39m*\u001b[39;49margs, \u001b[39m*\u001b[39;49m\u001b[39m*\u001b[39;49mkwargs))\n\u001b[1;32m    457\u001b[0m     \u001b[39mif\u001b[39;00m f\u001b[39m.\u001b[39mndim \u001b[39m>\u001b[39m \u001b[39m1\u001b[39m:\n\u001b[1;32m    458\u001b[0m         \u001b[39mraise\u001b[39;00m \u001b[39mRuntimeError\u001b[39;00m(\u001b[39m\"\u001b[39m\u001b[39m`fun` return value has \u001b[39m\u001b[39m\"\u001b[39m\n\u001b[1;32m    459\u001b[0m                            \u001b[39m\"\u001b[39m\u001b[39mmore than 1 dimension.\u001b[39m\u001b[39m\"\u001b[39m)\n",
      "File \u001b[0;32m~/anaconda3/lib/python3.10/site-packages/scipy/optimize/_differentiable_functions.py:137\u001b[0m, in \u001b[0;36mScalarFunction.__init__.<locals>.fun_wrapped\u001b[0;34m(x)\u001b[0m\n\u001b[1;32m    133\u001b[0m \u001b[39mself\u001b[39m\u001b[39m.\u001b[39mnfev \u001b[39m+\u001b[39m\u001b[39m=\u001b[39m \u001b[39m1\u001b[39m\n\u001b[1;32m    134\u001b[0m \u001b[39m# Send a copy because the user may overwrite it.\u001b[39;00m\n\u001b[1;32m    135\u001b[0m \u001b[39m# Overwriting results in undefined behaviour because\u001b[39;00m\n\u001b[1;32m    136\u001b[0m \u001b[39m# fun(self.x) will change self.x, with the two no longer linked.\u001b[39;00m\n\u001b[0;32m--> 137\u001b[0m fx \u001b[39m=\u001b[39m fun(np\u001b[39m.\u001b[39;49mcopy(x), \u001b[39m*\u001b[39;49margs)\n\u001b[1;32m    138\u001b[0m \u001b[39m# Make sure the function returns a true scalar\u001b[39;00m\n\u001b[1;32m    139\u001b[0m \u001b[39mif\u001b[39;00m \u001b[39mnot\u001b[39;00m np\u001b[39m.\u001b[39misscalar(fx):\n",
      "Cell \u001b[0;32mIn[15], line 83\u001b[0m, in \u001b[0;36mcomputation\u001b[0;34m(params)\u001b[0m\n\u001b[1;32m     81\u001b[0m     X[i \u001b[39m+\u001b[39m \u001b[39m1\u001b[39m] \u001b[39m=\u001b[39m np\u001b[39m.\u001b[39msum(np\u001b[39m.\u001b[39mmultiply(s1\u001b[39m.\u001b[39mall_prob(input_state), coefs1))\n\u001b[1;32m     82\u001b[0m     s2\u001b[39m.\u001b[39mU \u001b[39m=\u001b[39m c_E2\u001b[39m.\u001b[39mcompute_unitary(use_symbolic\u001b[39m=\u001b[39m\u001b[39mFalse\u001b[39;00m)\n\u001b[0;32m---> 83\u001b[0m     Y[i \u001b[39m+\u001b[39m \u001b[39m1\u001b[39m] \u001b[39m=\u001b[39m np\u001b[39m.\u001b[39msum(np\u001b[39m.\u001b[39mmultiply(s2\u001b[39m.\u001b[39;49mall_prob(input_state), coefs2))\n\u001b[1;32m     85\u001b[0m pt\u001b[39m.\u001b[39mset_value(np\u001b[39m.\u001b[39mpi \u001b[39m*\u001b[39m (range_max \u001b[39m+\u001b[39m dt)\u001b[39m/\u001b[39mrange_max)\n\u001b[1;32m     86\u001b[0m s1\u001b[39m.\u001b[39mU \u001b[39m=\u001b[39m c_E1\u001b[39m.\u001b[39mcompute_unitary(use_symbolic\u001b[39m=\u001b[39m\u001b[39mFalse\u001b[39;00m)\n",
      "File \u001b[0;32m~/anaconda3/lib/python3.10/site-packages/perceval/backends/template.py:213\u001b[0m, in \u001b[0;36mBackend.all_prob\u001b[0;34m(self, input_state)\u001b[0m\n\u001b[1;32m    211\u001b[0m \u001b[39mdef\u001b[39;00m \u001b[39mall_prob\u001b[39m(\u001b[39mself\u001b[39m, input_state: BasicState) \u001b[39m-\u001b[39m\u001b[39m>\u001b[39m np\u001b[39m.\u001b[39mndarray:\n\u001b[1;32m    212\u001b[0m     allprobs \u001b[39m=\u001b[39m []\n\u001b[0;32m--> 213\u001b[0m     \u001b[39mfor\u001b[39;00m (output, prob_output) \u001b[39min\u001b[39;00m \u001b[39mself\u001b[39m\u001b[39m.\u001b[39mallstateprob_iterator(input_state):\n\u001b[1;32m    214\u001b[0m         allprobs\u001b[39m.\u001b[39mappend(prob_output)\n\u001b[1;32m    215\u001b[0m     \u001b[39mreturn\u001b[39;00m np\u001b[39m.\u001b[39masarray(allprobs)\n",
      "File \u001b[0;32m~/anaconda3/lib/python3.10/site-packages/perceval/backends/template.py:278\u001b[0m, in \u001b[0;36mBackend.allstateprob_iterator\u001b[0;34m(self, input_state)\u001b[0m\n\u001b[1;32m    276\u001b[0m \u001b[39mif\u001b[39;00m \u001b[39misinstance\u001b[39m(input_state, StateVector):\n\u001b[1;32m    277\u001b[0m     input_state \u001b[39m=\u001b[39m input_state[\u001b[39m0\u001b[39m]\n\u001b[0;32m--> 278\u001b[0m \u001b[39myield\u001b[39;00m output_state, \u001b[39mself\u001b[39;49m\u001b[39m.\u001b[39;49mprob(input_state, output_state, skip_compile\u001b[39m=\u001b[39;49mskip_compile)\n\u001b[1;32m    279\u001b[0m skip_compile \u001b[39m=\u001b[39m \u001b[39mTrue\u001b[39;00m\n",
      "File \u001b[0;32m~/anaconda3/lib/python3.10/site-packages/perceval/backends/template.py:183\u001b[0m, in \u001b[0;36mBackend.prob\u001b[0;34m(self, input_state, output_state, skip_compile)\u001b[0m\n\u001b[1;32m    181\u001b[0m     \u001b[39mif\u001b[39;00m \u001b[39mnot\u001b[39;00m skip_compile:\n\u001b[1;32m    182\u001b[0m         \u001b[39mself\u001b[39m\u001b[39m.\u001b[39mcompile(input_state)\n\u001b[0;32m--> 183\u001b[0m     \u001b[39mreturn\u001b[39;00m \u001b[39mself\u001b[39;49m\u001b[39m.\u001b[39;49mprob_be(input_state, output_state)\n\u001b[1;32m    184\u001b[0m spatial_mode_input_state, prep_matrix_input \u001b[39m=\u001b[39m convert_polarized_state(input_state)\n\u001b[1;32m    185\u001b[0m _U_ref \u001b[39m=\u001b[39m \u001b[39mself\u001b[39m\u001b[39m.\u001b[39m_U\n",
      "File \u001b[0;32m~/anaconda3/lib/python3.10/site-packages/perceval/backends/slos.py:194\u001b[0m, in \u001b[0;36mSLOSBackend.prob_be\u001b[0;34m(self, input_state, output_state)\u001b[0m\n\u001b[1;32m    192\u001b[0m \u001b[39mdef\u001b[39;00m \u001b[39mprob_be\u001b[39m(\u001b[39mself\u001b[39m, input_state, output_state):\n\u001b[1;32m    193\u001b[0m     \u001b[39mreturn\u001b[39;00m \u001b[39mabs\u001b[39m(\u001b[39mself\u001b[39m\u001b[39m.\u001b[39mprobampli_be(input_state, output_state, \u001b[39mFalse\u001b[39;00m))\u001b[39m*\u001b[39m\u001b[39m*\u001b[39m\u001b[39m2\u001b[39m\\\n\u001b[0;32m--> 194\u001b[0m            \u001b[39m*\u001b[39m output_state\u001b[39m.\u001b[39;49mprodnfact()\u001b[39m/\u001b[39minput_state\u001b[39m.\u001b[39mprodnfact()\n",
      "\u001b[0;31mKeyboardInterrupt\u001b[0m: "
     ]
    }
   ],
   "source": [
    "computation_count = 0\n",
    "current_loss = 0\n",
    "start_time = time.time()\n",
    "loss_evolution = []\n",
    "best_param_temp = None\n",
    "# parameters = best_param_temp\n",
    "pbar = tqdm.tqdm()\n",
    "# \n",
    "res = minimize(computation, parameters, callback=callbackF, method='BFGS', options={'gtol': 1E-2})"
   ]
  },
  {
   "cell_type": "code",
   "execution_count": null,
   "metadata": {},
   "outputs": [],
   "source": [
    "# print(\"Unitary parameters\", best_param_temp)\n",
    "# np.save(file=str(np.random.random())+'('+str(nphotons)+')'+'_params1.ipy',arr=best_param_temp)"
   ]
  },
  {
   "cell_type": "code",
   "execution_count": 19,
   "metadata": {},
   "outputs": [],
   "source": [
    "# best_param_temp = parameters\n",
    "# print(\"Unitary parameters\", best_param_temp)\n",
    "# best_param_temp =res.x\n",
    "np.save(file='eta1_v4copy-1-3.ipy',arr=best_param_temp)\n",
    "# np.save(file=str(np.random.random())+'('+str(nphotons)+')'+'_params1.ipy',arr=res.x)\n",
    "# np.save(file='time: '+current_time+'seed :'+seed+'('+str(nphotons)+')'+'_params.ipy',arr=res.x)\n",
    "# np.save(file='loss = '+str(current_loss)+'time: '+str(current_time)+'seed :'+str(seed)+'('+str(nphotons)+')'+'_params.ipy',arr=best_param_temp)\n"
   ]
  },
  {
   "cell_type": "code",
   "execution_count": 20,
   "metadata": {},
   "outputs": [],
   "source": [
    "def plot_solution(m, N, T, optim_params, lambda_random):\n",
    "    # print(res.x)\n",
    "    X = []\n",
    "    Y = []\n",
    "    opt_params_E1 = optim_params[:4*m**2]\n",
    "    opt_params_E2 = optim_params[4*m**2:]\n",
    "\n",
    "    pt = pcvl.P(\"t\")\n",
    "\n",
    "    U_1_x = pcvl.Matrix.random_unitary(m, opt_params_E1[:2 * m ** 2])\n",
    "    U_2_x = pcvl.Matrix.random_unitary(m, opt_params_E1[2 * m ** 2:])\n",
    "    c_E1 = pcvl.Unitary(U_2_x) // (0, pcvl.PS(pt)) // pcvl.Unitary(U_1_x)\n",
    "\n",
    "\n",
    "    U_1_y = pcvl.Matrix.random_unitary(m, opt_params_E2[:2 * m ** 2])\n",
    "    U_2_y = pcvl.Matrix.random_unitary(m, opt_params_E2[2 * m ** 2:])\n",
    "    c_E2 = pcvl.Unitary(U_2_y) // (0, pcvl.PS(pt)) // pcvl.Unitary(U_1_y)\n",
    "\n",
    "    for t in T:\n",
    "        pt.set_value(np.pi * t/range_max)\n",
    "\n",
    "        U_x = c_E1.compute_unitary(use_symbolic=False)\n",
    "        s1.U = U_x\n",
    "        X_theta = np.sum(np.multiply(s1.all_prob(input_state),coefs1 ))\n",
    "        X.append(X_theta)\n",
    "        \n",
    "        U_y = c_E2.compute_unitary(use_symbolic=False)\n",
    "        s2.U = U_y\n",
    "        Y_theta = np.sum(np.multiply(s2.all_prob(input_state), coefs2))\n",
    "        Y.append(Y_theta)\n",
    "\n",
    "        if t==0:\n",
    "            print(t)\n",
    "            print(X_theta)\n",
    "            print(Y_theta)\n",
    "        \n",
    "    plt.plot(T, X, label=\"Approximation X_t with {} photons\".format(N))\n",
    "    # plt.figure()\n",
    "    plt.plot(T, np.array(Y)-ws, label=\"Approximation Y_t with {} photons\".format(N))\n",
    "    "
   ]
  },
  {
   "cell_type": "code",
   "execution_count": 21,
   "metadata": {},
   "outputs": [
    {
     "name": "stdout",
     "output_type": "stream",
     "text": [
      "0.0\n",
      "5.33992322533856\n",
      "3.043136126057987\n"
     ]
    },
    {
     "data": {
      "image/png": "[encoded data removed]",
      "text/plain": [
       "<Figure size 640x480 with 1 Axes>"
      ]
     },
     "metadata": {},
     "output_type": "display_data"
    }
   ],
   "source": [
    "# Generate an array of values for t\n",
    "T = np.linspace(range_min, range_max, 50)\n",
    "\n",
    "# Compute the corresponding values of X_t and Y_t\n",
    "X_values = X_t(T)\n",
    "Y_values = Y_t(T)\n",
    "\n",
    "# Plot X_t and Y_t\n",
    "# plt.plot(T, X_values, label='X_t')\n",
    "# plt.plot(T, Y_values, label='Y_t')\n",
    "\n",
    "\n",
    "# plot_solution(m, N, T, res.x, lambda_random)\n",
    "plot_solution(m, N, T, best_param_temp, lambda_random)\n",
    "\n",
    "\n",
    "# Add labels and a legend\n",
    "plt.xlabel('t')\n",
    "plt.ylabel('Function Value')\n",
    "plt.legend()\n",
    "\n",
    "# Show the plot\n",
    "plt.show()"
   ]
  },
  {
   "cell_type": "code",
   "execution_count": 22,
   "metadata": {},
   "outputs": [],
   "source": [
    "# X = np.linspace(range_min, range_max, 200)\n",
    "\n",
    "# # Change the plot size\n",
    "# default_figsize = mpl.rcParamsDefault['figure.figsize']\n",
    "# mpl.rcParams['figure.figsize'] = [2 * value for value in default_figsize]\n",
    "\n",
    "# plot_solution(m, N, X, res.x, lambda_random)\n",
    "\n",
    "# plt.plot(X, u(X), 'r', label='Analytical solution')\n",
    "# plt.legend()\n",
    "# plt.show()"
   ]
  },
  {
   "cell_type": "code",
   "execution_count": 23,
   "metadata": {},
   "outputs": [
    {
     "data": {
      "text/plain": [
       "Text(0, 0.5, 'Loss function value')"
      ]
     },
     "execution_count": 23,
     "metadata": {},
     "output_type": "execute_result"
    },
    {
     "data": {
      "image/png": "[encoded data removed]",
      "text/plain": [
       "<Figure size 640x480 with 1 Axes>"
      ]
     },
     "metadata": {},
     "output_type": "display_data"
    }
   ],
   "source": [
    "\n",
    "plt.plot([v[0] for v in loss_evolution])\n",
    "plt.yscale(\"log\")\n",
    "plt.xlabel(\"Number of epochs\")\n",
    "plt.ylabel(\"Loss function value\")"
   ]
  }
 ],
 "metadata": {
  "kernelspec": {
   "display_name": "Python 3",
   "language": "python",
   "name": "python3"
  },
  "language_info": {
   "codemirror_mode": {
    "name": "ipython",
    "version": 3
   },
   "file_extension": ".py",
   "mimetype": "text/x-python",
   "name": "python",
   "nbconvert_exporter": "python",
   "pygments_lexer": "ipython3",
   "version": "3.10.9"
  },
  "orig_nbformat": 4
 },
 "nbformat": 4,
 "nbformat_minor": 2
}
