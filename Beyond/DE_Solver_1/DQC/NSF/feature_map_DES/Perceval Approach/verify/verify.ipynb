{
 "cells": [
  {
   "cell_type": "code",
   "execution_count": 1,
   "metadata": {},
   "outputs": [],
   "source": [
    "# !pip install perceval-quandela"
   ]
  },
  {
   "cell_type": "code",
   "execution_count": 2,
   "metadata": {},
   "outputs": [],
   "source": [
    "import perceval as pcvl\n",
    "import numpy as np\n",
    "from math import comb\n",
    "from scipy.optimize import minimize\n",
    "import time\n",
    "import matplotlib.pyplot as plt\n",
    "import matplotlib as mpl\n",
    "import tqdm as tqdm"
   ]
  },
  {
   "cell_type": "code",
   "execution_count": 3,
   "metadata": {},
   "outputs": [
    {
     "name": "stdout",
     "output_type": "stream",
     "text": [
      "0.8.1\n"
     ]
    }
   ],
   "source": [
    "print(pcvl.__version__)"
   ]
  },
  {
   "cell_type": "code",
   "execution_count": 4,
   "metadata": {},
   "outputs": [],
   "source": [
    "nphotons = 4\n",
    "seed = 30\n",
    "np.random.seed(seed)"
   ]
  },
  {
   "cell_type": "code",
   "execution_count": 5,
   "metadata": {},
   "outputs": [],
   "source": [
    "# Differential equation parameters\n",
    "# ws = 376.9911\n",
    "ws = 0.385\n",
    "coefii = 1\n",
    "K1 = 5\n",
    "K2 = 10\n",
    "K3 = 2\n",
    "\n",
    "def F_E1(X_prime, X,Y_prime,Y, t):       # DE, works with numpy arrays\n",
    "    return (X_prime+ws-Y)/coefii\n",
    "\n",
    "\n",
    "def F_E2(X_prime, X,Y_prime,Y, t):       # DE, works with numpy arrays\n",
    "    return (Y_prime-K1+K2*X+K3*(-ws+Y))/coefii"
   ]
  },
  {
   "cell_type": "code",
   "execution_count": 6,
   "metadata": {},
   "outputs": [],
   "source": [
    "# Boundary condition \n",
    "X_0 = 0  #del\n",
    "Y_0 = 0     #w\n",
    "X_0_v = -1\n",
    "Y_0_v = 0.376"
   ]
  },
  {
   "cell_type": "code",
   "execution_count": 7,
   "metadata": {},
   "outputs": [],
   "source": [
    "# Modeling parameters\n",
    "n_grid = 50    # number of grid points of the discretized differential equation\n",
    "range_min = 0  # minimum of the interval on which we wish to approximate our function\n",
    "range_max = 2   # maximum of the interval on which we wish to approximate our function\n",
    "T = np.linspace(range_min, range_max-range_min, n_grid)  # Optimisation grid"
   ]
  },
  {
   "cell_type": "code",
   "execution_count": 8,
   "metadata": {},
   "outputs": [],
   "source": [
    "# Differential equation's exact solution - for comparison\n",
    "# def u(x):\n",
    "#     return 0.5*np.log((x+1)/(x-1))\n",
    "\n",
    "import math\n",
    "\n",
    "def X_t(t):\n",
    "    x = (-(503 * np.sin(3 * t)) / 1000 - (3 * np.cos(3 * t)) / 2) / (np.exp(t)) + 1 / 2\n",
    "    return x\n",
    "\n",
    "def Y_t(t):\n",
    "    y = ((5003 * np.sin(3 * t)) / 1000 - (9 * np.cos(3 * t)) / 1000) / (np.exp(t)) + 77 / 200\n",
    "    return y\n",
    "\n",
    "# def X_t(t):\n",
    "#     return X_0*np.cos(t)+(3*X_0+2*Y_0)*np.sin(t)\n",
    "\n",
    "# def Y_t(t):\n",
    "#     return Y_0*np.cos(t)-(3*Y_0+5*X_0)*np.sin(t)"
   ]
  },
  {
   "cell_type": "code",
   "execution_count": 9,
   "metadata": {},
   "outputs": [],
   "source": [
    "# import numpy as np\n",
    "# import matplotlib.pyplot as plt\n",
    "\n",
    "# X_0 = 0\n",
    "# Y_0 = 1\n",
    "\n",
    "# def X_t(t):\n",
    "#     return X_0 * np.cos(t) + (3 * X_0 + 2 * Y_0) * np.sin(t)\n",
    "\n",
    "# def Y_t(t):\n",
    "#     return Y_0 * np.cos(t) - (3 * Y_0 + 5 * X_0) * np.sin(t)\n",
    "\n",
    "# # Generate an array of values for t\n",
    "# t_values = np.linspace(0, 2 * np.pi, 100)\n",
    "\n",
    "# # Compute the corresponding values of X_t and Y_t\n",
    "# X_values = X_t(t_values)\n",
    "# Y_values = Y_t(t_values)\n",
    "\n",
    "# # Plot X_t and Y_t\n",
    "# plt.plot(t_values, X_values, label='X_t')\n",
    "# plt.plot(t_values, Y_values, label='Y_t')\n",
    "\n",
    "# # Add labels and a legend\n",
    "# plt.xlabel('t')\n",
    "# plt.ylabel('Function Value')\n",
    "# plt.legend()\n",
    "\n",
    "# # Show the plot\n",
    "# plt.show()\n"
   ]
  },
  {
   "cell_type": "code",
   "execution_count": 10,
   "metadata": {},
   "outputs": [
    {
     "name": "stdout",
     "output_type": "stream",
     "text": [
      "0.04081632653061224\n"
     ]
    }
   ],
   "source": [
    "# Parameters of the quantum machine learning procedure\n",
    "N = nphotons              # Number of photons\n",
    "m = nphotons              # Number of modes\n",
    "eta = 5                   # weight granted to the initial condition\n",
    "a = 200                   # Approximate boundaries of the interval that the image of the trial function can cover\n",
    "fock_dim = comb(N + m - 1, N)\n",
    "# lambda coefficients for all the possible outputs\n",
    "lambda_random = 2 * a * np.random.rand(fock_dim) - a\n",
    "\n",
    "# dx serves for the numerical differentiation of f\n",
    "\n",
    "dt = (range_max-range_min) / (n_grid - 1)\n",
    "print(dt)"
   ]
  },
  {
   "cell_type": "code",
   "execution_count": 11,
   "metadata": {},
   "outputs": [
    {
     "name": "stdout",
     "output_type": "stream",
     "text": [
      "|1,1,1,1>\n"
     ]
    }
   ],
   "source": [
    "# Input state with N photons and m modes\n",
    "input_state = pcvl.BasicState([1]*N+[0]*(m-N))\n",
    "print(input_state)"
   ]
  },
  {
   "cell_type": "code",
   "execution_count": 12,
   "metadata": {},
   "outputs": [
    {
     "data": {
      "text/plain": [
       "True"
      ]
     },
     "execution_count": 12,
     "metadata": {},
     "output_type": "execute_result"
    }
   ],
   "source": [
    "\"Haar unitary parameters\"\n",
    "# number of parameters used for the two universal interferometers (2*m**2 per interferometer)\n",
    "parameters = np.random.normal(size=2*4*m**2)\n",
    "# parameters = np.load(file='Main loss = 7.650983599490547e-05time: 1689858581.3965776seed :30(4)_params.ipy.npy')\n",
    "# parameters = np.load(file='t1.ipy.npy')\n",
    "params_E1 = parameters[:4*m**2]\n",
    "params_E2 = parameters[4*m**2:]\n",
    "# parameters_E1 = np.random.normal(size=4*m**2)\n",
    "# parameters_E2 = np.random.normal(size=4*m**2)\n",
    "\n",
    "\n",
    "pt_t = pcvl.P(\"t\")\n",
    "\n",
    "\n",
    "c_E1 = pcvl.Unitary(pcvl.Matrix.random_unitary(m, params_E1[:2 * m ** 2]), name=\"W1\")\\\n",
    "     // (0, pcvl.PS(pt_t))\\\n",
    "     // pcvl.Unitary(pcvl.Matrix.random_unitary(m, params_E1[2 * m ** 2:]), name=\"W2\")\n",
    "\n",
    "\n",
    "c_E2 = pcvl.Unitary(pcvl.Matrix.random_unitary(m, params_E2[:2 * m ** 2]), name=\"W1\")\\\n",
    "     // (0, pcvl.PS(pt_t))\\\n",
    "     // pcvl.Unitary(pcvl.Matrix.random_unitary(m, params_E2[2 * m ** 2:]), name=\"W2\")\n",
    "\n",
    "simulator_backend_1 = pcvl.BackendFactory().get_backend(\"SLOS\")\n",
    "s1 = simulator_backend_1(pcvl.Matrix.random_unitary(m))\n",
    "s1.compile(input_state)\n",
    "\n",
    "simulator_backend_2 = pcvl.BackendFactory().get_backend(\"SLOS\")\n",
    "s2 = simulator_backend_2(pcvl.Matrix.random_unitary(m))\n",
    "s2.compile(input_state)\n",
    "\n",
    "# pcvl.pdisplay(c_E1)"
   ]
  },
  {
   "cell_type": "code",
   "execution_count": 13,
   "metadata": {},
   "outputs": [],
   "source": [
    "def computation(params):\n",
    "    global current_loss\n",
    "    global computation_count\n",
    "    \"compute the loss function of a given differential equation in order for it to be optimized\"\n",
    "    computation_count += 1\n",
    "\n",
    "\n",
    "    #params seperation\n",
    "    params_E1 = params[:4*m**2]\n",
    "    params_E2 = params[4*m**2:]\n",
    "\n",
    "\n",
    "\n",
    "    # boundary condition X_0\n",
    "    X_theta_0 = 0  \n",
    "    coefs = lambda_random  # coefficients of the M observable\n",
    "    # initial condition with the two universal interferometers and the phase shift in the middle\n",
    "    U_1_E1 = pcvl.Matrix.random_unitary(m, params_E1[:2 * m ** 2])\n",
    "    U_2_E1 = pcvl.Matrix.random_unitary(m, params_E1[2 * m ** 2:])\n",
    "\n",
    "    pt = pcvl.P(\"t\")\n",
    "    c_E1 = pcvl.Unitary(U_2_E1) // (0, pcvl.PS(pt)) // pcvl.Unitary(U_1_E1)\n",
    "\n",
    "    pt.set_value(np.pi * X_0/range_max)\n",
    "    U = c_E1.compute_unitary(use_symbolic=False)\n",
    "    s1.U = U\n",
    "    X_theta_0 = np.sum(np.multiply(s1.all_prob(input_state), coefs))\n",
    "\n",
    "    # boundary condition Y_0\n",
    "    Y_theta_0 = 0  \n",
    "    coefs = lambda_random  # coefficients of the M observable\n",
    "    # initial condition with the two universal interferometers and the phase shift in the middle\n",
    "    U_1_E2 = pcvl.Matrix.random_unitary(m, params_E2[:2 * m ** 2])\n",
    "    U_2_E2 = pcvl.Matrix.random_unitary(m, params_E2[2 * m ** 2:])\n",
    "\n",
    "    # pt = pcvl.P(\"t\")\n",
    "    c_E2 = pcvl.Unitary(U_2_E2) // (0, pcvl.PS(pt)) // pcvl.Unitary(U_1_E2)\n",
    "\n",
    "    pt.set_value(np.pi * Y_0/range_max)\n",
    "    U = c_E2.compute_unitary(use_symbolic=False)\n",
    "    s2.U = U\n",
    "    Y_theta_0 = np.sum(np.multiply(s2.all_prob(input_state), coefs))\n",
    "\n",
    "\n",
    "\n",
    "    # boundary condition given a weight eta\n",
    "    # loss = eta * (X_theta_0 - X_0) ** 2 * len(T)\n",
    "    # loss += eta * (Y_theta_0 - Y_0) ** 2 * len(T)\n",
    "    loss=0\n",
    "\n",
    "    # X[0] is before the domain we are interested in (used for differentiation), t0 is at X[1]\n",
    "    X = np.zeros(n_grid + 2)\n",
    "\n",
    "    # Y[0] is before the domain we are interested in (used for differentiation), t0 is at Y[1]\n",
    "    Y = np.zeros(n_grid + 2)\n",
    "\n",
    "    # t0 is at the beginning of the domain, already calculated\n",
    "    X[1] = X_theta_0\n",
    "    Y[1] = Y_theta_0\n",
    "\n",
    "\n",
    "    pt.set_value(np.pi * (range_min - dt)/range_max)\n",
    "    s1.U = c_E1.compute_unitary(use_symbolic=False)\n",
    "    X[0] = np.sum(np.multiply(s1.all_prob(input_state), coefs))\n",
    "\n",
    "    s2.U = c_E2.compute_unitary(use_symbolic=False)\n",
    "    Y[0] = np.sum(np.multiply(s2.all_prob(input_state), coefs))\n",
    "\n",
    "    for i in range(1, n_grid):\n",
    "        t = T[i]\n",
    "        pt.set_value(np.pi * t/range_max)\n",
    "        s1.U = c_E1.compute_unitary(use_symbolic=False)\n",
    "        X[i + 1] = np.sum(np.multiply(s1.all_prob(input_state), coefs))\n",
    "        s2.U = c_E2.compute_unitary(use_symbolic=False)\n",
    "        Y[i + 1] = np.sum(np.multiply(s2.all_prob(input_state), coefs))\n",
    "\n",
    "    pt.set_value(np.pi * (range_max + dt)/range_max)\n",
    "    s1.U = c_E1.compute_unitary(use_symbolic=False)\n",
    "    X[n_grid + 1] = np.sum(np.multiply(s1.all_prob(input_state), coefs))\n",
    "    s2.U = c_E2.compute_unitary(use_symbolic=False)\n",
    "    Y[n_grid + 1] = np.sum(np.multiply(s2.all_prob(input_state), coefs))\n",
    "\n",
    "    # Boundary\n",
    "    # loss += eta * (X_theta_0 - X_0) ** 2 * len(X)\n",
    "    loss += (X_theta_0 - X_0_v)**2\n",
    "    loss += (Y_theta_0 - Y_0_v)**2\n",
    "    \n",
    "    # print(X_theta_0)\n",
    "    # print(X_0_v)\n",
    "    # print(Y_theta_0)\n",
    "    # print(Y_0_v)\n",
    "  \n",
    "\n",
    "    # Differentiation\n",
    "    X_prime = (X[2:] - X[:-2])/(2*dt)\n",
    "    Y_prime = (Y[2:] - Y[:-2])/(2*dt)\n",
    "\n",
    "    # print('Exact X:')\n",
    "    # print(X_t(T))\n",
    "    # print('Estimated X')\n",
    "    # print(X)\n",
    "    # print(X_prime)\n",
    "    # print(\"==========================\")\n",
    "    # print('Exact Y:')\n",
    "    # print(Y_t(T))\n",
    "    # print('Estimated Y')\n",
    "    # print(Y)\n",
    "    # print(Y_prime)\n",
    "    \n",
    "    loss += np.sum((F_E1(X_prime, X[1:-1],Y_prime,Y[1:-1], T))**2)\n",
    "    loss += np.sum((F_E2(X_prime, X[1:-1],Y_prime,Y[1:-1], T))**2)\n",
    "    \n",
    "    # print(loss / (2*len(T)))\n",
    "    # raise KeyError\n",
    "\n",
    "    current_loss = loss / (2*len(T))\n",
    "\n",
    "    return current_loss"
   ]
  },
  {
   "cell_type": "code",
   "execution_count": 14,
   "metadata": {},
   "outputs": [],
   "source": [
    "current_time = time.time()"
   ]
  },
  {
   "cell_type": "code",
   "execution_count": 15,
   "metadata": {},
   "outputs": [],
   "source": [
    "def callbackF(parameters):\n",
    "    \"\"\"callback function called by scipy.optimize.minimize allowing to monitor progress\"\"\"\n",
    "    global current_loss\n",
    "    global computation_count\n",
    "    global loss_evolution\n",
    "    global start_time\n",
    "    global best_param_temp\n",
    "    \n",
    "    best_param_temp = parameters\n",
    "    now = time.time()\n",
    "    pbar.set_description(\"M= %d Loss: %0.5f #computations: %d elapsed: %0.5f\" %\n",
    "                         (m, current_loss, computation_count, now-start_time))\n",
    "    pbar.update(1)\n",
    "    loss_evolution.append((current_loss, now-start_time))\n",
    "    # if current_loss<0.001:\n",
    "    #     np.save(file='loss = '+str(current_loss)+'time: '+str(current_time)+'seed :'+str(seed)+'('+str(nphotons)+')'+'_params.ipy',arr=parameters)\n",
    "    #     raise KeyError\n",
    "    computation_count = 0\n",
    "    start_time = now\n",
    "    # np.save(file=str(np.random.random())+'('+str(nphotons)+')'+'_params1.ipy',arr=parameters)"
   ]
  },
  {
   "cell_type": "code",
   "execution_count": 16,
   "metadata": {},
   "outputs": [
    {
     "name": "stderr",
     "output_type": "stream",
     "text": [
      "M= 4 Loss: 0.00011 #computations: 387 elapsed: 8.64018: : 101it [06:31,  5.53s/it] "
     ]
    }
   ],
   "source": [
    "computation_count = 0\n",
    "current_loss = 0\n",
    "start_time = time.time()\n",
    "loss_evolution = []\n",
    "best_param_temp = None\n",
    "# parameters = best_param_temp\n",
    "pbar = tqdm.tqdm()\n",
    "# \n",
    "res = minimize(computation, parameters, callback=callbackF, method='BFGS', options={'gtol': 1E-2})"
   ]
  },
  {
   "cell_type": "code",
   "execution_count": 17,
   "metadata": {},
   "outputs": [],
   "source": [
    "# print(\"Unitary parameters\", best_param_temp)\n",
    "# np.save(file=str(np.random.random())+'('+str(nphotons)+')'+'_params1.ipy',arr=best_param_temp)"
   ]
  },
  {
   "cell_type": "code",
   "execution_count": 18,
   "metadata": {},
   "outputs": [],
   "source": [
    "# best_param_temp = parameters\n",
    "# print(\"Unitary parameters\", best_param_temp)\n",
    "best_param_temp = res.x\n",
    "# np.save(file=str(np.random.random())+'('+str(nphotons)+')'+'_params1.ipy',arr=res.x)\n",
    "# np.save(file='time: '+current_time+'seed :'+seed+'('+str(nphotons)+')'+'_params.ipy',arr=res.x)\n",
    "# np.save(file='loss = '+str(current_loss)+'time: '+str(current_time)+'seed :'+str(seed)+'('+str(nphotons)+')'+'_params.ipy',arr=best_param_temp)\n",
    "np.save(file='t0.2.ipy',arr=best_param_temp)"
   ]
  },
  {
   "cell_type": "code",
   "execution_count": 19,
   "metadata": {},
   "outputs": [],
   "source": [
    "def plot_solution(m, N, T, optim_params, lambda_random):\n",
    "    # print(res.x)\n",
    "    X = []\n",
    "    Y = []\n",
    "    opt_params_E1 = optim_params[:4*m**2]\n",
    "    opt_params_E2 = optim_params[4*m**2:]\n",
    "\n",
    "    pt = pcvl.P(\"t\")\n",
    "\n",
    "    U_1_x = pcvl.Matrix.random_unitary(m, opt_params_E1[:2 * m ** 2])\n",
    "    U_2_x = pcvl.Matrix.random_unitary(m, opt_params_E1[2 * m ** 2:])\n",
    "    c_E1 = pcvl.Unitary(U_2_x) // (0, pcvl.PS(pt)) // pcvl.Unitary(U_1_x)\n",
    "\n",
    "\n",
    "    U_1_y = pcvl.Matrix.random_unitary(m, opt_params_E2[:2 * m ** 2])\n",
    "    U_2_y = pcvl.Matrix.random_unitary(m, opt_params_E2[2 * m ** 2:])\n",
    "    c_E2 = pcvl.Unitary(U_2_y) // (0, pcvl.PS(pt)) // pcvl.Unitary(U_1_y)\n",
    "\n",
    "    for t in T:\n",
    "        pt.set_value(np.pi * t/range_max)\n",
    "\n",
    "        U_x = c_E1.compute_unitary(use_symbolic=False)\n",
    "        s1.U = U_x\n",
    "        X_theta = np.sum(np.multiply(s1.all_prob(input_state), lambda_random))\n",
    "        X.append(X_theta)\n",
    "        \n",
    "        U_y = c_E2.compute_unitary(use_symbolic=False)\n",
    "        s2.U = U_y\n",
    "        Y_theta = np.sum(np.multiply(s2.all_prob(input_state), lambda_random))\n",
    "        Y.append(Y_theta)\n",
    "\n",
    "        if t==0:\n",
    "            print(t)\n",
    "            print(X_theta)\n",
    "            print(Y_theta)\n",
    "        \n",
    "    plt.plot(T, X, label=\"Approximation X_t with {} photons\".format(N))\n",
    "    plt.plot(T, Y, label=\"Approximation Y_t with {} photons\".format(N))\n",
    "    "
   ]
  },
  {
   "cell_type": "code",
   "execution_count": 20,
   "metadata": {},
   "outputs": [
    {
     "name": "stdout",
     "output_type": "stream",
     "text": [
      "0.0\n",
      "-1.0136091593477992\n",
      "0.3818000802948646\n"
     ]
    },
    {
     "data": {
      "image/png": "[encoded data removed]",
      "text/plain": [
       "<Figure size 640x480 with 1 Axes>"
      ]
     },
     "metadata": {},
     "output_type": "display_data"
    }
   ],
   "source": [
    "# Generate an array of values for t\n",
    "T = np.linspace(range_min, range_max, 50)\n",
    "\n",
    "# Compute the corresponding values of X_t and Y_t\n",
    "X_values = X_t(T)\n",
    "Y_values = Y_t(T)\n",
    "\n",
    "# Plot X_t and Y_t\n",
    "plt.plot(T, X_values, label='X_t')\n",
    "plt.plot(T, Y_values, label='Y_t')\n",
    "\n",
    "\n",
    "# plot_solution(m, N, T, res.x, lambda_random)\n",
    "plot_solution(m, N, T, best_param_temp, lambda_random)\n",
    "\n",
    "\n",
    "# Add labels and a legend\n",
    "plt.xlabel('t')\n",
    "plt.ylabel('Function Value')\n",
    "plt.legend()\n",
    "\n",
    "# Show the plot\n",
    "plt.show()"
   ]
  },
  {
   "cell_type": "code",
   "execution_count": 21,
   "metadata": {},
   "outputs": [],
   "source": [
    "# X = np.linspace(range_min, range_max, 200)\n",
    "\n",
    "# # Change the plot size\n",
    "# default_figsize = mpl.rcParamsDefault['figure.figsize']\n",
    "# mpl.rcParams['figure.figsize'] = [2 * value for value in default_figsize]\n",
    "\n",
    "# plot_solution(m, N, X, res.x, lambda_random)\n",
    "\n",
    "# plt.plot(X, u(X), 'r', label='Analytical solution')\n",
    "# plt.legend()\n",
    "# plt.show()"
   ]
  },
  {
   "cell_type": "code",
   "execution_count": 22,
   "metadata": {},
   "outputs": [
    {
     "data": {
      "text/plain": [
       "Text(0, 0.5, 'Loss function value')"
      ]
     },
     "execution_count": 22,
     "metadata": {},
     "output_type": "execute_result"
    },
    {
     "data": {
      "image/png": "[encoded data removed]",
      "text/plain": [
       "<Figure size 640x480 with 1 Axes>"
      ]
     },
     "metadata": {},
     "output_type": "display_data"
    }
   ],
   "source": [
    "\n",
    "plt.plot([v[0] for v in loss_evolution])\n",
    "plt.yscale(\"log\")\n",
    "plt.xlabel(\"Number of epochs\")\n",
    "plt.ylabel(\"Loss function value\")"
   ]
  }
 ],
 "metadata": {
  "kernelspec": {
   "display_name": "Python 3",
   "language": "python",
   "name": "python3"
  },
  "language_info": {
   "codemirror_mode": {
    "name": "ipython",
    "version": 3
   },
   "file_extension": ".py",
   "mimetype": "text/x-python",
   "name": "python",
   "nbconvert_exporter": "python",
   "pygments_lexer": "ipython3",
   "version": "3.10.9"
  },
  "orig_nbformat": 4
 },
 "nbformat": 4,
 "nbformat_minor": 2
}
