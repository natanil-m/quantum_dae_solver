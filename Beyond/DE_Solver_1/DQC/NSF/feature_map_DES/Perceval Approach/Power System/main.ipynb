{
 "cells": [
  {
   "cell_type": "code",
   "execution_count": 1,
   "metadata": {},
   "outputs": [],
   "source": [
    "# !pip install perceval-quandela"
   ]
  },
  {
   "cell_type": "code",
   "execution_count": 2,
   "metadata": {},
   "outputs": [],
   "source": [
    "import perceval as pcvl\n",
    "import numpy as np\n",
    "from math import comb\n",
    "from scipy.optimize import minimize\n",
    "import time\n",
    "import matplotlib.pyplot as plt\n",
    "import matplotlib as mpl\n",
    "import tqdm as tqdm"
   ]
  },
  {
   "cell_type": "code",
   "execution_count": 3,
   "metadata": {},
   "outputs": [
    {
     "name": "stdout",
     "output_type": "stream",
     "text": [
      "0.8.1\n"
     ]
    }
   ],
   "source": [
    "print(pcvl.__version__)"
   ]
  },
  {
   "cell_type": "code",
   "execution_count": 4,
   "metadata": {},
   "outputs": [],
   "source": [
    "nphotons = 4\n",
    "seed = 20\n",
    "np.random.seed(seed)"
   ]
  },
  {
   "cell_type": "code",
   "execution_count": 5,
   "metadata": {},
   "outputs": [],
   "source": [
    "# Differential equation parameters\n",
    "# ws = 376.9911\n",
    "ws = 376\n",
    "coefii = 1\n",
    "K1 = 5\n",
    "K2 = 10\n",
    "K3 = 1.7\n",
    "\n",
    "def F_E1(X_prime, X,Y_prime,Y, t):       # DE, works with numpy arrays\n",
    "    return (X_prime+ws-Y)/coefii\n",
    "    # return X_prime+ws-Y \n",
    "\n",
    "def F_E2(X_prime, X,Y_prime,Y, t):       # DE, works with numpy arrays\n",
    "    # return Y_prime\n",
    "    return (Y_prime-K1+K2*np.sin(X)+K3*(-ws+Y))/coefii"
   ]
  },
  {
   "cell_type": "code",
   "execution_count": 6,
   "metadata": {},
   "outputs": [],
   "source": [
    "# Boundary condition \n",
    "X_0 = 0  #del\n",
    "Y_0 = 0     #w\n",
    "X_0_v = -1\n",
    "Y_0_v = 383"
   ]
  },
  {
   "cell_type": "code",
   "execution_count": 7,
   "metadata": {},
   "outputs": [],
   "source": [
    "# Modeling parameters\n",
    "n_grid = 100    # number of grid points of the discretized differential equation\n",
    "range_min = 0  # minimum of the interval on which we wish to approximate our function\n",
    "range_max = 1   # maximum of the interval on which we wish to approximate our function\n",
    "T = np.linspace(range_min, range_max-range_min, n_grid)  # Optimisation grid"
   ]
  },
  {
   "cell_type": "code",
   "execution_count": 8,
   "metadata": {},
   "outputs": [],
   "source": [
    "# Differential equation's exact solution - for comparison\n",
    "# def u(x):\n",
    "#     return 0.5*np.log((x+1)/(x-1))\n",
    "\n",
    "def X_t(t):\n",
    "    return X_0*np.cos(t)+(3*X_0+2*Y_0)*np.sin(t)\n",
    "\n",
    "def Y_t(t):\n",
    "    return Y_0*np.cos(t)-(3*Y_0+5*X_0)*np.sin(t)"
   ]
  },
  {
   "cell_type": "code",
   "execution_count": 9,
   "metadata": {},
   "outputs": [],
   "source": [
    "# import numpy as np\n",
    "# import matplotlib.pyplot as plt\n",
    "\n",
    "# X_0 = 0\n",
    "# Y_0 = 1\n",
    "\n",
    "# def X_t(t):\n",
    "#     return X_0 * np.cos(t) + (3 * X_0 + 2 * Y_0) * np.sin(t)\n",
    "\n",
    "# def Y_t(t):\n",
    "#     return Y_0 * np.cos(t) - (3 * Y_0 + 5 * X_0) * np.sin(t)\n",
    "\n",
    "# # Generate an array of values for t\n",
    "# t_values = np.linspace(0, 2 * np.pi, 100)\n",
    "\n",
    "# # Compute the corresponding values of X_t and Y_t\n",
    "# X_values = X_t(t_values)\n",
    "# Y_values = Y_t(t_values)\n",
    "\n",
    "# # Plot X_t and Y_t\n",
    "# plt.plot(t_values, X_values, label='X_t')\n",
    "# plt.plot(t_values, Y_values, label='Y_t')\n",
    "\n",
    "# # Add labels and a legend\n",
    "# plt.xlabel('t')\n",
    "# plt.ylabel('Function Value')\n",
    "# plt.legend()\n",
    "\n",
    "# # Show the plot\n",
    "# plt.show()\n"
   ]
  },
  {
   "cell_type": "code",
   "execution_count": 10,
   "metadata": {},
   "outputs": [],
   "source": [
    "# Parameters of the quantum machine learning procedure\n",
    "N = nphotons              # Number of photons\n",
    "m = nphotons              # Number of modes\n",
    "eta = 5                   # weight granted to the initial condition\n",
    "a = 200                   # Approximate boundaries of the interval that the image of the trial function can cover\n",
    "fock_dim = comb(N + m - 1, N)\n",
    "# lambda coefficients for all the possible outputs\n",
    "lambda_random = 2 * a * np.random.rand(fock_dim) - a\n",
    "# dx serves for the numerical differentiation of f\n",
    "\n",
    "dt = (range_max-range_min) / (n_grid - 1)"
   ]
  },
  {
   "cell_type": "code",
   "execution_count": 11,
   "metadata": {},
   "outputs": [
    {
     "name": "stdout",
     "output_type": "stream",
     "text": [
      "|1,1,1,1>\n"
     ]
    }
   ],
   "source": [
    "# Input state with N photons and m modes\n",
    "input_state = pcvl.BasicState([1]*N+[0]*(m-N))\n",
    "print(input_state)"
   ]
  },
  {
   "cell_type": "code",
   "execution_count": 12,
   "metadata": {},
   "outputs": [
    {
     "data": {
      "image/svg+xml": [
       "<?xml version=\"1.0\" encoding=\"UTF-8\"?>\n",
       "<svg xmlns=\"http://www.w3.org/2000/svg\" xmlns:xlink=\"http://www.w3.org/1999/xlink\"\n",
       "     width=\"695.0\" height=\"281.25\" viewBox=\"-28.0 0 556.0 225.0\">\n",
       "<defs>\n",
       "</defs>\n",
       "<path d=\"M10,25 L25,25\" stroke-width=\"3\" stroke=\"darkred\" stroke-linejoin=\"miter\" fill=\"none\" />\n",
       "<path d=\"M10,75 L25,75\" stroke-width=\"3\" stroke=\"darkred\" stroke-linejoin=\"miter\" fill=\"none\" />\n",
       "<path d=\"M10,125 L25,125\" stroke-width=\"3\" stroke=\"darkred\" stroke-linejoin=\"miter\" fill=\"none\" />\n",
       "<path d=\"M10,175 L25,175\" stroke-width=\"3\" stroke=\"darkred\" stroke-linejoin=\"miter\" fill=\"none\" />\n",
       "<path d=\"M25,25 L225,25\" stroke-width=\"3\" stroke=\"darkred\" stroke-linejoin=\"miter\" fill=\"none\" />\n",
       "<path d=\"M25,75 L225,75\" stroke-width=\"3\" stroke=\"darkred\" stroke-linejoin=\"miter\" fill=\"none\" />\n",
       "<path d=\"M25,125 L225,125\" stroke-width=\"3\" stroke=\"darkred\" stroke-linejoin=\"miter\" fill=\"none\" />\n",
       "<path d=\"M25,175 L225,175\" stroke-width=\"3\" stroke=\"darkred\" stroke-linejoin=\"miter\" fill=\"none\" />\n",
       "<path d=\"M30,5 L220,5 L220,195 L30,195 Z\" stroke=\"black\" fill=\"gold\" stroke-linejoin=\"miter\" />\n",
       "<text x=\"125\" y=\"100\" font-size=\"10\" text-anchor=\"middle\">W1</text>\n",
       "<path d=\"M225,25 L275,25\" stroke=\"darkred\" stroke-width=\"3\" fill=\"none\" />\n",
       "<path d=\"M230,40 L239,40 L253,10 L244,10 L230,40 L239,40 Z\" stroke=\"black\" fill=\"gray\" stroke-linejoin=\"miter\" />\n",
       "<text x=\"247\" y=\"38\" font-size=\"7\" text-anchor=\"start\">Φ=t</text>\n",
       "<path d=\"M225,75 L275,75\" stroke=\"darkred\" stroke-width=\"3\" fill=\"none\" />\n",
       "<path d=\"M225,125 L275,125\" stroke=\"darkred\" stroke-width=\"3\" fill=\"none\" />\n",
       "<path d=\"M225,175 L275,175\" stroke=\"darkred\" stroke-width=\"3\" fill=\"none\" />\n",
       "<path d=\"M275,25 L475,25\" stroke-width=\"3\" stroke=\"darkred\" stroke-linejoin=\"miter\" fill=\"none\" />\n",
       "<path d=\"M275,75 L475,75\" stroke-width=\"3\" stroke=\"darkred\" stroke-linejoin=\"miter\" fill=\"none\" />\n",
       "<path d=\"M275,125 L475,125\" stroke-width=\"3\" stroke=\"darkred\" stroke-linejoin=\"miter\" fill=\"none\" />\n",
       "<path d=\"M275,175 L475,175\" stroke-width=\"3\" stroke=\"darkred\" stroke-linejoin=\"miter\" fill=\"none\" />\n",
       "<path d=\"M280,5 L470,5 L470,195 L280,195 Z\" stroke=\"black\" fill=\"gold\" stroke-linejoin=\"miter\" />\n",
       "<text x=\"375\" y=\"100\" font-size=\"10\" text-anchor=\"middle\">W2</text>\n",
       "<path d=\"M475,25 L490,25\" stroke-width=\"3\" stroke=\"darkred\" stroke-linejoin=\"miter\" fill=\"none\" />\n",
       "<path d=\"M475,75 L490,75\" stroke-width=\"3\" stroke=\"darkred\" stroke-linejoin=\"miter\" fill=\"none\" />\n",
       "<path d=\"M475,125 L490,125\" stroke-width=\"3\" stroke=\"darkred\" stroke-linejoin=\"miter\" fill=\"none\" />\n",
       "<path d=\"M475,175 L490,175\" stroke-width=\"3\" stroke=\"darkred\" stroke-linejoin=\"miter\" fill=\"none\" />\n",
       "<text x=\"500\" y=\"28\" font-size=\"6\" text-anchor=\"end\">0</text>\n",
       "<text x=\"500\" y=\"78\" font-size=\"6\" text-anchor=\"end\">1</text>\n",
       "<text x=\"500\" y=\"128\" font-size=\"6\" text-anchor=\"end\">2</text>\n",
       "<text x=\"500\" y=\"178\" font-size=\"6\" text-anchor=\"end\">3</text>\n",
       "<text x=\"0\" y=\"28\" font-size=\"6\" text-anchor=\"start\">0</text>\n",
       "<text x=\"0\" y=\"78\" font-size=\"6\" text-anchor=\"start\">1</text>\n",
       "<text x=\"0\" y=\"128\" font-size=\"6\" text-anchor=\"start\">2</text>\n",
       "<text x=\"0\" y=\"178\" font-size=\"6\" text-anchor=\"start\">3</text>\n",
       "</svg>"
      ],
      "text/plain": [
       "<drawsvg.drawing.Drawing at 0x7fa0a387efb0>"
      ]
     },
     "execution_count": 12,
     "metadata": {},
     "output_type": "execute_result"
    }
   ],
   "source": [
    "\"Haar unitary parameters\"\n",
    "# number of parameters used for the two universal interferometers (2*m**2 per interferometer)\n",
    "parameters = np.random.normal(size=2*4*m**2)\n",
    "params_E1 = parameters[:4*m**2]\n",
    "params_E2 = parameters[4*m**2:]\n",
    "# parameters_E1 = np.random.normal(size=4*m**2)\n",
    "# parameters_E2 = np.random.normal(size=4*m**2)\n",
    "\n",
    "\n",
    "pt_t = pcvl.P(\"t\")\n",
    "\n",
    "\n",
    "c_E1 = pcvl.Unitary(pcvl.Matrix.random_unitary(m, params_E1[:2 * m ** 2]), name=\"W1\")\\\n",
    "     // (0, pcvl.PS(pt_t))\\\n",
    "     // pcvl.Unitary(pcvl.Matrix.random_unitary(m, params_E1[2 * m ** 2:]), name=\"W2\")\n",
    "\n",
    "\n",
    "c_E2 = pcvl.Unitary(pcvl.Matrix.random_unitary(m, params_E2[:2 * m ** 2]), name=\"W1\")\\\n",
    "     // (0, pcvl.PS(pt_t))\\\n",
    "     // pcvl.Unitary(pcvl.Matrix.random_unitary(m, params_E2[2 * m ** 2:]), name=\"W2\")\n",
    "\n",
    "simulator_backend_1 = pcvl.BackendFactory().get_backend(\"SLOS\")\n",
    "s1 = simulator_backend_1(pcvl.Matrix.random_unitary(m))\n",
    "s1.compile(input_state)\n",
    "\n",
    "simulator_backend_2 = pcvl.BackendFactory().get_backend(\"SLOS\")\n",
    "s2 = simulator_backend_2(pcvl.Matrix.random_unitary(m))\n",
    "s2.compile(input_state)\n",
    "\n",
    "pcvl.pdisplay(c_E1)"
   ]
  },
  {
   "cell_type": "code",
   "execution_count": 13,
   "metadata": {},
   "outputs": [],
   "source": [
    "def computation(params):\n",
    "    global current_loss\n",
    "    global computation_count\n",
    "    \"compute the loss function of a given differential equation in order for it to be optimized\"\n",
    "    computation_count += 1\n",
    "\n",
    "\n",
    "    #params seperation\n",
    "    params_E1 = params[:4*m**2]\n",
    "    params_E2 = params[4*m**2:]\n",
    "\n",
    "\n",
    "\n",
    "    # boundary condition X_0\n",
    "    X_theta_0 = 0  \n",
    "    coefs = lambda_random  # coefficients of the M observable\n",
    "    # initial condition with the two universal interferometers and the phase shift in the middle\n",
    "    U_1 = pcvl.Matrix.random_unitary(m, params_E1[:2 * m ** 2])\n",
    "    U_2 = pcvl.Matrix.random_unitary(m, params_E1[2 * m ** 2:])\n",
    "\n",
    "    pt = pcvl.P(\"t\")\n",
    "    c_E1 = pcvl.Unitary(U_2) // (0, pcvl.PS(pt)) // pcvl.Unitary(U_1)\n",
    "\n",
    "    pt.set_value(np.pi * X_0/range_max)\n",
    "    U = c_E1.compute_unitary(use_symbolic=False)\n",
    "    s1.U = U\n",
    "    X_theta_0 = np.sum(np.multiply(s1.all_prob(input_state), coefs))\n",
    "\n",
    "    # boundary condition Y_0\n",
    "    Y_theta_0 = 0  \n",
    "    coefs = lambda_random  # coefficients of the M observable\n",
    "    # initial condition with the two universal interferometers and the phase shift in the middle\n",
    "    U_1 = pcvl.Matrix.random_unitary(m, params_E2[:2 * m ** 2])\n",
    "    U_2 = pcvl.Matrix.random_unitary(m, params_E2[2 * m ** 2:])\n",
    "\n",
    "    # pt = pcvl.P(\"t\")\n",
    "    c_E2 = pcvl.Unitary(U_2) // (0, pcvl.PS(pt)) // pcvl.Unitary(U_1)\n",
    "\n",
    "    pt.set_value(np.pi * Y_0/range_max)\n",
    "    U = c_E2.compute_unitary(use_symbolic=False)\n",
    "    s2.U = U\n",
    "    Y_theta_0 = np.sum(np.multiply(s2.all_prob(input_state), coefs))\n",
    "\n",
    "\n",
    "\n",
    "    # boundary condition given a weight eta\n",
    "    # loss = eta * (X_theta_0 - X_0) ** 2 * len(T)\n",
    "    # loss += eta * (Y_theta_0 - Y_0) ** 2 * len(T)\n",
    "    loss=0\n",
    "\n",
    "    # X[0] is before the domain we are interested in (used for differentiation), t0 is at X[1]\n",
    "    X = np.zeros(n_grid + 2)\n",
    "\n",
    "    # Y[0] is before the domain we are interested in (used for differentiation), t0 is at Y[1]\n",
    "    Y = np.zeros(n_grid + 2)\n",
    "\n",
    "    # t0 is at the beginning of the domain, already calculated\n",
    "    X[1] = X_theta_0\n",
    "    Y[1] = Y_theta_0\n",
    "\n",
    "\n",
    "    pt.set_value(np.pi * (range_min - dt)/range_max)\n",
    "    s1.U = c_E1.compute_unitary(use_symbolic=False)\n",
    "    X[0] = np.sum(np.multiply(s1.all_prob(input_state), coefs))\n",
    "\n",
    "    s2.U = c_E2.compute_unitary(use_symbolic=False)\n",
    "    Y[0] = np.sum(np.multiply(s2.all_prob(input_state), coefs))\n",
    "\n",
    "    for i in range(1, n_grid):\n",
    "        t = T[i]\n",
    "        pt.set_value(np.pi * t/range_max)\n",
    "        s1.U = c_E1.compute_unitary(use_symbolic=False)\n",
    "        X[i + 1] = np.sum(np.multiply(s1.all_prob(input_state), coefs))\n",
    "        s2.U = c_E2.compute_unitary(use_symbolic=False)\n",
    "        Y[i + 1] = np.sum(np.multiply(s2.all_prob(input_state), coefs))\n",
    "\n",
    "    pt.set_value(np.pi * (range_max + dt)/range_max)\n",
    "    s1.U = c_E1.compute_unitary(use_symbolic=False)\n",
    "    X[n_grid + 1] = np.sum(np.multiply(s1.all_prob(input_state), coefs))\n",
    "    s2.U = c_E2.compute_unitary(use_symbolic=False)\n",
    "    Y[n_grid + 1] = np.sum(np.multiply(s2.all_prob(input_state), coefs))\n",
    "\n",
    "    # Boundary\n",
    "    # loss += eta * (X_theta_0 - X_0) ** 2 * len(X)\n",
    "    loss += (X_theta_0 - X_0_v)**2\n",
    "    loss += ((Y_theta_0 - Y_0_v)**2)/coefii\n",
    "\n",
    "\n",
    "    # Differentiation\n",
    "    X_prime = (X[2:] - X[:-2])/(2*dt)\n",
    "    Y_prime = (Y[2:] - Y[:-2])/(2*dt)\n",
    "\n",
    "    loss += np.sum((F_E1(X_prime, X[1:-1],Y_prime,Y[1:-1], T))**2)\n",
    "    loss += np.sum((F_E2(X_prime, X[1:-1],Y_prime,Y[1:-1], T))**2)\n",
    "\n",
    "\n",
    "    current_loss = loss / (2*len(T))\n",
    "\n",
    "    return current_loss"
   ]
  },
  {
   "cell_type": "code",
   "execution_count": 14,
   "metadata": {},
   "outputs": [],
   "source": [
    "current_time = time.time()"
   ]
  },
  {
   "cell_type": "code",
   "execution_count": 15,
   "metadata": {},
   "outputs": [],
   "source": [
    "def callbackF(parameters):\n",
    "    \"\"\"callback function called by scipy.optimize.minimize allowing to monitor progress\"\"\"\n",
    "    global current_loss\n",
    "    global computation_count\n",
    "    global loss_evolution\n",
    "    global start_time\n",
    "    global best_param_temp\n",
    "    \n",
    "    best_param_temp = parameters\n",
    "    now = time.time()\n",
    "    pbar.set_description(\"M= %d Loss: %0.5f #computations: %d elapsed: %0.5f\" %\n",
    "                         (m, current_loss, computation_count, now-start_time))\n",
    "    pbar.update(1)\n",
    "    loss_evolution.append((current_loss, now-start_time))\n",
    "    if current_loss<0.001:\n",
    "        np.save(file='loss = '+str(current_loss)+'time: '+str(current_time)+'seed :'+str(seed)+'('+str(nphotons)+')'+'_params.ipy',arr=parameters)\n",
    "        raise KeyError\n",
    "    computation_count = 0\n",
    "    start_time = now\n",
    "    # np.save(file=str(np.random.random())+'('+str(nphotons)+')'+'_params1.ipy',arr=parameters)"
   ]
  },
  {
   "cell_type": "code",
   "execution_count": 16,
   "metadata": {},
   "outputs": [
    {
     "name": "stderr",
     "output_type": "stream",
     "text": [
      "M= 4 Loss: 0.00859 #computations: 129 elapsed: 19.00923: : 59it [28:58, 27.46s/it]  "
     ]
    },
    {
     "ename": "KeyboardInterrupt",
     "evalue": "",
     "output_type": "error",
     "traceback": [
      "\u001b[0;31m---------------------------------------------------------------------------\u001b[0m",
      "\u001b[0;31mKeyboardInterrupt\u001b[0m                         Traceback (most recent call last)",
      "Cell \u001b[0;32mIn[16], line 9\u001b[0m\n\u001b[1;32m      7\u001b[0m pbar \u001b[39m=\u001b[39m tqdm\u001b[39m.\u001b[39mtqdm()\n\u001b[1;32m      8\u001b[0m \u001b[39m# \u001b[39;00m\n\u001b[0;32m----> 9\u001b[0m res \u001b[39m=\u001b[39m minimize(computation, parameters, callback\u001b[39m=\u001b[39;49mcallbackF, method\u001b[39m=\u001b[39;49m\u001b[39m'\u001b[39;49m\u001b[39mBFGS\u001b[39;49m\u001b[39m'\u001b[39;49m, options\u001b[39m=\u001b[39;49m{\u001b[39m'\u001b[39;49m\u001b[39mgtol\u001b[39;49m\u001b[39m'\u001b[39;49m: \u001b[39m1E-2\u001b[39;49m})\n",
      "File \u001b[0;32m~/anaconda3/lib/python3.10/site-packages/scipy/optimize/_minimize.py:691\u001b[0m, in \u001b[0;36mminimize\u001b[0;34m(fun, x0, args, method, jac, hess, hessp, bounds, constraints, tol, callback, options)\u001b[0m\n\u001b[1;32m    689\u001b[0m     res \u001b[39m=\u001b[39m _minimize_cg(fun, x0, args, jac, callback, \u001b[39m*\u001b[39m\u001b[39m*\u001b[39moptions)\n\u001b[1;32m    690\u001b[0m \u001b[39melif\u001b[39;00m meth \u001b[39m==\u001b[39m \u001b[39m'\u001b[39m\u001b[39mbfgs\u001b[39m\u001b[39m'\u001b[39m:\n\u001b[0;32m--> 691\u001b[0m     res \u001b[39m=\u001b[39m _minimize_bfgs(fun, x0, args, jac, callback, \u001b[39m*\u001b[39;49m\u001b[39m*\u001b[39;49moptions)\n\u001b[1;32m    692\u001b[0m \u001b[39melif\u001b[39;00m meth \u001b[39m==\u001b[39m \u001b[39m'\u001b[39m\u001b[39mnewton-cg\u001b[39m\u001b[39m'\u001b[39m:\n\u001b[1;32m    693\u001b[0m     res \u001b[39m=\u001b[39m _minimize_newtoncg(fun, x0, args, jac, hess, hessp, callback,\n\u001b[1;32m    694\u001b[0m                              \u001b[39m*\u001b[39m\u001b[39m*\u001b[39moptions)\n",
      "File \u001b[0;32m~/anaconda3/lib/python3.10/site-packages/scipy/optimize/_optimize.py:1388\u001b[0m, in \u001b[0;36m_minimize_bfgs\u001b[0;34m(fun, x0, args, jac, callback, gtol, norm, eps, maxiter, disp, return_all, finite_diff_rel_step, xrtol, **unknown_options)\u001b[0m\n\u001b[1;32m   1385\u001b[0m pk \u001b[39m=\u001b[39m \u001b[39m-\u001b[39mnp\u001b[39m.\u001b[39mdot(Hk, gfk)\n\u001b[1;32m   1386\u001b[0m \u001b[39mtry\u001b[39;00m:\n\u001b[1;32m   1387\u001b[0m     alpha_k, fc, gc, old_fval, old_old_fval, gfkp1 \u001b[39m=\u001b[39m \\\n\u001b[0;32m-> 1388\u001b[0m              _line_search_wolfe12(f, myfprime, xk, pk, gfk,\n\u001b[1;32m   1389\u001b[0m                                   old_fval, old_old_fval, amin\u001b[39m=\u001b[39;49m\u001b[39m1e-100\u001b[39;49m, amax\u001b[39m=\u001b[39;49m\u001b[39m1e100\u001b[39;49m)\n\u001b[1;32m   1390\u001b[0m \u001b[39mexcept\u001b[39;00m _LineSearchError:\n\u001b[1;32m   1391\u001b[0m     \u001b[39m# Line search failed to find a better solution.\u001b[39;00m\n\u001b[1;32m   1392\u001b[0m     warnflag \u001b[39m=\u001b[39m \u001b[39m2\u001b[39m\n",
      "File \u001b[0;32m~/anaconda3/lib/python3.10/site-packages/scipy/optimize/_optimize.py:1160\u001b[0m, in \u001b[0;36m_line_search_wolfe12\u001b[0;34m(f, fprime, xk, pk, gfk, old_fval, old_old_fval, **kwargs)\u001b[0m\n\u001b[1;32m   1146\u001b[0m \u001b[39m\"\"\"\u001b[39;00m\n\u001b[1;32m   1147\u001b[0m \u001b[39mSame as line_search_wolfe1, but fall back to line_search_wolfe2 if\u001b[39;00m\n\u001b[1;32m   1148\u001b[0m \u001b[39msuitable step length is not found, and raise an exception if a\u001b[39;00m\n\u001b[0;32m   (...)\u001b[0m\n\u001b[1;32m   1155\u001b[0m \n\u001b[1;32m   1156\u001b[0m \u001b[39m\"\"\"\u001b[39;00m\n\u001b[1;32m   1158\u001b[0m extra_condition \u001b[39m=\u001b[39m kwargs\u001b[39m.\u001b[39mpop(\u001b[39m'\u001b[39m\u001b[39mextra_condition\u001b[39m\u001b[39m'\u001b[39m, \u001b[39mNone\u001b[39;00m)\n\u001b[0;32m-> 1160\u001b[0m ret \u001b[39m=\u001b[39m line_search_wolfe1(f, fprime, xk, pk, gfk,\n\u001b[1;32m   1161\u001b[0m                          old_fval, old_old_fval,\n\u001b[1;32m   1162\u001b[0m                          \u001b[39m*\u001b[39;49m\u001b[39m*\u001b[39;49mkwargs)\n\u001b[1;32m   1164\u001b[0m \u001b[39mif\u001b[39;00m ret[\u001b[39m0\u001b[39m] \u001b[39mis\u001b[39;00m \u001b[39mnot\u001b[39;00m \u001b[39mNone\u001b[39;00m \u001b[39mand\u001b[39;00m extra_condition \u001b[39mis\u001b[39;00m \u001b[39mnot\u001b[39;00m \u001b[39mNone\u001b[39;00m:\n\u001b[1;32m   1165\u001b[0m     xp1 \u001b[39m=\u001b[39m xk \u001b[39m+\u001b[39m ret[\u001b[39m0\u001b[39m] \u001b[39m*\u001b[39m pk\n",
      "File \u001b[0;32m~/anaconda3/lib/python3.10/site-packages/scipy/optimize/_linesearch.py:84\u001b[0m, in \u001b[0;36mline_search_wolfe1\u001b[0;34m(f, fprime, xk, pk, gfk, old_fval, old_old_fval, args, c1, c2, amax, amin, xtol)\u001b[0m\n\u001b[1;32m     80\u001b[0m     \u001b[39mreturn\u001b[39;00m np\u001b[39m.\u001b[39mdot(gval[\u001b[39m0\u001b[39m], pk)\n\u001b[1;32m     82\u001b[0m derphi0 \u001b[39m=\u001b[39m np\u001b[39m.\u001b[39mdot(gfk, pk)\n\u001b[0;32m---> 84\u001b[0m stp, fval, old_fval \u001b[39m=\u001b[39m scalar_search_wolfe1(\n\u001b[1;32m     85\u001b[0m         phi, derphi, old_fval, old_old_fval, derphi0,\n\u001b[1;32m     86\u001b[0m         c1\u001b[39m=\u001b[39;49mc1, c2\u001b[39m=\u001b[39;49mc2, amax\u001b[39m=\u001b[39;49mamax, amin\u001b[39m=\u001b[39;49mamin, xtol\u001b[39m=\u001b[39;49mxtol)\n\u001b[1;32m     88\u001b[0m \u001b[39mreturn\u001b[39;00m stp, fc[\u001b[39m0\u001b[39m], gc[\u001b[39m0\u001b[39m], fval, old_fval, gval[\u001b[39m0\u001b[39m]\n",
      "File \u001b[0;32m~/anaconda3/lib/python3.10/site-packages/scipy/optimize/_linesearch.py:161\u001b[0m, in \u001b[0;36mscalar_search_wolfe1\u001b[0;34m(phi, derphi, phi0, old_phi0, derphi0, c1, c2, amax, amin, xtol)\u001b[0m\n\u001b[1;32m    159\u001b[0m     alpha1 \u001b[39m=\u001b[39m stp\n\u001b[1;32m    160\u001b[0m     phi1 \u001b[39m=\u001b[39m phi(stp)\n\u001b[0;32m--> 161\u001b[0m     derphi1 \u001b[39m=\u001b[39m derphi(stp)\n\u001b[1;32m    162\u001b[0m \u001b[39melse\u001b[39;00m:\n\u001b[1;32m    163\u001b[0m     \u001b[39mbreak\u001b[39;00m\n",
      "File \u001b[0;32m~/anaconda3/lib/python3.10/site-packages/scipy/optimize/_linesearch.py:78\u001b[0m, in \u001b[0;36mline_search_wolfe1.<locals>.derphi\u001b[0;34m(s)\u001b[0m\n\u001b[1;32m     77\u001b[0m \u001b[39mdef\u001b[39;00m \u001b[39mderphi\u001b[39m(s):\n\u001b[0;32m---> 78\u001b[0m     gval[\u001b[39m0\u001b[39m] \u001b[39m=\u001b[39m fprime(xk \u001b[39m+\u001b[39;49m s\u001b[39m*\u001b[39;49mpk, \u001b[39m*\u001b[39;49margs)\n\u001b[1;32m     79\u001b[0m     gc[\u001b[39m0\u001b[39m] \u001b[39m+\u001b[39m\u001b[39m=\u001b[39m \u001b[39m1\u001b[39m\n\u001b[1;32m     80\u001b[0m     \u001b[39mreturn\u001b[39;00m np\u001b[39m.\u001b[39mdot(gval[\u001b[39m0\u001b[39m], pk)\n",
      "File \u001b[0;32m~/anaconda3/lib/python3.10/site-packages/scipy/optimize/_differentiable_functions.py:273\u001b[0m, in \u001b[0;36mScalarFunction.grad\u001b[0;34m(self, x)\u001b[0m\n\u001b[1;32m    271\u001b[0m \u001b[39mif\u001b[39;00m \u001b[39mnot\u001b[39;00m np\u001b[39m.\u001b[39marray_equal(x, \u001b[39mself\u001b[39m\u001b[39m.\u001b[39mx):\n\u001b[1;32m    272\u001b[0m     \u001b[39mself\u001b[39m\u001b[39m.\u001b[39m_update_x_impl(x)\n\u001b[0;32m--> 273\u001b[0m \u001b[39mself\u001b[39;49m\u001b[39m.\u001b[39;49m_update_grad()\n\u001b[1;32m    274\u001b[0m \u001b[39mreturn\u001b[39;00m \u001b[39mself\u001b[39m\u001b[39m.\u001b[39mg\n",
      "File \u001b[0;32m~/anaconda3/lib/python3.10/site-packages/scipy/optimize/_differentiable_functions.py:256\u001b[0m, in \u001b[0;36mScalarFunction._update_grad\u001b[0;34m(self)\u001b[0m\n\u001b[1;32m    254\u001b[0m \u001b[39mdef\u001b[39;00m \u001b[39m_update_grad\u001b[39m(\u001b[39mself\u001b[39m):\n\u001b[1;32m    255\u001b[0m     \u001b[39mif\u001b[39;00m \u001b[39mnot\u001b[39;00m \u001b[39mself\u001b[39m\u001b[39m.\u001b[39mg_updated:\n\u001b[0;32m--> 256\u001b[0m         \u001b[39mself\u001b[39;49m\u001b[39m.\u001b[39;49m_update_grad_impl()\n\u001b[1;32m    257\u001b[0m         \u001b[39mself\u001b[39m\u001b[39m.\u001b[39mg_updated \u001b[39m=\u001b[39m \u001b[39mTrue\u001b[39;00m\n",
      "File \u001b[0;32m~/anaconda3/lib/python3.10/site-packages/scipy/optimize/_differentiable_functions.py:173\u001b[0m, in \u001b[0;36mScalarFunction.__init__.<locals>.update_grad\u001b[0;34m()\u001b[0m\n\u001b[1;32m    171\u001b[0m \u001b[39mself\u001b[39m\u001b[39m.\u001b[39m_update_fun()\n\u001b[1;32m    172\u001b[0m \u001b[39mself\u001b[39m\u001b[39m.\u001b[39mngev \u001b[39m+\u001b[39m\u001b[39m=\u001b[39m \u001b[39m1\u001b[39m\n\u001b[0;32m--> 173\u001b[0m \u001b[39mself\u001b[39m\u001b[39m.\u001b[39mg \u001b[39m=\u001b[39m approx_derivative(fun_wrapped, \u001b[39mself\u001b[39;49m\u001b[39m.\u001b[39;49mx, f0\u001b[39m=\u001b[39;49m\u001b[39mself\u001b[39;49m\u001b[39m.\u001b[39;49mf,\n\u001b[1;32m    174\u001b[0m                            \u001b[39m*\u001b[39;49m\u001b[39m*\u001b[39;49mfinite_diff_options)\n",
      "File \u001b[0;32m~/anaconda3/lib/python3.10/site-packages/scipy/optimize/_numdiff.py:505\u001b[0m, in \u001b[0;36mapprox_derivative\u001b[0;34m(fun, x0, method, rel_step, abs_step, f0, bounds, sparsity, as_linear_operator, args, kwargs)\u001b[0m\n\u001b[1;32m    502\u001b[0m     use_one_sided \u001b[39m=\u001b[39m \u001b[39mFalse\u001b[39;00m\n\u001b[1;32m    504\u001b[0m \u001b[39mif\u001b[39;00m sparsity \u001b[39mis\u001b[39;00m \u001b[39mNone\u001b[39;00m:\n\u001b[0;32m--> 505\u001b[0m     \u001b[39mreturn\u001b[39;00m _dense_difference(fun_wrapped, x0, f0, h,\n\u001b[1;32m    506\u001b[0m                              use_one_sided, method)\n\u001b[1;32m    507\u001b[0m \u001b[39melse\u001b[39;00m:\n\u001b[1;32m    508\u001b[0m     \u001b[39mif\u001b[39;00m \u001b[39mnot\u001b[39;00m issparse(sparsity) \u001b[39mand\u001b[39;00m \u001b[39mlen\u001b[39m(sparsity) \u001b[39m==\u001b[39m \u001b[39m2\u001b[39m:\n",
      "File \u001b[0;32m~/anaconda3/lib/python3.10/site-packages/scipy/optimize/_numdiff.py:576\u001b[0m, in \u001b[0;36m_dense_difference\u001b[0;34m(fun, x0, f0, h, use_one_sided, method)\u001b[0m\n\u001b[1;32m    574\u001b[0m     x \u001b[39m=\u001b[39m x0 \u001b[39m+\u001b[39m h_vecs[i]\n\u001b[1;32m    575\u001b[0m     dx \u001b[39m=\u001b[39m x[i] \u001b[39m-\u001b[39m x0[i]  \u001b[39m# Recompute dx as exactly representable number.\u001b[39;00m\n\u001b[0;32m--> 576\u001b[0m     df \u001b[39m=\u001b[39m fun(x) \u001b[39m-\u001b[39m f0\n\u001b[1;32m    577\u001b[0m \u001b[39melif\u001b[39;00m method \u001b[39m==\u001b[39m \u001b[39m'\u001b[39m\u001b[39m3-point\u001b[39m\u001b[39m'\u001b[39m \u001b[39mand\u001b[39;00m use_one_sided[i]:\n\u001b[1;32m    578\u001b[0m     x1 \u001b[39m=\u001b[39m x0 \u001b[39m+\u001b[39m h_vecs[i]\n",
      "File \u001b[0;32m~/anaconda3/lib/python3.10/site-packages/scipy/optimize/_numdiff.py:456\u001b[0m, in \u001b[0;36mapprox_derivative.<locals>.fun_wrapped\u001b[0;34m(x)\u001b[0m\n\u001b[1;32m    455\u001b[0m \u001b[39mdef\u001b[39;00m \u001b[39mfun_wrapped\u001b[39m(x):\n\u001b[0;32m--> 456\u001b[0m     f \u001b[39m=\u001b[39m np\u001b[39m.\u001b[39matleast_1d(fun(x, \u001b[39m*\u001b[39;49margs, \u001b[39m*\u001b[39;49m\u001b[39m*\u001b[39;49mkwargs))\n\u001b[1;32m    457\u001b[0m     \u001b[39mif\u001b[39;00m f\u001b[39m.\u001b[39mndim \u001b[39m>\u001b[39m \u001b[39m1\u001b[39m:\n\u001b[1;32m    458\u001b[0m         \u001b[39mraise\u001b[39;00m \u001b[39mRuntimeError\u001b[39;00m(\u001b[39m\"\u001b[39m\u001b[39m`fun` return value has \u001b[39m\u001b[39m\"\u001b[39m\n\u001b[1;32m    459\u001b[0m                            \u001b[39m\"\u001b[39m\u001b[39mmore than 1 dimension.\u001b[39m\u001b[39m\"\u001b[39m)\n",
      "File \u001b[0;32m~/anaconda3/lib/python3.10/site-packages/scipy/optimize/_differentiable_functions.py:137\u001b[0m, in \u001b[0;36mScalarFunction.__init__.<locals>.fun_wrapped\u001b[0;34m(x)\u001b[0m\n\u001b[1;32m    133\u001b[0m \u001b[39mself\u001b[39m\u001b[39m.\u001b[39mnfev \u001b[39m+\u001b[39m\u001b[39m=\u001b[39m \u001b[39m1\u001b[39m\n\u001b[1;32m    134\u001b[0m \u001b[39m# Send a copy because the user may overwrite it.\u001b[39;00m\n\u001b[1;32m    135\u001b[0m \u001b[39m# Overwriting results in undefined behaviour because\u001b[39;00m\n\u001b[1;32m    136\u001b[0m \u001b[39m# fun(self.x) will change self.x, with the two no longer linked.\u001b[39;00m\n\u001b[0;32m--> 137\u001b[0m fx \u001b[39m=\u001b[39m fun(np\u001b[39m.\u001b[39;49mcopy(x), \u001b[39m*\u001b[39;49margs)\n\u001b[1;32m    138\u001b[0m \u001b[39m# Make sure the function returns a true scalar\u001b[39;00m\n\u001b[1;32m    139\u001b[0m \u001b[39mif\u001b[39;00m \u001b[39mnot\u001b[39;00m np\u001b[39m.\u001b[39misscalar(fx):\n",
      "Cell \u001b[0;32mIn[13], line 73\u001b[0m, in \u001b[0;36mcomputation\u001b[0;34m(params)\u001b[0m\n\u001b[1;32m     71\u001b[0m pt\u001b[39m.\u001b[39mset_value(np\u001b[39m.\u001b[39mpi \u001b[39m*\u001b[39m t\u001b[39m/\u001b[39mrange_max)\n\u001b[1;32m     72\u001b[0m s1\u001b[39m.\u001b[39mU \u001b[39m=\u001b[39m c_E1\u001b[39m.\u001b[39mcompute_unitary(use_symbolic\u001b[39m=\u001b[39m\u001b[39mFalse\u001b[39;00m)\n\u001b[0;32m---> 73\u001b[0m X[i \u001b[39m+\u001b[39m \u001b[39m1\u001b[39m] \u001b[39m=\u001b[39m np\u001b[39m.\u001b[39msum(np\u001b[39m.\u001b[39mmultiply(s1\u001b[39m.\u001b[39;49mall_prob(input_state), coefs))\n\u001b[1;32m     74\u001b[0m s2\u001b[39m.\u001b[39mU \u001b[39m=\u001b[39m c_E2\u001b[39m.\u001b[39mcompute_unitary(use_symbolic\u001b[39m=\u001b[39m\u001b[39mFalse\u001b[39;00m)\n\u001b[1;32m     75\u001b[0m Y[i \u001b[39m+\u001b[39m \u001b[39m1\u001b[39m] \u001b[39m=\u001b[39m np\u001b[39m.\u001b[39msum(np\u001b[39m.\u001b[39mmultiply(s2\u001b[39m.\u001b[39mall_prob(input_state), coefs))\n",
      "File \u001b[0;32m~/anaconda3/lib/python3.10/site-packages/perceval/backends/template.py:213\u001b[0m, in \u001b[0;36mBackend.all_prob\u001b[0;34m(self, input_state)\u001b[0m\n\u001b[1;32m    211\u001b[0m \u001b[39mdef\u001b[39;00m \u001b[39mall_prob\u001b[39m(\u001b[39mself\u001b[39m, input_state: BasicState) \u001b[39m-\u001b[39m\u001b[39m>\u001b[39m np\u001b[39m.\u001b[39mndarray:\n\u001b[1;32m    212\u001b[0m     allprobs \u001b[39m=\u001b[39m []\n\u001b[0;32m--> 213\u001b[0m     \u001b[39mfor\u001b[39;00m (output, prob_output) \u001b[39min\u001b[39;00m \u001b[39mself\u001b[39m\u001b[39m.\u001b[39mallstateprob_iterator(input_state):\n\u001b[1;32m    214\u001b[0m         allprobs\u001b[39m.\u001b[39mappend(prob_output)\n\u001b[1;32m    215\u001b[0m     \u001b[39mreturn\u001b[39;00m np\u001b[39m.\u001b[39masarray(allprobs)\n",
      "File \u001b[0;32m~/anaconda3/lib/python3.10/site-packages/perceval/backends/template.py:278\u001b[0m, in \u001b[0;36mBackend.allstateprob_iterator\u001b[0;34m(self, input_state)\u001b[0m\n\u001b[1;32m    276\u001b[0m \u001b[39mif\u001b[39;00m \u001b[39misinstance\u001b[39m(input_state, StateVector):\n\u001b[1;32m    277\u001b[0m     input_state \u001b[39m=\u001b[39m input_state[\u001b[39m0\u001b[39m]\n\u001b[0;32m--> 278\u001b[0m \u001b[39myield\u001b[39;00m output_state, \u001b[39mself\u001b[39;49m\u001b[39m.\u001b[39;49mprob(input_state, output_state, skip_compile\u001b[39m=\u001b[39;49mskip_compile)\n\u001b[1;32m    279\u001b[0m skip_compile \u001b[39m=\u001b[39m \u001b[39mTrue\u001b[39;00m\n",
      "File \u001b[0;32m~/anaconda3/lib/python3.10/site-packages/perceval/backends/template.py:183\u001b[0m, in \u001b[0;36mBackend.prob\u001b[0;34m(self, input_state, output_state, skip_compile)\u001b[0m\n\u001b[1;32m    181\u001b[0m     \u001b[39mif\u001b[39;00m \u001b[39mnot\u001b[39;00m skip_compile:\n\u001b[1;32m    182\u001b[0m         \u001b[39mself\u001b[39m\u001b[39m.\u001b[39mcompile(input_state)\n\u001b[0;32m--> 183\u001b[0m     \u001b[39mreturn\u001b[39;00m \u001b[39mself\u001b[39;49m\u001b[39m.\u001b[39;49mprob_be(input_state, output_state)\n\u001b[1;32m    184\u001b[0m spatial_mode_input_state, prep_matrix_input \u001b[39m=\u001b[39m convert_polarized_state(input_state)\n\u001b[1;32m    185\u001b[0m _U_ref \u001b[39m=\u001b[39m \u001b[39mself\u001b[39m\u001b[39m.\u001b[39m_U\n",
      "File \u001b[0;32m~/anaconda3/lib/python3.10/site-packages/perceval/backends/naive.py:64\u001b[0m, in \u001b[0;36mNaiveBackend.prob_be\u001b[0;34m(self, input_state, output_state)\u001b[0m\n\u001b[1;32m     63\u001b[0m \u001b[39mdef\u001b[39;00m \u001b[39mprob_be\u001b[39m(\u001b[39mself\u001b[39m, input_state, output_state):\n\u001b[0;32m---> 64\u001b[0m     \u001b[39mreturn\u001b[39;00m \u001b[39mabs\u001b[39m(\u001b[39mself\u001b[39;49m\u001b[39m.\u001b[39;49mprobampli_be(input_state, output_state))\u001b[39m*\u001b[39m\u001b[39m*\u001b[39m\u001b[39m2\u001b[39m\n",
      "File \u001b[0;32m~/anaconda3/lib/python3.10/site-packages/perceval/backends/naive.py:57\u001b[0m, in \u001b[0;36mNaiveBackend.probampli_be\u001b[0;34m(self, input_state, output_state)\u001b[0m\n\u001b[1;32m     55\u001b[0m rowidx \u001b[39m=\u001b[39m \u001b[39m0\u001b[39m\n\u001b[1;32m     56\u001b[0m \u001b[39mfor\u001b[39;00m ok \u001b[39min\u001b[39;00m \u001b[39mrange\u001b[39m(\u001b[39mself\u001b[39m\u001b[39m.\u001b[39m_realm):\n\u001b[0;32m---> 57\u001b[0m     \u001b[39mfor\u001b[39;00m j \u001b[39min\u001b[39;00m \u001b[39mrange\u001b[39m(output_state[ok]):\n\u001b[1;32m     58\u001b[0m         Ust[rowidx, colidx] \u001b[39m=\u001b[39m \u001b[39mself\u001b[39m\u001b[39m.\u001b[39m_U[ok, ik]\n\u001b[1;32m     59\u001b[0m         rowidx \u001b[39m+\u001b[39m\u001b[39m=\u001b[39m \u001b[39m1\u001b[39m\n",
      "File \u001b[0;32m~/anaconda3/lib/python3.10/site-packages/perceval/utils/statevector.py:84\u001b[0m, in \u001b[0;36mBasicState.__getitem__\u001b[0;34m(self, item)\u001b[0m\n\u001b[1;32m     83\u001b[0m \u001b[39mdef\u001b[39;00m \u001b[39m__getitem__\u001b[39m(\u001b[39mself\u001b[39m, item):\n\u001b[0;32m---> 84\u001b[0m     it \u001b[39m=\u001b[39m \u001b[39msuper\u001b[39;49m()\u001b[39m.\u001b[39;49m\u001b[39m__getitem__\u001b[39;49m(item)\n\u001b[1;32m     85\u001b[0m     \u001b[39mif\u001b[39;00m \u001b[39misinstance\u001b[39m(it, FockState):\n\u001b[1;32m     86\u001b[0m         it \u001b[39m=\u001b[39m BasicState(it)\n",
      "\u001b[0;31mKeyboardInterrupt\u001b[0m: "
     ]
    }
   ],
   "source": [
    "computation_count = 0\n",
    "current_loss = 0\n",
    "start_time = time.time()\n",
    "loss_evolution = []\n",
    "best_param_temp = None\n",
    "# parameters = best_param_temp\n",
    "pbar = tqdm.tqdm()\n",
    "# \n",
    "res = minimize(computation, parameters, callback=callbackF, method='BFGS', options={'gtol': 1E-2})"
   ]
  },
  {
   "cell_type": "code",
   "execution_count": null,
   "metadata": {},
   "outputs": [],
   "source": [
    "# print(\"Unitary parameters\", best_param_temp)\n",
    "# np.save(file=str(np.random.random())+'('+str(nphotons)+')'+'_params1.ipy',arr=best_param_temp)"
   ]
  },
  {
   "cell_type": "code",
   "execution_count": null,
   "metadata": {},
   "outputs": [
    {
     "ename": "NameError",
     "evalue": "name 'res' is not defined",
     "output_type": "error",
     "traceback": [
      "\u001b[0;31m---------------------------------------------------------------------------\u001b[0m",
      "\u001b[0;31mNameError\u001b[0m                                 Traceback (most recent call last)",
      "Cell \u001b[0;32mIn[17], line 1\u001b[0m\n\u001b[0;32m----> 1\u001b[0m \u001b[39mprint\u001b[39m(\u001b[39m\"\u001b[39m\u001b[39mUnitary parameters\u001b[39m\u001b[39m\"\u001b[39m, res\u001b[39m.\u001b[39mx)\n\u001b[1;32m      3\u001b[0m \u001b[39m# np.save(file=str(np.random.random())+'('+str(nphotons)+')'+'_params1.ipy',arr=res.x)\u001b[39;00m\n\u001b[1;32m      4\u001b[0m \u001b[39m# np.save(file='time: '+current_time+'seed :'+seed+'('+str(nphotons)+')'+'_params.ipy',arr=res.x)\u001b[39;00m\n\u001b[1;32m      5\u001b[0m np\u001b[39m.\u001b[39msave(file\u001b[39m=\u001b[39m\u001b[39m'\u001b[39m\u001b[39mloss = \u001b[39m\u001b[39m'\u001b[39m\u001b[39m+\u001b[39m\u001b[39mstr\u001b[39m(current_loss)\u001b[39m+\u001b[39m\u001b[39m'\u001b[39m\u001b[39mtime: \u001b[39m\u001b[39m'\u001b[39m\u001b[39m+\u001b[39m\u001b[39mstr\u001b[39m(current_time)\u001b[39m+\u001b[39m\u001b[39m'\u001b[39m\u001b[39mseed :\u001b[39m\u001b[39m'\u001b[39m\u001b[39m+\u001b[39m\u001b[39mstr\u001b[39m(seed)\u001b[39m+\u001b[39m\u001b[39m'\u001b[39m\u001b[39m(\u001b[39m\u001b[39m'\u001b[39m\u001b[39m+\u001b[39m\u001b[39mstr\u001b[39m(nphotons)\u001b[39m+\u001b[39m\u001b[39m'\u001b[39m\u001b[39m)\u001b[39m\u001b[39m'\u001b[39m\u001b[39m+\u001b[39m\u001b[39m'\u001b[39m\u001b[39m_params.ipy\u001b[39m\u001b[39m'\u001b[39m,arr\u001b[39m=\u001b[39mparameters)\n",
      "\u001b[0;31mNameError\u001b[0m: name 'res' is not defined"
     ]
    }
   ],
   "source": [
    "print(\"Unitary parameters\", res.x)\n",
    "\n",
    "# np.save(file=str(np.random.random())+'('+str(nphotons)+')'+'_params1.ipy',arr=res.x)\n",
    "# np.save(file='time: '+current_time+'seed :'+seed+'('+str(nphotons)+')'+'_params.ipy',arr=res.x)\n",
    "np.save(file='loss = '+str(current_loss)+'time: '+str(current_time)+'seed :'+str(seed)+'('+str(nphotons)+')'+'_params.ipy',arr=parameters)"
   ]
  },
  {
   "cell_type": "code",
   "execution_count": 17,
   "metadata": {},
   "outputs": [],
   "source": [
    "def plot_solution(m, N, T, optim_params, lambda_random):\n",
    "    # print(res.x)\n",
    "    X = []\n",
    "    Y = []\n",
    "    opt_params_E1 = optim_params[:4*m**2]\n",
    "    opt_params_E2 = optim_params[4*m**2:]\n",
    "\n",
    "    pt = pcvl.P(\"t\")\n",
    "\n",
    "    U_1_x = pcvl.Matrix.random_unitary(m, opt_params_E1[:2 * m ** 2])\n",
    "    U_2_x = pcvl.Matrix.random_unitary(m, opt_params_E1[2 * m ** 2:])\n",
    "    c_E1 = pcvl.Unitary(U_2_x) // (0, pcvl.PS(pt)) // pcvl.Unitary(U_1_x)\n",
    "\n",
    "\n",
    "    U_1_y = pcvl.Matrix.random_unitary(m, opt_params_E2[:2 * m ** 2])\n",
    "    U_2_y = pcvl.Matrix.random_unitary(m, opt_params_E2[2 * m ** 2:])\n",
    "    c_E2 = pcvl.Unitary(U_2_y) // (0, pcvl.PS(pt)) // pcvl.Unitary(U_1_y)\n",
    "\n",
    "    for t in T:\n",
    "        pt.set_value(np.pi * t/range_max)\n",
    "\n",
    "        U_x = c_E1.compute_unitary(use_symbolic=False)\n",
    "        s1.U = U_x\n",
    "        X_theta = np.sum(np.multiply(s1.all_prob(input_state), lambda_random))\n",
    "        X.append(X_theta)\n",
    "        \n",
    "        U_y = c_E2.compute_unitary(use_symbolic=False)\n",
    "        s2.U = U_y\n",
    "        Y_theta = np.sum(np.multiply(s2.all_prob(input_state), lambda_random))\n",
    "        Y.append(Y_theta)\n",
    "\n",
    "        if t==0:\n",
    "            print(t)\n",
    "            print(X_theta)\n",
    "            print(Y_theta)\n",
    "        \n",
    "    plt.plot(T, X, label=\"Approximation X_t with {} photons\".format(N))\n",
    "    plt.plot(T, Y, label=\"Approximation Y_t with {} photons\".format(N))\n",
    "    "
   ]
  },
  {
   "cell_type": "code",
   "execution_count": 18,
   "metadata": {},
   "outputs": [
    {
     "name": "stdout",
     "output_type": "stream",
     "text": [
      "0.0\n",
      "-0.42782783986308437\n",
      "0.27949734199515985\n"
     ]
    },
    {
     "data": {
      "image/png": "[encoded data removed]",
      "text/plain": [
       "<Figure size 640x480 with 1 Axes>"
      ]
     },
     "metadata": {},
     "output_type": "display_data"
    }
   ],
   "source": [
    "# Generate an array of values for t\n",
    "T = np.linspace(range_min, range_max, 200)\n",
    "\n",
    "# Compute the corresponding values of X_t and Y_t\n",
    "X_values = X_t(T)\n",
    "Y_values = Y_t(T)\n",
    "\n",
    "# Plot X_t and Y_t\n",
    "# plt.plot(T, X_values, label='X_t')\n",
    "# plt.plot(T, Y_values, label='Y_t')\n",
    "\n",
    "\n",
    "# plot_solution(m, N, T, res.x, lambda_random)\n",
    "plot_solution(m, N, T, best_param_temp, lambda_random)\n",
    "\n",
    "\n",
    "# Add labels and a legend\n",
    "plt.xlabel('t')\n",
    "plt.ylabel('Function Value')\n",
    "plt.legend()\n",
    "\n",
    "# Show the plot\n",
    "plt.show()"
   ]
  },
  {
   "cell_type": "code",
   "execution_count": 19,
   "metadata": {},
   "outputs": [],
   "source": [
    "# X = np.linspace(range_min, range_max, 200)\n",
    "\n",
    "# # Change the plot size\n",
    "# default_figsize = mpl.rcParamsDefault['figure.figsize']\n",
    "# mpl.rcParams['figure.figsize'] = [2 * value for value in default_figsize]\n",
    "\n",
    "# plot_solution(m, N, X, res.x, lambda_random)\n",
    "\n",
    "# plt.plot(X, u(X), 'r', label='Analytical solution')\n",
    "# plt.legend()\n",
    "# plt.show()"
   ]
  },
  {
   "cell_type": "code",
   "execution_count": 20,
   "metadata": {},
   "outputs": [
    {
     "data": {
      "text/plain": [
       "Text(0, 0.5, 'Loss function value')"
      ]
     },
     "execution_count": 20,
     "metadata": {},
     "output_type": "execute_result"
    },
    {
     "data": {
      "image/png": "[encoded data removed]",
      "text/plain": [
       "<Figure size 640x480 with 1 Axes>"
      ]
     },
     "metadata": {},
     "output_type": "display_data"
    }
   ],
   "source": [
    "\n",
    "plt.plot([v[0] for v in loss_evolution])\n",
    "plt.yscale(\"log\")\n",
    "plt.xlabel(\"Number of epochs\")\n",
    "plt.ylabel(\"Loss function value\")"
   ]
  }
 ],
 "metadata": {
  "kernelspec": {
   "display_name": "Python 3",
   "language": "python",
   "name": "python3"
  },
  "language_info": {
   "codemirror_mode": {
    "name": "ipython",
    "version": 3
   },
   "file_extension": ".py",
   "mimetype": "text/x-python",
   "name": "python",
   "nbconvert_exporter": "python",
   "pygments_lexer": "ipython3",
   "version": "3.10.9"
  },
  "orig_nbformat": 4
 },
 "nbformat": 4,
 "nbformat_minor": 2
}
