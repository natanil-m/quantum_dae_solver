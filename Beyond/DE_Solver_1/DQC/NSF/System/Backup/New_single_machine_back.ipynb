{
 "cells": [
  {
   "cell_type": "code",
   "execution_count": 1,
   "metadata": {},
   "outputs": [],
   "source": [
    "from math import pi\n",
    "import matplotlib.pyplot as plt\n",
    "from pennylane import numpy as np\n",
    "import pennylane as qml\n",
    "from pennylane.optimize import AdamOptimizer\n",
    "import datetime\n",
    "now=datetime.datetime.now"
   ]
  },
  {
   "cell_type": "code",
   "execution_count": 2,
   "metadata": {},
   "outputs": [],
   "source": [
    "num_qubits=2\n",
    "dev=qml.device('default.qubit', wires=num_qubits)"
   ]
  },
  {
   "cell_type": "code",
   "execution_count": 3,
   "metadata": {},
   "outputs": [],
   "source": [
    "# Boundary condition \n",
    "coefii = 10\n",
    "\n",
    "# X_0 = 0  #del\n",
    "# Y_0 = 0     #w\n",
    "X_0_v = -1/coefii\n",
    "Y_0_v = 383.9911/coefii"
   ]
  },
  {
   "cell_type": "code",
   "execution_count": 4,
   "metadata": {},
   "outputs": [],
   "source": [
    "# Differential equation parameters\n",
    "ws = 376.9911\n",
    "\n",
    "# ws = 0.376\n",
    "# coefii = ws/4\n",
    "K1 = 5/coefii\n",
    "K2 = 10/coefii\n",
    "K3 = 1.7/coefii\n",
    "ws = ws/coefii\n",
    "\n",
    "def F_E1(X_prime, X,Y_prime,Y, t):       # DE, works with numpy arrays\n",
    "    return (X_prime+ws-Y)\n",
    "    # return X_prime+ws-Y \n",
    "\n",
    "def F_E2(X_prime, X,Y_prime,Y, t):       # DE, works with numpy arrays\n",
    "    # return Y_prime\n",
    "    return Y_prime-K1+K2*np.sin(coefii*X)+K3*(-ws+Y)*coefii"
   ]
  },
  {
   "cell_type": "code",
   "execution_count": 5,
   "metadata": {},
   "outputs": [],
   "source": [
    "# # Differential equation's exact solution - for comparison\n",
    "# def X_t(t):\n",
    "#     # return X_0_v*np.cos(t)+(3*X_0_v+2*Y_0_v)*np.sin(t)\n",
    "#     return 0\n",
    "\n",
    "# def Y_t(t):\n",
    "#     return 0"
   ]
  },
  {
   "cell_type": "code",
   "execution_count": 6,
   "metadata": {},
   "outputs": [],
   "source": [
    "t=np.random.uniform(0,1,size=100,requires_grad=False)"
   ]
  },
  {
   "cell_type": "code",
   "execution_count": 7,
   "metadata": {},
   "outputs": [],
   "source": [
    "# define embedding layer\n",
    "def embedding(x,wires):\n",
    "    qml.RY(x, wires=wires[1])"
   ]
  },
  {
   "cell_type": "code",
   "execution_count": 8,
   "metadata": {},
   "outputs": [],
   "source": [
    "def Ham():\n",
    "    obs=[]\n",
    "    for j in range(num_qubits):\n",
    "        obs.append(qml.PauliX(j))\n",
    "        for k in range(j):\n",
    "            obs.append(qml.PauliZ(j)@qml.PauliZ(k))\n",
    "    coeffs=np.random.uniform(-1,1,len(obs))*10\n",
    "    qml.Hamiltonian(coeffs, obs)"
   ]
  },
  {
   "cell_type": "code",
   "execution_count": 9,
   "metadata": {},
   "outputs": [],
   "source": [
    "# define ansastz layer\n",
    "def layer(theta):\n",
    "    \n",
    "    # Apply Hamiltonian matrix\n",
    "    Ham()\n",
    "    \n",
    "    # Apply H gate\n",
    "    qml.Hadamard(0)\n",
    "    \n",
    "    # rotations on qubit 1\n",
    "    qml.RY(theta,wires=1)\n",
    "    \n",
    "    # CNOT\n",
    "    qml.CNOT(wires=[0, 1])"
   ]
  },
  {
   "cell_type": "code",
   "execution_count": 10,
   "metadata": {},
   "outputs": [],
   "source": [
    "@qml.qnode(dev, diff_method=\"backprop\", interface=\"autograd\")\n",
    "def quantum_net(theta,x):\n",
    "    \n",
    "    # encode data\n",
    "    embedding(x,wires=range(num_qubits))\n",
    "    \n",
    "    # parameterized circuit layers\n",
    "    for v in theta: # (for lool along with the first dimension)\n",
    "        # print(v)\n",
    "        # Ham()\n",
    "        layer(v)\n",
    "    \n",
    "    qml.Hadamard(0)\n",
    "    \n",
    "    # return qml.expval(qml.PauliZ(0)),qml.expval(qml.PauliZ(1))\n",
    "    return qml.expval(qml.PauliZ(0))"
   ]
  },
  {
   "cell_type": "code",
   "execution_count": 11,
   "metadata": {},
   "outputs": [
    {
     "name": "stdout",
     "output_type": "stream",
     "text": [
      "0: ──H────────────────╭●──H──────╭●──H──────╭●──H──────╭●──H─┤  <Z>\n",
      "1: ──RY(0.00)──RY(M0)─╰X──RY(M1)─╰X──RY(M2)─╰X──RY(M3)─╰X────┤     \n",
      "M0 = \n",
      "[6.19159764]\n",
      "M1 = \n",
      "[4.11723857]\n",
      "M2 = \n",
      "[4.64655766]\n",
      "M3 = \n",
      "[5.76077744]\n"
     ]
    }
   ],
   "source": [
    "num_layers=4\n",
    "theta1=np.random.uniform(0,2*pi,size=(num_layers,num_qubits-1),requires_grad=True)\n",
    "# theta2=np.random.uniform(0,2*pi,size=(num_layers,num_qubits-1),requires_grad=True)\n",
    "# theta = np.load('my_theta1.npy')\n",
    "print(qml.draw(quantum_net)(theta1,0))"
   ]
  },
  {
   "cell_type": "code",
   "execution_count": 12,
   "metadata": {},
   "outputs": [],
   "source": [
    "# add the classical layer   #TODO\n",
    "def classical_quantum_net(theta,w,t):\n",
    "\n",
    "    r1=quantum_net(theta,t)[0]\n",
    "    # r2=quantum_net(theta,x)[1]\n",
    "    # return w[0]+w[1]*r1+w[2]*r1**2+w[3]*r2+w[4]*r2**2\n",
    "    return w[0]+w[1]*r1+w[2]*r1**2\n",
    "    # r1=quantum_net(theta,x)\n",
    "    return r1"
   ]
  },
  {
   "cell_type": "code",
   "execution_count": 13,
   "metadata": {},
   "outputs": [],
   "source": [
    "# add the classical layer   #TODO\n",
    "def classical_quantum_net_efficient(r1,w):\n",
    "    return w[0]+w[1]*r1+w[2]*r1**2"
   ]
  },
  {
   "cell_type": "code",
   "execution_count": 14,
   "metadata": {},
   "outputs": [],
   "source": [
    "def classical_quantum_net_prime(theta,w,t):\n",
    "\n",
    "\n",
    "\n",
    "    r1=quantum_net(theta,t)[0]\n",
    "\n",
    "    r1_prime = qml.grad(quantum_net,argnum=1)(theta,np.tensor(t)) \n",
    "    # r2=quantum_net(theta,x)[1]\n",
    "    # return w[0]+w[1]*r1+w[2]*r1**2+w[3]*r2+w[4]*r2**2\n",
    "    return w[1]*r1_prime+2*w[2]*r1_prime*r1\n"
   ]
  },
  {
   "cell_type": "code",
   "execution_count": 15,
   "metadata": {},
   "outputs": [],
   "source": [
    "def classical_quantum_net_double_prime(theta,w,t):\n",
    "\n",
    "   r1=quantum_net(theta,t)[0]\n",
    "   r1_prime = qml.grad(quantum_net,argnum=1)(theta,np.tensor(t)) \n",
    "\n",
    "\n",
    "   #Calculate double prime\n",
    "   F_pos_pos_pi = quantum_net(theta,t+np.pi)[0]\n",
    "   F_phi = quantum_net(theta,t)[0]\n",
    "   F_phi_neg_pi = quantum_net(theta,t-np.pi)[0]\n",
    "   r1_double_prime = (1/4)*(F_pos_pos_pi-2*F_phi+F_phi_neg_pi)\n",
    "\n",
    "\n",
    "   return w[1]*r1_double_prime+2*w[2]*(r1_prime*r1_prime+r1*r1_double_prime)"
   ]
  },
  {
   "cell_type": "code",
   "execution_count": 16,
   "metadata": {},
   "outputs": [],
   "source": [
    "# def square_loss(labels,predictions):\n",
    "#     loss=0\n",
    "#     for l,p in zip(labels,predictions):\n",
    "#         loss=loss+(l-p)**2\n",
    "#     loss=loss/len(labels)\n",
    "#     return loss"
   ]
  },
  {
   "cell_type": "code",
   "execution_count": 17,
   "metadata": {},
   "outputs": [],
   "source": [
    "# #loss boundary\n",
    "# def loss_b(U_predict):\n",
    "    \n",
    "    "
   ]
  },
  {
   "cell_type": "code",
   "execution_count": 18,
   "metadata": {},
   "outputs": [],
   "source": [
    "# def cost(theta1,theta2,w1,w2,t):\n",
    "\n",
    "#     # loss inner points\n",
    "#     loss_i = 0\n",
    "\n",
    "#     X_t_pred = np.array([classical_quantum_net(theta=theta1,w=w1,t=point) for point in t])\n",
    "#     X_t_prime = np.array([classical_quantum_net_prime(theta=theta1,w=w1,t=point) for point in t])\n",
    "    \n",
    "#     Y_t_pred = X_t_pred+ws\n",
    "#     # Y_t_prime = np.array([classical_quantum_net_prime(theta=theta2,w=w2,t=point) for point in t])\n",
    "#     Y_t_prime = np.array([classical_quantum_net_double_prime(theta=theta1,w=w1,t=point) for point in t])\n",
    "\n",
    "#     loss_i += np.mean(F_E1(X=X_t_pred,Y=Y_t_pred,X_prime=X_t_prime,Y_prime=Y_t_prime,t=t)**2)\n",
    "#     loss_i += np.mean(F_E2(X=X_t_pred,Y=Y_t_pred,X_prime=X_t_prime,Y_prime=Y_t_prime,t=t)**2)\n",
    "\n",
    "#     # # loss boundary points\n",
    "#     # loss_b = 0\n",
    "#     # X_0_pred = classical_quantum_net(theta1,w1,0)\n",
    "#     # Y_0_pred = classical_quantum_net(theta2,w2,0)\n",
    "\n",
    "#     # # print(U_0)\n",
    "#     # loss_b += (X_0_v-X_0_pred)**2+(Y_0_v-Y_0_pred)**2\n",
    "#     # return 0.2*loss_b + 0.8*loss_i\n",
    "#     return loss_i"
   ]
  },
  {
   "cell_type": "code",
   "execution_count": 19,
   "metadata": {},
   "outputs": [],
   "source": [
    "# def cost_efficient(theta1,w1,t):\n",
    "#     # loss inner points\n",
    "#     loss_i = 0\n",
    "#     # print('-------')\n",
    "#     r1 = np.array([quantum_net(theta1,t)[0] for t in t])\n",
    "\n",
    "#     # print(r1)\n",
    "\n",
    "#     r1_prime = np.array([qml.grad(quantum_net,argnum=1)(theta1,np.tensor(t)) for t in t])\n",
    "#     #Calculate double prime\n",
    "#     F_pos_pos_pi = np.array([quantum_net(theta1,t+np.pi)[0] for t in t])\n",
    "#     # print(len(F_pos_pos_pi))\n",
    "#     F_phi = r1\n",
    "#     F_phi_neg_pi = np.array([quantum_net(theta1,t-np.pi)[0] for t in t])\n",
    "#     r1_double_prime = (1/4)*(F_pos_pos_pi-2*F_phi+F_phi_neg_pi)\n",
    "\n",
    "#     # print(r1)\n",
    "#     # print(r1_prime)\n",
    "#     # print(r1_double_prime)\n",
    "\n",
    "#     X_t_pred = classical_quantum_net_efficient(r1=theta1,w=w1)\n",
    "#     X_t_prime = classical_quantum_net_prime_efficient(r1=theta1,r1_prime=r1_prime,w=w1)\n",
    "    \n",
    "#     Y_t_pred = X_t_prime+ws\n",
    "#     # Y_t_prime = np.array([classical_quantum_net_prime(theta=theta2,w=w2,t=point) for point in t])\n",
    "#     Y_t_prime = classical_quantum_net_double_prime_efficient(r1=theta1,r1_prime=r1_prime,r1_double_prime=r1_double_prime,w=w1)\n",
    "\n",
    "#     loss_i += np.mean(F_E1(X=X_t_pred,Y=Y_t_pred,X_prime=X_t_prime,Y_prime=Y_t_prime,t=t)**2)\n",
    "#     loss_i += np.mean(F_E2(X=X_t_pred,Y=Y_t_pred,X_prime=X_t_prime,Y_prime=Y_t_prime,t=t)**2)\n",
    "\n",
    "#     # # loss boundary points\n",
    "#     loss_b = 0\n",
    "#     X_0_pred = classical_quantum_net(theta1,w1,0)\n",
    "#     Y_0_pred = classical_quantum_net_prime(theta1,w1,0)+ws\n",
    "\n",
    "#     # # print(U_0)\n",
    "#     loss_b += (X_0_v-X_0_pred)**2+(Y_0_v-Y_0_pred)**2\n",
    "#     # return loss_b + loss_i\n",
    "#     return 0.2*loss_b + 0.8*loss_i\n",
    "\n",
    "    # return loss_i"
   ]
  },
  {
   "cell_type": "code",
   "execution_count": 20,
   "metadata": {},
   "outputs": [],
   "source": [
    "def cost(theta1,w1,t):\n",
    "\n",
    "    # loss inner points\n",
    "    loss_i = 0\n",
    "\n",
    "    X_t_pred = np.array([classical_quantum_net(theta=theta1,w=w1,t=point) for point in t])\n",
    "    X_t_prime = np.array([classical_quantum_net_prime(theta=theta1,w=w1,t=point) for point in t])\n",
    "    \n",
    "    Y_t_pred = X_t_prime+ws\n",
    "    # Y_t_prime = np.array([classical_quantum_net_prime(theta=theta2,w=w2,t=point) for point in t])\n",
    "    Y_t_prime = np.array([classical_quantum_net_double_prime(theta=theta1,w=w1,t=point) for point in t])\n",
    "\n",
    "    loss_i += np.mean(F_E1(X=X_t_pred,Y=Y_t_pred,X_prime=X_t_prime,Y_prime=Y_t_prime,t=t)**2)\n",
    "    loss_i += np.mean(F_E2(X=X_t_pred,Y=Y_t_pred,X_prime=X_t_prime,Y_prime=Y_t_prime,t=t)**2)\n",
    "\n",
    "    # # loss boundary points\n",
    "    loss_b = 0\n",
    "    X_0_pred = classical_quantum_net(theta1,w1,0)\n",
    "    Y_0_pred = classical_quantum_net_prime(theta1,w1,0)+ws\n",
    "\n",
    "    # # print(U_0)\n",
    "    loss_b += (X_0_v-X_0_pred)**2+(Y_0_v-Y_0_pred)**2\n",
    "    return loss_b + loss_i\n",
    "    # return 0.2*loss_b + 0.8*loss_i\n",
    "\n",
    "    return loss_i"
   ]
  },
  {
   "cell_type": "code",
   "execution_count": 21,
   "metadata": {},
   "outputs": [],
   "source": [
    "w1=np.zeros(3,requires_grad=True)\n",
    "# w2=np.zeros(3,requires_grad=True)\n",
    "opt = AdamOptimizer(0.05, beta1=0.9, beta2=0.999)"
   ]
  },
  {
   "cell_type": "code",
   "execution_count": 22,
   "metadata": {},
   "outputs": [
    {
     "name": "stdout",
     "output_type": "stream",
     "text": [
      "2023-08-11 17:12:30.244876\n"
     ]
    }
   ],
   "source": [
    "start=now()\n",
    "print(start)"
   ]
  },
  {
   "cell_type": "code",
   "execution_count": 23,
   "metadata": {},
   "outputs": [
    {
     "name": "stdout",
     "output_type": "stream",
     "text": [
      "Epoch: 1 | Cost: 0.749999999999994\n",
      "Epoch: 2 | Cost: 0.596609200710584\n",
      "Epoch: 3 | Cost: 0.4869056039807968\n",
      "Epoch: 4 | Cost: 0.7861657196997701\n",
      "Epoch: 5 | Cost: 0.5123955058789966\n",
      "Epoch: 6 | Cost: 0.47842624775157105\n",
      "Epoch: 7 | Cost: 0.5456308553029012\n",
      "Epoch: 8 | Cost: 0.5709858509494483\n",
      "Epoch: 9 | Cost: 0.5702805614539705\n",
      "Epoch: 10 | Cost: 0.5536735471832712\n",
      "Epoch: 11 | Cost: 0.5196294812659087\n",
      "Epoch: 12 | Cost: 0.46533520992369415\n",
      "Epoch: 13 | Cost: 0.4116697241608857\n",
      "Epoch: 14 | Cost: 0.4152718669604758\n",
      "Epoch: 15 | Cost: 0.46350281972920493\n",
      "Epoch: 16 | Cost: 0.4510627210532568\n",
      "Epoch: 17 | Cost: 0.3877306887071176\n",
      "Epoch: 18 | Cost: 0.3593619967057584\n",
      "Epoch: 19 | Cost: 0.3707281137064999\n",
      "Epoch: 20 | Cost: 0.38233211060873695\n",
      "Epoch: 21 | Cost: 0.37756649675485754\n",
      "Epoch: 22 | Cost: 0.3552593676162408\n",
      "Epoch: 23 | Cost: 0.32225625047916184\n",
      "Epoch: 24 | Cost: 0.2995585134915388\n",
      "Epoch: 25 | Cost: 0.30548841803570354\n",
      "Epoch: 26 | Cost: 0.3119220614341409\n",
      "Epoch: 27 | Cost: 0.288278033472642\n",
      "Epoch: 28 | Cost: 0.2621313382367392\n",
      "Epoch: 29 | Cost: 0.25679914787597835\n",
      "Epoch: 30 | Cost: 0.2586076236187814\n",
      "Epoch: 31 | Cost: 0.2529669705555455\n",
      "Epoch: 32 | Cost: 0.23766791693464556\n",
      "Epoch: 33 | Cost: 0.2189542153669791\n",
      "Epoch: 34 | Cost: 0.20786146893906304\n",
      "Epoch: 35 | Cost: 0.20755899186440638\n",
      "Epoch: 36 | Cost: 0.2036372162957598\n",
      "Epoch: 37 | Cost: 0.18984009681717787\n",
      "Epoch: 38 | Cost: 0.17902471758867877\n",
      "Epoch: 39 | Cost: 0.17601302464015645\n",
      "Epoch: 40 | Cost: 0.17401065656508302\n",
      "Epoch: 41 | Cost: 0.16766923632846034\n",
      "Epoch: 42 | Cost: 0.158131344193704\n",
      "Epoch: 43 | Cost: 0.1513429813288465\n",
      "Epoch: 44 | Cost: 0.15010054318689048\n",
      "Epoch: 45 | Cost: 0.14852785464237167\n",
      "Epoch: 46 | Cost: 0.14266092727824356\n",
      "Epoch: 47 | Cost: 0.13753260685843383\n",
      "Epoch: 48 | Cost: 0.13651180621136777\n",
      "Epoch: 49 | Cost: 0.1361975384238395\n",
      "Epoch: 50 | Cost: 0.13324629009259872\n",
      "Epoch: 51 | Cost: 0.1295130504622989\n",
      "Epoch: 52 | Cost: 0.12848709617056675\n",
      "Epoch: 53 | Cost: 0.12900828697136718\n",
      "Epoch: 54 | Cost: 0.1276530867308335\n",
      "Epoch: 55 | Cost: 0.12546148364086063\n",
      "Epoch: 56 | Cost: 0.12519541402576526\n",
      "Epoch: 57 | Cost: 0.12580392965153087\n",
      "Epoch: 58 | Cost: 0.1250248879531087\n",
      "Epoch: 59 | Cost: 0.12371235840213135\n",
      "Epoch: 60 | Cost: 0.12375802613271933\n",
      "Epoch: 61 | Cost: 0.12430731735906966\n",
      "Epoch: 62 | Cost: 0.12379936470866704\n",
      "Epoch: 63 | Cost: 0.12312275797344488\n",
      "Epoch: 64 | Cost: 0.12341100489253898\n",
      "Epoch: 65 | Cost: 0.12375796815778023\n",
      "Epoch: 66 | Cost: 0.12333177029113081\n",
      "Epoch: 67 | Cost: 0.1229812815176611\n",
      "Epoch: 68 | Cost: 0.12327066635126888\n",
      "Epoch: 69 | Cost: 0.12339157082750518\n",
      "Epoch: 70 | Cost: 0.12301872932973805\n",
      "Epoch: 71 | Cost: 0.12288825364781454\n",
      "Epoch: 72 | Cost: 0.12310899761154653\n",
      "Epoch: 73 | Cost: 0.1230442396726246\n",
      "Epoch: 74 | Cost: 0.12274394804021722\n",
      "Epoch: 75 | Cost: 0.12272043649424563\n",
      "Epoch: 76 | Cost: 0.12280411249704552\n",
      "Epoch: 77 | Cost: 0.12261544007272937\n",
      "Epoch: 78 | Cost: 0.12240030420125039\n",
      "Epoch: 79 | Cost: 0.1224044387678442\n",
      "Epoch: 80 | Cost: 0.12235796918960806\n",
      "Epoch: 81 | Cost: 0.12213831282541916\n",
      "Epoch: 82 | Cost: 0.12200304057844813\n",
      "Epoch: 83 | Cost: 0.12197434317868258\n",
      "Epoch: 84 | Cost: 0.12183287440216087\n",
      "Epoch: 85 | Cost: 0.12163287872442666\n",
      "Epoch: 86 | Cost: 0.12153925781599098\n",
      "Epoch: 87 | Cost: 0.12145350336729172\n",
      "Epoch: 88 | Cost: 0.12127615212133935\n",
      "Epoch: 89 | Cost: 0.12112479663367126\n",
      "Epoch: 90 | Cost: 0.12103941246356303\n",
      "Epoch: 91 | Cost: 0.12090835039363777\n",
      "Epoch: 92 | Cost: 0.12074176524400441\n",
      "Epoch: 93 | Cost: 0.12062783256498379\n",
      "Epoch: 94 | Cost: 0.12052392922368993\n",
      "Epoch: 95 | Cost: 0.12037611744804727\n",
      "Epoch: 96 | Cost: 0.12024221053798287\n",
      "Epoch: 97 | Cost: 0.12014325691479018\n",
      "Epoch: 98 | Cost: 0.12002311181328928\n",
      "Epoch: 99 | Cost: 0.11988829614885457\n",
      "Epoch: 100 | Cost: 0.11978162971342879\n"
     ]
    }
   ],
   "source": [
    "epochs=100\n",
    "cost_max = 10000\n",
    "theta1_best = None\n",
    "w1_best = None\n",
    "\n",
    "for e in range(1,epochs+1):\n",
    "\n",
    "    # (theta1,theta2,w1,w2,_),_cost=opt.step_and_cost(cost,theta1,theta2,w1,w2,t)\n",
    "    (theta1,w1,_),_cost=opt.step_and_cost(cost,theta1,w1,t)\n",
    "\n",
    "    if _cost<cost_max:\n",
    "        cost_max = _cost\n",
    "        theta1_best = theta1\n",
    "        w1_best = w1\n",
    "\n",
    "    # (theta,_),_cost=opt.step_and_cost(cost,theta,t)\n",
    "    if e==1 or e%1==0:\n",
    "        print(f'Epoch: {e} | Cost: {_cost}')"
   ]
  },
  {
   "cell_type": "code",
   "execution_count": 26,
   "metadata": {},
   "outputs": [
    {
     "name": "stdout",
     "output_type": "stream",
     "text": [
      "[ 0.01001618  0.13607451  0.16591741  0.05862456  0.04171117  0.16276855\n",
      " -0.04106611  0.13422103  0.16708144  0.14125931  0.16647977  0.16590649\n",
      " -0.09209686  0.15075802  0.15387533 -0.06908035  0.15802815  0.15677347\n",
      "  0.05241646  0.1668995   0.15972658 -0.03947423  0.15829062  0.15915905\n",
      "  0.16261856  0.07616127  0.16422903 -0.01340657  0.14103659  0.16518518\n",
      "  0.06170718  0.16227738 -0.02876827 -0.02774177  0.16595378  0.1664086\n",
      " -0.02750603  0.16669857 -0.00514699  0.10088775  0.08978993 -0.07395153\n",
      "  0.16430551  0.16696041 -0.01947623  0.06512497  0.11352364 -0.08403534\n",
      "  0.11677357 -0.03926095  0.13568851 -0.05202706  0.16413749  0.02514077\n",
      "  0.05468317  0.16713513  0.15975649  0.16716429  0.09062875  0.01459396\n",
      "  0.07319815  0.09633426  0.16398985  0.11571917  0.1642795   0.02043051\n",
      "  0.07342842  0.10244299  0.1647059   0.16606059  0.1441039  -0.0036078\n",
      "  0.07602586  0.15008936  0.04022222  0.11147897 -0.07319789 -0.08010323\n",
      " -0.08885744  0.10672643  0.10361296  0.09613664  0.16579647  0.1221313\n",
      " -0.00352952  0.16258468 -0.01734911  0.11507174  0.01605943  0.14140176\n",
      " -0.02612096  0.06497401  0.13743455 -0.0083135   0.08035208  0.00199422\n",
      "  0.13233395  0.01467197  0.09900453  0.16722171]\n",
      "[38.13816659 37.92377538 37.65169701 38.08582777 38.10682579 37.61191663\n",
      " 38.17105741 37.92994373 37.715004   37.90526497 37.66326211 37.74671969\n",
      " 38.18611305 37.86478974 37.84873043 38.18134874 37.82379048 37.83186396\n",
      " 38.09392421 37.72288109 37.81187469 38.17031773 37.8220294  37.81600025\n",
      " 37.61047499 38.06020502 37.62750739 38.15568269 37.90610256 37.75826055\n",
      " 38.08162835 37.79093733 38.1648915  38.16432924 37.7458624  37.66159942\n",
      " 38.16419907 37.66894587 38.15000365 38.01554093 38.03701731 38.18262803\n",
      " 37.76979885 37.67765099 38.15952711 38.07682694 37.98753875 38.18481169\n",
      " 37.97959743 38.17021732 37.92507781 38.17569076 37.62642911 38.12440049\n",
      " 38.09102255 37.71177362 37.81165281 37.70961068 38.03548183 38.13421489\n",
      " 38.06484336 38.02466711 37.77349617 37.98221114 37.77011093 38.12890884\n",
      " 38.06448768 38.01231562 37.63341648 37.74386513 37.89418071 38.14888684\n",
      " 38.06041992 37.868012   38.10851988 37.99236697 38.18243974 38.18403418\n",
      " 38.18563718 38.00312717 38.0098512  38.0250529  37.64956385 37.96571902\n",
      " 38.14882954 37.78806741 38.15821094 37.98379805 38.1329112  37.90472704\n",
      " 38.16342624 38.07704232 37.91910789 38.15224291 38.05341    38.1446628\n",
      " 37.93601205 38.13414596 38.01937135 37.69570629]\n"
     ]
    }
   ],
   "source": [
    "# print(_cost)\n",
    "t=np.random.uniform(0,1,size=100,requires_grad=False)\n",
    "pred_train_X=np.array([classical_quantum_net(theta1,w1,t) for t in t])\n",
    "pred_train_Y=(np.array([classical_quantum_net_prime(theta1,w1,t) for t in t])+ws)\n",
    "print(pred_train_X)\n",
    "print(pred_train_Y)\n",
    "# pred_train_Y=np.array([classical_quantum_net(theta2,w2,t) for t in t])"
   ]
  },
  {
   "cell_type": "code",
   "execution_count": 27,
   "metadata": {},
   "outputs": [
    {
     "data": {
      "image/png": "[encoded data removed]",
      "text/plain": [
       "<Figure size 640x480 with 1 Axes>"
      ]
     },
     "metadata": {},
     "output_type": "display_data"
    },
    {
     "data": {
      "image/png": "[encoded data removed]",
      "text/plain": [
       "<Figure size 640x480 with 1 Axes>"
      ]
     },
     "metadata": {},
     "output_type": "display_data"
    }
   ],
   "source": [
    "plt.figure()\n",
    "# plt.scatter(t,X_t(t),facecolors='none', edgecolors='r', label='True - X_t')\n",
    "plt.scatter(t,pred_train_X, color='red',marker=\"x\",s=4,label='Prediction - X_t')\n",
    "# plt.scatter(t,Y_t(t),facecolors='none', edgecolors='g', label='True - Y_t')\n",
    "plt.figure()\n",
    "plt.scatter(t,pred_train_Y, color='green',marker=\"x\",s=4,label='Prediction - Y_t')\n",
    "\n",
    "plt.xlabel('x',fontsize=16)\n",
    "plt.ylabel('f(x)',fontsize=16)\n",
    "plt.xticks(fontsize=10)\n",
    "plt.yticks(fontsize=10)\n",
    "plt.legend(loc='upper center',bbox_to_anchor=(0.5,1.18),ncol=2,fontsize=16)\n",
    "# plt.savefig('1_measurement2_train.png')\n",
    "plt.show()"
   ]
  }
 ],
 "metadata": {
  "kernelspec": {
   "display_name": "base",
   "language": "python",
   "name": "python3"
  },
  "language_info": {
   "codemirror_mode": {
    "name": "ipython",
    "version": 3
   },
   "file_extension": ".py",
   "mimetype": "text/x-python",
   "name": "python",
   "nbconvert_exporter": "python",
   "pygments_lexer": "ipython3",
   "version": "3.11.4"
  },
  "orig_nbformat": 4
 },
 "nbformat": 4,
 "nbformat_minor": 2
}
