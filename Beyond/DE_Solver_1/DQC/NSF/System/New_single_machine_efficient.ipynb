{
 "cells": [
  {
   "cell_type": "code",
   "execution_count": 1,
   "metadata": {},
   "outputs": [],
   "source": [
    "from math import pi\n",
    "import matplotlib.pyplot as plt\n",
    "from pennylane import numpy as np\n",
    "import pennylane as qml\n",
    "from pennylane.optimize import AdamOptimizer\n",
    "import datetime\n",
    "now=datetime.datetime.now"
   ]
  },
  {
   "cell_type": "code",
   "execution_count": 2,
   "metadata": {},
   "outputs": [],
   "source": [
    "num_qubits=2\n",
    "dev=qml.device('default.qubit', wires=num_qubits)"
   ]
  },
  {
   "cell_type": "code",
   "execution_count": 3,
   "metadata": {},
   "outputs": [],
   "source": [
    "# Boundary condition \n",
    "coefii = 10\n",
    "\n",
    "# del_0 = 0  #del\n",
    "# omega_0 = 0     #w\n",
    "del_0_v = -1/coefii\n",
    "omega_0_v = 383.9911/coefii"
   ]
  },
  {
   "cell_type": "code",
   "execution_count": 4,
   "metadata": {},
   "outputs": [],
   "source": [
    "# Differential equation parameters\n",
    "ws = 376.9911\n",
    "\n",
    "# ws = 0.376\n",
    "# coefii = ws/4\n",
    "K1 = 5/coefii\n",
    "K2 = 10/coefii\n",
    "K3 = 1.7/coefii\n",
    "ws = ws/coefii\n",
    "\n",
    "def F_E1(delta_prime, delta,omega_prime,omega, t):       # DE, works with numpy arrays\n",
    "    return (delta_prime+ws-omega)\n",
    "    # return X_prime+ws-Y \n",
    "\n",
    "def F_E2(delta_prime, delta,omega_prime,omega, t):       # DE, works with numpy arrays\n",
    "    # return Y_prime\n",
    "    return omega_prime-K1+K2*np.sin(coefii*delta)+K3*(-ws+omega)*coefii"
   ]
  },
  {
   "cell_type": "code",
   "execution_count": 5,
   "metadata": {},
   "outputs": [],
   "source": [
    "# # Differential equation's exact solution - for comparison\n",
    "# def X_t(t):\n",
    "#     # return X_0_v*np.cos(t)+(3*X_0_v+2*Y_0_v)*np.sin(t)\n",
    "#     return 0\n",
    "\n",
    "# def Y_t(t):\n",
    "#     return 0"
   ]
  },
  {
   "cell_type": "code",
   "execution_count": 6,
   "metadata": {},
   "outputs": [
    {
     "name": "stdout",
     "output_type": "stream",
     "text": [
      "[0.39478544 0.00974365 0.95391567 0.48954516 0.05474658 0.02757455\n",
      " 0.6267456  0.07932241 0.14532197 0.29209901 0.12570607 0.97294527\n",
      " 0.39336152 0.29361321 0.58289872 0.0029323  0.35374677 0.15096709\n",
      " 0.38427805 0.28897335 0.74738786 0.73498721 0.84322217 0.59493922\n",
      " 0.33822643 0.52336828 0.65604873 0.11034189 0.81565148 0.98145011\n",
      " 0.1862946  0.19203264 0.53026397 0.83855058 0.21222548 0.24223366\n",
      " 0.15618664 0.77698418 0.42634094 0.1108997  0.14199326 0.73977148\n",
      " 0.60696919 0.05591572 0.14577047 0.65524899 0.94909876 0.7915243\n",
      " 0.34380937 0.00952788 0.31119599 0.17048345 0.06650748 0.89929812\n",
      " 0.56842026 0.69457157 0.6744499  0.81571412 0.68119324 0.64732648\n",
      " 0.94549984 0.08424359 0.43545283 0.62916276 0.49682027 0.47301573\n",
      " 0.93442205 0.37629788 0.4000272  0.85767832 0.14248193 0.90874719\n",
      " 0.29586206 0.82395456 0.4311359  0.08693438 0.72045859 0.79991685\n",
      " 0.40894613 0.89495549 0.1648319  0.72701305 0.32295865 0.45399705\n",
      " 0.46397558 0.3561226  0.22562008 0.63281643 0.27294522 0.58036275\n",
      " 0.9207766  0.51587966 0.25622494 0.97010928 0.40188434 0.5540294\n",
      " 0.2593154  0.97080602 0.78494152 0.04794959]\n"
     ]
    }
   ],
   "source": [
    "t=np.random.uniform(0,1,size=100,requires_grad=False)\n",
    "print(t)"
   ]
  },
  {
   "cell_type": "code",
   "execution_count": 7,
   "metadata": {},
   "outputs": [],
   "source": [
    "# define embedding layer\n",
    "def embedding(x,wires):\n",
    "    qml.RY(x, wires=wires[1])"
   ]
  },
  {
   "cell_type": "code",
   "execution_count": 8,
   "metadata": {},
   "outputs": [],
   "source": [
    "def Ham():\n",
    "    obs=[]\n",
    "    for j in range(num_qubits):\n",
    "        obs.append(qml.PauliX(j))\n",
    "        for k in range(j):\n",
    "            obs.append(qml.PauliZ(j)@qml.PauliZ(k))\n",
    "    coeffs=np.random.uniform(-1,1,len(obs))*10\n",
    "    qml.Hamiltonian(coeffs, obs)"
   ]
  },
  {
   "cell_type": "code",
   "execution_count": 9,
   "metadata": {},
   "outputs": [],
   "source": [
    "# define ansastz layer\n",
    "def layer(theta):\n",
    "    \n",
    "    # Apply Hamiltonian matrix\n",
    "    Ham()\n",
    "    \n",
    "    # Apply H gate\n",
    "    qml.Hadamard(0)\n",
    "    \n",
    "    # rotations on qubit 1\n",
    "    qml.RY(theta,wires=1)\n",
    "    \n",
    "    # CNOT\n",
    "    qml.CNOT(wires=[0, 1])"
   ]
  },
  {
   "cell_type": "code",
   "execution_count": 10,
   "metadata": {},
   "outputs": [],
   "source": [
    "@qml.qnode(dev, diff_method=\"backprop\", interface=\"autograd\")\n",
    "def quantum_net(theta,x):\n",
    "    \n",
    "    # encode data\n",
    "    embedding(x,wires=range(num_qubits))\n",
    "    \n",
    "    # parameterized circuit layers\n",
    "    for v in theta: # (for lool along with the first dimension)\n",
    "        # print(v)\n",
    "        # Ham()\n",
    "        layer(v)\n",
    "    \n",
    "    qml.Hadamard(0)\n",
    "    \n",
    "    # return qml.expval(qml.PauliZ(0)),qml.expval(qml.PauliZ(1))\n",
    "    return qml.expval(qml.PauliZ(0))"
   ]
  },
  {
   "cell_type": "code",
   "execution_count": 11,
   "metadata": {},
   "outputs": [
    {
     "name": "stdout",
     "output_type": "stream",
     "text": [
      "0: ──H────────────────╭●──H──────╭●──H──────╭●──H──────╭●──H─┤  <Z>\n",
      "1: ──RY(0.00)──RY(M0)─╰X──RY(M1)─╰X──RY(M2)─╰X──RY(M3)─╰X────┤     \n",
      "M0 = \n",
      "[1.23390001]\n",
      "M1 = \n",
      "[2.05969796]\n",
      "M2 = \n",
      "[0.79850281]\n",
      "M3 = \n",
      "[5.27823272]\n"
     ]
    }
   ],
   "source": [
    "num_layers=4\n",
    "theta1=np.random.uniform(0,2*pi,size=(num_layers,num_qubits-1),requires_grad=True)\n",
    "# theta2=np.random.uniform(0,2*pi,size=(num_layers,num_qubits-1),requires_grad=True)\n",
    "# theta = np.load('my_theta1.npy')\n",
    "print(qml.draw(quantum_net)(theta1,0))"
   ]
  },
  {
   "cell_type": "code",
   "execution_count": 12,
   "metadata": {},
   "outputs": [],
   "source": [
    "# add the classical layer   #TODO\n",
    "def classical_quantum_net(theta,w,t):\n",
    "    r1=quantum_net(theta,t)[0]\n",
    "    \n",
    "    return (w[0]+w[1]*r1+w[2]*r1**2,r1)\n"
   ]
  },
  {
   "cell_type": "code",
   "execution_count": 13,
   "metadata": {},
   "outputs": [],
   "source": [
    "def classical_quantum_net_prime(theta,w,t,r1):\n",
    "    # r1=quantum_net(theta,t)[0]\n",
    "    r1_prime = qml.grad(quantum_net,argnum=1)(theta,np.tensor(t)) \n",
    "\n",
    "    return (w[1]*r1_prime+2*w[2]*r1_prime*r1,r1_prime)\n"
   ]
  },
  {
   "cell_type": "code",
   "execution_count": 14,
   "metadata": {},
   "outputs": [],
   "source": [
    "def classical_quantum_net_double_prime(theta,w,t,r1,r1_prime):\n",
    "\n",
    "   # r1=quantum_net(theta,t)[0]\n",
    "   # r1_prime = qml.grad(quantum_net,argnum=1)(theta,np.tensor(t)) \n",
    "\n",
    "\n",
    "   #Calculate double prime\n",
    "   F_pos_pos_pi = quantum_net(theta,t+np.pi)[0]\n",
    "   # F_phi = quantum_net(theta,t)[0]\n",
    "   F_phi = r1\n",
    "   F_phi_neg_pi = quantum_net(theta,t-np.pi)[0]\n",
    "   r1_double_prime = (1/4)*(F_pos_pos_pi-2*F_phi+F_phi_neg_pi)\n",
    "\n",
    "\n",
    "   return w[1]*r1_double_prime+2*w[2]*(r1_prime*r1_prime+r1*r1_double_prime)"
   ]
  },
  {
   "cell_type": "code",
   "execution_count": 15,
   "metadata": {},
   "outputs": [],
   "source": [
    "def cost_efficient(theta1,w1,t):\n",
    "\n",
    "    # loss inner points\n",
    "    loss_i = 0\n",
    "    del_t_pred = np.zeros(len(t))\n",
    "    del_t_prime = np.zeros(len(t))\n",
    "    omega_t_pred = np.zeros(len(t))\n",
    "    omega_t_prime = np.zeros(len(t))\n",
    "\n",
    "    for i in range(len(t)):\n",
    "        res1 = classical_quantum_net(theta=theta1,w=w1,t=t[i])\n",
    "        del_t_pred[i] = res1[0]._value\n",
    "        r1 = res1[1]\n",
    "        res2 = classical_quantum_net_prime(theta=theta1,w=w1,t=t[i],r1=r1)\n",
    "        del_t_prime[i] = res2[0]._value\n",
    "        r1_prime = res2[1]\n",
    "        omega_t_pred[i] = del_t_prime[i]+ws\n",
    "        omega_t_prime[i] = classical_quantum_net_double_prime(theta=theta1,w=w1,t=t[i],r1=r1,r1_prime=r1_prime)._value\n",
    "\n",
    "    loss_i += np.mean(F_E1(delta=del_t_pred,omega=omega_t_pred,delta_prime=del_t_prime,omega_prime=omega_t_prime,t=t)**2)\n",
    "    loss_i += np.mean(F_E2(delta=del_t_pred,omega=omega_t_pred,delta_prime=del_t_prime,omega_prime=omega_t_prime,t=t)**2)\n",
    "\n",
    "    # # loss boundary points\n",
    "    loss_b = 0\n",
    "    ress = classical_quantum_net(theta1,w1,0)\n",
    "    del_0_pred = ress[0]\n",
    "    # del_0_pred = del_t_pred[0]\n",
    "    ress2 = classical_quantum_net_prime(theta1,w1,0,r1=ress[1])\n",
    "    omega_0_pred = ress2[0]+ws\n",
    "    # omega_0_pred = omega_t_pred[0]\n",
    "    \n",
    "\n",
    "    # # print(U_0)\n",
    "    loss_b += (del_0_v-del_0_pred)**2+(omega_0_v-omega_0_pred)**2\n",
    "    return loss_b + loss_i\n",
    "    # return 0.2*loss_b + 0.8*loss_i\n",
    "\n",
    "    return loss_i"
   ]
  },
  {
   "cell_type": "code",
   "execution_count": 16,
   "metadata": {},
   "outputs": [],
   "source": [
    "# def cost(theta1,w1,t):\n",
    "\n",
    "#     # loss inner points\n",
    "#     loss_i = 0\n",
    "\n",
    "#     del_t_pred = np.array([classical_quantum_net(theta=theta1,w=w1,t=point) for point in t])\n",
    "#     del_t_prime = np.array([classical_quantum_net_prime(theta=theta1,w=w1,t=point) for point in t])\n",
    "    \n",
    "#     omega_t_pred = del_t_prime+ws\n",
    "#     # Y_t_prime = np.array([classical_quantum_net_prime(theta=theta2,w=w2,t=point) for point in t])\n",
    "#     omega_t_prime = np.array([classical_quantum_net_double_prime(theta=theta1,w=w1,t=point) for point in t])\n",
    "\n",
    "#     loss_i += np.mean(F_E1(delta=del_t_pred,omega=omega_t_pred,delta_prime=del_t_prime,omega_prime=omega_t_prime,t=t)**2)\n",
    "#     loss_i += np.mean(F_E2(delta=del_t_pred,omega=omega_t_pred,delta_prime=del_t_prime,omega_prime=omega_t_prime,t=t)**2)\n",
    "\n",
    "#     # # loss boundary points\n",
    "#     loss_b = 0\n",
    "#     del_0_pred = classical_quantum_net(theta1,w1,0)\n",
    "#     omega_0_pred = classical_quantum_net_prime(theta1,w1,0)+ws\n",
    "\n",
    "#     # # print(U_0)\n",
    "#     loss_b += (del_0_v-del_0_pred)**2+(omega_0_v-omega_0_pred)**2\n",
    "#     return loss_b + loss_i\n",
    "#     # return 0.2*loss_b + 0.8*loss_i\n",
    "\n",
    "#     return loss_i"
   ]
  },
  {
   "cell_type": "code",
   "execution_count": 17,
   "metadata": {},
   "outputs": [],
   "source": [
    "w1=np.zeros(3,requires_grad=True)\n",
    "# w2=np.zeros(3,requires_grad=True)\n",
    "opt = AdamOptimizer(0.05, beta1=0.9, beta2=0.999)"
   ]
  },
  {
   "cell_type": "code",
   "execution_count": 18,
   "metadata": {},
   "outputs": [
    {
     "name": "stdout",
     "output_type": "stream",
     "text": [
      "2023-08-11 19:11:24.762101\n"
     ]
    }
   ],
   "source": [
    "start=now()\n",
    "print(start)"
   ]
  },
  {
   "cell_type": "code",
   "execution_count": 19,
   "metadata": {},
   "outputs": [
    {
     "name": "stdout",
     "output_type": "stream",
     "text": [
      "Epoch: 1 | Cost: 0.749999999999994\n",
      "Epoch: 2 | Cost: 0.9748561419340988\n",
      "Epoch: 3 | Cost: 1.0402138775942444\n",
      "Epoch: 4 | Cost: 0.8878444390168223\n",
      "Epoch: 5 | Cost: 0.702733357946576\n",
      "Epoch: 6 | Cost: 0.6296509872149423\n",
      "Epoch: 7 | Cost: 0.6735015095154413\n",
      "Epoch: 8 | Cost: 0.726173982599488\n",
      "Epoch: 9 | Cost: 0.7981871568109526\n",
      "Epoch: 10 | Cost: 1.0615865328297522\n",
      "Epoch: 11 | Cost: 1.319273426264693\n",
      "Epoch: 12 | Cost: 1.3934234860578856\n",
      "Epoch: 13 | Cost: 1.4611916892288688\n",
      "Epoch: 14 | Cost: 1.5686420925087414\n",
      "Epoch: 15 | Cost: 1.6532405731147866\n",
      "Epoch: 16 | Cost: 1.6863986988226698\n",
      "Epoch: 17 | Cost: 1.6883773577177414\n",
      "Epoch: 18 | Cost: 1.673646197534951\n",
      "Epoch: 19 | Cost: 1.6384448414737611\n",
      "Epoch: 20 | Cost: 1.5841671038046379\n",
      "Epoch: 21 | Cost: 1.5226163953574448\n",
      "Epoch: 22 | Cost: 1.4708760219669519\n",
      "Epoch: 23 | Cost: 1.4409529299312092\n",
      "Epoch: 24 | Cost: 1.4314409573239026\n",
      "Epoch: 25 | Cost: 1.431816950921793\n",
      "Epoch: 26 | Cost: 1.4305039229560694\n",
      "Epoch: 27 | Cost: 1.421230547508063\n",
      "Epoch: 28 | Cost: 1.4102917159801307\n",
      "Epoch: 29 | Cost: 1.4085409052667426\n",
      "Epoch: 30 | Cost: 1.4162853253815584\n",
      "Epoch: 31 | Cost: 1.424356621592861\n",
      "Epoch: 32 | Cost: 1.4262747150739725\n",
      "Epoch: 33 | Cost: 1.4245420519961491\n",
      "Epoch: 34 | Cost: 1.4262035102288253\n",
      "Epoch: 35 | Cost: 1.4360159172337381\n",
      "Epoch: 36 | Cost: 1.454707310349267\n",
      "Epoch: 37 | Cost: 1.481178457906437\n",
      "Epoch: 38 | Cost: 1.5134970978419702\n",
      "Epoch: 39 | Cost: 1.5475400007943758\n",
      "Epoch: 40 | Cost: 1.5771360080017038\n",
      "Epoch: 41 | Cost: 1.5968473641667185\n",
      "Epoch: 42 | Cost: 1.6043224941257406\n",
      "Epoch: 43 | Cost: 1.600620056214609\n",
      "Epoch: 44 | Cost: 1.5892358794795394\n",
      "Epoch: 45 | Cost: 1.5746862578248066\n",
      "Epoch: 46 | Cost: 1.5611342573630311\n",
      "Epoch: 47 | Cost: 1.5514170282132722\n",
      "Epoch: 48 | Cost: 1.5466191582374225\n",
      "Epoch: 49 | Cost: 1.546168702397055\n",
      "Epoch: 50 | Cost: 1.5483894052049294\n",
      "Epoch: 51 | Cost: 1.5513117738336164\n",
      "Epoch: 52 | Cost: 1.553427882537397\n",
      "Epoch: 53 | Cost: 1.5540725206849755\n",
      "Epoch: 54 | Cost: 1.5533004329740294\n",
      "Epoch: 55 | Cost: 1.5515491671044628\n",
      "Epoch: 56 | Cost: 1.5494915242009415\n",
      "Epoch: 57 | Cost: 1.5480655529485288\n",
      "Epoch: 58 | Cost: 1.5483849456893821\n",
      "Epoch: 59 | Cost: 1.5514107575229665\n",
      "Epoch: 60 | Cost: 1.5575421889472476\n",
      "Epoch: 61 | Cost: 1.5663570578906345\n",
      "Epoch: 62 | Cost: 1.576625611790148\n",
      "Epoch: 63 | Cost: 1.5865939802089417\n",
      "Epoch: 64 | Cost: 1.5944611553460988\n",
      "Epoch: 65 | Cost: 1.59890434270217\n",
      "Epoch: 66 | Cost: 1.599458034782007\n",
      "Epoch: 67 | Cost: 1.596604705311729\n",
      "Epoch: 68 | Cost: 1.5915614313166426\n",
      "Epoch: 69 | Cost: 1.5858613695438781\n",
      "Epoch: 70 | Cost: 1.5808919708774627\n",
      "Epoch: 71 | Cost: 1.577545024748652\n",
      "Epoch: 72 | Cost: 1.57606821222095\n",
      "Epoch: 73 | Cost: 1.5761285016608175\n",
      "Epoch: 74 | Cost: 1.5770336684416877\n",
      "Epoch: 75 | Cost: 1.5780184423587622\n",
      "Epoch: 76 | Cost: 1.578496292917494\n",
      "Epoch: 77 | Cost: 1.5782098715078452\n",
      "Epoch: 78 | Cost: 1.5772643540357465\n",
      "Epoch: 79 | Cost: 1.5760628886508037\n",
      "Epoch: 80 | Cost: 1.5751687754507764\n",
      "Epoch: 81 | Cost: 1.575121506384041\n",
      "Epoch: 82 | Cost: 1.5762513012134802\n",
      "Epoch: 83 | Cost: 1.5785511104468113\n",
      "Epoch: 84 | Cost: 1.5816543709610098\n",
      "Epoch: 85 | Cost: 1.5849317183656533\n",
      "Epoch: 86 | Cost: 1.5876772282679896\n",
      "Epoch: 87 | Cost: 1.5893218555774993\n",
      "Epoch: 88 | Cost: 1.589600413058565\n",
      "Epoch: 89 | Cost: 1.5886149875933637\n",
      "Epoch: 90 | Cost: 1.5867772070220378\n",
      "Epoch: 91 | Cost: 1.584657043551484\n",
      "Epoch: 92 | Cost: 1.5827973907288009\n",
      "Epoch: 93 | Cost: 1.5815597651242481\n",
      "Epoch: 94 | Cost: 1.5810479037048362\n",
      "Epoch: 95 | Cost: 1.5811237463485746\n",
      "Epoch: 96 | Cost: 1.5814979751910536\n",
      "Epoch: 97 | Cost: 1.5818555819332356\n",
      "Epoch: 98 | Cost: 1.5819713014086503\n",
      "Epoch: 99 | Cost: 1.581779360361034\n",
      "Epoch: 100 | Cost: 1.5813807010619982\n"
     ]
    }
   ],
   "source": [
    "epochs=100\n",
    "cost_max = 10000\n",
    "theta1_best = None\n",
    "w1_best = None\n",
    "\n",
    "for e in range(1,epochs+1):\n",
    "\n",
    "    # (theta1,theta2,w1,w2,_),_cost=opt.step_and_cost(cost,theta1,theta2,w1,w2,t)\n",
    "    (theta1,w1,_),_cost=opt.step_and_cost(cost_efficient,theta1,w1,t)\n",
    "\n",
    "    if _cost<cost_max:\n",
    "        cost_max = _cost\n",
    "        theta1_best = theta1\n",
    "        w1_best = w1\n",
    "\n",
    "    # (theta,_),_cost=opt.step_and_cost(cost,theta,t)\n",
    "    if e==1 or e%1==0:\n",
    "        print(f'Epoch: {e} | Cost: {_cost}')"
   ]
  },
  {
   "cell_type": "code",
   "execution_count": 20,
   "metadata": {},
   "outputs": [
    {
     "ename": "TypeError",
     "evalue": "classical_quantum_net_prime() missing 1 required positional argument: 'r1'",
     "output_type": "error",
     "traceback": [
      "\u001b[1;31m---------------------------------------------------------------------------\u001b[0m",
      "\u001b[1;31mTypeError\u001b[0m                                 Traceback (most recent call last)",
      "Cell \u001b[1;32mIn[20], line 4\u001b[0m\n\u001b[0;32m      2\u001b[0m t\u001b[39m=\u001b[39mnp\u001b[39m.\u001b[39mrandom\u001b[39m.\u001b[39muniform(\u001b[39m0\u001b[39m,\u001b[39m1\u001b[39m,size\u001b[39m=\u001b[39m\u001b[39m100\u001b[39m,requires_grad\u001b[39m=\u001b[39m\u001b[39mFalse\u001b[39;00m)\n\u001b[0;32m      3\u001b[0m pred_train_X\u001b[39m=\u001b[39mnp\u001b[39m.\u001b[39marray([classical_quantum_net(theta1,w1,t) \u001b[39mfor\u001b[39;00m t \u001b[39min\u001b[39;00m t])\n\u001b[1;32m----> 4\u001b[0m pred_train_Y\u001b[39m=\u001b[39m(np\u001b[39m.\u001b[39marray([classical_quantum_net_prime(theta1,w1,t) \u001b[39mfor\u001b[39;49;00m t \u001b[39min\u001b[39;49;00m t])\u001b[39m+\u001b[39mws)\n\u001b[0;32m      5\u001b[0m \u001b[39mprint\u001b[39m(pred_train_X)\n\u001b[0;32m      6\u001b[0m \u001b[39mprint\u001b[39m(pred_train_Y)\n",
      "Cell \u001b[1;32mIn[20], line 4\u001b[0m, in \u001b[0;36m<listcomp>\u001b[1;34m(.0)\u001b[0m\n\u001b[0;32m      2\u001b[0m t\u001b[39m=\u001b[39mnp\u001b[39m.\u001b[39mrandom\u001b[39m.\u001b[39muniform(\u001b[39m0\u001b[39m,\u001b[39m1\u001b[39m,size\u001b[39m=\u001b[39m\u001b[39m100\u001b[39m,requires_grad\u001b[39m=\u001b[39m\u001b[39mFalse\u001b[39;00m)\n\u001b[0;32m      3\u001b[0m pred_train_X\u001b[39m=\u001b[39mnp\u001b[39m.\u001b[39marray([classical_quantum_net(theta1,w1,t) \u001b[39mfor\u001b[39;00m t \u001b[39min\u001b[39;00m t])\n\u001b[1;32m----> 4\u001b[0m pred_train_Y\u001b[39m=\u001b[39m(np\u001b[39m.\u001b[39marray([classical_quantum_net_prime(theta1,w1,t) \u001b[39mfor\u001b[39;00m t \u001b[39min\u001b[39;00m t])\u001b[39m+\u001b[39mws)\n\u001b[0;32m      5\u001b[0m \u001b[39mprint\u001b[39m(pred_train_X)\n\u001b[0;32m      6\u001b[0m \u001b[39mprint\u001b[39m(pred_train_Y)\n",
      "\u001b[1;31mTypeError\u001b[0m: classical_quantum_net_prime() missing 1 required positional argument: 'r1'"
     ]
    }
   ],
   "source": [
    "# print(_cost)\n",
    "t=np.random.uniform(0,1,size=100,requires_grad=False)\n",
    "\n",
    "pred_train_X=np.array([classical_quantum_net(theta1,w1,t) for t in t])\n",
    "pred_train_Y=(np.array([classical_quantum_net_prime(theta1,w1,t) for t in t])+ws)\n",
    "print(pred_train_X)\n",
    "print(pred_train_Y)\n",
    "# pred_train_Y=np.array([classical_quantum_net(theta2,w2,t) for t in t])"
   ]
  },
  {
   "cell_type": "code",
   "execution_count": null,
   "metadata": {},
   "outputs": [
    {
     "data": {
      "image/png": "[encoded data removed]",
      "text/plain": [
       "<Figure size 640x480 with 1 Axes>"
      ]
     },
     "metadata": {},
     "output_type": "display_data"
    },
    {
     "data": {
      "image/png": "[encoded data removed]",
      "text/plain": [
       "<Figure size 640x480 with 1 Axes>"
      ]
     },
     "metadata": {},
     "output_type": "display_data"
    }
   ],
   "source": [
    "plt.figure()\n",
    "# plt.scatter(t,X_t(t),facecolors='none', edgecolors='r', label='True - X_t')\n",
    "plt.scatter(t,pred_train_X, color='red',marker=\"x\",s=4,label='Prediction - del_t')\n",
    "plt.xlabel('t',fontsize=16)\n",
    "plt.ylabel('del_t',fontsize=16)\n",
    "# plt.scatter(t,Y_t(t),facecolors='none', edgecolors='g', label='True - Y_t')\n",
    "plt.figure()\n",
    "plt.scatter(t,pred_train_Y, color='green',marker=\"x\",s=4,label='Prediction - omega_t')\n",
    "\n",
    "plt.xlabel('t',fontsize=16)\n",
    "plt.ylabel('omega_t',fontsize=16)\n",
    "plt.xticks(fontsize=10)\n",
    "plt.yticks(fontsize=10)\n",
    "plt.legend(loc='upper center',bbox_to_anchor=(0.5,1.18),ncol=2,fontsize=16)\n",
    "# plt.savefig('1_measurement2_train.png')\n",
    "plt.show()"
   ]
  }
 ],
 "metadata": {
  "kernelspec": {
   "display_name": "base",
   "language": "python",
   "name": "python3"
  },
  "language_info": {
   "codemirror_mode": {
    "name": "ipython",
    "version": 3
   },
   "file_extension": ".py",
   "mimetype": "text/x-python",
   "name": "python",
   "nbconvert_exporter": "python",
   "pygments_lexer": "ipython3",
   "version": "3.11.4"
  },
  "orig_nbformat": 4
 },
 "nbformat": 4,
 "nbformat_minor": 2
}
