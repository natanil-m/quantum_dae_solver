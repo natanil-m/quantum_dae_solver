{
 "cells": [
  {
   "cell_type": "markdown",
   "id": "7cf80e23-d560-494f-92e3-250336dfe3b9",
   "metadata": {},
   "source": [
    "## Import packages"
   ]
  },
  {
   "cell_type": "code",
   "execution_count": 1,
   "id": "442731fb-ff97-475a-89ca-4fcf99524da2",
   "metadata": {},
   "outputs": [],
   "source": [
    "from math import pi\n",
    "import matplotlib.pyplot as plt\n",
    "from pennylane import numpy as np\n",
    "import pennylane as qml\n",
    "from pennylane.optimize import AdamOptimizer\n",
    "import datetime\n",
    "now=datetime.datetime.now"
   ]
  },
  {
   "cell_type": "markdown",
   "id": "88b341bf-e4e4-4c73-8c21-1781502bc8d2",
   "metadata": {},
   "source": [
    "### Define the objective function"
   ]
  },
  {
   "cell_type": "markdown",
   "id": "b201e6cf-c9d8-41a2-8ffb-a967fc9a5aa4",
   "metadata": {},
   "source": [
    "The target function is $f(x_1,x_2,x_3)=0.5\\sin(x_1)\\sin(x_2)-0.6\\cos(x_2)\\sin(x_3)+\\cos^2(x_3)$."
   ]
  },
  {
   "cell_type": "code",
   "execution_count": 2,
   "id": "60b7158b-29f3-41e3-a28f-69280dd3471a",
   "metadata": {},
   "outputs": [],
   "source": [
    "coef=1\n",
    "def my_objective(X1,X2,X3):\n",
    "    Y=0.5*np.sin(coef*X1)*np.sin(coef*X2)-0.6*np.cos(coef*X2)*np.sin(coef*X3)+np.cos(coef*X3)**2\n",
    "    return Y"
   ]
  },
  {
   "cell_type": "code",
   "execution_count": 3,
   "id": "f780a1f3-9e81-4860-8941-b10822575e13",
   "metadata": {},
   "outputs": [
    {
     "data": {
      "text/plain": [
       "-0.6"
      ]
     },
     "execution_count": 3,
     "metadata": {},
     "output_type": "execute_result"
    }
   ],
   "source": [
    "my_objective(0,0,pi/2)"
   ]
  },
  {
   "cell_type": "markdown",
   "id": "0a990fef-cd53-41c2-ae5b-cf4e25332718",
   "metadata": {},
   "source": [
    "## Generate data"
   ]
  },
  {
   "cell_type": "code",
   "execution_count": 4,
   "id": "f3c3a2f5-7b37-4235-ac36-2d9e1925d601",
   "metadata": {},
   "outputs": [
    {
     "name": "stdout",
     "output_type": "stream",
     "text": [
      "(1000, 3)\n"
     ]
    }
   ],
   "source": [
    "number=1000\n",
    "np.random.seed(0)\n",
    "X=np.random.uniform(-0.95,0.95,size=(number,3))\n",
    "print(X.shape)"
   ]
  },
  {
   "cell_type": "code",
   "execution_count": 5,
   "id": "0be49b91-2453-4ea1-8d5b-8865c388c2b9",
   "metadata": {},
   "outputs": [
    {
     "name": "stdout",
     "output_type": "stream",
     "text": [
      "(1000,)\n",
      "[0.87395657 0.75647989 0.02453891 0.91118912 0.81851272]\n"
     ]
    }
   ],
   "source": [
    "Y=my_objective(X[:,0],X[:,1],X[:,2])\n",
    "print(Y.shape)\n",
    "print(Y[0:5])"
   ]
  },
  {
   "cell_type": "markdown",
   "id": "985326c4-09cb-4d1c-bc04-3b64ccabccbe",
   "metadata": {},
   "source": [
    "## Set device"
   ]
  },
  {
   "cell_type": "code",
   "execution_count": 6,
   "id": "efea534f-5327-4c2c-bb39-89a402e5fad6",
   "metadata": {},
   "outputs": [],
   "source": [
    "num_qubits=4\n",
    "dev=qml.device('default.qubit', wires=num_qubits)"
   ]
  },
  {
   "cell_type": "markdown",
   "id": "5e92810a-bd94-4de6-a249-bc48b4438634",
   "metadata": {},
   "source": [
    "## Define embedding layer"
   ]
  },
  {
   "cell_type": "code",
   "execution_count": 7,
   "id": "0aeffb5f-14f6-43f3-ad80-12361458a9c9",
   "metadata": {},
   "outputs": [],
   "source": [
    "# define my own embedding layer\n",
    "def myembedding(x,wires):\n",
    "    qml.RY(coef*x[0], wires=wires[1])\n",
    "    qml.RY(coef*x[1], wires=wires[2])\n",
    "    qml.RY(coef*x[2], wires=wires[3])"
   ]
  },
  {
   "cell_type": "markdown",
   "id": "b7ab8ca3-caed-48cc-9973-a970fb36cca1",
   "metadata": {},
   "source": [
    "## Define the Hamiltonian matrix transformation layer"
   ]
  },
  {
   "cell_type": "code",
   "execution_count": 8,
   "id": "afb5e5cb-286b-42db-a5be-fdfad082e25d",
   "metadata": {},
   "outputs": [],
   "source": [
    "def Ham():\n",
    "    obs=[]\n",
    "    for j in range(num_qubits):\n",
    "        obs.append(qml.PauliX(j))\n",
    "        for k in range(j):\n",
    "            obs.append(qml.PauliZ(j)@qml.PauliZ(k))\n",
    "    coeffs=np.random.uniform(-1,1,len(obs))*10\n",
    "    qml.Hamiltonian(coeffs, obs)"
   ]
  },
  {
   "cell_type": "markdown",
   "id": "40609ba4-09dd-4345-a105-115cf4f9dc57",
   "metadata": {},
   "source": [
    "## Define ansatze layer"
   ]
  },
  {
   "cell_type": "code",
   "execution_count": 9,
   "id": "8b4fe5bd-be5f-46dc-adcd-400243764019",
   "metadata": {},
   "outputs": [],
   "source": [
    "# define ansastz layer\n",
    "def layer(theta):\n",
    "    \n",
    "    # Apply Hamiltonian matrix\n",
    "    Ham()\n",
    "    \n",
    "    # Apply H gate\n",
    "    qml.Hadamard(0)\n",
    "    \n",
    "    # rotations on qubit 1\n",
    "    qml.RY(theta[0],wires=1)\n",
    "    \n",
    "    # rotations on qubit 2\n",
    "    qml.RY(theta[1],wires=2)\n",
    "    \n",
    "    # rotations on qubit 3\n",
    "    qml.RY(theta[2],wires=3)\n",
    "    \n",
    "    # CNOT\n",
    "    qml.CNOT(wires=[0, 1])\n",
    "    qml.CNOT(wires=[0, 2])\n",
    "    qml.CNOT(wires=[0, 3])"
   ]
  },
  {
   "cell_type": "code",
   "execution_count": 10,
   "id": "48d546ce-1312-4097-9d27-1ecec5c7c4bb",
   "metadata": {},
   "outputs": [],
   "source": [
    "@qml.qnode(dev)\n",
    "def quantum_net(theta,x):\n",
    "    \n",
    "    # encode data\n",
    "    myembedding(x,wires=range(num_qubits))\n",
    "    \n",
    "    # parameterized circuit layers\n",
    "    for v in theta: # (for lool along with the first dimension)\n",
    "        # print(v)\n",
    "        # Ham()\n",
    "        layer(v)\n",
    "    \n",
    "    qml.Hadamard(0)\n",
    "    \n",
    "    return qml.expval(qml.PauliZ(0)),qml.expval(qml.PauliZ(3))"
   ]
  },
  {
   "cell_type": "code",
   "execution_count": 11,
   "id": "e272596e-e4f2-42bf-adfa-032fbe5541a4",
   "metadata": {},
   "outputs": [
    {
     "name": "stdout",
     "output_type": "stream",
     "text": [
      "(4, 3)\n",
      "[[2.60100307 3.95600847 4.89198921]\n",
      " [5.35049542 5.12967237 1.04349312]\n",
      " [5.20492506 0.36837724 1.25770949]\n",
      " [3.91396401 0.72063439 3.79094474]]\n"
     ]
    }
   ],
   "source": [
    "num_layers = 4\n",
    "theta = np.random.uniform(0,2*pi, size=(num_layers,num_qubits-1), requires_grad=True)\n",
    "print(theta.shape)\n",
    "print(theta)"
   ]
  },
  {
   "cell_type": "code",
   "execution_count": 12,
   "id": "2f642c67-9d8e-4580-873c-ed4fa5046fbe",
   "metadata": {},
   "outputs": [
    {
     "data": {
      "text/plain": [
       "tensor([-0.29240526, -0.10825549], requires_grad=True)"
      ]
     },
     "execution_count": 12,
     "metadata": {},
     "output_type": "execute_result"
    }
   ],
   "source": [
    "quantum_net(theta,[0,0,0])"
   ]
  },
  {
   "cell_type": "code",
   "execution_count": 13,
   "id": "3dbdf08d-9822-4100-861b-70c814647f65",
   "metadata": {},
   "outputs": [
    {
     "name": "stdout",
     "output_type": "stream",
     "text": [
      "0: ──H──────────────────╭●─╭●─╭●──H────────╭●─╭●─╭●──H────────╭●─╭●─╭●──H────────╭●─╭●─╭●──H─┤  <Z>\n",
      "1: ──RY(0.00)──RY(2.60)─╰X─│──│───RY(5.35)─╰X─│──│───RY(5.20)─╰X─│──│───RY(3.91)─╰X─│──│─────┤     \n",
      "2: ──RY(0.00)──RY(3.96)────╰X─│───RY(5.13)────╰X─│───RY(0.37)────╰X─│───RY(0.72)────╰X─│─────┤     \n",
      "3: ──RY(0.00)──RY(4.89)───────╰X──RY(1.04)───────╰X──RY(1.26)───────╰X──RY(3.79)───────╰X────┤  <Z>\n"
     ]
    }
   ],
   "source": [
    "print(qml.draw(quantum_net)(theta,[0,0,0]))"
   ]
  },
  {
   "cell_type": "markdown",
   "id": "2888f281-3267-427f-ae97-2ec6ffcd6adb",
   "metadata": {},
   "source": [
    "## Add classical layer"
   ]
  },
  {
   "cell_type": "code",
   "execution_count": 14,
   "id": "4e0a89eb-8f33-4bcc-8281-3407caeb2cae",
   "metadata": {},
   "outputs": [],
   "source": [
    "# add the classical layer\n",
    "def classical_quantum_net(theta,w,x):\n",
    "    r1=quantum_net(theta,x)[0]\n",
    "    r2=quantum_net(theta,x)[1]\n",
    "    return w[0]+w[1]*r1+w[2]*r1**2+w[3]*r2+w[4]*r2**2"
   ]
  },
  {
   "cell_type": "code",
   "execution_count": 15,
   "id": "80d8587f-734d-4b31-9e3f-90f39cc74b97",
   "metadata": {},
   "outputs": [],
   "source": [
    "def square_loss(labels,predictions):\n",
    "    loss=0\n",
    "    for l,p in zip(labels,predictions):\n",
    "        loss=loss+(l-p)**2\n",
    "    loss=loss/len(labels)\n",
    "    return loss"
   ]
  },
  {
   "cell_type": "code",
   "execution_count": 16,
   "id": "2465b32a-31ce-4eb8-aa28-71a6ade80df1",
   "metadata": {},
   "outputs": [],
   "source": [
    "def cost(theta,w,features,labels):\n",
    "    preds=[classical_quantum_net(theta,w,x) for x in features]\n",
    "    return square_loss(labels,preds)"
   ]
  },
  {
   "cell_type": "markdown",
   "id": "f52649ca-2c0c-4d24-b1ce-8c2741622b25",
   "metadata": {},
   "source": [
    "## Model training"
   ]
  },
  {
   "cell_type": "code",
   "execution_count": 17,
   "id": "4956cf77-a7a6-486f-a0a6-a8d8c89dd398",
   "metadata": {},
   "outputs": [],
   "source": [
    "w=np.zeros(5,requires_grad=True)"
   ]
  },
  {
   "cell_type": "markdown",
   "id": "cd99f7a6-de0a-43da-b047-d69214a9c997",
   "metadata": {},
   "source": [
    "Using the Adam optimizer, we update the weights for 200 steps (this takes some time). More steps will lead to a better fit."
   ]
  },
  {
   "cell_type": "code",
   "execution_count": 18,
   "id": "de6ab5e1-47b2-4c87-b790-9ac5e60e7db2",
   "metadata": {},
   "outputs": [],
   "source": [
    "opt = AdamOptimizer(0.05, beta1=0.9, beta2=0.999)"
   ]
  },
  {
   "cell_type": "code",
   "execution_count": 19,
   "id": "de40606d-e677-4da6-898c-bc96c29d5c9f",
   "metadata": {},
   "outputs": [
    {
     "name": "stdout",
     "output_type": "stream",
     "text": [
      "2022-08-07 14:44:40.696400\n"
     ]
    }
   ],
   "source": [
    "start=now()\n",
    "print(start)"
   ]
  },
  {
   "cell_type": "code",
   "execution_count": 20,
   "id": "8dba64b2-11d9-45b2-ac00-4bbaf967546a",
   "metadata": {},
   "outputs": [
    {
     "name": "stdout",
     "output_type": "stream",
     "text": [
      "Epoch: 1 | Cost: 0.6907793588973378 | w: [ 0.04999999 -0.04999993  0.04999973 -0.0499999   0.04999983]\n",
      "Epoch: 10 | Cost: 0.1329426685835965 | w: [ 0.40978733 -0.41466322  0.39781239 -0.42665756  0.43384529]\n",
      "Epoch: 20 | Cost: 0.08000577069457783 | w: [ 0.50392821 -0.40725699  0.30350214 -0.50388307  0.5022412 ]\n",
      "Epoch: 30 | Cost: 0.06508315742801542 | w: [ 0.55119694 -0.40707994  0.24199637 -0.59361428  0.45815753]\n",
      "Epoch: 40 | Cost: 0.05438892579953988 | w: [ 0.53923205 -0.41295714  0.1908594  -0.66040488  0.29432916]\n",
      "Epoch: 50 | Cost: 0.04578805143718515 | w: [ 0.51531286 -0.45471438  0.17928896 -0.75168674  0.09528257]\n",
      "Epoch: 60 | Cost: 0.0365385417386598 | w: [ 0.49292493 -0.50093943  0.186229   -0.87639567 -0.07241903]\n",
      "Epoch: 70 | Cost: 0.02836434785280098 | w: [ 0.47542332 -0.55476581  0.19514115 -0.99059426 -0.27263165]\n",
      "Epoch: 80 | Cost: 0.022346221649715874 | w: [ 0.47018543 -0.610666    0.19704911 -1.11765859 -0.45781145]\n",
      "Epoch: 90 | Cost: 0.017604798035319898 | w: [ 0.47493371 -0.66335905  0.19331896 -1.2316571  -0.63321099]\n",
      "Epoch: 100 | Cost: 0.013758227906297887 | w: [ 0.48549699 -0.7164261   0.18702351 -1.31799866 -0.80146956]\n",
      "Epoch: 110 | Cost: 0.011016075072557797 | w: [ 0.49599075 -0.76922766  0.18471156 -1.36354154 -0.96348354]\n",
      "Epoch: 120 | Cost: 0.009304046635054644 | w: [ 0.50443377 -0.81619492  0.19009819 -1.37500215 -1.09589135]\n",
      "Epoch: 130 | Cost: 0.00802034864523393 | w: [ 0.5099827  -0.85276541  0.20136221 -1.35908339 -1.18862597]\n",
      "Epoch: 140 | Cost: 0.006523816720170107 | w: [ 0.5143562  -0.87825311  0.21599583 -1.32806249 -1.24690586]\n",
      "Epoch: 150 | Cost: 0.005159472297773316 | w: [ 0.51963299 -0.89742181  0.23517543 -1.29247304 -1.28927888]\n",
      "Epoch: 160 | Cost: 0.004259771549407749 | w: [ 0.52678007 -0.91609723  0.25850773 -1.2590111  -1.32380917]\n",
      "Epoch: 170 | Cost: 0.003538866790499079 | w: [ 0.53522822 -0.93660327  0.28416603 -1.22881675 -1.35687766]\n",
      "Epoch: 180 | Cost: 0.00306734669661625 | w: [ 0.54332871 -0.95745458  0.31063438 -1.19805904 -1.39954652]\n",
      "Epoch: 190 | Cost: 0.00275765417484477 | w: [ 0.55062238 -0.97689367  0.3355615  -1.16735738 -1.44100638]\n",
      "Epoch: 200 | Cost: 0.0025530395426915935 | w: [ 0.55650013 -0.99072197  0.3541509  -1.13755451 -1.47588715]\n"
     ]
    }
   ],
   "source": [
    "epochs=200\n",
    "for e in range(1,epochs+1):\n",
    "    \n",
    "    (theta,w,_,_),_cost=opt.step_and_cost(cost,theta,w,X,Y)\n",
    "\n",
    "    if e==1 or e%10==0:\n",
    "        print(f'Epoch: {e} | Cost: {_cost} | w: {w}')"
   ]
  },
  {
   "cell_type": "code",
   "execution_count": 21,
   "id": "f08f83be-3736-4079-9305-417cd5f5af5e",
   "metadata": {},
   "outputs": [
    {
     "name": "stdout",
     "output_type": "stream",
     "text": [
      "2022-08-07 17:15:58.643547\n"
     ]
    }
   ],
   "source": [
    "end=now()\n",
    "print(end)"
   ]
  },
  {
   "cell_type": "code",
   "execution_count": 22,
   "id": "9a9f4007-7995-466f-8265-c4e197e1e7b5",
   "metadata": {},
   "outputs": [
    {
     "name": "stdout",
     "output_type": "stream",
     "text": [
      "2:31:17.947147\n"
     ]
    }
   ],
   "source": [
    "print(end-start)"
   ]
  },
  {
   "cell_type": "markdown",
   "id": "be49277f-d671-4246-8260-e8f0935a346c",
   "metadata": {},
   "source": [
    "## Training error"
   ]
  },
  {
   "cell_type": "code",
   "execution_count": 23,
   "id": "7efa9310-533b-47b5-9551-f8f7a8f55e4f",
   "metadata": {},
   "outputs": [],
   "source": [
    "pred_train=[classical_quantum_net(theta,w,x) for x in X]"
   ]
  },
  {
   "cell_type": "code",
   "execution_count": 24,
   "id": "362c9319-21f6-41f0-8a97-7551d28ec37f",
   "metadata": {},
   "outputs": [],
   "source": [
    "train_diff=np.abs(Y-pred_train)"
   ]
  },
  {
   "cell_type": "code",
   "execution_count": 25,
   "id": "0952d69c-f332-4e09-a1c2-b9de4ec5d4d5",
   "metadata": {},
   "outputs": [
    {
     "data": {
      "text/plain": [
       "tensor(0.27076842, requires_grad=True)"
      ]
     },
     "execution_count": 25,
     "metadata": {},
     "output_type": "execute_result"
    }
   ],
   "source": [
    "np.max(train_diff)"
   ]
  },
  {
   "cell_type": "code",
   "execution_count": 26,
   "id": "0b048c53-6713-411b-a58b-fca2fc4371c5",
   "metadata": {},
   "outputs": [
    {
     "data": {
      "text/plain": [
       "tensor(1.22874173e-05, requires_grad=True)"
      ]
     },
     "execution_count": 26,
     "metadata": {},
     "output_type": "execute_result"
    }
   ],
   "source": [
    "np.min(train_diff)"
   ]
  },
  {
   "cell_type": "code",
   "execution_count": 27,
   "id": "371bd7bf-f1be-4586-8255-b750877cc2ee",
   "metadata": {},
   "outputs": [
    {
     "data": {
      "text/plain": [
       "tensor(0.03749004, requires_grad=True)"
      ]
     },
     "execution_count": 27,
     "metadata": {},
     "output_type": "execute_result"
    }
   ],
   "source": [
    "np.mean(train_diff)"
   ]
  },
  {
   "cell_type": "markdown",
   "id": "da85e20d-acb1-4a0c-8b6c-4bb40aad8d1a",
   "metadata": {},
   "source": [
    "## Test error"
   ]
  },
  {
   "cell_type": "code",
   "execution_count": 28,
   "id": "73b5810b-b3c7-4c9d-9356-bf60e81e4149",
   "metadata": {},
   "outputs": [],
   "source": [
    "test1,test2,test3=np.meshgrid(np.linspace(-0.95,0.95,30),np.linspace(-0.95,0.95,30),np.linspace(-0.95,0.95,30))\n",
    "test1_flatten=test1.flatten()\n",
    "test2_flatten=test2.flatten()\n",
    "test3_flatten=test3.flatten()\n",
    "Y_test=my_objective(test1_flatten,test2_flatten,test3_flatten)\n",
    "pred_test=[classical_quantum_net(theta,w,x) for x in zip(test1_flatten,test2_flatten,test3_flatten)]"
   ]
  },
  {
   "cell_type": "code",
   "execution_count": 29,
   "id": "d41bc991-d320-4d67-a4aa-4201704dff58",
   "metadata": {},
   "outputs": [],
   "source": [
    "test_diff=np.abs(Y_test-pred_test)"
   ]
  },
  {
   "cell_type": "code",
   "execution_count": 30,
   "id": "d83fa588-33da-407f-be9c-bc8001ed7a7c",
   "metadata": {},
   "outputs": [
    {
     "data": {
      "text/plain": [
       "tensor(0.37038266, requires_grad=True)"
      ]
     },
     "execution_count": 30,
     "metadata": {},
     "output_type": "execute_result"
    }
   ],
   "source": [
    "np.max(test_diff)"
   ]
  },
  {
   "cell_type": "code",
   "execution_count": 31,
   "id": "9eddcf16-7af1-41c0-bbde-26bd1c0efa48",
   "metadata": {},
   "outputs": [
    {
     "data": {
      "text/plain": [
       "tensor(5.8766834e-08, requires_grad=True)"
      ]
     },
     "execution_count": 31,
     "metadata": {},
     "output_type": "execute_result"
    }
   ],
   "source": [
    "np.min(test_diff)"
   ]
  },
  {
   "cell_type": "code",
   "execution_count": 32,
   "id": "8b96dd7f-e801-4c80-8a54-d944f66010ec",
   "metadata": {},
   "outputs": [
    {
     "data": {
      "text/plain": [
       "tensor(0.04083191, requires_grad=True)"
      ]
     },
     "execution_count": 32,
     "metadata": {},
     "output_type": "execute_result"
    }
   ],
   "source": [
    "np.mean(test_diff)"
   ]
  },
  {
   "cell_type": "code",
   "execution_count": 33,
   "id": "d44e1e2f-29f1-4ae5-b616-026ffea971fa",
   "metadata": {},
   "outputs": [
    {
     "name": "stdout",
     "output_type": "stream",
     "text": [
      "[[ 3.60274368  4.72870467  4.49417372]\n",
      " [ 6.80200921  5.83940347 -0.07342025]\n",
      " [ 6.12625035  0.63904894  0.04285385]\n",
      " [ 3.7176137  -0.12860071  3.19407229]]\n"
     ]
    }
   ],
   "source": [
    "print(theta)"
   ]
  },
  {
   "cell_type": "markdown",
   "id": "33baeab7-ea6b-402d-8a00-46c6deef5c7a",
   "metadata": {},
   "source": [
    "## Randomly generate test dataset"
   ]
  },
  {
   "cell_type": "code",
   "execution_count": 34,
   "id": "d4cb23b6-4010-44ac-af8c-1e250a720c63",
   "metadata": {},
   "outputs": [],
   "source": [
    "number=27000\n",
    "Test=np.random.uniform(-0.95,0.95,size=(number,3))"
   ]
  },
  {
   "cell_type": "code",
   "execution_count": 35,
   "id": "43585179-865c-4fe5-b491-7574763cb0a0",
   "metadata": {},
   "outputs": [
    {
     "data": {
      "text/plain": [
       "(27000, 3)"
      ]
     },
     "execution_count": 35,
     "metadata": {},
     "output_type": "execute_result"
    }
   ],
   "source": [
    "Test.shape"
   ]
  },
  {
   "cell_type": "code",
   "execution_count": 36,
   "id": "7577a22e-2868-47a3-a416-047ca2f7dc88",
   "metadata": {},
   "outputs": [
    {
     "name": "stdout",
     "output_type": "stream",
     "text": [
      "(27000,)\n"
     ]
    }
   ],
   "source": [
    "Y_Test=my_objective(Test[:,0],Test[:,1],Test[:,2])\n",
    "print(Y_test.shape)"
   ]
  },
  {
   "cell_type": "code",
   "execution_count": 37,
   "id": "28eda158-4a06-43d9-86e5-671ad843c611",
   "metadata": {},
   "outputs": [],
   "source": [
    "pred_Test=[classical_quantum_net(theta,w,x) for x in Test]"
   ]
  },
  {
   "cell_type": "code",
   "execution_count": 38,
   "id": "7901c7dc-356e-47e4-a2a4-69b94023cc4e",
   "metadata": {},
   "outputs": [],
   "source": [
    "Test_diff=np.abs(Y_Test-pred_Test)"
   ]
  },
  {
   "cell_type": "code",
   "execution_count": 39,
   "id": "099e6ed7-e017-44e9-a42f-28c7b4034fbb",
   "metadata": {},
   "outputs": [
    {
     "data": {
      "text/plain": [
       "tensor(0.3459091, requires_grad=True)"
      ]
     },
     "execution_count": 39,
     "metadata": {},
     "output_type": "execute_result"
    }
   ],
   "source": [
    "np.max(Test_diff)"
   ]
  },
  {
   "cell_type": "code",
   "execution_count": 40,
   "id": "fe34aef7-c99b-4e6e-9e01-907d4ebf1ce0",
   "metadata": {},
   "outputs": [
    {
     "data": {
      "text/plain": [
       "tensor(1.41515283e-07, requires_grad=True)"
      ]
     },
     "execution_count": 40,
     "metadata": {},
     "output_type": "execute_result"
    }
   ],
   "source": [
    "np.min(Test_diff)"
   ]
  },
  {
   "cell_type": "code",
   "execution_count": 41,
   "id": "b0dfcae3-0719-4179-9429-d3534ecf2b61",
   "metadata": {},
   "outputs": [
    {
     "data": {
      "text/plain": [
       "tensor(0.03837082, requires_grad=True)"
      ]
     },
     "execution_count": 41,
     "metadata": {},
     "output_type": "execute_result"
    }
   ],
   "source": [
    "np.mean(Test_diff)"
   ]
  },
  {
   "cell_type": "code",
   "execution_count": null,
   "id": "6c0e89ab-ae26-4364-9ea9-216e2f9c9788",
   "metadata": {},
   "outputs": [],
   "source": []
  }
 ],
 "metadata": {
  "kernelspec": {
   "display_name": "Python 3 (ipykernel)",
   "language": "python",
   "name": "python3"
  },
  "language_info": {
   "codemirror_mode": {
    "name": "ipython",
    "version": 3
   },
   "file_extension": ".py",
   "mimetype": "text/x-python",
   "name": "python",
   "nbconvert_exporter": "python",
   "pygments_lexer": "ipython3",
   "version": "3.9.12"
  }
 },
 "nbformat": 4,
 "nbformat_minor": 5
}
