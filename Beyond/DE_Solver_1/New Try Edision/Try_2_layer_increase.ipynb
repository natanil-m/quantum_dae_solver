{
 "cells": [
  {
   "cell_type": "code",
   "execution_count": 1,
   "metadata": {},
   "outputs": [],
   "source": [
    "from math import pi\n",
    "import matplotlib.pyplot as plt\n",
    "from pennylane import numpy as np\n",
    "import pennylane as qml\n",
    "from pennylane.optimize import AdamOptimizer\n",
    "import datetime\n",
    "now=datetime.datetime.now"
   ]
  },
  {
   "cell_type": "code",
   "execution_count": 2,
   "metadata": {},
   "outputs": [
    {
     "name": "stdout",
     "output_type": "stream",
     "text": [
      "55\n"
     ]
    }
   ],
   "source": [
    "num_qubits=2\n",
    "dev=qml.device('default.qubit', wires=num_qubits)\n",
    "seed = 55\n",
    "np.random.seed(seed)\n",
    "print(seed)"
   ]
  },
  {
   "cell_type": "code",
   "execution_count": 3,
   "metadata": {},
   "outputs": [],
   "source": [
    "# Boundary condition \n",
    "coefii = 10\n",
    "\n",
    "# del_0 = 0  #del\n",
    "# omega_0 = 0     #w\n",
    "del_0_v = -1/coefii\n",
    "omega_0_v = 383.9911/coefii"
   ]
  },
  {
   "cell_type": "code",
   "execution_count": 4,
   "metadata": {},
   "outputs": [],
   "source": [
    "# Differential equation parameters\n",
    "ws = 376.9911\n",
    "\n",
    "# ws = 0.376\n",
    "# coefii = ws/4\n",
    "K1 = 5/coefii\n",
    "K2 = 10/coefii\n",
    "K3 = 1.7/coefii\n",
    "ws = ws/coefii\n",
    "\n",
    "def F_E1(delta_prime, delta,omega_prime,omega, t):       # DE, works with numpy arrays\n",
    "    return (delta_prime+ws-omega)\n",
    "    # return X_prime+ws-Y \n",
    "\n",
    "def F_E2(delta_prime, delta,omega_prime,omega, t):       # DE, works with numpy arrays\n",
    "    # return Y_prime\n",
    "    return omega_prime-K1+K2*np.sin(coefii*delta)+K3*(-ws+omega)*coefii"
   ]
  },
  {
   "cell_type": "code",
   "execution_count": 5,
   "metadata": {},
   "outputs": [],
   "source": [
    "# # Differential equation's exact solution - for comparison\n",
    "# def X_t(t):\n",
    "#     # return X_0_v*np.cos(t)+(3*X_0_v+2*Y_0_v)*np.sin(t)\n",
    "#     return 0\n",
    "\n",
    "# def Y_t(t):\n",
    "#     return 0"
   ]
  },
  {
   "cell_type": "code",
   "execution_count": 6,
   "metadata": {},
   "outputs": [],
   "source": [
    "# t=np.random.uniform(0,1,size=50,requires_grad=False)\n",
    "t = [0.0, 0.02040816326530612, 0.04081632653061224, 0.061224489795918366, 0.08163265306122448, 0.10204081632653061, 0.12244897959183673, 0.14285714285714285, 0.16326530612244897, 0.1836734693877551, 0.20408163265306123, 0.22448979591836735, 0.24489795918367346, 0.2653061224489796, 0.2857142857142857, 0.30612244897959184, 0.32653061224489793, 0.3469387755102041, 0.3673469387755102, 0.3877551020408163, 0.40816326530612246, 0.42857142857142855, 0.4489795918367347, 0.46938775510204084, 0.4897959183673469, 0.5102040816326531, 0.5306122448979592, 0.5510204081632653, 0.5714285714285714, 0.5918367346938775, 0.6122448979591837, 0.6326530612244898, 0.6530612244897959, 0.673469387755102, 0.6938775510204082, 0.7142857142857143, 0.7346938775510204, 0.7551020408163265, 0.7755102040816326, 0.7959183673469388, 0.8163265306122449, 0.8367346938775511, 0.8571428571428571, 0.8775510204081632, 0.8979591836734694, 0.9183673469387755, 0.9387755102040817, 0.9591836734693877, 0.9795918367346939, 1.0]\n"
   ]
  },
  {
   "cell_type": "code",
   "execution_count": 7,
   "metadata": {},
   "outputs": [],
   "source": [
    "# define embedding layer\n",
    "def embedding(x,wires):\n",
    "    qml.RY(x, wires=wires[1])"
   ]
  },
  {
   "cell_type": "code",
   "execution_count": 8,
   "metadata": {},
   "outputs": [],
   "source": [
    "def Ham():\n",
    "    obs=[]\n",
    "    for j in range(num_qubits):\n",
    "        obs.append(qml.PauliX(j))\n",
    "        for k in range(j):\n",
    "            obs.append(qml.PauliZ(j)@qml.PauliZ(k))\n",
    "    coeffs=np.random.uniform(-1,1,len(obs))*10\n",
    "    qml.Hamiltonian(coeffs, obs)"
   ]
  },
  {
   "cell_type": "code",
   "execution_count": 9,
   "metadata": {},
   "outputs": [],
   "source": [
    "# define ansastz layer\n",
    "def layer(theta):\n",
    "    \n",
    "    # Apply Hamiltonian matrix\n",
    "    Ham()\n",
    "    \n",
    "    # Apply H gate\n",
    "    qml.Hadamard(0)\n",
    "    \n",
    "    # rotations on qubit 1\n",
    "    qml.RY(theta,wires=1)\n",
    "    \n",
    "    # CNOT\n",
    "    qml.CNOT(wires=[0, 1])"
   ]
  },
  {
   "cell_type": "code",
   "execution_count": 10,
   "metadata": {},
   "outputs": [],
   "source": [
    "@qml.qnode(dev, diff_method=\"backprop\", interface=\"autograd\")\n",
    "def quantum_net(theta,x):\n",
    "    \n",
    "    # encode data\n",
    "    embedding(x,wires=range(num_qubits))\n",
    "    \n",
    "    # parameterized circuit layers\n",
    "    for v in theta: # (for lool along with the first dimension)\n",
    "        # print(v)\n",
    "        # Ham()\n",
    "        layer(v)\n",
    "    \n",
    "    qml.Hadamard(0)\n",
    "    \n",
    "    # return qml.expval(qml.PauliZ(0)),qml.expval(qml.PauliZ(1))\n",
    "    return qml.expval(qml.PauliZ(0))"
   ]
  },
  {
   "cell_type": "code",
   "execution_count": 11,
   "metadata": {},
   "outputs": [
    {
     "name": "stdout",
     "output_type": "stream",
     "text": [
      "0: ──H────────────────╭●──H──────╭●──H──────╭●──H──────╭●──H──────╭●──H──────╭●──H──────╭●──H─────\n",
      "1: ──RY(0.00)──RY(M0)─╰X──RY(M1)─╰X──RY(M2)─╰X──RY(M3)─╰X──RY(M4)─╰X──RY(M5)─╰X──RY(M6)─╰X──RY(M7)\n",
      "\n",
      "──╭●──H─┤  <Z>\n",
      "──╰X────┤     \n",
      "M0 = \n",
      "[0.58501662]\n",
      "M1 = \n",
      "[6.1050942]\n",
      "M2 = \n",
      "[3.04018192]\n",
      "M3 = \n",
      "[1.52381507]\n",
      "M4 = \n",
      "[3.33714944]\n",
      "M5 = \n",
      "[1.79412734]\n",
      "M6 = \n",
      "[5.42006651]\n",
      "M7 = \n",
      "[0.25823988]\n"
     ]
    }
   ],
   "source": [
    "num_layers=8\n",
    "theta1=np.random.uniform(0,2*pi,size=(num_layers,num_qubits-1),requires_grad=True)\n",
    "# theta2=np.random.uniform(0,2*pi,size=(num_layers,num_qubits-1),requires_grad=True)\n",
    "# theta = np.load('my_theta1.npy')\n",
    "print(qml.draw(quantum_net)(theta1,0))"
   ]
  },
  {
   "cell_type": "code",
   "execution_count": 12,
   "metadata": {},
   "outputs": [],
   "source": [
    "# add the classical layer   #TODO\n",
    "def classical_quantum_net(theta,w,t):\n",
    "\n",
    "    r1=quantum_net(theta,t)[0]\n",
    "    # r2=quantum_net(theta,x)[1]\n",
    "    # return w[0]+w[1]*r1+w[2]*r1**2+w[3]*r2+w[4]*r2**2\n",
    "    return w[0]+w[1]*r1+w[2]*r1**2\n",
    "    # r1=quantum_net(theta,x)\n",
    "    return r1"
   ]
  },
  {
   "cell_type": "code",
   "execution_count": 13,
   "metadata": {},
   "outputs": [],
   "source": [
    "# add the classical layer   #TODO\n",
    "def classical_quantum_net_efficient(r1,w):\n",
    "    return w[0]+w[1]*r1+w[2]*r1**2"
   ]
  },
  {
   "cell_type": "code",
   "execution_count": 14,
   "metadata": {},
   "outputs": [],
   "source": [
    "def classical_quantum_net_prime(theta,w,t):\n",
    "\n",
    "\n",
    "\n",
    "    r1=quantum_net(theta,t)[0]\n",
    "\n",
    "    r1_prime = qml.grad(quantum_net,argnum=1)(theta,np.tensor(t)) \n",
    "    # r2=quantum_net(theta,x)[1]\n",
    "    # return w[0]+w[1]*r1+w[2]*r1**2+w[3]*r2+w[4]*r2**2\n",
    "    return w[1]*r1_prime+2*w[2]*r1_prime*r1\n"
   ]
  },
  {
   "cell_type": "code",
   "execution_count": 15,
   "metadata": {},
   "outputs": [],
   "source": [
    "def classical_quantum_net_double_prime(theta,w,t):\n",
    "\n",
    "   r1=quantum_net(theta,t)[0]\n",
    "   r1_prime = qml.grad(quantum_net,argnum=1)(theta,np.tensor(t)) \n",
    "\n",
    "\n",
    "   #Calculate double prime\n",
    "   F_pos_pos_pi = quantum_net(theta,t+np.pi)[0]\n",
    "   F_phi = quantum_net(theta,t)[0]\n",
    "   F_phi_neg_pi = quantum_net(theta,t-np.pi)[0]\n",
    "   r1_double_prime = (1/4)*(F_pos_pos_pi-2*F_phi+F_phi_neg_pi)\n",
    "\n",
    "\n",
    "   return w[1]*r1_double_prime+2*w[2]*(r1_prime*r1_prime+r1*r1_double_prime)"
   ]
  },
  {
   "cell_type": "code",
   "execution_count": 16,
   "metadata": {},
   "outputs": [],
   "source": [
    "# def square_loss(labels,predictions):\n",
    "#     loss=0\n",
    "#     for l,p in zip(labels,predictions):\n",
    "#         loss=loss+(l-p)**2\n",
    "#     loss=loss/len(labels)\n",
    "#     return loss"
   ]
  },
  {
   "cell_type": "code",
   "execution_count": 17,
   "metadata": {},
   "outputs": [],
   "source": [
    "# #loss boundary\n",
    "# def loss_b(U_predict):\n",
    "    \n",
    "    "
   ]
  },
  {
   "cell_type": "code",
   "execution_count": 18,
   "metadata": {},
   "outputs": [],
   "source": [
    "# def cost(theta1,theta2,w1,w2,t):\n",
    "\n",
    "#     # loss inner points\n",
    "#     loss_i = 0\n",
    "\n",
    "#     X_t_pred = np.array([classical_quantum_net(theta=theta1,w=w1,t=point) for point in t])\n",
    "#     X_t_prime = np.array([classical_quantum_net_prime(theta=theta1,w=w1,t=point) for point in t])\n",
    "    \n",
    "#     Y_t_pred = X_t_pred+ws\n",
    "#     # Y_t_prime = np.array([classical_quantum_net_prime(theta=theta2,w=w2,t=point) for point in t])\n",
    "#     Y_t_prime = np.array([classical_quantum_net_double_prime(theta=theta1,w=w1,t=point) for point in t])\n",
    "\n",
    "#     loss_i += np.mean(F_E1(X=X_t_pred,Y=Y_t_pred,X_prime=X_t_prime,Y_prime=Y_t_prime,t=t)**2)\n",
    "#     loss_i += np.mean(F_E2(X=X_t_pred,Y=Y_t_pred,X_prime=X_t_prime,Y_prime=Y_t_prime,t=t)**2)\n",
    "\n",
    "#     # # loss boundary points\n",
    "#     # loss_b = 0\n",
    "#     # X_0_pred = classical_quantum_net(theta1,w1,0)\n",
    "#     # Y_0_pred = classical_quantum_net(theta2,w2,0)\n",
    "\n",
    "#     # # print(U_0)\n",
    "#     # loss_b += (X_0_v-X_0_pred)**2+(Y_0_v-Y_0_pred)**2\n",
    "#     # return 0.2*loss_b + 0.8*loss_i\n",
    "#     return loss_i"
   ]
  },
  {
   "cell_type": "code",
   "execution_count": 19,
   "metadata": {},
   "outputs": [],
   "source": [
    "# def cost_efficient(theta1,w1,t):\n",
    "#     # loss inner points\n",
    "#     loss_i = 0\n",
    "#     # print('-------')\n",
    "#     r1 = np.array([quantum_net(theta1,t)[0] for t in t])\n",
    "\n",
    "#     # print(r1)\n",
    "\n",
    "#     r1_prime = np.array([qml.grad(quantum_net,argnum=1)(theta1,np.tensor(t)) for t in t])\n",
    "#     #Calculate double prime\n",
    "#     F_pos_pos_pi = np.array([quantum_net(theta1,t+np.pi)[0] for t in t])\n",
    "#     # print(len(F_pos_pos_pi))\n",
    "#     F_phi = r1\n",
    "#     F_phi_neg_pi = np.array([quantum_net(theta1,t-np.pi)[0] for t in t])\n",
    "#     r1_double_prime = (1/4)*(F_pos_pos_pi-2*F_phi+F_phi_neg_pi)\n",
    "\n",
    "#     # print(r1)\n",
    "#     # print(r1_prime)\n",
    "#     # print(r1_double_prime)\n",
    "\n",
    "#     X_t_pred = classical_quantum_net_efficient(r1=theta1,w=w1)\n",
    "#     X_t_prime = classical_quantum_net_prime_efficient(r1=theta1,r1_prime=r1_prime,w=w1)\n",
    "    \n",
    "#     Y_t_pred = X_t_prime+ws\n",
    "#     # Y_t_prime = np.array([classical_quantum_net_prime(theta=theta2,w=w2,t=point) for point in t])\n",
    "#     Y_t_prime = classical_quantum_net_double_prime_efficient(r1=theta1,r1_prime=r1_prime,r1_double_prime=r1_double_prime,w=w1)\n",
    "\n",
    "#     loss_i += np.mean(F_E1(X=X_t_pred,Y=Y_t_pred,X_prime=X_t_prime,Y_prime=Y_t_prime,t=t)**2)\n",
    "#     loss_i += np.mean(F_E2(X=X_t_pred,Y=Y_t_pred,X_prime=X_t_prime,Y_prime=Y_t_prime,t=t)**2)\n",
    "\n",
    "#     # # loss boundary points\n",
    "#     loss_b = 0\n",
    "#     X_0_pred = classical_quantum_net(theta1,w1,0)\n",
    "#     Y_0_pred = classical_quantum_net_prime(theta1,w1,0)+ws\n",
    "\n",
    "#     # # print(U_0)\n",
    "#     loss_b += (X_0_v-X_0_pred)**2+(Y_0_v-Y_0_pred)**2\n",
    "#     # return loss_b + loss_i\n",
    "#     return 0.2*loss_b + 0.8*loss_i\n",
    "\n",
    "    # return loss_i"
   ]
  },
  {
   "cell_type": "code",
   "execution_count": 20,
   "metadata": {},
   "outputs": [],
   "source": [
    "def cost(theta1,w1,t):\n",
    "\n",
    "    # loss inner points\n",
    "    loss_i = 0\n",
    "\n",
    "    del_t_pred = np.array([classical_quantum_net(theta=theta1,w=w1,t=point) for point in t])\n",
    "    del_t_prime = np.array([classical_quantum_net_prime(theta=theta1,w=w1,t=point) for point in t])\n",
    "    \n",
    "    omega_t_pred = del_t_prime+ws\n",
    "    # Y_t_prime = np.array([classical_quantum_net_prime(theta=theta2,w=w2,t=point) for point in t])\n",
    "    omega_t_prime = np.array([classical_quantum_net_double_prime(theta=theta1,w=w1,t=point) for point in t])\n",
    "\n",
    "    loss_i += np.mean(F_E1(delta=del_t_pred,omega=omega_t_pred,delta_prime=del_t_prime,omega_prime=omega_t_prime,t=t)**2)\n",
    "    loss_i += np.mean(F_E2(delta=del_t_pred,omega=omega_t_pred,delta_prime=del_t_prime,omega_prime=omega_t_prime,t=t)**2)\n",
    "\n",
    "    # # loss boundary points\n",
    "    loss_b = 0\n",
    "    del_0_pred = classical_quantum_net(theta1,w1,0)\n",
    "    omega_0_pred = classical_quantum_net_prime(theta1,w1,0)+ws\n",
    "\n",
    "    # # print(U_0)\n",
    "    loss_b += (del_0_v-del_0_pred)**2+(omega_0_v-omega_0_pred)**2\n",
    "    return 2*loss_b + loss_i\n",
    "    # return 0.2*loss_b + 0.8*loss_i\n",
    "\n",
    "    return loss_i"
   ]
  },
  {
   "cell_type": "code",
   "execution_count": 21,
   "metadata": {},
   "outputs": [],
   "source": [
    "w1=np.zeros(3,requires_grad=True)\n",
    "# w2=np.zeros(3,requires_grad=True)\n",
    "opt = AdamOptimizer(0.05, beta1=0.9, beta2=0.999)"
   ]
  },
  {
   "cell_type": "code",
   "execution_count": 22,
   "metadata": {},
   "outputs": [
    {
     "name": "stdout",
     "output_type": "stream",
     "text": [
      "2023-08-16 13:01:52.001193\n"
     ]
    }
   ],
   "source": [
    "start=now()\n",
    "print(start)"
   ]
  },
  {
   "cell_type": "code",
   "execution_count": null,
   "metadata": {},
   "outputs": [],
   "source": []
  },
  {
   "cell_type": "code",
   "execution_count": 23,
   "metadata": {},
   "outputs": [
    {
     "name": "stdout",
     "output_type": "stream",
     "text": [
      "Epoch: 1 | Cost: 1.249999999999988\n",
      "Epoch: 2 | Cost: 1.0165412938137355\n",
      "Epoch: 3 | Cost: 1.0587883327110146\n",
      "Epoch: 4 | Cost: 1.0214614325669176\n",
      "Epoch: 5 | Cost: 0.8893027985029855\n",
      "Epoch: 6 | Cost: 0.9593941137333286\n",
      "Epoch: 7 | Cost: 0.8436726422095474\n",
      "Epoch: 8 | Cost: 0.8085740667392352\n",
      "Epoch: 9 | Cost: 0.8276999237127336\n",
      "Epoch: 10 | Cost: 0.8128527571951354\n",
      "Epoch: 11 | Cost: 0.7772470120458159\n",
      "Epoch: 12 | Cost: 0.7259254030456983\n",
      "Epoch: 13 | Cost: 0.6553358004901357\n",
      "Epoch: 14 | Cost: 0.5855209239746576\n",
      "Epoch: 15 | Cost: 0.5809287736665979\n",
      "Epoch: 16 | Cost: 0.5490461283044397\n",
      "Epoch: 17 | Cost: 0.4650285505941238\n",
      "Epoch: 18 | Cost: 0.4294500238519416\n",
      "Epoch: 19 | Cost: 0.4185310082041408\n",
      "Epoch: 20 | Cost: 0.40206050386438297\n",
      "Epoch: 21 | Cost: 0.36229362138164845\n",
      "Epoch: 22 | Cost: 0.3141621925723469\n",
      "Epoch: 23 | Cost: 0.2884962408362\n",
      "Epoch: 24 | Cost: 0.26879698289373033\n",
      "Epoch: 25 | Cost: 0.23400119045419332\n",
      "Epoch: 26 | Cost: 0.2153761828646623\n",
      "Epoch: 27 | Cost: 0.2201759899543307\n",
      "Epoch: 28 | Cost: 0.2041048090033165\n",
      "Epoch: 29 | Cost: 0.18522772770961343\n",
      "Epoch: 30 | Cost: 0.18111933829641136\n",
      "Epoch: 31 | Cost: 0.16759035951223666\n",
      "Epoch: 32 | Cost: 0.16582873087401226\n",
      "Epoch: 33 | Cost: 0.17084562799157174\n",
      "Epoch: 34 | Cost: 0.16328045344914538\n",
      "Epoch: 35 | Cost: 0.16262966623233632\n",
      "Epoch: 36 | Cost: 0.16404382978962534\n",
      "Epoch: 37 | Cost: 0.15847936390677125\n",
      "Epoch: 38 | Cost: 0.15718951700599632\n",
      "Epoch: 39 | Cost: 0.15913543090745655\n",
      "Epoch: 40 | Cost: 0.15512166936110322\n",
      "Epoch: 41 | Cost: 0.1552215705726545\n",
      "Epoch: 42 | Cost: 0.1565082178317723\n",
      "Epoch: 43 | Cost: 0.15372926948782545\n",
      "Epoch: 44 | Cost: 0.1545910991542664\n",
      "Epoch: 45 | Cost: 0.15617613991350357\n",
      "Epoch: 46 | Cost: 0.1552581765323117\n",
      "Epoch: 47 | Cost: 0.15661337147901228\n",
      "Epoch: 48 | Cost: 0.15595390507556106\n",
      "Epoch: 49 | Cost: 0.15588883005709564\n",
      "Epoch: 50 | Cost: 0.15745762545115988\n",
      "Epoch: 51 | Cost: 0.1570635049752632\n",
      "Epoch: 52 | Cost: 0.1571559569660463\n",
      "Epoch: 53 | Cost: 0.1568749091225641\n",
      "Epoch: 54 | Cost: 0.15620787200722525\n",
      "Epoch: 55 | Cost: 0.1568101526290108\n",
      "Epoch: 56 | Cost: 0.15641728794790896\n",
      "Epoch: 57 | Cost: 0.15584276193353283\n",
      "Epoch: 58 | Cost: 0.15543047256927756\n",
      "Epoch: 59 | Cost: 0.1548457169099536\n",
      "Epoch: 60 | Cost: 0.1548814371546034\n",
      "Epoch: 61 | Cost: 0.15460297042633678\n",
      "Epoch: 62 | Cost: 0.15407671043771443\n",
      "Epoch: 63 | Cost: 0.15379802388298655\n",
      "Epoch: 64 | Cost: 0.15346802117465705\n",
      "Epoch: 65 | Cost: 0.15344282183005042\n",
      "Epoch: 66 | Cost: 0.15345208995111084\n",
      "Epoch: 67 | Cost: 0.1532224431896691\n",
      "Epoch: 68 | Cost: 0.15313252616144818\n",
      "Epoch: 69 | Cost: 0.15303988193608212\n",
      "Epoch: 70 | Cost: 0.15301790372108778\n",
      "Epoch: 71 | Cost: 0.15313054244990423\n",
      "Epoch: 72 | Cost: 0.15312706146750543\n",
      "Epoch: 73 | Cost: 0.15312707214392218\n",
      "Epoch: 74 | Cost: 0.153131631001606\n",
      "Epoch: 75 | Cost: 0.15310300376970007\n",
      "Epoch: 76 | Cost: 0.15316397649366237\n",
      "Epoch: 77 | Cost: 0.1532062524746648\n",
      "Epoch: 78 | Cost: 0.1532193762501564\n",
      "Epoch: 79 | Cost: 0.15323365641214626\n",
      "Epoch: 80 | Cost: 0.15319439588978614\n",
      "Epoch: 81 | Cost: 0.1531830713443053\n",
      "Epoch: 82 | Cost: 0.15318743830129536\n",
      "Epoch: 83 | Cost: 0.15317891906979245\n",
      "Epoch: 84 | Cost: 0.1531842947837759\n",
      "Epoch: 85 | Cost: 0.15315466836425046\n",
      "Epoch: 86 | Cost: 0.15312135365998536\n",
      "Epoch: 87 | Cost: 0.15309790512180682\n",
      "Epoch: 88 | Cost: 0.15307279309533553\n",
      "Epoch: 89 | Cost: 0.15307038250988456\n",
      "Epoch: 90 | Cost: 0.15305472075909543\n",
      "Epoch: 91 | Cost: 0.15303360329611182\n",
      "Epoch: 92 | Cost: 0.15301518217639373\n",
      "Epoch: 93 | Cost: 0.1529943266266124\n",
      "Epoch: 94 | Cost: 0.15299284170151378\n",
      "Epoch: 95 | Cost: 0.15298868057179177\n",
      "Epoch: 96 | Cost: 0.15298449980152495\n",
      "Epoch: 97 | Cost: 0.15297921866867742\n",
      "Epoch: 98 | Cost: 0.15297068901387545\n",
      "Epoch: 99 | Cost: 0.15297404866600522\n",
      "Epoch: 100 | Cost: 0.15297593748638366\n"
     ]
    },
    {
     "ename": "KeyboardInterrupt",
     "evalue": "",
     "output_type": "error",
     "traceback": [
      "\u001b[1;31m---------------------------------------------------------------------------\u001b[0m",
      "\u001b[1;31mKeyboardInterrupt\u001b[0m                         Traceback (most recent call last)",
      "Cell \u001b[1;32mIn[23], line 13\u001b[0m\n\u001b[0;32m      6\u001b[0m \u001b[39m# theta1=np.load('theta40.npy')\u001b[39;00m\n\u001b[0;32m      7\u001b[0m \u001b[39m# w1= np.load('w40.npy')\u001b[39;00m\n\u001b[0;32m     10\u001b[0m \u001b[39mfor\u001b[39;00m e \u001b[39min\u001b[39;00m \u001b[39mrange\u001b[39m(\u001b[39m1\u001b[39m,epochs\u001b[39m+\u001b[39m\u001b[39m1\u001b[39m):\n\u001b[0;32m     11\u001b[0m \n\u001b[0;32m     12\u001b[0m     \u001b[39m# (theta1,theta2,w1,w2,_),_cost=opt.step_and_cost(cost,theta1,theta2,w1,w2,t)\u001b[39;00m\n\u001b[1;32m---> 13\u001b[0m     (theta1,w1,_),_cost\u001b[39m=\u001b[39mopt\u001b[39m.\u001b[39;49mstep_and_cost(cost,theta1,w1,t)\n\u001b[0;32m     15\u001b[0m     \u001b[39mif\u001b[39;00m _cost\u001b[39m<\u001b[39mcost_max:\n\u001b[0;32m     16\u001b[0m         cost_max \u001b[39m=\u001b[39m _cost\n",
      "File \u001b[1;32mc:\\Users\\acade\\anaconda3\\envs\\q1\\Lib\\site-packages\\pennylane\\optimize\\gradient_descent.py:59\u001b[0m, in \u001b[0;36mGradientDescentOptimizer.step_and_cost\u001b[1;34m(self, objective_fn, grad_fn, *args, **kwargs)\u001b[0m\n\u001b[0;32m     39\u001b[0m \u001b[39mdef\u001b[39;00m \u001b[39mstep_and_cost\u001b[39m(\u001b[39mself\u001b[39m, objective_fn, \u001b[39m*\u001b[39margs, grad_fn\u001b[39m=\u001b[39m\u001b[39mNone\u001b[39;00m, \u001b[39m*\u001b[39m\u001b[39m*\u001b[39mkwargs):\n\u001b[0;32m     40\u001b[0m \u001b[39m    \u001b[39m\u001b[39m\"\"\"Update trainable arguments with one step of the optimizer and return the corresponding\u001b[39;00m\n\u001b[0;32m     41\u001b[0m \u001b[39m    objective function value prior to the step.\u001b[39;00m\n\u001b[0;32m     42\u001b[0m \n\u001b[1;32m   (...)\u001b[0m\n\u001b[0;32m     56\u001b[0m \u001b[39m        If single arg is provided, list [array] is replaced by array.\u001b[39;00m\n\u001b[0;32m     57\u001b[0m \u001b[39m    \"\"\"\u001b[39;00m\n\u001b[1;32m---> 59\u001b[0m     g, forward \u001b[39m=\u001b[39m \u001b[39mself\u001b[39;49m\u001b[39m.\u001b[39;49mcompute_grad(objective_fn, args, kwargs, grad_fn\u001b[39m=\u001b[39;49mgrad_fn)\n\u001b[0;32m     60\u001b[0m     new_args \u001b[39m=\u001b[39m \u001b[39mself\u001b[39m\u001b[39m.\u001b[39mapply_grad(g, args)\n\u001b[0;32m     62\u001b[0m     \u001b[39mif\u001b[39;00m forward \u001b[39mis\u001b[39;00m \u001b[39mNone\u001b[39;00m:\n",
      "File \u001b[1;32mc:\\Users\\acade\\anaconda3\\envs\\q1\\Lib\\site-packages\\pennylane\\optimize\\gradient_descent.py:117\u001b[0m, in \u001b[0;36mGradientDescentOptimizer.compute_grad\u001b[1;34m(objective_fn, args, kwargs, grad_fn)\u001b[0m\n\u001b[0;32m     99\u001b[0m \u001b[39m\u001b[39m\u001b[39mr\u001b[39m\u001b[39m\"\"\"Compute gradient of the objective function at the given point and return it along with\u001b[39;00m\n\u001b[0;32m    100\u001b[0m \u001b[39mthe objective function forward pass (if available).\u001b[39;00m\n\u001b[0;32m    101\u001b[0m \n\u001b[1;32m   (...)\u001b[0m\n\u001b[0;32m    114\u001b[0m \u001b[39m    will not be evaluted and instead ``None`` will be returned.\u001b[39;00m\n\u001b[0;32m    115\u001b[0m \u001b[39m\"\"\"\u001b[39;00m\n\u001b[0;32m    116\u001b[0m g \u001b[39m=\u001b[39m get_gradient(objective_fn) \u001b[39mif\u001b[39;00m grad_fn \u001b[39mis\u001b[39;00m \u001b[39mNone\u001b[39;00m \u001b[39melse\u001b[39;00m grad_fn\n\u001b[1;32m--> 117\u001b[0m grad \u001b[39m=\u001b[39m g(\u001b[39m*\u001b[39;49margs, \u001b[39m*\u001b[39;49m\u001b[39m*\u001b[39;49mkwargs)\n\u001b[0;32m    118\u001b[0m forward \u001b[39m=\u001b[39m \u001b[39mgetattr\u001b[39m(g, \u001b[39m\"\u001b[39m\u001b[39mforward\u001b[39m\u001b[39m\"\u001b[39m, \u001b[39mNone\u001b[39;00m)\n\u001b[0;32m    120\u001b[0m num_trainable_args \u001b[39m=\u001b[39m \u001b[39msum\u001b[39m(\u001b[39mgetattr\u001b[39m(arg, \u001b[39m\"\u001b[39m\u001b[39mrequires_grad\u001b[39m\u001b[39m\"\u001b[39m, \u001b[39mFalse\u001b[39;00m) \u001b[39mfor\u001b[39;00m arg \u001b[39min\u001b[39;00m args)\n",
      "File \u001b[1;32mc:\\Users\\acade\\anaconda3\\envs\\q1\\Lib\\site-packages\\pennylane\\_grad.py:120\u001b[0m, in \u001b[0;36mgrad.__call__\u001b[1;34m(self, *args, **kwargs)\u001b[0m\n\u001b[0;32m    117\u001b[0m     \u001b[39mself\u001b[39m\u001b[39m.\u001b[39m_forward \u001b[39m=\u001b[39m \u001b[39mself\u001b[39m\u001b[39m.\u001b[39m_fun(\u001b[39m*\u001b[39margs, \u001b[39m*\u001b[39m\u001b[39m*\u001b[39mkwargs)\n\u001b[0;32m    118\u001b[0m     \u001b[39mreturn\u001b[39;00m ()\n\u001b[1;32m--> 120\u001b[0m grad_value, ans \u001b[39m=\u001b[39m grad_fn(\u001b[39m*\u001b[39;49margs, \u001b[39m*\u001b[39;49m\u001b[39m*\u001b[39;49mkwargs)  \u001b[39m# pylint: disable=not-callable\u001b[39;00m\n\u001b[0;32m    121\u001b[0m \u001b[39mself\u001b[39m\u001b[39m.\u001b[39m_forward \u001b[39m=\u001b[39m ans\n\u001b[0;32m    123\u001b[0m \u001b[39mreturn\u001b[39;00m grad_value\n",
      "File \u001b[1;32mc:\\Users\\acade\\anaconda3\\envs\\q1\\Lib\\site-packages\\autograd\\wrap_util.py:20\u001b[0m, in \u001b[0;36munary_to_nary.<locals>.nary_operator.<locals>.nary_f\u001b[1;34m(*args, **kwargs)\u001b[0m\n\u001b[0;32m     18\u001b[0m \u001b[39melse\u001b[39;00m:\n\u001b[0;32m     19\u001b[0m     x \u001b[39m=\u001b[39m \u001b[39mtuple\u001b[39m(args[i] \u001b[39mfor\u001b[39;00m i \u001b[39min\u001b[39;00m argnum)\n\u001b[1;32m---> 20\u001b[0m \u001b[39mreturn\u001b[39;00m unary_operator(unary_f, x, \u001b[39m*\u001b[39;49mnary_op_args, \u001b[39m*\u001b[39;49m\u001b[39m*\u001b[39;49mnary_op_kwargs)\n",
      "File \u001b[1;32mc:\\Users\\acade\\anaconda3\\envs\\q1\\Lib\\site-packages\\pennylane\\_grad.py:138\u001b[0m, in \u001b[0;36mgrad._grad_with_forward\u001b[1;34m(fun, x)\u001b[0m\n\u001b[0;32m    132\u001b[0m \u001b[39m@staticmethod\u001b[39m\n\u001b[0;32m    133\u001b[0m \u001b[39m@unary_to_nary\u001b[39m\n\u001b[0;32m    134\u001b[0m \u001b[39mdef\u001b[39;00m \u001b[39m_grad_with_forward\u001b[39m(fun, x):\n\u001b[0;32m    135\u001b[0m \u001b[39m    \u001b[39m\u001b[39m\"\"\"This function is a replica of ``autograd.grad``, with the only\u001b[39;00m\n\u001b[0;32m    136\u001b[0m \u001b[39m    difference being that it returns both the gradient *and* the forward pass\u001b[39;00m\n\u001b[0;32m    137\u001b[0m \u001b[39m    value.\"\"\"\u001b[39;00m\n\u001b[1;32m--> 138\u001b[0m     vjp, ans \u001b[39m=\u001b[39m _make_vjp(fun, x)\n\u001b[0;32m    140\u001b[0m     \u001b[39mif\u001b[39;00m \u001b[39mnot\u001b[39;00m vspace(ans)\u001b[39m.\u001b[39msize \u001b[39m==\u001b[39m \u001b[39m1\u001b[39m:\n\u001b[0;32m    141\u001b[0m         \u001b[39mraise\u001b[39;00m \u001b[39mTypeError\u001b[39;00m(\n\u001b[0;32m    142\u001b[0m             \u001b[39m\"\u001b[39m\u001b[39mGrad only applies to real scalar-output functions. \u001b[39m\u001b[39m\"\u001b[39m\n\u001b[0;32m    143\u001b[0m             \u001b[39m\"\u001b[39m\u001b[39mTry jacobian, elementwise_grad or holomorphic_grad.\u001b[39m\u001b[39m\"\u001b[39m\n\u001b[0;32m    144\u001b[0m         )\n",
      "File \u001b[1;32mc:\\Users\\acade\\anaconda3\\envs\\q1\\Lib\\site-packages\\autograd\\core.py:10\u001b[0m, in \u001b[0;36mmake_vjp\u001b[1;34m(fun, x)\u001b[0m\n\u001b[0;32m      8\u001b[0m \u001b[39mdef\u001b[39;00m \u001b[39mmake_vjp\u001b[39m(fun, x):\n\u001b[0;32m      9\u001b[0m     start_node \u001b[39m=\u001b[39m VJPNode\u001b[39m.\u001b[39mnew_root()\n\u001b[1;32m---> 10\u001b[0m     end_value, end_node \u001b[39m=\u001b[39m  trace(start_node, fun, x)\n\u001b[0;32m     11\u001b[0m     \u001b[39mif\u001b[39;00m end_node \u001b[39mis\u001b[39;00m \u001b[39mNone\u001b[39;00m:\n\u001b[0;32m     12\u001b[0m         \u001b[39mdef\u001b[39;00m \u001b[39mvjp\u001b[39m(g): \u001b[39mreturn\u001b[39;00m vspace(x)\u001b[39m.\u001b[39mzeros()\n",
      "File \u001b[1;32mc:\\Users\\acade\\anaconda3\\envs\\q1\\Lib\\site-packages\\autograd\\tracer.py:10\u001b[0m, in \u001b[0;36mtrace\u001b[1;34m(start_node, fun, x)\u001b[0m\n\u001b[0;32m      8\u001b[0m \u001b[39mwith\u001b[39;00m trace_stack\u001b[39m.\u001b[39mnew_trace() \u001b[39mas\u001b[39;00m t:\n\u001b[0;32m      9\u001b[0m     start_box \u001b[39m=\u001b[39m new_box(x, t, start_node)\n\u001b[1;32m---> 10\u001b[0m     end_box \u001b[39m=\u001b[39m fun(start_box)\n\u001b[0;32m     11\u001b[0m     \u001b[39mif\u001b[39;00m isbox(end_box) \u001b[39mand\u001b[39;00m end_box\u001b[39m.\u001b[39m_trace \u001b[39m==\u001b[39m start_box\u001b[39m.\u001b[39m_trace:\n\u001b[0;32m     12\u001b[0m         \u001b[39mreturn\u001b[39;00m end_box\u001b[39m.\u001b[39m_value, end_box\u001b[39m.\u001b[39m_node\n",
      "File \u001b[1;32mc:\\Users\\acade\\anaconda3\\envs\\q1\\Lib\\site-packages\\autograd\\wrap_util.py:15\u001b[0m, in \u001b[0;36munary_to_nary.<locals>.nary_operator.<locals>.nary_f.<locals>.unary_f\u001b[1;34m(x)\u001b[0m\n\u001b[0;32m     13\u001b[0m \u001b[39melse\u001b[39;00m:\n\u001b[0;32m     14\u001b[0m     subargs \u001b[39m=\u001b[39m subvals(args, \u001b[39mzip\u001b[39m(argnum, x))\n\u001b[1;32m---> 15\u001b[0m \u001b[39mreturn\u001b[39;00m fun(\u001b[39m*\u001b[39;49msubargs, \u001b[39m*\u001b[39;49m\u001b[39m*\u001b[39;49mkwargs)\n",
      "Cell \u001b[1;32mIn[20], line 11\u001b[0m, in \u001b[0;36mcost\u001b[1;34m(theta1, w1, t)\u001b[0m\n\u001b[0;32m      9\u001b[0m omega_t_pred \u001b[39m=\u001b[39m del_t_prime\u001b[39m+\u001b[39mws\n\u001b[0;32m     10\u001b[0m \u001b[39m# Y_t_prime = np.array([classical_quantum_net_prime(theta=theta2,w=w2,t=point) for point in t])\u001b[39;00m\n\u001b[1;32m---> 11\u001b[0m omega_t_prime \u001b[39m=\u001b[39m np\u001b[39m.\u001b[39marray([classical_quantum_net_double_prime(theta\u001b[39m=\u001b[39;49mtheta1,w\u001b[39m=\u001b[39;49mw1,t\u001b[39m=\u001b[39;49mpoint) \u001b[39mfor\u001b[39;49;00m point \u001b[39min\u001b[39;49;00m t])\n\u001b[0;32m     13\u001b[0m loss_i \u001b[39m+\u001b[39m\u001b[39m=\u001b[39m np\u001b[39m.\u001b[39mmean(F_E1(delta\u001b[39m=\u001b[39mdel_t_pred,omega\u001b[39m=\u001b[39momega_t_pred,delta_prime\u001b[39m=\u001b[39mdel_t_prime,omega_prime\u001b[39m=\u001b[39momega_t_prime,t\u001b[39m=\u001b[39mt)\u001b[39m*\u001b[39m\u001b[39m*\u001b[39m\u001b[39m2\u001b[39m)\n\u001b[0;32m     14\u001b[0m loss_i \u001b[39m+\u001b[39m\u001b[39m=\u001b[39m np\u001b[39m.\u001b[39mmean(F_E2(delta\u001b[39m=\u001b[39mdel_t_pred,omega\u001b[39m=\u001b[39momega_t_pred,delta_prime\u001b[39m=\u001b[39mdel_t_prime,omega_prime\u001b[39m=\u001b[39momega_t_prime,t\u001b[39m=\u001b[39mt)\u001b[39m*\u001b[39m\u001b[39m*\u001b[39m\u001b[39m2\u001b[39m)\n",
      "Cell \u001b[1;32mIn[20], line 11\u001b[0m, in \u001b[0;36m<listcomp>\u001b[1;34m(.0)\u001b[0m\n\u001b[0;32m      9\u001b[0m omega_t_pred \u001b[39m=\u001b[39m del_t_prime\u001b[39m+\u001b[39mws\n\u001b[0;32m     10\u001b[0m \u001b[39m# Y_t_prime = np.array([classical_quantum_net_prime(theta=theta2,w=w2,t=point) for point in t])\u001b[39;00m\n\u001b[1;32m---> 11\u001b[0m omega_t_prime \u001b[39m=\u001b[39m np\u001b[39m.\u001b[39marray([classical_quantum_net_double_prime(theta\u001b[39m=\u001b[39;49mtheta1,w\u001b[39m=\u001b[39;49mw1,t\u001b[39m=\u001b[39;49mpoint) \u001b[39mfor\u001b[39;00m point \u001b[39min\u001b[39;00m t])\n\u001b[0;32m     13\u001b[0m loss_i \u001b[39m+\u001b[39m\u001b[39m=\u001b[39m np\u001b[39m.\u001b[39mmean(F_E1(delta\u001b[39m=\u001b[39mdel_t_pred,omega\u001b[39m=\u001b[39momega_t_pred,delta_prime\u001b[39m=\u001b[39mdel_t_prime,omega_prime\u001b[39m=\u001b[39momega_t_prime,t\u001b[39m=\u001b[39mt)\u001b[39m*\u001b[39m\u001b[39m*\u001b[39m\u001b[39m2\u001b[39m)\n\u001b[0;32m     14\u001b[0m loss_i \u001b[39m+\u001b[39m\u001b[39m=\u001b[39m np\u001b[39m.\u001b[39mmean(F_E2(delta\u001b[39m=\u001b[39mdel_t_pred,omega\u001b[39m=\u001b[39momega_t_pred,delta_prime\u001b[39m=\u001b[39mdel_t_prime,omega_prime\u001b[39m=\u001b[39momega_t_prime,t\u001b[39m=\u001b[39mt)\u001b[39m*\u001b[39m\u001b[39m*\u001b[39m\u001b[39m2\u001b[39m)\n",
      "Cell \u001b[1;32mIn[15], line 4\u001b[0m, in \u001b[0;36mclassical_quantum_net_double_prime\u001b[1;34m(theta, w, t)\u001b[0m\n\u001b[0;32m      1\u001b[0m \u001b[39mdef\u001b[39;00m \u001b[39mclassical_quantum_net_double_prime\u001b[39m(theta,w,t):\n\u001b[0;32m      3\u001b[0m    r1\u001b[39m=\u001b[39mquantum_net(theta,t)[\u001b[39m0\u001b[39m]\n\u001b[1;32m----> 4\u001b[0m    r1_prime \u001b[39m=\u001b[39m qml\u001b[39m.\u001b[39;49mgrad(quantum_net,argnum\u001b[39m=\u001b[39;49m\u001b[39m1\u001b[39;49m)(theta,np\u001b[39m.\u001b[39;49mtensor(t)) \n\u001b[0;32m      7\u001b[0m    \u001b[39m#Calculate double prime\u001b[39;00m\n\u001b[0;32m      8\u001b[0m    F_pos_pos_pi \u001b[39m=\u001b[39m quantum_net(theta,t\u001b[39m+\u001b[39mnp\u001b[39m.\u001b[39mpi)[\u001b[39m0\u001b[39m]\n",
      "File \u001b[1;32mc:\\Users\\acade\\anaconda3\\envs\\q1\\Lib\\site-packages\\pennylane\\_grad.py:120\u001b[0m, in \u001b[0;36mgrad.__call__\u001b[1;34m(self, *args, **kwargs)\u001b[0m\n\u001b[0;32m    117\u001b[0m     \u001b[39mself\u001b[39m\u001b[39m.\u001b[39m_forward \u001b[39m=\u001b[39m \u001b[39mself\u001b[39m\u001b[39m.\u001b[39m_fun(\u001b[39m*\u001b[39margs, \u001b[39m*\u001b[39m\u001b[39m*\u001b[39mkwargs)\n\u001b[0;32m    118\u001b[0m     \u001b[39mreturn\u001b[39;00m ()\n\u001b[1;32m--> 120\u001b[0m grad_value, ans \u001b[39m=\u001b[39m grad_fn(\u001b[39m*\u001b[39;49margs, \u001b[39m*\u001b[39;49m\u001b[39m*\u001b[39;49mkwargs)  \u001b[39m# pylint: disable=not-callable\u001b[39;00m\n\u001b[0;32m    121\u001b[0m \u001b[39mself\u001b[39m\u001b[39m.\u001b[39m_forward \u001b[39m=\u001b[39m ans\n\u001b[0;32m    123\u001b[0m \u001b[39mreturn\u001b[39;00m grad_value\n",
      "File \u001b[1;32mc:\\Users\\acade\\anaconda3\\envs\\q1\\Lib\\site-packages\\autograd\\wrap_util.py:20\u001b[0m, in \u001b[0;36munary_to_nary.<locals>.nary_operator.<locals>.nary_f\u001b[1;34m(*args, **kwargs)\u001b[0m\n\u001b[0;32m     18\u001b[0m \u001b[39melse\u001b[39;00m:\n\u001b[0;32m     19\u001b[0m     x \u001b[39m=\u001b[39m \u001b[39mtuple\u001b[39m(args[i] \u001b[39mfor\u001b[39;00m i \u001b[39min\u001b[39;00m argnum)\n\u001b[1;32m---> 20\u001b[0m \u001b[39mreturn\u001b[39;00m unary_operator(unary_f, x, \u001b[39m*\u001b[39;49mnary_op_args, \u001b[39m*\u001b[39;49m\u001b[39m*\u001b[39;49mnary_op_kwargs)\n",
      "File \u001b[1;32mc:\\Users\\acade\\anaconda3\\envs\\q1\\Lib\\site-packages\\pennylane\\_grad.py:146\u001b[0m, in \u001b[0;36mgrad._grad_with_forward\u001b[1;34m(fun, x)\u001b[0m\n\u001b[0;32m    140\u001b[0m \u001b[39mif\u001b[39;00m \u001b[39mnot\u001b[39;00m vspace(ans)\u001b[39m.\u001b[39msize \u001b[39m==\u001b[39m \u001b[39m1\u001b[39m:\n\u001b[0;32m    141\u001b[0m     \u001b[39mraise\u001b[39;00m \u001b[39mTypeError\u001b[39;00m(\n\u001b[0;32m    142\u001b[0m         \u001b[39m\"\u001b[39m\u001b[39mGrad only applies to real scalar-output functions. \u001b[39m\u001b[39m\"\u001b[39m\n\u001b[0;32m    143\u001b[0m         \u001b[39m\"\u001b[39m\u001b[39mTry jacobian, elementwise_grad or holomorphic_grad.\u001b[39m\u001b[39m\"\u001b[39m\n\u001b[0;32m    144\u001b[0m     )\n\u001b[1;32m--> 146\u001b[0m grad_value \u001b[39m=\u001b[39m vjp(vspace(ans)\u001b[39m.\u001b[39;49mones())\n\u001b[0;32m    147\u001b[0m \u001b[39mreturn\u001b[39;00m grad_value, ans\n",
      "File \u001b[1;32mc:\\Users\\acade\\anaconda3\\envs\\q1\\Lib\\site-packages\\autograd\\core.py:14\u001b[0m, in \u001b[0;36mmake_vjp.<locals>.vjp\u001b[1;34m(g)\u001b[0m\n\u001b[1;32m---> 14\u001b[0m \u001b[39mdef\u001b[39;00m \u001b[39mvjp\u001b[39m(g): \u001b[39mreturn\u001b[39;00m backward_pass(g, end_node)\n",
      "File \u001b[1;32mc:\\Users\\acade\\anaconda3\\envs\\q1\\Lib\\site-packages\\autograd\\core.py:23\u001b[0m, in \u001b[0;36mbackward_pass\u001b[1;34m(g, end_node)\u001b[0m\n\u001b[0;32m     21\u001b[0m     ingrads \u001b[39m=\u001b[39m node\u001b[39m.\u001b[39mvjp(outgrad[\u001b[39m0\u001b[39m])\n\u001b[0;32m     22\u001b[0m     \u001b[39mfor\u001b[39;00m parent, ingrad \u001b[39min\u001b[39;00m \u001b[39mzip\u001b[39m(node\u001b[39m.\u001b[39mparents, ingrads):\n\u001b[1;32m---> 23\u001b[0m         outgrads[parent] \u001b[39m=\u001b[39m add_outgrads(outgrads\u001b[39m.\u001b[39;49mget(parent), ingrad)\n\u001b[0;32m     24\u001b[0m \u001b[39mreturn\u001b[39;00m outgrad[\u001b[39m0\u001b[39m]\n",
      "File \u001b[1;32mc:\\Users\\acade\\anaconda3\\envs\\q1\\Lib\\site-packages\\autograd\\core.py:176\u001b[0m, in \u001b[0;36madd_outgrads\u001b[1;34m(prev_g_flagged, g)\u001b[0m\n\u001b[0;32m    174\u001b[0m \u001b[39melse\u001b[39;00m:\n\u001b[0;32m    175\u001b[0m     \u001b[39mif\u001b[39;00m sparse:\n\u001b[1;32m--> 176\u001b[0m         \u001b[39mreturn\u001b[39;00m sparse_add(vspace(g), \u001b[39mNone\u001b[39;49;00m, g), \u001b[39mTrue\u001b[39;00m\n\u001b[0;32m    177\u001b[0m     \u001b[39melse\u001b[39;00m:\n\u001b[0;32m    178\u001b[0m         \u001b[39mreturn\u001b[39;00m g, \u001b[39mFalse\u001b[39;00m\n",
      "File \u001b[1;32mc:\\Users\\acade\\anaconda3\\envs\\q1\\Lib\\site-packages\\autograd\\tracer.py:44\u001b[0m, in \u001b[0;36mprimitive.<locals>.f_wrapped\u001b[1;34m(*args, **kwargs)\u001b[0m\n\u001b[0;32m     42\u001b[0m parents \u001b[39m=\u001b[39m \u001b[39mtuple\u001b[39m(box\u001b[39m.\u001b[39m_node \u001b[39mfor\u001b[39;00m _     , box \u001b[39min\u001b[39;00m boxed_args)\n\u001b[0;32m     43\u001b[0m argnums \u001b[39m=\u001b[39m \u001b[39mtuple\u001b[39m(argnum    \u001b[39mfor\u001b[39;00m argnum, _   \u001b[39min\u001b[39;00m boxed_args)\n\u001b[1;32m---> 44\u001b[0m ans \u001b[39m=\u001b[39m f_wrapped(\u001b[39m*\u001b[39;49margvals, \u001b[39m*\u001b[39;49m\u001b[39m*\u001b[39;49mkwargs)\n\u001b[0;32m     45\u001b[0m node \u001b[39m=\u001b[39m node_constructor(ans, f_wrapped, argvals, kwargs, argnums, parents)\n\u001b[0;32m     46\u001b[0m \u001b[39mreturn\u001b[39;00m new_box(ans, trace, node)\n",
      "File \u001b[1;32mc:\\Users\\acade\\anaconda3\\envs\\q1\\Lib\\site-packages\\autograd\\tracer.py:48\u001b[0m, in \u001b[0;36mprimitive.<locals>.f_wrapped\u001b[1;34m(*args, **kwargs)\u001b[0m\n\u001b[0;32m     46\u001b[0m     \u001b[39mreturn\u001b[39;00m new_box(ans, trace, node)\n\u001b[0;32m     47\u001b[0m \u001b[39melse\u001b[39;00m:\n\u001b[1;32m---> 48\u001b[0m     \u001b[39mreturn\u001b[39;00m f_raw(\u001b[39m*\u001b[39;49margs, \u001b[39m*\u001b[39;49m\u001b[39m*\u001b[39;49mkwargs)\n",
      "File \u001b[1;32mc:\\Users\\acade\\anaconda3\\envs\\q1\\Lib\\site-packages\\autograd\\core.py:186\u001b[0m, in \u001b[0;36msparse_add\u001b[1;34m(vs, x_prev, x_new)\u001b[0m\n\u001b[0;32m    183\u001b[0m \u001b[39m@primitive\u001b[39m\n\u001b[0;32m    184\u001b[0m \u001b[39mdef\u001b[39;00m \u001b[39msparse_add\u001b[39m(vs, x_prev, x_new):\n\u001b[0;32m    185\u001b[0m     x_prev \u001b[39m=\u001b[39m x_prev \u001b[39mif\u001b[39;00m x_prev \u001b[39mis\u001b[39;00m \u001b[39mnot\u001b[39;00m \u001b[39mNone\u001b[39;00m \u001b[39melse\u001b[39;00m vs\u001b[39m.\u001b[39mzeros()\n\u001b[1;32m--> 186\u001b[0m     \u001b[39mreturn\u001b[39;00m x_new\u001b[39m.\u001b[39;49mmut_add(x_prev)\n",
      "File \u001b[1;32mc:\\Users\\acade\\anaconda3\\envs\\q1\\Lib\\site-packages\\autograd\\numpy\\numpy_vjps.py:698\u001b[0m, in \u001b[0;36muntake.<locals>.mut_add\u001b[1;34m(A)\u001b[0m\n\u001b[0;32m    697\u001b[0m \u001b[39mdef\u001b[39;00m \u001b[39mmut_add\u001b[39m(A):\n\u001b[1;32m--> 698\u001b[0m     onp\u001b[39m.\u001b[39;49madd\u001b[39m.\u001b[39;49mat(A, idx, x)\n\u001b[0;32m    699\u001b[0m     \u001b[39mreturn\u001b[39;00m A\n",
      "\u001b[1;31mKeyboardInterrupt\u001b[0m: "
     ]
    }
   ],
   "source": [
    "epochs=300\n",
    "cost_max = 10000\n",
    "theta1_best = None\n",
    "w1_best = None\n",
    "\n",
    "# theta1=np.load('theta40.npy')\n",
    "# w1= np.load('w40.npy')\n",
    "\n",
    "\n",
    "for e in range(1,epochs+1):\n",
    "\n",
    "    # (theta1,theta2,w1,w2,_),_cost=opt.step_and_cost(cost,theta1,theta2,w1,w2,t)\n",
    "    (theta1,w1,_),_cost=opt.step_and_cost(cost,theta1,w1,t)\n",
    "\n",
    "    if _cost<cost_max:\n",
    "        cost_max = _cost\n",
    "        theta1_best = theta1\n",
    "        w1_best = w1\n",
    "\n",
    "    # (theta,_),_cost=opt.step_and_cost(cost,theta,t)\n",
    "    if e==1 or e%1==0:\n",
    "        print(f'Epoch: {e} | Cost: {_cost}')\n",
    "\n"
   ]
  },
  {
   "cell_type": "code",
   "execution_count": 24,
   "metadata": {},
   "outputs": [],
   "source": [
    "seed =20\n",
    "np.save('theta'+str(seed), theta1)\n",
    "np.save('w'+str(seed),w1)"
   ]
  },
  {
   "cell_type": "code",
   "execution_count": 25,
   "metadata": {},
   "outputs": [],
   "source": [
    "y_delta_real = [-0.1, -0.08568864375010266, -0.07135199292327042, -0.05703216366155178, -0.04277533332758968, -0.028630566403092566, -0.014648393492369936, -0.0008786099410683636, 0.012629993562057113, 0.025830965225360485, 0.03868190003112095, 0.05114514907683676, 0.06318818053413534, 0.07478349631699908, 0.08590929364185632, 0.09655108128205876, 0.10669910851327256, 0.11634802541217151, 0.12549688285643618, 0.13414913252475494, 0.1423124546002818, 0.14999727816970396, 0.1572170147933966, 0.16398646160587024, 0.17032150117763253, 0.17623910151518826, 0.18175731606103976, 0.18689528211221512, 0.19167252338163385, 0.1961073022258, 0.2002172705183872, 0.2040196495808423, 0.20753123018238517, 0.21076837254000894, 0.21374700631847987, 0.2164826306303374, 0.21899031403589397, 0.22128469454323552, 0.2233792634241711, 0.22528520015009165, 0.22701309424038968, 0.22857304585789437, 0.22997466468065175, 0.2312270699019247, 0.23233889023019288, 0.23331826388915283, 0.23417283861771784, 0.2349097716700181, 0.2355355471757422, 0.23605508170803655]\n",
    "y_omega_real = [38.39911, 38.40131255162024, 38.401559501400065, 38.399627615014815, 38.39535272010845, 38.38863569037213, 38.37944575798523, 38.36781828175373, 38.35385457506316, 38.33771250498817, 38.31960064799821, 38.29975795463622, 38.27844654658136, 38.25594953663366, 38.232548774138536, 38.20852344187769, 38.184133101993716, 38.15961422638989, 38.135180196730154, 38.11102130443908, 38.0873045267779, 38.0641648590319, 38.04170495996719, 38.020008128295665, 37.999139183467754, 37.979144465672405, 37.96005183583712, 37.94187079269068, 37.92460193204962, 37.90823330461032, 37.892744190413474, 37.87811073974539, 37.864305973137945, 37.851299781368624, 37.83905892546051, 37.82754703668229, 37.816724616548235, 37.80654903681822, 37.7969789305147, 37.78797953688034, 37.779515522995986, 37.77155243468513, 37.76405670589686, 37.75699565870589, 37.75033750331248, 37.744051338042496, 37.73810714934741, 37.73247581180426, 37.72712975291509, 37.7220465421391]\n"
   ]
  },
  {
   "cell_type": "code",
   "execution_count": 26,
   "metadata": {},
   "outputs": [
    {
     "name": "stdout",
     "output_type": "stream",
     "text": [
      "[0.0, 0.02040816326530612, 0.04081632653061224, 0.061224489795918366, 0.08163265306122448, 0.10204081632653061, 0.12244897959183673, 0.14285714285714285, 0.16326530612244897, 0.1836734693877551, 0.20408163265306123, 0.22448979591836735, 0.24489795918367346, 0.2653061224489796, 0.2857142857142857, 0.30612244897959184, 0.32653061224489793, 0.3469387755102041, 0.3673469387755102, 0.3877551020408163, 0.40816326530612246, 0.42857142857142855, 0.4489795918367347, 0.46938775510204084, 0.4897959183673469, 0.5102040816326531, 0.5306122448979592, 0.5510204081632653, 0.5714285714285714, 0.5918367346938775, 0.6122448979591837, 0.6326530612244898, 0.6530612244897959, 0.673469387755102, 0.6938775510204082, 0.7142857142857143, 0.7346938775510204, 0.7551020408163265, 0.7755102040816326, 0.7959183673469388, 0.8163265306122449, 0.8367346938775511, 0.8571428571428571, 0.8775510204081632, 0.8979591836734694, 0.9183673469387755, 0.9387755102040817, 0.9591836734693877, 0.9795918367346939, 1.0]\n",
      "[-0.22949437 -0.21690707 -0.2042746  -0.19161021 -0.17892729 -0.16623939\n",
      " -0.15356017 -0.14090339 -0.12828288 -0.11571253 -0.10320629 -0.0907781\n",
      " -0.0784419  -0.06621164 -0.05410118 -0.04212436 -0.0302949  -0.01862645\n",
      " -0.0071325   0.00417358  0.01527858  0.0261695   0.03683353  0.04725806\n",
      "  0.05743076  0.06733953  0.07697257  0.08631836  0.09536568  0.10410369\n",
      "  0.11252183  0.12060995  0.12835827  0.13575738  0.14279829  0.14947244\n",
      "  0.15577168  0.16168833  0.16721514  0.17234535  0.17707267  0.1813913\n",
      "  0.18529592  0.18878174  0.19184447  0.19448032  0.19668606  0.19845896\n",
      "  0.19979684  0.20069804]\n",
      "[38.31456666 38.31710181 38.31899203 38.32022917 38.32080603 38.32071633\n",
      " 38.31995477 38.318517   38.31639965 38.31360035 38.31011771 38.30595133\n",
      " 38.30110182 38.29557079 38.28936085 38.28247561 38.27491968 38.26669865\n",
      " 38.25781912 38.24828863 38.23811572 38.22730988 38.21588154 38.20384205\n",
      " 38.19120369 38.17797963 38.16418391 38.14983145 38.13493799 38.11952009\n",
      " 38.10359508 38.08718109 38.07029696 38.05296225 38.0351972  38.0170227\n",
      " 37.99846026 37.97953197 37.96026048 37.94066897 37.92078108 37.90062094\n",
      " 37.88021304 37.85958229 37.83875393 37.81775347 37.79660673 37.7753397\n",
      " 37.75397861 37.73254977]\n"
     ]
    }
   ],
   "source": [
    "# print(_cost)\n",
    "# t=np.random.uniform(0,1,size=50,requires_grad=False)\n",
    "print(t)\n",
    "pred_train_X=np.array([classical_quantum_net(theta1,w1,t) for t in t])\n",
    "pred_train_Y=(np.array([classical_quantum_net_prime(theta1,w1,t) for t in t])+ws)\n",
    "print(pred_train_X)\n",
    "print(pred_train_Y)\n",
    "# pred_train_Y=np.array([classical_quantum_net(theta2,w2,t) for t in t])"
   ]
  },
  {
   "cell_type": "code",
   "execution_count": 27,
   "metadata": {},
   "outputs": [
    {
     "data": {
      "image/png": "[encoded data removed]",
      "text/plain": [
       "<Figure size 640x480 with 1 Axes>"
      ]
     },
     "metadata": {},
     "output_type": "display_data"
    },
    {
     "data": {
      "image/png": "[encoded data removed]",
      "text/plain": [
       "<Figure size 640x480 with 1 Axes>"
      ]
     },
     "metadata": {},
     "output_type": "display_data"
    }
   ],
   "source": [
    "plt.figure()\n",
    "\n",
    "plt.scatter(t,y_delta_real,facecolors='none', edgecolors='r', label='True - del_t')\n",
    "plt.scatter(t,pred_train_X, color='red',marker=\"x\",s=4,label='Prediction - del_t')\n",
    "plt.xlabel('t',fontsize=16)\n",
    "plt.ylabel('del_t',fontsize=16)\n",
    "plt.figure()\n",
    "plt.scatter(t,y_omega_real,facecolors='none', edgecolors='g', label='True - omega_t')\n",
    "\n",
    "plt.scatter(t,pred_train_Y, color='green',marker=\"x\",s=4,label='Prediction - omega_t')\n",
    "\n",
    "plt.xlabel('t',fontsize=16)\n",
    "plt.ylabel('omega_t',fontsize=16)\n",
    "plt.xticks(fontsize=10)\n",
    "plt.yticks(fontsize=10)\n",
    "plt.legend(loc='upper center',bbox_to_anchor=(0.5,1.18),ncol=2,fontsize=16)\n",
    "# plt.savefig('1_measurement2_train.png')\n",
    "plt.show()"
   ]
  }
 ],
 "metadata": {
  "kernelspec": {
   "display_name": "base",
   "language": "python",
   "name": "python3"
  },
  "language_info": {
   "codemirror_mode": {
    "name": "ipython",
    "version": 3
   },
   "file_extension": ".py",
   "mimetype": "text/x-python",
   "name": "python",
   "nbconvert_exporter": "python",
   "pygments_lexer": "ipython3",
   "version": "3.11.4"
  },
  "orig_nbformat": 4
 },
 "nbformat": 4,
 "nbformat_minor": 2
}
