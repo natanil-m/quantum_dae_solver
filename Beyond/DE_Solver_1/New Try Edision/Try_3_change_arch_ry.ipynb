{
 "cells": [
  {
   "cell_type": "code",
   "execution_count": 1,
   "metadata": {},
   "outputs": [],
   "source": [
    "from math import pi\n",
    "import matplotlib.pyplot as plt\n",
    "from pennylane import numpy as np\n",
    "import pennylane as qml\n",
    "from pennylane.optimize import AdamOptimizer\n",
    "import datetime\n",
    "now=datetime.datetime.now"
   ]
  },
  {
   "cell_type": "code",
   "execution_count": 2,
   "metadata": {},
   "outputs": [
    {
     "name": "stdout",
     "output_type": "stream",
     "text": [
      "55\n"
     ]
    }
   ],
   "source": [
    "num_qubits=2\n",
    "dev=qml.device('default.qubit', wires=num_qubits)\n",
    "seed = 55\n",
    "np.random.seed(seed)\n",
    "print(seed)"
   ]
  },
  {
   "cell_type": "code",
   "execution_count": 3,
   "metadata": {},
   "outputs": [],
   "source": [
    "# Boundary condition \n",
    "coefii = 10\n",
    "\n",
    "# del_0 = 0  #del\n",
    "# omega_0 = 0     #w\n",
    "del_0_v = -1/coefii\n",
    "omega_0_v = 383.9911/coefii"
   ]
  },
  {
   "cell_type": "code",
   "execution_count": 4,
   "metadata": {},
   "outputs": [],
   "source": [
    "# Differential equation parameters\n",
    "ws = 376.9911\n",
    "\n",
    "# ws = 0.376\n",
    "# coefii = ws/4\n",
    "K1 = 5/coefii\n",
    "K2 = 10/coefii\n",
    "K3 = 1.7/coefii\n",
    "ws = ws/coefii\n",
    "\n",
    "def F_E1(delta_prime, delta,omega_prime,omega, t):       # DE, works with numpy arrays\n",
    "    return (delta_prime+ws-omega)\n",
    "    # return X_prime+ws-Y \n",
    "\n",
    "def F_E2(delta_prime, delta,omega_prime,omega, t):       # DE, works with numpy arrays\n",
    "    # return Y_prime\n",
    "    return omega_prime-K1+K2*np.sin(coefii*delta)+K3*(-ws+omega)*coefii"
   ]
  },
  {
   "cell_type": "code",
   "execution_count": 5,
   "metadata": {},
   "outputs": [],
   "source": [
    "# # Differential equation's exact solution - for comparison\n",
    "# def X_t(t):\n",
    "#     # return X_0_v*np.cos(t)+(3*X_0_v+2*Y_0_v)*np.sin(t)\n",
    "#     return 0\n",
    "\n",
    "# def Y_t(t):\n",
    "#     return 0"
   ]
  },
  {
   "cell_type": "code",
   "execution_count": 6,
   "metadata": {},
   "outputs": [],
   "source": [
    "# t=np.random.uniform(0,1,size=50,requires_grad=False)\n",
    "t = [0.0, 0.02040816326530612, 0.04081632653061224, 0.061224489795918366, 0.08163265306122448, 0.10204081632653061, 0.12244897959183673, 0.14285714285714285, 0.16326530612244897, 0.1836734693877551, 0.20408163265306123, 0.22448979591836735, 0.24489795918367346, 0.2653061224489796, 0.2857142857142857, 0.30612244897959184, 0.32653061224489793, 0.3469387755102041, 0.3673469387755102, 0.3877551020408163, 0.40816326530612246, 0.42857142857142855, 0.4489795918367347, 0.46938775510204084, 0.4897959183673469, 0.5102040816326531, 0.5306122448979592, 0.5510204081632653, 0.5714285714285714, 0.5918367346938775, 0.6122448979591837, 0.6326530612244898, 0.6530612244897959, 0.673469387755102, 0.6938775510204082, 0.7142857142857143, 0.7346938775510204, 0.7551020408163265, 0.7755102040816326, 0.7959183673469388, 0.8163265306122449, 0.8367346938775511, 0.8571428571428571, 0.8775510204081632, 0.8979591836734694, 0.9183673469387755, 0.9387755102040817, 0.9591836734693877, 0.9795918367346939, 1.0]\n"
   ]
  },
  {
   "cell_type": "code",
   "execution_count": 7,
   "metadata": {},
   "outputs": [],
   "source": [
    "# define embedding layer\n",
    "def embedding(x,wires):\n",
    "    qml.RY(x, wires=wires[1])"
   ]
  },
  {
   "cell_type": "code",
   "execution_count": 8,
   "metadata": {},
   "outputs": [],
   "source": [
    "def Ham():\n",
    "    obs=[]\n",
    "    for j in range(num_qubits):\n",
    "        obs.append(qml.PauliX(j))\n",
    "        for k in range(j):\n",
    "            obs.append(qml.PauliZ(j)@qml.PauliZ(k))\n",
    "    coeffs=np.random.uniform(-1,1,len(obs))*10\n",
    "    qml.Hamiltonian(coeffs, obs)"
   ]
  },
  {
   "cell_type": "code",
   "execution_count": 9,
   "metadata": {},
   "outputs": [],
   "source": [
    "# define ansastz layer\n",
    "def layer(theta):\n",
    "    \n",
    "    # Apply Hamiltonian matrix\n",
    "    Ham()\n",
    "    \n",
    "    # Apply H gate\n",
    "    qml.Hadamard(0)\n",
    "    \n",
    "    #change RY->RX\n",
    "    # rotations on qubit 1\n",
    "    qml.RX(theta,wires=1)\n",
    "    \n",
    "    # CNOT\n",
    "    qml.CNOT(wires=[0, 1])"
   ]
  },
  {
   "cell_type": "code",
   "execution_count": 10,
   "metadata": {},
   "outputs": [],
   "source": [
    "@qml.qnode(dev, diff_method=\"backprop\", interface=\"autograd\")\n",
    "def quantum_net(theta,x):\n",
    "    \n",
    "    # encode data\n",
    "    embedding(x,wires=range(num_qubits))\n",
    "    \n",
    "    # parameterized circuit layers\n",
    "    for v in theta: # (for lool along with the first dimension)\n",
    "        # print(v)\n",
    "        # Ham()\n",
    "        layer(v)\n",
    "    \n",
    "    qml.Hadamard(0)\n",
    "    \n",
    "    # return qml.expval(qml.PauliZ(0)),qml.expval(qml.PauliZ(1))\n",
    "    return qml.expval(qml.PauliZ(0))"
   ]
  },
  {
   "cell_type": "code",
   "execution_count": 11,
   "metadata": {},
   "outputs": [
    {
     "name": "stdout",
     "output_type": "stream",
     "text": [
      "0: ──H────────────────╭●──H──────╭●──H──────╭●──H──────╭●──H─┤  <Z>\n",
      "1: ──RY(0.00)──RX(M0)─╰X──RX(M1)─╰X──RX(M2)─╰X──RX(M3)─╰X────┤     \n",
      "M0 = \n",
      "[0.58501662]\n",
      "M1 = \n",
      "[6.1050942]\n",
      "M2 = \n",
      "[3.04018192]\n",
      "M3 = \n",
      "[1.52381507]\n"
     ]
    }
   ],
   "source": [
    "num_layers=4\n",
    "theta1=np.random.uniform(0,2*pi,size=(num_layers,num_qubits-1),requires_grad=True)\n",
    "# theta2=np.random.uniform(0,2*pi,size=(num_layers,num_qubits-1),requires_grad=True)\n",
    "# theta = np.load('my_theta1.npy')\n",
    "print(qml.draw(quantum_net)(theta1,0))"
   ]
  },
  {
   "cell_type": "code",
   "execution_count": 12,
   "metadata": {},
   "outputs": [],
   "source": [
    "# add the classical layer   #TODO\n",
    "def classical_quantum_net(theta,w,t):\n",
    "\n",
    "    r1=quantum_net(theta,t)[0]\n",
    "    # r2=quantum_net(theta,x)[1]\n",
    "    # return w[0]+w[1]*r1+w[2]*r1**2+w[3]*r2+w[4]*r2**2\n",
    "    return w[0]+w[1]*r1+w[2]*r1**2\n",
    "    # r1=quantum_net(theta,x)\n",
    "    return r1"
   ]
  },
  {
   "cell_type": "code",
   "execution_count": 13,
   "metadata": {},
   "outputs": [],
   "source": [
    "# add the classical layer   #TODO\n",
    "def classical_quantum_net_efficient(r1,w):\n",
    "    return w[0]+w[1]*r1+w[2]*r1**2"
   ]
  },
  {
   "cell_type": "code",
   "execution_count": 14,
   "metadata": {},
   "outputs": [],
   "source": [
    "def classical_quantum_net_prime(theta,w,t):\n",
    "\n",
    "\n",
    "\n",
    "    r1=quantum_net(theta,t)[0]\n",
    "\n",
    "    r1_prime = qml.grad(quantum_net,argnum=1)(theta,np.tensor(t)) \n",
    "    # r2=quantum_net(theta,x)[1]\n",
    "    # return w[0]+w[1]*r1+w[2]*r1**2+w[3]*r2+w[4]*r2**2\n",
    "    return w[1]*r1_prime+2*w[2]*r1_prime*r1\n"
   ]
  },
  {
   "cell_type": "code",
   "execution_count": 15,
   "metadata": {},
   "outputs": [],
   "source": [
    "def classical_quantum_net_double_prime(theta,w,t):\n",
    "\n",
    "   r1=quantum_net(theta,t)[0]\n",
    "   r1_prime = qml.grad(quantum_net,argnum=1)(theta,np.tensor(t)) \n",
    "\n",
    "\n",
    "   #Calculate double prime\n",
    "   F_pos_pos_pi = quantum_net(theta,t+np.pi)[0]\n",
    "   F_phi = quantum_net(theta,t)[0]\n",
    "   F_phi_neg_pi = quantum_net(theta,t-np.pi)[0]\n",
    "   r1_double_prime = (1/4)*(F_pos_pos_pi-2*F_phi+F_phi_neg_pi)\n",
    "\n",
    "\n",
    "   return w[1]*r1_double_prime+2*w[2]*(r1_prime*r1_prime+r1*r1_double_prime)"
   ]
  },
  {
   "cell_type": "code",
   "execution_count": 16,
   "metadata": {},
   "outputs": [],
   "source": [
    "# def square_loss(labels,predictions):\n",
    "#     loss=0\n",
    "#     for l,p in zip(labels,predictions):\n",
    "#         loss=loss+(l-p)**2\n",
    "#     loss=loss/len(labels)\n",
    "#     return loss"
   ]
  },
  {
   "cell_type": "code",
   "execution_count": 17,
   "metadata": {},
   "outputs": [],
   "source": [
    "# #loss boundary\n",
    "# def loss_b(U_predict):\n",
    "    \n",
    "    "
   ]
  },
  {
   "cell_type": "code",
   "execution_count": 18,
   "metadata": {},
   "outputs": [],
   "source": [
    "# def cost(theta1,theta2,w1,w2,t):\n",
    "\n",
    "#     # loss inner points\n",
    "#     loss_i = 0\n",
    "\n",
    "#     X_t_pred = np.array([classical_quantum_net(theta=theta1,w=w1,t=point) for point in t])\n",
    "#     X_t_prime = np.array([classical_quantum_net_prime(theta=theta1,w=w1,t=point) for point in t])\n",
    "    \n",
    "#     Y_t_pred = X_t_pred+ws\n",
    "#     # Y_t_prime = np.array([classical_quantum_net_prime(theta=theta2,w=w2,t=point) for point in t])\n",
    "#     Y_t_prime = np.array([classical_quantum_net_double_prime(theta=theta1,w=w1,t=point) for point in t])\n",
    "\n",
    "#     loss_i += np.mean(F_E1(X=X_t_pred,Y=Y_t_pred,X_prime=X_t_prime,Y_prime=Y_t_prime,t=t)**2)\n",
    "#     loss_i += np.mean(F_E2(X=X_t_pred,Y=Y_t_pred,X_prime=X_t_prime,Y_prime=Y_t_prime,t=t)**2)\n",
    "\n",
    "#     # # loss boundary points\n",
    "#     # loss_b = 0\n",
    "#     # X_0_pred = classical_quantum_net(theta1,w1,0)\n",
    "#     # Y_0_pred = classical_quantum_net(theta2,w2,0)\n",
    "\n",
    "#     # # print(U_0)\n",
    "#     # loss_b += (X_0_v-X_0_pred)**2+(Y_0_v-Y_0_pred)**2\n",
    "#     # return 0.2*loss_b + 0.8*loss_i\n",
    "#     return loss_i"
   ]
  },
  {
   "cell_type": "code",
   "execution_count": 19,
   "metadata": {},
   "outputs": [],
   "source": [
    "# def cost_efficient(theta1,w1,t):\n",
    "#     # loss inner points\n",
    "#     loss_i = 0\n",
    "#     # print('-------')\n",
    "#     r1 = np.array([quantum_net(theta1,t)[0] for t in t])\n",
    "\n",
    "#     # print(r1)\n",
    "\n",
    "#     r1_prime = np.array([qml.grad(quantum_net,argnum=1)(theta1,np.tensor(t)) for t in t])\n",
    "#     #Calculate double prime\n",
    "#     F_pos_pos_pi = np.array([quantum_net(theta1,t+np.pi)[0] for t in t])\n",
    "#     # print(len(F_pos_pos_pi))\n",
    "#     F_phi = r1\n",
    "#     F_phi_neg_pi = np.array([quantum_net(theta1,t-np.pi)[0] for t in t])\n",
    "#     r1_double_prime = (1/4)*(F_pos_pos_pi-2*F_phi+F_phi_neg_pi)\n",
    "\n",
    "#     # print(r1)\n",
    "#     # print(r1_prime)\n",
    "#     # print(r1_double_prime)\n",
    "\n",
    "#     X_t_pred = classical_quantum_net_efficient(r1=theta1,w=w1)\n",
    "#     X_t_prime = classical_quantum_net_prime_efficient(r1=theta1,r1_prime=r1_prime,w=w1)\n",
    "    \n",
    "#     Y_t_pred = X_t_prime+ws\n",
    "#     # Y_t_prime = np.array([classical_quantum_net_prime(theta=theta2,w=w2,t=point) for point in t])\n",
    "#     Y_t_prime = classical_quantum_net_double_prime_efficient(r1=theta1,r1_prime=r1_prime,r1_double_prime=r1_double_prime,w=w1)\n",
    "\n",
    "#     loss_i += np.mean(F_E1(X=X_t_pred,Y=Y_t_pred,X_prime=X_t_prime,Y_prime=Y_t_prime,t=t)**2)\n",
    "#     loss_i += np.mean(F_E2(X=X_t_pred,Y=Y_t_pred,X_prime=X_t_prime,Y_prime=Y_t_prime,t=t)**2)\n",
    "\n",
    "#     # # loss boundary points\n",
    "#     loss_b = 0\n",
    "#     X_0_pred = classical_quantum_net(theta1,w1,0)\n",
    "#     Y_0_pred = classical_quantum_net_prime(theta1,w1,0)+ws\n",
    "\n",
    "#     # # print(U_0)\n",
    "#     loss_b += (X_0_v-X_0_pred)**2+(Y_0_v-Y_0_pred)**2\n",
    "#     # return loss_b + loss_i\n",
    "#     return 0.2*loss_b + 0.8*loss_i\n",
    "\n",
    "    # return loss_i"
   ]
  },
  {
   "cell_type": "code",
   "execution_count": 20,
   "metadata": {},
   "outputs": [],
   "source": [
    "def cost(theta1,w1,t):\n",
    "\n",
    "    # loss inner points\n",
    "    loss_i = 0\n",
    "\n",
    "    del_t_pred = np.array([classical_quantum_net(theta=theta1,w=w1,t=point) for point in t])\n",
    "    del_t_prime = np.array([classical_quantum_net_prime(theta=theta1,w=w1,t=point) for point in t])\n",
    "    \n",
    "    omega_t_pred = del_t_prime+ws\n",
    "    # Y_t_prime = np.array([classical_quantum_net_prime(theta=theta2,w=w2,t=point) for point in t])\n",
    "    omega_t_prime = np.array([classical_quantum_net_double_prime(theta=theta1,w=w1,t=point) for point in t])\n",
    "\n",
    "    loss_i += np.mean(F_E1(delta=del_t_pred,omega=omega_t_pred,delta_prime=del_t_prime,omega_prime=omega_t_prime,t=t)**2)\n",
    "    loss_i += np.mean(F_E2(delta=del_t_pred,omega=omega_t_pred,delta_prime=del_t_prime,omega_prime=omega_t_prime,t=t)**2)\n",
    "\n",
    "    # # loss boundary points\n",
    "    loss_b = 0\n",
    "    del_0_pred = classical_quantum_net(theta1,w1,0)\n",
    "    omega_0_pred = classical_quantum_net_prime(theta1,w1,0)+ws\n",
    "\n",
    "    # # print(U_0)\n",
    "    loss_b += (del_0_v-del_0_pred)**2+(omega_0_v-omega_0_pred)**2\n",
    "    return 2*loss_b + loss_i\n",
    "    # return 0.2*loss_b + 0.8*loss_i\n",
    "\n",
    "    return loss_i"
   ]
  },
  {
   "cell_type": "code",
   "execution_count": 21,
   "metadata": {},
   "outputs": [],
   "source": [
    "w1=np.zeros(3,requires_grad=True)\n",
    "# w2=np.zeros(3,requires_grad=True)\n",
    "opt = AdamOptimizer(0.05, beta1=0.9, beta2=0.999)"
   ]
  },
  {
   "cell_type": "code",
   "execution_count": 22,
   "metadata": {},
   "outputs": [
    {
     "name": "stdout",
     "output_type": "stream",
     "text": [
      "2023-08-16 16:10:04.118571\n"
     ]
    }
   ],
   "source": [
    "start=now()\n",
    "print(start)"
   ]
  },
  {
   "cell_type": "code",
   "execution_count": null,
   "metadata": {},
   "outputs": [],
   "source": []
  },
  {
   "cell_type": "code",
   "execution_count": 23,
   "metadata": {},
   "outputs": [
    {
     "name": "stdout",
     "output_type": "stream",
     "text": [
      "Epoch: 1 | Cost: 1.249999999999988\n",
      "Epoch: 2 | Cost: 1.0254233080682684\n",
      "Epoch: 3 | Cost: 1.1018855572239912\n",
      "Epoch: 4 | Cost: 1.1489759679660416\n",
      "Epoch: 5 | Cost: 1.136374550932644\n",
      "Epoch: 6 | Cost: 1.0878062632266876\n",
      "Epoch: 7 | Cost: 1.037740513096337\n",
      "Epoch: 8 | Cost: 1.0283773431146805\n",
      "Epoch: 9 | Cost: 1.0633565756826975\n",
      "Epoch: 10 | Cost: 1.0868654216314204\n",
      "Epoch: 11 | Cost: 1.069308142610346\n",
      "Epoch: 12 | Cost: 1.037890835529283\n",
      "Epoch: 13 | Cost: 1.0252547329841852\n",
      "Epoch: 14 | Cost: 1.0353057570842872\n",
      "Epoch: 15 | Cost: 1.050898221447673\n",
      "Epoch: 16 | Cost: 1.057176287178729\n",
      "Epoch: 17 | Cost: 1.0506221786501637\n",
      "Epoch: 18 | Cost: 1.036901882003573\n",
      "Epoch: 19 | Cost: 1.0264419690468702\n",
      "Epoch: 20 | Cost: 1.0271874403456052\n",
      "Epoch: 21 | Cost: 1.0364113948538607\n",
      "Epoch: 22 | Cost: 1.0425178040968712\n",
      "Epoch: 23 | Cost: 1.0386751843041633\n",
      "Epoch: 24 | Cost: 1.029925055847767\n",
      "Epoch: 25 | Cost: 1.0252972508653442\n",
      "Epoch: 26 | Cost: 1.0276342181696636\n",
      "Epoch: 27 | Cost: 1.032633644580919\n",
      "Epoch: 28 | Cost: 1.0348379646791996\n",
      "Epoch: 29 | Cost: 1.032437994874209\n",
      "Epoch: 30 | Cost: 1.0278657213196094\n",
      "Epoch: 31 | Cost: 1.0252830026042654\n",
      "Epoch: 32 | Cost: 1.0266767911105754\n",
      "Epoch: 33 | Cost: 1.0297436465668686\n",
      "Epoch: 34 | Cost: 1.0305692723977828\n",
      "Epoch: 35 | Cost: 1.0283147167169848\n",
      "Epoch: 36 | Cost: 1.0257474601266643\n",
      "Epoch: 37 | Cost: 1.0254408629867378\n",
      "Epoch: 38 | Cost: 1.0270352517352719\n",
      "Epoch: 39 | Cost: 1.0283217464523213\n",
      "Epoch: 40 | Cost: 1.0278764672096903\n",
      "Epoch: 41 | Cost: 1.0262884673256951\n",
      "Epoch: 42 | Cost: 1.0252698275868557\n",
      "Epoch: 43 | Cost: 1.0257323061796169\n",
      "Epoch: 44 | Cost: 1.0268040070339306\n",
      "Epoch: 45 | Cost: 1.0270080997295032\n",
      "Epoch: 46 | Cost: 1.0261386026568413\n",
      "Epoch: 47 | Cost: 1.0253233608920678\n",
      "Epoch: 48 | Cost: 1.0254190310480569\n",
      "Epoch: 49 | Cost: 1.0260577488078548\n",
      "Epoch: 50 | Cost: 1.0263299228103973\n",
      "Epoch: 51 | Cost: 1.0259209606584911\n",
      "Epoch: 52 | Cost: 1.025362805068411\n",
      "Epoch: 53 | Cost: 1.0252939396269947\n",
      "Epoch: 54 | Cost: 1.0256719055615737\n",
      "Epoch: 55 | Cost: 1.025901187030459\n",
      "Epoch: 56 | Cost: 1.0256707457560361\n",
      "Epoch: 57 | Cost: 1.025317506854724\n",
      "Epoch: 58 | Cost: 1.025278277992795\n",
      "Epoch: 59 | Cost: 1.025511276959809\n",
      "Epoch: 60 | Cost: 1.0256425146229518\n",
      "Epoch: 61 | Cost: 1.0254972786479788\n",
      "Epoch: 62 | Cost: 1.0252847884522973\n",
      "Epoch: 63 | Cost: 1.0252709960040483\n",
      "Epoch: 64 | Cost: 1.025421021677509\n",
      "Epoch: 65 | Cost: 1.025486373554916\n",
      "Epoch: 66 | Cost: 1.0253757350026216\n",
      "Epoch: 67 | Cost: 1.0252559662276235\n",
      "Epoch: 68 | Cost: 1.0252777169741152\n",
      "Epoch: 69 | Cost: 1.0253724919050553\n",
      "Epoch: 70 | Cost: 1.0253864202189245\n",
      "Epoch: 71 | Cost: 1.025304285977721\n",
      "Epoch: 72 | Cost: 1.025246770434241\n",
      "Epoch: 73 | Cost: 1.0252815250823961\n",
      "Epoch: 74 | Cost: 1.0253353979234758\n",
      "Epoch: 75 | Cost: 1.0253205622816186\n",
      "Epoch: 76 | Cost: 1.0252639816414681\n",
      "Epoch: 77 | Cost: 1.0252488275038218\n",
      "Epoch: 78 | Cost: 1.0252839077331122\n",
      "Epoch: 79 | Cost: 1.025304397535112\n",
      "Epoch: 80 | Cost: 1.0252786865095518\n",
      "Epoch: 81 | Cost: 1.025248467869089\n",
      "Epoch: 82 | Cost: 1.0252554324453682\n",
      "Epoch: 83 | Cost: 1.0252793004261656\n",
      "Epoch: 84 | Cost: 1.0252781232559083\n",
      "Epoch: 85 | Cost: 1.0252553569419633\n",
      "Epoch: 86 | Cost: 1.0252468676972954\n",
      "Epoch: 87 | Cost: 1.0252606243719344\n",
      "Epoch: 88 | Cost: 1.025269548021483\n",
      "Epoch: 89 | Cost: 1.0252589803085808\n",
      "Epoch: 90 | Cost: 1.025246930782408\n",
      "Epoch: 91 | Cost: 1.0252507632883994\n",
      "Epoch: 92 | Cost: 1.025260250224516\n",
      "Epoch: 93 | Cost: 1.0252581813799888\n",
      "Epoch: 94 | Cost: 1.0252487309062273\n",
      "Epoch: 95 | Cost: 1.025247135855893\n",
      "Epoch: 96 | Cost: 1.025253527015116\n",
      "Epoch: 97 | Cost: 1.0252553999753207\n",
      "Epoch: 98 | Cost: 1.0252497845506299\n",
      "Epoch: 99 | Cost: 1.0252463361722997\n",
      "Epoch: 100 | Cost: 1.0252495915407742\n"
     ]
    }
   ],
   "source": [
    "epochs=100\n",
    "cost_max = 10000\n",
    "theta1_best = None\n",
    "w1_best = None\n",
    "\n",
    "# theta1=np.load('theta40.npy')\n",
    "# w1= np.load('w40.npy')\n",
    "\n",
    "\n",
    "for e in range(1,epochs+1):\n",
    "\n",
    "    # (theta1,theta2,w1,w2,_),_cost=opt.step_and_cost(cost,theta1,theta2,w1,w2,t)\n",
    "    (theta1,w1,_),_cost=opt.step_and_cost(cost,theta1,w1,t)\n",
    "\n",
    "    if _cost<cost_max:\n",
    "        cost_max = _cost\n",
    "        theta1_best = theta1\n",
    "        w1_best = w1\n",
    "\n",
    "    # (theta,_),_cost=opt.step_and_cost(cost,theta,t)\n",
    "    if e==1 or e%1==0:\n",
    "        print(f'Epoch: {e} | Cost: {_cost}')\n",
    "\n"
   ]
  },
  {
   "cell_type": "code",
   "execution_count": 24,
   "metadata": {},
   "outputs": [],
   "source": [
    "seed =20\n",
    "np.save('theta'+str(seed), theta1)\n",
    "np.save('w'+str(seed),w1)"
   ]
  },
  {
   "cell_type": "code",
   "execution_count": 25,
   "metadata": {},
   "outputs": [],
   "source": [
    "y_delta_real = [-0.1, -0.08568864375010266, -0.07135199292327042, -0.05703216366155178, -0.04277533332758968, -0.028630566403092566, -0.014648393492369936, -0.0008786099410683636, 0.012629993562057113, 0.025830965225360485, 0.03868190003112095, 0.05114514907683676, 0.06318818053413534, 0.07478349631699908, 0.08590929364185632, 0.09655108128205876, 0.10669910851327256, 0.11634802541217151, 0.12549688285643618, 0.13414913252475494, 0.1423124546002818, 0.14999727816970396, 0.1572170147933966, 0.16398646160587024, 0.17032150117763253, 0.17623910151518826, 0.18175731606103976, 0.18689528211221512, 0.19167252338163385, 0.1961073022258, 0.2002172705183872, 0.2040196495808423, 0.20753123018238517, 0.21076837254000894, 0.21374700631847987, 0.2164826306303374, 0.21899031403589397, 0.22128469454323552, 0.2233792634241711, 0.22528520015009165, 0.22701309424038968, 0.22857304585789437, 0.22997466468065175, 0.2312270699019247, 0.23233889023019288, 0.23331826388915283, 0.23417283861771784, 0.2349097716700181, 0.2355355471757422, 0.23605508170803655]\n",
    "y_omega_real = [38.39911, 38.40131255162024, 38.401559501400065, 38.399627615014815, 38.39535272010845, 38.38863569037213, 38.37944575798523, 38.36781828175373, 38.35385457506316, 38.33771250498817, 38.31960064799821, 38.29975795463622, 38.27844654658136, 38.25594953663366, 38.232548774138536, 38.20852344187769, 38.184133101993716, 38.15961422638989, 38.135180196730154, 38.11102130443908, 38.0873045267779, 38.0641648590319, 38.04170495996719, 38.020008128295665, 37.999139183467754, 37.979144465672405, 37.96005183583712, 37.94187079269068, 37.92460193204962, 37.90823330461032, 37.892744190413474, 37.87811073974539, 37.864305973137945, 37.851299781368624, 37.83905892546051, 37.82754703668229, 37.816724616548235, 37.80654903681822, 37.7969789305147, 37.78797953688034, 37.779515522995986, 37.77155243468513, 37.76405670589686, 37.75699565870589, 37.75033750331248, 37.744051338042496, 37.73810714934741, 37.73247581180426, 37.72712975291509, 37.7220465421391]\n"
   ]
  },
  {
   "cell_type": "code",
   "execution_count": 26,
   "metadata": {},
   "outputs": [
    {
     "name": "stdout",
     "output_type": "stream",
     "text": [
      "[0.0, 0.02040816326530612, 0.04081632653061224, 0.061224489795918366, 0.08163265306122448, 0.10204081632653061, 0.12244897959183673, 0.14285714285714285, 0.16326530612244897, 0.1836734693877551, 0.20408163265306123, 0.22448979591836735, 0.24489795918367346, 0.2653061224489796, 0.2857142857142857, 0.30612244897959184, 0.32653061224489793, 0.3469387755102041, 0.3673469387755102, 0.3877551020408163, 0.40816326530612246, 0.42857142857142855, 0.4489795918367347, 0.46938775510204084, 0.4897959183673469, 0.5102040816326531, 0.5306122448979592, 0.5510204081632653, 0.5714285714285714, 0.5918367346938775, 0.6122448979591837, 0.6326530612244898, 0.6530612244897959, 0.673469387755102, 0.6938775510204082, 0.7142857142857143, 0.7346938775510204, 0.7551020408163265, 0.7755102040816326, 0.7959183673469388, 0.8163265306122449, 0.8367346938775511, 0.8571428571428571, 0.8775510204081632, 0.8979591836734694, 0.9183673469387755, 0.9387755102040817, 0.9591836734693877, 0.9795918367346939, 1.0]\n",
      "[0.04825035 0.04825035 0.04825035 0.04825035 0.04825035 0.04825035\n",
      " 0.04825035 0.04825035 0.04825035 0.04825035 0.04825035 0.04825035\n",
      " 0.04825035 0.04825035 0.04825035 0.04825035 0.04825035 0.04825035\n",
      " 0.04825035 0.04825035 0.04825035 0.04825035 0.04825035 0.04825035\n",
      " 0.04825035 0.04825035 0.04825035 0.04825035 0.04825035 0.04825035\n",
      " 0.04825035 0.04825035 0.04825035 0.04825035 0.04825035 0.04825035\n",
      " 0.04825035 0.04825035 0.04825035 0.04825035 0.04825035 0.04825035\n",
      " 0.04825035 0.04825035 0.04825035 0.04825035 0.04825035 0.04825035\n",
      " 0.04825035 0.04825035]\n",
      "[37.69911 37.69911 37.69911 37.69911 37.69911 37.69911 37.69911 37.69911\n",
      " 37.69911 37.69911 37.69911 37.69911 37.69911 37.69911 37.69911 37.69911\n",
      " 37.69911 37.69911 37.69911 37.69911 37.69911 37.69911 37.69911 37.69911\n",
      " 37.69911 37.69911 37.69911 37.69911 37.69911 37.69911 37.69911 37.69911\n",
      " 37.69911 37.69911 37.69911 37.69911 37.69911 37.69911 37.69911 37.69911\n",
      " 37.69911 37.69911 37.69911 37.69911 37.69911 37.69911 37.69911 37.69911\n",
      " 37.69911 37.69911]\n"
     ]
    }
   ],
   "source": [
    "# print(_cost)\n",
    "# t=np.random.uniform(0,1,size=50,requires_grad=False)\n",
    "print(t)\n",
    "pred_train_X=np.array([classical_quantum_net(theta1,w1,t) for t in t])\n",
    "pred_train_Y=(np.array([classical_quantum_net_prime(theta1,w1,t) for t in t])+ws)\n",
    "print(pred_train_X)\n",
    "print(pred_train_Y)\n",
    "# pred_train_Y=np.array([classical_quantum_net(theta2,w2,t) for t in t])"
   ]
  },
  {
   "cell_type": "code",
   "execution_count": 27,
   "metadata": {},
   "outputs": [
    {
     "data": {
      "image/png": "[encoded data removed]",
      "text/plain": [
       "<Figure size 640x480 with 1 Axes>"
      ]
     },
     "metadata": {},
     "output_type": "display_data"
    },
    {
     "data": {
      "image/png": "[encoded data removed]",
      "text/plain": [
       "<Figure size 640x480 with 1 Axes>"
      ]
     },
     "metadata": {},
     "output_type": "display_data"
    }
   ],
   "source": [
    "plt.figure()\n",
    "\n",
    "plt.scatter(t,y_delta_real,facecolors='none', edgecolors='r', label='True - del_t')\n",
    "plt.scatter(t,pred_train_X, color='red',marker=\"x\",s=4,label='Prediction - del_t')\n",
    "plt.xlabel('t',fontsize=16)\n",
    "plt.ylabel('del_t',fontsize=16)\n",
    "plt.figure()\n",
    "plt.scatter(t,y_omega_real,facecolors='none', edgecolors='g', label='True - omega_t')\n",
    "\n",
    "plt.scatter(t,pred_train_Y, color='green',marker=\"x\",s=4,label='Prediction - omega_t')\n",
    "\n",
    "plt.xlabel('t',fontsize=16)\n",
    "plt.ylabel('omega_t',fontsize=16)\n",
    "plt.xticks(fontsize=10)\n",
    "plt.yticks(fontsize=10)\n",
    "plt.legend(loc='upper center',bbox_to_anchor=(0.5,1.18),ncol=2,fontsize=16)\n",
    "# plt.savefig('1_measurement2_train.png')\n",
    "plt.show()"
   ]
  }
 ],
 "metadata": {
  "kernelspec": {
   "display_name": "base",
   "language": "python",
   "name": "python3"
  },
  "language_info": {
   "codemirror_mode": {
    "name": "ipython",
    "version": 3
   },
   "file_extension": ".py",
   "mimetype": "text/x-python",
   "name": "python",
   "nbconvert_exporter": "python",
   "pygments_lexer": "ipython3",
   "version": "3.11.4"
  },
  "orig_nbformat": 4
 },
 "nbformat": 4,
 "nbformat_minor": 2
}
