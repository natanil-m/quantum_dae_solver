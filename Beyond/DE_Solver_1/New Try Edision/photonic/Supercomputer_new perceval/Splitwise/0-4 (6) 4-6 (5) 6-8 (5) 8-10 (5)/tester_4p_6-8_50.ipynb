{
 "cells": [
  {
   "cell_type": "code",
   "execution_count": 1,
   "metadata": {},
   "outputs": [],
   "source": [
    "# !pip install perceval-quandela\n",
    "# !pip install tqdm"
   ]
  },
  {
   "cell_type": "code",
   "execution_count": 2,
   "metadata": {},
   "outputs": [],
   "source": [
    "import perceval as pcvl\n",
    "import numpy as np\n",
    "from math import comb\n",
    "from scipy.optimize import minimize\n",
    "import time\n",
    "import matplotlib.pyplot as plt\n",
    "import matplotlib as mpl\n",
    "import tqdm as tqdm"
   ]
  },
  {
   "cell_type": "code",
   "execution_count": 3,
   "metadata": {},
   "outputs": [],
   "source": [
    "string_data = \"\"\"[-1.69383469  1.52440113  1.7605533   0.99674628  0.06242851  0.46484677\n",
    " -1.28876202  1.09676673 -0.06220301  0.86265537  0.0671795  -0.937845\n",
    "  0.0811497  -0.1269735   0.86807838  0.26306761  2.13033779  0.54923019\n",
    "  1.50095159 -1.4154509  -0.03702183  1.48038878  1.28821612  1.17073385\n",
    " -0.07658717  0.18806729 -1.40281873 -1.13330639 -0.12531687 -1.34946579\n",
    "  0.36107999  0.21305343  1.13643703 -0.61958393 -0.38672417  0.28774211\n",
    "  1.72761499 -0.4135092   0.7846303  -0.85204805  0.3599085  -0.61584219\n",
    " -0.54843186 -0.02932743  0.08541905  0.64305534  0.06484938  1.55857293\n",
    " -2.10148102 -1.91488396  1.86360667 -0.40965918  0.14701624 -0.61716341\n",
    " -0.05840522 -0.74257906  1.45448415 -0.11339153  0.39140774 -0.36431779\n",
    "  0.69151876  1.09492616  0.28206079  1.10179614]\"\"\"\n",
    "# Remove brackets and split the string into individual values\n",
    "values = string_data.strip('[]').split()\n",
    "\n",
    "# Convert the string values to float and create a numpy array\n",
    "best_param_from_string = np.array([float(value) for value in values])\n",
    "# print(best_param_from_string)"
   ]
  },
  {
   "cell_type": "code",
   "execution_count": 4,
   "metadata": {},
   "outputs": [
    {
     "name": "stdout",
     "output_type": "stream",
     "text": [
      "Random Seed: 3403\n"
     ]
    }
   ],
   "source": [
    "nphotons = 5\n",
    "\n",
    "# random_seed = np.random.randint(0, 10000)\n",
    "random_seed = 3403\n",
    "np.random.seed(random_seed)\n",
    "print(\"Random Seed:\", random_seed)"
   ]
  },
  {
   "cell_type": "code",
   "execution_count": 5,
   "metadata": {},
   "outputs": [],
   "source": [
    "# Modeling parameters\n",
    "n_grid = 50    # number of grid points of the discretized differential equation\n",
    "range_min = 0  # minimum of the interval on which we wish to approximate our function\n",
    "range_max = 2  # maximum of the interval on which we wish to approximate our function\n",
    "X = np.linspace(range_min, range_max-range_min, n_grid)  # Optimisation grid"
   ]
  },
  {
   "cell_type": "code",
   "execution_count": 6,
   "metadata": {},
   "outputs": [],
   "source": [
    "# Boundary condition \n",
    "coefii = 10\n",
    "\n",
    "# del_0 = 0  #del\n",
    "# omega_0 = 0     #w\n",
    "# del_0_v = -1/coefii\n",
    "# omega_0_v = 383.9911/coefii\n",
    "del_0_v = 0.06560172\n",
    "omega_0_v = 37.7260389"
   ]
  },
  {
   "cell_type": "code",
   "execution_count": 7,
   "metadata": {},
   "outputs": [],
   "source": [
    "# Differential equation parameters\n",
    "ws = 376.9911\n",
    "\n",
    "# ws = 0.376\n",
    "# coefii = ws/4\n",
    "K1 = 5/coefii\n",
    "K2 = 10/coefii\n",
    "K3 = 1.7/coefii\n",
    "ws = ws/coefii\n",
    "\n",
    "# def F(u_zegond,u_prime, u, x):       # DE, works with numpy arrays\n",
    "#     return u_zegond+np.sin(x)\n",
    "def F(u_zegond,u_prime, u, x):       # DE, works with numpy arrays\n",
    "    # print(len(u_zegond))\n",
    "    # print(len(u_prime))\n",
    "    # print(len(u))\n",
    "    delta = u\n",
    "    delta_prime = u_prime\n",
    "    omega = delta_prime+ws\n",
    "    omega_prime = u_zegond\n",
    "    return (delta_prime+ws-omega)+omega_prime-K1+K2*np.sin(coefii*delta)+K3*(-ws+omega)*coefii"
   ]
  },
  {
   "cell_type": "code",
   "execution_count": 8,
   "metadata": {},
   "outputs": [],
   "source": [
    "# # Boundary condition (f(x_0)=f_0)\n",
    "# x_0 = 0\n",
    "# f_0 = np.sin(0)"
   ]
  },
  {
   "cell_type": "code",
   "execution_count": 9,
   "metadata": {},
   "outputs": [],
   "source": [
    "# Differential equation's exact solution - for comparison\n",
    "def u(x):\n",
    "    return np.sin(x)"
   ]
  },
  {
   "cell_type": "code",
   "execution_count": null,
   "metadata": {},
   "outputs": [],
   "source": []
  },
  {
   "cell_type": "code",
   "execution_count": 10,
   "metadata": {},
   "outputs": [],
   "source": [
    "# Parameters of the quantum machine learning procedure\n",
    "N = nphotons              # Number of photons\n",
    "m = nphotons              # Number of modes\n",
    "eta = 5                   # weight granted to the initial condition\n",
    "a = 200                   # Approximate boundaries of the interval that the image of the trial function can cover\n",
    "fock_dim = comb(N + m - 1, N)\n",
    "# lambda coefficients for all the possible outputs\n",
    "lambda_random = 2 * a * np.random.rand(fock_dim) - a\n",
    "# dx serves for the numerical differentiation of f\n",
    "dx = (range_max-range_min) / (n_grid - 1)"
   ]
  },
  {
   "cell_type": "code",
   "execution_count": 11,
   "metadata": {},
   "outputs": [
    {
     "name": "stdout",
     "output_type": "stream",
     "text": [
      "|1,1,1,1,1>\n"
     ]
    }
   ],
   "source": [
    "# Input state with N photons and m modes\n",
    "input_state = pcvl.BasicState([1]*N+[0]*(m-N))\n",
    "print(input_state)"
   ]
  },
  {
   "cell_type": "code",
   "execution_count": 12,
   "metadata": {},
   "outputs": [
    {
     "data": {
      "image/svg+xml": [
       "<?xml version=\"1.0\" encoding=\"UTF-8\"?>\n",
       "<svg xmlns=\"http://www.w3.org/2000/svg\" xmlns:xlink=\"http://www.w3.org/1999/xlink\"\n",
       "     width=\"820.0\" height=\"343.75\" viewBox=\"-28.0 0 656.0 275.0\">\n",
       "<defs>\n",
       "</defs>\n",
       "<path d=\"M10,25 L25,25\" stroke-width=\"3\" stroke=\"darkred\" stroke-linejoin=\"miter\" fill=\"none\" />\n",
       "<path d=\"M10,75 L25,75\" stroke-width=\"3\" stroke=\"darkred\" stroke-linejoin=\"miter\" fill=\"none\" />\n",
       "<path d=\"M10,125 L25,125\" stroke-width=\"3\" stroke=\"darkred\" stroke-linejoin=\"miter\" fill=\"none\" />\n",
       "<path d=\"M10,175 L25,175\" stroke-width=\"3\" stroke=\"darkred\" stroke-linejoin=\"miter\" fill=\"none\" />\n",
       "<path d=\"M10,225 L25,225\" stroke-width=\"3\" stroke=\"darkred\" stroke-linejoin=\"miter\" fill=\"none\" />\n",
       "<path d=\"M25,25 L275,25\" stroke-width=\"3\" stroke=\"darkred\" stroke-linejoin=\"miter\" fill=\"none\" />\n",
       "<path d=\"M25,75 L275,75\" stroke-width=\"3\" stroke=\"darkred\" stroke-linejoin=\"miter\" fill=\"none\" />\n",
       "<path d=\"M25,125 L275,125\" stroke-width=\"3\" stroke=\"darkred\" stroke-linejoin=\"miter\" fill=\"none\" />\n",
       "<path d=\"M25,175 L275,175\" stroke-width=\"3\" stroke=\"darkred\" stroke-linejoin=\"miter\" fill=\"none\" />\n",
       "<path d=\"M25,225 L275,225\" stroke-width=\"3\" stroke=\"darkred\" stroke-linejoin=\"miter\" fill=\"none\" />\n",
       "<path d=\"M30,5 L270,5 L270,245 L30,245 Z\" stroke=\"black\" fill=\"gold\" stroke-linejoin=\"miter\" />\n",
       "<text x=\"150\" y=\"125\" font-size=\"10\" text-anchor=\"middle\">W1</text>\n",
       "<path d=\"M275,25 L325,25\" stroke=\"darkred\" stroke-width=\"3\" fill=\"none\" />\n",
       "<path d=\"M280,40 L289,40 L303,10 L294,10 L280,40 L289,40 Z\" stroke=\"black\" fill=\"gray\" stroke-linejoin=\"miter\" />\n",
       "<text x=\"297\" y=\"38\" font-size=\"7\" text-anchor=\"start\">Φ=px</text>\n",
       "<path d=\"M275,75 L325,75\" stroke=\"darkred\" stroke-width=\"3\" fill=\"none\" />\n",
       "<path d=\"M275,125 L325,125\" stroke=\"darkred\" stroke-width=\"3\" fill=\"none\" />\n",
       "<path d=\"M275,175 L325,175\" stroke=\"darkred\" stroke-width=\"3\" fill=\"none\" />\n",
       "<path d=\"M275,225 L325,225\" stroke=\"darkred\" stroke-width=\"3\" fill=\"none\" />\n",
       "<path d=\"M325,25 L575,25\" stroke-width=\"3\" stroke=\"darkred\" stroke-linejoin=\"miter\" fill=\"none\" />\n",
       "<path d=\"M325,75 L575,75\" stroke-width=\"3\" stroke=\"darkred\" stroke-linejoin=\"miter\" fill=\"none\" />\n",
       "<path d=\"M325,125 L575,125\" stroke-width=\"3\" stroke=\"darkred\" stroke-linejoin=\"miter\" fill=\"none\" />\n",
       "<path d=\"M325,175 L575,175\" stroke-width=\"3\" stroke=\"darkred\" stroke-linejoin=\"miter\" fill=\"none\" />\n",
       "<path d=\"M325,225 L575,225\" stroke-width=\"3\" stroke=\"darkred\" stroke-linejoin=\"miter\" fill=\"none\" />\n",
       "<path d=\"M330,5 L570,5 L570,245 L330,245 Z\" stroke=\"black\" fill=\"gold\" stroke-linejoin=\"miter\" />\n",
       "<text x=\"450\" y=\"125\" font-size=\"10\" text-anchor=\"middle\">W2</text>\n",
       "<path d=\"M575,25 L590,25\" stroke-width=\"3\" stroke=\"darkred\" stroke-linejoin=\"miter\" fill=\"none\" />\n",
       "<path d=\"M575,75 L590,75\" stroke-width=\"3\" stroke=\"darkred\" stroke-linejoin=\"miter\" fill=\"none\" />\n",
       "<path d=\"M575,125 L590,125\" stroke-width=\"3\" stroke=\"darkred\" stroke-linejoin=\"miter\" fill=\"none\" />\n",
       "<path d=\"M575,175 L590,175\" stroke-width=\"3\" stroke=\"darkred\" stroke-linejoin=\"miter\" fill=\"none\" />\n",
       "<path d=\"M575,225 L590,225\" stroke-width=\"3\" stroke=\"darkred\" stroke-linejoin=\"miter\" fill=\"none\" />\n",
       "<text x=\"600\" y=\"28\" font-size=\"6\" text-anchor=\"end\">0</text>\n",
       "<text x=\"600\" y=\"78\" font-size=\"6\" text-anchor=\"end\">1</text>\n",
       "<text x=\"600\" y=\"128\" font-size=\"6\" text-anchor=\"end\">2</text>\n",
       "<text x=\"600\" y=\"178\" font-size=\"6\" text-anchor=\"end\">3</text>\n",
       "<text x=\"600\" y=\"228\" font-size=\"6\" text-anchor=\"end\">4</text>\n",
       "<text x=\"0\" y=\"28\" font-size=\"6\" text-anchor=\"start\">0</text>\n",
       "<text x=\"0\" y=\"78\" font-size=\"6\" text-anchor=\"start\">1</text>\n",
       "<text x=\"0\" y=\"128\" font-size=\"6\" text-anchor=\"start\">2</text>\n",
       "<text x=\"0\" y=\"178\" font-size=\"6\" text-anchor=\"start\">3</text>\n",
       "<text x=\"0\" y=\"228\" font-size=\"6\" text-anchor=\"start\">4</text>\n",
       "</svg>"
      ],
      "text/plain": [
       "<drawsvg.drawing.Drawing at 0x1ebf611aaa0>"
      ]
     },
     "execution_count": 12,
     "metadata": {},
     "output_type": "execute_result"
    }
   ],
   "source": [
    "from perceval.simulators import Simulator\n",
    "from perceval.backends import SLOSBackend\n",
    "\n",
    "\"Haar unitary parameters\"\n",
    "# number of parameters used for the two universal interferometers (2*m**2 per interferometer)\n",
    "parameters = np.random.normal(size=4*m**2)\n",
    "\n",
    "px = pcvl.P(\"px\")\n",
    "c = pcvl.Unitary(pcvl.Matrix.random_unitary(m, parameters[:2 * m ** 2]), name=\"W1\")\\\n",
    "     // (0, pcvl.PS(px))\\\n",
    "     // pcvl.Unitary(pcvl.Matrix.random_unitary(m, parameters[2 * m ** 2:]), name=\"W2\")\n",
    "\n",
    "\n",
    "backend = pcvl.BackendFactory().get_backend(\"SLOS\")\n",
    "backend.set_circuit(pcvl.Unitary(pcvl.Matrix.random_unitary(m)))\n",
    "backend.preprocess([input_state])\n",
    "\n",
    "pcvl.pdisplay(c)"
   ]
  },
  {
   "cell_type": "code",
   "execution_count": null,
   "metadata": {},
   "outputs": [],
   "source": []
  },
  {
   "cell_type": "code",
   "execution_count": 13,
   "metadata": {},
   "outputs": [
    {
     "name": "stdout",
     "output_type": "stream",
     "text": [
      "Unitary parameters [-1.69383469  1.52440113  1.7605533   0.99674628  0.06242851  0.46484677\n",
      " -1.28876202  1.09676673 -0.06220301  0.86265537  0.0671795  -0.937845\n",
      "  0.0811497  -0.1269735   0.86807838  0.26306761  2.13033779  0.54923019\n",
      "  1.50095159 -1.4154509  -0.03702183  1.48038878  1.28821612  1.17073385\n",
      " -0.07658717  0.18806729 -1.40281873 -1.13330639 -0.12531687 -1.34946579\n",
      "  0.36107999  0.21305343  1.13643703 -0.61958393 -0.38672417  0.28774211\n",
      "  1.72761499 -0.4135092   0.7846303  -0.85204805  0.3599085  -0.61584219\n",
      " -0.54843186 -0.02932743  0.08541905  0.64305534  0.06484938  1.55857293\n",
      " -2.10148102 -1.91488396  1.86360667 -0.40965918  0.14701624 -0.61716341\n",
      " -0.05840522 -0.74257906  1.45448415 -0.11339153  0.39140774 -0.36431779\n",
      "  0.69151876  1.09492616  0.28206079  1.10179614]\n"
     ]
    }
   ],
   "source": [
    "# best_param = np.load('./seed='+str(random_seed)+' n_photon='+str(nphotons)+'.npy')\n",
    "# best_param = np.load('seed=5429 n_photon=4 range=0-1 ngrid 50.npy')\n",
    "best_param =best_param_from_string\n",
    "print(\"Unitary parameters\", best_param)\n",
    "\n"
   ]
  },
  {
   "cell_type": "code",
   "execution_count": 14,
   "metadata": {},
   "outputs": [],
   "source": [
    "def plot_solution(m, N, X, optim_params, lambda_random,label):\n",
    "    Y = []\n",
    "    U_1 = pcvl.Matrix.random_unitary(m, optim_params[:2 * m ** 2])\n",
    "    U_2 = pcvl.Matrix.random_unitary(m, optim_params[2 * m ** 2:])\n",
    "    px = pcvl.P(\"x\")\n",
    "    c = pcvl.Unitary(U_2) // (0, pcvl.PS(px)) // pcvl.Unitary(U_1)\n",
    "\n",
    "    for x in X:\n",
    "        px.set_value(np.pi * x/range_max)\n",
    "        # U = c.compute_unitary(use_symbolic=False)\n",
    "        # backend.U = U\n",
    "        backend.set_circuit(c)\n",
    "        f_theta = np.sum(np.multiply(backend.all_prob(input_state), lambda_random))\n",
    "        Y.append(f_theta)\n",
    "\n",
    "    print(Y[-1])\n",
    "    print(Y)\n",
    "    plt.plot(X, Y, label=label+\" Approximation with {} photons\".format(N))\n",
    "    return Y"
   ]
  },
  {
   "cell_type": "code",
   "execution_count": 15,
   "metadata": {},
   "outputs": [],
   "source": [
    "\n",
    "y_delta_real = [0.06746196231769255, 0.06800576281724055, 0.06830555588328785, 0.0683729563421027, 0.06822202018704612, 0.06786924457857198, 0.0673335678442269, 0.06663636947865034, 0.06579839430430277, 0.06483570960692026, 0.0637702454612888, 0.06262345719000306, 0.06141594181731853, 0.060167438069151466, 0.05889682637307902, 0.05762212885833915, 0.056360509355830625, 0.055128273398113097, 0.05394034509399791, 0.052808559197422195, 0.051745745455137604, 0.05076307007209877, 0.04986958011899898, 0.04907220353227019, 0.04837574911408293, 0.04778290653234647, 0.047294246320708576, 0.04690833383056649, 0.04662388996599195, 0.04643875773427897, 0.046349453941559655, 0.04635148685892864, 0.04643935622244307, 0.04660655323312261, 0.04684556055694944, 0.04714785232486825, 0.04750389413278624, 0.04790314304157314, 0.04833699401120009, 0.04879984787952198, 0.049282280883866034, 0.049775491160885414, 0.05027140017843818, 0.050762652735587194, 0.051242616962600226, 0.05170538432094985, 0.05214576960331353, 0.05255931093357357, 0.05294226976681713, 0.05329164943677623]\n",
    "y_omega_real = [37.71542570504385, 37.709314895542775, 37.70348943830425, 37.698006304378936, 37.69291228751592, 37.688244004162726, 37.68402789346536, 37.680280217268255, 37.677010537551176, 37.674234008348826, 37.67195923368416, 37.67018803275843, 37.66891568668433, 37.668130938486016, 37.66781599309911, 37.66794651737072, 37.66849164005939, 37.66941395183516, 37.67067272285098, 37.67223921787716, 37.67407339415577, 37.67613318587018, 37.678376825315794, 37.680762842900094, 37.6832500671426, 37.6857976246749, 37.6883649402406, 37.69091259664021, 37.69341237766407, 37.69583048141264, 37.6981340658122, 37.70029512667546, 37.702290497701576, 37.70410185047617, 37.70571569447128, 37.707123377045406, 37.70832108344348, 37.70930983679688, 37.710092925195504, 37.710671090749784, 37.711048644998606, 37.71123217269648, 37.711230470971245, 37.71105454932406, 37.71071762962938, 37.71023514613498, 37.709624745461944, 37.70890628660469, 37.708101840930915, 37.707235190613275]\n",
    "# y_delta_real = [0.06270473368439487, 0.06440608100297197, 0.06579860227220188, 0.06688397458981586, 0.06766697173651122, 0.06815699584387097, 0.06836679035269275, 0.06831244001298876, 0.06801337088398586, 0.0674923503341255, 0.06677548704106373, 0.06588997707084021, 0.06485645809353077, 0.06370215749208916, 0.06245420338757911, 0.06113854911865885, 0.05977997324158107, 0.05840207953019294, 0.05702729697593621, 0.055676879787846904, 0.054370858781088535, 0.0531254299565318, 0.051956470713585064, 0.05087876786781341, 0.04990420770296036, 0.049041775970947846, 0.048297557891876154, 0.04767473815402402, 0.047173600913848604, 0.046792125793543686, 0.04652866942406928, 0.04637970024674231, 0.0463401854166804, 0.04640371167246847, 0.04656248533615875, 0.046807332313270736, 0.04712769809279125, 0.04751164774717438, 0.04794586593234153, 0.04842011752856758, 0.0489263068279313, 0.04945259983437081, 0.04998813857634616, 0.05052305513057222, 0.0510484716220187, 0.05155650022391017, 0.052040243157726006, 0.05249379269320044, 0.05291223114832256, 0.05329164943677623]\n",
    "# y_omega_real = [37.741262109883955, 37.73422129062033, 37.72716221474015, 37.720188592549555, 37.71340287506769, 37.70689923314973, 37.70075790762878, 37.69504520931588, 37.68981351900003, 37.685101287448155, 37.68093303540512, 37.677321797595106, 37.674285674349626, 37.671836336991255, 37.6699759187517, 37.66869760395643, 37.66798562802463, 37.66781527746926, 37.668152889896994, 37.668955854008274, 37.67017288898342, 37.67176248630506, 37.67367938189226, 37.67587025186054, 37.67828218036159, 37.68086265958334, 37.68355958974987, 37.6863212791215, 37.689096443994735, 37.691838096219435, 37.694510234405996, 37.69706894488453, 37.699475666732795, 37.70169846080984, 37.70371200975599, 37.70549761799283, 37.70704321172325, 37.708343338931414, 37.70939916938274, 37.71021438661233, 37.71079057842195, 37.71113389744162, 37.71125353326506, 37.71116170363727, 37.7108736544546, 37.710407659764705, 37.70978502176653, 37.70903007081035, 37.70817016539776, 37.707235190613275]\n"
   ]
  },
  {
   "cell_type": "code",
   "execution_count": 16,
   "metadata": {},
   "outputs": [
    {
     "data": {
      "text/plain": [
       "Text(0, 0.5, 'del_t')"
      ]
     },
     "execution_count": 16,
     "metadata": {},
     "output_type": "execute_result"
    },
    {
     "data": {
      "image/png": "[encoded data removed]",
      "text/plain": [
       "<Figure size 640x480 with 1 Axes>"
      ]
     },
     "metadata": {},
     "output_type": "display_data"
    }
   ],
   "source": [
    "plt.figure()\n",
    "\n",
    "plt.scatter(X,y_delta_real,facecolors='none', edgecolors='r', label='True - del_t')\n",
    "# plt.scatter(X,pred_train_X, color='red',marker=\"x\",s=4,label='Prediction - del_t')\n",
    "plt.xlabel('t',fontsize=16)\n",
    "plt.ylabel('del_t',fontsize=16)"
   ]
  },
  {
   "cell_type": "code",
   "execution_count": 17,
   "metadata": {},
   "outputs": [
    {
     "ename": "AssertionError",
     "evalue": "parameters has not the right size: should be 50, and is 14",
     "output_type": "error",
     "traceback": [
      "\u001b[1;31m---------------------------------------------------------------------------\u001b[0m",
      "\u001b[1;31mAssertionError\u001b[0m                            Traceback (most recent call last)",
      "Cell \u001b[1;32mIn[17], line 8\u001b[0m\n\u001b[0;32m      5\u001b[0m mpl\u001b[39m.\u001b[39mrcParams[\u001b[39m'\u001b[39m\u001b[39mfigure.figsize\u001b[39m\u001b[39m'\u001b[39m] \u001b[39m=\u001b[39m [\u001b[39m2\u001b[39m \u001b[39m*\u001b[39m value \u001b[39mfor\u001b[39;00m value \u001b[39min\u001b[39;00m default_figsize]\n\u001b[0;32m      7\u001b[0m \u001b[39m# delta_pred = plot_solution(m, N, X, res.x, lambda_random,'delta')\u001b[39;00m\n\u001b[1;32m----> 8\u001b[0m delta_pred \u001b[39m=\u001b[39m plot_solution(m, N, X, best_param, lambda_random,\u001b[39m'\u001b[39;49m\u001b[39mdelta\u001b[39;49m\u001b[39m'\u001b[39;49m)\n\u001b[0;32m     10\u001b[0m plt\u001b[39m.\u001b[39mplot(X, y_delta_real, \u001b[39m'\u001b[39m\u001b[39mr\u001b[39m\u001b[39m'\u001b[39m, label\u001b[39m=\u001b[39m\u001b[39m'\u001b[39m\u001b[39mAnalytical solution _delta\u001b[39m\u001b[39m'\u001b[39m)\n\u001b[0;32m     11\u001b[0m plt\u001b[39m.\u001b[39mlegend()\n",
      "Cell \u001b[1;32mIn[14], line 4\u001b[0m, in \u001b[0;36mplot_solution\u001b[1;34m(m, N, X, optim_params, lambda_random, label)\u001b[0m\n\u001b[0;32m      2\u001b[0m Y \u001b[39m=\u001b[39m []\n\u001b[0;32m      3\u001b[0m U_1 \u001b[39m=\u001b[39m pcvl\u001b[39m.\u001b[39mMatrix\u001b[39m.\u001b[39mrandom_unitary(m, optim_params[:\u001b[39m2\u001b[39m \u001b[39m*\u001b[39m m \u001b[39m*\u001b[39m\u001b[39m*\u001b[39m \u001b[39m2\u001b[39m])\n\u001b[1;32m----> 4\u001b[0m U_2 \u001b[39m=\u001b[39m pcvl\u001b[39m.\u001b[39;49mMatrix\u001b[39m.\u001b[39;49mrandom_unitary(m, optim_params[\u001b[39m2\u001b[39;49m \u001b[39m*\u001b[39;49m m \u001b[39m*\u001b[39;49m\u001b[39m*\u001b[39;49m \u001b[39m2\u001b[39;49m:])\n\u001b[0;32m      5\u001b[0m px \u001b[39m=\u001b[39m pcvl\u001b[39m.\u001b[39mP(\u001b[39m\"\u001b[39m\u001b[39mx\u001b[39m\u001b[39m\"\u001b[39m)\n\u001b[0;32m      6\u001b[0m c \u001b[39m=\u001b[39m pcvl\u001b[39m.\u001b[39mUnitary(U_2) \u001b[39m/\u001b[39m\u001b[39m/\u001b[39m (\u001b[39m0\u001b[39m, pcvl\u001b[39m.\u001b[39mPS(px)) \u001b[39m/\u001b[39m\u001b[39m/\u001b[39m pcvl\u001b[39m.\u001b[39mUnitary(U_1)\n",
      "File \u001b[1;32mc:\\Users\\acade\\anaconda3\\envs\\new_perceval\\lib\\site-packages\\perceval\\utils\\matrix.py:148\u001b[0m, in \u001b[0;36mMatrix.random_unitary\u001b[1;34m(n, parameters)\u001b[0m\n\u001b[0;32m    141\u001b[0m \u001b[39m\u001b[39m\u001b[39mr\u001b[39m\u001b[39m\"\"\"static method generating a random unitary matrix\u001b[39;00m\n\u001b[0;32m    142\u001b[0m \n\u001b[0;32m    143\u001b[0m \u001b[39m:param n: size of the Matrix\u001b[39;00m\n\u001b[0;32m    144\u001b[0m \u001b[39m:param parameters: :math:`2n^2` random parameters to use a generator\u001b[39;00m\n\u001b[0;32m    145\u001b[0m \u001b[39m:return: a numeric Matrix\u001b[39;00m\n\u001b[0;32m    146\u001b[0m \u001b[39m\"\"\"\u001b[39;00m\n\u001b[0;32m    147\u001b[0m \u001b[39mif\u001b[39;00m parameters \u001b[39mis\u001b[39;00m \u001b[39mnot\u001b[39;00m \u001b[39mNone\u001b[39;00m:\n\u001b[1;32m--> 148\u001b[0m     \u001b[39massert\u001b[39;00m \u001b[39mlen\u001b[39m(parameters) \u001b[39m==\u001b[39m \u001b[39m2\u001b[39m\u001b[39m*\u001b[39mn\u001b[39m*\u001b[39m\u001b[39m*\u001b[39m\u001b[39m2\u001b[39m, \u001b[39m\"\u001b[39m\u001b[39mparameters has not the right size: should be \u001b[39m\u001b[39m%d\u001b[39;00m\u001b[39m, and is \u001b[39m\u001b[39m%d\u001b[39;00m\u001b[39m\"\u001b[39m \u001b[39m%\u001b[39m (\n\u001b[0;32m    149\u001b[0m         \u001b[39m2\u001b[39m\u001b[39m*\u001b[39mn\u001b[39m*\u001b[39m\u001b[39m*\u001b[39m\u001b[39m2\u001b[39m, \u001b[39mlen\u001b[39m(parameters)\n\u001b[0;32m    150\u001b[0m     )\n\u001b[0;32m    151\u001b[0m     a \u001b[39m=\u001b[39m np\u001b[39m.\u001b[39mreshape(parameters[:n\u001b[39m*\u001b[39m\u001b[39m*\u001b[39m\u001b[39m2\u001b[39m], (n, n))\n\u001b[0;32m    152\u001b[0m     b \u001b[39m=\u001b[39m np\u001b[39m.\u001b[39mreshape(parameters[n\u001b[39m*\u001b[39m\u001b[39m*\u001b[39m\u001b[39m2\u001b[39m:], (n, n))\n",
      "\u001b[1;31mAssertionError\u001b[0m: parameters has not the right size: should be 50, and is 14"
     ]
    }
   ],
   "source": [
    "# X = np.linspace(range_min, range_max, 50)\n",
    "\n",
    "# Change the plot size\n",
    "default_figsize = mpl.rcParamsDefault['figure.figsize']\n",
    "mpl.rcParams['figure.figsize'] = [2 * value for value in default_figsize]\n",
    "\n",
    "# delta_pred = plot_solution(m, N, X, res.x, lambda_random,'delta')\n",
    "delta_pred = plot_solution(m, N, X, best_param, lambda_random,'delta')\n",
    "\n",
    "plt.plot(X, y_delta_real, 'r', label='Analytical solution _delta')\n",
    "plt.legend()\n",
    "\n",
    "plt.figure()\n",
    "\n",
    "delta_pred = np.array(delta_pred)\n",
    "delta_prime = (delta_pred[2:] - delta_pred[:-2])/(2*dx)\n",
    "omega = delta_prime+ws\n",
    "plt.plot(X[1:-1], omega, 'b', label='prediction solution _omega')\n",
    "plt.plot(X, y_omega_real, 'r', label='Analytical solution _omega')\n",
    "# plt.legend()\n",
    "\n",
    "print(omega[-1])\n",
    "print(omega.tolist())\n",
    "plt.show()"
   ]
  },
  {
   "cell_type": "code",
   "execution_count": null,
   "metadata": {},
   "outputs": [
    {
     "ename": "NameError",
     "evalue": "name 'loss_evolution' is not defined",
     "output_type": "error",
     "traceback": [
      "\u001b[1;31m---------------------------------------------------------------------------\u001b[0m",
      "\u001b[1;31mNameError\u001b[0m                                 Traceback (most recent call last)",
      "Cell \u001b[1;32mIn[18], line 1\u001b[0m\n\u001b[1;32m----> 1\u001b[0m plt\u001b[39m.\u001b[39mplot([v[\u001b[39m0\u001b[39m] \u001b[39mfor\u001b[39;00m v \u001b[39min\u001b[39;00m loss_evolution])\n\u001b[0;32m      2\u001b[0m plt\u001b[39m.\u001b[39myscale(\u001b[39m\"\u001b[39m\u001b[39mlog\u001b[39m\u001b[39m\"\u001b[39m)\n\u001b[0;32m      3\u001b[0m plt\u001b[39m.\u001b[39mxlabel(\u001b[39m\"\u001b[39m\u001b[39mNumber of epochs\u001b[39m\u001b[39m\"\u001b[39m)\n",
      "\u001b[1;31mNameError\u001b[0m: name 'loss_evolution' is not defined"
     ]
    }
   ],
   "source": [
    "\n",
    "plt.plot([v[0] for v in loss_evolution])\n",
    "plt.yscale(\"log\")\n",
    "plt.xlabel(\"Number of epochs\")\n",
    "plt.ylabel(\"Loss function value\")"
   ]
  }
 ],
 "metadata": {
  "kernelspec": {
   "display_name": "Python 3",
   "language": "python",
   "name": "python3"
  },
  "language_info": {
   "codemirror_mode": {
    "name": "ipython",
    "version": 3
   },
   "file_extension": ".py",
   "mimetype": "text/x-python",
   "name": "python",
   "nbconvert_exporter": "python",
   "pygments_lexer": "ipython3",
   "version": "3.10.12"
  },
  "orig_nbformat": 4
 },
 "nbformat": 4,
 "nbformat_minor": 2
}
