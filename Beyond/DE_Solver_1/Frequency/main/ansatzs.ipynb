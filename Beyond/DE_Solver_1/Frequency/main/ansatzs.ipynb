{
 "cells": [
  {
   "cell_type": "code",
   "execution_count": 1,
   "metadata": {},
   "outputs": [],
   "source": [
    "import pennylane as qml\n",
    "from pennylane import numpy as qnp"
   ]
  },
  {
   "cell_type": "code",
   "execution_count": 2,
   "metadata": {},
   "outputs": [],
   "source": [
    "# Number of qubits and layers\n",
    "num_wires = 4\n",
    "num_layers = 2"
   ]
  },
  {
   "cell_type": "code",
   "execution_count": 3,
   "metadata": {},
   "outputs": [],
   "source": [
    "dev = qml.device(\"default.qubit\", wires=num_wires)\n"
   ]
  },
  {
   "cell_type": "code",
   "execution_count": 4,
   "metadata": {},
   "outputs": [],
   "source": [
    "@qml.qnode(dev)\n",
    "def quantum_model(params):\n",
    "    # for i in range(num_wires):\n",
    "    #     qml.Hadamard(wires=i)\n",
    "\n",
    "    qml.StronglyEntanglingLayers(weights=params, wires=range(num_wires))\n",
    "    qml.StronglyEntanglingLayers(weights=params, wires=range(num_wires), imprimitive=qml.ops.CZ)\n",
    "    # qml.StronglyEntanglingLayers(weights=params, wires=range(num_wires), ranges=[2, 3], imprimitive=qml.ops.CZ)\n",
    "\n",
    "    \n",
    "    return qml.probs(wires=range(num_wires))\n",
    "\n",
    "\n"
   ]
  },
  {
   "cell_type": "code",
   "execution_count": 5,
   "metadata": {},
   "outputs": [
    {
     "name": "stdout",
     "output_type": "stream",
     "text": [
      "[[[0.71057357 0.77621081 0.76538924]\n",
      "  [0.72051125 0.41137903 0.32160405]\n",
      "  [0.90629772 0.64285325 0.2766322 ]\n",
      "  [0.76823308 0.11551333 0.36907921]]\n",
      "\n",
      " [[0.99386255 0.55425412 0.75601916]\n",
      "  [0.11278393 0.35506369 0.13033963]\n",
      "  [0.39912154 0.79066149 0.47446638]\n",
      "  [0.82703607 0.07259491 0.63490905]]]\n",
      "[0.29921804 0.04542749 0.18240868 0.0058925  0.02391837 0.0012155\n",
      " 0.10680671 0.00371639 0.12981903 0.00659569 0.03822193 0.00670397\n",
      " 0.08312951 0.06027082 0.00379868 0.00285668]\n"
     ]
    }
   ],
   "source": [
    "import numpy as np\n",
    "\n",
    "\n",
    "\n",
    "# Generate random initial parameters\n",
    "shape = qml.StronglyEntanglingLayers.shape(n_layers=num_layers, n_wires=num_wires)\n",
    "weights = qnp.random.random(size=shape,requires_grad=True)\n",
    "initial_params = weights\n",
    "print(initial_params)\n",
    "print(quantum_model(initial_params))\n"
   ]
  },
  {
   "cell_type": "code",
   "execution_count": 6,
   "metadata": {},
   "outputs": [],
   "source": [
    "def objective_cost(params, target_probs):\n",
    "    predicted_probs = quantum_model(params)\n",
    "    loss= qml.math.sum(qml.math.abs(predicted_probs - target_probs)**2)\n",
    "    return loss"
   ]
  },
  {
   "cell_type": "code",
   "execution_count": 7,
   "metadata": {},
   "outputs": [
    {
     "name": "stdout",
     "output_type": "stream",
     "text": [
      "step:  0 cost:  0.14201131747084153\n",
      "step:  10 cost:  0.11693393554179493\n",
      "step:  20 cost:  0.10805512058487056\n",
      "step:  30 cost:  0.1019006520550889\n",
      "step:  40 cost:  0.09661447724486966\n",
      "step:  50 cost:  0.09175759663966568\n",
      "step:  60 cost:  0.08717256284760685\n",
      "step:  70 cost:  0.08272803027356039\n",
      "step:  80 cost:  0.07824720822340414\n",
      "step:  90 cost:  0.07350570291099012\n",
      "step:  100 cost:  0.06827245315378763\n",
      "step:  110 cost:  0.06239657270663858\n",
      "step:  120 cost:  0.055926816301384755\n",
      "step:  130 cost:  0.04918175021539445\n",
      "step:  140 cost:  0.04266067903073724\n",
      "step:  150 cost:  0.03682415266929272\n",
      "step:  160 cost:  0.03192675187930741\n",
      "step:  170 cost:  0.02800320855941573\n",
      "step:  180 cost:  0.024945971404771818\n",
      "step:  190 cost:  0.022588679632611616\n",
      "step:  200 cost:  0.020761896712340237\n",
      "step:  210 cost:  0.01932057463485301\n",
      "step:  220 cost:  0.01815217237631485\n",
      "step:  230 cost:  0.017174542907688356\n",
      "step:  240 cost:  0.016329994589126172\n",
      "step:  250 cost:  0.015578975792913079\n",
      "step:  260 cost:  0.014894765178624479\n",
      "step:  270 cost:  0.014259462320654484\n",
      "step:  280 cost:  0.01366113270893125\n",
      "step:  290 cost:  0.013091845127410079\n",
      "step:  300 cost:  0.01254635283719806\n",
      "step:  310 cost:  0.012021220446096069\n",
      "step:  320 cost:  0.011514250069782165\n",
      "step:  330 cost:  0.011024102901773775\n",
      "step:  340 cost:  0.010550044568831058\n",
      "step:  350 cost:  0.01009176635405909\n",
      "step:  360 cost:  0.009649251549795651\n",
      "step:  370 cost:  0.009222668524895594\n",
      "step:  380 cost:  0.008812280766394686\n",
      "step:  390 cost:  0.008418370006853797\n",
      "step:  400 cost:  0.008041172126335143\n",
      "step:  410 cost:  0.007680827224938656\n",
      "step:  420 cost:  0.007337345470112207\n",
      "step:  430 cost:  0.007010589453074882\n",
      "step:  440 cost:  0.0067002723271555225\n",
      "step:  450 cost:  0.006405969451144236\n",
      "step:  460 cost:  0.006127140053094582\n",
      "step:  470 cost:  0.005863154834366965\n",
      "step:  480 cost:  0.005613325517557922\n",
      "step:  490 cost:  0.005376932990399686\n",
      "step:  500 cost:  0.005153251683198339\n",
      "step:  510 cost:  0.004941568887152393\n",
      "step:  520 cost:  0.004741198669058991\n",
      "step:  530 cost:  0.0045514907430213416\n",
      "step:  540 cost:  0.004371835086879426\n",
      "step:  550 cost:  0.004201663269914316\n",
      "step:  560 cost:  0.004040447452949923\n",
      "step:  570 cost:  0.003887697903787951\n",
      "step:  580 cost:  0.003742959701487439\n",
      "step:  590 cost:  0.00360580912627755\n",
      "step:  600 cost:  0.0034758500738679516\n",
      "step:  610 cost:  0.0033527107051888917\n",
      "step:  620 cost:  0.0032360404470830736\n",
      "step:  630 cost:  0.003125507392731351\n",
      "step:  640 cost:  0.0030207961069465966\n",
      "step:  650 cost:  0.0029216058149729124\n",
      "step:  660 cost:  0.0028276489388894275\n",
      "step:  670 cost:  0.0027386499390621437\n",
      "step:  680 cost:  0.002654344416355742\n",
      "step:  690 cost:  0.002574478431992336\n",
      "step:  700 cost:  0.002498808004726918\n",
      "step:  710 cost:  0.002427098748604917\n",
      "step:  720 cost:  0.0023591256185118616\n",
      "step:  730 cost:  0.0022946727347569725\n",
      "step:  740 cost:  0.002233533261907881\n",
      "step:  750 cost:  0.002175509320927166\n",
      "step:  760 cost:  0.002120411917299925\n",
      "step:  770 cost:  0.002068060871243295\n",
      "step:  780 cost:  0.002018284739220996\n",
      "step:  790 cost:  0.001970920718820086\n",
      "================ target  [0.07742677 0.03966332 0.06048717 0.12036749 0.00067236 0.01732171\n",
      " 0.09557133 0.1176712  0.01947857 0.08194187 0.12699954 0.02980806\n",
      " 0.02640639 0.01544202 0.03130348 0.1394387 ]\n",
      "================ predicted  [0.07495565 0.02000425 0.03654485 0.11265771 0.00868158 0.01593453\n",
      " 0.09445642 0.11099568 0.0256925  0.08583919 0.12437626 0.03734705\n",
      " 0.03766025 0.03799905 0.03727573 0.13957931]\n"
     ]
    }
   ],
   "source": [
    "num_steps = 800\n",
    "\n",
    "np.random.seed(100)\n",
    "\n",
    "# Optimization using gradient-based methods\n",
    "opt = qml.GradientDescentOptimizer(stepsize=0.1)\n",
    "params = initial_params  # Initial parameters\n",
    "\n",
    "# Create a random target probability distribution\n",
    "target_probs = qnp.random.rand(2**num_wires,requires_grad=False)\n",
    "target_probs /= np.sum(target_probs)  # Normalize to ensure it's a valid probability distribution\n",
    "\n",
    "\n",
    "target_probs = target_probs  # The target probability distribution\n",
    "\n",
    "for step in range(num_steps):\n",
    "    # print(params)\n",
    "    # params, cost = opt.step_and_cost(objective_cost, params,target_probs)\n",
    "    params, cost = opt.step_and_cost(lambda p: objective_cost(p, target_probs), params)\n",
    "    \n",
    "    if(step%10 == 0):\n",
    "        print('step: ',step,'cost: ',cost)\n",
    "\n",
    "\n",
    "\n",
    "print('================ target ',target_probs)\n",
    "print('================ predicted ',quantum_model(params))"
   ]
  }
 ],
 "metadata": {
  "kernelspec": {
   "display_name": "q1",
   "language": "python",
   "name": "python3"
  },
  "language_info": {
   "codemirror_mode": {
    "name": "ipython",
    "version": 3
   },
   "file_extension": ".py",
   "mimetype": "text/x-python",
   "name": "python",
   "nbconvert_exporter": "python",
   "pygments_lexer": "ipython3",
   "version": "3.11.4"
  },
  "orig_nbformat": 4
 },
 "nbformat": 4,
 "nbformat_minor": 2
}
